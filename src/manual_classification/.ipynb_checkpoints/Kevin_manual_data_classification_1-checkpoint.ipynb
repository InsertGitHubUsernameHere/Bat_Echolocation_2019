{
 "cells": [
  {
   "cell_type": "markdown",
   "metadata": {},
   "source": [
    "### The purpose of the manual classification code is to provide to the CNN model more images to work with. The CNN's accuracy will improve when it is fed with images that it hasn't processed already."
   ]
  },
  {
   "cell_type": "code",
   "execution_count": 1,
   "metadata": {},
   "outputs": [],
   "source": [
    "import imageio as iio\n",
    "import glob\n",
    "import pandas as pd\n",
    "import numpy as np\n",
    "from numpy.polynomial.polynomial import polyfit\n",
    "import matplotlib.pyplot as plt\n",
    "import statistics as stats\n",
    "import os"
   ]
  },
  {
   "cell_type": "markdown",
   "metadata": {},
   "source": [
    "Image processing functions:"
   ]
  },
  {
   "cell_type": "code",
   "execution_count": 2,
   "metadata": {},
   "outputs": [],
   "source": [
    "'''function for processing individual image pixel data'''\n",
    "def img_prc(file_path):\n",
    "    img = iio.imread(file_path)\n",
    "    rows = img.shape[0]\n",
    "    \n",
    "    # df to hold all pixel values of img\n",
    "    df1 = pd.DataFrame(columns=['p1','p2','p3','y'])\n",
    "    \n",
    "    # create dfs of pixel values of each row and concatenate each to df_1\n",
    "    for row in range(rows):\n",
    "        df2 = (pd.DataFrame(img[row], columns=['p1','p2','p3','opacity'])).drop(columns=['opacity'])\n",
    "        df2['y'] = row\n",
    "        \n",
    "        df1 = (pd.concat([df1, df2])).reset_index(drop=True)\n",
    "        \n",
    "    '''function for acquiring and storing in a df the x- and y-coordinates of blue dot midpoints'''\n",
    "    def mid_x_coord(df):\n",
    "        x = []\n",
    "        y = []\n",
    "        dfgx = df.groupby('x')\n",
    "        x_values = (df['x'].drop_duplicates()).reset_index(drop=True)\n",
    "        count = len(x_values)\n",
    "\n",
    "        # from each x group, get middle x values\n",
    "        for i in range(count):\n",
    "            x_coord = x_values[i]\n",
    "            dff = dfgx.get_group(x_coord)\n",
    "            median_y = stats.median(dff['y'])\n",
    "            x.append(x_coord)\n",
    "            y.append(median_y)\n",
    "\n",
    "        # replace df with current y values and new x values\n",
    "        df = pd.DataFrame({'x': x, 'y': y})\n",
    "        return df\n",
    "        \n",
    "    '''function for acquiring and storing in a df the y-coordinates of blue dot midpoints'''\n",
    "    def mid_y_coord(df, rows):\n",
    "        x = []\n",
    "        y = []\n",
    "        dfgy = df.groupby('y')\n",
    "\n",
    "        # obtain the 3rd y-coordinate from each group\n",
    "        for row in range(rows):\n",
    "            df1 = (dfgy.get_group(row)).reset_index(drop=True)\n",
    "\n",
    "            # filter out white pixel data\n",
    "            df2 = df1[df1['p1']!=255]\n",
    "\n",
    "            # check the number of rows of each df (a multiple of 5)\n",
    "            df2_obs = df2.shape[0]\n",
    "\n",
    "            # count multiples of 5 in each group\n",
    "            df2_mlt = int(df2_obs / 5)\n",
    "\n",
    "            # take median once for 5 observations, twice for 10 observations, three times for 15 observations, etc.\n",
    "            for i in range(df2_mlt):\n",
    "                df3 = df2.iloc[:5]\n",
    "                indices = df3.index.values\n",
    "                median_x = stats.median(indices)\n",
    "                x.append(median_x)\n",
    "                y.append(row)\n",
    "\n",
    "                # \"move\" df2 down 5 rows\n",
    "                df2 = df2.iloc[5:]\n",
    "\n",
    "        # replace df with obtained x and y values\n",
    "        df = (((pd.DataFrame({'x': x, 'y': y}))).sort_values(by=['x'])).reset_index(drop=True)\n",
    "\n",
    "        # reset y values to be read upward from botton\n",
    "        df['y'] = (df['y'].sub(199)).mul(-1)\n",
    "\n",
    "        return df\n",
    "        \n",
    "    # obtain x- and y- coordinates of the midpoint of each blue dot\n",
    "    df1 = mid_y_coord(df1, rows)\n",
    "    df1 = mid_x_coord(df1)\n",
    "    \n",
    "    # pass in df1 for slope processing\n",
    "    classification = classify(df1)\n",
    "    \n",
    "    return classification"
   ]
  },
  {
   "cell_type": "markdown",
   "metadata": {},
   "source": [
    "Pre- and post-classification functions:"
   ]
  },
  {
   "cell_type": "code",
   "execution_count": 3,
   "metadata": {},
   "outputs": [],
   "source": [
    "def img_bulk_prc(s):\n",
    "    df = pd.DataFrame({'files': s})\n",
    "    df['classification'] = df['files'].apply(lambda x: img_prc(x))\n",
    "    return df\n",
    "\n",
    "'''function for outputting the classification of the processed image data using calculated slope'''\n",
    "def classify(df):\n",
    "    # get slope from df\n",
    "    y_int, slope = polyfit(x=df['x'], y=df['y'], deg=1)\n",
    "    \n",
    "    if slope < 0:\n",
    "        return 'echolocation'\n",
    "    else:\n",
    "        return 'abnormal'\n",
    "    \n",
    "def start_classification(lst):\n",
    "    s = pd.Series(lst)\n",
    "    df = img_bulk_prc(s)\n",
    "    return df"
   ]
  },
  {
   "cell_type": "markdown",
   "metadata": {},
   "source": [
    "Example run of current code:"
   ]
  },
  {
   "cell_type": "code",
   "execution_count": 4,
   "metadata": {},
   "outputs": [],
   "source": [
    "os.getcwd()\n",
    "os.chdir('C:\\\\Users\\\\theot\\\\Desktop\\\\Uni Stuff\\\\CSC490\\\\Bat_Echolocation_2019')"
   ]
  },
  {
   "cell_type": "code",
   "execution_count": 5,
   "metadata": {},
   "outputs": [
    {
     "data": {
      "text/html": [
       "<div>\n",
       "<style scoped>\n",
       "    .dataframe tbody tr th:only-of-type {\n",
       "        vertical-align: middle;\n",
       "    }\n",
       "\n",
       "    .dataframe tbody tr th {\n",
       "        vertical-align: top;\n",
       "    }\n",
       "\n",
       "    .dataframe thead th {\n",
       "        text-align: right;\n",
       "    }\n",
       "</style>\n",
       "<table border=\"1\" class=\"dataframe\">\n",
       "  <thead>\n",
       "    <tr style=\"text-align: right;\">\n",
       "      <th></th>\n",
       "      <th>files</th>\n",
       "      <th>classification</th>\n",
       "    </tr>\n",
       "  </thead>\n",
       "  <tbody>\n",
       "    <tr>\n",
       "      <th>0</th>\n",
       "      <td>../Bat_Echolocation_2019/data/pulses/56110632....</td>\n",
       "      <td>echolocation</td>\n",
       "    </tr>\n",
       "    <tr>\n",
       "      <th>1</th>\n",
       "      <td>../Bat_Echolocation_2019/data/pulses/56110632....</td>\n",
       "      <td>echolocation</td>\n",
       "    </tr>\n",
       "    <tr>\n",
       "      <th>2</th>\n",
       "      <td>../Bat_Echolocation_2019/data/pulses/56110632....</td>\n",
       "      <td>echolocation</td>\n",
       "    </tr>\n",
       "    <tr>\n",
       "      <th>3</th>\n",
       "      <td>../Bat_Echolocation_2019/data/pulses/56110632....</td>\n",
       "      <td>echolocation</td>\n",
       "    </tr>\n",
       "    <tr>\n",
       "      <th>4</th>\n",
       "      <td>../Bat_Echolocation_2019/data/pulses/56110632....</td>\n",
       "      <td>echolocation</td>\n",
       "    </tr>\n",
       "  </tbody>\n",
       "</table>\n",
       "</div>"
      ],
      "text/plain": [
       "                                               files classification\n",
       "0  ../Bat_Echolocation_2019/data/pulses/56110632....   echolocation\n",
       "1  ../Bat_Echolocation_2019/data/pulses/56110632....   echolocation\n",
       "2  ../Bat_Echolocation_2019/data/pulses/56110632....   echolocation\n",
       "3  ../Bat_Echolocation_2019/data/pulses/56110632....   echolocation\n",
       "4  ../Bat_Echolocation_2019/data/pulses/56110632....   echolocation"
      ]
     },
     "execution_count": 5,
     "metadata": {},
     "output_type": "execute_result"
    }
   ],
   "source": [
    "lst = ['../Bat_Echolocation_2019/data/pulses/56110632.20#_0.png', \n",
    "       '../Bat_Echolocation_2019/data/pulses/56110632.20#_1.png', \n",
    "       '../Bat_Echolocation_2019/data/pulses/56110632.20#_2.png', \n",
    "       '../Bat_Echolocation_2019/data/pulses/56110632.20#_3.png', \n",
    "       '../Bat_Echolocation_2019/data/pulses/56110632.20#_4.png']\n",
    "df = start_classification(lst)\n",
    "df"
   ]
  }
 ],
 "metadata": {
  "kernelspec": {
   "display_name": "Python 3",
   "language": "python",
   "name": "python3"
  },
  "language_info": {
   "codemirror_mode": {
    "name": "ipython",
    "version": 3
   },
   "file_extension": ".py",
   "mimetype": "text/x-python",
   "name": "python",
   "nbconvert_exporter": "python",
   "pygments_lexer": "ipython3",
   "version": "3.6.8"
  }
 },
 "nbformat": 4,
 "nbformat_minor": 2
}
