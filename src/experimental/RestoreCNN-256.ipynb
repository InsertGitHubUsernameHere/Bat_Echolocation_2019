{
 "cells": [
  {
   "cell_type": "code",
   "execution_count": 7,
   "metadata": {},
   "outputs": [],
   "source": [
    "from keras.models import load_model\n",
    "from keras.preprocessing.image import img_to_array\n",
    "import numpy as np\n",
    "from PIL import Image\n",
    "from skimage.transform import resize\n",
    "\n",
    "\n",
    "#Input is an image-CNN runs prediction on image-Returns image prediction as a float\n",
    "def RestoreCNN(image):\n",
    "    imageheight=256 #Change to desired image height for resizing\n",
    "    imagewidth=256  #Change to desired image width for resizing\n",
    "    model = load_model('CNN256ep10.h5') #Load CNN model for predictions\n",
    "    imageresize=image.resize((imagewidth, imageheight)) #Resize image for desired CNN model\n",
    "    imagearray=img_to_array(imageresize) #Make image into an array\n",
    "    imagearray=np.expand_dims(imagearray, 0) #Add 4th dimension to array for CNN -> will get error otherwise\n",
    "    imagearray = imagearray.astype('float32') #Convert array so that its predictions are readable\n",
    "    imagearray /=255\n",
    "    prediction=model.predict(imagearray) #Run prediction on image-Returns list of float predictions\n",
    "    result=prediction[0]#Extract the prediction float from element 0\n",
    "    #Return value is a float that represents the classification: ~0 = abnormal,~1 = echolocation \n",
    "    return result\n",
    "    \n"
   ]
  }
 ],
 "metadata": {
  "kernelspec": {
   "display_name": "Python 3",
   "language": "python",
   "name": "python3"
  },
  "language_info": {
   "codemirror_mode": {
    "name": "ipython",
    "version": 3
   },
   "file_extension": ".py",
   "mimetype": "text/x-python",
   "name": "python",
   "nbconvert_exporter": "python",
   "pygments_lexer": "ipython3",
   "version": "3.6.2"
  }
 },
 "nbformat": 4,
 "nbformat_minor": 2
}
