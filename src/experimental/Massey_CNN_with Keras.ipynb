{
 "cells": [
  {
   "cell_type": "code",
   "execution_count": 1,
   "metadata": {},
   "outputs": [
    {
     "name": "stderr",
     "output_type": "stream",
     "text": [
      "Using TensorFlow backend.\n"
     ]
    },
    {
     "name": "stdout",
     "output_type": "stream",
     "text": [
      "Found 2110 images belonging to 2 classes.\n",
      "Found 567 images belonging to 2 classes.\n",
      "Epoch 1/5\n",
      "40/40 [==============================] - 990s 25s/step - loss: 1.2660 - acc: 0.9083 - val_loss: 1.0279 - val_acc: 0.9355\n",
      "Epoch 2/5\n",
      "40/40 [==============================] - 914s 23s/step - loss: 1.3075 - acc: 0.8901 - val_loss: 0.2566 - val_acc: 0.9317\n",
      "Epoch 3/5\n",
      "40/40 [==============================] - 907s 23s/step - loss: 0.3036 - acc: 0.9170 - val_loss: 0.2455 - val_acc: 0.9348\n",
      "Epoch 4/5\n",
      "40/40 [==============================] - 1732s 43s/step - loss: 0.3175 - acc: 0.9114 - val_loss: 0.2454 - val_acc: 0.9355\n",
      "Epoch 5/5\n",
      "40/40 [==============================] - 916s 23s/step - loss: 0.3023 - acc: 0.9180 - val_loss: 0.2480 - val_acc: 0.9343\n",
      "Found 4 images belonging to 1 classes.\n",
      "[[0.92084146]\n",
      " [0.9228174 ]\n",
      " [0.9287812 ]\n",
      " [0.9479505 ]]\n"
     ]
    }
   ],
   "source": [
    "import matplotlib.pyplot as plt\n",
    "from keras.models import Sequential\n",
    "from keras.layers import Dense, Conv2D, Flatten, Dropout, BatchNormalization, MaxPooling2D, Activation\n",
    "from keras.preprocessing.image import ImageDataGenerator\n",
    "from keras import optimizers\n",
    "from keras.callbacks import TensorBoard\n",
    "\n",
    "\n",
    "\n",
    "train_data = ImageDataGenerator(rotation_range=40,\n",
    "        width_shift_range=0.2,\n",
    "        height_shift_range=0.2,\n",
    "        rescale=1./255,\n",
    "        shear_range=0.2,\n",
    "        zoom_range=0.2,\n",
    "        horizontal_flip=True,\n",
    "        fill_mode='nearest')\n",
    "test_data = ImageDataGenerator(rotation_range=40,\n",
    "        width_shift_range=0.2,\n",
    "        height_shift_range=0.2,\n",
    "        rescale=1./255,\n",
    "        shear_range=0.2,\n",
    "        zoom_range=0.2,\n",
    "        horizontal_flip=True,\n",
    "        fill_mode='nearest')\n",
    "tensorboard = TensorBoard(log_dir='./Graph', histogram_freq=0, write_graph=True, write_images=True)\n",
    "\n",
    "train_generator = train_data.flow_from_directory('sorted/train',batch_size=45,class_mode='binary', target_size=(200, 300))\n",
    "test_generator = test_data.flow_from_directory('sorted/test',batch_size=16,class_mode='binary', target_size=(200, 300))\n",
    "\n",
    "model = Sequential()\n",
    "model.add(Conv2D(64, (4, 4), input_shape=(200, 300, 3)))\n",
    "model.add(Activation('relu'))\n",
    "model.add(Conv2D(32, (2, 2)))\n",
    "model.add(Activation('relu'))\n",
    "model.add(MaxPooling2D(pool_size=(2, 2)))\n",
    "model.add(Flatten())\n",
    "model.add(Dense(128, activation='relu'))\n",
    "model.add(Dropout(0.5))\n",
    "model.add(Dense(1, activation='sigmoid'))\n",
    "\n",
    "adam = optimizers.adam(lr=0.0001)\n",
    "model.compile(loss='binary_crossentropy', optimizer=adam, metrics=['accuracy'])\n",
    "model.fit_generator(\n",
    "        train_generator,\n",
    "        steps_per_epoch=2000 // 50,\n",
    "        epochs=5,\n",
    "        validation_data=test_generator,\n",
    "        validation_steps=800 // 16,\n",
    "        callbacks=[tensorboard])\n",
    "\n",
    "model.save('CNN.h5')\n",
    "\n",
    "test_data = ImageDataGenerator(rotation_range=40,\n",
    "        width_shift_range=0.2,\n",
    "        height_shift_range=0.2,\n",
    "        rescale=1./255,\n",
    "        shear_range=0.2,\n",
    "        zoom_range=0.2,\n",
    "        horizontal_flip=True,\n",
    "        fill_mode='nearest')\n",
    "\n",
    "test_generator = test_data.flow_from_directory('sorted/predict',batch_size=1,class_mode='binary', target_size=(200, 300))\n",
    "\n",
    "predict = model.predict_generator(test_generator,steps = len(test_generator.filenames))\n",
    "\n",
    "print(predict)\n",
    "\n",
    "\n",
    "\n"
   ]
  },
  {
   "cell_type": "code",
   "execution_count": null,
   "metadata": {},
   "outputs": [],
   "source": [
    "!tensorboard --logdir ./Graph"
   ]
  },
  {
   "cell_type": "code",
   "execution_count": 3,
   "metadata": {},
   "outputs": [
    {
     "name": "stdout",
     "output_type": "stream",
     "text": [
      "Found 4 images belonging to 1 classes.\n",
      "[[1.]\n",
      " [1.]\n",
      " [1.]\n",
      " [1.]]\n"
     ]
    }
   ],
   "source": [
    "from keras.models import load_model\n",
    "\n",
    "\n",
    "model = load_model('CNN.h5')\n",
    "\n",
    "test_data = ImageDataGenerator()\n",
    "\n",
    "test_generator = test_data.flow_from_directory('sorted/predict',batch_size=1,class_mode='binary', target_size=(200, 300))\n",
    "\n",
    "predict = model.predict_generator(test_generator,steps = len(test_generator.filenames))\n",
    "\n",
    "print(predict)\n"
   ]
  }
 ],
 "metadata": {
  "kernelspec": {
   "display_name": "Python 3",
   "language": "python",
   "name": "python3"
  },
  "language_info": {
   "codemirror_mode": {
    "name": "ipython",
    "version": 3
   },
   "file_extension": ".py",
   "mimetype": "text/x-python",
   "name": "python",
   "nbconvert_exporter": "python",
   "pygments_lexer": "ipython3",
   "version": "3.6.2"
  }
 },
 "nbformat": 4,
 "nbformat_minor": 2
}
