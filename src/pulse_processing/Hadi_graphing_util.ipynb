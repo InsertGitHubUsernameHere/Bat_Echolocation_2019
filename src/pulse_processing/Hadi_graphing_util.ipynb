{
 "cells": [
  {
   "cell_type": "code",
   "execution_count": 11,
   "metadata": {},
   "outputs": [
    {
     "name": "stdout",
     "output_type": "stream",
     "text": [
      "{'date': '        ', 'loc': '', 'species': ['NYHU'], 'spec': 'SD1 Mod1', 'note1': 'V4062g', 'note2': '', 'divratio': 8, 'timestamp': '2015-07-17 21:14:40.547375', 'id': '', 'gps': ''}\n"
     ]
    }
   ],
   "source": [
    "import json\n",
    "\n",
    "def load_metadata (meta):\n",
    "    meta = meta.replace(\"'\", '\"')\n",
    "    return json.loads(meta)\n",
    "\n",
    "x = '{\"date\": \"        \", \"loc\": \"\", \"species\": [\"NYHU\"], \"spec\": \"SD1 Mod1\", \"note1\": \"V4062g\", \"note2\": \"\", \"divratio\": 8, \"timestamp\": \"2015-07-17 21:14:40.547375\", \"id\": \"\", \"gps\": \"\"}'\n",
    "print (load_metadata(x))"
   ]
  },
  {
   "cell_type": "code",
   "execution_count": null,
   "metadata": {},
   "outputs": [],
   "source": []
  }
 ],
 "metadata": {
  "kernelspec": {
   "display_name": "Python 3",
   "language": "python",
   "name": "python3"
  },
  "language_info": {
   "codemirror_mode": {
    "name": "ipython",
    "version": 3
   },
   "file_extension": ".py",
   "mimetype": "text/x-python",
   "name": "python",
   "nbconvert_exporter": "python",
   "pygments_lexer": "ipython3",
   "version": "3.6.5"
  }
 },
 "nbformat": 4,
 "nbformat_minor": 2
}
