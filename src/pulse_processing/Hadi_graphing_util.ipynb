{
 "cells": [
  {
   "cell_type": "code",
   "execution_count": 9,
   "metadata": {},
   "outputs": [
    {
     "data": {
      "text/html": [
       "<iframe id=\"igraph\" scrolling=\"no\" style=\"border:none;\" seamless=\"seamless\" src=\"https://plot.ly/~souhad/49.embed\" height=\"525px\" width=\"100%\"></iframe>"
      ],
      "text/plain": [
       "<plotly.tools.PlotlyDisplay object>"
      ]
     },
     "execution_count": 9,
     "metadata": {},
     "output_type": "execute_result"
    }
   ],
   "source": [
    "import json\n",
    "import random\n",
    "import plotly.plotly as py\n",
    "import plotly.graph_objs as go\n",
    "\n",
    "def load_metadata (meta):\n",
    "    meta = meta.replace(\"'\", '\"')\n",
    "    return json.loads(meta)\n",
    "\n",
    "# Latitude, longitude\n",
    "def get_lat_long (data):\n",
    "    return random.uniform(33.824, 36.35), random.uniform(-84, -75)\n",
    "\n",
    "def get_timestamp (data):\n",
    "    return random.randint(1, 366)\n",
    "\n",
    "x = '{\"date\": \"        \", \"loc\": \"\", \"species\": [\"NYHU\"], \"spec\": \"SD1 Mod1\", \"note1\": \"V4062g\", \"note2\": \"\", \"divratio\": 8, \"timestamp\": \"2015-07-17 21:14:40.547375\", \"id\": \"\", \"gps\": \"\"}'\n",
    "\n",
    "gps = list()\n",
    "\n",
    "for i in range(100):\n",
    "    gps.append([get_lat_long(0), get_timestamp(0))\n",
    "    \n",
    "data = [go.Scattergeo(\n",
    "    locationmode = 'USA-states',\n",
    "    lon = [p[0][1] for p in gps],\n",
    "    lat = [p[0][0] for p in gps],\n",
    "    mode = 'markers',\n",
    ")]\n",
    "\n",
    "layout = dict(\n",
    "        geo = dict(\n",
    "            scope='usa',\n",
    "            projection=dict( type='albers usa' ),\n",
    "            showland = True,\n",
    "            landcolor = \"rgb(250, 250, 250)\",\n",
    "            subunitcolor = \"rgb(217, 217, 217)\",\n",
    "            countrycolor = \"rgb(217, 217, 217)\",\n",
    "            countrywidth = 0.5,\n",
    "            subunitwidth = 0.5        \n",
    "        ),\n",
    "    )\n",
    "\n",
    "fig = go.Figure(data=data, layout = layout )\n",
    "py.iplot(fig, filename=\"map_test\")"
   ]
  },
  {
   "cell_type": "code",
   "execution_count": null,
   "metadata": {},
   "outputs": [],
   "source": []
  }
 ],
 "metadata": {
  "kernelspec": {
   "display_name": "Python 3",
   "language": "python",
   "name": "python3"
  },
  "language_info": {
   "codemirror_mode": {
    "name": "ipython",
    "version": 3
   },
   "file_extension": ".py",
   "mimetype": "text/x-python",
   "name": "python",
   "nbconvert_exporter": "python",
   "pygments_lexer": "ipython3",
   "version": "3.6.5"
  }
 },
 "nbformat": 4,
 "nbformat_minor": 2
}
