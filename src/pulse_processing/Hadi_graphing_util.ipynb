{
 "cells": [
  {
   "cell_type": "code",
   "execution_count": 224,
   "metadata": {},
   "outputs": [
    {
     "name": "stdout",
     "output_type": "stream",
     "text": [
      "['06/01/2015', '06/02/2015', '06/03/2015', '06/05/2015', '06/06/2015', '06/07/2015', '06/08/2015', '06/09/2015', '06/12/2015', '06/13/2015', '06/14/2015', '06/15/2015', '06/17/2015', '06/18/2015', '06/19/2015', '06/20/2015', '06/21/2015', '06/22/2015', '06/23/2015', '06/24/2015', '06/25/2015', '06/26/2015', '06/27/2015', '06/30/2015', '07/01/2015', '07/03/2015', '07/05/2015', '07/06/2015', '07/08/2015', '07/09/2015', '07/10/2015', '07/11/2015', '07/12/2015', '07/14/2015', '07/15/2015', '07/16/2015', '07/17/2015', '07/18/2015', '06/11/2756']\n"
     ]
    }
   ],
   "source": [
    "import json\n",
    "import random\n",
    "import plotly\n",
    "import plotly.plotly as py\n",
    "import plotly.graph_objs as go\n",
    "import glob\n",
    "import datetime\n",
    "import operator\n",
    "\n",
    "\n",
    "def load_metadata (datadir):\n",
    "    filenames = glob.glob(datadir + '/*', recursive=False)\n",
    "    filenames = [file for file in filenames if not file.endswith(\"png\")]\n",
    "    \n",
    "    meta = list()\n",
    "    for file in filenames:\n",
    "        f = open(file)\n",
    "        \n",
    "        m = json.loads(f.read().replace(\"'\", '\"'))\n",
    "        m[\"gps\"] = get_lat_long(0)\n",
    "        m[\"timestamp\"] = datetime.datetime.strptime(m[\"timestamp\"], '%Y-%m-%d %H:%M:%S.%f')\n",
    "        m[\"filename\"] = file.split(\"\\\\\")[-1]\n",
    "        meta.append(m)\n",
    "        \n",
    "        f.close()\n",
    "        \n",
    "    return meta\n",
    "\n",
    "# Latitude, longitude\n",
    "def get_lat_long (data):\n",
    "    return random.uniform(33.824, 36.35), random.uniform(-84, -75)\n",
    "\n",
    "def get_timestamp (data):\n",
    "    return random.randint(1, 366)\n",
    "\n",
    "metadata = load_metadata(\"../../data/metadata\")\n",
    "\n",
    "metadata =  metadata[:1000]\n",
    "metadata = sorted(metadata, key=operator.itemgetter(\"timestamp\"))\n",
    "\n",
    "for m in metadata:\n",
    "     m['timestamp'] = m[\"timestamp\"].date().strftime('%m/%d/%Y')\n",
    "\n",
    "gps = [m[\"gps\"] for m in metadata]\n",
    "dates = [m[\"timestamp\"] for m in metadata]\n",
    "\n",
    "seen = set()\n",
    "dates = [d for d in dates if d not in seen and not seen.add(d)]\n",
    "\n",
    "print(dates)"
   ]
  },
  {
   "cell_type": "code",
   "execution_count": 230,
   "metadata": {},
   "outputs": [
    {
     "data": {
      "text/html": [
       "<script>requirejs.config({paths: { 'plotly': ['https://cdn.plot.ly/plotly-latest.min']},});if(!window.Plotly) {{require(['plotly'],function(plotly) {window.Plotly=plotly;});}}</script>"
      ],
      "text/vnd.plotly.v1+html": [
       "<script>requirejs.config({paths: { 'plotly': ['https://cdn.plot.ly/plotly-latest.min']},});if(!window.Plotly) {{require(['plotly'],function(plotly) {window.Plotly=plotly;});}}</script>"
      ]
     },
     "metadata": {},
     "output_type": "display_data"
    },
    {
     "data": {
      "application/vnd.plotly.v1+json": {
       "data": [
        {
         "lat": [
          35.80360355772494,
          35.059969561602706,
          36.298655441580415,
          33.91932108300222,
          35.4914586313035,
          35.827046010222084,
          35.86265523810297,
          34.74989602725628,
          34.04065499040078,
          36.02434265515853,
          35.91665132325553,
          34.37170243430659,
          34.88515387482529,
          34.178620681541005,
          35.86878412988697,
          34.50837687436904
         ],
         "locationmode": "USA-states",
         "lon": [
          -81.30704502251285,
          -83.5559782876252,
          -77.6148676500841,
          -79.75607390319348,
          -75.18230048758838,
          -83.56110349202669,
          -81.3122781400178,
          -81.5795779640216,
          -79.10392540764525,
          -77.90983599918289,
          -75.73704516341678,
          -77.22754720729547,
          -79.84453688310666,
          -75.17882964855065,
          -78.30250566357017,
          -75.75253592779431
         ],
         "mode": "markers",
         "type": "scattergeo",
         "uid": "2c3429d2-5127-11e9-91ba-5cf37071266d"
        }
       ],
       "frames": [
        {
         "data": [
          {
           "lat": [
            35.80360355772494
           ],
           "locationmode": "USA-states",
           "lon": [
            -81.30704502251285
           ],
           "mode": "markers",
           "text": "P6012100",
           "type": "scattergeo"
          },
          {
           "lat": [
            35.059969561602706
           ],
           "locationmode": "USA-states",
           "lon": [
            -83.5559782876252
           ],
           "mode": "markers",
           "text": "P6012101",
           "type": "scattergeo"
          },
          {
           "lat": [
            36.298655441580415
           ],
           "locationmode": "USA-states",
           "lon": [
            -77.6148676500841
           ],
           "mode": "markers",
           "text": "P6012108",
           "type": "scattergeo"
          },
          {
           "lat": [
            33.91932108300222
           ],
           "locationmode": "USA-states",
           "lon": [
            -79.75607390319348
           ],
           "mode": "markers",
           "text": "P6012112",
           "type": "scattergeo"
          },
          {
           "lat": [
            35.4914586313035
           ],
           "locationmode": "USA-states",
           "lon": [
            -75.18230048758838
           ],
           "mode": "markers",
           "text": "P6012114",
           "type": "scattergeo"
          },
          {
           "lat": [
            35.827046010222084
           ],
           "locationmode": "USA-states",
           "lon": [
            -83.56110349202669
           ],
           "mode": "markers",
           "text": "P6012116",
           "type": "scattergeo"
          },
          {
           "lat": [
            35.86265523810297
           ],
           "locationmode": "USA-states",
           "lon": [
            -81.3122781400178
           ],
           "mode": "markers",
           "text": "P6012118",
           "type": "scattergeo"
          },
          {
           "lat": [
            34.74989602725628
           ],
           "locationmode": "USA-states",
           "lon": [
            -81.5795779640216
           ],
           "mode": "markers",
           "text": "P6012122",
           "type": "scattergeo"
          },
          {
           "lat": [
            34.04065499040078
           ],
           "locationmode": "USA-states",
           "lon": [
            -79.10392540764525
           ],
           "mode": "markers",
           "text": "P6012123",
           "type": "scattergeo"
          },
          {
           "lat": [
            36.02434265515853
           ],
           "locationmode": "USA-states",
           "lon": [
            -77.90983599918289
           ],
           "mode": "markers",
           "text": "P6012126",
           "type": "scattergeo"
          },
          {
           "lat": [
            35.91665132325553
           ],
           "locationmode": "USA-states",
           "lon": [
            -75.73704516341678
           ],
           "mode": "markers",
           "text": "P6012127",
           "type": "scattergeo"
          },
          {
           "lat": [
            34.37170243430659
           ],
           "locationmode": "USA-states",
           "lon": [
            -77.22754720729547
           ],
           "mode": "markers",
           "text": "P6012129",
           "type": "scattergeo"
          },
          {
           "lat": [
            34.88515387482529
           ],
           "locationmode": "USA-states",
           "lon": [
            -79.84453688310666
           ],
           "mode": "markers",
           "text": "P6012130",
           "type": "scattergeo"
          },
          {
           "lat": [
            34.178620681541005
           ],
           "locationmode": "USA-states",
           "lon": [
            -75.17882964855065
           ],
           "mode": "markers",
           "text": "P6012131",
           "type": "scattergeo"
          },
          {
           "lat": [
            35.86878412988697
           ],
           "locationmode": "USA-states",
           "lon": [
            -78.30250566357017
           ],
           "mode": "markers",
           "text": "P6012134",
           "type": "scattergeo"
          },
          {
           "lat": [
            34.50837687436904
           ],
           "locationmode": "USA-states",
           "lon": [
            -75.75253592779431
           ],
           "mode": "markers",
           "text": "P6012143",
           "type": "scattergeo"
          }
         ],
         "name": "06/01/2015"
        },
        {
         "data": [
          {
           "lat": [
            34.27062721905081
           ],
           "locationmode": "USA-states",
           "lon": [
            -79.77036880743694
           ],
           "mode": "markers",
           "text": "P6022106",
           "type": "scattergeo"
          },
          {
           "lat": [
            34.36165846449161
           ],
           "locationmode": "USA-states",
           "lon": [
            -76.81061647897549
           ],
           "mode": "markers",
           "text": "P6022112",
           "type": "scattergeo"
          },
          {
           "lat": [
            35.88158699579771
           ],
           "locationmode": "USA-states",
           "lon": [
            -75.77100525815425
           ],
           "mode": "markers",
           "text": "P6022115",
           "type": "scattergeo"
          },
          {
           "lat": [
            36.029203590222856
           ],
           "locationmode": "USA-states",
           "lon": [
            -77.505860933408
           ],
           "mode": "markers",
           "text": "P6022118",
           "type": "scattergeo"
          },
          {
           "lat": [
            34.8874524125136
           ],
           "locationmode": "USA-states",
           "lon": [
            -78.65133942669303
           ],
           "mode": "markers",
           "text": "P6022130",
           "type": "scattergeo"
          },
          {
           "lat": [
            35.09793175119964
           ],
           "locationmode": "USA-states",
           "lon": [
            -79.995659367837
           ],
           "mode": "markers",
           "text": "P6022135",
           "type": "scattergeo"
          },
          {
           "lat": [
            35.54660837957739
           ],
           "locationmode": "USA-states",
           "lon": [
            -80.78174606159838
           ],
           "mode": "markers",
           "text": "P6022137",
           "type": "scattergeo"
          },
          {
           "lat": [
            35.129990584411146
           ],
           "locationmode": "USA-states",
           "lon": [
            -78.84404446533296
           ],
           "mode": "markers",
           "text": "P6022147",
           "type": "scattergeo"
          }
         ],
         "name": "06/02/2015"
        },
        {
         "data": [
          {
           "lat": [
            35.84872761448234
           ],
           "locationmode": "USA-states",
           "lon": [
            -80.79841031957086
           ],
           "mode": "markers",
           "text": "P6032107",
           "type": "scattergeo"
          },
          {
           "lat": [
            33.95725638911086
           ],
           "locationmode": "USA-states",
           "lon": [
            -83.19697419897946
           ],
           "mode": "markers",
           "text": "P6032108",
           "type": "scattergeo"
          },
          {
           "lat": [
            35.532562563759605
           ],
           "locationmode": "USA-states",
           "lon": [
            -75.90344895267472
           ],
           "mode": "markers",
           "text": "P6032114",
           "type": "scattergeo"
          },
          {
           "lat": [
            34.074530779723176
           ],
           "locationmode": "USA-states",
           "lon": [
            -82.25143605377598
           ],
           "mode": "markers",
           "text": "P6032115",
           "type": "scattergeo"
          },
          {
           "lat": [
            34.61493761209165
           ],
           "locationmode": "USA-states",
           "lon": [
            -77.25891171859796
           ],
           "mode": "markers",
           "text": "P6032122",
           "type": "scattergeo"
          },
          {
           "lat": [
            34.77772814709716
           ],
           "locationmode": "USA-states",
           "lon": [
            -78.57399480519486
           ],
           "mode": "markers",
           "text": "P6032123",
           "type": "scattergeo"
          },
          {
           "lat": [
            34.46263257328346
           ],
           "locationmode": "USA-states",
           "lon": [
            -77.36925717376265
           ],
           "mode": "markers",
           "text": "P6032129",
           "type": "scattergeo"
          },
          {
           "lat": [
            34.561057059597054
           ],
           "locationmode": "USA-states",
           "lon": [
            -83.22358556329375
           ],
           "mode": "markers",
           "text": "P6032131",
           "type": "scattergeo"
          },
          {
           "lat": [
            34.536125672194544
           ],
           "locationmode": "USA-states",
           "lon": [
            -77.346536530002
           ],
           "mode": "markers",
           "text": "P6032132",
           "type": "scattergeo"
          },
          {
           "lat": [
            34.95515858522986
           ],
           "locationmode": "USA-states",
           "lon": [
            -76.17181726797779
           ],
           "mode": "markers",
           "text": "P6032133",
           "type": "scattergeo"
          },
          {
           "lat": [
            33.970668621297676
           ],
           "locationmode": "USA-states",
           "lon": [
            -79.29372914833314
           ],
           "mode": "markers",
           "text": "P6032134",
           "type": "scattergeo"
          },
          {
           "lat": [
            35.02434127666218
           ],
           "locationmode": "USA-states",
           "lon": [
            -79.06404705178866
           ],
           "mode": "markers",
           "text": "P6032135",
           "type": "scattergeo"
          },
          {
           "lat": [
            35.027365838607174
           ],
           "locationmode": "USA-states",
           "lon": [
            -77.06144159029257
           ],
           "mode": "markers",
           "text": "P6032137",
           "type": "scattergeo"
          },
          {
           "lat": [
            36.17934125567814
           ],
           "locationmode": "USA-states",
           "lon": [
            -80.03323707393697
           ],
           "mode": "markers",
           "text": "P6032138",
           "type": "scattergeo"
          },
          {
           "lat": [
            34.6273458100905
           ],
           "locationmode": "USA-states",
           "lon": [
            -82.31774526774149
           ],
           "mode": "markers",
           "text": "P6032139",
           "type": "scattergeo"
          },
          {
           "lat": [
            35.77801922003644
           ],
           "locationmode": "USA-states",
           "lon": [
            -76.07178604580247
           ],
           "mode": "markers",
           "text": "P6032140",
           "type": "scattergeo"
          },
          {
           "lat": [
            35.31935195290327
           ],
           "locationmode": "USA-states",
           "lon": [
            -76.72839766377005
           ],
           "mode": "markers",
           "text": "P6032146",
           "type": "scattergeo"
          },
          {
           "lat": [
            34.91196407365951
           ],
           "locationmode": "USA-states",
           "lon": [
            -75.40541087531206
           ],
           "mode": "markers",
           "text": "P6032150",
           "type": "scattergeo"
          },
          {
           "lat": [
            34.79926263532747
           ],
           "locationmode": "USA-states",
           "lon": [
            -78.65607904198875
           ],
           "mode": "markers",
           "text": "P6032152",
           "type": "scattergeo"
          }
         ],
         "name": "06/03/2015"
        },
        {
         "data": [
          {
           "lat": [
            34.86228579204846
           ],
           "locationmode": "USA-states",
           "lon": [
            -80.96886632954181
           ],
           "mode": "markers",
           "text": "P6052108",
           "type": "scattergeo"
          },
          {
           "lat": [
            34.96830348804473
           ],
           "locationmode": "USA-states",
           "lon": [
            -75.89714442885895
           ],
           "mode": "markers",
           "text": "P6052109",
           "type": "scattergeo"
          },
          {
           "lat": [
            35.81250441255991
           ],
           "locationmode": "USA-states",
           "lon": [
            -83.01623910841697
           ],
           "mode": "markers",
           "text": "P6052119",
           "type": "scattergeo"
          },
          {
           "lat": [
            34.0624684235932
           ],
           "locationmode": "USA-states",
           "lon": [
            -77.16737730638565
           ],
           "mode": "markers",
           "text": "P6052121",
           "type": "scattergeo"
          },
          {
           "lat": [
            35.9370561165888
           ],
           "locationmode": "USA-states",
           "lon": [
            -79.04275129077257
           ],
           "mode": "markers",
           "text": "P6052127",
           "type": "scattergeo"
          },
          {
           "lat": [
            35.41116606786852
           ],
           "locationmode": "USA-states",
           "lon": [
            -81.91125047475283
           ],
           "mode": "markers",
           "text": "P6052128",
           "type": "scattergeo"
          },
          {
           "lat": [
            35.87366850317446
           ],
           "locationmode": "USA-states",
           "lon": [
            -81.46281142102724
           ],
           "mode": "markers",
           "text": "P6052130",
           "type": "scattergeo"
          },
          {
           "lat": [
            35.40701419245238
           ],
           "locationmode": "USA-states",
           "lon": [
            -78.45264683841162
           ],
           "mode": "markers",
           "text": "P6052133",
           "type": "scattergeo"
          },
          {
           "lat": [
            36.02800964882577
           ],
           "locationmode": "USA-states",
           "lon": [
            -78.81533233552594
           ],
           "mode": "markers",
           "text": "P6052134",
           "type": "scattergeo"
          },
          {
           "lat": [
            34.26110155342626
           ],
           "locationmode": "USA-states",
           "lon": [
            -83.16266842911895
           ],
           "mode": "markers",
           "text": "P6052137",
           "type": "scattergeo"
          },
          {
           "lat": [
            35.956148551610546
           ],
           "locationmode": "USA-states",
           "lon": [
            -76.7670358616255
           ],
           "mode": "markers",
           "text": "P6052139",
           "type": "scattergeo"
          },
          {
           "lat": [
            34.248831798308395
           ],
           "locationmode": "USA-states",
           "lon": [
            -78.6801840045363
           ],
           "mode": "markers",
           "text": "P6052140",
           "type": "scattergeo"
          },
          {
           "lat": [
            34.41449372353658
           ],
           "locationmode": "USA-states",
           "lon": [
            -76.60775065010954
           ],
           "mode": "markers",
           "text": "P6052141",
           "type": "scattergeo"
          },
          {
           "lat": [
            34.74111092442251
           ],
           "locationmode": "USA-states",
           "lon": [
            -77.0615808968671
           ],
           "mode": "markers",
           "text": "P6052143",
           "type": "scattergeo"
          },
          {
           "lat": [
            35.52769625516304
           ],
           "locationmode": "USA-states",
           "lon": [
            -79.20137460079667
           ],
           "mode": "markers",
           "text": "P6052153",
           "type": "scattergeo"
          }
         ],
         "name": "06/05/2015"
        },
        {
         "data": [
          {
           "lat": [
            35.20877622827752
           ],
           "locationmode": "USA-states",
           "lon": [
            -77.60616691833813
           ],
           "mode": "markers",
           "text": "P6062139",
           "type": "scattergeo"
          },
          {
           "lat": [
            34.2426879867103
           ],
           "locationmode": "USA-states",
           "lon": [
            -82.33758819759423
           ],
           "mode": "markers",
           "text": "P6062140",
           "type": "scattergeo"
          },
          {
           "lat": [
            34.38232470584892
           ],
           "locationmode": "USA-states",
           "lon": [
            -83.79554424544995
           ],
           "mode": "markers",
           "text": "P6062141",
           "type": "scattergeo"
          },
          {
           "lat": [
            35.76838939959936
           ],
           "locationmode": "USA-states",
           "lon": [
            -82.88721055950057
           ],
           "mode": "markers",
           "text": "P6062143",
           "type": "scattergeo"
          },
          {
           "lat": [
            34.444186906628154
           ],
           "locationmode": "USA-states",
           "lon": [
            -80.10026200894252
           ],
           "mode": "markers",
           "text": "P6062145",
           "type": "scattergeo"
          },
          {
           "lat": [
            35.043842203203035
           ],
           "locationmode": "USA-states",
           "lon": [
            -77.03882023077857
           ],
           "mode": "markers",
           "text": "P6062147",
           "type": "scattergeo"
          },
          {
           "lat": [
            35.29895278952623
           ],
           "locationmode": "USA-states",
           "lon": [
            -77.30088185364639
           ],
           "mode": "markers",
           "text": "P6062151",
           "type": "scattergeo"
          },
          {
           "lat": [
            36.098086223843225
           ],
           "locationmode": "USA-states",
           "lon": [
            -76.1080760324918
           ],
           "mode": "markers",
           "text": "P6062157",
           "type": "scattergeo"
          },
          {
           "lat": [
            34.43972842226635
           ],
           "locationmode": "USA-states",
           "lon": [
            -81.10640549053102
           ],
           "mode": "markers",
           "text": "P6062201",
           "type": "scattergeo"
          },
          {
           "lat": [
            35.12084482634535
           ],
           "locationmode": "USA-states",
           "lon": [
            -76.1856664684085
           ],
           "mode": "markers",
           "text": "P6062202",
           "type": "scattergeo"
          },
          {
           "lat": [
            33.9529196889734
           ],
           "locationmode": "USA-states",
           "lon": [
            -80.24996325443067
           ],
           "mode": "markers",
           "text": "P6062203",
           "type": "scattergeo"
          },
          {
           "lat": [
            34.59257193973751
           ],
           "locationmode": "USA-states",
           "lon": [
            -80.35928213312508
           ],
           "mode": "markers",
           "text": "P6062208",
           "type": "scattergeo"
          },
          {
           "lat": [
            34.7480216786424
           ],
           "locationmode": "USA-states",
           "lon": [
            -78.3698528905044
           ],
           "mode": "markers",
           "text": "P6062209",
           "type": "scattergeo"
          },
          {
           "lat": [
            34.67564885719721
           ],
           "locationmode": "USA-states",
           "lon": [
            -77.53759765808485
           ],
           "mode": "markers",
           "text": "P6062210",
           "type": "scattergeo"
          },
          {
           "lat": [
            34.93539483783936
           ],
           "locationmode": "USA-states",
           "lon": [
            -78.72541939573149
           ],
           "mode": "markers",
           "text": "P6062213",
           "type": "scattergeo"
          },
          {
           "lat": [
            35.479057574660345
           ],
           "locationmode": "USA-states",
           "lon": [
            -76.05532087049889
           ],
           "mode": "markers",
           "text": "P6062218",
           "type": "scattergeo"
          },
          {
           "lat": [
            34.94418982416184
           ],
           "locationmode": "USA-states",
           "lon": [
            -79.0633616196449
           ],
           "mode": "markers",
           "text": "P6062219",
           "type": "scattergeo"
          },
          {
           "lat": [
            34.654704814320105
           ],
           "locationmode": "USA-states",
           "lon": [
            -77.7569294997116
           ],
           "mode": "markers",
           "text": "P6062222",
           "type": "scattergeo"
          },
          {
           "lat": [
            35.24132238436728
           ],
           "locationmode": "USA-states",
           "lon": [
            -77.66981325271347
           ],
           "mode": "markers",
           "text": "P6062223",
           "type": "scattergeo"
          }
         ],
         "name": "06/06/2015"
        },
        {
         "data": [
          {
           "lat": [
            33.836529016383615
           ],
           "locationmode": "USA-states",
           "lon": [
            -76.54693360618018
           ],
           "mode": "markers",
           "text": "P6072107",
           "type": "scattergeo"
          },
          {
           "lat": [
            36.17393083949203
           ],
           "locationmode": "USA-states",
           "lon": [
            -83.61821038821647
           ],
           "mode": "markers",
           "text": "P6072109",
           "type": "scattergeo"
          },
          {
           "lat": [
            35.19948433474606
           ],
           "locationmode": "USA-states",
           "lon": [
            -75.75644930074573
           ],
           "mode": "markers",
           "text": "P6072115",
           "type": "scattergeo"
          },
          {
           "lat": [
            33.92873573517806
           ],
           "locationmode": "USA-states",
           "lon": [
            -78.37653577920165
           ],
           "mode": "markers",
           "text": "P6072128",
           "type": "scattergeo"
          },
          {
           "lat": [
            35.95159223953732
           ],
           "locationmode": "USA-states",
           "lon": [
            -83.29101776059971
           ],
           "mode": "markers",
           "text": "P6072130",
           "type": "scattergeo"
          },
          {
           "lat": [
            35.95183451257437
           ],
           "locationmode": "USA-states",
           "lon": [
            -83.60949426319345
           ],
           "mode": "markers",
           "text": "P6072135",
           "type": "scattergeo"
          },
          {
           "lat": [
            34.62296905672287
           ],
           "locationmode": "USA-states",
           "lon": [
            -81.83163103855871
           ],
           "mode": "markers",
           "text": "P6072144",
           "type": "scattergeo"
          },
          {
           "lat": [
            35.00930204333634
           ],
           "locationmode": "USA-states",
           "lon": [
            -78.31476952877095
           ],
           "mode": "markers",
           "text": "P6072145",
           "type": "scattergeo"
          }
         ],
         "name": "06/07/2015"
        },
        {
         "data": [
          {
           "lat": [
            35.687772672701556
           ],
           "locationmode": "USA-states",
           "lon": [
            -80.75441216666415
           ],
           "mode": "markers",
           "text": "P6082108",
           "type": "scattergeo"
          },
          {
           "lat": [
            34.34049766084908
           ],
           "locationmode": "USA-states",
           "lon": [
            -75.0489793719585
           ],
           "mode": "markers",
           "text": "P6082109",
           "type": "scattergeo"
          },
          {
           "lat": [
            34.51887306839791
           ],
           "locationmode": "USA-states",
           "lon": [
            -79.71355219516649
           ],
           "mode": "markers",
           "text": "P6082113",
           "type": "scattergeo"
          },
          {
           "lat": [
            34.504487057588065
           ],
           "locationmode": "USA-states",
           "lon": [
            -82.08433559823831
           ],
           "mode": "markers",
           "text": "P6082120",
           "type": "scattergeo"
          },
          {
           "lat": [
            36.247994537814996
           ],
           "locationmode": "USA-states",
           "lon": [
            -82.18575249026856
           ],
           "mode": "markers",
           "text": "P6082131",
           "type": "scattergeo"
          },
          {
           "lat": [
            34.48881225246467
           ],
           "locationmode": "USA-states",
           "lon": [
            -75.04025342237844
           ],
           "mode": "markers",
           "text": "P6082134",
           "type": "scattergeo"
          },
          {
           "lat": [
            36.06358034395268
           ],
           "locationmode": "USA-states",
           "lon": [
            -83.77820000899514
           ],
           "mode": "markers",
           "text": "P6082137",
           "type": "scattergeo"
          },
          {
           "lat": [
            35.361318509359435
           ],
           "locationmode": "USA-states",
           "lon": [
            -81.49032053369001
           ],
           "mode": "markers",
           "text": "P6082145",
           "type": "scattergeo"
          },
          {
           "lat": [
            34.49925415158952
           ],
           "locationmode": "USA-states",
           "lon": [
            -79.8575280523435
           ],
           "mode": "markers",
           "text": "P6082155",
           "type": "scattergeo"
          },
          {
           "lat": [
            36.01081174462034
           ],
           "locationmode": "USA-states",
           "lon": [
            -75.02876979971353
           ],
           "mode": "markers",
           "text": "P6082156",
           "type": "scattergeo"
          }
         ],
         "name": "06/08/2015"
        },
        {
         "data": [
          {
           "lat": [
            34.664234307775
           ],
           "locationmode": "USA-states",
           "lon": [
            -81.51502186487349
           ],
           "mode": "markers",
           "text": "P6092110",
           "type": "scattergeo"
          },
          {
           "lat": [
            34.94035347141694
           ],
           "locationmode": "USA-states",
           "lon": [
            -82.81305572646806
           ],
           "mode": "markers",
           "text": "P6092111",
           "type": "scattergeo"
          },
          {
           "lat": [
            34.57534648181123
           ],
           "locationmode": "USA-states",
           "lon": [
            -78.37351200999603
           ],
           "mode": "markers",
           "text": "P6092114",
           "type": "scattergeo"
          },
          {
           "lat": [
            34.91536274660093
           ],
           "locationmode": "USA-states",
           "lon": [
            -75.74957469696442
           ],
           "mode": "markers",
           "text": "P6092115",
           "type": "scattergeo"
          },
          {
           "lat": [
            35.049226152641445
           ],
           "locationmode": "USA-states",
           "lon": [
            -82.97778432474588
           ],
           "mode": "markers",
           "text": "P6092117",
           "type": "scattergeo"
          },
          {
           "lat": [
            34.196695510156175
           ],
           "locationmode": "USA-states",
           "lon": [
            -78.91708779097179
           ],
           "mode": "markers",
           "text": "P6092122",
           "type": "scattergeo"
          },
          {
           "lat": [
            34.665531179639366
           ],
           "locationmode": "USA-states",
           "lon": [
            -79.22559837126697
           ],
           "mode": "markers",
           "text": "P6092123",
           "type": "scattergeo"
          },
          {
           "lat": [
            34.89982810833647
           ],
           "locationmode": "USA-states",
           "lon": [
            -78.42402052130072
           ],
           "mode": "markers",
           "text": "P6092126",
           "type": "scattergeo"
          },
          {
           "lat": [
            35.56146552686883
           ],
           "locationmode": "USA-states",
           "lon": [
            -81.14955521861236
           ],
           "mode": "markers",
           "text": "P6092134",
           "type": "scattergeo"
          },
          {
           "lat": [
            34.98569697517556
           ],
           "locationmode": "USA-states",
           "lon": [
            -77.65270928472923
           ],
           "mode": "markers",
           "text": "P6092137",
           "type": "scattergeo"
          },
          {
           "lat": [
            34.936044438407585
           ],
           "locationmode": "USA-states",
           "lon": [
            -79.62426484469229
           ],
           "mode": "markers",
           "text": "P6092139",
           "type": "scattergeo"
          },
          {
           "lat": [
            35.46207572927756
           ],
           "locationmode": "USA-states",
           "lon": [
            -83.4285746290742
           ],
           "mode": "markers",
           "text": "P6092140",
           "type": "scattergeo"
          },
          {
           "lat": [
            34.27328692840544
           ],
           "locationmode": "USA-states",
           "lon": [
            -79.59323762368041
           ],
           "mode": "markers",
           "text": "P6092142",
           "type": "scattergeo"
          },
          {
           "lat": [
            36.01860059742807
           ],
           "locationmode": "USA-states",
           "lon": [
            -80.86151738994462
           ],
           "mode": "markers",
           "text": "P6092143",
           "type": "scattergeo"
          },
          {
           "lat": [
            34.15255602016509
           ],
           "locationmode": "USA-states",
           "lon": [
            -78.56717821669699
           ],
           "mode": "markers",
           "text": "P6092144",
           "type": "scattergeo"
          },
          {
           "lat": [
            34.472499881379505
           ],
           "locationmode": "USA-states",
           "lon": [
            -80.26041063457875
           ],
           "mode": "markers",
           "text": "P6092145",
           "type": "scattergeo"
          },
          {
           "lat": [
            34.0537385235395
           ],
           "locationmode": "USA-states",
           "lon": [
            -79.55677968963286
           ],
           "mode": "markers",
           "text": "P6092146",
           "type": "scattergeo"
          },
          {
           "lat": [
            36.285795746976255
           ],
           "locationmode": "USA-states",
           "lon": [
            -83.07473335302349
           ],
           "mode": "markers",
           "text": "P6092147",
           "type": "scattergeo"
          },
          {
           "lat": [
            36.08337087451238
           ],
           "locationmode": "USA-states",
           "lon": [
            -81.25264451639981
           ],
           "mode": "markers",
           "text": "P6092148",
           "type": "scattergeo"
          },
          {
           "lat": [
            34.496234910524706
           ],
           "locationmode": "USA-states",
           "lon": [
            -82.91603415562331
           ],
           "mode": "markers",
           "text": "P6092150",
           "type": "scattergeo"
          },
          {
           "lat": [
            34.91352220612705
           ],
           "locationmode": "USA-states",
           "lon": [
            -81.81976508617599
           ],
           "mode": "markers",
           "text": "P6092151",
           "type": "scattergeo"
          },
          {
           "lat": [
            34.21718104613032
           ],
           "locationmode": "USA-states",
           "lon": [
            -83.98135595399971
           ],
           "mode": "markers",
           "text": "P6092152",
           "type": "scattergeo"
          },
          {
           "lat": [
            34.767532851574536
           ],
           "locationmode": "USA-states",
           "lon": [
            -83.63967893273062
           ],
           "mode": "markers",
           "text": "P6092153",
           "type": "scattergeo"
          },
          {
           "lat": [
            35.609269882532594
           ],
           "locationmode": "USA-states",
           "lon": [
            -80.22245522808184
           ],
           "mode": "markers",
           "text": "P6092154",
           "type": "scattergeo"
          },
          {
           "lat": [
            35.85940610899767
           ],
           "locationmode": "USA-states",
           "lon": [
            -82.99013001836151
           ],
           "mode": "markers",
           "text": "P6092155",
           "type": "scattergeo"
          },
          {
           "lat": [
            35.563517160677264
           ],
           "locationmode": "USA-states",
           "lon": [
            -80.15565864700501
           ],
           "mode": "markers",
           "text": "P6092157",
           "type": "scattergeo"
          },
          {
           "lat": [
            36.2887414038945
           ],
           "locationmode": "USA-states",
           "lon": [
            -78.42739884987137
           ],
           "mode": "markers",
           "text": "P6092158",
           "type": "scattergeo"
          },
          {
           "lat": [
            34.57378368883694
           ],
           "locationmode": "USA-states",
           "lon": [
            -76.2641103256131
           ],
           "mode": "markers",
           "text": "P6092159",
           "type": "scattergeo"
          },
          {
           "lat": [
            33.91246026529159
           ],
           "locationmode": "USA-states",
           "lon": [
            -82.78103839360843
           ],
           "mode": "markers",
           "text": "P6092201",
           "type": "scattergeo"
          },
          {
           "lat": [
            35.74936116715088
           ],
           "locationmode": "USA-states",
           "lon": [
            -83.64994850120117
           ],
           "mode": "markers",
           "text": "P6092203",
           "type": "scattergeo"
          },
          {
           "lat": [
            35.72189426138619
           ],
           "locationmode": "USA-states",
           "lon": [
            -81.18318059859136
           ],
           "mode": "markers",
           "text": "P6092204",
           "type": "scattergeo"
          },
          {
           "lat": [
            34.88895637192615
           ],
           "locationmode": "USA-states",
           "lon": [
            -78.47424469133256
           ],
           "mode": "markers",
           "text": "P6092205",
           "type": "scattergeo"
          },
          {
           "lat": [
            36.104389816078964
           ],
           "locationmode": "USA-states",
           "lon": [
            -83.40924029812177
           ],
           "mode": "markers",
           "text": "P6092212",
           "type": "scattergeo"
          },
          {
           "lat": [
            34.513143589368305
           ],
           "locationmode": "USA-states",
           "lon": [
            -76.00623796910483
           ],
           "mode": "markers",
           "text": "P6092214",
           "type": "scattergeo"
          }
         ],
         "name": "06/09/2015"
        },
        {
         "data": [
          {
           "lat": [
            34.12604846430612
           ],
           "locationmode": "USA-states",
           "lon": [
            -78.59827323843956
           ],
           "mode": "markers",
           "text": "P6122122",
           "type": "scattergeo"
          },
          {
           "lat": [
            34.97514590341509
           ],
           "locationmode": "USA-states",
           "lon": [
            -76.01511832541732
           ],
           "mode": "markers",
           "text": "P6122123",
           "type": "scattergeo"
          },
          {
           "lat": [
            34.47273707613455
           ],
           "locationmode": "USA-states",
           "lon": [
            -76.38669763838581
           ],
           "mode": "markers",
           "text": "P6122126",
           "type": "scattergeo"
          },
          {
           "lat": [
            35.98121627063602
           ],
           "locationmode": "USA-states",
           "lon": [
            -78.983705076746
           ],
           "mode": "markers",
           "text": "P6122132",
           "type": "scattergeo"
          },
          {
           "lat": [
            36.173507236764856
           ],
           "locationmode": "USA-states",
           "lon": [
            -82.2639687839434
           ],
           "mode": "markers",
           "text": "P6122133",
           "type": "scattergeo"
          },
          {
           "lat": [
            33.99987889914957
           ],
           "locationmode": "USA-states",
           "lon": [
            -82.93524639844797
           ],
           "mode": "markers",
           "text": "P6122135",
           "type": "scattergeo"
          },
          {
           "lat": [
            34.65786853374264
           ],
           "locationmode": "USA-states",
           "lon": [
            -77.30226087003244
           ],
           "mode": "markers",
           "text": "P6122138",
           "type": "scattergeo"
          },
          {
           "lat": [
            34.354205184414845
           ],
           "locationmode": "USA-states",
           "lon": [
            -77.35054365244218
           ],
           "mode": "markers",
           "text": "P6122141",
           "type": "scattergeo"
          },
          {
           "lat": [
            35.21127903426989
           ],
           "locationmode": "USA-states",
           "lon": [
            -76.73649644108428
           ],
           "mode": "markers",
           "text": "P6122143",
           "type": "scattergeo"
          },
          {
           "lat": [
            35.68871374774324
           ],
           "locationmode": "USA-states",
           "lon": [
            -79.15850422553093
           ],
           "mode": "markers",
           "text": "P6122144",
           "type": "scattergeo"
          },
          {
           "lat": [
            36.19565477983792
           ],
           "locationmode": "USA-states",
           "lon": [
            -77.19595553507104
           ],
           "mode": "markers",
           "text": "P6122149",
           "type": "scattergeo"
          },
          {
           "lat": [
            34.44525040489469
           ],
           "locationmode": "USA-states",
           "lon": [
            -77.58761191360767
           ],
           "mode": "markers",
           "text": "P6122150",
           "type": "scattergeo"
          },
          {
           "lat": [
            34.67767661000462
           ],
           "locationmode": "USA-states",
           "lon": [
            -76.6887447111114
           ],
           "mode": "markers",
           "text": "P6122154",
           "type": "scattergeo"
          },
          {
           "lat": [
            36.333763160023864
           ],
           "locationmode": "USA-states",
           "lon": [
            -83.97575664086271
           ],
           "mode": "markers",
           "text": "P6122158",
           "type": "scattergeo"
          },
          {
           "lat": [
            34.036468125728135
           ],
           "locationmode": "USA-states",
           "lon": [
            -83.06572613780416
           ],
           "mode": "markers",
           "text": "P6122159",
           "type": "scattergeo"
          },
          {
           "lat": [
            36.230672158909705
           ],
           "locationmode": "USA-states",
           "lon": [
            -80.34491583379948
           ],
           "mode": "markers",
           "text": "P6122206",
           "type": "scattergeo"
          },
          {
           "lat": [
            35.997861945479706
           ],
           "locationmode": "USA-states",
           "lon": [
            -77.060121515199
           ],
           "mode": "markers",
           "text": "P6122216",
           "type": "scattergeo"
          },
          {
           "lat": [
            34.593409724665875
           ],
           "locationmode": "USA-states",
           "lon": [
            -82.27855545200985
           ],
           "mode": "markers",
           "text": "P6122224",
           "type": "scattergeo"
          }
         ],
         "name": "06/12/2015"
        },
        {
         "data": [
          {
           "lat": [
            36.319513035019376
           ],
           "locationmode": "USA-states",
           "lon": [
            -79.24325831813609
           ],
           "mode": "markers",
           "text": "P6132128",
           "type": "scattergeo"
          },
          {
           "lat": [
            34.167800258907675
           ],
           "locationmode": "USA-states",
           "lon": [
            -75.82577591314964
           ],
           "mode": "markers",
           "text": "P6132133",
           "type": "scattergeo"
          },
          {
           "lat": [
            34.686879656363104
           ],
           "locationmode": "USA-states",
           "lon": [
            -78.01631003398131
           ],
           "mode": "markers",
           "text": "P6132136",
           "type": "scattergeo"
          },
          {
           "lat": [
            36.315526964042874
           ],
           "locationmode": "USA-states",
           "lon": [
            -81.31437274472735
           ],
           "mode": "markers",
           "text": "P6132201",
           "type": "scattergeo"
          },
          {
           "lat": [
            34.46851530055528
           ],
           "locationmode": "USA-states",
           "lon": [
            -83.06077942798527
           ],
           "mode": "markers",
           "text": "P6132208",
           "type": "scattergeo"
          },
          {
           "lat": [
            36.04411258530543
           ],
           "locationmode": "USA-states",
           "lon": [
            -80.10607111412278
           ],
           "mode": "markers",
           "text": "P6132210",
           "type": "scattergeo"
          },
          {
           "lat": [
            34.79431384165353
           ],
           "locationmode": "USA-states",
           "lon": [
            -76.85362261302939
           ],
           "mode": "markers",
           "text": "P6132214",
           "type": "scattergeo"
          },
          {
           "lat": [
            33.83892676358213
           ],
           "locationmode": "USA-states",
           "lon": [
            -80.90437883465462
           ],
           "mode": "markers",
           "text": "P6132216",
           "type": "scattergeo"
          }
         ],
         "name": "06/13/2015"
        },
        {
         "data": [
          {
           "lat": [
            35.12109932476393
           ],
           "locationmode": "USA-states",
           "lon": [
            -76.7990488010663
           ],
           "mode": "markers",
           "text": "P6142114",
           "type": "scattergeo"
          },
          {
           "lat": [
            35.13080429005681
           ],
           "locationmode": "USA-states",
           "lon": [
            -79.30831195602711
           ],
           "mode": "markers",
           "text": "P6142118",
           "type": "scattergeo"
          },
          {
           "lat": [
            36.167397976643585
           ],
           "locationmode": "USA-states",
           "lon": [
            -79.13231470128716
           ],
           "mode": "markers",
           "text": "P6142121",
           "type": "scattergeo"
          },
          {
           "lat": [
            34.179787167739136
           ],
           "locationmode": "USA-states",
           "lon": [
            -76.03102896119064
           ],
           "mode": "markers",
           "text": "P6142124",
           "type": "scattergeo"
          },
          {
           "lat": [
            36.153981919166284
           ],
           "locationmode": "USA-states",
           "lon": [
            -80.44236384589549
           ],
           "mode": "markers",
           "text": "P6142125",
           "type": "scattergeo"
          },
          {
           "lat": [
            35.50668403979836
           ],
           "locationmode": "USA-states",
           "lon": [
            -75.43525506797671
           ],
           "mode": "markers",
           "text": "P6142131",
           "type": "scattergeo"
          },
          {
           "lat": [
            34.411770530363256
           ],
           "locationmode": "USA-states",
           "lon": [
            -81.57194424862479
           ],
           "mode": "markers",
           "text": "P6142132",
           "type": "scattergeo"
          },
          {
           "lat": [
            34.9972123377489
           ],
           "locationmode": "USA-states",
           "lon": [
            -83.11944461449372
           ],
           "mode": "markers",
           "text": "P6142133",
           "type": "scattergeo"
          },
          {
           "lat": [
            34.53068432418854
           ],
           "locationmode": "USA-states",
           "lon": [
            -83.12866142461691
           ],
           "mode": "markers",
           "text": "P6142135",
           "type": "scattergeo"
          },
          {
           "lat": [
            35.38484423722433
           ],
           "locationmode": "USA-states",
           "lon": [
            -81.4028409608292
           ],
           "mode": "markers",
           "text": "P6142137",
           "type": "scattergeo"
          },
          {
           "lat": [
            34.05836676860488
           ],
           "locationmode": "USA-states",
           "lon": [
            -78.34251259431248
           ],
           "mode": "markers",
           "text": "P6142141",
           "type": "scattergeo"
          },
          {
           "lat": [
            35.08542572564734
           ],
           "locationmode": "USA-states",
           "lon": [
            -81.75683355108583
           ],
           "mode": "markers",
           "text": "P6142142",
           "type": "scattergeo"
          },
          {
           "lat": [
            35.49468355392443
           ],
           "locationmode": "USA-states",
           "lon": [
            -77.49267134907626
           ],
           "mode": "markers",
           "text": "P6142145",
           "type": "scattergeo"
          },
          {
           "lat": [
            33.877061849005145
           ],
           "locationmode": "USA-states",
           "lon": [
            -82.99382874678516
           ],
           "mode": "markers",
           "text": "P6142146",
           "type": "scattergeo"
          },
          {
           "lat": [
            34.73935268426641
           ],
           "locationmode": "USA-states",
           "lon": [
            -77.88138405096353
           ],
           "mode": "markers",
           "text": "P6142147",
           "type": "scattergeo"
          },
          {
           "lat": [
            36.24042621390645
           ],
           "locationmode": "USA-states",
           "lon": [
            -80.57992734097866
           ],
           "mode": "markers",
           "text": "P6142148",
           "type": "scattergeo"
          },
          {
           "lat": [
            35.335877185005856
           ],
           "locationmode": "USA-states",
           "lon": [
            -82.79962149249269
           ],
           "mode": "markers",
           "text": "P6142149",
           "type": "scattergeo"
          },
          {
           "lat": [
            34.552891057204505
           ],
           "locationmode": "USA-states",
           "lon": [
            -82.74962475328098
           ],
           "mode": "markers",
           "text": "P6142151",
           "type": "scattergeo"
          },
          {
           "lat": [
            33.974691459940914
           ],
           "locationmode": "USA-states",
           "lon": [
            -80.88595496948103
           ],
           "mode": "markers",
           "text": "P6142158",
           "type": "scattergeo"
          },
          {
           "lat": [
            35.772065681860006
           ],
           "locationmode": "USA-states",
           "lon": [
            -82.80802870634115
           ],
           "mode": "markers",
           "text": "P6142204",
           "type": "scattergeo"
          },
          {
           "lat": [
            34.70401056911639
           ],
           "locationmode": "USA-states",
           "lon": [
            -77.45706132598006
           ],
           "mode": "markers",
           "text": "P6142207",
           "type": "scattergeo"
          },
          {
           "lat": [
            34.82890583520087
           ],
           "locationmode": "USA-states",
           "lon": [
            -83.80622452057871
           ],
           "mode": "markers",
           "text": "P6142209",
           "type": "scattergeo"
          },
          {
           "lat": [
            34.5802044794115
           ],
           "locationmode": "USA-states",
           "lon": [
            -79.66531719623472
           ],
           "mode": "markers",
           "text": "P6142218",
           "type": "scattergeo"
          }
         ],
         "name": "06/14/2015"
        },
        {
         "data": [
          {
           "lat": [
            35.60554429780049
           ],
           "locationmode": "USA-states",
           "lon": [
            -80.5845987780842
           ],
           "mode": "markers",
           "text": "P6152116",
           "type": "scattergeo"
          },
          {
           "lat": [
            35.40850712141494
           ],
           "locationmode": "USA-states",
           "lon": [
            -80.79352314741183
           ],
           "mode": "markers",
           "text": "P6152118",
           "type": "scattergeo"
          },
          {
           "lat": [
            34.861769958364505
           ],
           "locationmode": "USA-states",
           "lon": [
            -83.90788365348615
           ],
           "mode": "markers",
           "text": "P6152119",
           "type": "scattergeo"
          },
          {
           "lat": [
            36.054661130884845
           ],
           "locationmode": "USA-states",
           "lon": [
            -83.63832081309864
           ],
           "mode": "markers",
           "text": "P6152121",
           "type": "scattergeo"
          },
          {
           "lat": [
            34.04906858404089
           ],
           "locationmode": "USA-states",
           "lon": [
            -78.06952005651881
           ],
           "mode": "markers",
           "text": "P6152125",
           "type": "scattergeo"
          },
          {
           "lat": [
            35.65374743713821
           ],
           "locationmode": "USA-states",
           "lon": [
            -75.66215458521296
           ],
           "mode": "markers",
           "text": "P6152131",
           "type": "scattergeo"
          },
          {
           "lat": [
            35.463850836390215
           ],
           "locationmode": "USA-states",
           "lon": [
            -80.34921995281918
           ],
           "mode": "markers",
           "text": "P6152132",
           "type": "scattergeo"
          },
          {
           "lat": [
            35.98074257957028
           ],
           "locationmode": "USA-states",
           "lon": [
            -80.79192133583902
           ],
           "mode": "markers",
           "text": "P6152146",
           "type": "scattergeo"
          },
          {
           "lat": [
            34.91348888151306
           ],
           "locationmode": "USA-states",
           "lon": [
            -80.74866998320816
           ],
           "mode": "markers",
           "text": "P6152151",
           "type": "scattergeo"
          },
          {
           "lat": [
            35.35772543845827
           ],
           "locationmode": "USA-states",
           "lon": [
            -82.05041740956581
           ],
           "mode": "markers",
           "text": "P6152153",
           "type": "scattergeo"
          },
          {
           "lat": [
            34.35011373105309
           ],
           "locationmode": "USA-states",
           "lon": [
            -76.96361820275803
           ],
           "mode": "markers",
           "text": "P6152154",
           "type": "scattergeo"
          },
          {
           "lat": [
            34.18470903658323
           ],
           "locationmode": "USA-states",
           "lon": [
            -75.4581612185294
           ],
           "mode": "markers",
           "text": "P6152155",
           "type": "scattergeo"
          },
          {
           "lat": [
            34.8073511386218
           ],
           "locationmode": "USA-states",
           "lon": [
            -76.49625189991069
           ],
           "mode": "markers",
           "text": "P6152156",
           "type": "scattergeo"
          },
          {
           "lat": [
            34.65456113225641
           ],
           "locationmode": "USA-states",
           "lon": [
            -75.82875785981896
           ],
           "mode": "markers",
           "text": "P6152157",
           "type": "scattergeo"
          },
          {
           "lat": [
            35.294194692803046
           ],
           "locationmode": "USA-states",
           "lon": [
            -75.75300746993258
           ],
           "mode": "markers",
           "text": "P6152204",
           "type": "scattergeo"
          },
          {
           "lat": [
            34.17966907108199
           ],
           "locationmode": "USA-states",
           "lon": [
            -81.30548255958638
           ],
           "mode": "markers",
           "text": "P6152206",
           "type": "scattergeo"
          },
          {
           "lat": [
            35.33049607065477
           ],
           "locationmode": "USA-states",
           "lon": [
            -83.2838820276577
           ],
           "mode": "markers",
           "text": "P6152212",
           "type": "scattergeo"
          },
          {
           "lat": [
            36.138007683771
           ],
           "locationmode": "USA-states",
           "lon": [
            -77.28717716724513
           ],
           "mode": "markers",
           "text": "P6152216",
           "type": "scattergeo"
          }
         ],
         "name": "06/15/2015"
        },
        {
         "data": [
          {
           "lat": [
            34.559727826319694
           ],
           "locationmode": "USA-states",
           "lon": [
            -81.80737690665734
           ],
           "mode": "markers",
           "text": "P6172052",
           "type": "scattergeo"
          },
          {
           "lat": [
            34.14563874092405
           ],
           "locationmode": "USA-states",
           "lon": [
            -81.21851254751051
           ],
           "mode": "markers",
           "text": "P6172054",
           "type": "scattergeo"
          },
          {
           "lat": [
            34.41103863481385
           ],
           "locationmode": "USA-states",
           "lon": [
            -77.10126281224765
           ],
           "mode": "markers",
           "text": "P6172056",
           "type": "scattergeo"
          },
          {
           "lat": [
            36.27252905758151
           ],
           "locationmode": "USA-states",
           "lon": [
            -82.49101145534317
           ],
           "mode": "markers",
           "text": "P6172058",
           "type": "scattergeo"
          },
          {
           "lat": [
            35.91736824479766
           ],
           "locationmode": "USA-states",
           "lon": [
            -81.10232457513162
           ],
           "mode": "markers",
           "text": "P6172059",
           "type": "scattergeo"
          },
          {
           "lat": [
            34.003918285350466
           ],
           "locationmode": "USA-states",
           "lon": [
            -83.51900547434346
           ],
           "mode": "markers",
           "text": "P6172100",
           "type": "scattergeo"
          },
          {
           "lat": [
            34.41534278670826
           ],
           "locationmode": "USA-states",
           "lon": [
            -80.41094398956437
           ],
           "mode": "markers",
           "text": "P6172103",
           "type": "scattergeo"
          },
          {
           "lat": [
            34.26667145299978
           ],
           "locationmode": "USA-states",
           "lon": [
            -77.99647869416602
           ],
           "mode": "markers",
           "text": "P6172105",
           "type": "scattergeo"
          },
          {
           "lat": [
            34.58818135269758
           ],
           "locationmode": "USA-states",
           "lon": [
            -76.28259153734275
           ],
           "mode": "markers",
           "text": "P6172106",
           "type": "scattergeo"
          },
          {
           "lat": [
            35.75754280629676
           ],
           "locationmode": "USA-states",
           "lon": [
            -75.12954861140115
           ],
           "mode": "markers",
           "text": "P6172107",
           "type": "scattergeo"
          },
          {
           "lat": [
            34.235904784192144
           ],
           "locationmode": "USA-states",
           "lon": [
            -79.29595410578301
           ],
           "mode": "markers",
           "text": "P6172108",
           "type": "scattergeo"
          },
          {
           "lat": [
            34.39141143465568
           ],
           "locationmode": "USA-states",
           "lon": [
            -80.47631174399318
           ],
           "mode": "markers",
           "text": "P6172110",
           "type": "scattergeo"
          },
          {
           "lat": [
            35.86402895584896
           ],
           "locationmode": "USA-states",
           "lon": [
            -76.4731021442511
           ],
           "mode": "markers",
           "text": "P6172111",
           "type": "scattergeo"
          },
          {
           "lat": [
            33.94535914275096
           ],
           "locationmode": "USA-states",
           "lon": [
            -82.11437987019433
           ],
           "mode": "markers",
           "text": "P6172112",
           "type": "scattergeo"
          },
          {
           "lat": [
            34.40031536037813
           ],
           "locationmode": "USA-states",
           "lon": [
            -80.95447731903437
           ],
           "mode": "markers",
           "text": "P6172113",
           "type": "scattergeo"
          },
          {
           "lat": [
            35.50637887201992
           ],
           "locationmode": "USA-states",
           "lon": [
            -82.60337939199354
           ],
           "mode": "markers",
           "text": "P6172114",
           "type": "scattergeo"
          },
          {
           "lat": [
            35.46352456274554
           ],
           "locationmode": "USA-states",
           "lon": [
            -82.85393031628323
           ],
           "mode": "markers",
           "text": "P6172118",
           "type": "scattergeo"
          },
          {
           "lat": [
            33.82449846861484
           ],
           "locationmode": "USA-states",
           "lon": [
            -83.84830212658693
           ],
           "mode": "markers",
           "text": "P6172119",
           "type": "scattergeo"
          },
          {
           "lat": [
            34.24113530416374
           ],
           "locationmode": "USA-states",
           "lon": [
            -76.86123827425536
           ],
           "mode": "markers",
           "text": "P6172124",
           "type": "scattergeo"
          },
          {
           "lat": [
            35.52640439399558
           ],
           "locationmode": "USA-states",
           "lon": [
            -80.36945356001368
           ],
           "mode": "markers",
           "text": "P6172125",
           "type": "scattergeo"
          },
          {
           "lat": [
            35.484321684990945
           ],
           "locationmode": "USA-states",
           "lon": [
            -77.25497561660477
           ],
           "mode": "markers",
           "text": "P6172126",
           "type": "scattergeo"
          },
          {
           "lat": [
            35.560002221703485
           ],
           "locationmode": "USA-states",
           "lon": [
            -79.54704347963047
           ],
           "mode": "markers",
           "text": "P6172127",
           "type": "scattergeo"
          },
          {
           "lat": [
            35.09757171155036
           ],
           "locationmode": "USA-states",
           "lon": [
            -82.96972683934443
           ],
           "mode": "markers",
           "text": "P6172129",
           "type": "scattergeo"
          },
          {
           "lat": [
            35.842648492585674
           ],
           "locationmode": "USA-states",
           "lon": [
            -83.58554494810387
           ],
           "mode": "markers",
           "text": "P6172131",
           "type": "scattergeo"
          },
          {
           "lat": [
            34.88712958525171
           ],
           "locationmode": "USA-states",
           "lon": [
            -76.50831001197429
           ],
           "mode": "markers",
           "text": "P6172132",
           "type": "scattergeo"
          },
          {
           "lat": [
            33.92176598966702
           ],
           "locationmode": "USA-states",
           "lon": [
            -76.36219065913208
           ],
           "mode": "markers",
           "text": "P6172134",
           "type": "scattergeo"
          },
          {
           "lat": [
            34.64842950176909
           ],
           "locationmode": "USA-states",
           "lon": [
            -78.91089871471925
           ],
           "mode": "markers",
           "text": "P6172140",
           "type": "scattergeo"
          },
          {
           "lat": [
            36.102109719777864
           ],
           "locationmode": "USA-states",
           "lon": [
            -82.12097626980105
           ],
           "mode": "markers",
           "text": "P6172141",
           "type": "scattergeo"
          },
          {
           "lat": [
            35.96297898634086
           ],
           "locationmode": "USA-states",
           "lon": [
            -81.21578736044836
           ],
           "mode": "markers",
           "text": "P6172142",
           "type": "scattergeo"
          },
          {
           "lat": [
            35.456037815530536
           ],
           "locationmode": "USA-states",
           "lon": [
            -76.08831455323707
           ],
           "mode": "markers",
           "text": "P6172144",
           "type": "scattergeo"
          },
          {
           "lat": [
            34.93439798839415
           ],
           "locationmode": "USA-states",
           "lon": [
            -83.04784053162533
           ],
           "mode": "markers",
           "text": "P6172150",
           "type": "scattergeo"
          },
          {
           "lat": [
            34.562190737098256
           ],
           "locationmode": "USA-states",
           "lon": [
            -78.11445348143228
           ],
           "mode": "markers",
           "text": "P6172152",
           "type": "scattergeo"
          },
          {
           "lat": [
            34.392937224036935
           ],
           "locationmode": "USA-states",
           "lon": [
            -79.03529611845352
           ],
           "mode": "markers",
           "text": "P6172156",
           "type": "scattergeo"
          },
          {
           "lat": [
            35.31671039131205
           ],
           "locationmode": "USA-states",
           "lon": [
            -81.90292365826018
           ],
           "mode": "markers",
           "text": "P6172201",
           "type": "scattergeo"
          },
          {
           "lat": [
            35.49876135325388
           ],
           "locationmode": "USA-states",
           "lon": [
            -75.32444085580369
           ],
           "mode": "markers",
           "text": "P6172203",
           "type": "scattergeo"
          },
          {
           "lat": [
            33.93224856541649
           ],
           "locationmode": "USA-states",
           "lon": [
            -75.32581002356429
           ],
           "mode": "markers",
           "text": "P6172207",
           "type": "scattergeo"
          },
          {
           "lat": [
            33.99635564303455
           ],
           "locationmode": "USA-states",
           "lon": [
            -75.01775409965411
           ],
           "mode": "markers",
           "text": "P6172209",
           "type": "scattergeo"
          },
          {
           "lat": [
            36.13355482451419
           ],
           "locationmode": "USA-states",
           "lon": [
            -76.08549167122881
           ],
           "mode": "markers",
           "text": "P6172210",
           "type": "scattergeo"
          },
          {
           "lat": [
            35.10699867728117
           ],
           "locationmode": "USA-states",
           "lon": [
            -78.48508126832145
           ],
           "mode": "markers",
           "text": "P6172211",
           "type": "scattergeo"
          }
         ],
         "name": "06/17/2015"
        },
        {
         "data": [
          {
           "lat": [
            33.888343437481524
           ],
           "locationmode": "USA-states",
           "lon": [
            -82.94790161981783
           ],
           "mode": "markers",
           "text": "P6182051",
           "type": "scattergeo"
          },
          {
           "lat": [
            34.16635731134365
           ],
           "locationmode": "USA-states",
           "lon": [
            -80.29072014590832
           ],
           "mode": "markers",
           "text": "P6182052",
           "type": "scattergeo"
          },
          {
           "lat": [
            36.3235907903586
           ],
           "locationmode": "USA-states",
           "lon": [
            -78.05844224461929
           ],
           "mode": "markers",
           "text": "P6182053",
           "type": "scattergeo"
          },
          {
           "lat": [
            35.566906842514854
           ],
           "locationmode": "USA-states",
           "lon": [
            -83.24389432830826
           ],
           "mode": "markers",
           "text": "P6182054",
           "type": "scattergeo"
          },
          {
           "lat": [
            36.09535849174726
           ],
           "locationmode": "USA-states",
           "lon": [
            -77.93995134240575
           ],
           "mode": "markers",
           "text": "P6182056",
           "type": "scattergeo"
          },
          {
           "lat": [
            34.747370282125516
           ],
           "locationmode": "USA-states",
           "lon": [
            -80.51032235139317
           ],
           "mode": "markers",
           "text": "P6182057",
           "type": "scattergeo"
          },
          {
           "lat": [
            34.73536903348855
           ],
           "locationmode": "USA-states",
           "lon": [
            -81.07647915293353
           ],
           "mode": "markers",
           "text": "P6182058",
           "type": "scattergeo"
          },
          {
           "lat": [
            34.91079576589448
           ],
           "locationmode": "USA-states",
           "lon": [
            -75.47829529193828
           ],
           "mode": "markers",
           "text": "P6182059",
           "type": "scattergeo"
          },
          {
           "lat": [
            35.82855097768768
           ],
           "locationmode": "USA-states",
           "lon": [
            -81.63506751414718
           ],
           "mode": "markers",
           "text": "P6182102",
           "type": "scattergeo"
          },
          {
           "lat": [
            36.21154846073799
           ],
           "locationmode": "USA-states",
           "lon": [
            -83.97805424700941
           ],
           "mode": "markers",
           "text": "P6182103",
           "type": "scattergeo"
          },
          {
           "lat": [
            35.9580633515717
           ],
           "locationmode": "USA-states",
           "lon": [
            -80.35828048721088
           ],
           "mode": "markers",
           "text": "P6182104",
           "type": "scattergeo"
          },
          {
           "lat": [
            36.27228713250521
           ],
           "locationmode": "USA-states",
           "lon": [
            -77.16499705309445
           ],
           "mode": "markers",
           "text": "P6182109",
           "type": "scattergeo"
          },
          {
           "lat": [
            34.62306949980378
           ],
           "locationmode": "USA-states",
           "lon": [
            -77.00918848476071
           ],
           "mode": "markers",
           "text": "P6182118",
           "type": "scattergeo"
          },
          {
           "lat": [
            34.813567842052215
           ],
           "locationmode": "USA-states",
           "lon": [
            -77.7499468345288
           ],
           "mode": "markers",
           "text": "P6182119",
           "type": "scattergeo"
          },
          {
           "lat": [
            35.877337448949575
           ],
           "locationmode": "USA-states",
           "lon": [
            -76.11521754822824
           ],
           "mode": "markers",
           "text": "P6182120",
           "type": "scattergeo"
          },
          {
           "lat": [
            36.231940504394444
           ],
           "locationmode": "USA-states",
           "lon": [
            -83.11000146774674
           ],
           "mode": "markers",
           "text": "P6182127",
           "type": "scattergeo"
          },
          {
           "lat": [
            34.56582104709455
           ],
           "locationmode": "USA-states",
           "lon": [
            -83.44666766597074
           ],
           "mode": "markers",
           "text": "P6182128",
           "type": "scattergeo"
          },
          {
           "lat": [
            36.23397793151626
           ],
           "locationmode": "USA-states",
           "lon": [
            -82.83681714962806
           ],
           "mode": "markers",
           "text": "P6182129",
           "type": "scattergeo"
          },
          {
           "lat": [
            34.081233730367316
           ],
           "locationmode": "USA-states",
           "lon": [
            -80.15984309537355
           ],
           "mode": "markers",
           "text": "P6182130",
           "type": "scattergeo"
          },
          {
           "lat": [
            35.48756393432658
           ],
           "locationmode": "USA-states",
           "lon": [
            -76.18865377471735
           ],
           "mode": "markers",
           "text": "P6182132",
           "type": "scattergeo"
          },
          {
           "lat": [
            35.32138300658891
           ],
           "locationmode": "USA-states",
           "lon": [
            -83.89022902942898
           ],
           "mode": "markers",
           "text": "P6182134",
           "type": "scattergeo"
          },
          {
           "lat": [
            35.55309055796276
           ],
           "locationmode": "USA-states",
           "lon": [
            -76.04124091673654
           ],
           "mode": "markers",
           "text": "P6182135",
           "type": "scattergeo"
          },
          {
           "lat": [
            36.244160564341605
           ],
           "locationmode": "USA-states",
           "lon": [
            -82.99318913569718
           ],
           "mode": "markers",
           "text": "P6182136",
           "type": "scattergeo"
          },
          {
           "lat": [
            33.90564929132476
           ],
           "locationmode": "USA-states",
           "lon": [
            -76.81594142925503
           ],
           "mode": "markers",
           "text": "P6182138",
           "type": "scattergeo"
          },
          {
           "lat": [
            36.13047631334681
           ],
           "locationmode": "USA-states",
           "lon": [
            -81.75544369415454
           ],
           "mode": "markers",
           "text": "P6182139",
           "type": "scattergeo"
          },
          {
           "lat": [
            35.66152288261293
           ],
           "locationmode": "USA-states",
           "lon": [
            -81.7980823185519
           ],
           "mode": "markers",
           "text": "P6182140",
           "type": "scattergeo"
          },
          {
           "lat": [
            36.04398601868358
           ],
           "locationmode": "USA-states",
           "lon": [
            -75.77836983554582
           ],
           "mode": "markers",
           "text": "P6182141",
           "type": "scattergeo"
          },
          {
           "lat": [
            34.023735628683234
           ],
           "locationmode": "USA-states",
           "lon": [
            -76.17457689843138
           ],
           "mode": "markers",
           "text": "P6182142",
           "type": "scattergeo"
          },
          {
           "lat": [
            34.37974076117702
           ],
           "locationmode": "USA-states",
           "lon": [
            -80.49103659669909
           ],
           "mode": "markers",
           "text": "P6182143",
           "type": "scattergeo"
          },
          {
           "lat": [
            34.93297597435129
           ],
           "locationmode": "USA-states",
           "lon": [
            -82.50424451163512
           ],
           "mode": "markers",
           "text": "P6182145",
           "type": "scattergeo"
          },
          {
           "lat": [
            33.98427195973225
           ],
           "locationmode": "USA-states",
           "lon": [
            -81.87570213827846
           ],
           "mode": "markers",
           "text": "P6182150",
           "type": "scattergeo"
          },
          {
           "lat": [
            33.897509630994
           ],
           "locationmode": "USA-states",
           "lon": [
            -83.7661904477173
           ],
           "mode": "markers",
           "text": "P6182153",
           "type": "scattergeo"
          },
          {
           "lat": [
            35.210874927616885
           ],
           "locationmode": "USA-states",
           "lon": [
            -82.20720873525687
           ],
           "mode": "markers",
           "text": "P6182154",
           "type": "scattergeo"
          },
          {
           "lat": [
            35.745709837838604
           ],
           "locationmode": "USA-states",
           "lon": [
            -80.3964589285375
           ],
           "mode": "markers",
           "text": "P6182156",
           "type": "scattergeo"
          },
          {
           "lat": [
            33.834773227381326
           ],
           "locationmode": "USA-states",
           "lon": [
            -78.29876549424597
           ],
           "mode": "markers",
           "text": "P6182157",
           "type": "scattergeo"
          },
          {
           "lat": [
            36.08222460842368
           ],
           "locationmode": "USA-states",
           "lon": [
            -75.21833218855545
           ],
           "mode": "markers",
           "text": "P6182158",
           "type": "scattergeo"
          },
          {
           "lat": [
            35.48832285617296
           ],
           "locationmode": "USA-states",
           "lon": [
            -78.3058053792503
           ],
           "mode": "markers",
           "text": "P6182159",
           "type": "scattergeo"
          },
          {
           "lat": [
            36.09038754693348
           ],
           "locationmode": "USA-states",
           "lon": [
            -83.74853722719972
           ],
           "mode": "markers",
           "text": "P6182202",
           "type": "scattergeo"
          },
          {
           "lat": [
            35.931915261956355
           ],
           "locationmode": "USA-states",
           "lon": [
            -82.50991446953586
           ],
           "mode": "markers",
           "text": "P6182210",
           "type": "scattergeo"
          },
          {
           "lat": [
            36.03499282787851
           ],
           "locationmode": "USA-states",
           "lon": [
            -83.40314834595767
           ],
           "mode": "markers",
           "text": "P6182211",
           "type": "scattergeo"
          },
          {
           "lat": [
            34.60011337428063
           ],
           "locationmode": "USA-states",
           "lon": [
            -76.17300633996602
           ],
           "mode": "markers",
           "text": "P6182213",
           "type": "scattergeo"
          },
          {
           "lat": [
            35.153291975421645
           ],
           "locationmode": "USA-states",
           "lon": [
            -75.70785561445172
           ],
           "mode": "markers",
           "text": "P6182216",
           "type": "scattergeo"
          },
          {
           "lat": [
            34.457187103849236
           ],
           "locationmode": "USA-states",
           "lon": [
            -78.0636865639933
           ],
           "mode": "markers",
           "text": "P6182221",
           "type": "scattergeo"
          },
          {
           "lat": [
            34.115277204532475
           ],
           "locationmode": "USA-states",
           "lon": [
            -82.29085246339092
           ],
           "mode": "markers",
           "text": "P6182222",
           "type": "scattergeo"
          },
          {
           "lat": [
            34.58125456521539
           ],
           "locationmode": "USA-states",
           "lon": [
            -78.175785807907
           ],
           "mode": "markers",
           "text": "P6182225",
           "type": "scattergeo"
          }
         ],
         "name": "06/18/2015"
        },
        {
         "data": [
          {
           "lat": [
            34.574191721895005
           ],
           "locationmode": "USA-states",
           "lon": [
            -82.38199503603919
           ],
           "mode": "markers",
           "text": "P6192058",
           "type": "scattergeo"
          },
          {
           "lat": [
            34.902828997573565
           ],
           "locationmode": "USA-states",
           "lon": [
            -75.775553342465
           ],
           "mode": "markers",
           "text": "P6192059",
           "type": "scattergeo"
          },
          {
           "lat": [
            35.57419237483621
           ],
           "locationmode": "USA-states",
           "lon": [
            -82.60770383602991
           ],
           "mode": "markers",
           "text": "P6192100",
           "type": "scattergeo"
          },
          {
           "lat": [
            36.25266022270921
           ],
           "locationmode": "USA-states",
           "lon": [
            -78.97447580519747
           ],
           "mode": "markers",
           "text": "P6192103",
           "type": "scattergeo"
          },
          {
           "lat": [
            34.29934188497729
           ],
           "locationmode": "USA-states",
           "lon": [
            -83.44028849933963
           ],
           "mode": "markers",
           "text": "P6192104",
           "type": "scattergeo"
          },
          {
           "lat": [
            35.343209040685096
           ],
           "locationmode": "USA-states",
           "lon": [
            -78.21804929389378
           ],
           "mode": "markers",
           "text": "P6192105",
           "type": "scattergeo"
          },
          {
           "lat": [
            36.0248510037879
           ],
           "locationmode": "USA-states",
           "lon": [
            -77.95646006853644
           ],
           "mode": "markers",
           "text": "P6192111",
           "type": "scattergeo"
          },
          {
           "lat": [
            34.100655739212456
           ],
           "locationmode": "USA-states",
           "lon": [
            -76.02765876339993
           ],
           "mode": "markers",
           "text": "P6192115",
           "type": "scattergeo"
          },
          {
           "lat": [
            35.5902701991137
           ],
           "locationmode": "USA-states",
           "lon": [
            -75.17331672243265
           ],
           "mode": "markers",
           "text": "P6192116",
           "type": "scattergeo"
          },
          {
           "lat": [
            35.82581058441185
           ],
           "locationmode": "USA-states",
           "lon": [
            -80.97520383754896
           ],
           "mode": "markers",
           "text": "P6192117",
           "type": "scattergeo"
          },
          {
           "lat": [
            35.940913288444236
           ],
           "locationmode": "USA-states",
           "lon": [
            -83.80806926482643
           ],
           "mode": "markers",
           "text": "P6192118",
           "type": "scattergeo"
          },
          {
           "lat": [
            35.425207800053464
           ],
           "locationmode": "USA-states",
           "lon": [
            -77.97604462294781
           ],
           "mode": "markers",
           "text": "P6192119",
           "type": "scattergeo"
          },
          {
           "lat": [
            34.338231957765345
           ],
           "locationmode": "USA-states",
           "lon": [
            -83.09747006938925
           ],
           "mode": "markers",
           "text": "P6192121",
           "type": "scattergeo"
          },
          {
           "lat": [
            35.03789222351307
           ],
           "locationmode": "USA-states",
           "lon": [
            -83.72950765358551
           ],
           "mode": "markers",
           "text": "P6192123",
           "type": "scattergeo"
          },
          {
           "lat": [
            34.75236101581732
           ],
           "locationmode": "USA-states",
           "lon": [
            -82.09832016745308
           ],
           "mode": "markers",
           "text": "P6192126",
           "type": "scattergeo"
          },
          {
           "lat": [
            36.21063104775174
           ],
           "locationmode": "USA-states",
           "lon": [
            -80.42711596276453
           ],
           "mode": "markers",
           "text": "P6192127",
           "type": "scattergeo"
          },
          {
           "lat": [
            35.66988264200778
           ],
           "locationmode": "USA-states",
           "lon": [
            -81.20676880806862
           ],
           "mode": "markers",
           "text": "P6192128",
           "type": "scattergeo"
          },
          {
           "lat": [
            35.54416711787892
           ],
           "locationmode": "USA-states",
           "lon": [
            -76.9239804614256
           ],
           "mode": "markers",
           "text": "P6192129",
           "type": "scattergeo"
          },
          {
           "lat": [
            36.01445623407777
           ],
           "locationmode": "USA-states",
           "lon": [
            -76.65970333051783
           ],
           "mode": "markers",
           "text": "P6192135",
           "type": "scattergeo"
          },
          {
           "lat": [
            34.59252685792334
           ],
           "locationmode": "USA-states",
           "lon": [
            -82.7528533797566
           ],
           "mode": "markers",
           "text": "P6192141",
           "type": "scattergeo"
          },
          {
           "lat": [
            35.40514695590573
           ],
           "locationmode": "USA-states",
           "lon": [
            -80.87981982506973
           ],
           "mode": "markers",
           "text": "P6192147",
           "type": "scattergeo"
          },
          {
           "lat": [
            34.25895503887721
           ],
           "locationmode": "USA-states",
           "lon": [
            -82.14201979864194
           ],
           "mode": "markers",
           "text": "P6192151",
           "type": "scattergeo"
          },
          {
           "lat": [
            34.25411584700052
           ],
           "locationmode": "USA-states",
           "lon": [
            -79.71921279631809
           ],
           "mode": "markers",
           "text": "P6192157",
           "type": "scattergeo"
          },
          {
           "lat": [
            34.4194573431332
           ],
           "locationmode": "USA-states",
           "lon": [
            -83.5209965301527
           ],
           "mode": "markers",
           "text": "P6192202",
           "type": "scattergeo"
          },
          {
           "lat": [
            35.86450348170154
           ],
           "locationmode": "USA-states",
           "lon": [
            -79.36590823112374
           ],
           "mode": "markers",
           "text": "P6192208",
           "type": "scattergeo"
          },
          {
           "lat": [
            36.060431791509906
           ],
           "locationmode": "USA-states",
           "lon": [
            -81.02240260376952
           ],
           "mode": "markers",
           "text": "P6192211",
           "type": "scattergeo"
          },
          {
           "lat": [
            34.39863308863694
           ],
           "locationmode": "USA-states",
           "lon": [
            -76.39990727268169
           ],
           "mode": "markers",
           "text": "P6192215",
           "type": "scattergeo"
          },
          {
           "lat": [
            36.025759578896576
           ],
           "locationmode": "USA-states",
           "lon": [
            -75.01279292479842
           ],
           "mode": "markers",
           "text": "P6192216",
           "type": "scattergeo"
          },
          {
           "lat": [
            35.26868260750867
           ],
           "locationmode": "USA-states",
           "lon": [
            -81.42233997792279
           ],
           "mode": "markers",
           "text": "P6192217",
           "type": "scattergeo"
          },
          {
           "lat": [
            35.98264748331259
           ],
           "locationmode": "USA-states",
           "lon": [
            -81.64136305105508
           ],
           "mode": "markers",
           "text": "P6192219",
           "type": "scattergeo"
          },
          {
           "lat": [
            34.67100034657636
           ],
           "locationmode": "USA-states",
           "lon": [
            -77.6079204289441
           ],
           "mode": "markers",
           "text": "P6192220",
           "type": "scattergeo"
          }
         ],
         "name": "06/19/2015"
        },
        {
         "data": [
          {
           "lat": [
            34.58507330004051
           ],
           "locationmode": "USA-states",
           "lon": [
            -81.4136741035309
           ],
           "mode": "markers",
           "text": "P6202050",
           "type": "scattergeo"
          },
          {
           "lat": [
            34.37408135607916
           ],
           "locationmode": "USA-states",
           "lon": [
            -83.75689144477893
           ],
           "mode": "markers",
           "text": "P6202052",
           "type": "scattergeo"
          },
          {
           "lat": [
            33.905520663248694
           ],
           "locationmode": "USA-states",
           "lon": [
            -77.06300435987227
           ],
           "mode": "markers",
           "text": "P6202053",
           "type": "scattergeo"
          },
          {
           "lat": [
            34.852007787191745
           ],
           "locationmode": "USA-states",
           "lon": [
            -80.30402803829271
           ],
           "mode": "markers",
           "text": "P6202054",
           "type": "scattergeo"
          },
          {
           "lat": [
            33.895748234150005
           ],
           "locationmode": "USA-states",
           "lon": [
            -81.76877471375082
           ],
           "mode": "markers",
           "text": "P6202055",
           "type": "scattergeo"
          },
          {
           "lat": [
            33.971510501223726
           ],
           "locationmode": "USA-states",
           "lon": [
            -83.31781803986642
           ],
           "mode": "markers",
           "text": "P6202056",
           "type": "scattergeo"
          },
          {
           "lat": [
            35.37078423047148
           ],
           "locationmode": "USA-states",
           "lon": [
            -79.96464817409208
           ],
           "mode": "markers",
           "text": "P6202057",
           "type": "scattergeo"
          },
          {
           "lat": [
            34.71963180798663
           ],
           "locationmode": "USA-states",
           "lon": [
            -75.88381527787057
           ],
           "mode": "markers",
           "text": "P6202058",
           "type": "scattergeo"
          },
          {
           "lat": [
            34.92644502703841
           ],
           "locationmode": "USA-states",
           "lon": [
            -82.87020694285874
           ],
           "mode": "markers",
           "text": "P6202059",
           "type": "scattergeo"
          },
          {
           "lat": [
            33.9357939051724
           ],
           "locationmode": "USA-states",
           "lon": [
            -77.712060269798
           ],
           "mode": "markers",
           "text": "P6202101",
           "type": "scattergeo"
          },
          {
           "lat": [
            34.305400866545114
           ],
           "locationmode": "USA-states",
           "lon": [
            -78.35975281192165
           ],
           "mode": "markers",
           "text": "P6202103",
           "type": "scattergeo"
          },
          {
           "lat": [
            35.098482844012814
           ],
           "locationmode": "USA-states",
           "lon": [
            -78.64072975920023
           ],
           "mode": "markers",
           "text": "P6202104",
           "type": "scattergeo"
          },
          {
           "lat": [
            33.863891248567235
           ],
           "locationmode": "USA-states",
           "lon": [
            -79.28814670329463
           ],
           "mode": "markers",
           "text": "P6202105",
           "type": "scattergeo"
          },
          {
           "lat": [
            34.38302881642913
           ],
           "locationmode": "USA-states",
           "lon": [
            -79.94629828824048
           ],
           "mode": "markers",
           "text": "P6202106",
           "type": "scattergeo"
          },
          {
           "lat": [
            35.84997855787517
           ],
           "locationmode": "USA-states",
           "lon": [
            -76.21916050637006
           ],
           "mode": "markers",
           "text": "P6202109",
           "type": "scattergeo"
          },
          {
           "lat": [
            34.47318267655882
           ],
           "locationmode": "USA-states",
           "lon": [
            -78.22860935623379
           ],
           "mode": "markers",
           "text": "P6202111",
           "type": "scattergeo"
          },
          {
           "lat": [
            35.60382646361603
           ],
           "locationmode": "USA-states",
           "lon": [
            -75.42016912243021
           ],
           "mode": "markers",
           "text": "P6202115",
           "type": "scattergeo"
          },
          {
           "lat": [
            34.43147970357226
           ],
           "locationmode": "USA-states",
           "lon": [
            -82.55082495166945
           ],
           "mode": "markers",
           "text": "P6202116",
           "type": "scattergeo"
          },
          {
           "lat": [
            34.022676983439425
           ],
           "locationmode": "USA-states",
           "lon": [
            -83.87376837657392
           ],
           "mode": "markers",
           "text": "P6202117",
           "type": "scattergeo"
          },
          {
           "lat": [
            35.97770237032775
           ],
           "locationmode": "USA-states",
           "lon": [
            -83.09362904961532
           ],
           "mode": "markers",
           "text": "P6202119",
           "type": "scattergeo"
          },
          {
           "lat": [
            36.04947275888207
           ],
           "locationmode": "USA-states",
           "lon": [
            -79.05338837472549
           ],
           "mode": "markers",
           "text": "P6202121",
           "type": "scattergeo"
          },
          {
           "lat": [
            35.53514280438474
           ],
           "locationmode": "USA-states",
           "lon": [
            -81.43395423323392
           ],
           "mode": "markers",
           "text": "P6202122",
           "type": "scattergeo"
          },
          {
           "lat": [
            35.43736118324079
           ],
           "locationmode": "USA-states",
           "lon": [
            -82.2519468447799
           ],
           "mode": "markers",
           "text": "P6202126",
           "type": "scattergeo"
          },
          {
           "lat": [
            34.56194035149684
           ],
           "locationmode": "USA-states",
           "lon": [
            -80.53870427392282
           ],
           "mode": "markers",
           "text": "P6202129",
           "type": "scattergeo"
          },
          {
           "lat": [
            33.90818104642283
           ],
           "locationmode": "USA-states",
           "lon": [
            -83.36653085293496
           ],
           "mode": "markers",
           "text": "P6202140",
           "type": "scattergeo"
          }
         ],
         "name": "06/20/2015"
        },
        {
         "data": [
          {
           "lat": [
            36.13490478120127
           ],
           "locationmode": "USA-states",
           "lon": [
            -79.72918481790656
           ],
           "mode": "markers",
           "text": "P6212122",
           "type": "scattergeo"
          },
          {
           "lat": [
            35.09898196220554
           ],
           "locationmode": "USA-states",
           "lon": [
            -75.95583669545536
           ],
           "mode": "markers",
           "text": "P6212123",
           "type": "scattergeo"
          },
          {
           "lat": [
            34.05685402744141
           ],
           "locationmode": "USA-states",
           "lon": [
            -83.070139979878
           ],
           "mode": "markers",
           "text": "P6212126",
           "type": "scattergeo"
          },
          {
           "lat": [
            34.82638618720415
           ],
           "locationmode": "USA-states",
           "lon": [
            -77.00221370326983
           ],
           "mode": "markers",
           "text": "P6212127",
           "type": "scattergeo"
          },
          {
           "lat": [
            35.30153556354931
           ],
           "locationmode": "USA-states",
           "lon": [
            -80.0464912075073
           ],
           "mode": "markers",
           "text": "P6212145",
           "type": "scattergeo"
          },
          {
           "lat": [
            35.41041170994765
           ],
           "locationmode": "USA-states",
           "lon": [
            -76.54460981696886
           ],
           "mode": "markers",
           "text": "P6212146",
           "type": "scattergeo"
          },
          {
           "lat": [
            34.07970085815377
           ],
           "locationmode": "USA-states",
           "lon": [
            -79.87240381177688
           ],
           "mode": "markers",
           "text": "P6212154",
           "type": "scattergeo"
          },
          {
           "lat": [
            34.45431780978289
           ],
           "locationmode": "USA-states",
           "lon": [
            -78.63056240790104
           ],
           "mode": "markers",
           "text": "P6212155",
           "type": "scattergeo"
          },
          {
           "lat": [
            35.58223486400926
           ],
           "locationmode": "USA-states",
           "lon": [
            -80.25037313195868
           ],
           "mode": "markers",
           "text": "P6212157",
           "type": "scattergeo"
          },
          {
           "lat": [
            35.90437942035184
           ],
           "locationmode": "USA-states",
           "lon": [
            -78.44014999866808
           ],
           "mode": "markers",
           "text": "P6212159",
           "type": "scattergeo"
          },
          {
           "lat": [
            35.467287283537146
           ],
           "locationmode": "USA-states",
           "lon": [
            -81.09188404724472
           ],
           "mode": "markers",
           "text": "P6212200",
           "type": "scattergeo"
          },
          {
           "lat": [
            35.4196041878603
           ],
           "locationmode": "USA-states",
           "lon": [
            -78.44872756696304
           ],
           "mode": "markers",
           "text": "P6212201",
           "type": "scattergeo"
          },
          {
           "lat": [
            35.49837325481278
           ],
           "locationmode": "USA-states",
           "lon": [
            -82.66954143647865
           ],
           "mode": "markers",
           "text": "P6212205",
           "type": "scattergeo"
          },
          {
           "lat": [
            35.090963857677785
           ],
           "locationmode": "USA-states",
           "lon": [
            -77.97819978099646
           ],
           "mode": "markers",
           "text": "P6212207",
           "type": "scattergeo"
          },
          {
           "lat": [
            35.19779286843287
           ],
           "locationmode": "USA-states",
           "lon": [
            -77.0951243588725
           ],
           "mode": "markers",
           "text": "P6212209",
           "type": "scattergeo"
          },
          {
           "lat": [
            34.1907796349698
           ],
           "locationmode": "USA-states",
           "lon": [
            -77.19723156090075
           ],
           "mode": "markers",
           "text": "P6212211",
           "type": "scattergeo"
          },
          {
           "lat": [
            36.182098831334216
           ],
           "locationmode": "USA-states",
           "lon": [
            -78.13137415212783
           ],
           "mode": "markers",
           "text": "P6212219",
           "type": "scattergeo"
          },
          {
           "lat": [
            33.93645894679674
           ],
           "locationmode": "USA-states",
           "lon": [
            -75.4004687521037
           ],
           "mode": "markers",
           "text": "P6212220",
           "type": "scattergeo"
          }
         ],
         "name": "06/21/2015"
        },
        {
         "data": [
          {
           "lat": [
            34.22207957197472
           ],
           "locationmode": "USA-states",
           "lon": [
            -81.88895421892182
           ],
           "mode": "markers",
           "text": "P6222148",
           "type": "scattergeo"
          },
          {
           "lat": [
            34.9469274598418
           ],
           "locationmode": "USA-states",
           "lon": [
            -78.34830761796628
           ],
           "mode": "markers",
           "text": "P6222152",
           "type": "scattergeo"
          },
          {
           "lat": [
            35.094272353818916
           ],
           "locationmode": "USA-states",
           "lon": [
            -81.81111233456433
           ],
           "mode": "markers",
           "text": "P6222154",
           "type": "scattergeo"
          },
          {
           "lat": [
            34.31881779572926
           ],
           "locationmode": "USA-states",
           "lon": [
            -75.85372814599619
           ],
           "mode": "markers",
           "text": "P6222157",
           "type": "scattergeo"
          },
          {
           "lat": [
            36.05224121202632
           ],
           "locationmode": "USA-states",
           "lon": [
            -79.63555251498646
           ],
           "mode": "markers",
           "text": "P6222158",
           "type": "scattergeo"
          },
          {
           "lat": [
            33.97103739632947
           ],
           "locationmode": "USA-states",
           "lon": [
            -82.53902724665396
           ],
           "mode": "markers",
           "text": "P6222203",
           "type": "scattergeo"
          },
          {
           "lat": [
            34.01718876883004
           ],
           "locationmode": "USA-states",
           "lon": [
            -82.7051926376709
           ],
           "mode": "markers",
           "text": "P6222204",
           "type": "scattergeo"
          },
          {
           "lat": [
            35.85670998278797
           ],
           "locationmode": "USA-states",
           "lon": [
            -83.30345280193131
           ],
           "mode": "markers",
           "text": "P6222205",
           "type": "scattergeo"
          },
          {
           "lat": [
            34.901410237474046
           ],
           "locationmode": "USA-states",
           "lon": [
            -78.46620262451735
           ],
           "mode": "markers",
           "text": "P6222207",
           "type": "scattergeo"
          },
          {
           "lat": [
            34.74639733250107
           ],
           "locationmode": "USA-states",
           "lon": [
            -77.51780772721689
           ],
           "mode": "markers",
           "text": "P6222209",
           "type": "scattergeo"
          },
          {
           "lat": [
            35.88263531287518
           ],
           "locationmode": "USA-states",
           "lon": [
            -78.13345394886797
           ],
           "mode": "markers",
           "text": "P6222210",
           "type": "scattergeo"
          },
          {
           "lat": [
            35.557885600383415
           ],
           "locationmode": "USA-states",
           "lon": [
            -79.70840994893581
           ],
           "mode": "markers",
           "text": "P6222212",
           "type": "scattergeo"
          },
          {
           "lat": [
            36.29362069905133
           ],
           "locationmode": "USA-states",
           "lon": [
            -83.92112894360858
           ],
           "mode": "markers",
           "text": "P6222214",
           "type": "scattergeo"
          },
          {
           "lat": [
            34.93958204838307
           ],
           "locationmode": "USA-states",
           "lon": [
            -82.23311059712644
           ],
           "mode": "markers",
           "text": "P6222215",
           "type": "scattergeo"
          },
          {
           "lat": [
            36.326371630707634
           ],
           "locationmode": "USA-states",
           "lon": [
            -83.9212075777506
           ],
           "mode": "markers",
           "text": "P6222220",
           "type": "scattergeo"
          },
          {
           "lat": [
            34.49976331743166
           ],
           "locationmode": "USA-states",
           "lon": [
            -82.81210551709151
           ],
           "mode": "markers",
           "text": "P6222221",
           "type": "scattergeo"
          },
          {
           "lat": [
            34.85925955700307
           ],
           "locationmode": "USA-states",
           "lon": [
            -79.2376804800155
           ],
           "mode": "markers",
           "text": "P6222223",
           "type": "scattergeo"
          },
          {
           "lat": [
            34.80378322277176
           ],
           "locationmode": "USA-states",
           "lon": [
            -82.86602820444864
           ],
           "mode": "markers",
           "text": "P6222224",
           "type": "scattergeo"
          },
          {
           "lat": [
            35.687234809164984
           ],
           "locationmode": "USA-states",
           "lon": [
            -83.24589890679523
           ],
           "mode": "markers",
           "text": "P6222226",
           "type": "scattergeo"
          },
          {
           "lat": [
            36.2198088095771
           ],
           "locationmode": "USA-states",
           "lon": [
            -76.17254623608932
           ],
           "mode": "markers",
           "text": "P6222227",
           "type": "scattergeo"
          },
          {
           "lat": [
            35.9381815002575
           ],
           "locationmode": "USA-states",
           "lon": [
            -81.64765682219705
           ],
           "mode": "markers",
           "text": "P6222230",
           "type": "scattergeo"
          },
          {
           "lat": [
            35.30531668096505
           ],
           "locationmode": "USA-states",
           "lon": [
            -83.62460971686077
           ],
           "mode": "markers",
           "text": "P6222231",
           "type": "scattergeo"
          },
          {
           "lat": [
            36.218967817028
           ],
           "locationmode": "USA-states",
           "lon": [
            -80.92569226845669
           ],
           "mode": "markers",
           "text": "P6222236",
           "type": "scattergeo"
          },
          {
           "lat": [
            36.11023071462868
           ],
           "locationmode": "USA-states",
           "lon": [
            -78.22741991798027
           ],
           "mode": "markers",
           "text": "P6222237",
           "type": "scattergeo"
          },
          {
           "lat": [
            36.078218782413266
           ],
           "locationmode": "USA-states",
           "lon": [
            -77.13347207932158
           ],
           "mode": "markers",
           "text": "P6222239",
           "type": "scattergeo"
          },
          {
           "lat": [
            34.395313649407335
           ],
           "locationmode": "USA-states",
           "lon": [
            -80.34527879135794
           ],
           "mode": "markers",
           "text": "P6222240",
           "type": "scattergeo"
          },
          {
           "lat": [
            35.76381197004748
           ],
           "locationmode": "USA-states",
           "lon": [
            -83.41733150424857
           ],
           "mode": "markers",
           "text": "P6222244",
           "type": "scattergeo"
          }
         ],
         "name": "06/22/2015"
        },
        {
         "data": [
          {
           "lat": [
            35.21721770386012
           ],
           "locationmode": "USA-states",
           "lon": [
            -77.90061270321506
           ],
           "mode": "markers",
           "text": "P6232101",
           "type": "scattergeo"
          },
          {
           "lat": [
            33.84452362543535
           ],
           "locationmode": "USA-states",
           "lon": [
            -75.1475434325973
           ],
           "mode": "markers",
           "text": "P6232134",
           "type": "scattergeo"
          },
          {
           "lat": [
            36.21880320542135
           ],
           "locationmode": "USA-states",
           "lon": [
            -75.28889697561365
           ],
           "mode": "markers",
           "text": "P6232135",
           "type": "scattergeo"
          },
          {
           "lat": [
            36.15284508499799
           ],
           "locationmode": "USA-states",
           "lon": [
            -76.41935058017071
           ],
           "mode": "markers",
           "text": "P6232136",
           "type": "scattergeo"
          },
          {
           "lat": [
            34.99460664589124
           ],
           "locationmode": "USA-states",
           "lon": [
            -83.0599566486175
           ],
           "mode": "markers",
           "text": "P6232137",
           "type": "scattergeo"
          },
          {
           "lat": [
            34.463477539380186
           ],
           "locationmode": "USA-states",
           "lon": [
            -82.69783902673926
           ],
           "mode": "markers",
           "text": "P6232138",
           "type": "scattergeo"
          },
          {
           "lat": [
            34.899198683967
           ],
           "locationmode": "USA-states",
           "lon": [
            -80.62165749453791
           ],
           "mode": "markers",
           "text": "P6232139",
           "type": "scattergeo"
          },
          {
           "lat": [
            34.481486394691494
           ],
           "locationmode": "USA-states",
           "lon": [
            -78.83704172371155
           ],
           "mode": "markers",
           "text": "P6232140",
           "type": "scattergeo"
          },
          {
           "lat": [
            36.03312546366626
           ],
           "locationmode": "USA-states",
           "lon": [
            -75.65543555879809
           ],
           "mode": "markers",
           "text": "P6232141",
           "type": "scattergeo"
          },
          {
           "lat": [
            35.233410871071605
           ],
           "locationmode": "USA-states",
           "lon": [
            -79.45163981859368
           ],
           "mode": "markers",
           "text": "P6232142",
           "type": "scattergeo"
          },
          {
           "lat": [
            35.03820166408474
           ],
           "locationmode": "USA-states",
           "lon": [
            -83.2586803741902
           ],
           "mode": "markers",
           "text": "P6232143",
           "type": "scattergeo"
          },
          {
           "lat": [
            35.832577027706755
           ],
           "locationmode": "USA-states",
           "lon": [
            -75.94337256253147
           ],
           "mode": "markers",
           "text": "P6232144",
           "type": "scattergeo"
          },
          {
           "lat": [
            34.04756004190456
           ],
           "locationmode": "USA-states",
           "lon": [
            -82.95645750188079
           ],
           "mode": "markers",
           "text": "P6232146",
           "type": "scattergeo"
          },
          {
           "lat": [
            36.28984983415856
           ],
           "locationmode": "USA-states",
           "lon": [
            -78.95164271050638
           ],
           "mode": "markers",
           "text": "P6232147",
           "type": "scattergeo"
          },
          {
           "lat": [
            36.03097007826546
           ],
           "locationmode": "USA-states",
           "lon": [
            -79.74230638253226
           ],
           "mode": "markers",
           "text": "P6232148",
           "type": "scattergeo"
          },
          {
           "lat": [
            36.18564667189597
           ],
           "locationmode": "USA-states",
           "lon": [
            -83.6788166117775
           ],
           "mode": "markers",
           "text": "P6232150",
           "type": "scattergeo"
          },
          {
           "lat": [
            35.20907306546225
           ],
           "locationmode": "USA-states",
           "lon": [
            -81.98101132498903
           ],
           "mode": "markers",
           "text": "P6232151",
           "type": "scattergeo"
          },
          {
           "lat": [
            36.322345057923975
           ],
           "locationmode": "USA-states",
           "lon": [
            -80.47866895940001
           ],
           "mode": "markers",
           "text": "P6232152",
           "type": "scattergeo"
          },
          {
           "lat": [
            35.25402972732179
           ],
           "locationmode": "USA-states",
           "lon": [
            -75.84562218632445
           ],
           "mode": "markers",
           "text": "P6232153",
           "type": "scattergeo"
          },
          {
           "lat": [
            35.04347613565808
           ],
           "locationmode": "USA-states",
           "lon": [
            -82.95111461894646
           ],
           "mode": "markers",
           "text": "P6232154",
           "type": "scattergeo"
          },
          {
           "lat": [
            34.099386248345475
           ],
           "locationmode": "USA-states",
           "lon": [
            -80.62059301596258
           ],
           "mode": "markers",
           "text": "P6232155",
           "type": "scattergeo"
          },
          {
           "lat": [
            36.12573689163013
           ],
           "locationmode": "USA-states",
           "lon": [
            -75.9125109257605
           ],
           "mode": "markers",
           "text": "P6232156",
           "type": "scattergeo"
          },
          {
           "lat": [
            35.17314567508954
           ],
           "locationmode": "USA-states",
           "lon": [
            -76.40381442875038
           ],
           "mode": "markers",
           "text": "P6232157",
           "type": "scattergeo"
          },
          {
           "lat": [
            34.06061815332366
           ],
           "locationmode": "USA-states",
           "lon": [
            -81.61328508151522
           ],
           "mode": "markers",
           "text": "P6232158",
           "type": "scattergeo"
          },
          {
           "lat": [
            34.0733309685626
           ],
           "locationmode": "USA-states",
           "lon": [
            -83.33323884261237
           ],
           "mode": "markers",
           "text": "P6232159",
           "type": "scattergeo"
          },
          {
           "lat": [
            35.98555024747535
           ],
           "locationmode": "USA-states",
           "lon": [
            -76.9490180581547
           ],
           "mode": "markers",
           "text": "P6232200",
           "type": "scattergeo"
          },
          {
           "lat": [
            35.282726678023366
           ],
           "locationmode": "USA-states",
           "lon": [
            -78.05329812853178
           ],
           "mode": "markers",
           "text": "P6232202",
           "type": "scattergeo"
          },
          {
           "lat": [
            35.78889007932032
           ],
           "locationmode": "USA-states",
           "lon": [
            -82.1437445180694
           ],
           "mode": "markers",
           "text": "P6232203",
           "type": "scattergeo"
          },
          {
           "lat": [
            34.47222272244538
           ],
           "locationmode": "USA-states",
           "lon": [
            -78.45722478091756
           ],
           "mode": "markers",
           "text": "P6232204",
           "type": "scattergeo"
          },
          {
           "lat": [
            34.229097707535395
           ],
           "locationmode": "USA-states",
           "lon": [
            -75.04827373388662
           ],
           "mode": "markers",
           "text": "P6232205",
           "type": "scattergeo"
          },
          {
           "lat": [
            34.54356665555857
           ],
           "locationmode": "USA-states",
           "lon": [
            -76.9675907084979
           ],
           "mode": "markers",
           "text": "P6232206",
           "type": "scattergeo"
          },
          {
           "lat": [
            34.486593818267394
           ],
           "locationmode": "USA-states",
           "lon": [
            -76.37838059235422
           ],
           "mode": "markers",
           "text": "P6232207",
           "type": "scattergeo"
          },
          {
           "lat": [
            35.04066639788423
           ],
           "locationmode": "USA-states",
           "lon": [
            -78.446472863144
           ],
           "mode": "markers",
           "text": "P6232210",
           "type": "scattergeo"
          },
          {
           "lat": [
            35.76509024377134
           ],
           "locationmode": "USA-states",
           "lon": [
            -81.57877246202615
           ],
           "mode": "markers",
           "text": "P6232211",
           "type": "scattergeo"
          },
          {
           "lat": [
            35.11263593436904
           ],
           "locationmode": "USA-states",
           "lon": [
            -78.19168033867504
           ],
           "mode": "markers",
           "text": "P6232212",
           "type": "scattergeo"
          },
          {
           "lat": [
            34.88955480677435
           ],
           "locationmode": "USA-states",
           "lon": [
            -76.13232611000592
           ],
           "mode": "markers",
           "text": "P6232215",
           "type": "scattergeo"
          },
          {
           "lat": [
            35.89346998431359
           ],
           "locationmode": "USA-states",
           "lon": [
            -77.0826754243299
           ],
           "mode": "markers",
           "text": "P6232217",
           "type": "scattergeo"
          },
          {
           "lat": [
            36.04628641206567
           ],
           "locationmode": "USA-states",
           "lon": [
            -83.19751054915889
           ],
           "mode": "markers",
           "text": "P6232218",
           "type": "scattergeo"
          },
          {
           "lat": [
            34.62718093272784
           ],
           "locationmode": "USA-states",
           "lon": [
            -78.9687982948216
           ],
           "mode": "markers",
           "text": "P6232219",
           "type": "scattergeo"
          },
          {
           "lat": [
            36.14579847980043
           ],
           "locationmode": "USA-states",
           "lon": [
            -75.62479464416586
           ],
           "mode": "markers",
           "text": "P6232220",
           "type": "scattergeo"
          },
          {
           "lat": [
            34.37161230727227
           ],
           "locationmode": "USA-states",
           "lon": [
            -83.40168227819535
           ],
           "mode": "markers",
           "text": "P6232225",
           "type": "scattergeo"
          },
          {
           "lat": [
            34.11919052277768
           ],
           "locationmode": "USA-states",
           "lon": [
            -76.61043018094516
           ],
           "mode": "markers",
           "text": "P6232226",
           "type": "scattergeo"
          },
          {
           "lat": [
            33.923786385820975
           ],
           "locationmode": "USA-states",
           "lon": [
            -80.1153323049619
           ],
           "mode": "markers",
           "text": "P6232228",
           "type": "scattergeo"
          },
          {
           "lat": [
            35.678260529544275
           ],
           "locationmode": "USA-states",
           "lon": [
            -81.83899017888737
           ],
           "mode": "markers",
           "text": "P6232233",
           "type": "scattergeo"
          }
         ],
         "name": "06/23/2015"
        },
        {
         "data": [
          {
           "lat": [
            33.92850770018766
           ],
           "locationmode": "USA-states",
           "lon": [
            -80.79943189524084
           ],
           "mode": "markers",
           "text": "P6242138",
           "type": "scattergeo"
          },
          {
           "lat": [
            35.292013576039125
           ],
           "locationmode": "USA-states",
           "lon": [
            -78.8134996739462
           ],
           "mode": "markers",
           "text": "P6242139",
           "type": "scattergeo"
          },
          {
           "lat": [
            34.385944133462644
           ],
           "locationmode": "USA-states",
           "lon": [
            -80.28729965581037
           ],
           "mode": "markers",
           "text": "P6242141",
           "type": "scattergeo"
          },
          {
           "lat": [
            36.0697764793064
           ],
           "locationmode": "USA-states",
           "lon": [
            -78.4287112732751
           ],
           "mode": "markers",
           "text": "P6242142",
           "type": "scattergeo"
          },
          {
           "lat": [
            34.04405212529388
           ],
           "locationmode": "USA-states",
           "lon": [
            -82.1035120759548
           ],
           "mode": "markers",
           "text": "P6242143",
           "type": "scattergeo"
          },
          {
           "lat": [
            35.16895820634206
           ],
           "locationmode": "USA-states",
           "lon": [
            -82.38535984596831
           ],
           "mode": "markers",
           "text": "P6242144",
           "type": "scattergeo"
          },
          {
           "lat": [
            36.07266920113777
           ],
           "locationmode": "USA-states",
           "lon": [
            -76.5414247890489
           ],
           "mode": "markers",
           "text": "P6242145",
           "type": "scattergeo"
          },
          {
           "lat": [
            34.338897640862605
           ],
           "locationmode": "USA-states",
           "lon": [
            -79.64436070257666
           ],
           "mode": "markers",
           "text": "P6242150",
           "type": "scattergeo"
          },
          {
           "lat": [
            36.028905137709835
           ],
           "locationmode": "USA-states",
           "lon": [
            -78.115352944072
           ],
           "mode": "markers",
           "text": "P6242152",
           "type": "scattergeo"
          },
          {
           "lat": [
            34.64980861806979
           ],
           "locationmode": "USA-states",
           "lon": [
            -83.29927922712395
           ],
           "mode": "markers",
           "text": "P6242153",
           "type": "scattergeo"
          },
          {
           "lat": [
            33.882784385130186
           ],
           "locationmode": "USA-states",
           "lon": [
            -77.56124481589357
           ],
           "mode": "markers",
           "text": "P6242154",
           "type": "scattergeo"
          },
          {
           "lat": [
            35.104368790838656
           ],
           "locationmode": "USA-states",
           "lon": [
            -80.67472511979635
           ],
           "mode": "markers",
           "text": "P6242156",
           "type": "scattergeo"
          },
          {
           "lat": [
            34.685521731304235
           ],
           "locationmode": "USA-states",
           "lon": [
            -75.20226956305567
           ],
           "mode": "markers",
           "text": "P6242157",
           "type": "scattergeo"
          },
          {
           "lat": [
            36.02751563866607
           ],
           "locationmode": "USA-states",
           "lon": [
            -82.2526678821361
           ],
           "mode": "markers",
           "text": "P6242158",
           "type": "scattergeo"
          },
          {
           "lat": [
            34.374360512368746
           ],
           "locationmode": "USA-states",
           "lon": [
            -78.04217024479809
           ],
           "mode": "markers",
           "text": "P6242159",
           "type": "scattergeo"
          },
          {
           "lat": [
            34.578107185343924
           ],
           "locationmode": "USA-states",
           "lon": [
            -78.57355097285509
           ],
           "mode": "markers",
           "text": "P6242202",
           "type": "scattergeo"
          },
          {
           "lat": [
            34.926563745454935
           ],
           "locationmode": "USA-states",
           "lon": [
            -75.76724598316522
           ],
           "mode": "markers",
           "text": "P6242210",
           "type": "scattergeo"
          },
          {
           "lat": [
            35.685552929431445
           ],
           "locationmode": "USA-states",
           "lon": [
            -80.89914281432364
           ],
           "mode": "markers",
           "text": "P6242212",
           "type": "scattergeo"
          },
          {
           "lat": [
            35.038971858356845
           ],
           "locationmode": "USA-states",
           "lon": [
            -76.95354540081468
           ],
           "mode": "markers",
           "text": "P6242213",
           "type": "scattergeo"
          },
          {
           "lat": [
            34.324307751047314
           ],
           "locationmode": "USA-states",
           "lon": [
            -81.1479548309438
           ],
           "mode": "markers",
           "text": "P6242215",
           "type": "scattergeo"
          },
          {
           "lat": [
            34.145591987089965
           ],
           "locationmode": "USA-states",
           "lon": [
            -80.77248990979251
           ],
           "mode": "markers",
           "text": "P6242216",
           "type": "scattergeo"
          },
          {
           "lat": [
            35.94348193228537
           ],
           "locationmode": "USA-states",
           "lon": [
            -75.56151151020195
           ],
           "mode": "markers",
           "text": "P6242221",
           "type": "scattergeo"
          }
         ],
         "name": "06/24/2015"
        },
        {
         "data": [
          {
           "lat": [
            34.46719492691339
           ],
           "locationmode": "USA-states",
           "lon": [
            -77.16095994684463
           ],
           "mode": "markers",
           "text": "P6252118",
           "type": "scattergeo"
          },
          {
           "lat": [
            35.00914578672157
           ],
           "locationmode": "USA-states",
           "lon": [
            -76.63185030888938
           ],
           "mode": "markers",
           "text": "P6252134",
           "type": "scattergeo"
          },
          {
           "lat": [
            34.55873448304428
           ],
           "locationmode": "USA-states",
           "lon": [
            -81.75305508254728
           ],
           "mode": "markers",
           "text": "P6252137",
           "type": "scattergeo"
          },
          {
           "lat": [
            36.10595924708369
           ],
           "locationmode": "USA-states",
           "lon": [
            -79.7462959336243
           ],
           "mode": "markers",
           "text": "P6252139",
           "type": "scattergeo"
          },
          {
           "lat": [
            35.60514146260706
           ],
           "locationmode": "USA-states",
           "lon": [
            -80.57541109928948
           ],
           "mode": "markers",
           "text": "P6252142",
           "type": "scattergeo"
          },
          {
           "lat": [
            35.92547403758426
           ],
           "locationmode": "USA-states",
           "lon": [
            -80.32120500469325
           ],
           "mode": "markers",
           "text": "P6252143",
           "type": "scattergeo"
          },
          {
           "lat": [
            34.78736546325808
           ],
           "locationmode": "USA-states",
           "lon": [
            -77.96800296096232
           ],
           "mode": "markers",
           "text": "P6252144",
           "type": "scattergeo"
          },
          {
           "lat": [
            36.29852774795216
           ],
           "locationmode": "USA-states",
           "lon": [
            -83.26443922799403
           ],
           "mode": "markers",
           "text": "P6252145",
           "type": "scattergeo"
          },
          {
           "lat": [
            35.1458844780955
           ],
           "locationmode": "USA-states",
           "lon": [
            -77.49369996229436
           ],
           "mode": "markers",
           "text": "P6252146",
           "type": "scattergeo"
          },
          {
           "lat": [
            35.22307648416193
           ],
           "locationmode": "USA-states",
           "lon": [
            -77.82910779752031
           ],
           "mode": "markers",
           "text": "P6252147",
           "type": "scattergeo"
          },
          {
           "lat": [
            34.55644767871403
           ],
           "locationmode": "USA-states",
           "lon": [
            -81.39266068099664
           ],
           "mode": "markers",
           "text": "P6252148",
           "type": "scattergeo"
          },
          {
           "lat": [
            34.26993862998391
           ],
           "locationmode": "USA-states",
           "lon": [
            -81.17720155460975
           ],
           "mode": "markers",
           "text": "P6252149",
           "type": "scattergeo"
          },
          {
           "lat": [
            35.241690358846746
           ],
           "locationmode": "USA-states",
           "lon": [
            -80.41406443355449
           ],
           "mode": "markers",
           "text": "P6252150",
           "type": "scattergeo"
          },
          {
           "lat": [
            35.91105488103706
           ],
           "locationmode": "USA-states",
           "lon": [
            -80.38828707613742
           ],
           "mode": "markers",
           "text": "P6252151",
           "type": "scattergeo"
          },
          {
           "lat": [
            35.67024555909907
           ],
           "locationmode": "USA-states",
           "lon": [
            -81.22128840709178
           ],
           "mode": "markers",
           "text": "P6252152",
           "type": "scattergeo"
          },
          {
           "lat": [
            35.24032296517496
           ],
           "locationmode": "USA-states",
           "lon": [
            -80.63103103351804
           ],
           "mode": "markers",
           "text": "P6252153",
           "type": "scattergeo"
          },
          {
           "lat": [
            34.27304644353117
           ],
           "locationmode": "USA-states",
           "lon": [
            -75.29642196086701
           ],
           "mode": "markers",
           "text": "P6252156",
           "type": "scattergeo"
          },
          {
           "lat": [
            36.2574618551933
           ],
           "locationmode": "USA-states",
           "lon": [
            -79.3726235763347
           ],
           "mode": "markers",
           "text": "P6252157",
           "type": "scattergeo"
          },
          {
           "lat": [
            36.004377191173354
           ],
           "locationmode": "USA-states",
           "lon": [
            -76.43550300986142
           ],
           "mode": "markers",
           "text": "P6252159",
           "type": "scattergeo"
          },
          {
           "lat": [
            35.45486726687046
           ],
           "locationmode": "USA-states",
           "lon": [
            -75.82875254415325
           ],
           "mode": "markers",
           "text": "P6252200",
           "type": "scattergeo"
          },
          {
           "lat": [
            35.09886288675821
           ],
           "locationmode": "USA-states",
           "lon": [
            -83.50374593990774
           ],
           "mode": "markers",
           "text": "P6252204",
           "type": "scattergeo"
          },
          {
           "lat": [
            35.277569123027526
           ],
           "locationmode": "USA-states",
           "lon": [
            -78.80187180217223
           ],
           "mode": "markers",
           "text": "P6252205",
           "type": "scattergeo"
          },
          {
           "lat": [
            34.56493097629547
           ],
           "locationmode": "USA-states",
           "lon": [
            -75.22607397809026
           ],
           "mode": "markers",
           "text": "P6252209",
           "type": "scattergeo"
          },
          {
           "lat": [
            34.00469079730138
           ],
           "locationmode": "USA-states",
           "lon": [
            -81.04456028783527
           ],
           "mode": "markers",
           "text": "P6252211",
           "type": "scattergeo"
          },
          {
           "lat": [
            34.8470796071096
           ],
           "locationmode": "USA-states",
           "lon": [
            -78.47251737440753
           ],
           "mode": "markers",
           "text": "P6252213",
           "type": "scattergeo"
          },
          {
           "lat": [
            34.55011610415588
           ],
           "locationmode": "USA-states",
           "lon": [
            -78.87501698370845
           ],
           "mode": "markers",
           "text": "P6252214",
           "type": "scattergeo"
          },
          {
           "lat": [
            36.06978453477164
           ],
           "locationmode": "USA-states",
           "lon": [
            -77.45663284758946
           ],
           "mode": "markers",
           "text": "P6252216",
           "type": "scattergeo"
          },
          {
           "lat": [
            35.37203508994355
           ],
           "locationmode": "USA-states",
           "lon": [
            -80.64195111198853
           ],
           "mode": "markers",
           "text": "P6252217",
           "type": "scattergeo"
          },
          {
           "lat": [
            34.98694581614893
           ],
           "locationmode": "USA-states",
           "lon": [
            -78.16398223589907
           ],
           "mode": "markers",
           "text": "P6252219",
           "type": "scattergeo"
          },
          {
           "lat": [
            34.29542429435113
           ],
           "locationmode": "USA-states",
           "lon": [
            -81.03262048905948
           ],
           "mode": "markers",
           "text": "P6252220",
           "type": "scattergeo"
          },
          {
           "lat": [
            33.99201747038343
           ],
           "locationmode": "USA-states",
           "lon": [
            -82.12408157522985
           ],
           "mode": "markers",
           "text": "P6252221",
           "type": "scattergeo"
          },
          {
           "lat": [
            36.003199825791285
           ],
           "locationmode": "USA-states",
           "lon": [
            -80.79178112087004
           ],
           "mode": "markers",
           "text": "P6252222",
           "type": "scattergeo"
          },
          {
           "lat": [
            36.046136883666485
           ],
           "locationmode": "USA-states",
           "lon": [
            -78.41789261071595
           ],
           "mode": "markers",
           "text": "P6252223",
           "type": "scattergeo"
          },
          {
           "lat": [
            34.52530972663753
           ],
           "locationmode": "USA-states",
           "lon": [
            -81.22899343014153
           ],
           "mode": "markers",
           "text": "P6252225",
           "type": "scattergeo"
          },
          {
           "lat": [
            36.254448415439064
           ],
           "locationmode": "USA-states",
           "lon": [
            -80.08398104070623
           ],
           "mode": "markers",
           "text": "P6252226",
           "type": "scattergeo"
          },
          {
           "lat": [
            35.61374162666534
           ],
           "locationmode": "USA-states",
           "lon": [
            -83.26282114664254
           ],
           "mode": "markers",
           "text": "P6252227",
           "type": "scattergeo"
          },
          {
           "lat": [
            36.1687848673691
           ],
           "locationmode": "USA-states",
           "lon": [
            -80.45132583147286
           ],
           "mode": "markers",
           "text": "P6252228",
           "type": "scattergeo"
          },
          {
           "lat": [
            35.660405040130456
           ],
           "locationmode": "USA-states",
           "lon": [
            -79.675860336155
           ],
           "mode": "markers",
           "text": "P6252229",
           "type": "scattergeo"
          },
          {
           "lat": [
            33.90108705075166
           ],
           "locationmode": "USA-states",
           "lon": [
            -81.39000917773599
           ],
           "mode": "markers",
           "text": "P6252243",
           "type": "scattergeo"
          },
          {
           "lat": [
            36.169508918992435
           ],
           "locationmode": "USA-states",
           "lon": [
            -77.80614284283293
           ],
           "mode": "markers",
           "text": "P6252244",
           "type": "scattergeo"
          }
         ],
         "name": "06/25/2015"
        },
        {
         "data": [
          {
           "lat": [
            35.06695320995462
           ],
           "locationmode": "USA-states",
           "lon": [
            -75.06447704327358
           ],
           "mode": "markers",
           "text": "P6262135",
           "type": "scattergeo"
          },
          {
           "lat": [
            36.049353301448015
           ],
           "locationmode": "USA-states",
           "lon": [
            -77.52734520367758
           ],
           "mode": "markers",
           "text": "P6262140",
           "type": "scattergeo"
          },
          {
           "lat": [
            35.563631161238455
           ],
           "locationmode": "USA-states",
           "lon": [
            -78.44652137933056
           ],
           "mode": "markers",
           "text": "P6262146",
           "type": "scattergeo"
          },
          {
           "lat": [
            34.76098746316209
           ],
           "locationmode": "USA-states",
           "lon": [
            -77.08151541319212
           ],
           "mode": "markers",
           "text": "P6262147",
           "type": "scattergeo"
          },
          {
           "lat": [
            34.68106364606515
           ],
           "locationmode": "USA-states",
           "lon": [
            -77.14817995642659
           ],
           "mode": "markers",
           "text": "P6262148",
           "type": "scattergeo"
          },
          {
           "lat": [
            34.425111106140896
           ],
           "locationmode": "USA-states",
           "lon": [
            -80.29255539204723
           ],
           "mode": "markers",
           "text": "P6262152",
           "type": "scattergeo"
          },
          {
           "lat": [
            34.38151069008202
           ],
           "locationmode": "USA-states",
           "lon": [
            -76.49423146072934
           ],
           "mode": "markers",
           "text": "P6262200",
           "type": "scattergeo"
          },
          {
           "lat": [
            35.54451245135881
           ],
           "locationmode": "USA-states",
           "lon": [
            -75.49431807231306
           ],
           "mode": "markers",
           "text": "P6262202",
           "type": "scattergeo"
          },
          {
           "lat": [
            36.28996379224083
           ],
           "locationmode": "USA-states",
           "lon": [
            -75.7443134212144
           ],
           "mode": "markers",
           "text": "P6262203",
           "type": "scattergeo"
          },
          {
           "lat": [
            34.98388278452381
           ],
           "locationmode": "USA-states",
           "lon": [
            -82.1779646623703
           ],
           "mode": "markers",
           "text": "P6262206",
           "type": "scattergeo"
          },
          {
           "lat": [
            34.98241359461038
           ],
           "locationmode": "USA-states",
           "lon": [
            -82.92827380935785
           ],
           "mode": "markers",
           "text": "P6262208",
           "type": "scattergeo"
          },
          {
           "lat": [
            34.44425025986221
           ],
           "locationmode": "USA-states",
           "lon": [
            -83.37520806623003
           ],
           "mode": "markers",
           "text": "P6262209",
           "type": "scattergeo"
          },
          {
           "lat": [
            34.88157167585067
           ],
           "locationmode": "USA-states",
           "lon": [
            -77.47736377520536
           ],
           "mode": "markers",
           "text": "P6262214",
           "type": "scattergeo"
          },
          {
           "lat": [
            34.67801623249787
           ],
           "locationmode": "USA-states",
           "lon": [
            -81.3312441526392
           ],
           "mode": "markers",
           "text": "P6262215",
           "type": "scattergeo"
          },
          {
           "lat": [
            36.32981657717844
           ],
           "locationmode": "USA-states",
           "lon": [
            -77.26143317504548
           ],
           "mode": "markers",
           "text": "P6262217",
           "type": "scattergeo"
          },
          {
           "lat": [
            35.813999304283
           ],
           "locationmode": "USA-states",
           "lon": [
            -75.11687530284802
           ],
           "mode": "markers",
           "text": "P6262218",
           "type": "scattergeo"
          },
          {
           "lat": [
            36.19919025069528
           ],
           "locationmode": "USA-states",
           "lon": [
            -78.78221904271413
           ],
           "mode": "markers",
           "text": "P6262219",
           "type": "scattergeo"
          },
          {
           "lat": [
            34.243525137059564
           ],
           "locationmode": "USA-states",
           "lon": [
            -78.3926845029314
           ],
           "mode": "markers",
           "text": "P6262220",
           "type": "scattergeo"
          }
         ],
         "name": "06/26/2015"
        },
        {
         "data": [
          {
           "lat": [
            34.13256697262072
           ],
           "locationmode": "USA-states",
           "lon": [
            -83.15668075150354
           ],
           "mode": "markers",
           "text": "P6272144",
           "type": "scattergeo"
          },
          {
           "lat": [
            35.796335116900416
           ],
           "locationmode": "USA-states",
           "lon": [
            -82.44693276065928
           ],
           "mode": "markers",
           "text": "P6272150",
           "type": "scattergeo"
          },
          {
           "lat": [
            36.31385469570364
           ],
           "locationmode": "USA-states",
           "lon": [
            -77.56290540986907
           ],
           "mode": "markers",
           "text": "P6272151",
           "type": "scattergeo"
          },
          {
           "lat": [
            33.92651468102276
           ],
           "locationmode": "USA-states",
           "lon": [
            -76.57120201803428
           ],
           "mode": "markers",
           "text": "P6272152",
           "type": "scattergeo"
          },
          {
           "lat": [
            35.26351628362673
           ],
           "locationmode": "USA-states",
           "lon": [
            -78.5629107142264
           ],
           "mode": "markers",
           "text": "P6272156",
           "type": "scattergeo"
          },
          {
           "lat": [
            35.87068776280154
           ],
           "locationmode": "USA-states",
           "lon": [
            -81.58808376426718
           ],
           "mode": "markers",
           "text": "P6272159",
           "type": "scattergeo"
          },
          {
           "lat": [
            33.94204068306151
           ],
           "locationmode": "USA-states",
           "lon": [
            -80.52699981438316
           ],
           "mode": "markers",
           "text": "P6272201",
           "type": "scattergeo"
          },
          {
           "lat": [
            34.70198824725796
           ],
           "locationmode": "USA-states",
           "lon": [
            -76.10124932560537
           ],
           "mode": "markers",
           "text": "P6272204",
           "type": "scattergeo"
          },
          {
           "lat": [
            34.68237704098458
           ],
           "locationmode": "USA-states",
           "lon": [
            -81.15762651136157
           ],
           "mode": "markers",
           "text": "P6272205",
           "type": "scattergeo"
          },
          {
           "lat": [
            35.705399234116065
           ],
           "locationmode": "USA-states",
           "lon": [
            -78.9354657582176
           ],
           "mode": "markers",
           "text": "P6272206",
           "type": "scattergeo"
          },
          {
           "lat": [
            35.17591595243078
           ],
           "locationmode": "USA-states",
           "lon": [
            -83.5420204565057
           ],
           "mode": "markers",
           "text": "P6272207",
           "type": "scattergeo"
          },
          {
           "lat": [
            34.67424115291614
           ],
           "locationmode": "USA-states",
           "lon": [
            -75.82267066716759
           ],
           "mode": "markers",
           "text": "P6272208",
           "type": "scattergeo"
          },
          {
           "lat": [
            34.281934125879275
           ],
           "locationmode": "USA-states",
           "lon": [
            -83.15249562801881
           ],
           "mode": "markers",
           "text": "P6272212",
           "type": "scattergeo"
          },
          {
           "lat": [
            34.65328494482395
           ],
           "locationmode": "USA-states",
           "lon": [
            -76.27205509479474
           ],
           "mode": "markers",
           "text": "P6272214",
           "type": "scattergeo"
          },
          {
           "lat": [
            34.71696176136432
           ],
           "locationmode": "USA-states",
           "lon": [
            -77.61798419550246
           ],
           "mode": "markers",
           "text": "P6272215",
           "type": "scattergeo"
          },
          {
           "lat": [
            33.92909972182156
           ],
           "locationmode": "USA-states",
           "lon": [
            -80.05978115281624
           ],
           "mode": "markers",
           "text": "P6272216",
           "type": "scattergeo"
          },
          {
           "lat": [
            34.21046139839037
           ],
           "locationmode": "USA-states",
           "lon": [
            -80.31971348891423
           ],
           "mode": "markers",
           "text": "P6272217",
           "type": "scattergeo"
          },
          {
           "lat": [
            34.756070244409955
           ],
           "locationmode": "USA-states",
           "lon": [
            -76.95285130377792
           ],
           "mode": "markers",
           "text": "P6272218",
           "type": "scattergeo"
          }
         ],
         "name": "06/27/2015"
        },
        {
         "data": [
          {
           "lat": [
            35.5380047472968
           ],
           "locationmode": "USA-states",
           "lon": [
            -79.40262338444758
           ],
           "mode": "markers",
           "text": "P6302053",
           "type": "scattergeo"
          },
          {
           "lat": [
            34.955366854416994
           ],
           "locationmode": "USA-states",
           "lon": [
            -78.87284585060405
           ],
           "mode": "markers",
           "text": "P6302054",
           "type": "scattergeo"
          },
          {
           "lat": [
            35.91529556539273
           ],
           "locationmode": "USA-states",
           "lon": [
            -81.45375665937847
           ],
           "mode": "markers",
           "text": "P6302109",
           "type": "scattergeo"
          },
          {
           "lat": [
            33.95752123309262
           ],
           "locationmode": "USA-states",
           "lon": [
            -76.30238128047925
           ],
           "mode": "markers",
           "text": "P6302110",
           "type": "scattergeo"
          },
          {
           "lat": [
            35.54264064030064
           ],
           "locationmode": "USA-states",
           "lon": [
            -81.59486077264441
           ],
           "mode": "markers",
           "text": "P6302112",
           "type": "scattergeo"
          },
          {
           "lat": [
            35.8575272416029
           ],
           "locationmode": "USA-states",
           "lon": [
            -81.60857584416829
           ],
           "mode": "markers",
           "text": "P6302113",
           "type": "scattergeo"
          },
          {
           "lat": [
            34.78787225290133
           ],
           "locationmode": "USA-states",
           "lon": [
            -79.61930452399564
           ],
           "mode": "markers",
           "text": "P6302115",
           "type": "scattergeo"
          },
          {
           "lat": [
            34.460098460941914
           ],
           "locationmode": "USA-states",
           "lon": [
            -81.63762820409677
           ],
           "mode": "markers",
           "text": "P6302117",
           "type": "scattergeo"
          },
          {
           "lat": [
            34.4814851318223
           ],
           "locationmode": "USA-states",
           "lon": [
            -83.05288583348785
           ],
           "mode": "markers",
           "text": "P6302125",
           "type": "scattergeo"
          },
          {
           "lat": [
            34.09919751233425
           ],
           "locationmode": "USA-states",
           "lon": [
            -75.026776681109
           ],
           "mode": "markers",
           "text": "P6302126",
           "type": "scattergeo"
          },
          {
           "lat": [
            36.11774243633638
           ],
           "locationmode": "USA-states",
           "lon": [
            -80.15265853277884
           ],
           "mode": "markers",
           "text": "P6302129",
           "type": "scattergeo"
          },
          {
           "lat": [
            33.89439016777092
           ],
           "locationmode": "USA-states",
           "lon": [
            -82.16669613791626
           ],
           "mode": "markers",
           "text": "P6302130",
           "type": "scattergeo"
          },
          {
           "lat": [
            34.26350316928691
           ],
           "locationmode": "USA-states",
           "lon": [
            -79.83604735411491
           ],
           "mode": "markers",
           "text": "P6302133",
           "type": "scattergeo"
          },
          {
           "lat": [
            34.636658149945795
           ],
           "locationmode": "USA-states",
           "lon": [
            -82.54021071566707
           ],
           "mode": "markers",
           "text": "P6302135",
           "type": "scattergeo"
          },
          {
           "lat": [
            35.139424746706716
           ],
           "locationmode": "USA-states",
           "lon": [
            -76.98513801059609
           ],
           "mode": "markers",
           "text": "P6302136",
           "type": "scattergeo"
          },
          {
           "lat": [
            35.49633436140548
           ],
           "locationmode": "USA-states",
           "lon": [
            -80.16541015208145
           ],
           "mode": "markers",
           "text": "P6302137",
           "type": "scattergeo"
          },
          {
           "lat": [
            35.14028524581021
           ],
           "locationmode": "USA-states",
           "lon": [
            -79.2420548820809
           ],
           "mode": "markers",
           "text": "P6302138",
           "type": "scattergeo"
          },
          {
           "lat": [
            36.342573080665794
           ],
           "locationmode": "USA-states",
           "lon": [
            -76.59869266546566
           ],
           "mode": "markers",
           "text": "P6302148",
           "type": "scattergeo"
          },
          {
           "lat": [
            34.10281968881344
           ],
           "locationmode": "USA-states",
           "lon": [
            -75.97905157056533
           ],
           "mode": "markers",
           "text": "P6302150",
           "type": "scattergeo"
          },
          {
           "lat": [
            34.744658389995614
           ],
           "locationmode": "USA-states",
           "lon": [
            -76.72768894212105
           ],
           "mode": "markers",
           "text": "P6302151",
           "type": "scattergeo"
          },
          {
           "lat": [
            34.328622754628306
           ],
           "locationmode": "USA-states",
           "lon": [
            -76.73880788713906
           ],
           "mode": "markers",
           "text": "P6302152",
           "type": "scattergeo"
          },
          {
           "lat": [
            34.370434287184686
           ],
           "locationmode": "USA-states",
           "lon": [
            -80.03268088683438
           ],
           "mode": "markers",
           "text": "P6302153",
           "type": "scattergeo"
          },
          {
           "lat": [
            36.26566138721793
           ],
           "locationmode": "USA-states",
           "lon": [
            -80.75852613361182
           ],
           "mode": "markers",
           "text": "P6302154",
           "type": "scattergeo"
          },
          {
           "lat": [
            34.881379193001514
           ],
           "locationmode": "USA-states",
           "lon": [
            -83.01598018848833
           ],
           "mode": "markers",
           "text": "P6302155",
           "type": "scattergeo"
          },
          {
           "lat": [
            34.57122112753943
           ],
           "locationmode": "USA-states",
           "lon": [
            -80.28674522423228
           ],
           "mode": "markers",
           "text": "P6302157",
           "type": "scattergeo"
          },
          {
           "lat": [
            34.87531695002651
           ],
           "locationmode": "USA-states",
           "lon": [
            -80.64793290274591
           ],
           "mode": "markers",
           "text": "P6302204",
           "type": "scattergeo"
          }
         ],
         "name": "06/30/2015"
        },
        {
         "data": [
          {
           "lat": [
            35.79201368070274
           ],
           "locationmode": "USA-states",
           "lon": [
            -82.8726444526573
           ],
           "mode": "markers",
           "text": "P7012059",
           "type": "scattergeo"
          },
          {
           "lat": [
            34.46825927987749
           ],
           "locationmode": "USA-states",
           "lon": [
            -81.69295955606906
           ],
           "mode": "markers",
           "text": "P7012100",
           "type": "scattergeo"
          },
          {
           "lat": [
            34.986992523207135
           ],
           "locationmode": "USA-states",
           "lon": [
            -77.20106823959937
           ],
           "mode": "markers",
           "text": "P7012101",
           "type": "scattergeo"
          },
          {
           "lat": [
            35.734623054904056
           ],
           "locationmode": "USA-states",
           "lon": [
            -76.50259904081783
           ],
           "mode": "markers",
           "text": "P7012102",
           "type": "scattergeo"
          },
          {
           "lat": [
            35.81571955253666
           ],
           "locationmode": "USA-states",
           "lon": [
            -78.59959797080033
           ],
           "mode": "markers",
           "text": "P7012108",
           "type": "scattergeo"
          },
          {
           "lat": [
            34.28680780187702
           ],
           "locationmode": "USA-states",
           "lon": [
            -80.91307522796835
           ],
           "mode": "markers",
           "text": "P7012109",
           "type": "scattergeo"
          },
          {
           "lat": [
            33.9219631748116
           ],
           "locationmode": "USA-states",
           "lon": [
            -82.97729216170504
           ],
           "mode": "markers",
           "text": "P7012110",
           "type": "scattergeo"
          },
          {
           "lat": [
            35.65419049523232
           ],
           "locationmode": "USA-states",
           "lon": [
            -76.95050464483255
           ],
           "mode": "markers",
           "text": "P7012112",
           "type": "scattergeo"
          },
          {
           "lat": [
            34.59479208751985
           ],
           "locationmode": "USA-states",
           "lon": [
            -79.3766373148943
           ],
           "mode": "markers",
           "text": "P7012113",
           "type": "scattergeo"
          },
          {
           "lat": [
            36.00878169599221
           ],
           "locationmode": "USA-states",
           "lon": [
            -82.38158593047761
           ],
           "mode": "markers",
           "text": "P7012114",
           "type": "scattergeo"
          },
          {
           "lat": [
            35.93872361640163
           ],
           "locationmode": "USA-states",
           "lon": [
            -75.81245028656112
           ],
           "mode": "markers",
           "text": "P7012116",
           "type": "scattergeo"
          },
          {
           "lat": [
            35.74507583776006
           ],
           "locationmode": "USA-states",
           "lon": [
            -76.37614897648534
           ],
           "mode": "markers",
           "text": "P7012118",
           "type": "scattergeo"
          },
          {
           "lat": [
            34.027356510562335
           ],
           "locationmode": "USA-states",
           "lon": [
            -81.38330905691762
           ],
           "mode": "markers",
           "text": "P7012120",
           "type": "scattergeo"
          },
          {
           "lat": [
            35.607014938459194
           ],
           "locationmode": "USA-states",
           "lon": [
            -78.05541033728623
           ],
           "mode": "markers",
           "text": "P7012122",
           "type": "scattergeo"
          },
          {
           "lat": [
            35.487179827313426
           ],
           "locationmode": "USA-states",
           "lon": [
            -80.33885066481321
           ],
           "mode": "markers",
           "text": "P7012125",
           "type": "scattergeo"
          },
          {
           "lat": [
            34.9772203180374
           ],
           "locationmode": "USA-states",
           "lon": [
            -77.86735707079818
           ],
           "mode": "markers",
           "text": "P7012126",
           "type": "scattergeo"
          },
          {
           "lat": [
            35.96826203724595
           ],
           "locationmode": "USA-states",
           "lon": [
            -82.40926068173897
           ],
           "mode": "markers",
           "text": "P7012127",
           "type": "scattergeo"
          },
          {
           "lat": [
            34.89636824355798
           ],
           "locationmode": "USA-states",
           "lon": [
            -82.56305897942724
           ],
           "mode": "markers",
           "text": "P7012128",
           "type": "scattergeo"
          },
          {
           "lat": [
            34.203955620979855
           ],
           "locationmode": "USA-states",
           "lon": [
            -79.71209357690843
           ],
           "mode": "markers",
           "text": "P7012129",
           "type": "scattergeo"
          },
          {
           "lat": [
            34.20245532747618
           ],
           "locationmode": "USA-states",
           "lon": [
            -80.47021786956174
           ],
           "mode": "markers",
           "text": "P7012130",
           "type": "scattergeo"
          },
          {
           "lat": [
            35.258837140998
           ],
           "locationmode": "USA-states",
           "lon": [
            -81.08858440440977
           ],
           "mode": "markers",
           "text": "P7012131",
           "type": "scattergeo"
          },
          {
           "lat": [
            35.57995375840267
           ],
           "locationmode": "USA-states",
           "lon": [
            -79.15721978897295
           ],
           "mode": "markers",
           "text": "P7012132",
           "type": "scattergeo"
          },
          {
           "lat": [
            34.47652636356217
           ],
           "locationmode": "USA-states",
           "lon": [
            -80.10193674498208
           ],
           "mode": "markers",
           "text": "P7012133",
           "type": "scattergeo"
          },
          {
           "lat": [
            34.84760682360115
           ],
           "locationmode": "USA-states",
           "lon": [
            -81.02730728204324
           ],
           "mode": "markers",
           "text": "P7012134",
           "type": "scattergeo"
          },
          {
           "lat": [
            34.9179465625689
           ],
           "locationmode": "USA-states",
           "lon": [
            -79.4420699853341
           ],
           "mode": "markers",
           "text": "P7012135",
           "type": "scattergeo"
          },
          {
           "lat": [
            36.22784149219494
           ],
           "locationmode": "USA-states",
           "lon": [
            -83.62505791703325
           ],
           "mode": "markers",
           "text": "P7012136",
           "type": "scattergeo"
          },
          {
           "lat": [
            35.412679165236845
           ],
           "locationmode": "USA-states",
           "lon": [
            -81.81335276630384
           ],
           "mode": "markers",
           "text": "P7012146",
           "type": "scattergeo"
          },
          {
           "lat": [
            36.28742764782827
           ],
           "locationmode": "USA-states",
           "lon": [
            -78.88497192014388
           ],
           "mode": "markers",
           "text": "P7012152",
           "type": "scattergeo"
          },
          {
           "lat": [
            33.92511069596438
           ],
           "locationmode": "USA-states",
           "lon": [
            -80.22777400256679
           ],
           "mode": "markers",
           "text": "P7012156",
           "type": "scattergeo"
          },
          {
           "lat": [
            36.2298295756272
           ],
           "locationmode": "USA-states",
           "lon": [
            -80.28305059429141
           ],
           "mode": "markers",
           "text": "P7012157",
           "type": "scattergeo"
          },
          {
           "lat": [
            33.9195362217461
           ],
           "locationmode": "USA-states",
           "lon": [
            -79.27920580570928
           ],
           "mode": "markers",
           "text": "P7012159",
           "type": "scattergeo"
          },
          {
           "lat": [
            35.17538962187599
           ],
           "locationmode": "USA-states",
           "lon": [
            -83.44944441710958
           ],
           "mode": "markers",
           "text": "P7012200",
           "type": "scattergeo"
          },
          {
           "lat": [
            36.29956402198148
           ],
           "locationmode": "USA-states",
           "lon": [
            -76.8769653469528
           ],
           "mode": "markers",
           "text": "P7012202",
           "type": "scattergeo"
          },
          {
           "lat": [
            35.128146034141004
           ],
           "locationmode": "USA-states",
           "lon": [
            -76.3646369513606
           ],
           "mode": "markers",
           "text": "P7012205",
           "type": "scattergeo"
          },
          {
           "lat": [
            34.50314057467519
           ],
           "locationmode": "USA-states",
           "lon": [
            -80.75921341471906
           ],
           "mode": "markers",
           "text": "P7012210",
           "type": "scattergeo"
          }
         ],
         "name": "07/01/2015"
        },
        {
         "data": [
          {
           "lat": [
            36.04120389376829
           ],
           "locationmode": "USA-states",
           "lon": [
            -82.8688974368132
           ],
           "mode": "markers",
           "text": "P7032125",
           "type": "scattergeo"
          },
          {
           "lat": [
            35.09780929153317
           ],
           "locationmode": "USA-states",
           "lon": [
            -81.36640429447522
           ],
           "mode": "markers",
           "text": "P7032129",
           "type": "scattergeo"
          },
          {
           "lat": [
            36.24917455892017
           ],
           "locationmode": "USA-states",
           "lon": [
            -77.30939047709587
           ],
           "mode": "markers",
           "text": "P7032133",
           "type": "scattergeo"
          },
          {
           "lat": [
            34.416925825320234
           ],
           "locationmode": "USA-states",
           "lon": [
            -78.73278058459941
           ],
           "mode": "markers",
           "text": "P7032134",
           "type": "scattergeo"
          },
          {
           "lat": [
            35.84891468368848
           ],
           "locationmode": "USA-states",
           "lon": [
            -75.9552344381807
           ],
           "mode": "markers",
           "text": "P7032135",
           "type": "scattergeo"
          },
          {
           "lat": [
            35.15694570198888
           ],
           "locationmode": "USA-states",
           "lon": [
            -77.58551981004558
           ],
           "mode": "markers",
           "text": "P7032137",
           "type": "scattergeo"
          },
          {
           "lat": [
            36.27609626957441
           ],
           "locationmode": "USA-states",
           "lon": [
            -76.74158006102185
           ],
           "mode": "markers",
           "text": "P7032139",
           "type": "scattergeo"
          },
          {
           "lat": [
            34.587087524398086
           ],
           "locationmode": "USA-states",
           "lon": [
            -78.58210576564672
           ],
           "mode": "markers",
           "text": "P7032140",
           "type": "scattergeo"
          },
          {
           "lat": [
            35.07189738561032
           ],
           "locationmode": "USA-states",
           "lon": [
            -80.35677545386584
           ],
           "mode": "markers",
           "text": "P7032143",
           "type": "scattergeo"
          },
          {
           "lat": [
            33.90980448537982
           ],
           "locationmode": "USA-states",
           "lon": [
            -82.09269516192018
           ],
           "mode": "markers",
           "text": "P7032144",
           "type": "scattergeo"
          },
          {
           "lat": [
            34.58786281966691
           ],
           "locationmode": "USA-states",
           "lon": [
            -78.18097529775565
           ],
           "mode": "markers",
           "text": "P7032145",
           "type": "scattergeo"
          },
          {
           "lat": [
            33.84071372158457
           ],
           "locationmode": "USA-states",
           "lon": [
            -79.36587263692581
           ],
           "mode": "markers",
           "text": "P7032147",
           "type": "scattergeo"
          },
          {
           "lat": [
            35.450581344011916
           ],
           "locationmode": "USA-states",
           "lon": [
            -82.48783034674872
           ],
           "mode": "markers",
           "text": "P7032151",
           "type": "scattergeo"
          },
          {
           "lat": [
            35.89746634167077
           ],
           "locationmode": "USA-states",
           "lon": [
            -83.164286106805
           ],
           "mode": "markers",
           "text": "P7032153",
           "type": "scattergeo"
          },
          {
           "lat": [
            35.46761665442179
           ],
           "locationmode": "USA-states",
           "lon": [
            -81.34648104208675
           ],
           "mode": "markers",
           "text": "P7032155",
           "type": "scattergeo"
          },
          {
           "lat": [
            36.06207224905978
           ],
           "locationmode": "USA-states",
           "lon": [
            -82.14124003841559
           ],
           "mode": "markers",
           "text": "P7032156",
           "type": "scattergeo"
          },
          {
           "lat": [
            35.22894601507283
           ],
           "locationmode": "USA-states",
           "lon": [
            -77.5956522890867
           ],
           "mode": "markers",
           "text": "P7032158",
           "type": "scattergeo"
          },
          {
           "lat": [
            35.2521524848017
           ],
           "locationmode": "USA-states",
           "lon": [
            -81.07287430771636
           ],
           "mode": "markers",
           "text": "P7032159",
           "type": "scattergeo"
          },
          {
           "lat": [
            35.0807644448817
           ],
           "locationmode": "USA-states",
           "lon": [
            -80.95937307172618
           ],
           "mode": "markers",
           "text": "P7032201",
           "type": "scattergeo"
          },
          {
           "lat": [
            34.831285271015936
           ],
           "locationmode": "USA-states",
           "lon": [
            -82.55336146884571
           ],
           "mode": "markers",
           "text": "P7032206",
           "type": "scattergeo"
          },
          {
           "lat": [
            34.24152049095768
           ],
           "locationmode": "USA-states",
           "lon": [
            -82.67085723103169
           ],
           "mode": "markers",
           "text": "P7032208",
           "type": "scattergeo"
          },
          {
           "lat": [
            36.066640045304425
           ],
           "locationmode": "USA-states",
           "lon": [
            -80.9694384627175
           ],
           "mode": "markers",
           "text": "P7032209",
           "type": "scattergeo"
          }
         ],
         "name": "07/03/2015"
        },
        {
         "data": [
          {
           "lat": [
            36.194085752224524
           ],
           "locationmode": "USA-states",
           "lon": [
            -77.05035610273175
           ],
           "mode": "markers",
           "text": "P7052148",
           "type": "scattergeo"
          },
          {
           "lat": [
            36.20224250252995
           ],
           "locationmode": "USA-states",
           "lon": [
            -76.82632683961533
           ],
           "mode": "markers",
           "text": "P7052152",
           "type": "scattergeo"
          },
          {
           "lat": [
            35.73792055567563
           ],
           "locationmode": "USA-states",
           "lon": [
            -80.69625901826923
           ],
           "mode": "markers",
           "text": "P7052154",
           "type": "scattergeo"
          },
          {
           "lat": [
            34.35451223834787
           ],
           "locationmode": "USA-states",
           "lon": [
            -76.67805221376065
           ],
           "mode": "markers",
           "text": "P7052155",
           "type": "scattergeo"
          },
          {
           "lat": [
            34.995118493160476
           ],
           "locationmode": "USA-states",
           "lon": [
            -80.85381919439642
           ],
           "mode": "markers",
           "text": "P7052158",
           "type": "scattergeo"
          },
          {
           "lat": [
            35.00519099647708
           ],
           "locationmode": "USA-states",
           "lon": [
            -77.86773216065907
           ],
           "mode": "markers",
           "text": "P7052159",
           "type": "scattergeo"
          },
          {
           "lat": [
            35.50477240847433
           ],
           "locationmode": "USA-states",
           "lon": [
            -78.66325877262503
           ],
           "mode": "markers",
           "text": "P7052200",
           "type": "scattergeo"
          },
          {
           "lat": [
            33.867641682173904
           ],
           "locationmode": "USA-states",
           "lon": [
            -77.37594348930341
           ],
           "mode": "markers",
           "text": "P7052201",
           "type": "scattergeo"
          },
          {
           "lat": [
            36.01930624964404
           ],
           "locationmode": "USA-states",
           "lon": [
            -83.16983295502405
           ],
           "mode": "markers",
           "text": "P7052205",
           "type": "scattergeo"
          },
          {
           "lat": [
            34.121303419347974
           ],
           "locationmode": "USA-states",
           "lon": [
            -78.06195056175667
           ],
           "mode": "markers",
           "text": "P7052206",
           "type": "scattergeo"
          },
          {
           "lat": [
            35.66307210218563
           ],
           "locationmode": "USA-states",
           "lon": [
            -81.66524579448362
           ],
           "mode": "markers",
           "text": "P7052210",
           "type": "scattergeo"
          },
          {
           "lat": [
            34.721753919729
           ],
           "locationmode": "USA-states",
           "lon": [
            -75.43887418575642
           ],
           "mode": "markers",
           "text": "P7052213",
           "type": "scattergeo"
          },
          {
           "lat": [
            35.23698171137731
           ],
           "locationmode": "USA-states",
           "lon": [
            -83.0279422493082
           ],
           "mode": "markers",
           "text": "P7052214",
           "type": "scattergeo"
          },
          {
           "lat": [
            34.61378646614812
           ],
           "locationmode": "USA-states",
           "lon": [
            -77.83580759102192
           ],
           "mode": "markers",
           "text": "P7052216",
           "type": "scattergeo"
          },
          {
           "lat": [
            35.94540153403643
           ],
           "locationmode": "USA-states",
           "lon": [
            -77.15312389418176
           ],
           "mode": "markers",
           "text": "P7052221",
           "type": "scattergeo"
          },
          {
           "lat": [
            35.260551438511015
           ],
           "locationmode": "USA-states",
           "lon": [
            -75.84460527755526
           ],
           "mode": "markers",
           "text": "P7052224",
           "type": "scattergeo"
          },
          {
           "lat": [
            35.37604601630332
           ],
           "locationmode": "USA-states",
           "lon": [
            -77.93303076852281
           ],
           "mode": "markers",
           "text": "P7052228",
           "type": "scattergeo"
          },
          {
           "lat": [
            36.264738175074015
           ],
           "locationmode": "USA-states",
           "lon": [
            -78.78704799948791
           ],
           "mode": "markers",
           "text": "P7052229",
           "type": "scattergeo"
          }
         ],
         "name": "07/05/2015"
        },
        {
         "data": [
          {
           "lat": [
            34.02471978439722
           ],
           "locationmode": "USA-states",
           "lon": [
            -80.3062441624523
           ],
           "mode": "markers",
           "text": "P7062104",
           "type": "scattergeo"
          },
          {
           "lat": [
            34.33108013743776
           ],
           "locationmode": "USA-states",
           "lon": [
            -80.69853185422969
           ],
           "mode": "markers",
           "text": "P7062111",
           "type": "scattergeo"
          },
          {
           "lat": [
            34.033429777307674
           ],
           "locationmode": "USA-states",
           "lon": [
            -80.84802950685899
           ],
           "mode": "markers",
           "text": "P7062112",
           "type": "scattergeo"
          },
          {
           "lat": [
            34.11829351013137
           ],
           "locationmode": "USA-states",
           "lon": [
            -76.46092629175246
           ],
           "mode": "markers",
           "text": "P7062115",
           "type": "scattergeo"
          },
          {
           "lat": [
            35.99203797918535
           ],
           "locationmode": "USA-states",
           "lon": [
            -75.84975711380827
           ],
           "mode": "markers",
           "text": "P7062117",
           "type": "scattergeo"
          },
          {
           "lat": [
            34.785019902688
           ],
           "locationmode": "USA-states",
           "lon": [
            -78.12713781513801
           ],
           "mode": "markers",
           "text": "P7062124",
           "type": "scattergeo"
          },
          {
           "lat": [
            34.789687129811256
           ],
           "locationmode": "USA-states",
           "lon": [
            -77.25053827662133
           ],
           "mode": "markers",
           "text": "P7062126",
           "type": "scattergeo"
          },
          {
           "lat": [
            34.955796517853685
           ],
           "locationmode": "USA-states",
           "lon": [
            -77.83092023281824
           ],
           "mode": "markers",
           "text": "P7062128",
           "type": "scattergeo"
          },
          {
           "lat": [
            33.92539007684116
           ],
           "locationmode": "USA-states",
           "lon": [
            -80.87461071460244
           ],
           "mode": "markers",
           "text": "P7062129",
           "type": "scattergeo"
          },
          {
           "lat": [
            35.438389695273045
           ],
           "locationmode": "USA-states",
           "lon": [
            -75.30476205487754
           ],
           "mode": "markers",
           "text": "P7062130",
           "type": "scattergeo"
          },
          {
           "lat": [
            34.45780553373467
           ],
           "locationmode": "USA-states",
           "lon": [
            -78.60113442137686
           ],
           "mode": "markers",
           "text": "P7062134",
           "type": "scattergeo"
          },
          {
           "lat": [
            36.24584567767464
           ],
           "locationmode": "USA-states",
           "lon": [
            -81.13499227006254
           ],
           "mode": "markers",
           "text": "P7062137",
           "type": "scattergeo"
          },
          {
           "lat": [
            35.489283582560546
           ],
           "locationmode": "USA-states",
           "lon": [
            -83.00435931757234
           ],
           "mode": "markers",
           "text": "P7062138",
           "type": "scattergeo"
          },
          {
           "lat": [
            34.02875903488042
           ],
           "locationmode": "USA-states",
           "lon": [
            -80.61106865707022
           ],
           "mode": "markers",
           "text": "P7062139",
           "type": "scattergeo"
          },
          {
           "lat": [
            33.838179215931774
           ],
           "locationmode": "USA-states",
           "lon": [
            -82.13969488453513
           ],
           "mode": "markers",
           "text": "P7062141",
           "type": "scattergeo"
          },
          {
           "lat": [
            35.147681917965905
           ],
           "locationmode": "USA-states",
           "lon": [
            -75.78240821998864
           ],
           "mode": "markers",
           "text": "P7062143",
           "type": "scattergeo"
          },
          {
           "lat": [
            34.84351142834262
           ],
           "locationmode": "USA-states",
           "lon": [
            -82.85372311567238
           ],
           "mode": "markers",
           "text": "P7062155",
           "type": "scattergeo"
          },
          {
           "lat": [
            34.644816218966035
           ],
           "locationmode": "USA-states",
           "lon": [
            -77.49765051038914
           ],
           "mode": "markers",
           "text": "P7062156",
           "type": "scattergeo"
          },
          {
           "lat": [
            36.16238131471823
           ],
           "locationmode": "USA-states",
           "lon": [
            -78.76308027016486
           ],
           "mode": "markers",
           "text": "P7062200",
           "type": "scattergeo"
          },
          {
           "lat": [
            34.79970622633511
           ],
           "locationmode": "USA-states",
           "lon": [
            -80.51346420743693
           ],
           "mode": "markers",
           "text": "P7062201",
           "type": "scattergeo"
          }
         ],
         "name": "07/06/2015"
        },
        {
         "data": [
          {
           "lat": [
            35.23311694604678
           ],
           "locationmode": "USA-states",
           "lon": [
            -81.3719316159096
           ],
           "mode": "markers",
           "text": "P7082105",
           "type": "scattergeo"
          },
          {
           "lat": [
            34.444969337740915
           ],
           "locationmode": "USA-states",
           "lon": [
            -80.44978883508216
           ],
           "mode": "markers",
           "text": "P7082106",
           "type": "scattergeo"
          },
          {
           "lat": [
            34.26476361055353
           ],
           "locationmode": "USA-states",
           "lon": [
            -75.46524921321189
           ],
           "mode": "markers",
           "text": "P7082112",
           "type": "scattergeo"
          },
          {
           "lat": [
            36.2485399260316
           ],
           "locationmode": "USA-states",
           "lon": [
            -83.55510446856248
           ],
           "mode": "markers",
           "text": "P7082113",
           "type": "scattergeo"
          },
          {
           "lat": [
            35.59630911169981
           ],
           "locationmode": "USA-states",
           "lon": [
            -75.88403194465221
           ],
           "mode": "markers",
           "text": "P7082115",
           "type": "scattergeo"
          },
          {
           "lat": [
            35.68223925551749
           ],
           "locationmode": "USA-states",
           "lon": [
            -77.60624879062588
           ],
           "mode": "markers",
           "text": "P7082119",
           "type": "scattergeo"
          },
          {
           "lat": [
            34.18637337653955
           ],
           "locationmode": "USA-states",
           "lon": [
            -83.7978099952915
           ],
           "mode": "markers",
           "text": "P7082128",
           "type": "scattergeo"
          },
          {
           "lat": [
            35.129367756616325
           ],
           "locationmode": "USA-states",
           "lon": [
            -77.0025273114313
           ],
           "mode": "markers",
           "text": "P7082129",
           "type": "scattergeo"
          },
          {
           "lat": [
            34.42154318501689
           ],
           "locationmode": "USA-states",
           "lon": [
            -79.78057523971144
           ],
           "mode": "markers",
           "text": "P7082130",
           "type": "scattergeo"
          },
          {
           "lat": [
            35.52649640742911
           ],
           "locationmode": "USA-states",
           "lon": [
            -76.58508218216768
           ],
           "mode": "markers",
           "text": "P7082131",
           "type": "scattergeo"
          },
          {
           "lat": [
            35.987843083943936
           ],
           "locationmode": "USA-states",
           "lon": [
            -76.5893925903172
           ],
           "mode": "markers",
           "text": "P7082132",
           "type": "scattergeo"
          },
          {
           "lat": [
            34.09261966525258
           ],
           "locationmode": "USA-states",
           "lon": [
            -77.4743807722202
           ],
           "mode": "markers",
           "text": "P7082134",
           "type": "scattergeo"
          },
          {
           "lat": [
            33.96145945967893
           ],
           "locationmode": "USA-states",
           "lon": [
            -81.79129891890135
           ],
           "mode": "markers",
           "text": "P7082135",
           "type": "scattergeo"
          },
          {
           "lat": [
            35.37202475655203
           ],
           "locationmode": "USA-states",
           "lon": [
            -76.56923323753834
           ],
           "mode": "markers",
           "text": "P7082136",
           "type": "scattergeo"
          },
          {
           "lat": [
            35.85938087337043
           ],
           "locationmode": "USA-states",
           "lon": [
            -83.20782372452929
           ],
           "mode": "markers",
           "text": "P7082138",
           "type": "scattergeo"
          },
          {
           "lat": [
            35.857346437544145
           ],
           "locationmode": "USA-states",
           "lon": [
            -76.13466554813996
           ],
           "mode": "markers",
           "text": "P7082139",
           "type": "scattergeo"
          },
          {
           "lat": [
            35.614461766783876
           ],
           "locationmode": "USA-states",
           "lon": [
            -78.28528099476723
           ],
           "mode": "markers",
           "text": "P7082140",
           "type": "scattergeo"
          },
          {
           "lat": [
            35.538767732734726
           ],
           "locationmode": "USA-states",
           "lon": [
            -83.71258571525973
           ],
           "mode": "markers",
           "text": "P7082142",
           "type": "scattergeo"
          },
          {
           "lat": [
            34.3224374231039
           ],
           "locationmode": "USA-states",
           "lon": [
            -78.53389246531628
           ],
           "mode": "markers",
           "text": "P7082143",
           "type": "scattergeo"
          },
          {
           "lat": [
            35.79199602450396
           ],
           "locationmode": "USA-states",
           "lon": [
            -78.68017666878738
           ],
           "mode": "markers",
           "text": "P7082144",
           "type": "scattergeo"
          },
          {
           "lat": [
            34.70066896780249
           ],
           "locationmode": "USA-states",
           "lon": [
            -80.32481292795643
           ],
           "mode": "markers",
           "text": "P7082145",
           "type": "scattergeo"
          },
          {
           "lat": [
            34.28804711900257
           ],
           "locationmode": "USA-states",
           "lon": [
            -81.65799266196397
           ],
           "mode": "markers",
           "text": "P7082146",
           "type": "scattergeo"
          },
          {
           "lat": [
            34.703618495958274
           ],
           "locationmode": "USA-states",
           "lon": [
            -77.77807574226209
           ],
           "mode": "markers",
           "text": "P7082152",
           "type": "scattergeo"
          },
          {
           "lat": [
            34.640297509996195
           ],
           "locationmode": "USA-states",
           "lon": [
            -76.52057228693727
           ],
           "mode": "markers",
           "text": "P7082153",
           "type": "scattergeo"
          },
          {
           "lat": [
            34.42631064650009
           ],
           "locationmode": "USA-states",
           "lon": [
            -76.48891915079125
           ],
           "mode": "markers",
           "text": "P7082158",
           "type": "scattergeo"
          },
          {
           "lat": [
            34.12633242922454
           ],
           "locationmode": "USA-states",
           "lon": [
            -80.2332222034008
           ],
           "mode": "markers",
           "text": "P7082201",
           "type": "scattergeo"
          },
          {
           "lat": [
            34.34260768548445
           ],
           "locationmode": "USA-states",
           "lon": [
            -82.52022425740493
           ],
           "mode": "markers",
           "text": "P7082203",
           "type": "scattergeo"
          },
          {
           "lat": [
            35.293713396698145
           ],
           "locationmode": "USA-states",
           "lon": [
            -75.68106026155228
           ],
           "mode": "markers",
           "text": "P7082204",
           "type": "scattergeo"
          },
          {
           "lat": [
            34.025178738162765
           ],
           "locationmode": "USA-states",
           "lon": [
            -76.32530285502702
           ],
           "mode": "markers",
           "text": "P7082205",
           "type": "scattergeo"
          },
          {
           "lat": [
            35.35499108974425
           ],
           "locationmode": "USA-states",
           "lon": [
            -77.34842246959789
           ],
           "mode": "markers",
           "text": "P7082206",
           "type": "scattergeo"
          }
         ],
         "name": "07/08/2015"
        },
        {
         "data": [
          {
           "lat": [
            34.915180568916966
           ],
           "locationmode": "USA-states",
           "lon": [
            -77.73497248663733
           ],
           "mode": "markers",
           "text": "P7092116",
           "type": "scattergeo"
          },
          {
           "lat": [
            35.43612639277524
           ],
           "locationmode": "USA-states",
           "lon": [
            -75.32570918867468
           ],
           "mode": "markers",
           "text": "P7092120",
           "type": "scattergeo"
          },
          {
           "lat": [
            33.91950092737564
           ],
           "locationmode": "USA-states",
           "lon": [
            -81.05797876012794
           ],
           "mode": "markers",
           "text": "P7092121",
           "type": "scattergeo"
          },
          {
           "lat": [
            34.13567291958615
           ],
           "locationmode": "USA-states",
           "lon": [
            -80.79417258634265
           ],
           "mode": "markers",
           "text": "P7092122",
           "type": "scattergeo"
          },
          {
           "lat": [
            34.788670508841406
           ],
           "locationmode": "USA-states",
           "lon": [
            -79.57942887362391
           ],
           "mode": "markers",
           "text": "P7092123",
           "type": "scattergeo"
          },
          {
           "lat": [
            35.53848493669569
           ],
           "locationmode": "USA-states",
           "lon": [
            -83.56205254180327
           ],
           "mode": "markers",
           "text": "P7092124",
           "type": "scattergeo"
          },
          {
           "lat": [
            36.1792120394315
           ],
           "locationmode": "USA-states",
           "lon": [
            -77.23473155532238
           ],
           "mode": "markers",
           "text": "P7092128",
           "type": "scattergeo"
          },
          {
           "lat": [
            35.73689590138587
           ],
           "locationmode": "USA-states",
           "lon": [
            -75.44766773905843
           ],
           "mode": "markers",
           "text": "P7092130",
           "type": "scattergeo"
          },
          {
           "lat": [
            35.42391620876245
           ],
           "locationmode": "USA-states",
           "lon": [
            -82.35489946873511
           ],
           "mode": "markers",
           "text": "P7092131",
           "type": "scattergeo"
          },
          {
           "lat": [
            34.75758713865108
           ],
           "locationmode": "USA-states",
           "lon": [
            -79.31810248132277
           ],
           "mode": "markers",
           "text": "P7092134",
           "type": "scattergeo"
          },
          {
           "lat": [
            35.52903305532509
           ],
           "locationmode": "USA-states",
           "lon": [
            -79.39099996682275
           ],
           "mode": "markers",
           "text": "P7092136",
           "type": "scattergeo"
          },
          {
           "lat": [
            35.82879606488544
           ],
           "locationmode": "USA-states",
           "lon": [
            -76.22596850715911
           ],
           "mode": "markers",
           "text": "P7092137",
           "type": "scattergeo"
          },
          {
           "lat": [
            34.63487792547232
           ],
           "locationmode": "USA-states",
           "lon": [
            -81.05062285511384
           ],
           "mode": "markers",
           "text": "P7092141",
           "type": "scattergeo"
          },
          {
           "lat": [
            33.929978999525886
           ],
           "locationmode": "USA-states",
           "lon": [
            -83.7261981476831
           ],
           "mode": "markers",
           "text": "P7092142",
           "type": "scattergeo"
          },
          {
           "lat": [
            34.759171772902235
           ],
           "locationmode": "USA-states",
           "lon": [
            -81.02161112473598
           ],
           "mode": "markers",
           "text": "P7092143",
           "type": "scattergeo"
          },
          {
           "lat": [
            35.069792848676194
           ],
           "locationmode": "USA-states",
           "lon": [
            -78.96146884566565
           ],
           "mode": "markers",
           "text": "P7092144",
           "type": "scattergeo"
          },
          {
           "lat": [
            34.256947840144505
           ],
           "locationmode": "USA-states",
           "lon": [
            -81.89778744586056
           ],
           "mode": "markers",
           "text": "P7092145",
           "type": "scattergeo"
          },
          {
           "lat": [
            34.15729275560402
           ],
           "locationmode": "USA-states",
           "lon": [
            -80.1717546651228
           ],
           "mode": "markers",
           "text": "P7092146",
           "type": "scattergeo"
          },
          {
           "lat": [
            36.28461914728719
           ],
           "locationmode": "USA-states",
           "lon": [
            -75.47065992301711
           ],
           "mode": "markers",
           "text": "P7092147",
           "type": "scattergeo"
          },
          {
           "lat": [
            35.22044220949479
           ],
           "locationmode": "USA-states",
           "lon": [
            -76.39444175225333
           ],
           "mode": "markers",
           "text": "P7092148",
           "type": "scattergeo"
          },
          {
           "lat": [
            36.03818351802967
           ],
           "locationmode": "USA-states",
           "lon": [
            -80.58908067620845
           ],
           "mode": "markers",
           "text": "P7092149",
           "type": "scattergeo"
          },
          {
           "lat": [
            34.213194207366165
           ],
           "locationmode": "USA-states",
           "lon": [
            -76.12067625283274
           ],
           "mode": "markers",
           "text": "P7092150",
           "type": "scattergeo"
          },
          {
           "lat": [
            36.28483776155291
           ],
           "locationmode": "USA-states",
           "lon": [
            -83.20891672920762
           ],
           "mode": "markers",
           "text": "P7092151",
           "type": "scattergeo"
          },
          {
           "lat": [
            33.85558223169896
           ],
           "locationmode": "USA-states",
           "lon": [
            -81.08773836634471
           ],
           "mode": "markers",
           "text": "P7092152",
           "type": "scattergeo"
          },
          {
           "lat": [
            36.087912737384656
           ],
           "locationmode": "USA-states",
           "lon": [
            -83.46079094632019
           ],
           "mode": "markers",
           "text": "P7092153",
           "type": "scattergeo"
          },
          {
           "lat": [
            34.520036477104156
           ],
           "locationmode": "USA-states",
           "lon": [
            -80.20372815256324
           ],
           "mode": "markers",
           "text": "P7092154",
           "type": "scattergeo"
          },
          {
           "lat": [
            35.14612320778517
           ],
           "locationmode": "USA-states",
           "lon": [
            -75.51269527811893
           ],
           "mode": "markers",
           "text": "P7092155",
           "type": "scattergeo"
          },
          {
           "lat": [
            35.276266488701644
           ],
           "locationmode": "USA-states",
           "lon": [
            -82.1794921929876
           ],
           "mode": "markers",
           "text": "P7092157",
           "type": "scattergeo"
          },
          {
           "lat": [
            35.82015775519662
           ],
           "locationmode": "USA-states",
           "lon": [
            -81.05560091411512
           ],
           "mode": "markers",
           "text": "P7092158",
           "type": "scattergeo"
          },
          {
           "lat": [
            34.79952854038346
           ],
           "locationmode": "USA-states",
           "lon": [
            -82.78037155944038
           ],
           "mode": "markers",
           "text": "P7092159",
           "type": "scattergeo"
          },
          {
           "lat": [
            35.807605218420505
           ],
           "locationmode": "USA-states",
           "lon": [
            -77.3863567260512
           ],
           "mode": "markers",
           "text": "P7092200",
           "type": "scattergeo"
          },
          {
           "lat": [
            35.16690465691267
           ],
           "locationmode": "USA-states",
           "lon": [
            -75.19163641871877
           ],
           "mode": "markers",
           "text": "P7092201",
           "type": "scattergeo"
          },
          {
           "lat": [
            35.613876161142905
           ],
           "locationmode": "USA-states",
           "lon": [
            -77.70666012116853
           ],
           "mode": "markers",
           "text": "P7092202",
           "type": "scattergeo"
          },
          {
           "lat": [
            34.784573032071016
           ],
           "locationmode": "USA-states",
           "lon": [
            -83.4431035371965
           ],
           "mode": "markers",
           "text": "P7092203",
           "type": "scattergeo"
          },
          {
           "lat": [
            35.77940647137769
           ],
           "locationmode": "USA-states",
           "lon": [
            -82.65281627243284
           ],
           "mode": "markers",
           "text": "P7092204",
           "type": "scattergeo"
          },
          {
           "lat": [
            35.221242190798876
           ],
           "locationmode": "USA-states",
           "lon": [
            -77.71475026516174
           ],
           "mode": "markers",
           "text": "P7092205",
           "type": "scattergeo"
          },
          {
           "lat": [
            35.09839099749194
           ],
           "locationmode": "USA-states",
           "lon": [
            -81.62541128216985
           ],
           "mode": "markers",
           "text": "P7092206",
           "type": "scattergeo"
          },
          {
           "lat": [
            35.879826252489956
           ],
           "locationmode": "USA-states",
           "lon": [
            -78.19842349835947
           ],
           "mode": "markers",
           "text": "P7092207",
           "type": "scattergeo"
          }
         ],
         "name": "07/09/2015"
        },
        {
         "data": [
          {
           "lat": [
            33.918842159766776
           ],
           "locationmode": "USA-states",
           "lon": [
            -78.46958772947347
           ],
           "mode": "markers",
           "text": "P7102113",
           "type": "scattergeo"
          },
          {
           "lat": [
            35.11190650174188
           ],
           "locationmode": "USA-states",
           "lon": [
            -77.30403031909437
           ],
           "mode": "markers",
           "text": "P7102119",
           "type": "scattergeo"
          },
          {
           "lat": [
            36.153216965750815
           ],
           "locationmode": "USA-states",
           "lon": [
            -80.0229510932819
           ],
           "mode": "markers",
           "text": "P7102120",
           "type": "scattergeo"
          },
          {
           "lat": [
            34.96521249477401
           ],
           "locationmode": "USA-states",
           "lon": [
            -79.3721907205882
           ],
           "mode": "markers",
           "text": "P7102126",
           "type": "scattergeo"
          },
          {
           "lat": [
            34.689347831464936
           ],
           "locationmode": "USA-states",
           "lon": [
            -77.94302359570018
           ],
           "mode": "markers",
           "text": "P7102127",
           "type": "scattergeo"
          },
          {
           "lat": [
            34.85763763927943
           ],
           "locationmode": "USA-states",
           "lon": [
            -81.4387625826978
           ],
           "mode": "markers",
           "text": "P7102128",
           "type": "scattergeo"
          },
          {
           "lat": [
            35.466096744953916
           ],
           "locationmode": "USA-states",
           "lon": [
            -79.82349564140863
           ],
           "mode": "markers",
           "text": "P7102129",
           "type": "scattergeo"
          },
          {
           "lat": [
            36.18344083839539
           ],
           "locationmode": "USA-states",
           "lon": [
            -77.44311857166159
           ],
           "mode": "markers",
           "text": "P7102130",
           "type": "scattergeo"
          },
          {
           "lat": [
            36.028506629967666
           ],
           "locationmode": "USA-states",
           "lon": [
            -75.69445774651619
           ],
           "mode": "markers",
           "text": "P7102132",
           "type": "scattergeo"
          },
          {
           "lat": [
            34.01988742976068
           ],
           "locationmode": "USA-states",
           "lon": [
            -83.01340762162549
           ],
           "mode": "markers",
           "text": "P7102135",
           "type": "scattergeo"
          },
          {
           "lat": [
            36.08549071060288
           ],
           "locationmode": "USA-states",
           "lon": [
            -79.99505584395125
           ],
           "mode": "markers",
           "text": "P7102136",
           "type": "scattergeo"
          },
          {
           "lat": [
            35.32294675265543
           ],
           "locationmode": "USA-states",
           "lon": [
            -77.62382529852076
           ],
           "mode": "markers",
           "text": "P7102137",
           "type": "scattergeo"
          },
          {
           "lat": [
            36.31870334813102
           ],
           "locationmode": "USA-states",
           "lon": [
            -77.61882352532567
           ],
           "mode": "markers",
           "text": "P7102138",
           "type": "scattergeo"
          },
          {
           "lat": [
            34.15773360218431
           ],
           "locationmode": "USA-states",
           "lon": [
            -76.64343982571226
           ],
           "mode": "markers",
           "text": "P7102139",
           "type": "scattergeo"
          },
          {
           "lat": [
            34.96167284233092
           ],
           "locationmode": "USA-states",
           "lon": [
            -76.63377879660673
           ],
           "mode": "markers",
           "text": "P7102140",
           "type": "scattergeo"
          },
          {
           "lat": [
            34.77631778180418
           ],
           "locationmode": "USA-states",
           "lon": [
            -80.16208035781094
           ],
           "mode": "markers",
           "text": "P7102141",
           "type": "scattergeo"
          },
          {
           "lat": [
            35.72944126185119
           ],
           "locationmode": "USA-states",
           "lon": [
            -81.00295754884193
           ],
           "mode": "markers",
           "text": "P7102142",
           "type": "scattergeo"
          },
          {
           "lat": [
            36.22395284013981
           ],
           "locationmode": "USA-states",
           "lon": [
            -77.17770913459952
           ],
           "mode": "markers",
           "text": "P7102143",
           "type": "scattergeo"
          },
          {
           "lat": [
            35.64269274940807
           ],
           "locationmode": "USA-states",
           "lon": [
            -81.62656849895158
           ],
           "mode": "markers",
           "text": "P7102144",
           "type": "scattergeo"
          },
          {
           "lat": [
            34.53649375727516
           ],
           "locationmode": "USA-states",
           "lon": [
            -75.80823082189652
           ],
           "mode": "markers",
           "text": "P7102145",
           "type": "scattergeo"
          },
          {
           "lat": [
            35.70337765520543
           ],
           "locationmode": "USA-states",
           "lon": [
            -77.13582038770355
           ],
           "mode": "markers",
           "text": "P7102146",
           "type": "scattergeo"
          },
          {
           "lat": [
            35.19760051140943
           ],
           "locationmode": "USA-states",
           "lon": [
            -75.71872789600727
           ],
           "mode": "markers",
           "text": "P7102147",
           "type": "scattergeo"
          },
          {
           "lat": [
            34.34251086691097
           ],
           "locationmode": "USA-states",
           "lon": [
            -81.26150211887189
           ],
           "mode": "markers",
           "text": "P7102148",
           "type": "scattergeo"
          },
          {
           "lat": [
            36.306728239666235
           ],
           "locationmode": "USA-states",
           "lon": [
            -82.04346074671923
           ],
           "mode": "markers",
           "text": "P7102149",
           "type": "scattergeo"
          },
          {
           "lat": [
            35.80994348100509
           ],
           "locationmode": "USA-states",
           "lon": [
            -80.24520518539326
           ],
           "mode": "markers",
           "text": "P7102150",
           "type": "scattergeo"
          },
          {
           "lat": [
            33.993527286009275
           ],
           "locationmode": "USA-states",
           "lon": [
            -79.87358591269367
           ],
           "mode": "markers",
           "text": "P7102154",
           "type": "scattergeo"
          },
          {
           "lat": [
            35.29932063021291
           ],
           "locationmode": "USA-states",
           "lon": [
            -77.91212639396153
           ],
           "mode": "markers",
           "text": "P7102156",
           "type": "scattergeo"
          },
          {
           "lat": [
            34.467961329651565
           ],
           "locationmode": "USA-states",
           "lon": [
            -82.61865523595853
           ],
           "mode": "markers",
           "text": "P7102157",
           "type": "scattergeo"
          },
          {
           "lat": [
            34.63250643727317
           ],
           "locationmode": "USA-states",
           "lon": [
            -75.04443611534337
           ],
           "mode": "markers",
           "text": "P7102200",
           "type": "scattergeo"
          },
          {
           "lat": [
            34.47527392462581
           ],
           "locationmode": "USA-states",
           "lon": [
            -75.11908221782735
           ],
           "mode": "markers",
           "text": "P7102201",
           "type": "scattergeo"
          },
          {
           "lat": [
            34.556165314899545
           ],
           "locationmode": "USA-states",
           "lon": [
            -77.71614808463544
           ],
           "mode": "markers",
           "text": "P7102205",
           "type": "scattergeo"
          },
          {
           "lat": [
            34.3544354175895
           ],
           "locationmode": "USA-states",
           "lon": [
            -77.0061702209751
           ],
           "mode": "markers",
           "text": "P7102207",
           "type": "scattergeo"
          }
         ],
         "name": "07/10/2015"
        },
        {
         "data": [
          {
           "lat": [
            34.72122388010794
           ],
           "locationmode": "USA-states",
           "lon": [
            -75.79457680188415
           ],
           "mode": "markers",
           "text": "P7112108",
           "type": "scattergeo"
          },
          {
           "lat": [
            34.85644566227559
           ],
           "locationmode": "USA-states",
           "lon": [
            -83.28838308450554
           ],
           "mode": "markers",
           "text": "P7112109",
           "type": "scattergeo"
          },
          {
           "lat": [
            35.63211530138486
           ],
           "locationmode": "USA-states",
           "lon": [
            -76.15429791028969
           ],
           "mode": "markers",
           "text": "P7112110",
           "type": "scattergeo"
          },
          {
           "lat": [
            34.038874411976586
           ],
           "locationmode": "USA-states",
           "lon": [
            -78.81135279960004
           ],
           "mode": "markers",
           "text": "P7112112",
           "type": "scattergeo"
          },
          {
           "lat": [
            35.84408092451673
           ],
           "locationmode": "USA-states",
           "lon": [
            -76.9112097646027
           ],
           "mode": "markers",
           "text": "P7112113",
           "type": "scattergeo"
          },
          {
           "lat": [
            33.87619865034854
           ],
           "locationmode": "USA-states",
           "lon": [
            -80.13254550676218
           ],
           "mode": "markers",
           "text": "P7112114",
           "type": "scattergeo"
          },
          {
           "lat": [
            35.11612078183966
           ],
           "locationmode": "USA-states",
           "lon": [
            -79.47934049006292
           ],
           "mode": "markers",
           "text": "P7112115",
           "type": "scattergeo"
          },
          {
           "lat": [
            34.95866141445368
           ],
           "locationmode": "USA-states",
           "lon": [
            -80.83808041499577
           ],
           "mode": "markers",
           "text": "P7112116",
           "type": "scattergeo"
          },
          {
           "lat": [
            35.81803475269782
           ],
           "locationmode": "USA-states",
           "lon": [
            -83.64338967883663
           ],
           "mode": "markers",
           "text": "P7112117",
           "type": "scattergeo"
          },
          {
           "lat": [
            34.07573224537723
           ],
           "locationmode": "USA-states",
           "lon": [
            -78.73000672237512
           ],
           "mode": "markers",
           "text": "P7112119",
           "type": "scattergeo"
          },
          {
           "lat": [
            35.845708735145145
           ],
           "locationmode": "USA-states",
           "lon": [
            -76.6365857856553
           ],
           "mode": "markers",
           "text": "P7112120",
           "type": "scattergeo"
          },
          {
           "lat": [
            34.17721151198928
           ],
           "locationmode": "USA-states",
           "lon": [
            -80.52513103571752
           ],
           "mode": "markers",
           "text": "P7112123",
           "type": "scattergeo"
          },
          {
           "lat": [
            34.300796435640436
           ],
           "locationmode": "USA-states",
           "lon": [
            -79.75046153436176
           ],
           "mode": "markers",
           "text": "P7112125",
           "type": "scattergeo"
          },
          {
           "lat": [
            36.260183852856
           ],
           "locationmode": "USA-states",
           "lon": [
            -77.14621865333622
           ],
           "mode": "markers",
           "text": "P7112127",
           "type": "scattergeo"
          },
          {
           "lat": [
            34.15838793286869
           ],
           "locationmode": "USA-states",
           "lon": [
            -79.16406407252222
           ],
           "mode": "markers",
           "text": "P7112130",
           "type": "scattergeo"
          },
          {
           "lat": [
            35.413636431186966
           ],
           "locationmode": "USA-states",
           "lon": [
            -80.54130910222601
           ],
           "mode": "markers",
           "text": "P7112131",
           "type": "scattergeo"
          },
          {
           "lat": [
            33.8872638486018
           ],
           "locationmode": "USA-states",
           "lon": [
            -78.11737328777318
           ],
           "mode": "markers",
           "text": "P7112132",
           "type": "scattergeo"
          },
          {
           "lat": [
            34.447638224122436
           ],
           "locationmode": "USA-states",
           "lon": [
            -80.24759270332379
           ],
           "mode": "markers",
           "text": "P7112133",
           "type": "scattergeo"
          },
          {
           "lat": [
            36.100095080695716
           ],
           "locationmode": "USA-states",
           "lon": [
            -82.63968809292089
           ],
           "mode": "markers",
           "text": "P7112134",
           "type": "scattergeo"
          },
          {
           "lat": [
            36.04958751833006
           ],
           "locationmode": "USA-states",
           "lon": [
            -75.10864560577562
           ],
           "mode": "markers",
           "text": "P7112135",
           "type": "scattergeo"
          },
          {
           "lat": [
            34.7073101980907
           ],
           "locationmode": "USA-states",
           "lon": [
            -81.24252957861192
           ],
           "mode": "markers",
           "text": "P7112136",
           "type": "scattergeo"
          },
          {
           "lat": [
            35.31991592153606
           ],
           "locationmode": "USA-states",
           "lon": [
            -77.9330946658241
           ],
           "mode": "markers",
           "text": "P7112138",
           "type": "scattergeo"
          },
          {
           "lat": [
            34.51954588149234
           ],
           "locationmode": "USA-states",
           "lon": [
            -76.48635093886877
           ],
           "mode": "markers",
           "text": "P7112139",
           "type": "scattergeo"
          },
          {
           "lat": [
            35.09314175607803
           ],
           "locationmode": "USA-states",
           "lon": [
            -80.21575455810856
           ],
           "mode": "markers",
           "text": "P7112140",
           "type": "scattergeo"
          },
          {
           "lat": [
            34.382770764686526
           ],
           "locationmode": "USA-states",
           "lon": [
            -83.18046895010735
           ],
           "mode": "markers",
           "text": "P7112141",
           "type": "scattergeo"
          },
          {
           "lat": [
            35.55915551982089
           ],
           "locationmode": "USA-states",
           "lon": [
            -82.70609451932943
           ],
           "mode": "markers",
           "text": "P7112142",
           "type": "scattergeo"
          },
          {
           "lat": [
            34.31267438625662
           ],
           "locationmode": "USA-states",
           "lon": [
            -81.46305789029515
           ],
           "mode": "markers",
           "text": "P7112143",
           "type": "scattergeo"
          },
          {
           "lat": [
            34.94179548984467
           ],
           "locationmode": "USA-states",
           "lon": [
            -79.4214179837931
           ],
           "mode": "markers",
           "text": "P7112144",
           "type": "scattergeo"
          },
          {
           "lat": [
            34.21707245260218
           ],
           "locationmode": "USA-states",
           "lon": [
            -83.0405973784724
           ],
           "mode": "markers",
           "text": "P7112148",
           "type": "scattergeo"
          },
          {
           "lat": [
            34.48264764944364
           ],
           "locationmode": "USA-states",
           "lon": [
            -77.99073018411694
           ],
           "mode": "markers",
           "text": "P7112149",
           "type": "scattergeo"
          },
          {
           "lat": [
            34.51519246047314
           ],
           "locationmode": "USA-states",
           "lon": [
            -78.40649294747165
           ],
           "mode": "markers",
           "text": "P7112150",
           "type": "scattergeo"
          },
          {
           "lat": [
            36.07781905016139
           ],
           "locationmode": "USA-states",
           "lon": [
            -78.01440342667794
           ],
           "mode": "markers",
           "text": "P7112151",
           "type": "scattergeo"
          },
          {
           "lat": [
            35.642800393054124
           ],
           "locationmode": "USA-states",
           "lon": [
            -76.63693656172379
           ],
           "mode": "markers",
           "text": "P7112153",
           "type": "scattergeo"
          },
          {
           "lat": [
            35.23759684416844
           ],
           "locationmode": "USA-states",
           "lon": [
            -76.21680901457933
           ],
           "mode": "markers",
           "text": "P7112154",
           "type": "scattergeo"
          },
          {
           "lat": [
            36.244191311128716
           ],
           "locationmode": "USA-states",
           "lon": [
            -80.95906509329802
           ],
           "mode": "markers",
           "text": "P7112156",
           "type": "scattergeo"
          },
          {
           "lat": [
            35.9614972462956
           ],
           "locationmode": "USA-states",
           "lon": [
            -83.93534699707219
           ],
           "mode": "markers",
           "text": "P7112158",
           "type": "scattergeo"
          },
          {
           "lat": [
            36.31586042565597
           ],
           "locationmode": "USA-states",
           "lon": [
            -79.8216055874145
           ],
           "mode": "markers",
           "text": "P7112159",
           "type": "scattergeo"
          },
          {
           "lat": [
            35.891184650987405
           ],
           "locationmode": "USA-states",
           "lon": [
            -83.16681437607515
           ],
           "mode": "markers",
           "text": "P7112207",
           "type": "scattergeo"
          }
         ],
         "name": "07/11/2015"
        },
        {
         "data": [
          {
           "lat": [
            35.89294773395673
           ],
           "locationmode": "USA-states",
           "lon": [
            -80.27791611288971
           ],
           "mode": "markers",
           "text": "P7122110",
           "type": "scattergeo"
          },
          {
           "lat": [
            34.036837085584544
           ],
           "locationmode": "USA-states",
           "lon": [
            -81.57284698594847
           ],
           "mode": "markers",
           "text": "P7122111",
           "type": "scattergeo"
          },
          {
           "lat": [
            34.97522584194073
           ],
           "locationmode": "USA-states",
           "lon": [
            -82.88979512394111
           ],
           "mode": "markers",
           "text": "P7122112",
           "type": "scattergeo"
          },
          {
           "lat": [
            34.36472325548479
           ],
           "locationmode": "USA-states",
           "lon": [
            -78.93607557554188
           ],
           "mode": "markers",
           "text": "P7122113",
           "type": "scattergeo"
          },
          {
           "lat": [
            35.062725940551324
           ],
           "locationmode": "USA-states",
           "lon": [
            -76.08401096187086
           ],
           "mode": "markers",
           "text": "P7122114",
           "type": "scattergeo"
          },
          {
           "lat": [
            35.04172180517314
           ],
           "locationmode": "USA-states",
           "lon": [
            -81.7931437811755
           ],
           "mode": "markers",
           "text": "P7122115",
           "type": "scattergeo"
          },
          {
           "lat": [
            35.556149132428516
           ],
           "locationmode": "USA-states",
           "lon": [
            -79.27860136864582
           ],
           "mode": "markers",
           "text": "P7122116",
           "type": "scattergeo"
          },
          {
           "lat": [
            36.18943929178793
           ],
           "locationmode": "USA-states",
           "lon": [
            -78.50906321695965
           ],
           "mode": "markers",
           "text": "P7122117",
           "type": "scattergeo"
          },
          {
           "lat": [
            36.08148376897922
           ],
           "locationmode": "USA-states",
           "lon": [
            -81.81101690156439
           ],
           "mode": "markers",
           "text": "P7122118",
           "type": "scattergeo"
          },
          {
           "lat": [
            34.55396519383399
           ],
           "locationmode": "USA-states",
           "lon": [
            -81.92207901291412
           ],
           "mode": "markers",
           "text": "P7122119",
           "type": "scattergeo"
          },
          {
           "lat": [
            35.604112559679734
           ],
           "locationmode": "USA-states",
           "lon": [
            -83.68450596514519
           ],
           "mode": "markers",
           "text": "P7122120",
           "type": "scattergeo"
          },
          {
           "lat": [
            35.21534181438425
           ],
           "locationmode": "USA-states",
           "lon": [
            -79.96701735407807
           ],
           "mode": "markers",
           "text": "P7122121",
           "type": "scattergeo"
          },
          {
           "lat": [
            35.62777046475905
           ],
           "locationmode": "USA-states",
           "lon": [
            -75.76614197395965
           ],
           "mode": "markers",
           "text": "P7122124",
           "type": "scattergeo"
          },
          {
           "lat": [
            34.607386596645426
           ],
           "locationmode": "USA-states",
           "lon": [
            -77.5888233256855
           ],
           "mode": "markers",
           "text": "P7122125",
           "type": "scattergeo"
          },
          {
           "lat": [
            34.29894862171736
           ],
           "locationmode": "USA-states",
           "lon": [
            -79.04841415310005
           ],
           "mode": "markers",
           "text": "P7122127",
           "type": "scattergeo"
          },
          {
           "lat": [
            34.467059944803715
           ],
           "locationmode": "USA-states",
           "lon": [
            -80.06728894244307
           ],
           "mode": "markers",
           "text": "P7122128",
           "type": "scattergeo"
          },
          {
           "lat": [
            34.11962122849283
           ],
           "locationmode": "USA-states",
           "lon": [
            -82.61441173961963
           ],
           "mode": "markers",
           "text": "P7122129",
           "type": "scattergeo"
          },
          {
           "lat": [
            35.14166780066583
           ],
           "locationmode": "USA-states",
           "lon": [
            -76.16295338468451
           ],
           "mode": "markers",
           "text": "P7122130",
           "type": "scattergeo"
          },
          {
           "lat": [
            34.24743637811812
           ],
           "locationmode": "USA-states",
           "lon": [
            -83.07258394545855
           ],
           "mode": "markers",
           "text": "P7122132",
           "type": "scattergeo"
          },
          {
           "lat": [
            34.88430333679642
           ],
           "locationmode": "USA-states",
           "lon": [
            -79.55592577420708
           ],
           "mode": "markers",
           "text": "P7122133",
           "type": "scattergeo"
          },
          {
           "lat": [
            35.64820434429626
           ],
           "locationmode": "USA-states",
           "lon": [
            -81.65486282083643
           ],
           "mode": "markers",
           "text": "P7122135",
           "type": "scattergeo"
          },
          {
           "lat": [
            35.196180050949614
           ],
           "locationmode": "USA-states",
           "lon": [
            -83.39766230185927
           ],
           "mode": "markers",
           "text": "P7122136",
           "type": "scattergeo"
          },
          {
           "lat": [
            36.071483669694736
           ],
           "locationmode": "USA-states",
           "lon": [
            -82.43524390315062
           ],
           "mode": "markers",
           "text": "P7122137",
           "type": "scattergeo"
          },
          {
           "lat": [
            34.287137043143204
           ],
           "locationmode": "USA-states",
           "lon": [
            -76.19331537690272
           ],
           "mode": "markers",
           "text": "P7122138",
           "type": "scattergeo"
          },
          {
           "lat": [
            35.514653598652686
           ],
           "locationmode": "USA-states",
           "lon": [
            -80.7307868497335
           ],
           "mode": "markers",
           "text": "P7122139",
           "type": "scattergeo"
          },
          {
           "lat": [
            33.84233747614898
           ],
           "locationmode": "USA-states",
           "lon": [
            -82.84577757960986
           ],
           "mode": "markers",
           "text": "P7122140",
           "type": "scattergeo"
          },
          {
           "lat": [
            35.54866060084958
           ],
           "locationmode": "USA-states",
           "lon": [
            -81.935221904838
           ],
           "mode": "markers",
           "text": "P7122141",
           "type": "scattergeo"
          },
          {
           "lat": [
            34.29694549447775
           ],
           "locationmode": "USA-states",
           "lon": [
            -83.95955017150699
           ],
           "mode": "markers",
           "text": "P7122142",
           "type": "scattergeo"
          },
          {
           "lat": [
            35.63520515631176
           ],
           "locationmode": "USA-states",
           "lon": [
            -78.6815388348246
           ],
           "mode": "markers",
           "text": "P7122143",
           "type": "scattergeo"
          },
          {
           "lat": [
            34.516511666780154
           ],
           "locationmode": "USA-states",
           "lon": [
            -77.83852127915998
           ],
           "mode": "markers",
           "text": "P7122147",
           "type": "scattergeo"
          },
          {
           "lat": [
            34.43327909851087
           ],
           "locationmode": "USA-states",
           "lon": [
            -77.86029124885503
           ],
           "mode": "markers",
           "text": "P7122149",
           "type": "scattergeo"
          },
          {
           "lat": [
            34.86927235291216
           ],
           "locationmode": "USA-states",
           "lon": [
            -77.89925219447439
           ],
           "mode": "markers",
           "text": "P7122150",
           "type": "scattergeo"
          },
          {
           "lat": [
            34.33087648269001
           ],
           "locationmode": "USA-states",
           "lon": [
            -75.21437529156897
           ],
           "mode": "markers",
           "text": "P7122152",
           "type": "scattergeo"
          },
          {
           "lat": [
            36.12760497433856
           ],
           "locationmode": "USA-states",
           "lon": [
            -75.55746870618486
           ],
           "mode": "markers",
           "text": "P7122153",
           "type": "scattergeo"
          },
          {
           "lat": [
            33.83940426501968
           ],
           "locationmode": "USA-states",
           "lon": [
            -82.00360723833222
           ],
           "mode": "markers",
           "text": "P7122155",
           "type": "scattergeo"
          },
          {
           "lat": [
            35.75896570862252
           ],
           "locationmode": "USA-states",
           "lon": [
            -83.9227189141191
           ],
           "mode": "markers",
           "text": "P7122156",
           "type": "scattergeo"
          },
          {
           "lat": [
            34.64534343584672
           ],
           "locationmode": "USA-states",
           "lon": [
            -82.30083022138813
           ],
           "mode": "markers",
           "text": "P7122157",
           "type": "scattergeo"
          },
          {
           "lat": [
            34.268964590661476
           ],
           "locationmode": "USA-states",
           "lon": [
            -78.70799975006416
           ],
           "mode": "markers",
           "text": "P7122158",
           "type": "scattergeo"
          },
          {
           "lat": [
            34.53239180896739
           ],
           "locationmode": "USA-states",
           "lon": [
            -81.04418075523306
           ],
           "mode": "markers",
           "text": "P7122159",
           "type": "scattergeo"
          },
          {
           "lat": [
            35.30040552272775
           ],
           "locationmode": "USA-states",
           "lon": [
            -78.51730952244313
           ],
           "mode": "markers",
           "text": "P7122201",
           "type": "scattergeo"
          },
          {
           "lat": [
            34.90574470172436
           ],
           "locationmode": "USA-states",
           "lon": [
            -75.74018002943075
           ],
           "mode": "markers",
           "text": "P7122202",
           "type": "scattergeo"
          },
          {
           "lat": [
            35.90679206523156
           ],
           "locationmode": "USA-states",
           "lon": [
            -76.46686948328333
           ],
           "mode": "markers",
           "text": "P7122203",
           "type": "scattergeo"
          },
          {
           "lat": [
            35.13844325383313
           ],
           "locationmode": "USA-states",
           "lon": [
            -82.26869764742428
           ],
           "mode": "markers",
           "text": "P7122205",
           "type": "scattergeo"
          }
         ],
         "name": "07/12/2015"
        },
        {
         "data": [
          {
           "lat": [
            35.76808184127937
           ],
           "locationmode": "USA-states",
           "lon": [
            -80.57748657970028
           ],
           "mode": "markers",
           "text": "P7142108",
           "type": "scattergeo"
          },
          {
           "lat": [
            35.32202283364219
           ],
           "locationmode": "USA-states",
           "lon": [
            -81.71458081542441
           ],
           "mode": "markers",
           "text": "P7142113",
           "type": "scattergeo"
          },
          {
           "lat": [
            35.13427344661552
           ],
           "locationmode": "USA-states",
           "lon": [
            -81.64635201536063
           ],
           "mode": "markers",
           "text": "P7142114",
           "type": "scattergeo"
          },
          {
           "lat": [
            35.829006978475654
           ],
           "locationmode": "USA-states",
           "lon": [
            -76.99995494835187
           ],
           "mode": "markers",
           "text": "P7142115",
           "type": "scattergeo"
          },
          {
           "lat": [
            34.24683669008639
           ],
           "locationmode": "USA-states",
           "lon": [
            -79.83108470468339
           ],
           "mode": "markers",
           "text": "P7142116",
           "type": "scattergeo"
          },
          {
           "lat": [
            35.47673903499989
           ],
           "locationmode": "USA-states",
           "lon": [
            -82.13277353850825
           ],
           "mode": "markers",
           "text": "P7142118",
           "type": "scattergeo"
          },
          {
           "lat": [
            35.053018270534686
           ],
           "locationmode": "USA-states",
           "lon": [
            -80.44877058692396
           ],
           "mode": "markers",
           "text": "P7142119",
           "type": "scattergeo"
          },
          {
           "lat": [
            34.74294409863402
           ],
           "locationmode": "USA-states",
           "lon": [
            -83.51936478285826
           ],
           "mode": "markers",
           "text": "P7142120",
           "type": "scattergeo"
          },
          {
           "lat": [
            33.834356762269785
           ],
           "locationmode": "USA-states",
           "lon": [
            -79.1568912161116
           ],
           "mode": "markers",
           "text": "P7142121",
           "type": "scattergeo"
          },
          {
           "lat": [
            34.65691237449534
           ],
           "locationmode": "USA-states",
           "lon": [
            -82.5893940970976
           ],
           "mode": "markers",
           "text": "P7142122",
           "type": "scattergeo"
          },
          {
           "lat": [
            35.15862410111512
           ],
           "locationmode": "USA-states",
           "lon": [
            -77.44953914272087
           ],
           "mode": "markers",
           "text": "P7142123",
           "type": "scattergeo"
          },
          {
           "lat": [
            36.01909603894739
           ],
           "locationmode": "USA-states",
           "lon": [
            -78.96834363610375
           ],
           "mode": "markers",
           "text": "P7142124",
           "type": "scattergeo"
          },
          {
           "lat": [
            34.892163540938505
           ],
           "locationmode": "USA-states",
           "lon": [
            -81.09876539670954
           ],
           "mode": "markers",
           "text": "P7142125",
           "type": "scattergeo"
          },
          {
           "lat": [
            34.09901563160406
           ],
           "locationmode": "USA-states",
           "lon": [
            -81.47261553656936
           ],
           "mode": "markers",
           "text": "P7142126",
           "type": "scattergeo"
          },
          {
           "lat": [
            35.309155467300116
           ],
           "locationmode": "USA-states",
           "lon": [
            -79.93455670929002
           ],
           "mode": "markers",
           "text": "P7142127",
           "type": "scattergeo"
          },
          {
           "lat": [
            34.84788413801254
           ],
           "locationmode": "USA-states",
           "lon": [
            -79.86149610755099
           ],
           "mode": "markers",
           "text": "P7142128",
           "type": "scattergeo"
          },
          {
           "lat": [
            34.56983654234531
           ],
           "locationmode": "USA-states",
           "lon": [
            -75.05944724963871
           ],
           "mode": "markers",
           "text": "P7142131",
           "type": "scattergeo"
          },
          {
           "lat": [
            34.5608539313599
           ],
           "locationmode": "USA-states",
           "lon": [
            -83.8426213865895
           ],
           "mode": "markers",
           "text": "P7142132",
           "type": "scattergeo"
          },
          {
           "lat": [
            34.56972257079599
           ],
           "locationmode": "USA-states",
           "lon": [
            -79.51521119891608
           ],
           "mode": "markers",
           "text": "P7142134",
           "type": "scattergeo"
          },
          {
           "lat": [
            34.60995843401785
           ],
           "locationmode": "USA-states",
           "lon": [
            -78.02591047067489
           ],
           "mode": "markers",
           "text": "P7142135",
           "type": "scattergeo"
          },
          {
           "lat": [
            35.876169942808986
           ],
           "locationmode": "USA-states",
           "lon": [
            -76.25749587881323
           ],
           "mode": "markers",
           "text": "P7142138",
           "type": "scattergeo"
          },
          {
           "lat": [
            34.88192475363039
           ],
           "locationmode": "USA-states",
           "lon": [
            -80.64951965363099
           ],
           "mode": "markers",
           "text": "P7142140",
           "type": "scattergeo"
          },
          {
           "lat": [
            34.24198325834123
           ],
           "locationmode": "USA-states",
           "lon": [
            -80.54437097007539
           ],
           "mode": "markers",
           "text": "P7142141",
           "type": "scattergeo"
          },
          {
           "lat": [
            35.65151103795998
           ],
           "locationmode": "USA-states",
           "lon": [
            -80.1115068143855
           ],
           "mode": "markers",
           "text": "P7142142",
           "type": "scattergeo"
          },
          {
           "lat": [
            36.267497280360246
           ],
           "locationmode": "USA-states",
           "lon": [
            -78.91944971799516
           ],
           "mode": "markers",
           "text": "P7142143",
           "type": "scattergeo"
          },
          {
           "lat": [
            35.50349609250854
           ],
           "locationmode": "USA-states",
           "lon": [
            -83.01661550653579
           ],
           "mode": "markers",
           "text": "P7142144",
           "type": "scattergeo"
          },
          {
           "lat": [
            34.66139077873191
           ],
           "locationmode": "USA-states",
           "lon": [
            -82.0677193975522
           ],
           "mode": "markers",
           "text": "P7142146",
           "type": "scattergeo"
          },
          {
           "lat": [
            34.1176260502816
           ],
           "locationmode": "USA-states",
           "lon": [
            -82.58184688090208
           ],
           "mode": "markers",
           "text": "P7142149",
           "type": "scattergeo"
          },
          {
           "lat": [
            36.06471532083525
           ],
           "locationmode": "USA-states",
           "lon": [
            -78.28278443459338
           ],
           "mode": "markers",
           "text": "P7142150",
           "type": "scattergeo"
          },
          {
           "lat": [
            34.88711399013467
           ],
           "locationmode": "USA-states",
           "lon": [
            -78.81024514064084
           ],
           "mode": "markers",
           "text": "P7142151",
           "type": "scattergeo"
          },
          {
           "lat": [
            34.04518093716923
           ],
           "locationmode": "USA-states",
           "lon": [
            -78.90699795534785
           ],
           "mode": "markers",
           "text": "P7142152",
           "type": "scattergeo"
          },
          {
           "lat": [
            35.78814855888718
           ],
           "locationmode": "USA-states",
           "lon": [
            -80.38381511800273
           ],
           "mode": "markers",
           "text": "P7142155",
           "type": "scattergeo"
          },
          {
           "lat": [
            35.78663351709214
           ],
           "locationmode": "USA-states",
           "lon": [
            -78.6228873142615
           ],
           "mode": "markers",
           "text": "P7142156",
           "type": "scattergeo"
          },
          {
           "lat": [
            34.723442969662514
           ],
           "locationmode": "USA-states",
           "lon": [
            -78.26233383143128
           ],
           "mode": "markers",
           "text": "P7142157",
           "type": "scattergeo"
          },
          {
           "lat": [
            34.29581690444187
           ],
           "locationmode": "USA-states",
           "lon": [
            -78.97280207763242
           ],
           "mode": "markers",
           "text": "P7142200",
           "type": "scattergeo"
          },
          {
           "lat": [
            35.79459263822312
           ],
           "locationmode": "USA-states",
           "lon": [
            -75.29351556614914
           ],
           "mode": "markers",
           "text": "P7142201",
           "type": "scattergeo"
          },
          {
           "lat": [
            36.12035143511074
           ],
           "locationmode": "USA-states",
           "lon": [
            -83.90115464803259
           ],
           "mode": "markers",
           "text": "P7142203",
           "type": "scattergeo"
          },
          {
           "lat": [
            34.75676899454939
           ],
           "locationmode": "USA-states",
           "lon": [
            -82.00837217141002
           ],
           "mode": "markers",
           "text": "P7142204",
           "type": "scattergeo"
          },
          {
           "lat": [
            34.484972136187785
           ],
           "locationmode": "USA-states",
           "lon": [
            -79.5961723808906
           ],
           "mode": "markers",
           "text": "P7142208",
           "type": "scattergeo"
          }
         ],
         "name": "07/14/2015"
        },
        {
         "data": [
          {
           "lat": [
            35.52884444809126
           ],
           "locationmode": "USA-states",
           "lon": [
            -78.12991759637842
           ],
           "mode": "markers",
           "text": "P7152129",
           "type": "scattergeo"
          },
          {
           "lat": [
            33.91607156411463
           ],
           "locationmode": "USA-states",
           "lon": [
            -83.96980581666384
           ],
           "mode": "markers",
           "text": "P7152130",
           "type": "scattergeo"
          },
          {
           "lat": [
            36.16918099551113
           ],
           "locationmode": "USA-states",
           "lon": [
            -77.29813189956165
           ],
           "mode": "markers",
           "text": "P7152131",
           "type": "scattergeo"
          },
          {
           "lat": [
            35.42995153990535
           ],
           "locationmode": "USA-states",
           "lon": [
            -79.25729339222902
           ],
           "mode": "markers",
           "text": "P7152132",
           "type": "scattergeo"
          },
          {
           "lat": [
            35.70863383994909
           ],
           "locationmode": "USA-states",
           "lon": [
            -81.6255638981352
           ],
           "mode": "markers",
           "text": "P7152133",
           "type": "scattergeo"
          },
          {
           "lat": [
            34.58419357613284
           ],
           "locationmode": "USA-states",
           "lon": [
            -81.59380941689922
           ],
           "mode": "markers",
           "text": "P7152134",
           "type": "scattergeo"
          },
          {
           "lat": [
            36.04544264614892
           ],
           "locationmode": "USA-states",
           "lon": [
            -80.89768737987974
           ],
           "mode": "markers",
           "text": "P7152136",
           "type": "scattergeo"
          },
          {
           "lat": [
            35.42397059133622
           ],
           "locationmode": "USA-states",
           "lon": [
            -78.6728052402295
           ],
           "mode": "markers",
           "text": "P7152137",
           "type": "scattergeo"
          },
          {
           "lat": [
            34.825359293078186
           ],
           "locationmode": "USA-states",
           "lon": [
            -76.84796129539757
           ],
           "mode": "markers",
           "text": "P7152140",
           "type": "scattergeo"
          },
          {
           "lat": [
            34.51382503186768
           ],
           "locationmode": "USA-states",
           "lon": [
            -78.84698396820605
           ],
           "mode": "markers",
           "text": "P7152142",
           "type": "scattergeo"
          },
          {
           "lat": [
            35.26236343202094
           ],
           "locationmode": "USA-states",
           "lon": [
            -75.56573385201835
           ],
           "mode": "markers",
           "text": "P7152145",
           "type": "scattergeo"
          },
          {
           "lat": [
            33.99270996337671
           ],
           "locationmode": "USA-states",
           "lon": [
            -76.31771108210664
           ],
           "mode": "markers",
           "text": "P7152147",
           "type": "scattergeo"
          },
          {
           "lat": [
            34.44404436862086
           ],
           "locationmode": "USA-states",
           "lon": [
            -80.03864903367997
           ],
           "mode": "markers",
           "text": "P7152148",
           "type": "scattergeo"
          },
          {
           "lat": [
            36.14372702443022
           ],
           "locationmode": "USA-states",
           "lon": [
            -81.7724068048739
           ],
           "mode": "markers",
           "text": "P7152152",
           "type": "scattergeo"
          },
          {
           "lat": [
            34.144886534203685
           ],
           "locationmode": "USA-states",
           "lon": [
            -78.34233766893801
           ],
           "mode": "markers",
           "text": "P7152153",
           "type": "scattergeo"
          },
          {
           "lat": [
            34.247328744618756
           ],
           "locationmode": "USA-states",
           "lon": [
            -77.09500071419156
           ],
           "mode": "markers",
           "text": "P7152154",
           "type": "scattergeo"
          },
          {
           "lat": [
            34.74380144802325
           ],
           "locationmode": "USA-states",
           "lon": [
            -81.23826016809693
           ],
           "mode": "markers",
           "text": "P7152155",
           "type": "scattergeo"
          },
          {
           "lat": [
            34.990702061002445
           ],
           "locationmode": "USA-states",
           "lon": [
            -77.94135382202853
           ],
           "mode": "markers",
           "text": "P7152156",
           "type": "scattergeo"
          },
          {
           "lat": [
            34.1818578072292
           ],
           "locationmode": "USA-states",
           "lon": [
            -80.95867114751994
           ],
           "mode": "markers",
           "text": "P7152157",
           "type": "scattergeo"
          },
          {
           "lat": [
            35.69788750647158
           ],
           "locationmode": "USA-states",
           "lon": [
            -75.91422763776703
           ],
           "mode": "markers",
           "text": "P7152158",
           "type": "scattergeo"
          },
          {
           "lat": [
            34.242166398037085
           ],
           "locationmode": "USA-states",
           "lon": [
            -83.63360113873104
           ],
           "mode": "markers",
           "text": "P7152159",
           "type": "scattergeo"
          },
          {
           "lat": [
            35.81488087447379
           ],
           "locationmode": "USA-states",
           "lon": [
            -80.24276040151253
           ],
           "mode": "markers",
           "text": "P7152201",
           "type": "scattergeo"
          },
          {
           "lat": [
            34.324431391705076
           ],
           "locationmode": "USA-states",
           "lon": [
            -81.61007733436314
           ],
           "mode": "markers",
           "text": "P7152202",
           "type": "scattergeo"
          },
          {
           "lat": [
            36.26536122465248
           ],
           "locationmode": "USA-states",
           "lon": [
            -76.05166807014525
           ],
           "mode": "markers",
           "text": "P7152203",
           "type": "scattergeo"
          },
          {
           "lat": [
            35.66269790435514
           ],
           "locationmode": "USA-states",
           "lon": [
            -83.52298302862246
           ],
           "mode": "markers",
           "text": "P7152204",
           "type": "scattergeo"
          },
          {
           "lat": [
            35.32287515802067
           ],
           "locationmode": "USA-states",
           "lon": [
            -78.34120702152569
           ],
           "mode": "markers",
           "text": "P7152207",
           "type": "scattergeo"
          },
          {
           "lat": [
            33.99199155655832
           ],
           "locationmode": "USA-states",
           "lon": [
            -83.49319671087497
           ],
           "mode": "markers",
           "text": "P7152211",
           "type": "scattergeo"
          },
          {
           "lat": [
            35.639776880653436
           ],
           "locationmode": "USA-states",
           "lon": [
            -78.16340394129978
           ],
           "mode": "markers",
           "text": "P7152213",
           "type": "scattergeo"
          },
          {
           "lat": [
            34.78967331664177
           ],
           "locationmode": "USA-states",
           "lon": [
            -80.2398501081062
           ],
           "mode": "markers",
           "text": "P7152214",
           "type": "scattergeo"
          },
          {
           "lat": [
            35.13462682026623
           ],
           "locationmode": "USA-states",
           "lon": [
            -79.75926827184522
           ],
           "mode": "markers",
           "text": "P7152215",
           "type": "scattergeo"
          }
         ],
         "name": "07/15/2015"
        },
        {
         "data": [
          {
           "lat": [
            36.08917720705115
           ],
           "locationmode": "USA-states",
           "lon": [
            -76.9604172022009
           ],
           "mode": "markers",
           "text": "P7162143",
           "type": "scattergeo"
          },
          {
           "lat": [
            35.77626945883866
           ],
           "locationmode": "USA-states",
           "lon": [
            -82.73172803842483
           ],
           "mode": "markers",
           "text": "P7162145",
           "type": "scattergeo"
          },
          {
           "lat": [
            33.875455619140176
           ],
           "locationmode": "USA-states",
           "lon": [
            -75.2680579580739
           ],
           "mode": "markers",
           "text": "P7162147",
           "type": "scattergeo"
          },
          {
           "lat": [
            34.076361629602665
           ],
           "locationmode": "USA-states",
           "lon": [
            -82.89548245750866
           ],
           "mode": "markers",
           "text": "P7162148",
           "type": "scattergeo"
          },
          {
           "lat": [
            34.59669193154737
           ],
           "locationmode": "USA-states",
           "lon": [
            -78.07466805760548
           ],
           "mode": "markers",
           "text": "P7162149",
           "type": "scattergeo"
          },
          {
           "lat": [
            35.74082381811956
           ],
           "locationmode": "USA-states",
           "lon": [
            -75.60996037400731
           ],
           "mode": "markers",
           "text": "P7162150",
           "type": "scattergeo"
          },
          {
           "lat": [
            34.988137915395455
           ],
           "locationmode": "USA-states",
           "lon": [
            -76.53567739047462
           ],
           "mode": "markers",
           "text": "P7162151",
           "type": "scattergeo"
          },
          {
           "lat": [
            35.53953390915182
           ],
           "locationmode": "USA-states",
           "lon": [
            -77.31368473258956
           ],
           "mode": "markers",
           "text": "P7162152",
           "type": "scattergeo"
          },
          {
           "lat": [
            34.993322383064374
           ],
           "locationmode": "USA-states",
           "lon": [
            -81.04120459923183
           ],
           "mode": "markers",
           "text": "P7162153",
           "type": "scattergeo"
          },
          {
           "lat": [
            34.59007890064511
           ],
           "locationmode": "USA-states",
           "lon": [
            -83.10610863618209
           ],
           "mode": "markers",
           "text": "P7162154",
           "type": "scattergeo"
          },
          {
           "lat": [
            35.01267711544198
           ],
           "locationmode": "USA-states",
           "lon": [
            -83.55764407879583
           ],
           "mode": "markers",
           "text": "P7162155",
           "type": "scattergeo"
          },
          {
           "lat": [
            35.55745184490627
           ],
           "locationmode": "USA-states",
           "lon": [
            -79.05275009110362
           ],
           "mode": "markers",
           "text": "P7162157",
           "type": "scattergeo"
          },
          {
           "lat": [
            35.29641781393056
           ],
           "locationmode": "USA-states",
           "lon": [
            -76.15055865709309
           ],
           "mode": "markers",
           "text": "P7162158",
           "type": "scattergeo"
          },
          {
           "lat": [
            35.80986278817281
           ],
           "locationmode": "USA-states",
           "lon": [
            -83.56736724182049
           ],
           "mode": "markers",
           "text": "P7162159",
           "type": "scattergeo"
          },
          {
           "lat": [
            36.020800642520754
           ],
           "locationmode": "USA-states",
           "lon": [
            -77.44166139510304
           ],
           "mode": "markers",
           "text": "P7162200",
           "type": "scattergeo"
          },
          {
           "lat": [
            35.83215625224792
           ],
           "locationmode": "USA-states",
           "lon": [
            -80.86059260567463
           ],
           "mode": "markers",
           "text": "P7162201",
           "type": "scattergeo"
          },
          {
           "lat": [
            35.76689581928042
           ],
           "locationmode": "USA-states",
           "lon": [
            -81.54949734175928
           ],
           "mode": "markers",
           "text": "P7162202",
           "type": "scattergeo"
          },
          {
           "lat": [
            36.23363075481497
           ],
           "locationmode": "USA-states",
           "lon": [
            -79.96503446212428
           ],
           "mode": "markers",
           "text": "P7162203",
           "type": "scattergeo"
          },
          {
           "lat": [
            35.058973119832075
           ],
           "locationmode": "USA-states",
           "lon": [
            -76.10730127809623
           ],
           "mode": "markers",
           "text": "P7162204",
           "type": "scattergeo"
          },
          {
           "lat": [
            35.964544103214024
           ],
           "locationmode": "USA-states",
           "lon": [
            -76.51006919158061
           ],
           "mode": "markers",
           "text": "P7162207",
           "type": "scattergeo"
          },
          {
           "lat": [
            34.68602826413593
           ],
           "locationmode": "USA-states",
           "lon": [
            -81.3530182566038
           ],
           "mode": "markers",
           "text": "P7162208",
           "type": "scattergeo"
          },
          {
           "lat": [
            34.364797255117594
           ],
           "locationmode": "USA-states",
           "lon": [
            -78.97365680060027
           ],
           "mode": "markers",
           "text": "P7162211",
           "type": "scattergeo"
          },
          {
           "lat": [
            34.65314086905768
           ],
           "locationmode": "USA-states",
           "lon": [
            -75.03468985296152
           ],
           "mode": "markers",
           "text": "P7162212",
           "type": "scattergeo"
          },
          {
           "lat": [
            35.249828836733215
           ],
           "locationmode": "USA-states",
           "lon": [
            -82.66621481226515
           ],
           "mode": "markers",
           "text": "P7162214",
           "type": "scattergeo"
          },
          {
           "lat": [
            34.17881494633771
           ],
           "locationmode": "USA-states",
           "lon": [
            -79.47747176361906
           ],
           "mode": "markers",
           "text": "P7162216",
           "type": "scattergeo"
          },
          {
           "lat": [
            34.380653290656554
           ],
           "locationmode": "USA-states",
           "lon": [
            -82.44965193176527
           ],
           "mode": "markers",
           "text": "P7162219",
           "type": "scattergeo"
          },
          {
           "lat": [
            33.846575340241
           ],
           "locationmode": "USA-states",
           "lon": [
            -82.46336934463989
           ],
           "mode": "markers",
           "text": "P7162220",
           "type": "scattergeo"
          },
          {
           "lat": [
            35.290356808888
           ],
           "locationmode": "USA-states",
           "lon": [
            -81.497873956406
           ],
           "mode": "markers",
           "text": "P7162221",
           "type": "scattergeo"
          },
          {
           "lat": [
            36.13244203864155
           ],
           "locationmode": "USA-states",
           "lon": [
            -76.89986500413515
           ],
           "mode": "markers",
           "text": "P7162223",
           "type": "scattergeo"
          },
          {
           "lat": [
            36.21747924979738
           ],
           "locationmode": "USA-states",
           "lon": [
            -78.02662156714052
           ],
           "mode": "markers",
           "text": "P7162225",
           "type": "scattergeo"
          },
          {
           "lat": [
            36.14225554402212
           ],
           "locationmode": "USA-states",
           "lon": [
            -76.03995017655107
           ],
           "mode": "markers",
           "text": "P7162227",
           "type": "scattergeo"
          },
          {
           "lat": [
            34.274935794677
           ],
           "locationmode": "USA-states",
           "lon": [
            -75.86829582351115
           ],
           "mode": "markers",
           "text": "P7162228",
           "type": "scattergeo"
          },
          {
           "lat": [
            36.27628358338098
           ],
           "locationmode": "USA-states",
           "lon": [
            -81.8285543796253
           ],
           "mode": "markers",
           "text": "P7162229",
           "type": "scattergeo"
          },
          {
           "lat": [
            34.94820798345222
           ],
           "locationmode": "USA-states",
           "lon": [
            -83.71023086628045
           ],
           "mode": "markers",
           "text": "P7162230",
           "type": "scattergeo"
          },
          {
           "lat": [
            34.07956403618892
           ],
           "locationmode": "USA-states",
           "lon": [
            -82.97188480240982
           ],
           "mode": "markers",
           "text": "P7162231",
           "type": "scattergeo"
          },
          {
           "lat": [
            34.7268676102614
           ],
           "locationmode": "USA-states",
           "lon": [
            -78.49416130262361
           ],
           "mode": "markers",
           "text": "P7162234",
           "type": "scattergeo"
          },
          {
           "lat": [
            34.03848725137096
           ],
           "locationmode": "USA-states",
           "lon": [
            -77.5683441186629
           ],
           "mode": "markers",
           "text": "P7162235",
           "type": "scattergeo"
          },
          {
           "lat": [
            34.206381144763995
           ],
           "locationmode": "USA-states",
           "lon": [
            -81.56147027833859
           ],
           "mode": "markers",
           "text": "P7162236",
           "type": "scattergeo"
          }
         ],
         "name": "07/16/2015"
        },
        {
         "data": [
          {
           "lat": [
            34.9721008655769
           ],
           "locationmode": "USA-states",
           "lon": [
            -82.54738673828692
           ],
           "mode": "markers",
           "text": "P7172114",
           "type": "scattergeo"
          },
          {
           "lat": [
            35.77735991580601
           ],
           "locationmode": "USA-states",
           "lon": [
            -80.96655109580564
           ],
           "mode": "markers",
           "text": "P7172117",
           "type": "scattergeo"
          },
          {
           "lat": [
            34.481990840991344
           ],
           "locationmode": "USA-states",
           "lon": [
            -78.17429326021751
           ],
           "mode": "markers",
           "text": "P7172118",
           "type": "scattergeo"
          },
          {
           "lat": [
            35.35309868521998
           ],
           "locationmode": "USA-states",
           "lon": [
            -76.49617162800917
           ],
           "mode": "markers",
           "text": "P7172122",
           "type": "scattergeo"
          },
          {
           "lat": [
            35.18821286319712
           ],
           "locationmode": "USA-states",
           "lon": [
            -79.73470198259855
           ],
           "mode": "markers",
           "text": "P7172124",
           "type": "scattergeo"
          },
          {
           "lat": [
            33.98592586354293
           ],
           "locationmode": "USA-states",
           "lon": [
            -83.34978672777484
           ],
           "mode": "markers",
           "text": "P7172131",
           "type": "scattergeo"
          },
          {
           "lat": [
            36.147891728167586
           ],
           "locationmode": "USA-states",
           "lon": [
            -78.84336682888647
           ],
           "mode": "markers",
           "text": "P7172133",
           "type": "scattergeo"
          },
          {
           "lat": [
            35.59602612654565
           ],
           "locationmode": "USA-states",
           "lon": [
            -77.54462184949026
           ],
           "mode": "markers",
           "text": "P7172135",
           "type": "scattergeo"
          },
          {
           "lat": [
            35.7968917954956
           ],
           "locationmode": "USA-states",
           "lon": [
            -83.98711942861841
           ],
           "mode": "markers",
           "text": "P7172136",
           "type": "scattergeo"
          },
          {
           "lat": [
            36.2037722542066
           ],
           "locationmode": "USA-states",
           "lon": [
            -76.54254843870689
           ],
           "mode": "markers",
           "text": "P7172138",
           "type": "scattergeo"
          },
          {
           "lat": [
            35.642848593410676
           ],
           "locationmode": "USA-states",
           "lon": [
            -76.76532522035185
           ],
           "mode": "markers",
           "text": "P7172139",
           "type": "scattergeo"
          },
          {
           "lat": [
            34.7751010799558
           ],
           "locationmode": "USA-states",
           "lon": [
            -82.38572660034198
           ],
           "mode": "markers",
           "text": "P7172141",
           "type": "scattergeo"
          },
          {
           "lat": [
            35.468914057471345
           ],
           "locationmode": "USA-states",
           "lon": [
            -78.17719738254661
           ],
           "mode": "markers",
           "text": "P7172142",
           "type": "scattergeo"
          },
          {
           "lat": [
            34.46741494339872
           ],
           "locationmode": "USA-states",
           "lon": [
            -81.42264344914464
           ],
           "mode": "markers",
           "text": "P7172143",
           "type": "scattergeo"
          },
          {
           "lat": [
            34.29847918434488
           ],
           "locationmode": "USA-states",
           "lon": [
            -82.9039677870823
           ],
           "mode": "markers",
           "text": "P7172147",
           "type": "scattergeo"
          },
          {
           "lat": [
            33.986695870558265
           ],
           "locationmode": "USA-states",
           "lon": [
            -80.57788200005552
           ],
           "mode": "markers",
           "text": "P7172149",
           "type": "scattergeo"
          },
          {
           "lat": [
            35.65274591243234
           ],
           "locationmode": "USA-states",
           "lon": [
            -79.25730486476184
           ],
           "mode": "markers",
           "text": "P7172154",
           "type": "scattergeo"
          },
          {
           "lat": [
            34.059519205939154
           ],
           "locationmode": "USA-states",
           "lon": [
            -78.18539494454932
           ],
           "mode": "markers",
           "text": "P7172155",
           "type": "scattergeo"
          },
          {
           "lat": [
            34.30485471389379
           ],
           "locationmode": "USA-states",
           "lon": [
            -76.55323911911731
           ],
           "mode": "markers",
           "text": "P7172157",
           "type": "scattergeo"
          },
          {
           "lat": [
            35.44587685615132
           ],
           "locationmode": "USA-states",
           "lon": [
            -80.29324703331869
           ],
           "mode": "markers",
           "text": "P7172200",
           "type": "scattergeo"
          },
          {
           "lat": [
            35.450692537902675
           ],
           "locationmode": "USA-states",
           "lon": [
            -81.07300408522003
           ],
           "mode": "markers",
           "text": "P7172201",
           "type": "scattergeo"
          },
          {
           "lat": [
            34.873661069652876
           ],
           "locationmode": "USA-states",
           "lon": [
            -77.58984543375615
           ],
           "mode": "markers",
           "text": "P7172203",
           "type": "scattergeo"
          }
         ],
         "name": "07/17/2015"
        },
        {
         "data": [
          {
           "lat": [
            35.04780850550715
           ],
           "locationmode": "USA-states",
           "lon": [
            -83.27577527801847
           ],
           "mode": "markers",
           "text": "P7182113",
           "type": "scattergeo"
          },
          {
           "lat": [
            34.046414152652055
           ],
           "locationmode": "USA-states",
           "lon": [
            -78.79810097951672
           ],
           "mode": "markers",
           "text": "P7182114",
           "type": "scattergeo"
          },
          {
           "lat": [
            35.88978837184515
           ],
           "locationmode": "USA-states",
           "lon": [
            -75.14733268929758
           ],
           "mode": "markers",
           "text": "P7182119",
           "type": "scattergeo"
          },
          {
           "lat": [
            35.4980062685139
           ],
           "locationmode": "USA-states",
           "lon": [
            -78.05864411370843
           ],
           "mode": "markers",
           "text": "P7182120",
           "type": "scattergeo"
          },
          {
           "lat": [
            35.53100908325278
           ],
           "locationmode": "USA-states",
           "lon": [
            -81.14946493643615
           ],
           "mode": "markers",
           "text": "P7182124",
           "type": "scattergeo"
          },
          {
           "lat": [
            36.30275755553496
           ],
           "locationmode": "USA-states",
           "lon": [
            -77.16293937590285
           ],
           "mode": "markers",
           "text": "P7182125",
           "type": "scattergeo"
          },
          {
           "lat": [
            35.71056939831269
           ],
           "locationmode": "USA-states",
           "lon": [
            -77.55373538029474
           ],
           "mode": "markers",
           "text": "P7182129",
           "type": "scattergeo"
          },
          {
           "lat": [
            35.6096758594241
           ],
           "locationmode": "USA-states",
           "lon": [
            -76.30352595316509
           ],
           "mode": "markers",
           "text": "P7182131",
           "type": "scattergeo"
          },
          {
           "lat": [
            36.260427407186725
           ],
           "locationmode": "USA-states",
           "lon": [
            -80.40899798012443
           ],
           "mode": "markers",
           "text": "P7182134",
           "type": "scattergeo"
          },
          {
           "lat": [
            35.82533934918135
           ],
           "locationmode": "USA-states",
           "lon": [
            -83.42470778060701
           ],
           "mode": "markers",
           "text": "P7182135",
           "type": "scattergeo"
          },
          {
           "lat": [
            34.58277044493029
           ],
           "locationmode": "USA-states",
           "lon": [
            -76.48755108623895
           ],
           "mode": "markers",
           "text": "P7182137",
           "type": "scattergeo"
          },
          {
           "lat": [
            34.91977856579344
           ],
           "locationmode": "USA-states",
           "lon": [
            -77.46049077297093
           ],
           "mode": "markers",
           "text": "P7182138",
           "type": "scattergeo"
          },
          {
           "lat": [
            34.16460821460803
           ],
           "locationmode": "USA-states",
           "lon": [
            -79.3073347773277
           ],
           "mode": "markers",
           "text": "P7182139",
           "type": "scattergeo"
          },
          {
           "lat": [
            34.707965391325025
           ],
           "locationmode": "USA-states",
           "lon": [
            -75.1150973760432
           ],
           "mode": "markers",
           "text": "P7182141",
           "type": "scattergeo"
          },
          {
           "lat": [
            36.13858441316217
           ],
           "locationmode": "USA-states",
           "lon": [
            -83.04762106348888
           ],
           "mode": "markers",
           "text": "P7182142",
           "type": "scattergeo"
          },
          {
           "lat": [
            34.57658413339434
           ],
           "locationmode": "USA-states",
           "lon": [
            -77.06009955322108
           ],
           "mode": "markers",
           "text": "P7182144",
           "type": "scattergeo"
          },
          {
           "lat": [
            34.320609447784825
           ],
           "locationmode": "USA-states",
           "lon": [
            -76.82529047917858
           ],
           "mode": "markers",
           "text": "P7182146",
           "type": "scattergeo"
          },
          {
           "lat": [
            35.51807677029378
           ],
           "locationmode": "USA-states",
           "lon": [
            -78.5483183243435
           ],
           "mode": "markers",
           "text": "P7182147",
           "type": "scattergeo"
          },
          {
           "lat": [
            35.221312893429605
           ],
           "locationmode": "USA-states",
           "lon": [
            -78.47988044025206
           ],
           "mode": "markers",
           "text": "P7182150",
           "type": "scattergeo"
          },
          {
           "lat": [
            35.50109823569727
           ],
           "locationmode": "USA-states",
           "lon": [
            -75.42935072221188
           ],
           "mode": "markers",
           "text": "P7182154",
           "type": "scattergeo"
          },
          {
           "lat": [
            35.5755229439434
           ],
           "locationmode": "USA-states",
           "lon": [
            -81.25832713947518
           ],
           "mode": "markers",
           "text": "P7182157",
           "type": "scattergeo"
          }
         ],
         "name": "07/18/2015"
        },
        {
         "data": [
          {
           "lat": [
            33.83705852980283
           ],
           "locationmode": "USA-states",
           "lon": [
            -82.11590678872469
           ],
           "mode": "markers",
           "text": "56110631",
           "type": "scattergeo"
          },
          {
           "lat": [
            35.15575489739699
           ],
           "locationmode": "USA-states",
           "lon": [
            -81.24344425656956
           ],
           "mode": "markers",
           "text": "56110632",
           "type": "scattergeo"
          },
          {
           "lat": [
            36.28788246628074
           ],
           "locationmode": "USA-states",
           "lon": [
            -75.16326131191313
           ],
           "mode": "markers",
           "text": "56110634",
           "type": "scattergeo"
          },
          {
           "lat": [
            34.99004358719265
           ],
           "locationmode": "USA-states",
           "lon": [
            -80.89621165269914
           ],
           "mode": "markers",
           "text": "56110638",
           "type": "scattergeo"
          },
          {
           "lat": [
            35.78309473349381
           ],
           "locationmode": "USA-states",
           "lon": [
            -80.55705270565873
           ],
           "mode": "markers",
           "text": "56110639",
           "type": "scattergeo"
          },
          {
           "lat": [
            35.28268633194046
           ],
           "locationmode": "USA-states",
           "lon": [
            -78.06999405423537
           ],
           "mode": "markers",
           "text": "56110641",
           "type": "scattergeo"
          },
          {
           "lat": [
            33.89206287049396
           ],
           "locationmode": "USA-states",
           "lon": [
            -75.16645506666926
           ],
           "mode": "markers",
           "text": "56110642",
           "type": "scattergeo"
          },
          {
           "lat": [
            34.01442762940782
           ],
           "locationmode": "USA-states",
           "lon": [
            -79.52611628611075
           ],
           "mode": "markers",
           "text": "56110643",
           "type": "scattergeo"
          },
          {
           "lat": [
            35.75957407761519
           ],
           "locationmode": "USA-states",
           "lon": [
            -77.46470346045417
           ],
           "mode": "markers",
           "text": "56110645",
           "type": "scattergeo"
          },
          {
           "lat": [
            35.873388475796844
           ],
           "locationmode": "USA-states",
           "lon": [
            -81.30270218062208
           ],
           "mode": "markers",
           "text": "56110646",
           "type": "scattergeo"
          },
          {
           "lat": [
            36.02490284142198
           ],
           "locationmode": "USA-states",
           "lon": [
            -75.31226681486287
           ],
           "mode": "markers",
           "text": "56110649",
           "type": "scattergeo"
          },
          {
           "lat": [
            34.008153317270896
           ],
           "locationmode": "USA-states",
           "lon": [
            -79.87607294196931
           ],
           "mode": "markers",
           "text": "56110650",
           "type": "scattergeo"
          },
          {
           "lat": [
            35.72407191046301
           ],
           "locationmode": "USA-states",
           "lon": [
            -76.21600214857368
           ],
           "mode": "markers",
           "text": "56110651",
           "type": "scattergeo"
          },
          {
           "lat": [
            35.17071442664062
           ],
           "locationmode": "USA-states",
           "lon": [
            -81.80619297802096
           ],
           "mode": "markers",
           "text": "56110653",
           "type": "scattergeo"
          },
          {
           "lat": [
            35.23439261746662
           ],
           "locationmode": "USA-states",
           "lon": [
            -82.47109967553207
           ],
           "mode": "markers",
           "text": "56110654",
           "type": "scattergeo"
          },
          {
           "lat": [
            34.63410745266668
           ],
           "locationmode": "USA-states",
           "lon": [
            -77.47022866238544
           ],
           "mode": "markers",
           "text": "56110655",
           "type": "scattergeo"
          },
          {
           "lat": [
            34.39822586193108
           ],
           "locationmode": "USA-states",
           "lon": [
            -80.21789151215441
           ],
           "mode": "markers",
           "text": "56110656",
           "type": "scattergeo"
          },
          {
           "lat": [
            34.69899510598052
           ],
           "locationmode": "USA-states",
           "lon": [
            -80.98078330354545
           ],
           "mode": "markers",
           "text": "56110704",
           "type": "scattergeo"
          },
          {
           "lat": [
            35.535461944595745
           ],
           "locationmode": "USA-states",
           "lon": [
            -80.58300824956117
           ],
           "mode": "markers",
           "text": "56110706",
           "type": "scattergeo"
          },
          {
           "lat": [
            33.88969092585936
           ],
           "locationmode": "USA-states",
           "lon": [
            -81.2461866992324
           ],
           "mode": "markers",
           "text": "56110708",
           "type": "scattergeo"
          },
          {
           "lat": [
            36.12101028900812
           ],
           "locationmode": "USA-states",
           "lon": [
            -78.5393948959555
           ],
           "mode": "markers",
           "text": "56110710",
           "type": "scattergeo"
          },
          {
           "lat": [
            35.81917456170754
           ],
           "locationmode": "USA-states",
           "lon": [
            -81.90470196873667
           ],
           "mode": "markers",
           "text": "56110713",
           "type": "scattergeo"
          },
          {
           "lat": [
            36.173384448973856
           ],
           "locationmode": "USA-states",
           "lon": [
            -82.20951238288218
           ],
           "mode": "markers",
           "text": "56110716",
           "type": "scattergeo"
          },
          {
           "lat": [
            34.33974224788509
           ],
           "locationmode": "USA-states",
           "lon": [
            -79.79750452471237
           ],
           "mode": "markers",
           "text": "56110720",
           "type": "scattergeo"
          },
          {
           "lat": [
            33.995492061538364
           ],
           "locationmode": "USA-states",
           "lon": [
            -78.22446651623751
           ],
           "mode": "markers",
           "text": "56110728",
           "type": "scattergeo"
          }
         ],
         "name": "06/11/2756"
        }
       ],
       "layout": {
        "geo": {
         "countrycolor": "rgb(217, 217, 217)",
         "countrywidth": 0.5,
         "landcolor": "rgb(250, 250, 250)",
         "projection": {
          "type": "albers usa"
         },
         "scope": "usa",
         "showland": true,
         "subunitcolor": "rgb(217, 217, 217)",
         "subunitwidth": 0.5
        },
        "hovermode": "closest",
        "sliders": [
         {
          "active": 0,
          "currentvalue": {
           "font": {
            "size": 18
           },
           "prefix": "Date: ",
           "visible": true,
           "xanchor": "right"
          },
          "len": 0.9,
          "pad": {
           "b": 10,
           "t": 50
          },
          "steps": [
           {
            "args": [
             [
              "06/01/2015"
             ],
             {
              "frame": {
               "duration": 300,
               "redraw": false
              },
              "mode": "immediate",
              "transition": {
               "duration": 300
              }
             }
            ],
            "label": "06/01/2015",
            "method": "animate"
           },
           {
            "args": [
             [
              "06/02/2015"
             ],
             {
              "frame": {
               "duration": 300,
               "redraw": false
              },
              "mode": "immediate",
              "transition": {
               "duration": 300
              }
             }
            ],
            "label": "06/02/2015",
            "method": "animate"
           },
           {
            "args": [
             [
              "06/03/2015"
             ],
             {
              "frame": {
               "duration": 300,
               "redraw": false
              },
              "mode": "immediate",
              "transition": {
               "duration": 300
              }
             }
            ],
            "label": "06/03/2015",
            "method": "animate"
           },
           {
            "args": [
             [
              "06/05/2015"
             ],
             {
              "frame": {
               "duration": 300,
               "redraw": false
              },
              "mode": "immediate",
              "transition": {
               "duration": 300
              }
             }
            ],
            "label": "06/05/2015",
            "method": "animate"
           },
           {
            "args": [
             [
              "06/06/2015"
             ],
             {
              "frame": {
               "duration": 300,
               "redraw": false
              },
              "mode": "immediate",
              "transition": {
               "duration": 300
              }
             }
            ],
            "label": "06/06/2015",
            "method": "animate"
           },
           {
            "args": [
             [
              "06/07/2015"
             ],
             {
              "frame": {
               "duration": 300,
               "redraw": false
              },
              "mode": "immediate",
              "transition": {
               "duration": 300
              }
             }
            ],
            "label": "06/07/2015",
            "method": "animate"
           },
           {
            "args": [
             [
              "06/08/2015"
             ],
             {
              "frame": {
               "duration": 300,
               "redraw": false
              },
              "mode": "immediate",
              "transition": {
               "duration": 300
              }
             }
            ],
            "label": "06/08/2015",
            "method": "animate"
           },
           {
            "args": [
             [
              "06/09/2015"
             ],
             {
              "frame": {
               "duration": 300,
               "redraw": false
              },
              "mode": "immediate",
              "transition": {
               "duration": 300
              }
             }
            ],
            "label": "06/09/2015",
            "method": "animate"
           },
           {
            "args": [
             [
              "06/12/2015"
             ],
             {
              "frame": {
               "duration": 300,
               "redraw": false
              },
              "mode": "immediate",
              "transition": {
               "duration": 300
              }
             }
            ],
            "label": "06/12/2015",
            "method": "animate"
           },
           {
            "args": [
             [
              "06/13/2015"
             ],
             {
              "frame": {
               "duration": 300,
               "redraw": false
              },
              "mode": "immediate",
              "transition": {
               "duration": 300
              }
             }
            ],
            "label": "06/13/2015",
            "method": "animate"
           },
           {
            "args": [
             [
              "06/14/2015"
             ],
             {
              "frame": {
               "duration": 300,
               "redraw": false
              },
              "mode": "immediate",
              "transition": {
               "duration": 300
              }
             }
            ],
            "label": "06/14/2015",
            "method": "animate"
           },
           {
            "args": [
             [
              "06/15/2015"
             ],
             {
              "frame": {
               "duration": 300,
               "redraw": false
              },
              "mode": "immediate",
              "transition": {
               "duration": 300
              }
             }
            ],
            "label": "06/15/2015",
            "method": "animate"
           },
           {
            "args": [
             [
              "06/17/2015"
             ],
             {
              "frame": {
               "duration": 300,
               "redraw": false
              },
              "mode": "immediate",
              "transition": {
               "duration": 300
              }
             }
            ],
            "label": "06/17/2015",
            "method": "animate"
           },
           {
            "args": [
             [
              "06/18/2015"
             ],
             {
              "frame": {
               "duration": 300,
               "redraw": false
              },
              "mode": "immediate",
              "transition": {
               "duration": 300
              }
             }
            ],
            "label": "06/18/2015",
            "method": "animate"
           },
           {
            "args": [
             [
              "06/19/2015"
             ],
             {
              "frame": {
               "duration": 300,
               "redraw": false
              },
              "mode": "immediate",
              "transition": {
               "duration": 300
              }
             }
            ],
            "label": "06/19/2015",
            "method": "animate"
           },
           {
            "args": [
             [
              "06/20/2015"
             ],
             {
              "frame": {
               "duration": 300,
               "redraw": false
              },
              "mode": "immediate",
              "transition": {
               "duration": 300
              }
             }
            ],
            "label": "06/20/2015",
            "method": "animate"
           },
           {
            "args": [
             [
              "06/21/2015"
             ],
             {
              "frame": {
               "duration": 300,
               "redraw": false
              },
              "mode": "immediate",
              "transition": {
               "duration": 300
              }
             }
            ],
            "label": "06/21/2015",
            "method": "animate"
           },
           {
            "args": [
             [
              "06/22/2015"
             ],
             {
              "frame": {
               "duration": 300,
               "redraw": false
              },
              "mode": "immediate",
              "transition": {
               "duration": 300
              }
             }
            ],
            "label": "06/22/2015",
            "method": "animate"
           },
           {
            "args": [
             [
              "06/23/2015"
             ],
             {
              "frame": {
               "duration": 300,
               "redraw": false
              },
              "mode": "immediate",
              "transition": {
               "duration": 300
              }
             }
            ],
            "label": "06/23/2015",
            "method": "animate"
           },
           {
            "args": [
             [
              "06/24/2015"
             ],
             {
              "frame": {
               "duration": 300,
               "redraw": false
              },
              "mode": "immediate",
              "transition": {
               "duration": 300
              }
             }
            ],
            "label": "06/24/2015",
            "method": "animate"
           },
           {
            "args": [
             [
              "06/25/2015"
             ],
             {
              "frame": {
               "duration": 300,
               "redraw": false
              },
              "mode": "immediate",
              "transition": {
               "duration": 300
              }
             }
            ],
            "label": "06/25/2015",
            "method": "animate"
           },
           {
            "args": [
             [
              "06/26/2015"
             ],
             {
              "frame": {
               "duration": 300,
               "redraw": false
              },
              "mode": "immediate",
              "transition": {
               "duration": 300
              }
             }
            ],
            "label": "06/26/2015",
            "method": "animate"
           },
           {
            "args": [
             [
              "06/27/2015"
             ],
             {
              "frame": {
               "duration": 300,
               "redraw": false
              },
              "mode": "immediate",
              "transition": {
               "duration": 300
              }
             }
            ],
            "label": "06/27/2015",
            "method": "animate"
           },
           {
            "args": [
             [
              "06/30/2015"
             ],
             {
              "frame": {
               "duration": 300,
               "redraw": false
              },
              "mode": "immediate",
              "transition": {
               "duration": 300
              }
             }
            ],
            "label": "06/30/2015",
            "method": "animate"
           },
           {
            "args": [
             [
              "07/01/2015"
             ],
             {
              "frame": {
               "duration": 300,
               "redraw": false
              },
              "mode": "immediate",
              "transition": {
               "duration": 300
              }
             }
            ],
            "label": "07/01/2015",
            "method": "animate"
           },
           {
            "args": [
             [
              "07/03/2015"
             ],
             {
              "frame": {
               "duration": 300,
               "redraw": false
              },
              "mode": "immediate",
              "transition": {
               "duration": 300
              }
             }
            ],
            "label": "07/03/2015",
            "method": "animate"
           },
           {
            "args": [
             [
              "07/05/2015"
             ],
             {
              "frame": {
               "duration": 300,
               "redraw": false
              },
              "mode": "immediate",
              "transition": {
               "duration": 300
              }
             }
            ],
            "label": "07/05/2015",
            "method": "animate"
           },
           {
            "args": [
             [
              "07/06/2015"
             ],
             {
              "frame": {
               "duration": 300,
               "redraw": false
              },
              "mode": "immediate",
              "transition": {
               "duration": 300
              }
             }
            ],
            "label": "07/06/2015",
            "method": "animate"
           },
           {
            "args": [
             [
              "07/08/2015"
             ],
             {
              "frame": {
               "duration": 300,
               "redraw": false
              },
              "mode": "immediate",
              "transition": {
               "duration": 300
              }
             }
            ],
            "label": "07/08/2015",
            "method": "animate"
           },
           {
            "args": [
             [
              "07/09/2015"
             ],
             {
              "frame": {
               "duration": 300,
               "redraw": false
              },
              "mode": "immediate",
              "transition": {
               "duration": 300
              }
             }
            ],
            "label": "07/09/2015",
            "method": "animate"
           },
           {
            "args": [
             [
              "07/10/2015"
             ],
             {
              "frame": {
               "duration": 300,
               "redraw": false
              },
              "mode": "immediate",
              "transition": {
               "duration": 300
              }
             }
            ],
            "label": "07/10/2015",
            "method": "animate"
           },
           {
            "args": [
             [
              "07/11/2015"
             ],
             {
              "frame": {
               "duration": 300,
               "redraw": false
              },
              "mode": "immediate",
              "transition": {
               "duration": 300
              }
             }
            ],
            "label": "07/11/2015",
            "method": "animate"
           },
           {
            "args": [
             [
              "07/12/2015"
             ],
             {
              "frame": {
               "duration": 300,
               "redraw": false
              },
              "mode": "immediate",
              "transition": {
               "duration": 300
              }
             }
            ],
            "label": "07/12/2015",
            "method": "animate"
           },
           {
            "args": [
             [
              "07/14/2015"
             ],
             {
              "frame": {
               "duration": 300,
               "redraw": false
              },
              "mode": "immediate",
              "transition": {
               "duration": 300
              }
             }
            ],
            "label": "07/14/2015",
            "method": "animate"
           },
           {
            "args": [
             [
              "07/15/2015"
             ],
             {
              "frame": {
               "duration": 300,
               "redraw": false
              },
              "mode": "immediate",
              "transition": {
               "duration": 300
              }
             }
            ],
            "label": "07/15/2015",
            "method": "animate"
           },
           {
            "args": [
             [
              "07/16/2015"
             ],
             {
              "frame": {
               "duration": 300,
               "redraw": false
              },
              "mode": "immediate",
              "transition": {
               "duration": 300
              }
             }
            ],
            "label": "07/16/2015",
            "method": "animate"
           },
           {
            "args": [
             [
              "07/17/2015"
             ],
             {
              "frame": {
               "duration": 300,
               "redraw": false
              },
              "mode": "immediate",
              "transition": {
               "duration": 300
              }
             }
            ],
            "label": "07/17/2015",
            "method": "animate"
           },
           {
            "args": [
             [
              "07/18/2015"
             ],
             {
              "frame": {
               "duration": 300,
               "redraw": false
              },
              "mode": "immediate",
              "transition": {
               "duration": 300
              }
             }
            ],
            "label": "07/18/2015",
            "method": "animate"
           },
           {
            "args": [
             [
              "06/11/2756"
             ],
             {
              "frame": {
               "duration": 300,
               "redraw": false
              },
              "mode": "immediate",
              "transition": {
               "duration": 300
              }
             }
            ],
            "label": "06/11/2756",
            "method": "animate"
           }
          ],
          "transition": {
           "duration": 300,
           "easing": "cubic-in-out"
          },
          "x": 0.1,
          "xanchor": "left",
          "y": 0,
          "yanchor": "top"
         }
        ],
        "updatemenus": [
         {
          "buttons": [
           {
            "args": [
             null,
             {
              "frame": {
               "duration": 500,
               "redraw": false
              },
              "fromcurrent": true,
              "transition": {
               "duration": 300,
               "easing": "quadratic-in-out"
              }
             }
            ],
            "label": "Play",
            "method": "animate"
           },
           {
            "args": [
             [
              null
             ],
             {
              "frame": {
               "duration": 0,
               "redraw": false
              },
              "mode": "immediate",
              "transition": {
               "duration": 0
              }
             }
            ],
            "label": "Pause",
            "method": "animate"
           }
          ],
          "direction": "left",
          "pad": {
           "r": 10,
           "t": 87
          },
          "showactive": false,
          "type": "buttons",
          "x": 0.1,
          "xanchor": "right",
          "y": 0,
          "yanchor": "top"
         }
        ]
       }
      },
      "text/html": [
       "<div id=\"bc644c03-b6c9-4ea9-a11d-2fd7161f84bb\" style=\"height: 525px; width: 100%;\" class=\"plotly-graph-div\"></div><script type=\"text/javascript\">require([\"plotly\"], function(Plotly) { window.PLOTLYENV=window.PLOTLYENV || {};window.PLOTLYENV.BASE_URL=\"https://plot.ly\";\n",
       "        Plotly.plot(\n",
       "            'bc644c03-b6c9-4ea9-a11d-2fd7161f84bb',\n",
       "            [{\"lat\": [35.80360355772494, 35.059969561602706, 36.298655441580415, 33.91932108300222, 35.4914586313035, 35.827046010222084, 35.86265523810297, 34.74989602725628, 34.04065499040078, 36.02434265515853, 35.91665132325553, 34.37170243430659, 34.88515387482529, 34.178620681541005, 35.86878412988697, 34.50837687436904], \"locationmode\": \"USA-states\", \"lon\": [-81.30704502251285, -83.5559782876252, -77.6148676500841, -79.75607390319348, -75.18230048758838, -83.56110349202669, -81.3122781400178, -81.5795779640216, -79.10392540764525, -77.90983599918289, -75.73704516341678, -77.22754720729547, -79.84453688310666, -75.17882964855065, -78.30250566357017, -75.75253592779431], \"mode\": \"markers\", \"type\": \"scattergeo\", \"uid\": \"2ff31d28-5127-11e9-9287-5cf37071266d\"}],\n",
       "            {\"geo\": {\"countrycolor\": \"rgb(217, 217, 217)\", \"countrywidth\": 0.5, \"landcolor\": \"rgb(250, 250, 250)\", \"projection\": {\"type\": \"albers usa\"}, \"scope\": \"usa\", \"showland\": true, \"subunitcolor\": \"rgb(217, 217, 217)\", \"subunitwidth\": 0.5}, \"hovermode\": \"closest\", \"sliders\": [{\"active\": 0, \"currentvalue\": {\"font\": {\"size\": 18}, \"prefix\": \"Date: \", \"visible\": true, \"xanchor\": \"right\"}, \"len\": 0.9, \"pad\": {\"b\": 10, \"t\": 50}, \"steps\": [{\"args\": [[\"06/01/2015\"], {\"frame\": {\"duration\": 300, \"redraw\": false}, \"mode\": \"immediate\", \"transition\": {\"duration\": 300}}], \"label\": \"06/01/2015\", \"method\": \"animate\"}, {\"args\": [[\"06/02/2015\"], {\"frame\": {\"duration\": 300, \"redraw\": false}, \"mode\": \"immediate\", \"transition\": {\"duration\": 300}}], \"label\": \"06/02/2015\", \"method\": \"animate\"}, {\"args\": [[\"06/03/2015\"], {\"frame\": {\"duration\": 300, \"redraw\": false}, \"mode\": \"immediate\", \"transition\": {\"duration\": 300}}], \"label\": \"06/03/2015\", \"method\": \"animate\"}, {\"args\": [[\"06/05/2015\"], {\"frame\": {\"duration\": 300, \"redraw\": false}, \"mode\": \"immediate\", \"transition\": {\"duration\": 300}}], \"label\": \"06/05/2015\", \"method\": \"animate\"}, {\"args\": [[\"06/06/2015\"], {\"frame\": {\"duration\": 300, \"redraw\": false}, \"mode\": \"immediate\", \"transition\": {\"duration\": 300}}], \"label\": \"06/06/2015\", \"method\": \"animate\"}, {\"args\": [[\"06/07/2015\"], {\"frame\": {\"duration\": 300, \"redraw\": false}, \"mode\": \"immediate\", \"transition\": {\"duration\": 300}}], \"label\": \"06/07/2015\", \"method\": \"animate\"}, {\"args\": [[\"06/08/2015\"], {\"frame\": {\"duration\": 300, \"redraw\": false}, \"mode\": \"immediate\", \"transition\": {\"duration\": 300}}], \"label\": \"06/08/2015\", \"method\": \"animate\"}, {\"args\": [[\"06/09/2015\"], {\"frame\": {\"duration\": 300, \"redraw\": false}, \"mode\": \"immediate\", \"transition\": {\"duration\": 300}}], \"label\": \"06/09/2015\", \"method\": \"animate\"}, {\"args\": [[\"06/12/2015\"], {\"frame\": {\"duration\": 300, \"redraw\": false}, \"mode\": \"immediate\", \"transition\": {\"duration\": 300}}], \"label\": \"06/12/2015\", \"method\": \"animate\"}, {\"args\": [[\"06/13/2015\"], {\"frame\": {\"duration\": 300, \"redraw\": false}, \"mode\": \"immediate\", \"transition\": {\"duration\": 300}}], \"label\": \"06/13/2015\", \"method\": \"animate\"}, {\"args\": [[\"06/14/2015\"], {\"frame\": {\"duration\": 300, \"redraw\": false}, \"mode\": \"immediate\", \"transition\": {\"duration\": 300}}], \"label\": \"06/14/2015\", \"method\": \"animate\"}, {\"args\": [[\"06/15/2015\"], {\"frame\": {\"duration\": 300, \"redraw\": false}, \"mode\": \"immediate\", \"transition\": {\"duration\": 300}}], \"label\": \"06/15/2015\", \"method\": \"animate\"}, {\"args\": [[\"06/17/2015\"], {\"frame\": {\"duration\": 300, \"redraw\": false}, \"mode\": \"immediate\", \"transition\": {\"duration\": 300}}], \"label\": \"06/17/2015\", \"method\": \"animate\"}, {\"args\": [[\"06/18/2015\"], {\"frame\": {\"duration\": 300, \"redraw\": false}, \"mode\": \"immediate\", \"transition\": {\"duration\": 300}}], \"label\": \"06/18/2015\", \"method\": \"animate\"}, {\"args\": [[\"06/19/2015\"], {\"frame\": {\"duration\": 300, \"redraw\": false}, \"mode\": \"immediate\", \"transition\": {\"duration\": 300}}], \"label\": \"06/19/2015\", \"method\": \"animate\"}, {\"args\": [[\"06/20/2015\"], {\"frame\": {\"duration\": 300, \"redraw\": false}, \"mode\": \"immediate\", \"transition\": {\"duration\": 300}}], \"label\": \"06/20/2015\", \"method\": \"animate\"}, {\"args\": [[\"06/21/2015\"], {\"frame\": {\"duration\": 300, \"redraw\": false}, \"mode\": \"immediate\", \"transition\": {\"duration\": 300}}], \"label\": \"06/21/2015\", \"method\": \"animate\"}, {\"args\": [[\"06/22/2015\"], {\"frame\": {\"duration\": 300, \"redraw\": false}, \"mode\": \"immediate\", \"transition\": {\"duration\": 300}}], \"label\": \"06/22/2015\", \"method\": \"animate\"}, {\"args\": [[\"06/23/2015\"], {\"frame\": {\"duration\": 300, \"redraw\": false}, \"mode\": \"immediate\", \"transition\": {\"duration\": 300}}], \"label\": \"06/23/2015\", \"method\": \"animate\"}, {\"args\": [[\"06/24/2015\"], {\"frame\": {\"duration\": 300, \"redraw\": false}, \"mode\": \"immediate\", \"transition\": {\"duration\": 300}}], \"label\": \"06/24/2015\", \"method\": \"animate\"}, {\"args\": [[\"06/25/2015\"], {\"frame\": {\"duration\": 300, \"redraw\": false}, \"mode\": \"immediate\", \"transition\": {\"duration\": 300}}], \"label\": \"06/25/2015\", \"method\": \"animate\"}, {\"args\": [[\"06/26/2015\"], {\"frame\": {\"duration\": 300, \"redraw\": false}, \"mode\": \"immediate\", \"transition\": {\"duration\": 300}}], \"label\": \"06/26/2015\", \"method\": \"animate\"}, {\"args\": [[\"06/27/2015\"], {\"frame\": {\"duration\": 300, \"redraw\": false}, \"mode\": \"immediate\", \"transition\": {\"duration\": 300}}], \"label\": \"06/27/2015\", \"method\": \"animate\"}, {\"args\": [[\"06/30/2015\"], {\"frame\": {\"duration\": 300, \"redraw\": false}, \"mode\": \"immediate\", \"transition\": {\"duration\": 300}}], \"label\": \"06/30/2015\", \"method\": \"animate\"}, {\"args\": [[\"07/01/2015\"], {\"frame\": {\"duration\": 300, \"redraw\": false}, \"mode\": \"immediate\", \"transition\": {\"duration\": 300}}], \"label\": \"07/01/2015\", \"method\": \"animate\"}, {\"args\": [[\"07/03/2015\"], {\"frame\": {\"duration\": 300, \"redraw\": false}, \"mode\": \"immediate\", \"transition\": {\"duration\": 300}}], \"label\": \"07/03/2015\", \"method\": \"animate\"}, {\"args\": [[\"07/05/2015\"], {\"frame\": {\"duration\": 300, \"redraw\": false}, \"mode\": \"immediate\", \"transition\": {\"duration\": 300}}], \"label\": \"07/05/2015\", \"method\": \"animate\"}, {\"args\": [[\"07/06/2015\"], {\"frame\": {\"duration\": 300, \"redraw\": false}, \"mode\": \"immediate\", \"transition\": {\"duration\": 300}}], \"label\": \"07/06/2015\", \"method\": \"animate\"}, {\"args\": [[\"07/08/2015\"], {\"frame\": {\"duration\": 300, \"redraw\": false}, \"mode\": \"immediate\", \"transition\": {\"duration\": 300}}], \"label\": \"07/08/2015\", \"method\": \"animate\"}, {\"args\": [[\"07/09/2015\"], {\"frame\": {\"duration\": 300, \"redraw\": false}, \"mode\": \"immediate\", \"transition\": {\"duration\": 300}}], \"label\": \"07/09/2015\", \"method\": \"animate\"}, {\"args\": [[\"07/10/2015\"], {\"frame\": {\"duration\": 300, \"redraw\": false}, \"mode\": \"immediate\", \"transition\": {\"duration\": 300}}], \"label\": \"07/10/2015\", \"method\": \"animate\"}, {\"args\": [[\"07/11/2015\"], {\"frame\": {\"duration\": 300, \"redraw\": false}, \"mode\": \"immediate\", \"transition\": {\"duration\": 300}}], \"label\": \"07/11/2015\", \"method\": \"animate\"}, {\"args\": [[\"07/12/2015\"], {\"frame\": {\"duration\": 300, \"redraw\": false}, \"mode\": \"immediate\", \"transition\": {\"duration\": 300}}], \"label\": \"07/12/2015\", \"method\": \"animate\"}, {\"args\": [[\"07/14/2015\"], {\"frame\": {\"duration\": 300, \"redraw\": false}, \"mode\": \"immediate\", \"transition\": {\"duration\": 300}}], \"label\": \"07/14/2015\", \"method\": \"animate\"}, {\"args\": [[\"07/15/2015\"], {\"frame\": {\"duration\": 300, \"redraw\": false}, \"mode\": \"immediate\", \"transition\": {\"duration\": 300}}], \"label\": \"07/15/2015\", \"method\": \"animate\"}, {\"args\": [[\"07/16/2015\"], {\"frame\": {\"duration\": 300, \"redraw\": false}, \"mode\": \"immediate\", \"transition\": {\"duration\": 300}}], \"label\": \"07/16/2015\", \"method\": \"animate\"}, {\"args\": [[\"07/17/2015\"], {\"frame\": {\"duration\": 300, \"redraw\": false}, \"mode\": \"immediate\", \"transition\": {\"duration\": 300}}], \"label\": \"07/17/2015\", \"method\": \"animate\"}, {\"args\": [[\"07/18/2015\"], {\"frame\": {\"duration\": 300, \"redraw\": false}, \"mode\": \"immediate\", \"transition\": {\"duration\": 300}}], \"label\": \"07/18/2015\", \"method\": \"animate\"}, {\"args\": [[\"06/11/2756\"], {\"frame\": {\"duration\": 300, \"redraw\": false}, \"mode\": \"immediate\", \"transition\": {\"duration\": 300}}], \"label\": \"06/11/2756\", \"method\": \"animate\"}], \"transition\": {\"duration\": 300, \"easing\": \"cubic-in-out\"}, \"x\": 0.1, \"xanchor\": \"left\", \"y\": 0, \"yanchor\": \"top\"}], \"updatemenus\": [{\"buttons\": [{\"args\": [null, {\"frame\": {\"duration\": 500, \"redraw\": false}, \"fromcurrent\": true, \"transition\": {\"duration\": 300, \"easing\": \"quadratic-in-out\"}}], \"label\": \"Play\", \"method\": \"animate\"}, {\"args\": [[null], {\"frame\": {\"duration\": 0, \"redraw\": false}, \"mode\": \"immediate\", \"transition\": {\"duration\": 0}}], \"label\": \"Pause\", \"method\": \"animate\"}], \"direction\": \"left\", \"pad\": {\"r\": 10, \"t\": 87}, \"showactive\": false, \"type\": \"buttons\", \"x\": 0.1, \"xanchor\": \"right\", \"y\": 0, \"yanchor\": \"top\"}]},\n",
       "            {\"showLink\": true, \"linkText\": \"Export to plot.ly\"}\n",
       "        ).then(function () {return Plotly.addFrames('bc644c03-b6c9-4ea9-a11d-2fd7161f84bb',[{\"data\": [{\"lat\": [35.80360355772494], \"locationmode\": \"USA-states\", \"lon\": [-81.30704502251285], \"mode\": \"markers\", \"text\": \"P6012100\", \"type\": \"scattergeo\"}, {\"lat\": [35.059969561602706], \"locationmode\": \"USA-states\", \"lon\": [-83.5559782876252], \"mode\": \"markers\", \"text\": \"P6012101\", \"type\": \"scattergeo\"}, {\"lat\": [36.298655441580415], \"locationmode\": \"USA-states\", \"lon\": [-77.6148676500841], \"mode\": \"markers\", \"text\": \"P6012108\", \"type\": \"scattergeo\"}, {\"lat\": [33.91932108300222], \"locationmode\": \"USA-states\", \"lon\": [-79.75607390319348], \"mode\": \"markers\", \"text\": \"P6012112\", \"type\": \"scattergeo\"}, {\"lat\": [35.4914586313035], \"locationmode\": \"USA-states\", \"lon\": [-75.18230048758838], \"mode\": \"markers\", \"text\": \"P6012114\", \"type\": \"scattergeo\"}, {\"lat\": [35.827046010222084], \"locationmode\": \"USA-states\", \"lon\": [-83.56110349202669], \"mode\": \"markers\", \"text\": \"P6012116\", \"type\": \"scattergeo\"}, {\"lat\": [35.86265523810297], \"locationmode\": \"USA-states\", \"lon\": [-81.3122781400178], \"mode\": \"markers\", \"text\": \"P6012118\", \"type\": \"scattergeo\"}, {\"lat\": [34.74989602725628], \"locationmode\": \"USA-states\", \"lon\": [-81.5795779640216], \"mode\": \"markers\", \"text\": \"P6012122\", \"type\": \"scattergeo\"}, {\"lat\": [34.04065499040078], \"locationmode\": \"USA-states\", \"lon\": [-79.10392540764525], \"mode\": \"markers\", \"text\": \"P6012123\", \"type\": \"scattergeo\"}, {\"lat\": [36.02434265515853], \"locationmode\": \"USA-states\", \"lon\": [-77.90983599918289], \"mode\": \"markers\", \"text\": \"P6012126\", \"type\": \"scattergeo\"}, {\"lat\": [35.91665132325553], \"locationmode\": \"USA-states\", \"lon\": [-75.73704516341678], \"mode\": \"markers\", \"text\": \"P6012127\", \"type\": \"scattergeo\"}, {\"lat\": [34.37170243430659], \"locationmode\": \"USA-states\", \"lon\": [-77.22754720729547], \"mode\": \"markers\", \"text\": \"P6012129\", \"type\": \"scattergeo\"}, {\"lat\": [34.88515387482529], \"locationmode\": \"USA-states\", \"lon\": [-79.84453688310666], \"mode\": \"markers\", \"text\": \"P6012130\", \"type\": \"scattergeo\"}, {\"lat\": [34.178620681541005], \"locationmode\": \"USA-states\", \"lon\": [-75.17882964855065], \"mode\": \"markers\", \"text\": \"P6012131\", \"type\": \"scattergeo\"}, {\"lat\": [35.86878412988697], \"locationmode\": \"USA-states\", \"lon\": [-78.30250566357017], \"mode\": \"markers\", \"text\": \"P6012134\", \"type\": \"scattergeo\"}, {\"lat\": [34.50837687436904], \"locationmode\": \"USA-states\", \"lon\": [-75.75253592779431], \"mode\": \"markers\", \"text\": \"P6012143\", \"type\": \"scattergeo\"}], \"name\": \"06/01/2015\"}, {\"data\": [{\"lat\": [34.27062721905081], \"locationmode\": \"USA-states\", \"lon\": [-79.77036880743694], \"mode\": \"markers\", \"text\": \"P6022106\", \"type\": \"scattergeo\"}, {\"lat\": [34.36165846449161], \"locationmode\": \"USA-states\", \"lon\": [-76.81061647897549], \"mode\": \"markers\", \"text\": \"P6022112\", \"type\": \"scattergeo\"}, {\"lat\": [35.88158699579771], \"locationmode\": \"USA-states\", \"lon\": [-75.77100525815425], \"mode\": \"markers\", \"text\": \"P6022115\", \"type\": \"scattergeo\"}, {\"lat\": [36.029203590222856], \"locationmode\": \"USA-states\", \"lon\": [-77.505860933408], \"mode\": \"markers\", \"text\": \"P6022118\", \"type\": \"scattergeo\"}, {\"lat\": [34.8874524125136], \"locationmode\": \"USA-states\", \"lon\": [-78.65133942669303], \"mode\": \"markers\", \"text\": \"P6022130\", \"type\": \"scattergeo\"}, {\"lat\": [35.09793175119964], \"locationmode\": \"USA-states\", \"lon\": [-79.995659367837], \"mode\": \"markers\", \"text\": \"P6022135\", \"type\": \"scattergeo\"}, {\"lat\": [35.54660837957739], \"locationmode\": \"USA-states\", \"lon\": [-80.78174606159838], \"mode\": \"markers\", \"text\": \"P6022137\", \"type\": \"scattergeo\"}, {\"lat\": [35.129990584411146], \"locationmode\": \"USA-states\", \"lon\": [-78.84404446533296], \"mode\": \"markers\", \"text\": \"P6022147\", \"type\": \"scattergeo\"}], \"name\": \"06/02/2015\"}, {\"data\": [{\"lat\": [35.84872761448234], \"locationmode\": \"USA-states\", \"lon\": [-80.79841031957086], \"mode\": \"markers\", \"text\": \"P6032107\", \"type\": \"scattergeo\"}, {\"lat\": [33.95725638911086], \"locationmode\": \"USA-states\", \"lon\": [-83.19697419897946], \"mode\": \"markers\", \"text\": \"P6032108\", \"type\": \"scattergeo\"}, {\"lat\": [35.532562563759605], \"locationmode\": \"USA-states\", \"lon\": [-75.90344895267472], \"mode\": \"markers\", \"text\": \"P6032114\", \"type\": \"scattergeo\"}, {\"lat\": [34.074530779723176], \"locationmode\": \"USA-states\", \"lon\": [-82.25143605377598], \"mode\": \"markers\", \"text\": \"P6032115\", \"type\": \"scattergeo\"}, {\"lat\": [34.61493761209165], \"locationmode\": \"USA-states\", \"lon\": [-77.25891171859796], \"mode\": \"markers\", \"text\": \"P6032122\", \"type\": \"scattergeo\"}, {\"lat\": [34.77772814709716], \"locationmode\": \"USA-states\", \"lon\": [-78.57399480519486], \"mode\": \"markers\", \"text\": \"P6032123\", \"type\": \"scattergeo\"}, {\"lat\": [34.46263257328346], \"locationmode\": \"USA-states\", \"lon\": [-77.36925717376265], \"mode\": \"markers\", \"text\": \"P6032129\", \"type\": \"scattergeo\"}, {\"lat\": [34.561057059597054], \"locationmode\": \"USA-states\", \"lon\": [-83.22358556329375], \"mode\": \"markers\", \"text\": \"P6032131\", \"type\": \"scattergeo\"}, {\"lat\": [34.536125672194544], \"locationmode\": \"USA-states\", \"lon\": [-77.346536530002], \"mode\": \"markers\", \"text\": \"P6032132\", \"type\": \"scattergeo\"}, {\"lat\": [34.95515858522986], \"locationmode\": \"USA-states\", \"lon\": [-76.17181726797779], \"mode\": \"markers\", \"text\": \"P6032133\", \"type\": \"scattergeo\"}, {\"lat\": [33.970668621297676], \"locationmode\": \"USA-states\", \"lon\": [-79.29372914833314], \"mode\": \"markers\", \"text\": \"P6032134\", \"type\": \"scattergeo\"}, {\"lat\": [35.02434127666218], \"locationmode\": \"USA-states\", \"lon\": [-79.06404705178866], \"mode\": \"markers\", \"text\": \"P6032135\", \"type\": \"scattergeo\"}, {\"lat\": [35.027365838607174], \"locationmode\": \"USA-states\", \"lon\": [-77.06144159029257], \"mode\": \"markers\", \"text\": \"P6032137\", \"type\": \"scattergeo\"}, {\"lat\": [36.17934125567814], \"locationmode\": \"USA-states\", \"lon\": [-80.03323707393697], \"mode\": \"markers\", \"text\": \"P6032138\", \"type\": \"scattergeo\"}, {\"lat\": [34.6273458100905], \"locationmode\": \"USA-states\", \"lon\": [-82.31774526774149], \"mode\": \"markers\", \"text\": \"P6032139\", \"type\": \"scattergeo\"}, {\"lat\": [35.77801922003644], \"locationmode\": \"USA-states\", \"lon\": [-76.07178604580247], \"mode\": \"markers\", \"text\": \"P6032140\", \"type\": \"scattergeo\"}, {\"lat\": [35.31935195290327], \"locationmode\": \"USA-states\", \"lon\": [-76.72839766377005], \"mode\": \"markers\", \"text\": \"P6032146\", \"type\": \"scattergeo\"}, {\"lat\": [34.91196407365951], \"locationmode\": \"USA-states\", \"lon\": [-75.40541087531206], \"mode\": \"markers\", \"text\": \"P6032150\", \"type\": \"scattergeo\"}, {\"lat\": [34.79926263532747], \"locationmode\": \"USA-states\", \"lon\": [-78.65607904198875], \"mode\": \"markers\", \"text\": \"P6032152\", \"type\": \"scattergeo\"}], \"name\": \"06/03/2015\"}, {\"data\": [{\"lat\": [34.86228579204846], \"locationmode\": \"USA-states\", \"lon\": [-80.96886632954181], \"mode\": \"markers\", \"text\": \"P6052108\", \"type\": \"scattergeo\"}, {\"lat\": [34.96830348804473], \"locationmode\": \"USA-states\", \"lon\": [-75.89714442885895], \"mode\": \"markers\", \"text\": \"P6052109\", \"type\": \"scattergeo\"}, {\"lat\": [35.81250441255991], \"locationmode\": \"USA-states\", \"lon\": [-83.01623910841697], \"mode\": \"markers\", \"text\": \"P6052119\", \"type\": \"scattergeo\"}, {\"lat\": [34.0624684235932], \"locationmode\": \"USA-states\", \"lon\": [-77.16737730638565], \"mode\": \"markers\", \"text\": \"P6052121\", \"type\": \"scattergeo\"}, {\"lat\": [35.9370561165888], \"locationmode\": \"USA-states\", \"lon\": [-79.04275129077257], \"mode\": \"markers\", \"text\": \"P6052127\", \"type\": \"scattergeo\"}, {\"lat\": [35.41116606786852], \"locationmode\": \"USA-states\", \"lon\": [-81.91125047475283], \"mode\": \"markers\", \"text\": \"P6052128\", \"type\": \"scattergeo\"}, {\"lat\": [35.87366850317446], \"locationmode\": \"USA-states\", \"lon\": [-81.46281142102724], \"mode\": \"markers\", \"text\": \"P6052130\", \"type\": \"scattergeo\"}, {\"lat\": [35.40701419245238], \"locationmode\": \"USA-states\", \"lon\": [-78.45264683841162], \"mode\": \"markers\", \"text\": \"P6052133\", \"type\": \"scattergeo\"}, {\"lat\": [36.02800964882577], \"locationmode\": \"USA-states\", \"lon\": [-78.81533233552594], \"mode\": \"markers\", \"text\": \"P6052134\", \"type\": \"scattergeo\"}, {\"lat\": [34.26110155342626], \"locationmode\": \"USA-states\", \"lon\": [-83.16266842911895], \"mode\": \"markers\", \"text\": \"P6052137\", \"type\": \"scattergeo\"}, {\"lat\": [35.956148551610546], \"locationmode\": \"USA-states\", \"lon\": [-76.7670358616255], \"mode\": \"markers\", \"text\": \"P6052139\", \"type\": \"scattergeo\"}, {\"lat\": [34.248831798308395], \"locationmode\": \"USA-states\", \"lon\": [-78.6801840045363], \"mode\": \"markers\", \"text\": \"P6052140\", \"type\": \"scattergeo\"}, {\"lat\": [34.41449372353658], \"locationmode\": \"USA-states\", \"lon\": [-76.60775065010954], \"mode\": \"markers\", \"text\": \"P6052141\", \"type\": \"scattergeo\"}, {\"lat\": [34.74111092442251], \"locationmode\": \"USA-states\", \"lon\": [-77.0615808968671], \"mode\": \"markers\", \"text\": \"P6052143\", \"type\": \"scattergeo\"}, {\"lat\": [35.52769625516304], \"locationmode\": \"USA-states\", \"lon\": [-79.20137460079667], \"mode\": \"markers\", \"text\": \"P6052153\", \"type\": \"scattergeo\"}], \"name\": \"06/05/2015\"}, {\"data\": [{\"lat\": [35.20877622827752], \"locationmode\": \"USA-states\", \"lon\": [-77.60616691833813], \"mode\": \"markers\", \"text\": \"P6062139\", \"type\": \"scattergeo\"}, {\"lat\": [34.2426879867103], \"locationmode\": \"USA-states\", \"lon\": [-82.33758819759423], \"mode\": \"markers\", \"text\": \"P6062140\", \"type\": \"scattergeo\"}, {\"lat\": [34.38232470584892], \"locationmode\": \"USA-states\", \"lon\": [-83.79554424544995], \"mode\": \"markers\", \"text\": \"P6062141\", \"type\": \"scattergeo\"}, {\"lat\": [35.76838939959936], \"locationmode\": \"USA-states\", \"lon\": [-82.88721055950057], \"mode\": \"markers\", \"text\": \"P6062143\", \"type\": \"scattergeo\"}, {\"lat\": [34.444186906628154], \"locationmode\": \"USA-states\", \"lon\": [-80.10026200894252], \"mode\": \"markers\", \"text\": \"P6062145\", \"type\": \"scattergeo\"}, {\"lat\": [35.043842203203035], \"locationmode\": \"USA-states\", \"lon\": [-77.03882023077857], \"mode\": \"markers\", \"text\": \"P6062147\", \"type\": \"scattergeo\"}, {\"lat\": [35.29895278952623], \"locationmode\": \"USA-states\", \"lon\": [-77.30088185364639], \"mode\": \"markers\", \"text\": \"P6062151\", \"type\": \"scattergeo\"}, {\"lat\": [36.098086223843225], \"locationmode\": \"USA-states\", \"lon\": [-76.1080760324918], \"mode\": \"markers\", \"text\": \"P6062157\", \"type\": \"scattergeo\"}, {\"lat\": [34.43972842226635], \"locationmode\": \"USA-states\", \"lon\": [-81.10640549053102], \"mode\": \"markers\", \"text\": \"P6062201\", \"type\": \"scattergeo\"}, {\"lat\": [35.12084482634535], \"locationmode\": \"USA-states\", \"lon\": [-76.1856664684085], \"mode\": \"markers\", \"text\": \"P6062202\", \"type\": \"scattergeo\"}, {\"lat\": [33.9529196889734], \"locationmode\": \"USA-states\", \"lon\": [-80.24996325443067], \"mode\": \"markers\", \"text\": \"P6062203\", \"type\": \"scattergeo\"}, {\"lat\": [34.59257193973751], \"locationmode\": \"USA-states\", \"lon\": [-80.35928213312508], \"mode\": \"markers\", \"text\": \"P6062208\", \"type\": \"scattergeo\"}, {\"lat\": [34.7480216786424], \"locationmode\": \"USA-states\", \"lon\": [-78.3698528905044], \"mode\": \"markers\", \"text\": \"P6062209\", \"type\": \"scattergeo\"}, {\"lat\": [34.67564885719721], \"locationmode\": \"USA-states\", \"lon\": [-77.53759765808485], \"mode\": \"markers\", \"text\": \"P6062210\", \"type\": \"scattergeo\"}, {\"lat\": [34.93539483783936], \"locationmode\": \"USA-states\", \"lon\": [-78.72541939573149], \"mode\": \"markers\", \"text\": \"P6062213\", \"type\": \"scattergeo\"}, {\"lat\": [35.479057574660345], \"locationmode\": \"USA-states\", \"lon\": [-76.05532087049889], \"mode\": \"markers\", \"text\": \"P6062218\", \"type\": \"scattergeo\"}, {\"lat\": [34.94418982416184], \"locationmode\": \"USA-states\", \"lon\": [-79.0633616196449], \"mode\": \"markers\", \"text\": \"P6062219\", \"type\": \"scattergeo\"}, {\"lat\": [34.654704814320105], \"locationmode\": \"USA-states\", \"lon\": [-77.7569294997116], \"mode\": \"markers\", \"text\": \"P6062222\", \"type\": \"scattergeo\"}, {\"lat\": [35.24132238436728], \"locationmode\": \"USA-states\", \"lon\": [-77.66981325271347], \"mode\": \"markers\", \"text\": \"P6062223\", \"type\": \"scattergeo\"}], \"name\": \"06/06/2015\"}, {\"data\": [{\"lat\": [33.836529016383615], \"locationmode\": \"USA-states\", \"lon\": [-76.54693360618018], \"mode\": \"markers\", \"text\": \"P6072107\", \"type\": \"scattergeo\"}, {\"lat\": [36.17393083949203], \"locationmode\": \"USA-states\", \"lon\": [-83.61821038821647], \"mode\": \"markers\", \"text\": \"P6072109\", \"type\": \"scattergeo\"}, {\"lat\": [35.19948433474606], \"locationmode\": \"USA-states\", \"lon\": [-75.75644930074573], \"mode\": \"markers\", \"text\": \"P6072115\", \"type\": \"scattergeo\"}, {\"lat\": [33.92873573517806], \"locationmode\": \"USA-states\", \"lon\": [-78.37653577920165], \"mode\": \"markers\", \"text\": \"P6072128\", \"type\": \"scattergeo\"}, {\"lat\": [35.95159223953732], \"locationmode\": \"USA-states\", \"lon\": [-83.29101776059971], \"mode\": \"markers\", \"text\": \"P6072130\", \"type\": \"scattergeo\"}, {\"lat\": [35.95183451257437], \"locationmode\": \"USA-states\", \"lon\": [-83.60949426319345], \"mode\": \"markers\", \"text\": \"P6072135\", \"type\": \"scattergeo\"}, {\"lat\": [34.62296905672287], \"locationmode\": \"USA-states\", \"lon\": [-81.83163103855871], \"mode\": \"markers\", \"text\": \"P6072144\", \"type\": \"scattergeo\"}, {\"lat\": [35.00930204333634], \"locationmode\": \"USA-states\", \"lon\": [-78.31476952877095], \"mode\": \"markers\", \"text\": \"P6072145\", \"type\": \"scattergeo\"}], \"name\": \"06/07/2015\"}, {\"data\": [{\"lat\": [35.687772672701556], \"locationmode\": \"USA-states\", \"lon\": [-80.75441216666415], \"mode\": \"markers\", \"text\": \"P6082108\", \"type\": \"scattergeo\"}, {\"lat\": [34.34049766084908], \"locationmode\": \"USA-states\", \"lon\": [-75.0489793719585], \"mode\": \"markers\", \"text\": \"P6082109\", \"type\": \"scattergeo\"}, {\"lat\": [34.51887306839791], \"locationmode\": \"USA-states\", \"lon\": [-79.71355219516649], \"mode\": \"markers\", \"text\": \"P6082113\", \"type\": \"scattergeo\"}, {\"lat\": [34.504487057588065], \"locationmode\": \"USA-states\", \"lon\": [-82.08433559823831], \"mode\": \"markers\", \"text\": \"P6082120\", \"type\": \"scattergeo\"}, {\"lat\": [36.247994537814996], \"locationmode\": \"USA-states\", \"lon\": [-82.18575249026856], \"mode\": \"markers\", \"text\": \"P6082131\", \"type\": \"scattergeo\"}, {\"lat\": [34.48881225246467], \"locationmode\": \"USA-states\", \"lon\": [-75.04025342237844], \"mode\": \"markers\", \"text\": \"P6082134\", \"type\": \"scattergeo\"}, {\"lat\": [36.06358034395268], \"locationmode\": \"USA-states\", \"lon\": [-83.77820000899514], \"mode\": \"markers\", \"text\": \"P6082137\", \"type\": \"scattergeo\"}, {\"lat\": [35.361318509359435], \"locationmode\": \"USA-states\", \"lon\": [-81.49032053369001], \"mode\": \"markers\", \"text\": \"P6082145\", \"type\": \"scattergeo\"}, {\"lat\": [34.49925415158952], \"locationmode\": \"USA-states\", \"lon\": [-79.8575280523435], \"mode\": \"markers\", \"text\": \"P6082155\", \"type\": \"scattergeo\"}, {\"lat\": [36.01081174462034], \"locationmode\": \"USA-states\", \"lon\": [-75.02876979971353], \"mode\": \"markers\", \"text\": \"P6082156\", \"type\": \"scattergeo\"}], \"name\": \"06/08/2015\"}, {\"data\": [{\"lat\": [34.664234307775], \"locationmode\": \"USA-states\", \"lon\": [-81.51502186487349], \"mode\": \"markers\", \"text\": \"P6092110\", \"type\": \"scattergeo\"}, {\"lat\": [34.94035347141694], \"locationmode\": \"USA-states\", \"lon\": [-82.81305572646806], \"mode\": \"markers\", \"text\": \"P6092111\", \"type\": \"scattergeo\"}, {\"lat\": [34.57534648181123], \"locationmode\": \"USA-states\", \"lon\": [-78.37351200999603], \"mode\": \"markers\", \"text\": \"P6092114\", \"type\": \"scattergeo\"}, {\"lat\": [34.91536274660093], \"locationmode\": \"USA-states\", \"lon\": [-75.74957469696442], \"mode\": \"markers\", \"text\": \"P6092115\", \"type\": \"scattergeo\"}, {\"lat\": [35.049226152641445], \"locationmode\": \"USA-states\", \"lon\": [-82.97778432474588], \"mode\": \"markers\", \"text\": \"P6092117\", \"type\": \"scattergeo\"}, {\"lat\": [34.196695510156175], \"locationmode\": \"USA-states\", \"lon\": [-78.91708779097179], \"mode\": \"markers\", \"text\": \"P6092122\", \"type\": \"scattergeo\"}, {\"lat\": [34.665531179639366], \"locationmode\": \"USA-states\", \"lon\": [-79.22559837126697], \"mode\": \"markers\", \"text\": \"P6092123\", \"type\": \"scattergeo\"}, {\"lat\": [34.89982810833647], \"locationmode\": \"USA-states\", \"lon\": [-78.42402052130072], \"mode\": \"markers\", \"text\": \"P6092126\", \"type\": \"scattergeo\"}, {\"lat\": [35.56146552686883], \"locationmode\": \"USA-states\", \"lon\": [-81.14955521861236], \"mode\": \"markers\", \"text\": \"P6092134\", \"type\": \"scattergeo\"}, {\"lat\": [34.98569697517556], \"locationmode\": \"USA-states\", \"lon\": [-77.65270928472923], \"mode\": \"markers\", \"text\": \"P6092137\", \"type\": \"scattergeo\"}, {\"lat\": [34.936044438407585], \"locationmode\": \"USA-states\", \"lon\": [-79.62426484469229], \"mode\": \"markers\", \"text\": \"P6092139\", \"type\": \"scattergeo\"}, {\"lat\": [35.46207572927756], \"locationmode\": \"USA-states\", \"lon\": [-83.4285746290742], \"mode\": \"markers\", \"text\": \"P6092140\", \"type\": \"scattergeo\"}, {\"lat\": [34.27328692840544], \"locationmode\": \"USA-states\", \"lon\": [-79.59323762368041], \"mode\": \"markers\", \"text\": \"P6092142\", \"type\": \"scattergeo\"}, {\"lat\": [36.01860059742807], \"locationmode\": \"USA-states\", \"lon\": [-80.86151738994462], \"mode\": \"markers\", \"text\": \"P6092143\", \"type\": \"scattergeo\"}, {\"lat\": [34.15255602016509], \"locationmode\": \"USA-states\", \"lon\": [-78.56717821669699], \"mode\": \"markers\", \"text\": \"P6092144\", \"type\": \"scattergeo\"}, {\"lat\": [34.472499881379505], \"locationmode\": \"USA-states\", \"lon\": [-80.26041063457875], \"mode\": \"markers\", \"text\": \"P6092145\", \"type\": \"scattergeo\"}, {\"lat\": [34.0537385235395], \"locationmode\": \"USA-states\", \"lon\": [-79.55677968963286], \"mode\": \"markers\", \"text\": \"P6092146\", \"type\": \"scattergeo\"}, {\"lat\": [36.285795746976255], \"locationmode\": \"USA-states\", \"lon\": [-83.07473335302349], \"mode\": \"markers\", \"text\": \"P6092147\", \"type\": \"scattergeo\"}, {\"lat\": [36.08337087451238], \"locationmode\": \"USA-states\", \"lon\": [-81.25264451639981], \"mode\": \"markers\", \"text\": \"P6092148\", \"type\": \"scattergeo\"}, {\"lat\": [34.496234910524706], \"locationmode\": \"USA-states\", \"lon\": [-82.91603415562331], \"mode\": \"markers\", \"text\": \"P6092150\", \"type\": \"scattergeo\"}, {\"lat\": [34.91352220612705], \"locationmode\": \"USA-states\", \"lon\": [-81.81976508617599], \"mode\": \"markers\", \"text\": \"P6092151\", \"type\": \"scattergeo\"}, {\"lat\": [34.21718104613032], \"locationmode\": \"USA-states\", \"lon\": [-83.98135595399971], \"mode\": \"markers\", \"text\": \"P6092152\", \"type\": \"scattergeo\"}, {\"lat\": [34.767532851574536], \"locationmode\": \"USA-states\", \"lon\": [-83.63967893273062], \"mode\": \"markers\", \"text\": \"P6092153\", \"type\": \"scattergeo\"}, {\"lat\": [35.609269882532594], \"locationmode\": \"USA-states\", \"lon\": [-80.22245522808184], \"mode\": \"markers\", \"text\": \"P6092154\", \"type\": \"scattergeo\"}, {\"lat\": [35.85940610899767], \"locationmode\": \"USA-states\", \"lon\": [-82.99013001836151], \"mode\": \"markers\", \"text\": \"P6092155\", \"type\": \"scattergeo\"}, {\"lat\": [35.563517160677264], \"locationmode\": \"USA-states\", \"lon\": [-80.15565864700501], \"mode\": \"markers\", \"text\": \"P6092157\", \"type\": \"scattergeo\"}, {\"lat\": [36.2887414038945], \"locationmode\": \"USA-states\", \"lon\": [-78.42739884987137], \"mode\": \"markers\", \"text\": \"P6092158\", \"type\": \"scattergeo\"}, {\"lat\": [34.57378368883694], \"locationmode\": \"USA-states\", \"lon\": [-76.2641103256131], \"mode\": \"markers\", \"text\": \"P6092159\", \"type\": \"scattergeo\"}, {\"lat\": [33.91246026529159], \"locationmode\": \"USA-states\", \"lon\": [-82.78103839360843], \"mode\": \"markers\", \"text\": \"P6092201\", \"type\": \"scattergeo\"}, {\"lat\": [35.74936116715088], \"locationmode\": \"USA-states\", \"lon\": [-83.64994850120117], \"mode\": \"markers\", \"text\": \"P6092203\", \"type\": \"scattergeo\"}, {\"lat\": [35.72189426138619], \"locationmode\": \"USA-states\", \"lon\": [-81.18318059859136], \"mode\": \"markers\", \"text\": \"P6092204\", \"type\": \"scattergeo\"}, {\"lat\": [34.88895637192615], \"locationmode\": \"USA-states\", \"lon\": [-78.47424469133256], \"mode\": \"markers\", \"text\": \"P6092205\", \"type\": \"scattergeo\"}, {\"lat\": [36.104389816078964], \"locationmode\": \"USA-states\", \"lon\": [-83.40924029812177], \"mode\": \"markers\", \"text\": \"P6092212\", \"type\": \"scattergeo\"}, {\"lat\": [34.513143589368305], \"locationmode\": \"USA-states\", \"lon\": [-76.00623796910483], \"mode\": \"markers\", \"text\": \"P6092214\", \"type\": \"scattergeo\"}], \"name\": \"06/09/2015\"}, {\"data\": [{\"lat\": [34.12604846430612], \"locationmode\": \"USA-states\", \"lon\": [-78.59827323843956], \"mode\": \"markers\", \"text\": \"P6122122\", \"type\": \"scattergeo\"}, {\"lat\": [34.97514590341509], \"locationmode\": \"USA-states\", \"lon\": [-76.01511832541732], \"mode\": \"markers\", \"text\": \"P6122123\", \"type\": \"scattergeo\"}, {\"lat\": [34.47273707613455], \"locationmode\": \"USA-states\", \"lon\": [-76.38669763838581], \"mode\": \"markers\", \"text\": \"P6122126\", \"type\": \"scattergeo\"}, {\"lat\": [35.98121627063602], \"locationmode\": \"USA-states\", \"lon\": [-78.983705076746], \"mode\": \"markers\", \"text\": \"P6122132\", \"type\": \"scattergeo\"}, {\"lat\": [36.173507236764856], \"locationmode\": \"USA-states\", \"lon\": [-82.2639687839434], \"mode\": \"markers\", \"text\": \"P6122133\", \"type\": \"scattergeo\"}, {\"lat\": [33.99987889914957], \"locationmode\": \"USA-states\", \"lon\": [-82.93524639844797], \"mode\": \"markers\", \"text\": \"P6122135\", \"type\": \"scattergeo\"}, {\"lat\": [34.65786853374264], \"locationmode\": \"USA-states\", \"lon\": [-77.30226087003244], \"mode\": \"markers\", \"text\": \"P6122138\", \"type\": \"scattergeo\"}, {\"lat\": [34.354205184414845], \"locationmode\": \"USA-states\", \"lon\": [-77.35054365244218], \"mode\": \"markers\", \"text\": \"P6122141\", \"type\": \"scattergeo\"}, {\"lat\": [35.21127903426989], \"locationmode\": \"USA-states\", \"lon\": [-76.73649644108428], \"mode\": \"markers\", \"text\": \"P6122143\", \"type\": \"scattergeo\"}, {\"lat\": [35.68871374774324], \"locationmode\": \"USA-states\", \"lon\": [-79.15850422553093], \"mode\": \"markers\", \"text\": \"P6122144\", \"type\": \"scattergeo\"}, {\"lat\": [36.19565477983792], \"locationmode\": \"USA-states\", \"lon\": [-77.19595553507104], \"mode\": \"markers\", \"text\": \"P6122149\", \"type\": \"scattergeo\"}, {\"lat\": [34.44525040489469], \"locationmode\": \"USA-states\", \"lon\": [-77.58761191360767], \"mode\": \"markers\", \"text\": \"P6122150\", \"type\": \"scattergeo\"}, {\"lat\": [34.67767661000462], \"locationmode\": \"USA-states\", \"lon\": [-76.6887447111114], \"mode\": \"markers\", \"text\": \"P6122154\", \"type\": \"scattergeo\"}, {\"lat\": [36.333763160023864], \"locationmode\": \"USA-states\", \"lon\": [-83.97575664086271], \"mode\": \"markers\", \"text\": \"P6122158\", \"type\": \"scattergeo\"}, {\"lat\": [34.036468125728135], \"locationmode\": \"USA-states\", \"lon\": [-83.06572613780416], \"mode\": \"markers\", \"text\": \"P6122159\", \"type\": \"scattergeo\"}, {\"lat\": [36.230672158909705], \"locationmode\": \"USA-states\", \"lon\": [-80.34491583379948], \"mode\": \"markers\", \"text\": \"P6122206\", \"type\": \"scattergeo\"}, {\"lat\": [35.997861945479706], \"locationmode\": \"USA-states\", \"lon\": [-77.060121515199], \"mode\": \"markers\", \"text\": \"P6122216\", \"type\": \"scattergeo\"}, {\"lat\": [34.593409724665875], \"locationmode\": \"USA-states\", \"lon\": [-82.27855545200985], \"mode\": \"markers\", \"text\": \"P6122224\", \"type\": \"scattergeo\"}], \"name\": \"06/12/2015\"}, {\"data\": [{\"lat\": [36.319513035019376], \"locationmode\": \"USA-states\", \"lon\": [-79.24325831813609], \"mode\": \"markers\", \"text\": \"P6132128\", \"type\": \"scattergeo\"}, {\"lat\": [34.167800258907675], \"locationmode\": \"USA-states\", \"lon\": [-75.82577591314964], \"mode\": \"markers\", \"text\": \"P6132133\", \"type\": \"scattergeo\"}, {\"lat\": [34.686879656363104], \"locationmode\": \"USA-states\", \"lon\": [-78.01631003398131], \"mode\": \"markers\", \"text\": \"P6132136\", \"type\": \"scattergeo\"}, {\"lat\": [36.315526964042874], \"locationmode\": \"USA-states\", \"lon\": [-81.31437274472735], \"mode\": \"markers\", \"text\": \"P6132201\", \"type\": \"scattergeo\"}, {\"lat\": [34.46851530055528], \"locationmode\": \"USA-states\", \"lon\": [-83.06077942798527], \"mode\": \"markers\", \"text\": \"P6132208\", \"type\": \"scattergeo\"}, {\"lat\": [36.04411258530543], \"locationmode\": \"USA-states\", \"lon\": [-80.10607111412278], \"mode\": \"markers\", \"text\": \"P6132210\", \"type\": \"scattergeo\"}, {\"lat\": [34.79431384165353], \"locationmode\": \"USA-states\", \"lon\": [-76.85362261302939], \"mode\": \"markers\", \"text\": \"P6132214\", \"type\": \"scattergeo\"}, {\"lat\": [33.83892676358213], \"locationmode\": \"USA-states\", \"lon\": [-80.90437883465462], \"mode\": \"markers\", \"text\": \"P6132216\", \"type\": \"scattergeo\"}], \"name\": \"06/13/2015\"}, {\"data\": [{\"lat\": [35.12109932476393], \"locationmode\": \"USA-states\", \"lon\": [-76.7990488010663], \"mode\": \"markers\", \"text\": \"P6142114\", \"type\": \"scattergeo\"}, {\"lat\": [35.13080429005681], \"locationmode\": \"USA-states\", \"lon\": [-79.30831195602711], \"mode\": \"markers\", \"text\": \"P6142118\", \"type\": \"scattergeo\"}, {\"lat\": [36.167397976643585], \"locationmode\": \"USA-states\", \"lon\": [-79.13231470128716], \"mode\": \"markers\", \"text\": \"P6142121\", \"type\": \"scattergeo\"}, {\"lat\": [34.179787167739136], \"locationmode\": \"USA-states\", \"lon\": [-76.03102896119064], \"mode\": \"markers\", \"text\": \"P6142124\", \"type\": \"scattergeo\"}, {\"lat\": [36.153981919166284], \"locationmode\": \"USA-states\", \"lon\": [-80.44236384589549], \"mode\": \"markers\", \"text\": \"P6142125\", \"type\": \"scattergeo\"}, {\"lat\": [35.50668403979836], \"locationmode\": \"USA-states\", \"lon\": [-75.43525506797671], \"mode\": \"markers\", \"text\": \"P6142131\", \"type\": \"scattergeo\"}, {\"lat\": [34.411770530363256], \"locationmode\": \"USA-states\", \"lon\": [-81.57194424862479], \"mode\": \"markers\", \"text\": \"P6142132\", \"type\": \"scattergeo\"}, {\"lat\": [34.9972123377489], \"locationmode\": \"USA-states\", \"lon\": [-83.11944461449372], \"mode\": \"markers\", \"text\": \"P6142133\", \"type\": \"scattergeo\"}, {\"lat\": [34.53068432418854], \"locationmode\": \"USA-states\", \"lon\": [-83.12866142461691], \"mode\": \"markers\", \"text\": \"P6142135\", \"type\": \"scattergeo\"}, {\"lat\": [35.38484423722433], \"locationmode\": \"USA-states\", \"lon\": [-81.4028409608292], \"mode\": \"markers\", \"text\": \"P6142137\", \"type\": \"scattergeo\"}, {\"lat\": [34.05836676860488], \"locationmode\": \"USA-states\", \"lon\": [-78.34251259431248], \"mode\": \"markers\", \"text\": \"P6142141\", \"type\": \"scattergeo\"}, {\"lat\": [35.08542572564734], \"locationmode\": \"USA-states\", \"lon\": [-81.75683355108583], \"mode\": \"markers\", \"text\": \"P6142142\", \"type\": \"scattergeo\"}, {\"lat\": [35.49468355392443], \"locationmode\": \"USA-states\", \"lon\": [-77.49267134907626], \"mode\": \"markers\", \"text\": \"P6142145\", \"type\": \"scattergeo\"}, {\"lat\": [33.877061849005145], \"locationmode\": \"USA-states\", \"lon\": [-82.99382874678516], \"mode\": \"markers\", \"text\": \"P6142146\", \"type\": \"scattergeo\"}, {\"lat\": [34.73935268426641], \"locationmode\": \"USA-states\", \"lon\": [-77.88138405096353], \"mode\": \"markers\", \"text\": \"P6142147\", \"type\": \"scattergeo\"}, {\"lat\": [36.24042621390645], \"locationmode\": \"USA-states\", \"lon\": [-80.57992734097866], \"mode\": \"markers\", \"text\": \"P6142148\", \"type\": \"scattergeo\"}, {\"lat\": [35.335877185005856], \"locationmode\": \"USA-states\", \"lon\": [-82.79962149249269], \"mode\": \"markers\", \"text\": \"P6142149\", \"type\": \"scattergeo\"}, {\"lat\": [34.552891057204505], \"locationmode\": \"USA-states\", \"lon\": [-82.74962475328098], \"mode\": \"markers\", \"text\": \"P6142151\", \"type\": \"scattergeo\"}, {\"lat\": [33.974691459940914], \"locationmode\": \"USA-states\", \"lon\": [-80.88595496948103], \"mode\": \"markers\", \"text\": \"P6142158\", \"type\": \"scattergeo\"}, {\"lat\": [35.772065681860006], \"locationmode\": \"USA-states\", \"lon\": [-82.80802870634115], \"mode\": \"markers\", \"text\": \"P6142204\", \"type\": \"scattergeo\"}, {\"lat\": [34.70401056911639], \"locationmode\": \"USA-states\", \"lon\": [-77.45706132598006], \"mode\": \"markers\", \"text\": \"P6142207\", \"type\": \"scattergeo\"}, {\"lat\": [34.82890583520087], \"locationmode\": \"USA-states\", \"lon\": [-83.80622452057871], \"mode\": \"markers\", \"text\": \"P6142209\", \"type\": \"scattergeo\"}, {\"lat\": [34.5802044794115], \"locationmode\": \"USA-states\", \"lon\": [-79.66531719623472], \"mode\": \"markers\", \"text\": \"P6142218\", \"type\": \"scattergeo\"}], \"name\": \"06/14/2015\"}, {\"data\": [{\"lat\": [35.60554429780049], \"locationmode\": \"USA-states\", \"lon\": [-80.5845987780842], \"mode\": \"markers\", \"text\": \"P6152116\", \"type\": \"scattergeo\"}, {\"lat\": [35.40850712141494], \"locationmode\": \"USA-states\", \"lon\": [-80.79352314741183], \"mode\": \"markers\", \"text\": \"P6152118\", \"type\": \"scattergeo\"}, {\"lat\": [34.861769958364505], \"locationmode\": \"USA-states\", \"lon\": [-83.90788365348615], \"mode\": \"markers\", \"text\": \"P6152119\", \"type\": \"scattergeo\"}, {\"lat\": [36.054661130884845], \"locationmode\": \"USA-states\", \"lon\": [-83.63832081309864], \"mode\": \"markers\", \"text\": \"P6152121\", \"type\": \"scattergeo\"}, {\"lat\": [34.04906858404089], \"locationmode\": \"USA-states\", \"lon\": [-78.06952005651881], \"mode\": \"markers\", \"text\": \"P6152125\", \"type\": \"scattergeo\"}, {\"lat\": [35.65374743713821], \"locationmode\": \"USA-states\", \"lon\": [-75.66215458521296], \"mode\": \"markers\", \"text\": \"P6152131\", \"type\": \"scattergeo\"}, {\"lat\": [35.463850836390215], \"locationmode\": \"USA-states\", \"lon\": [-80.34921995281918], \"mode\": \"markers\", \"text\": \"P6152132\", \"type\": \"scattergeo\"}, {\"lat\": [35.98074257957028], \"locationmode\": \"USA-states\", \"lon\": [-80.79192133583902], \"mode\": \"markers\", \"text\": \"P6152146\", \"type\": \"scattergeo\"}, {\"lat\": [34.91348888151306], \"locationmode\": \"USA-states\", \"lon\": [-80.74866998320816], \"mode\": \"markers\", \"text\": \"P6152151\", \"type\": \"scattergeo\"}, {\"lat\": [35.35772543845827], \"locationmode\": \"USA-states\", \"lon\": [-82.05041740956581], \"mode\": \"markers\", \"text\": \"P6152153\", \"type\": \"scattergeo\"}, {\"lat\": [34.35011373105309], \"locationmode\": \"USA-states\", \"lon\": [-76.96361820275803], \"mode\": \"markers\", \"text\": \"P6152154\", \"type\": \"scattergeo\"}, {\"lat\": [34.18470903658323], \"locationmode\": \"USA-states\", \"lon\": [-75.4581612185294], \"mode\": \"markers\", \"text\": \"P6152155\", \"type\": \"scattergeo\"}, {\"lat\": [34.8073511386218], \"locationmode\": \"USA-states\", \"lon\": [-76.49625189991069], \"mode\": \"markers\", \"text\": \"P6152156\", \"type\": \"scattergeo\"}, {\"lat\": [34.65456113225641], \"locationmode\": \"USA-states\", \"lon\": [-75.82875785981896], \"mode\": \"markers\", \"text\": \"P6152157\", \"type\": \"scattergeo\"}, {\"lat\": [35.294194692803046], \"locationmode\": \"USA-states\", \"lon\": [-75.75300746993258], \"mode\": \"markers\", \"text\": \"P6152204\", \"type\": \"scattergeo\"}, {\"lat\": [34.17966907108199], \"locationmode\": \"USA-states\", \"lon\": [-81.30548255958638], \"mode\": \"markers\", \"text\": \"P6152206\", \"type\": \"scattergeo\"}, {\"lat\": [35.33049607065477], \"locationmode\": \"USA-states\", \"lon\": [-83.2838820276577], \"mode\": \"markers\", \"text\": \"P6152212\", \"type\": \"scattergeo\"}, {\"lat\": [36.138007683771], \"locationmode\": \"USA-states\", \"lon\": [-77.28717716724513], \"mode\": \"markers\", \"text\": \"P6152216\", \"type\": \"scattergeo\"}], \"name\": \"06/15/2015\"}, {\"data\": [{\"lat\": [34.559727826319694], \"locationmode\": \"USA-states\", \"lon\": [-81.80737690665734], \"mode\": \"markers\", \"text\": \"P6172052\", \"type\": \"scattergeo\"}, {\"lat\": [34.14563874092405], \"locationmode\": \"USA-states\", \"lon\": [-81.21851254751051], \"mode\": \"markers\", \"text\": \"P6172054\", \"type\": \"scattergeo\"}, {\"lat\": [34.41103863481385], \"locationmode\": \"USA-states\", \"lon\": [-77.10126281224765], \"mode\": \"markers\", \"text\": \"P6172056\", \"type\": \"scattergeo\"}, {\"lat\": [36.27252905758151], \"locationmode\": \"USA-states\", \"lon\": [-82.49101145534317], \"mode\": \"markers\", \"text\": \"P6172058\", \"type\": \"scattergeo\"}, {\"lat\": [35.91736824479766], \"locationmode\": \"USA-states\", \"lon\": [-81.10232457513162], \"mode\": \"markers\", \"text\": \"P6172059\", \"type\": \"scattergeo\"}, {\"lat\": [34.003918285350466], \"locationmode\": \"USA-states\", \"lon\": [-83.51900547434346], \"mode\": \"markers\", \"text\": \"P6172100\", \"type\": \"scattergeo\"}, {\"lat\": [34.41534278670826], \"locationmode\": \"USA-states\", \"lon\": [-80.41094398956437], \"mode\": \"markers\", \"text\": \"P6172103\", \"type\": \"scattergeo\"}, {\"lat\": [34.26667145299978], \"locationmode\": \"USA-states\", \"lon\": [-77.99647869416602], \"mode\": \"markers\", \"text\": \"P6172105\", \"type\": \"scattergeo\"}, {\"lat\": [34.58818135269758], \"locationmode\": \"USA-states\", \"lon\": [-76.28259153734275], \"mode\": \"markers\", \"text\": \"P6172106\", \"type\": \"scattergeo\"}, {\"lat\": [35.75754280629676], \"locationmode\": \"USA-states\", \"lon\": [-75.12954861140115], \"mode\": \"markers\", \"text\": \"P6172107\", \"type\": \"scattergeo\"}, {\"lat\": [34.235904784192144], \"locationmode\": \"USA-states\", \"lon\": [-79.29595410578301], \"mode\": \"markers\", \"text\": \"P6172108\", \"type\": \"scattergeo\"}, {\"lat\": [34.39141143465568], \"locationmode\": \"USA-states\", \"lon\": [-80.47631174399318], \"mode\": \"markers\", \"text\": \"P6172110\", \"type\": \"scattergeo\"}, {\"lat\": [35.86402895584896], \"locationmode\": \"USA-states\", \"lon\": [-76.4731021442511], \"mode\": \"markers\", \"text\": \"P6172111\", \"type\": \"scattergeo\"}, {\"lat\": [33.94535914275096], \"locationmode\": \"USA-states\", \"lon\": [-82.11437987019433], \"mode\": \"markers\", \"text\": \"P6172112\", \"type\": \"scattergeo\"}, {\"lat\": [34.40031536037813], \"locationmode\": \"USA-states\", \"lon\": [-80.95447731903437], \"mode\": \"markers\", \"text\": \"P6172113\", \"type\": \"scattergeo\"}, {\"lat\": [35.50637887201992], \"locationmode\": \"USA-states\", \"lon\": [-82.60337939199354], \"mode\": \"markers\", \"text\": \"P6172114\", \"type\": \"scattergeo\"}, {\"lat\": [35.46352456274554], \"locationmode\": \"USA-states\", \"lon\": [-82.85393031628323], \"mode\": \"markers\", \"text\": \"P6172118\", \"type\": \"scattergeo\"}, {\"lat\": [33.82449846861484], \"locationmode\": \"USA-states\", \"lon\": [-83.84830212658693], \"mode\": \"markers\", \"text\": \"P6172119\", \"type\": \"scattergeo\"}, {\"lat\": [34.24113530416374], \"locationmode\": \"USA-states\", \"lon\": [-76.86123827425536], \"mode\": \"markers\", \"text\": \"P6172124\", \"type\": \"scattergeo\"}, {\"lat\": [35.52640439399558], \"locationmode\": \"USA-states\", \"lon\": [-80.36945356001368], \"mode\": \"markers\", \"text\": \"P6172125\", \"type\": \"scattergeo\"}, {\"lat\": [35.484321684990945], \"locationmode\": \"USA-states\", \"lon\": [-77.25497561660477], \"mode\": \"markers\", \"text\": \"P6172126\", \"type\": \"scattergeo\"}, {\"lat\": [35.560002221703485], \"locationmode\": \"USA-states\", \"lon\": [-79.54704347963047], \"mode\": \"markers\", \"text\": \"P6172127\", \"type\": \"scattergeo\"}, {\"lat\": [35.09757171155036], \"locationmode\": \"USA-states\", \"lon\": [-82.96972683934443], \"mode\": \"markers\", \"text\": \"P6172129\", \"type\": \"scattergeo\"}, {\"lat\": [35.842648492585674], \"locationmode\": \"USA-states\", \"lon\": [-83.58554494810387], \"mode\": \"markers\", \"text\": \"P6172131\", \"type\": \"scattergeo\"}, {\"lat\": [34.88712958525171], \"locationmode\": \"USA-states\", \"lon\": [-76.50831001197429], \"mode\": \"markers\", \"text\": \"P6172132\", \"type\": \"scattergeo\"}, {\"lat\": [33.92176598966702], \"locationmode\": \"USA-states\", \"lon\": [-76.36219065913208], \"mode\": \"markers\", \"text\": \"P6172134\", \"type\": \"scattergeo\"}, {\"lat\": [34.64842950176909], \"locationmode\": \"USA-states\", \"lon\": [-78.91089871471925], \"mode\": \"markers\", \"text\": \"P6172140\", \"type\": \"scattergeo\"}, {\"lat\": [36.102109719777864], \"locationmode\": \"USA-states\", \"lon\": [-82.12097626980105], \"mode\": \"markers\", \"text\": \"P6172141\", \"type\": \"scattergeo\"}, {\"lat\": [35.96297898634086], \"locationmode\": \"USA-states\", \"lon\": [-81.21578736044836], \"mode\": \"markers\", \"text\": \"P6172142\", \"type\": \"scattergeo\"}, {\"lat\": [35.456037815530536], \"locationmode\": \"USA-states\", \"lon\": [-76.08831455323707], \"mode\": \"markers\", \"text\": \"P6172144\", \"type\": \"scattergeo\"}, {\"lat\": [34.93439798839415], \"locationmode\": \"USA-states\", \"lon\": [-83.04784053162533], \"mode\": \"markers\", \"text\": \"P6172150\", \"type\": \"scattergeo\"}, {\"lat\": [34.562190737098256], \"locationmode\": \"USA-states\", \"lon\": [-78.11445348143228], \"mode\": \"markers\", \"text\": \"P6172152\", \"type\": \"scattergeo\"}, {\"lat\": [34.392937224036935], \"locationmode\": \"USA-states\", \"lon\": [-79.03529611845352], \"mode\": \"markers\", \"text\": \"P6172156\", \"type\": \"scattergeo\"}, {\"lat\": [35.31671039131205], \"locationmode\": \"USA-states\", \"lon\": [-81.90292365826018], \"mode\": \"markers\", \"text\": \"P6172201\", \"type\": \"scattergeo\"}, {\"lat\": [35.49876135325388], \"locationmode\": \"USA-states\", \"lon\": [-75.32444085580369], \"mode\": \"markers\", \"text\": \"P6172203\", \"type\": \"scattergeo\"}, {\"lat\": [33.93224856541649], \"locationmode\": \"USA-states\", \"lon\": [-75.32581002356429], \"mode\": \"markers\", \"text\": \"P6172207\", \"type\": \"scattergeo\"}, {\"lat\": [33.99635564303455], \"locationmode\": \"USA-states\", \"lon\": [-75.01775409965411], \"mode\": \"markers\", \"text\": \"P6172209\", \"type\": \"scattergeo\"}, {\"lat\": [36.13355482451419], \"locationmode\": \"USA-states\", \"lon\": [-76.08549167122881], \"mode\": \"markers\", \"text\": \"P6172210\", \"type\": \"scattergeo\"}, {\"lat\": [35.10699867728117], \"locationmode\": \"USA-states\", \"lon\": [-78.48508126832145], \"mode\": \"markers\", \"text\": \"P6172211\", \"type\": \"scattergeo\"}], \"name\": \"06/17/2015\"}, {\"data\": [{\"lat\": [33.888343437481524], \"locationmode\": \"USA-states\", \"lon\": [-82.94790161981783], \"mode\": \"markers\", \"text\": \"P6182051\", \"type\": \"scattergeo\"}, {\"lat\": [34.16635731134365], \"locationmode\": \"USA-states\", \"lon\": [-80.29072014590832], \"mode\": \"markers\", \"text\": \"P6182052\", \"type\": \"scattergeo\"}, {\"lat\": [36.3235907903586], \"locationmode\": \"USA-states\", \"lon\": [-78.05844224461929], \"mode\": \"markers\", \"text\": \"P6182053\", \"type\": \"scattergeo\"}, {\"lat\": [35.566906842514854], \"locationmode\": \"USA-states\", \"lon\": [-83.24389432830826], \"mode\": \"markers\", \"text\": \"P6182054\", \"type\": \"scattergeo\"}, {\"lat\": [36.09535849174726], \"locationmode\": \"USA-states\", \"lon\": [-77.93995134240575], \"mode\": \"markers\", \"text\": \"P6182056\", \"type\": \"scattergeo\"}, {\"lat\": [34.747370282125516], \"locationmode\": \"USA-states\", \"lon\": [-80.51032235139317], \"mode\": \"markers\", \"text\": \"P6182057\", \"type\": \"scattergeo\"}, {\"lat\": [34.73536903348855], \"locationmode\": \"USA-states\", \"lon\": [-81.07647915293353], \"mode\": \"markers\", \"text\": \"P6182058\", \"type\": \"scattergeo\"}, {\"lat\": [34.91079576589448], \"locationmode\": \"USA-states\", \"lon\": [-75.47829529193828], \"mode\": \"markers\", \"text\": \"P6182059\", \"type\": \"scattergeo\"}, {\"lat\": [35.82855097768768], \"locationmode\": \"USA-states\", \"lon\": [-81.63506751414718], \"mode\": \"markers\", \"text\": \"P6182102\", \"type\": \"scattergeo\"}, {\"lat\": [36.21154846073799], \"locationmode\": \"USA-states\", \"lon\": [-83.97805424700941], \"mode\": \"markers\", \"text\": \"P6182103\", \"type\": \"scattergeo\"}, {\"lat\": [35.9580633515717], \"locationmode\": \"USA-states\", \"lon\": [-80.35828048721088], \"mode\": \"markers\", \"text\": \"P6182104\", \"type\": \"scattergeo\"}, {\"lat\": [36.27228713250521], \"locationmode\": \"USA-states\", \"lon\": [-77.16499705309445], \"mode\": \"markers\", \"text\": \"P6182109\", \"type\": \"scattergeo\"}, {\"lat\": [34.62306949980378], \"locationmode\": \"USA-states\", \"lon\": [-77.00918848476071], \"mode\": \"markers\", \"text\": \"P6182118\", \"type\": \"scattergeo\"}, {\"lat\": [34.813567842052215], \"locationmode\": \"USA-states\", \"lon\": [-77.7499468345288], \"mode\": \"markers\", \"text\": \"P6182119\", \"type\": \"scattergeo\"}, {\"lat\": [35.877337448949575], \"locationmode\": \"USA-states\", \"lon\": [-76.11521754822824], \"mode\": \"markers\", \"text\": \"P6182120\", \"type\": \"scattergeo\"}, {\"lat\": [36.231940504394444], \"locationmode\": \"USA-states\", \"lon\": [-83.11000146774674], \"mode\": \"markers\", \"text\": \"P6182127\", \"type\": \"scattergeo\"}, {\"lat\": [34.56582104709455], \"locationmode\": \"USA-states\", \"lon\": [-83.44666766597074], \"mode\": \"markers\", \"text\": \"P6182128\", \"type\": \"scattergeo\"}, {\"lat\": [36.23397793151626], \"locationmode\": \"USA-states\", \"lon\": [-82.83681714962806], \"mode\": \"markers\", \"text\": \"P6182129\", \"type\": \"scattergeo\"}, {\"lat\": [34.081233730367316], \"locationmode\": \"USA-states\", \"lon\": [-80.15984309537355], \"mode\": \"markers\", \"text\": \"P6182130\", \"type\": \"scattergeo\"}, {\"lat\": [35.48756393432658], \"locationmode\": \"USA-states\", \"lon\": [-76.18865377471735], \"mode\": \"markers\", \"text\": \"P6182132\", \"type\": \"scattergeo\"}, {\"lat\": [35.32138300658891], \"locationmode\": \"USA-states\", \"lon\": [-83.89022902942898], \"mode\": \"markers\", \"text\": \"P6182134\", \"type\": \"scattergeo\"}, {\"lat\": [35.55309055796276], \"locationmode\": \"USA-states\", \"lon\": [-76.04124091673654], \"mode\": \"markers\", \"text\": \"P6182135\", \"type\": \"scattergeo\"}, {\"lat\": [36.244160564341605], \"locationmode\": \"USA-states\", \"lon\": [-82.99318913569718], \"mode\": \"markers\", \"text\": \"P6182136\", \"type\": \"scattergeo\"}, {\"lat\": [33.90564929132476], \"locationmode\": \"USA-states\", \"lon\": [-76.81594142925503], \"mode\": \"markers\", \"text\": \"P6182138\", \"type\": \"scattergeo\"}, {\"lat\": [36.13047631334681], \"locationmode\": \"USA-states\", \"lon\": [-81.75544369415454], \"mode\": \"markers\", \"text\": \"P6182139\", \"type\": \"scattergeo\"}, {\"lat\": [35.66152288261293], \"locationmode\": \"USA-states\", \"lon\": [-81.7980823185519], \"mode\": \"markers\", \"text\": \"P6182140\", \"type\": \"scattergeo\"}, {\"lat\": [36.04398601868358], \"locationmode\": \"USA-states\", \"lon\": [-75.77836983554582], \"mode\": \"markers\", \"text\": \"P6182141\", \"type\": \"scattergeo\"}, {\"lat\": [34.023735628683234], \"locationmode\": \"USA-states\", \"lon\": [-76.17457689843138], \"mode\": \"markers\", \"text\": \"P6182142\", \"type\": \"scattergeo\"}, {\"lat\": [34.37974076117702], \"locationmode\": \"USA-states\", \"lon\": [-80.49103659669909], \"mode\": \"markers\", \"text\": \"P6182143\", \"type\": \"scattergeo\"}, {\"lat\": [34.93297597435129], \"locationmode\": \"USA-states\", \"lon\": [-82.50424451163512], \"mode\": \"markers\", \"text\": \"P6182145\", \"type\": \"scattergeo\"}, {\"lat\": [33.98427195973225], \"locationmode\": \"USA-states\", \"lon\": [-81.87570213827846], \"mode\": \"markers\", \"text\": \"P6182150\", \"type\": \"scattergeo\"}, {\"lat\": [33.897509630994], \"locationmode\": \"USA-states\", \"lon\": [-83.7661904477173], \"mode\": \"markers\", \"text\": \"P6182153\", \"type\": \"scattergeo\"}, {\"lat\": [35.210874927616885], \"locationmode\": \"USA-states\", \"lon\": [-82.20720873525687], \"mode\": \"markers\", \"text\": \"P6182154\", \"type\": \"scattergeo\"}, {\"lat\": [35.745709837838604], \"locationmode\": \"USA-states\", \"lon\": [-80.3964589285375], \"mode\": \"markers\", \"text\": \"P6182156\", \"type\": \"scattergeo\"}, {\"lat\": [33.834773227381326], \"locationmode\": \"USA-states\", \"lon\": [-78.29876549424597], \"mode\": \"markers\", \"text\": \"P6182157\", \"type\": \"scattergeo\"}, {\"lat\": [36.08222460842368], \"locationmode\": \"USA-states\", \"lon\": [-75.21833218855545], \"mode\": \"markers\", \"text\": \"P6182158\", \"type\": \"scattergeo\"}, {\"lat\": [35.48832285617296], \"locationmode\": \"USA-states\", \"lon\": [-78.3058053792503], \"mode\": \"markers\", \"text\": \"P6182159\", \"type\": \"scattergeo\"}, {\"lat\": [36.09038754693348], \"locationmode\": \"USA-states\", \"lon\": [-83.74853722719972], \"mode\": \"markers\", \"text\": \"P6182202\", \"type\": \"scattergeo\"}, {\"lat\": [35.931915261956355], \"locationmode\": \"USA-states\", \"lon\": [-82.50991446953586], \"mode\": \"markers\", \"text\": \"P6182210\", \"type\": \"scattergeo\"}, {\"lat\": [36.03499282787851], \"locationmode\": \"USA-states\", \"lon\": [-83.40314834595767], \"mode\": \"markers\", \"text\": \"P6182211\", \"type\": \"scattergeo\"}, {\"lat\": [34.60011337428063], \"locationmode\": \"USA-states\", \"lon\": [-76.17300633996602], \"mode\": \"markers\", \"text\": \"P6182213\", \"type\": \"scattergeo\"}, {\"lat\": [35.153291975421645], \"locationmode\": \"USA-states\", \"lon\": [-75.70785561445172], \"mode\": \"markers\", \"text\": \"P6182216\", \"type\": \"scattergeo\"}, {\"lat\": [34.457187103849236], \"locationmode\": \"USA-states\", \"lon\": [-78.0636865639933], \"mode\": \"markers\", \"text\": \"P6182221\", \"type\": \"scattergeo\"}, {\"lat\": [34.115277204532475], \"locationmode\": \"USA-states\", \"lon\": [-82.29085246339092], \"mode\": \"markers\", \"text\": \"P6182222\", \"type\": \"scattergeo\"}, {\"lat\": [34.58125456521539], \"locationmode\": \"USA-states\", \"lon\": [-78.175785807907], \"mode\": \"markers\", \"text\": \"P6182225\", \"type\": \"scattergeo\"}], \"name\": \"06/18/2015\"}, {\"data\": [{\"lat\": [34.574191721895005], \"locationmode\": \"USA-states\", \"lon\": [-82.38199503603919], \"mode\": \"markers\", \"text\": \"P6192058\", \"type\": \"scattergeo\"}, {\"lat\": [34.902828997573565], \"locationmode\": \"USA-states\", \"lon\": [-75.775553342465], \"mode\": \"markers\", \"text\": \"P6192059\", \"type\": \"scattergeo\"}, {\"lat\": [35.57419237483621], \"locationmode\": \"USA-states\", \"lon\": [-82.60770383602991], \"mode\": \"markers\", \"text\": \"P6192100\", \"type\": \"scattergeo\"}, {\"lat\": [36.25266022270921], \"locationmode\": \"USA-states\", \"lon\": [-78.97447580519747], \"mode\": \"markers\", \"text\": \"P6192103\", \"type\": \"scattergeo\"}, {\"lat\": [34.29934188497729], \"locationmode\": \"USA-states\", \"lon\": [-83.44028849933963], \"mode\": \"markers\", \"text\": \"P6192104\", \"type\": \"scattergeo\"}, {\"lat\": [35.343209040685096], \"locationmode\": \"USA-states\", \"lon\": [-78.21804929389378], \"mode\": \"markers\", \"text\": \"P6192105\", \"type\": \"scattergeo\"}, {\"lat\": [36.0248510037879], \"locationmode\": \"USA-states\", \"lon\": [-77.95646006853644], \"mode\": \"markers\", \"text\": \"P6192111\", \"type\": \"scattergeo\"}, {\"lat\": [34.100655739212456], \"locationmode\": \"USA-states\", \"lon\": [-76.02765876339993], \"mode\": \"markers\", \"text\": \"P6192115\", \"type\": \"scattergeo\"}, {\"lat\": [35.5902701991137], \"locationmode\": \"USA-states\", \"lon\": [-75.17331672243265], \"mode\": \"markers\", \"text\": \"P6192116\", \"type\": \"scattergeo\"}, {\"lat\": [35.82581058441185], \"locationmode\": \"USA-states\", \"lon\": [-80.97520383754896], \"mode\": \"markers\", \"text\": \"P6192117\", \"type\": \"scattergeo\"}, {\"lat\": [35.940913288444236], \"locationmode\": \"USA-states\", \"lon\": [-83.80806926482643], \"mode\": \"markers\", \"text\": \"P6192118\", \"type\": \"scattergeo\"}, {\"lat\": [35.425207800053464], \"locationmode\": \"USA-states\", \"lon\": [-77.97604462294781], \"mode\": \"markers\", \"text\": \"P6192119\", \"type\": \"scattergeo\"}, {\"lat\": [34.338231957765345], \"locationmode\": \"USA-states\", \"lon\": [-83.09747006938925], \"mode\": \"markers\", \"text\": \"P6192121\", \"type\": \"scattergeo\"}, {\"lat\": [35.03789222351307], \"locationmode\": \"USA-states\", \"lon\": [-83.72950765358551], \"mode\": \"markers\", \"text\": \"P6192123\", \"type\": \"scattergeo\"}, {\"lat\": [34.75236101581732], \"locationmode\": \"USA-states\", \"lon\": [-82.09832016745308], \"mode\": \"markers\", \"text\": \"P6192126\", \"type\": \"scattergeo\"}, {\"lat\": [36.21063104775174], \"locationmode\": \"USA-states\", \"lon\": [-80.42711596276453], \"mode\": \"markers\", \"text\": \"P6192127\", \"type\": \"scattergeo\"}, {\"lat\": [35.66988264200778], \"locationmode\": \"USA-states\", \"lon\": [-81.20676880806862], \"mode\": \"markers\", \"text\": \"P6192128\", \"type\": \"scattergeo\"}, {\"lat\": [35.54416711787892], \"locationmode\": \"USA-states\", \"lon\": [-76.9239804614256], \"mode\": \"markers\", \"text\": \"P6192129\", \"type\": \"scattergeo\"}, {\"lat\": [36.01445623407777], \"locationmode\": \"USA-states\", \"lon\": [-76.65970333051783], \"mode\": \"markers\", \"text\": \"P6192135\", \"type\": \"scattergeo\"}, {\"lat\": [34.59252685792334], \"locationmode\": \"USA-states\", \"lon\": [-82.7528533797566], \"mode\": \"markers\", \"text\": \"P6192141\", \"type\": \"scattergeo\"}, {\"lat\": [35.40514695590573], \"locationmode\": \"USA-states\", \"lon\": [-80.87981982506973], \"mode\": \"markers\", \"text\": \"P6192147\", \"type\": \"scattergeo\"}, {\"lat\": [34.25895503887721], \"locationmode\": \"USA-states\", \"lon\": [-82.14201979864194], \"mode\": \"markers\", \"text\": \"P6192151\", \"type\": \"scattergeo\"}, {\"lat\": [34.25411584700052], \"locationmode\": \"USA-states\", \"lon\": [-79.71921279631809], \"mode\": \"markers\", \"text\": \"P6192157\", \"type\": \"scattergeo\"}, {\"lat\": [34.4194573431332], \"locationmode\": \"USA-states\", \"lon\": [-83.5209965301527], \"mode\": \"markers\", \"text\": \"P6192202\", \"type\": \"scattergeo\"}, {\"lat\": [35.86450348170154], \"locationmode\": \"USA-states\", \"lon\": [-79.36590823112374], \"mode\": \"markers\", \"text\": \"P6192208\", \"type\": \"scattergeo\"}, {\"lat\": [36.060431791509906], \"locationmode\": \"USA-states\", \"lon\": [-81.02240260376952], \"mode\": \"markers\", \"text\": \"P6192211\", \"type\": \"scattergeo\"}, {\"lat\": [34.39863308863694], \"locationmode\": \"USA-states\", \"lon\": [-76.39990727268169], \"mode\": \"markers\", \"text\": \"P6192215\", \"type\": \"scattergeo\"}, {\"lat\": [36.025759578896576], \"locationmode\": \"USA-states\", \"lon\": [-75.01279292479842], \"mode\": \"markers\", \"text\": \"P6192216\", \"type\": \"scattergeo\"}, {\"lat\": [35.26868260750867], \"locationmode\": \"USA-states\", \"lon\": [-81.42233997792279], \"mode\": \"markers\", \"text\": \"P6192217\", \"type\": \"scattergeo\"}, {\"lat\": [35.98264748331259], \"locationmode\": \"USA-states\", \"lon\": [-81.64136305105508], \"mode\": \"markers\", \"text\": \"P6192219\", \"type\": \"scattergeo\"}, {\"lat\": [34.67100034657636], \"locationmode\": \"USA-states\", \"lon\": [-77.6079204289441], \"mode\": \"markers\", \"text\": \"P6192220\", \"type\": \"scattergeo\"}], \"name\": \"06/19/2015\"}, {\"data\": [{\"lat\": [34.58507330004051], \"locationmode\": \"USA-states\", \"lon\": [-81.4136741035309], \"mode\": \"markers\", \"text\": \"P6202050\", \"type\": \"scattergeo\"}, {\"lat\": [34.37408135607916], \"locationmode\": \"USA-states\", \"lon\": [-83.75689144477893], \"mode\": \"markers\", \"text\": \"P6202052\", \"type\": \"scattergeo\"}, {\"lat\": [33.905520663248694], \"locationmode\": \"USA-states\", \"lon\": [-77.06300435987227], \"mode\": \"markers\", \"text\": \"P6202053\", \"type\": \"scattergeo\"}, {\"lat\": [34.852007787191745], \"locationmode\": \"USA-states\", \"lon\": [-80.30402803829271], \"mode\": \"markers\", \"text\": \"P6202054\", \"type\": \"scattergeo\"}, {\"lat\": [33.895748234150005], \"locationmode\": \"USA-states\", \"lon\": [-81.76877471375082], \"mode\": \"markers\", \"text\": \"P6202055\", \"type\": \"scattergeo\"}, {\"lat\": [33.971510501223726], \"locationmode\": \"USA-states\", \"lon\": [-83.31781803986642], \"mode\": \"markers\", \"text\": \"P6202056\", \"type\": \"scattergeo\"}, {\"lat\": [35.37078423047148], \"locationmode\": \"USA-states\", \"lon\": [-79.96464817409208], \"mode\": \"markers\", \"text\": \"P6202057\", \"type\": \"scattergeo\"}, {\"lat\": [34.71963180798663], \"locationmode\": \"USA-states\", \"lon\": [-75.88381527787057], \"mode\": \"markers\", \"text\": \"P6202058\", \"type\": \"scattergeo\"}, {\"lat\": [34.92644502703841], \"locationmode\": \"USA-states\", \"lon\": [-82.87020694285874], \"mode\": \"markers\", \"text\": \"P6202059\", \"type\": \"scattergeo\"}, {\"lat\": [33.9357939051724], \"locationmode\": \"USA-states\", \"lon\": [-77.712060269798], \"mode\": \"markers\", \"text\": \"P6202101\", \"type\": \"scattergeo\"}, {\"lat\": [34.305400866545114], \"locationmode\": \"USA-states\", \"lon\": [-78.35975281192165], \"mode\": \"markers\", \"text\": \"P6202103\", \"type\": \"scattergeo\"}, {\"lat\": [35.098482844012814], \"locationmode\": \"USA-states\", \"lon\": [-78.64072975920023], \"mode\": \"markers\", \"text\": \"P6202104\", \"type\": \"scattergeo\"}, {\"lat\": [33.863891248567235], \"locationmode\": \"USA-states\", \"lon\": [-79.28814670329463], \"mode\": \"markers\", \"text\": \"P6202105\", \"type\": \"scattergeo\"}, {\"lat\": [34.38302881642913], \"locationmode\": \"USA-states\", \"lon\": [-79.94629828824048], \"mode\": \"markers\", \"text\": \"P6202106\", \"type\": \"scattergeo\"}, {\"lat\": [35.84997855787517], \"locationmode\": \"USA-states\", \"lon\": [-76.21916050637006], \"mode\": \"markers\", \"text\": \"P6202109\", \"type\": \"scattergeo\"}, {\"lat\": [34.47318267655882], \"locationmode\": \"USA-states\", \"lon\": [-78.22860935623379], \"mode\": \"markers\", \"text\": \"P6202111\", \"type\": \"scattergeo\"}, {\"lat\": [35.60382646361603], \"locationmode\": \"USA-states\", \"lon\": [-75.42016912243021], \"mode\": \"markers\", \"text\": \"P6202115\", \"type\": \"scattergeo\"}, {\"lat\": [34.43147970357226], \"locationmode\": \"USA-states\", \"lon\": [-82.55082495166945], \"mode\": \"markers\", \"text\": \"P6202116\", \"type\": \"scattergeo\"}, {\"lat\": [34.022676983439425], \"locationmode\": \"USA-states\", \"lon\": [-83.87376837657392], \"mode\": \"markers\", \"text\": \"P6202117\", \"type\": \"scattergeo\"}, {\"lat\": [35.97770237032775], \"locationmode\": \"USA-states\", \"lon\": [-83.09362904961532], \"mode\": \"markers\", \"text\": \"P6202119\", \"type\": \"scattergeo\"}, {\"lat\": [36.04947275888207], \"locationmode\": \"USA-states\", \"lon\": [-79.05338837472549], \"mode\": \"markers\", \"text\": \"P6202121\", \"type\": \"scattergeo\"}, {\"lat\": [35.53514280438474], \"locationmode\": \"USA-states\", \"lon\": [-81.43395423323392], \"mode\": \"markers\", \"text\": \"P6202122\", \"type\": \"scattergeo\"}, {\"lat\": [35.43736118324079], \"locationmode\": \"USA-states\", \"lon\": [-82.2519468447799], \"mode\": \"markers\", \"text\": \"P6202126\", \"type\": \"scattergeo\"}, {\"lat\": [34.56194035149684], \"locationmode\": \"USA-states\", \"lon\": [-80.53870427392282], \"mode\": \"markers\", \"text\": \"P6202129\", \"type\": \"scattergeo\"}, {\"lat\": [33.90818104642283], \"locationmode\": \"USA-states\", \"lon\": [-83.36653085293496], \"mode\": \"markers\", \"text\": \"P6202140\", \"type\": \"scattergeo\"}], \"name\": \"06/20/2015\"}, {\"data\": [{\"lat\": [36.13490478120127], \"locationmode\": \"USA-states\", \"lon\": [-79.72918481790656], \"mode\": \"markers\", \"text\": \"P6212122\", \"type\": \"scattergeo\"}, {\"lat\": [35.09898196220554], \"locationmode\": \"USA-states\", \"lon\": [-75.95583669545536], \"mode\": \"markers\", \"text\": \"P6212123\", \"type\": \"scattergeo\"}, {\"lat\": [34.05685402744141], \"locationmode\": \"USA-states\", \"lon\": [-83.070139979878], \"mode\": \"markers\", \"text\": \"P6212126\", \"type\": \"scattergeo\"}, {\"lat\": [34.82638618720415], \"locationmode\": \"USA-states\", \"lon\": [-77.00221370326983], \"mode\": \"markers\", \"text\": \"P6212127\", \"type\": \"scattergeo\"}, {\"lat\": [35.30153556354931], \"locationmode\": \"USA-states\", \"lon\": [-80.0464912075073], \"mode\": \"markers\", \"text\": \"P6212145\", \"type\": \"scattergeo\"}, {\"lat\": [35.41041170994765], \"locationmode\": \"USA-states\", \"lon\": [-76.54460981696886], \"mode\": \"markers\", \"text\": \"P6212146\", \"type\": \"scattergeo\"}, {\"lat\": [34.07970085815377], \"locationmode\": \"USA-states\", \"lon\": [-79.87240381177688], \"mode\": \"markers\", \"text\": \"P6212154\", \"type\": \"scattergeo\"}, {\"lat\": [34.45431780978289], \"locationmode\": \"USA-states\", \"lon\": [-78.63056240790104], \"mode\": \"markers\", \"text\": \"P6212155\", \"type\": \"scattergeo\"}, {\"lat\": [35.58223486400926], \"locationmode\": \"USA-states\", \"lon\": [-80.25037313195868], \"mode\": \"markers\", \"text\": \"P6212157\", \"type\": \"scattergeo\"}, {\"lat\": [35.90437942035184], \"locationmode\": \"USA-states\", \"lon\": [-78.44014999866808], \"mode\": \"markers\", \"text\": \"P6212159\", \"type\": \"scattergeo\"}, {\"lat\": [35.467287283537146], \"locationmode\": \"USA-states\", \"lon\": [-81.09188404724472], \"mode\": \"markers\", \"text\": \"P6212200\", \"type\": \"scattergeo\"}, {\"lat\": [35.4196041878603], \"locationmode\": \"USA-states\", \"lon\": [-78.44872756696304], \"mode\": \"markers\", \"text\": \"P6212201\", \"type\": \"scattergeo\"}, {\"lat\": [35.49837325481278], \"locationmode\": \"USA-states\", \"lon\": [-82.66954143647865], \"mode\": \"markers\", \"text\": \"P6212205\", \"type\": \"scattergeo\"}, {\"lat\": [35.090963857677785], \"locationmode\": \"USA-states\", \"lon\": [-77.97819978099646], \"mode\": \"markers\", \"text\": \"P6212207\", \"type\": \"scattergeo\"}, {\"lat\": [35.19779286843287], \"locationmode\": \"USA-states\", \"lon\": [-77.0951243588725], \"mode\": \"markers\", \"text\": \"P6212209\", \"type\": \"scattergeo\"}, {\"lat\": [34.1907796349698], \"locationmode\": \"USA-states\", \"lon\": [-77.19723156090075], \"mode\": \"markers\", \"text\": \"P6212211\", \"type\": \"scattergeo\"}, {\"lat\": [36.182098831334216], \"locationmode\": \"USA-states\", \"lon\": [-78.13137415212783], \"mode\": \"markers\", \"text\": \"P6212219\", \"type\": \"scattergeo\"}, {\"lat\": [33.93645894679674], \"locationmode\": \"USA-states\", \"lon\": [-75.4004687521037], \"mode\": \"markers\", \"text\": \"P6212220\", \"type\": \"scattergeo\"}], \"name\": \"06/21/2015\"}, {\"data\": [{\"lat\": [34.22207957197472], \"locationmode\": \"USA-states\", \"lon\": [-81.88895421892182], \"mode\": \"markers\", \"text\": \"P6222148\", \"type\": \"scattergeo\"}, {\"lat\": [34.9469274598418], \"locationmode\": \"USA-states\", \"lon\": [-78.34830761796628], \"mode\": \"markers\", \"text\": \"P6222152\", \"type\": \"scattergeo\"}, {\"lat\": [35.094272353818916], \"locationmode\": \"USA-states\", \"lon\": [-81.81111233456433], \"mode\": \"markers\", \"text\": \"P6222154\", \"type\": \"scattergeo\"}, {\"lat\": [34.31881779572926], \"locationmode\": \"USA-states\", \"lon\": [-75.85372814599619], \"mode\": \"markers\", \"text\": \"P6222157\", \"type\": \"scattergeo\"}, {\"lat\": [36.05224121202632], \"locationmode\": \"USA-states\", \"lon\": [-79.63555251498646], \"mode\": \"markers\", \"text\": \"P6222158\", \"type\": \"scattergeo\"}, {\"lat\": [33.97103739632947], \"locationmode\": \"USA-states\", \"lon\": [-82.53902724665396], \"mode\": \"markers\", \"text\": \"P6222203\", \"type\": \"scattergeo\"}, {\"lat\": [34.01718876883004], \"locationmode\": \"USA-states\", \"lon\": [-82.7051926376709], \"mode\": \"markers\", \"text\": \"P6222204\", \"type\": \"scattergeo\"}, {\"lat\": [35.85670998278797], \"locationmode\": \"USA-states\", \"lon\": [-83.30345280193131], \"mode\": \"markers\", \"text\": \"P6222205\", \"type\": \"scattergeo\"}, {\"lat\": [34.901410237474046], \"locationmode\": \"USA-states\", \"lon\": [-78.46620262451735], \"mode\": \"markers\", \"text\": \"P6222207\", \"type\": \"scattergeo\"}, {\"lat\": [34.74639733250107], \"locationmode\": \"USA-states\", \"lon\": [-77.51780772721689], \"mode\": \"markers\", \"text\": \"P6222209\", \"type\": \"scattergeo\"}, {\"lat\": [35.88263531287518], \"locationmode\": \"USA-states\", \"lon\": [-78.13345394886797], \"mode\": \"markers\", \"text\": \"P6222210\", \"type\": \"scattergeo\"}, {\"lat\": [35.557885600383415], \"locationmode\": \"USA-states\", \"lon\": [-79.70840994893581], \"mode\": \"markers\", \"text\": \"P6222212\", \"type\": \"scattergeo\"}, {\"lat\": [36.29362069905133], \"locationmode\": \"USA-states\", \"lon\": [-83.92112894360858], \"mode\": \"markers\", \"text\": \"P6222214\", \"type\": \"scattergeo\"}, {\"lat\": [34.93958204838307], \"locationmode\": \"USA-states\", \"lon\": [-82.23311059712644], \"mode\": \"markers\", \"text\": \"P6222215\", \"type\": \"scattergeo\"}, {\"lat\": [36.326371630707634], \"locationmode\": \"USA-states\", \"lon\": [-83.9212075777506], \"mode\": \"markers\", \"text\": \"P6222220\", \"type\": \"scattergeo\"}, {\"lat\": [34.49976331743166], \"locationmode\": \"USA-states\", \"lon\": [-82.81210551709151], \"mode\": \"markers\", \"text\": \"P6222221\", \"type\": \"scattergeo\"}, {\"lat\": [34.85925955700307], \"locationmode\": \"USA-states\", \"lon\": [-79.2376804800155], \"mode\": \"markers\", \"text\": \"P6222223\", \"type\": \"scattergeo\"}, {\"lat\": [34.80378322277176], \"locationmode\": \"USA-states\", \"lon\": [-82.86602820444864], \"mode\": \"markers\", \"text\": \"P6222224\", \"type\": \"scattergeo\"}, {\"lat\": [35.687234809164984], \"locationmode\": \"USA-states\", \"lon\": [-83.24589890679523], \"mode\": \"markers\", \"text\": \"P6222226\", \"type\": \"scattergeo\"}, {\"lat\": [36.2198088095771], \"locationmode\": \"USA-states\", \"lon\": [-76.17254623608932], \"mode\": \"markers\", \"text\": \"P6222227\", \"type\": \"scattergeo\"}, {\"lat\": [35.9381815002575], \"locationmode\": \"USA-states\", \"lon\": [-81.64765682219705], \"mode\": \"markers\", \"text\": \"P6222230\", \"type\": \"scattergeo\"}, {\"lat\": [35.30531668096505], \"locationmode\": \"USA-states\", \"lon\": [-83.62460971686077], \"mode\": \"markers\", \"text\": \"P6222231\", \"type\": \"scattergeo\"}, {\"lat\": [36.218967817028], \"locationmode\": \"USA-states\", \"lon\": [-80.92569226845669], \"mode\": \"markers\", \"text\": \"P6222236\", \"type\": \"scattergeo\"}, {\"lat\": [36.11023071462868], \"locationmode\": \"USA-states\", \"lon\": [-78.22741991798027], \"mode\": \"markers\", \"text\": \"P6222237\", \"type\": \"scattergeo\"}, {\"lat\": [36.078218782413266], \"locationmode\": \"USA-states\", \"lon\": [-77.13347207932158], \"mode\": \"markers\", \"text\": \"P6222239\", \"type\": \"scattergeo\"}, {\"lat\": [34.395313649407335], \"locationmode\": \"USA-states\", \"lon\": [-80.34527879135794], \"mode\": \"markers\", \"text\": \"P6222240\", \"type\": \"scattergeo\"}, {\"lat\": [35.76381197004748], \"locationmode\": \"USA-states\", \"lon\": [-83.41733150424857], \"mode\": \"markers\", \"text\": \"P6222244\", \"type\": \"scattergeo\"}], \"name\": \"06/22/2015\"}, {\"data\": [{\"lat\": [35.21721770386012], \"locationmode\": \"USA-states\", \"lon\": [-77.90061270321506], \"mode\": \"markers\", \"text\": \"P6232101\", \"type\": \"scattergeo\"}, {\"lat\": [33.84452362543535], \"locationmode\": \"USA-states\", \"lon\": [-75.1475434325973], \"mode\": \"markers\", \"text\": \"P6232134\", \"type\": \"scattergeo\"}, {\"lat\": [36.21880320542135], \"locationmode\": \"USA-states\", \"lon\": [-75.28889697561365], \"mode\": \"markers\", \"text\": \"P6232135\", \"type\": \"scattergeo\"}, {\"lat\": [36.15284508499799], \"locationmode\": \"USA-states\", \"lon\": [-76.41935058017071], \"mode\": \"markers\", \"text\": \"P6232136\", \"type\": \"scattergeo\"}, {\"lat\": [34.99460664589124], \"locationmode\": \"USA-states\", \"lon\": [-83.0599566486175], \"mode\": \"markers\", \"text\": \"P6232137\", \"type\": \"scattergeo\"}, {\"lat\": [34.463477539380186], \"locationmode\": \"USA-states\", \"lon\": [-82.69783902673926], \"mode\": \"markers\", \"text\": \"P6232138\", \"type\": \"scattergeo\"}, {\"lat\": [34.899198683967], \"locationmode\": \"USA-states\", \"lon\": [-80.62165749453791], \"mode\": \"markers\", \"text\": \"P6232139\", \"type\": \"scattergeo\"}, {\"lat\": [34.481486394691494], \"locationmode\": \"USA-states\", \"lon\": [-78.83704172371155], \"mode\": \"markers\", \"text\": \"P6232140\", \"type\": \"scattergeo\"}, {\"lat\": [36.03312546366626], \"locationmode\": \"USA-states\", \"lon\": [-75.65543555879809], \"mode\": \"markers\", \"text\": \"P6232141\", \"type\": \"scattergeo\"}, {\"lat\": [35.233410871071605], \"locationmode\": \"USA-states\", \"lon\": [-79.45163981859368], \"mode\": \"markers\", \"text\": \"P6232142\", \"type\": \"scattergeo\"}, {\"lat\": [35.03820166408474], \"locationmode\": \"USA-states\", \"lon\": [-83.2586803741902], \"mode\": \"markers\", \"text\": \"P6232143\", \"type\": \"scattergeo\"}, {\"lat\": [35.832577027706755], \"locationmode\": \"USA-states\", \"lon\": [-75.94337256253147], \"mode\": \"markers\", \"text\": \"P6232144\", \"type\": \"scattergeo\"}, {\"lat\": [34.04756004190456], \"locationmode\": \"USA-states\", \"lon\": [-82.95645750188079], \"mode\": \"markers\", \"text\": \"P6232146\", \"type\": \"scattergeo\"}, {\"lat\": [36.28984983415856], \"locationmode\": \"USA-states\", \"lon\": [-78.95164271050638], \"mode\": \"markers\", \"text\": \"P6232147\", \"type\": \"scattergeo\"}, {\"lat\": [36.03097007826546], \"locationmode\": \"USA-states\", \"lon\": [-79.74230638253226], \"mode\": \"markers\", \"text\": \"P6232148\", \"type\": \"scattergeo\"}, {\"lat\": [36.18564667189597], \"locationmode\": \"USA-states\", \"lon\": [-83.6788166117775], \"mode\": \"markers\", \"text\": \"P6232150\", \"type\": \"scattergeo\"}, {\"lat\": [35.20907306546225], \"locationmode\": \"USA-states\", \"lon\": [-81.98101132498903], \"mode\": \"markers\", \"text\": \"P6232151\", \"type\": \"scattergeo\"}, {\"lat\": [36.322345057923975], \"locationmode\": \"USA-states\", \"lon\": [-80.47866895940001], \"mode\": \"markers\", \"text\": \"P6232152\", \"type\": \"scattergeo\"}, {\"lat\": [35.25402972732179], \"locationmode\": \"USA-states\", \"lon\": [-75.84562218632445], \"mode\": \"markers\", \"text\": \"P6232153\", \"type\": \"scattergeo\"}, {\"lat\": [35.04347613565808], \"locationmode\": \"USA-states\", \"lon\": [-82.95111461894646], \"mode\": \"markers\", \"text\": \"P6232154\", \"type\": \"scattergeo\"}, {\"lat\": [34.099386248345475], \"locationmode\": \"USA-states\", \"lon\": [-80.62059301596258], \"mode\": \"markers\", \"text\": \"P6232155\", \"type\": \"scattergeo\"}, {\"lat\": [36.12573689163013], \"locationmode\": \"USA-states\", \"lon\": [-75.9125109257605], \"mode\": \"markers\", \"text\": \"P6232156\", \"type\": \"scattergeo\"}, {\"lat\": [35.17314567508954], \"locationmode\": \"USA-states\", \"lon\": [-76.40381442875038], \"mode\": \"markers\", \"text\": \"P6232157\", \"type\": \"scattergeo\"}, {\"lat\": [34.06061815332366], \"locationmode\": \"USA-states\", \"lon\": [-81.61328508151522], \"mode\": \"markers\", \"text\": \"P6232158\", \"type\": \"scattergeo\"}, {\"lat\": [34.0733309685626], \"locationmode\": \"USA-states\", \"lon\": [-83.33323884261237], \"mode\": \"markers\", \"text\": \"P6232159\", \"type\": \"scattergeo\"}, {\"lat\": [35.98555024747535], \"locationmode\": \"USA-states\", \"lon\": [-76.9490180581547], \"mode\": \"markers\", \"text\": \"P6232200\", \"type\": \"scattergeo\"}, {\"lat\": [35.282726678023366], \"locationmode\": \"USA-states\", \"lon\": [-78.05329812853178], \"mode\": \"markers\", \"text\": \"P6232202\", \"type\": \"scattergeo\"}, {\"lat\": [35.78889007932032], \"locationmode\": \"USA-states\", \"lon\": [-82.1437445180694], \"mode\": \"markers\", \"text\": \"P6232203\", \"type\": \"scattergeo\"}, {\"lat\": [34.47222272244538], \"locationmode\": \"USA-states\", \"lon\": [-78.45722478091756], \"mode\": \"markers\", \"text\": \"P6232204\", \"type\": \"scattergeo\"}, {\"lat\": [34.229097707535395], \"locationmode\": \"USA-states\", \"lon\": [-75.04827373388662], \"mode\": \"markers\", \"text\": \"P6232205\", \"type\": \"scattergeo\"}, {\"lat\": [34.54356665555857], \"locationmode\": \"USA-states\", \"lon\": [-76.9675907084979], \"mode\": \"markers\", \"text\": \"P6232206\", \"type\": \"scattergeo\"}, {\"lat\": [34.486593818267394], \"locationmode\": \"USA-states\", \"lon\": [-76.37838059235422], \"mode\": \"markers\", \"text\": \"P6232207\", \"type\": \"scattergeo\"}, {\"lat\": [35.04066639788423], \"locationmode\": \"USA-states\", \"lon\": [-78.446472863144], \"mode\": \"markers\", \"text\": \"P6232210\", \"type\": \"scattergeo\"}, {\"lat\": [35.76509024377134], \"locationmode\": \"USA-states\", \"lon\": [-81.57877246202615], \"mode\": \"markers\", \"text\": \"P6232211\", \"type\": \"scattergeo\"}, {\"lat\": [35.11263593436904], \"locationmode\": \"USA-states\", \"lon\": [-78.19168033867504], \"mode\": \"markers\", \"text\": \"P6232212\", \"type\": \"scattergeo\"}, {\"lat\": [34.88955480677435], \"locationmode\": \"USA-states\", \"lon\": [-76.13232611000592], \"mode\": \"markers\", \"text\": \"P6232215\", \"type\": \"scattergeo\"}, {\"lat\": [35.89346998431359], \"locationmode\": \"USA-states\", \"lon\": [-77.0826754243299], \"mode\": \"markers\", \"text\": \"P6232217\", \"type\": \"scattergeo\"}, {\"lat\": [36.04628641206567], \"locationmode\": \"USA-states\", \"lon\": [-83.19751054915889], \"mode\": \"markers\", \"text\": \"P6232218\", \"type\": \"scattergeo\"}, {\"lat\": [34.62718093272784], \"locationmode\": \"USA-states\", \"lon\": [-78.9687982948216], \"mode\": \"markers\", \"text\": \"P6232219\", \"type\": \"scattergeo\"}, {\"lat\": [36.14579847980043], \"locationmode\": \"USA-states\", \"lon\": [-75.62479464416586], \"mode\": \"markers\", \"text\": \"P6232220\", \"type\": \"scattergeo\"}, {\"lat\": [34.37161230727227], \"locationmode\": \"USA-states\", \"lon\": [-83.40168227819535], \"mode\": \"markers\", \"text\": \"P6232225\", \"type\": \"scattergeo\"}, {\"lat\": [34.11919052277768], \"locationmode\": \"USA-states\", \"lon\": [-76.61043018094516], \"mode\": \"markers\", \"text\": \"P6232226\", \"type\": \"scattergeo\"}, {\"lat\": [33.923786385820975], \"locationmode\": \"USA-states\", \"lon\": [-80.1153323049619], \"mode\": \"markers\", \"text\": \"P6232228\", \"type\": \"scattergeo\"}, {\"lat\": [35.678260529544275], \"locationmode\": \"USA-states\", \"lon\": [-81.83899017888737], \"mode\": \"markers\", \"text\": \"P6232233\", \"type\": \"scattergeo\"}], \"name\": \"06/23/2015\"}, {\"data\": [{\"lat\": [33.92850770018766], \"locationmode\": \"USA-states\", \"lon\": [-80.79943189524084], \"mode\": \"markers\", \"text\": \"P6242138\", \"type\": \"scattergeo\"}, {\"lat\": [35.292013576039125], \"locationmode\": \"USA-states\", \"lon\": [-78.8134996739462], \"mode\": \"markers\", \"text\": \"P6242139\", \"type\": \"scattergeo\"}, {\"lat\": [34.385944133462644], \"locationmode\": \"USA-states\", \"lon\": [-80.28729965581037], \"mode\": \"markers\", \"text\": \"P6242141\", \"type\": \"scattergeo\"}, {\"lat\": [36.0697764793064], \"locationmode\": \"USA-states\", \"lon\": [-78.4287112732751], \"mode\": \"markers\", \"text\": \"P6242142\", \"type\": \"scattergeo\"}, {\"lat\": [34.04405212529388], \"locationmode\": \"USA-states\", \"lon\": [-82.1035120759548], \"mode\": \"markers\", \"text\": \"P6242143\", \"type\": \"scattergeo\"}, {\"lat\": [35.16895820634206], \"locationmode\": \"USA-states\", \"lon\": [-82.38535984596831], \"mode\": \"markers\", \"text\": \"P6242144\", \"type\": \"scattergeo\"}, {\"lat\": [36.07266920113777], \"locationmode\": \"USA-states\", \"lon\": [-76.5414247890489], \"mode\": \"markers\", \"text\": \"P6242145\", \"type\": \"scattergeo\"}, {\"lat\": [34.338897640862605], \"locationmode\": \"USA-states\", \"lon\": [-79.64436070257666], \"mode\": \"markers\", \"text\": \"P6242150\", \"type\": \"scattergeo\"}, {\"lat\": [36.028905137709835], \"locationmode\": \"USA-states\", \"lon\": [-78.115352944072], \"mode\": \"markers\", \"text\": \"P6242152\", \"type\": \"scattergeo\"}, {\"lat\": [34.64980861806979], \"locationmode\": \"USA-states\", \"lon\": [-83.29927922712395], \"mode\": \"markers\", \"text\": \"P6242153\", \"type\": \"scattergeo\"}, {\"lat\": [33.882784385130186], \"locationmode\": \"USA-states\", \"lon\": [-77.56124481589357], \"mode\": \"markers\", \"text\": \"P6242154\", \"type\": \"scattergeo\"}, {\"lat\": [35.104368790838656], \"locationmode\": \"USA-states\", \"lon\": [-80.67472511979635], \"mode\": \"markers\", \"text\": \"P6242156\", \"type\": \"scattergeo\"}, {\"lat\": [34.685521731304235], \"locationmode\": \"USA-states\", \"lon\": [-75.20226956305567], \"mode\": \"markers\", \"text\": \"P6242157\", \"type\": \"scattergeo\"}, {\"lat\": [36.02751563866607], \"locationmode\": \"USA-states\", \"lon\": [-82.2526678821361], \"mode\": \"markers\", \"text\": \"P6242158\", \"type\": \"scattergeo\"}, {\"lat\": [34.374360512368746], \"locationmode\": \"USA-states\", \"lon\": [-78.04217024479809], \"mode\": \"markers\", \"text\": \"P6242159\", \"type\": \"scattergeo\"}, {\"lat\": [34.578107185343924], \"locationmode\": \"USA-states\", \"lon\": [-78.57355097285509], \"mode\": \"markers\", \"text\": \"P6242202\", \"type\": \"scattergeo\"}, {\"lat\": [34.926563745454935], \"locationmode\": \"USA-states\", \"lon\": [-75.76724598316522], \"mode\": \"markers\", \"text\": \"P6242210\", \"type\": \"scattergeo\"}, {\"lat\": [35.685552929431445], \"locationmode\": \"USA-states\", \"lon\": [-80.89914281432364], \"mode\": \"markers\", \"text\": \"P6242212\", \"type\": \"scattergeo\"}, {\"lat\": [35.038971858356845], \"locationmode\": \"USA-states\", \"lon\": [-76.95354540081468], \"mode\": \"markers\", \"text\": \"P6242213\", \"type\": \"scattergeo\"}, {\"lat\": [34.324307751047314], \"locationmode\": \"USA-states\", \"lon\": [-81.1479548309438], \"mode\": \"markers\", \"text\": \"P6242215\", \"type\": \"scattergeo\"}, {\"lat\": [34.145591987089965], \"locationmode\": \"USA-states\", \"lon\": [-80.77248990979251], \"mode\": \"markers\", \"text\": \"P6242216\", \"type\": \"scattergeo\"}, {\"lat\": [35.94348193228537], \"locationmode\": \"USA-states\", \"lon\": [-75.56151151020195], \"mode\": \"markers\", \"text\": \"P6242221\", \"type\": \"scattergeo\"}], \"name\": \"06/24/2015\"}, {\"data\": [{\"lat\": [34.46719492691339], \"locationmode\": \"USA-states\", \"lon\": [-77.16095994684463], \"mode\": \"markers\", \"text\": \"P6252118\", \"type\": \"scattergeo\"}, {\"lat\": [35.00914578672157], \"locationmode\": \"USA-states\", \"lon\": [-76.63185030888938], \"mode\": \"markers\", \"text\": \"P6252134\", \"type\": \"scattergeo\"}, {\"lat\": [34.55873448304428], \"locationmode\": \"USA-states\", \"lon\": [-81.75305508254728], \"mode\": \"markers\", \"text\": \"P6252137\", \"type\": \"scattergeo\"}, {\"lat\": [36.10595924708369], \"locationmode\": \"USA-states\", \"lon\": [-79.7462959336243], \"mode\": \"markers\", \"text\": \"P6252139\", \"type\": \"scattergeo\"}, {\"lat\": [35.60514146260706], \"locationmode\": \"USA-states\", \"lon\": [-80.57541109928948], \"mode\": \"markers\", \"text\": \"P6252142\", \"type\": \"scattergeo\"}, {\"lat\": [35.92547403758426], \"locationmode\": \"USA-states\", \"lon\": [-80.32120500469325], \"mode\": \"markers\", \"text\": \"P6252143\", \"type\": \"scattergeo\"}, {\"lat\": [34.78736546325808], \"locationmode\": \"USA-states\", \"lon\": [-77.96800296096232], \"mode\": \"markers\", \"text\": \"P6252144\", \"type\": \"scattergeo\"}, {\"lat\": [36.29852774795216], \"locationmode\": \"USA-states\", \"lon\": [-83.26443922799403], \"mode\": \"markers\", \"text\": \"P6252145\", \"type\": \"scattergeo\"}, {\"lat\": [35.1458844780955], \"locationmode\": \"USA-states\", \"lon\": [-77.49369996229436], \"mode\": \"markers\", \"text\": \"P6252146\", \"type\": \"scattergeo\"}, {\"lat\": [35.22307648416193], \"locationmode\": \"USA-states\", \"lon\": [-77.82910779752031], \"mode\": \"markers\", \"text\": \"P6252147\", \"type\": \"scattergeo\"}, {\"lat\": [34.55644767871403], \"locationmode\": \"USA-states\", \"lon\": [-81.39266068099664], \"mode\": \"markers\", \"text\": \"P6252148\", \"type\": \"scattergeo\"}, {\"lat\": [34.26993862998391], \"locationmode\": \"USA-states\", \"lon\": [-81.17720155460975], \"mode\": \"markers\", \"text\": \"P6252149\", \"type\": \"scattergeo\"}, {\"lat\": [35.241690358846746], \"locationmode\": \"USA-states\", \"lon\": [-80.41406443355449], \"mode\": \"markers\", \"text\": \"P6252150\", \"type\": \"scattergeo\"}, {\"lat\": [35.91105488103706], \"locationmode\": \"USA-states\", \"lon\": [-80.38828707613742], \"mode\": \"markers\", \"text\": \"P6252151\", \"type\": \"scattergeo\"}, {\"lat\": [35.67024555909907], \"locationmode\": \"USA-states\", \"lon\": [-81.22128840709178], \"mode\": \"markers\", \"text\": \"P6252152\", \"type\": \"scattergeo\"}, {\"lat\": [35.24032296517496], \"locationmode\": \"USA-states\", \"lon\": [-80.63103103351804], \"mode\": \"markers\", \"text\": \"P6252153\", \"type\": \"scattergeo\"}, {\"lat\": [34.27304644353117], \"locationmode\": \"USA-states\", \"lon\": [-75.29642196086701], \"mode\": \"markers\", \"text\": \"P6252156\", \"type\": \"scattergeo\"}, {\"lat\": [36.2574618551933], \"locationmode\": \"USA-states\", \"lon\": [-79.3726235763347], \"mode\": \"markers\", \"text\": \"P6252157\", \"type\": \"scattergeo\"}, {\"lat\": [36.004377191173354], \"locationmode\": \"USA-states\", \"lon\": [-76.43550300986142], \"mode\": \"markers\", \"text\": \"P6252159\", \"type\": \"scattergeo\"}, {\"lat\": [35.45486726687046], \"locationmode\": \"USA-states\", \"lon\": [-75.82875254415325], \"mode\": \"markers\", \"text\": \"P6252200\", \"type\": \"scattergeo\"}, {\"lat\": [35.09886288675821], \"locationmode\": \"USA-states\", \"lon\": [-83.50374593990774], \"mode\": \"markers\", \"text\": \"P6252204\", \"type\": \"scattergeo\"}, {\"lat\": [35.277569123027526], \"locationmode\": \"USA-states\", \"lon\": [-78.80187180217223], \"mode\": \"markers\", \"text\": \"P6252205\", \"type\": \"scattergeo\"}, {\"lat\": [34.56493097629547], \"locationmode\": \"USA-states\", \"lon\": [-75.22607397809026], \"mode\": \"markers\", \"text\": \"P6252209\", \"type\": \"scattergeo\"}, {\"lat\": [34.00469079730138], \"locationmode\": \"USA-states\", \"lon\": [-81.04456028783527], \"mode\": \"markers\", \"text\": \"P6252211\", \"type\": \"scattergeo\"}, {\"lat\": [34.8470796071096], \"locationmode\": \"USA-states\", \"lon\": [-78.47251737440753], \"mode\": \"markers\", \"text\": \"P6252213\", \"type\": \"scattergeo\"}, {\"lat\": [34.55011610415588], \"locationmode\": \"USA-states\", \"lon\": [-78.87501698370845], \"mode\": \"markers\", \"text\": \"P6252214\", \"type\": \"scattergeo\"}, {\"lat\": [36.06978453477164], \"locationmode\": \"USA-states\", \"lon\": [-77.45663284758946], \"mode\": \"markers\", \"text\": \"P6252216\", \"type\": \"scattergeo\"}, {\"lat\": [35.37203508994355], \"locationmode\": \"USA-states\", \"lon\": [-80.64195111198853], \"mode\": \"markers\", \"text\": \"P6252217\", \"type\": \"scattergeo\"}, {\"lat\": [34.98694581614893], \"locationmode\": \"USA-states\", \"lon\": [-78.16398223589907], \"mode\": \"markers\", \"text\": \"P6252219\", \"type\": \"scattergeo\"}, {\"lat\": [34.29542429435113], \"locationmode\": \"USA-states\", \"lon\": [-81.03262048905948], \"mode\": \"markers\", \"text\": \"P6252220\", \"type\": \"scattergeo\"}, {\"lat\": [33.99201747038343], \"locationmode\": \"USA-states\", \"lon\": [-82.12408157522985], \"mode\": \"markers\", \"text\": \"P6252221\", \"type\": \"scattergeo\"}, {\"lat\": [36.003199825791285], \"locationmode\": \"USA-states\", \"lon\": [-80.79178112087004], \"mode\": \"markers\", \"text\": \"P6252222\", \"type\": \"scattergeo\"}, {\"lat\": [36.046136883666485], \"locationmode\": \"USA-states\", \"lon\": [-78.41789261071595], \"mode\": \"markers\", \"text\": \"P6252223\", \"type\": \"scattergeo\"}, {\"lat\": [34.52530972663753], \"locationmode\": \"USA-states\", \"lon\": [-81.22899343014153], \"mode\": \"markers\", \"text\": \"P6252225\", \"type\": \"scattergeo\"}, {\"lat\": [36.254448415439064], \"locationmode\": \"USA-states\", \"lon\": [-80.08398104070623], \"mode\": \"markers\", \"text\": \"P6252226\", \"type\": \"scattergeo\"}, {\"lat\": [35.61374162666534], \"locationmode\": \"USA-states\", \"lon\": [-83.26282114664254], \"mode\": \"markers\", \"text\": \"P6252227\", \"type\": \"scattergeo\"}, {\"lat\": [36.1687848673691], \"locationmode\": \"USA-states\", \"lon\": [-80.45132583147286], \"mode\": \"markers\", \"text\": \"P6252228\", \"type\": \"scattergeo\"}, {\"lat\": [35.660405040130456], \"locationmode\": \"USA-states\", \"lon\": [-79.675860336155], \"mode\": \"markers\", \"text\": \"P6252229\", \"type\": \"scattergeo\"}, {\"lat\": [33.90108705075166], \"locationmode\": \"USA-states\", \"lon\": [-81.39000917773599], \"mode\": \"markers\", \"text\": \"P6252243\", \"type\": \"scattergeo\"}, {\"lat\": [36.169508918992435], \"locationmode\": \"USA-states\", \"lon\": [-77.80614284283293], \"mode\": \"markers\", \"text\": \"P6252244\", \"type\": \"scattergeo\"}], \"name\": \"06/25/2015\"}, {\"data\": [{\"lat\": [35.06695320995462], \"locationmode\": \"USA-states\", \"lon\": [-75.06447704327358], \"mode\": \"markers\", \"text\": \"P6262135\", \"type\": \"scattergeo\"}, {\"lat\": [36.049353301448015], \"locationmode\": \"USA-states\", \"lon\": [-77.52734520367758], \"mode\": \"markers\", \"text\": \"P6262140\", \"type\": \"scattergeo\"}, {\"lat\": [35.563631161238455], \"locationmode\": \"USA-states\", \"lon\": [-78.44652137933056], \"mode\": \"markers\", \"text\": \"P6262146\", \"type\": \"scattergeo\"}, {\"lat\": [34.76098746316209], \"locationmode\": \"USA-states\", \"lon\": [-77.08151541319212], \"mode\": \"markers\", \"text\": \"P6262147\", \"type\": \"scattergeo\"}, {\"lat\": [34.68106364606515], \"locationmode\": \"USA-states\", \"lon\": [-77.14817995642659], \"mode\": \"markers\", \"text\": \"P6262148\", \"type\": \"scattergeo\"}, {\"lat\": [34.425111106140896], \"locationmode\": \"USA-states\", \"lon\": [-80.29255539204723], \"mode\": \"markers\", \"text\": \"P6262152\", \"type\": \"scattergeo\"}, {\"lat\": [34.38151069008202], \"locationmode\": \"USA-states\", \"lon\": [-76.49423146072934], \"mode\": \"markers\", \"text\": \"P6262200\", \"type\": \"scattergeo\"}, {\"lat\": [35.54451245135881], \"locationmode\": \"USA-states\", \"lon\": [-75.49431807231306], \"mode\": \"markers\", \"text\": \"P6262202\", \"type\": \"scattergeo\"}, {\"lat\": [36.28996379224083], \"locationmode\": \"USA-states\", \"lon\": [-75.7443134212144], \"mode\": \"markers\", \"text\": \"P6262203\", \"type\": \"scattergeo\"}, {\"lat\": [34.98388278452381], \"locationmode\": \"USA-states\", \"lon\": [-82.1779646623703], \"mode\": \"markers\", \"text\": \"P6262206\", \"type\": \"scattergeo\"}, {\"lat\": [34.98241359461038], \"locationmode\": \"USA-states\", \"lon\": [-82.92827380935785], \"mode\": \"markers\", \"text\": \"P6262208\", \"type\": \"scattergeo\"}, {\"lat\": [34.44425025986221], \"locationmode\": \"USA-states\", \"lon\": [-83.37520806623003], \"mode\": \"markers\", \"text\": \"P6262209\", \"type\": \"scattergeo\"}, {\"lat\": [34.88157167585067], \"locationmode\": \"USA-states\", \"lon\": [-77.47736377520536], \"mode\": \"markers\", \"text\": \"P6262214\", \"type\": \"scattergeo\"}, {\"lat\": [34.67801623249787], \"locationmode\": \"USA-states\", \"lon\": [-81.3312441526392], \"mode\": \"markers\", \"text\": \"P6262215\", \"type\": \"scattergeo\"}, {\"lat\": [36.32981657717844], \"locationmode\": \"USA-states\", \"lon\": [-77.26143317504548], \"mode\": \"markers\", \"text\": \"P6262217\", \"type\": \"scattergeo\"}, {\"lat\": [35.813999304283], \"locationmode\": \"USA-states\", \"lon\": [-75.11687530284802], \"mode\": \"markers\", \"text\": \"P6262218\", \"type\": \"scattergeo\"}, {\"lat\": [36.19919025069528], \"locationmode\": \"USA-states\", \"lon\": [-78.78221904271413], \"mode\": \"markers\", \"text\": \"P6262219\", \"type\": \"scattergeo\"}, {\"lat\": [34.243525137059564], \"locationmode\": \"USA-states\", \"lon\": [-78.3926845029314], \"mode\": \"markers\", \"text\": \"P6262220\", \"type\": \"scattergeo\"}], \"name\": \"06/26/2015\"}, {\"data\": [{\"lat\": [34.13256697262072], \"locationmode\": \"USA-states\", \"lon\": [-83.15668075150354], \"mode\": \"markers\", \"text\": \"P6272144\", \"type\": \"scattergeo\"}, {\"lat\": [35.796335116900416], \"locationmode\": \"USA-states\", \"lon\": [-82.44693276065928], \"mode\": \"markers\", \"text\": \"P6272150\", \"type\": \"scattergeo\"}, {\"lat\": [36.31385469570364], \"locationmode\": \"USA-states\", \"lon\": [-77.56290540986907], \"mode\": \"markers\", \"text\": \"P6272151\", \"type\": \"scattergeo\"}, {\"lat\": [33.92651468102276], \"locationmode\": \"USA-states\", \"lon\": [-76.57120201803428], \"mode\": \"markers\", \"text\": \"P6272152\", \"type\": \"scattergeo\"}, {\"lat\": [35.26351628362673], \"locationmode\": \"USA-states\", \"lon\": [-78.5629107142264], \"mode\": \"markers\", \"text\": \"P6272156\", \"type\": \"scattergeo\"}, {\"lat\": [35.87068776280154], \"locationmode\": \"USA-states\", \"lon\": [-81.58808376426718], \"mode\": \"markers\", \"text\": \"P6272159\", \"type\": \"scattergeo\"}, {\"lat\": [33.94204068306151], \"locationmode\": \"USA-states\", \"lon\": [-80.52699981438316], \"mode\": \"markers\", \"text\": \"P6272201\", \"type\": \"scattergeo\"}, {\"lat\": [34.70198824725796], \"locationmode\": \"USA-states\", \"lon\": [-76.10124932560537], \"mode\": \"markers\", \"text\": \"P6272204\", \"type\": \"scattergeo\"}, {\"lat\": [34.68237704098458], \"locationmode\": \"USA-states\", \"lon\": [-81.15762651136157], \"mode\": \"markers\", \"text\": \"P6272205\", \"type\": \"scattergeo\"}, {\"lat\": [35.705399234116065], \"locationmode\": \"USA-states\", \"lon\": [-78.9354657582176], \"mode\": \"markers\", \"text\": \"P6272206\", \"type\": \"scattergeo\"}, {\"lat\": [35.17591595243078], \"locationmode\": \"USA-states\", \"lon\": [-83.5420204565057], \"mode\": \"markers\", \"text\": \"P6272207\", \"type\": \"scattergeo\"}, {\"lat\": [34.67424115291614], \"locationmode\": \"USA-states\", \"lon\": [-75.82267066716759], \"mode\": \"markers\", \"text\": \"P6272208\", \"type\": \"scattergeo\"}, {\"lat\": [34.281934125879275], \"locationmode\": \"USA-states\", \"lon\": [-83.15249562801881], \"mode\": \"markers\", \"text\": \"P6272212\", \"type\": \"scattergeo\"}, {\"lat\": [34.65328494482395], \"locationmode\": \"USA-states\", \"lon\": [-76.27205509479474], \"mode\": \"markers\", \"text\": \"P6272214\", \"type\": \"scattergeo\"}, {\"lat\": [34.71696176136432], \"locationmode\": \"USA-states\", \"lon\": [-77.61798419550246], \"mode\": \"markers\", \"text\": \"P6272215\", \"type\": \"scattergeo\"}, {\"lat\": [33.92909972182156], \"locationmode\": \"USA-states\", \"lon\": [-80.05978115281624], \"mode\": \"markers\", \"text\": \"P6272216\", \"type\": \"scattergeo\"}, {\"lat\": [34.21046139839037], \"locationmode\": \"USA-states\", \"lon\": [-80.31971348891423], \"mode\": \"markers\", \"text\": \"P6272217\", \"type\": \"scattergeo\"}, {\"lat\": [34.756070244409955], \"locationmode\": \"USA-states\", \"lon\": [-76.95285130377792], \"mode\": \"markers\", \"text\": \"P6272218\", \"type\": \"scattergeo\"}], \"name\": \"06/27/2015\"}, {\"data\": [{\"lat\": [35.5380047472968], \"locationmode\": \"USA-states\", \"lon\": [-79.40262338444758], \"mode\": \"markers\", \"text\": \"P6302053\", \"type\": \"scattergeo\"}, {\"lat\": [34.955366854416994], \"locationmode\": \"USA-states\", \"lon\": [-78.87284585060405], \"mode\": \"markers\", \"text\": \"P6302054\", \"type\": \"scattergeo\"}, {\"lat\": [35.91529556539273], \"locationmode\": \"USA-states\", \"lon\": [-81.45375665937847], \"mode\": \"markers\", \"text\": \"P6302109\", \"type\": \"scattergeo\"}, {\"lat\": [33.95752123309262], \"locationmode\": \"USA-states\", \"lon\": [-76.30238128047925], \"mode\": \"markers\", \"text\": \"P6302110\", \"type\": \"scattergeo\"}, {\"lat\": [35.54264064030064], \"locationmode\": \"USA-states\", \"lon\": [-81.59486077264441], \"mode\": \"markers\", \"text\": \"P6302112\", \"type\": \"scattergeo\"}, {\"lat\": [35.8575272416029], \"locationmode\": \"USA-states\", \"lon\": [-81.60857584416829], \"mode\": \"markers\", \"text\": \"P6302113\", \"type\": \"scattergeo\"}, {\"lat\": [34.78787225290133], \"locationmode\": \"USA-states\", \"lon\": [-79.61930452399564], \"mode\": \"markers\", \"text\": \"P6302115\", \"type\": \"scattergeo\"}, {\"lat\": [34.460098460941914], \"locationmode\": \"USA-states\", \"lon\": [-81.63762820409677], \"mode\": \"markers\", \"text\": \"P6302117\", \"type\": \"scattergeo\"}, {\"lat\": [34.4814851318223], \"locationmode\": \"USA-states\", \"lon\": [-83.05288583348785], \"mode\": \"markers\", \"text\": \"P6302125\", \"type\": \"scattergeo\"}, {\"lat\": [34.09919751233425], \"locationmode\": \"USA-states\", \"lon\": [-75.026776681109], \"mode\": \"markers\", \"text\": \"P6302126\", \"type\": \"scattergeo\"}, {\"lat\": [36.11774243633638], \"locationmode\": \"USA-states\", \"lon\": [-80.15265853277884], \"mode\": \"markers\", \"text\": \"P6302129\", \"type\": \"scattergeo\"}, {\"lat\": [33.89439016777092], \"locationmode\": \"USA-states\", \"lon\": [-82.16669613791626], \"mode\": \"markers\", \"text\": \"P6302130\", \"type\": \"scattergeo\"}, {\"lat\": [34.26350316928691], \"locationmode\": \"USA-states\", \"lon\": [-79.83604735411491], \"mode\": \"markers\", \"text\": \"P6302133\", \"type\": \"scattergeo\"}, {\"lat\": [34.636658149945795], \"locationmode\": \"USA-states\", \"lon\": [-82.54021071566707], \"mode\": \"markers\", \"text\": \"P6302135\", \"type\": \"scattergeo\"}, {\"lat\": [35.139424746706716], \"locationmode\": \"USA-states\", \"lon\": [-76.98513801059609], \"mode\": \"markers\", \"text\": \"P6302136\", \"type\": \"scattergeo\"}, {\"lat\": [35.49633436140548], \"locationmode\": \"USA-states\", \"lon\": [-80.16541015208145], \"mode\": \"markers\", \"text\": \"P6302137\", \"type\": \"scattergeo\"}, {\"lat\": [35.14028524581021], \"locationmode\": \"USA-states\", \"lon\": [-79.2420548820809], \"mode\": \"markers\", \"text\": \"P6302138\", \"type\": \"scattergeo\"}, {\"lat\": [36.342573080665794], \"locationmode\": \"USA-states\", \"lon\": [-76.59869266546566], \"mode\": \"markers\", \"text\": \"P6302148\", \"type\": \"scattergeo\"}, {\"lat\": [34.10281968881344], \"locationmode\": \"USA-states\", \"lon\": [-75.97905157056533], \"mode\": \"markers\", \"text\": \"P6302150\", \"type\": \"scattergeo\"}, {\"lat\": [34.744658389995614], \"locationmode\": \"USA-states\", \"lon\": [-76.72768894212105], \"mode\": \"markers\", \"text\": \"P6302151\", \"type\": \"scattergeo\"}, {\"lat\": [34.328622754628306], \"locationmode\": \"USA-states\", \"lon\": [-76.73880788713906], \"mode\": \"markers\", \"text\": \"P6302152\", \"type\": \"scattergeo\"}, {\"lat\": [34.370434287184686], \"locationmode\": \"USA-states\", \"lon\": [-80.03268088683438], \"mode\": \"markers\", \"text\": \"P6302153\", \"type\": \"scattergeo\"}, {\"lat\": [36.26566138721793], \"locationmode\": \"USA-states\", \"lon\": [-80.75852613361182], \"mode\": \"markers\", \"text\": \"P6302154\", \"type\": \"scattergeo\"}, {\"lat\": [34.881379193001514], \"locationmode\": \"USA-states\", \"lon\": [-83.01598018848833], \"mode\": \"markers\", \"text\": \"P6302155\", \"type\": \"scattergeo\"}, {\"lat\": [34.57122112753943], \"locationmode\": \"USA-states\", \"lon\": [-80.28674522423228], \"mode\": \"markers\", \"text\": \"P6302157\", \"type\": \"scattergeo\"}, {\"lat\": [34.87531695002651], \"locationmode\": \"USA-states\", \"lon\": [-80.64793290274591], \"mode\": \"markers\", \"text\": \"P6302204\", \"type\": \"scattergeo\"}], \"name\": \"06/30/2015\"}, {\"data\": [{\"lat\": [35.79201368070274], \"locationmode\": \"USA-states\", \"lon\": [-82.8726444526573], \"mode\": \"markers\", \"text\": \"P7012059\", \"type\": \"scattergeo\"}, {\"lat\": [34.46825927987749], \"locationmode\": \"USA-states\", \"lon\": [-81.69295955606906], \"mode\": \"markers\", \"text\": \"P7012100\", \"type\": \"scattergeo\"}, {\"lat\": [34.986992523207135], \"locationmode\": \"USA-states\", \"lon\": [-77.20106823959937], \"mode\": \"markers\", \"text\": \"P7012101\", \"type\": \"scattergeo\"}, {\"lat\": [35.734623054904056], \"locationmode\": \"USA-states\", \"lon\": [-76.50259904081783], \"mode\": \"markers\", \"text\": \"P7012102\", \"type\": \"scattergeo\"}, {\"lat\": [35.81571955253666], \"locationmode\": \"USA-states\", \"lon\": [-78.59959797080033], \"mode\": \"markers\", \"text\": \"P7012108\", \"type\": \"scattergeo\"}, {\"lat\": [34.28680780187702], \"locationmode\": \"USA-states\", \"lon\": [-80.91307522796835], \"mode\": \"markers\", \"text\": \"P7012109\", \"type\": \"scattergeo\"}, {\"lat\": [33.9219631748116], \"locationmode\": \"USA-states\", \"lon\": [-82.97729216170504], \"mode\": \"markers\", \"text\": \"P7012110\", \"type\": \"scattergeo\"}, {\"lat\": [35.65419049523232], \"locationmode\": \"USA-states\", \"lon\": [-76.95050464483255], \"mode\": \"markers\", \"text\": \"P7012112\", \"type\": \"scattergeo\"}, {\"lat\": [34.59479208751985], \"locationmode\": \"USA-states\", \"lon\": [-79.3766373148943], \"mode\": \"markers\", \"text\": \"P7012113\", \"type\": \"scattergeo\"}, {\"lat\": [36.00878169599221], \"locationmode\": \"USA-states\", \"lon\": [-82.38158593047761], \"mode\": \"markers\", \"text\": \"P7012114\", \"type\": \"scattergeo\"}, {\"lat\": [35.93872361640163], \"locationmode\": \"USA-states\", \"lon\": [-75.81245028656112], \"mode\": \"markers\", \"text\": \"P7012116\", \"type\": \"scattergeo\"}, {\"lat\": [35.74507583776006], \"locationmode\": \"USA-states\", \"lon\": [-76.37614897648534], \"mode\": \"markers\", \"text\": \"P7012118\", \"type\": \"scattergeo\"}, {\"lat\": [34.027356510562335], \"locationmode\": \"USA-states\", \"lon\": [-81.38330905691762], \"mode\": \"markers\", \"text\": \"P7012120\", \"type\": \"scattergeo\"}, {\"lat\": [35.607014938459194], \"locationmode\": \"USA-states\", \"lon\": [-78.05541033728623], \"mode\": \"markers\", \"text\": \"P7012122\", \"type\": \"scattergeo\"}, {\"lat\": [35.487179827313426], \"locationmode\": \"USA-states\", \"lon\": [-80.33885066481321], \"mode\": \"markers\", \"text\": \"P7012125\", \"type\": \"scattergeo\"}, {\"lat\": [34.9772203180374], \"locationmode\": \"USA-states\", \"lon\": [-77.86735707079818], \"mode\": \"markers\", \"text\": \"P7012126\", \"type\": \"scattergeo\"}, {\"lat\": [35.96826203724595], \"locationmode\": \"USA-states\", \"lon\": [-82.40926068173897], \"mode\": \"markers\", \"text\": \"P7012127\", \"type\": \"scattergeo\"}, {\"lat\": [34.89636824355798], \"locationmode\": \"USA-states\", \"lon\": [-82.56305897942724], \"mode\": \"markers\", \"text\": \"P7012128\", \"type\": \"scattergeo\"}, {\"lat\": [34.203955620979855], \"locationmode\": \"USA-states\", \"lon\": [-79.71209357690843], \"mode\": \"markers\", \"text\": \"P7012129\", \"type\": \"scattergeo\"}, {\"lat\": [34.20245532747618], \"locationmode\": \"USA-states\", \"lon\": [-80.47021786956174], \"mode\": \"markers\", \"text\": \"P7012130\", \"type\": \"scattergeo\"}, {\"lat\": [35.258837140998], \"locationmode\": \"USA-states\", \"lon\": [-81.08858440440977], \"mode\": \"markers\", \"text\": \"P7012131\", \"type\": \"scattergeo\"}, {\"lat\": [35.57995375840267], \"locationmode\": \"USA-states\", \"lon\": [-79.15721978897295], \"mode\": \"markers\", \"text\": \"P7012132\", \"type\": \"scattergeo\"}, {\"lat\": [34.47652636356217], \"locationmode\": \"USA-states\", \"lon\": [-80.10193674498208], \"mode\": \"markers\", \"text\": \"P7012133\", \"type\": \"scattergeo\"}, {\"lat\": [34.84760682360115], \"locationmode\": \"USA-states\", \"lon\": [-81.02730728204324], \"mode\": \"markers\", \"text\": \"P7012134\", \"type\": \"scattergeo\"}, {\"lat\": [34.9179465625689], \"locationmode\": \"USA-states\", \"lon\": [-79.4420699853341], \"mode\": \"markers\", \"text\": \"P7012135\", \"type\": \"scattergeo\"}, {\"lat\": [36.22784149219494], \"locationmode\": \"USA-states\", \"lon\": [-83.62505791703325], \"mode\": \"markers\", \"text\": \"P7012136\", \"type\": \"scattergeo\"}, {\"lat\": [35.412679165236845], \"locationmode\": \"USA-states\", \"lon\": [-81.81335276630384], \"mode\": \"markers\", \"text\": \"P7012146\", \"type\": \"scattergeo\"}, {\"lat\": [36.28742764782827], \"locationmode\": \"USA-states\", \"lon\": [-78.88497192014388], \"mode\": \"markers\", \"text\": \"P7012152\", \"type\": \"scattergeo\"}, {\"lat\": [33.92511069596438], \"locationmode\": \"USA-states\", \"lon\": [-80.22777400256679], \"mode\": \"markers\", \"text\": \"P7012156\", \"type\": \"scattergeo\"}, {\"lat\": [36.2298295756272], \"locationmode\": \"USA-states\", \"lon\": [-80.28305059429141], \"mode\": \"markers\", \"text\": \"P7012157\", \"type\": \"scattergeo\"}, {\"lat\": [33.9195362217461], \"locationmode\": \"USA-states\", \"lon\": [-79.27920580570928], \"mode\": \"markers\", \"text\": \"P7012159\", \"type\": \"scattergeo\"}, {\"lat\": [35.17538962187599], \"locationmode\": \"USA-states\", \"lon\": [-83.44944441710958], \"mode\": \"markers\", \"text\": \"P7012200\", \"type\": \"scattergeo\"}, {\"lat\": [36.29956402198148], \"locationmode\": \"USA-states\", \"lon\": [-76.8769653469528], \"mode\": \"markers\", \"text\": \"P7012202\", \"type\": \"scattergeo\"}, {\"lat\": [35.128146034141004], \"locationmode\": \"USA-states\", \"lon\": [-76.3646369513606], \"mode\": \"markers\", \"text\": \"P7012205\", \"type\": \"scattergeo\"}, {\"lat\": [34.50314057467519], \"locationmode\": \"USA-states\", \"lon\": [-80.75921341471906], \"mode\": \"markers\", \"text\": \"P7012210\", \"type\": \"scattergeo\"}], \"name\": \"07/01/2015\"}, {\"data\": [{\"lat\": [36.04120389376829], \"locationmode\": \"USA-states\", \"lon\": [-82.8688974368132], \"mode\": \"markers\", \"text\": \"P7032125\", \"type\": \"scattergeo\"}, {\"lat\": [35.09780929153317], \"locationmode\": \"USA-states\", \"lon\": [-81.36640429447522], \"mode\": \"markers\", \"text\": \"P7032129\", \"type\": \"scattergeo\"}, {\"lat\": [36.24917455892017], \"locationmode\": \"USA-states\", \"lon\": [-77.30939047709587], \"mode\": \"markers\", \"text\": \"P7032133\", \"type\": \"scattergeo\"}, {\"lat\": [34.416925825320234], \"locationmode\": \"USA-states\", \"lon\": [-78.73278058459941], \"mode\": \"markers\", \"text\": \"P7032134\", \"type\": \"scattergeo\"}, {\"lat\": [35.84891468368848], \"locationmode\": \"USA-states\", \"lon\": [-75.9552344381807], \"mode\": \"markers\", \"text\": \"P7032135\", \"type\": \"scattergeo\"}, {\"lat\": [35.15694570198888], \"locationmode\": \"USA-states\", \"lon\": [-77.58551981004558], \"mode\": \"markers\", \"text\": \"P7032137\", \"type\": \"scattergeo\"}, {\"lat\": [36.27609626957441], \"locationmode\": \"USA-states\", \"lon\": [-76.74158006102185], \"mode\": \"markers\", \"text\": \"P7032139\", \"type\": \"scattergeo\"}, {\"lat\": [34.587087524398086], \"locationmode\": \"USA-states\", \"lon\": [-78.58210576564672], \"mode\": \"markers\", \"text\": \"P7032140\", \"type\": \"scattergeo\"}, {\"lat\": [35.07189738561032], \"locationmode\": \"USA-states\", \"lon\": [-80.35677545386584], \"mode\": \"markers\", \"text\": \"P7032143\", \"type\": \"scattergeo\"}, {\"lat\": [33.90980448537982], \"locationmode\": \"USA-states\", \"lon\": [-82.09269516192018], \"mode\": \"markers\", \"text\": \"P7032144\", \"type\": \"scattergeo\"}, {\"lat\": [34.58786281966691], \"locationmode\": \"USA-states\", \"lon\": [-78.18097529775565], \"mode\": \"markers\", \"text\": \"P7032145\", \"type\": \"scattergeo\"}, {\"lat\": [33.84071372158457], \"locationmode\": \"USA-states\", \"lon\": [-79.36587263692581], \"mode\": \"markers\", \"text\": \"P7032147\", \"type\": \"scattergeo\"}, {\"lat\": [35.450581344011916], \"locationmode\": \"USA-states\", \"lon\": [-82.48783034674872], \"mode\": \"markers\", \"text\": \"P7032151\", \"type\": \"scattergeo\"}, {\"lat\": [35.89746634167077], \"locationmode\": \"USA-states\", \"lon\": [-83.164286106805], \"mode\": \"markers\", \"text\": \"P7032153\", \"type\": \"scattergeo\"}, {\"lat\": [35.46761665442179], \"locationmode\": \"USA-states\", \"lon\": [-81.34648104208675], \"mode\": \"markers\", \"text\": \"P7032155\", \"type\": \"scattergeo\"}, {\"lat\": [36.06207224905978], \"locationmode\": \"USA-states\", \"lon\": [-82.14124003841559], \"mode\": \"markers\", \"text\": \"P7032156\", \"type\": \"scattergeo\"}, {\"lat\": [35.22894601507283], \"locationmode\": \"USA-states\", \"lon\": [-77.5956522890867], \"mode\": \"markers\", \"text\": \"P7032158\", \"type\": \"scattergeo\"}, {\"lat\": [35.2521524848017], \"locationmode\": \"USA-states\", \"lon\": [-81.07287430771636], \"mode\": \"markers\", \"text\": \"P7032159\", \"type\": \"scattergeo\"}, {\"lat\": [35.0807644448817], \"locationmode\": \"USA-states\", \"lon\": [-80.95937307172618], \"mode\": \"markers\", \"text\": \"P7032201\", \"type\": \"scattergeo\"}, {\"lat\": [34.831285271015936], \"locationmode\": \"USA-states\", \"lon\": [-82.55336146884571], \"mode\": \"markers\", \"text\": \"P7032206\", \"type\": \"scattergeo\"}, {\"lat\": [34.24152049095768], \"locationmode\": \"USA-states\", \"lon\": [-82.67085723103169], \"mode\": \"markers\", \"text\": \"P7032208\", \"type\": \"scattergeo\"}, {\"lat\": [36.066640045304425], \"locationmode\": \"USA-states\", \"lon\": [-80.9694384627175], \"mode\": \"markers\", \"text\": \"P7032209\", \"type\": \"scattergeo\"}], \"name\": \"07/03/2015\"}, {\"data\": [{\"lat\": [36.194085752224524], \"locationmode\": \"USA-states\", \"lon\": [-77.05035610273175], \"mode\": \"markers\", \"text\": \"P7052148\", \"type\": \"scattergeo\"}, {\"lat\": [36.20224250252995], \"locationmode\": \"USA-states\", \"lon\": [-76.82632683961533], \"mode\": \"markers\", \"text\": \"P7052152\", \"type\": \"scattergeo\"}, {\"lat\": [35.73792055567563], \"locationmode\": \"USA-states\", \"lon\": [-80.69625901826923], \"mode\": \"markers\", \"text\": \"P7052154\", \"type\": \"scattergeo\"}, {\"lat\": [34.35451223834787], \"locationmode\": \"USA-states\", \"lon\": [-76.67805221376065], \"mode\": \"markers\", \"text\": \"P7052155\", \"type\": \"scattergeo\"}, {\"lat\": [34.995118493160476], \"locationmode\": \"USA-states\", \"lon\": [-80.85381919439642], \"mode\": \"markers\", \"text\": \"P7052158\", \"type\": \"scattergeo\"}, {\"lat\": [35.00519099647708], \"locationmode\": \"USA-states\", \"lon\": [-77.86773216065907], \"mode\": \"markers\", \"text\": \"P7052159\", \"type\": \"scattergeo\"}, {\"lat\": [35.50477240847433], \"locationmode\": \"USA-states\", \"lon\": [-78.66325877262503], \"mode\": \"markers\", \"text\": \"P7052200\", \"type\": \"scattergeo\"}, {\"lat\": [33.867641682173904], \"locationmode\": \"USA-states\", \"lon\": [-77.37594348930341], \"mode\": \"markers\", \"text\": \"P7052201\", \"type\": \"scattergeo\"}, {\"lat\": [36.01930624964404], \"locationmode\": \"USA-states\", \"lon\": [-83.16983295502405], \"mode\": \"markers\", \"text\": \"P7052205\", \"type\": \"scattergeo\"}, {\"lat\": [34.121303419347974], \"locationmode\": \"USA-states\", \"lon\": [-78.06195056175667], \"mode\": \"markers\", \"text\": \"P7052206\", \"type\": \"scattergeo\"}, {\"lat\": [35.66307210218563], \"locationmode\": \"USA-states\", \"lon\": [-81.66524579448362], \"mode\": \"markers\", \"text\": \"P7052210\", \"type\": \"scattergeo\"}, {\"lat\": [34.721753919729], \"locationmode\": \"USA-states\", \"lon\": [-75.43887418575642], \"mode\": \"markers\", \"text\": \"P7052213\", \"type\": \"scattergeo\"}, {\"lat\": [35.23698171137731], \"locationmode\": \"USA-states\", \"lon\": [-83.0279422493082], \"mode\": \"markers\", \"text\": \"P7052214\", \"type\": \"scattergeo\"}, {\"lat\": [34.61378646614812], \"locationmode\": \"USA-states\", \"lon\": [-77.83580759102192], \"mode\": \"markers\", \"text\": \"P7052216\", \"type\": \"scattergeo\"}, {\"lat\": [35.94540153403643], \"locationmode\": \"USA-states\", \"lon\": [-77.15312389418176], \"mode\": \"markers\", \"text\": \"P7052221\", \"type\": \"scattergeo\"}, {\"lat\": [35.260551438511015], \"locationmode\": \"USA-states\", \"lon\": [-75.84460527755526], \"mode\": \"markers\", \"text\": \"P7052224\", \"type\": \"scattergeo\"}, {\"lat\": [35.37604601630332], \"locationmode\": \"USA-states\", \"lon\": [-77.93303076852281], \"mode\": \"markers\", \"text\": \"P7052228\", \"type\": \"scattergeo\"}, {\"lat\": [36.264738175074015], \"locationmode\": \"USA-states\", \"lon\": [-78.78704799948791], \"mode\": \"markers\", \"text\": \"P7052229\", \"type\": \"scattergeo\"}], \"name\": \"07/05/2015\"}, {\"data\": [{\"lat\": [34.02471978439722], \"locationmode\": \"USA-states\", \"lon\": [-80.3062441624523], \"mode\": \"markers\", \"text\": \"P7062104\", \"type\": \"scattergeo\"}, {\"lat\": [34.33108013743776], \"locationmode\": \"USA-states\", \"lon\": [-80.69853185422969], \"mode\": \"markers\", \"text\": \"P7062111\", \"type\": \"scattergeo\"}, {\"lat\": [34.033429777307674], \"locationmode\": \"USA-states\", \"lon\": [-80.84802950685899], \"mode\": \"markers\", \"text\": \"P7062112\", \"type\": \"scattergeo\"}, {\"lat\": [34.11829351013137], \"locationmode\": \"USA-states\", \"lon\": [-76.46092629175246], \"mode\": \"markers\", \"text\": \"P7062115\", \"type\": \"scattergeo\"}, {\"lat\": [35.99203797918535], \"locationmode\": \"USA-states\", \"lon\": [-75.84975711380827], \"mode\": \"markers\", \"text\": \"P7062117\", \"type\": \"scattergeo\"}, {\"lat\": [34.785019902688], \"locationmode\": \"USA-states\", \"lon\": [-78.12713781513801], \"mode\": \"markers\", \"text\": \"P7062124\", \"type\": \"scattergeo\"}, {\"lat\": [34.789687129811256], \"locationmode\": \"USA-states\", \"lon\": [-77.25053827662133], \"mode\": \"markers\", \"text\": \"P7062126\", \"type\": \"scattergeo\"}, {\"lat\": [34.955796517853685], \"locationmode\": \"USA-states\", \"lon\": [-77.83092023281824], \"mode\": \"markers\", \"text\": \"P7062128\", \"type\": \"scattergeo\"}, {\"lat\": [33.92539007684116], \"locationmode\": \"USA-states\", \"lon\": [-80.87461071460244], \"mode\": \"markers\", \"text\": \"P7062129\", \"type\": \"scattergeo\"}, {\"lat\": [35.438389695273045], \"locationmode\": \"USA-states\", \"lon\": [-75.30476205487754], \"mode\": \"markers\", \"text\": \"P7062130\", \"type\": \"scattergeo\"}, {\"lat\": [34.45780553373467], \"locationmode\": \"USA-states\", \"lon\": [-78.60113442137686], \"mode\": \"markers\", \"text\": \"P7062134\", \"type\": \"scattergeo\"}, {\"lat\": [36.24584567767464], \"locationmode\": \"USA-states\", \"lon\": [-81.13499227006254], \"mode\": \"markers\", \"text\": \"P7062137\", \"type\": \"scattergeo\"}, {\"lat\": [35.489283582560546], \"locationmode\": \"USA-states\", \"lon\": [-83.00435931757234], \"mode\": \"markers\", \"text\": \"P7062138\", \"type\": \"scattergeo\"}, {\"lat\": [34.02875903488042], \"locationmode\": \"USA-states\", \"lon\": [-80.61106865707022], \"mode\": \"markers\", \"text\": \"P7062139\", \"type\": \"scattergeo\"}, {\"lat\": [33.838179215931774], \"locationmode\": \"USA-states\", \"lon\": [-82.13969488453513], \"mode\": \"markers\", \"text\": \"P7062141\", \"type\": \"scattergeo\"}, {\"lat\": [35.147681917965905], \"locationmode\": \"USA-states\", \"lon\": [-75.78240821998864], \"mode\": \"markers\", \"text\": \"P7062143\", \"type\": \"scattergeo\"}, {\"lat\": [34.84351142834262], \"locationmode\": \"USA-states\", \"lon\": [-82.85372311567238], \"mode\": \"markers\", \"text\": \"P7062155\", \"type\": \"scattergeo\"}, {\"lat\": [34.644816218966035], \"locationmode\": \"USA-states\", \"lon\": [-77.49765051038914], \"mode\": \"markers\", \"text\": \"P7062156\", \"type\": \"scattergeo\"}, {\"lat\": [36.16238131471823], \"locationmode\": \"USA-states\", \"lon\": [-78.76308027016486], \"mode\": \"markers\", \"text\": \"P7062200\", \"type\": \"scattergeo\"}, {\"lat\": [34.79970622633511], \"locationmode\": \"USA-states\", \"lon\": [-80.51346420743693], \"mode\": \"markers\", \"text\": \"P7062201\", \"type\": \"scattergeo\"}], \"name\": \"07/06/2015\"}, {\"data\": [{\"lat\": [35.23311694604678], \"locationmode\": \"USA-states\", \"lon\": [-81.3719316159096], \"mode\": \"markers\", \"text\": \"P7082105\", \"type\": \"scattergeo\"}, {\"lat\": [34.444969337740915], \"locationmode\": \"USA-states\", \"lon\": [-80.44978883508216], \"mode\": \"markers\", \"text\": \"P7082106\", \"type\": \"scattergeo\"}, {\"lat\": [34.26476361055353], \"locationmode\": \"USA-states\", \"lon\": [-75.46524921321189], \"mode\": \"markers\", \"text\": \"P7082112\", \"type\": \"scattergeo\"}, {\"lat\": [36.2485399260316], \"locationmode\": \"USA-states\", \"lon\": [-83.55510446856248], \"mode\": \"markers\", \"text\": \"P7082113\", \"type\": \"scattergeo\"}, {\"lat\": [35.59630911169981], \"locationmode\": \"USA-states\", \"lon\": [-75.88403194465221], \"mode\": \"markers\", \"text\": \"P7082115\", \"type\": \"scattergeo\"}, {\"lat\": [35.68223925551749], \"locationmode\": \"USA-states\", \"lon\": [-77.60624879062588], \"mode\": \"markers\", \"text\": \"P7082119\", \"type\": \"scattergeo\"}, {\"lat\": [34.18637337653955], \"locationmode\": \"USA-states\", \"lon\": [-83.7978099952915], \"mode\": \"markers\", \"text\": \"P7082128\", \"type\": \"scattergeo\"}, {\"lat\": [35.129367756616325], \"locationmode\": \"USA-states\", \"lon\": [-77.0025273114313], \"mode\": \"markers\", \"text\": \"P7082129\", \"type\": \"scattergeo\"}, {\"lat\": [34.42154318501689], \"locationmode\": \"USA-states\", \"lon\": [-79.78057523971144], \"mode\": \"markers\", \"text\": \"P7082130\", \"type\": \"scattergeo\"}, {\"lat\": [35.52649640742911], \"locationmode\": \"USA-states\", \"lon\": [-76.58508218216768], \"mode\": \"markers\", \"text\": \"P7082131\", \"type\": \"scattergeo\"}, {\"lat\": [35.987843083943936], \"locationmode\": \"USA-states\", \"lon\": [-76.5893925903172], \"mode\": \"markers\", \"text\": \"P7082132\", \"type\": \"scattergeo\"}, {\"lat\": [34.09261966525258], \"locationmode\": \"USA-states\", \"lon\": [-77.4743807722202], \"mode\": \"markers\", \"text\": \"P7082134\", \"type\": \"scattergeo\"}, {\"lat\": [33.96145945967893], \"locationmode\": \"USA-states\", \"lon\": [-81.79129891890135], \"mode\": \"markers\", \"text\": \"P7082135\", \"type\": \"scattergeo\"}, {\"lat\": [35.37202475655203], \"locationmode\": \"USA-states\", \"lon\": [-76.56923323753834], \"mode\": \"markers\", \"text\": \"P7082136\", \"type\": \"scattergeo\"}, {\"lat\": [35.85938087337043], \"locationmode\": \"USA-states\", \"lon\": [-83.20782372452929], \"mode\": \"markers\", \"text\": \"P7082138\", \"type\": \"scattergeo\"}, {\"lat\": [35.857346437544145], \"locationmode\": \"USA-states\", \"lon\": [-76.13466554813996], \"mode\": \"markers\", \"text\": \"P7082139\", \"type\": \"scattergeo\"}, {\"lat\": [35.614461766783876], \"locationmode\": \"USA-states\", \"lon\": [-78.28528099476723], \"mode\": \"markers\", \"text\": \"P7082140\", \"type\": \"scattergeo\"}, {\"lat\": [35.538767732734726], \"locationmode\": \"USA-states\", \"lon\": [-83.71258571525973], \"mode\": \"markers\", \"text\": \"P7082142\", \"type\": \"scattergeo\"}, {\"lat\": [34.3224374231039], \"locationmode\": \"USA-states\", \"lon\": [-78.53389246531628], \"mode\": \"markers\", \"text\": \"P7082143\", \"type\": \"scattergeo\"}, {\"lat\": [35.79199602450396], \"locationmode\": \"USA-states\", \"lon\": [-78.68017666878738], \"mode\": \"markers\", \"text\": \"P7082144\", \"type\": \"scattergeo\"}, {\"lat\": [34.70066896780249], \"locationmode\": \"USA-states\", \"lon\": [-80.32481292795643], \"mode\": \"markers\", \"text\": \"P7082145\", \"type\": \"scattergeo\"}, {\"lat\": [34.28804711900257], \"locationmode\": \"USA-states\", \"lon\": [-81.65799266196397], \"mode\": \"markers\", \"text\": \"P7082146\", \"type\": \"scattergeo\"}, {\"lat\": [34.703618495958274], \"locationmode\": \"USA-states\", \"lon\": [-77.77807574226209], \"mode\": \"markers\", \"text\": \"P7082152\", \"type\": \"scattergeo\"}, {\"lat\": [34.640297509996195], \"locationmode\": \"USA-states\", \"lon\": [-76.52057228693727], \"mode\": \"markers\", \"text\": \"P7082153\", \"type\": \"scattergeo\"}, {\"lat\": [34.42631064650009], \"locationmode\": \"USA-states\", \"lon\": [-76.48891915079125], \"mode\": \"markers\", \"text\": \"P7082158\", \"type\": \"scattergeo\"}, {\"lat\": [34.12633242922454], \"locationmode\": \"USA-states\", \"lon\": [-80.2332222034008], \"mode\": \"markers\", \"text\": \"P7082201\", \"type\": \"scattergeo\"}, {\"lat\": [34.34260768548445], \"locationmode\": \"USA-states\", \"lon\": [-82.52022425740493], \"mode\": \"markers\", \"text\": \"P7082203\", \"type\": \"scattergeo\"}, {\"lat\": [35.293713396698145], \"locationmode\": \"USA-states\", \"lon\": [-75.68106026155228], \"mode\": \"markers\", \"text\": \"P7082204\", \"type\": \"scattergeo\"}, {\"lat\": [34.025178738162765], \"locationmode\": \"USA-states\", \"lon\": [-76.32530285502702], \"mode\": \"markers\", \"text\": \"P7082205\", \"type\": \"scattergeo\"}, {\"lat\": [35.35499108974425], \"locationmode\": \"USA-states\", \"lon\": [-77.34842246959789], \"mode\": \"markers\", \"text\": \"P7082206\", \"type\": \"scattergeo\"}], \"name\": \"07/08/2015\"}, {\"data\": [{\"lat\": [34.915180568916966], \"locationmode\": \"USA-states\", \"lon\": [-77.73497248663733], \"mode\": \"markers\", \"text\": \"P7092116\", \"type\": \"scattergeo\"}, {\"lat\": [35.43612639277524], \"locationmode\": \"USA-states\", \"lon\": [-75.32570918867468], \"mode\": \"markers\", \"text\": \"P7092120\", \"type\": \"scattergeo\"}, {\"lat\": [33.91950092737564], \"locationmode\": \"USA-states\", \"lon\": [-81.05797876012794], \"mode\": \"markers\", \"text\": \"P7092121\", \"type\": \"scattergeo\"}, {\"lat\": [34.13567291958615], \"locationmode\": \"USA-states\", \"lon\": [-80.79417258634265], \"mode\": \"markers\", \"text\": \"P7092122\", \"type\": \"scattergeo\"}, {\"lat\": [34.788670508841406], \"locationmode\": \"USA-states\", \"lon\": [-79.57942887362391], \"mode\": \"markers\", \"text\": \"P7092123\", \"type\": \"scattergeo\"}, {\"lat\": [35.53848493669569], \"locationmode\": \"USA-states\", \"lon\": [-83.56205254180327], \"mode\": \"markers\", \"text\": \"P7092124\", \"type\": \"scattergeo\"}, {\"lat\": [36.1792120394315], \"locationmode\": \"USA-states\", \"lon\": [-77.23473155532238], \"mode\": \"markers\", \"text\": \"P7092128\", \"type\": \"scattergeo\"}, {\"lat\": [35.73689590138587], \"locationmode\": \"USA-states\", \"lon\": [-75.44766773905843], \"mode\": \"markers\", \"text\": \"P7092130\", \"type\": \"scattergeo\"}, {\"lat\": [35.42391620876245], \"locationmode\": \"USA-states\", \"lon\": [-82.35489946873511], \"mode\": \"markers\", \"text\": \"P7092131\", \"type\": \"scattergeo\"}, {\"lat\": [34.75758713865108], \"locationmode\": \"USA-states\", \"lon\": [-79.31810248132277], \"mode\": \"markers\", \"text\": \"P7092134\", \"type\": \"scattergeo\"}, {\"lat\": [35.52903305532509], \"locationmode\": \"USA-states\", \"lon\": [-79.39099996682275], \"mode\": \"markers\", \"text\": \"P7092136\", \"type\": \"scattergeo\"}, {\"lat\": [35.82879606488544], \"locationmode\": \"USA-states\", \"lon\": [-76.22596850715911], \"mode\": \"markers\", \"text\": \"P7092137\", \"type\": \"scattergeo\"}, {\"lat\": [34.63487792547232], \"locationmode\": \"USA-states\", \"lon\": [-81.05062285511384], \"mode\": \"markers\", \"text\": \"P7092141\", \"type\": \"scattergeo\"}, {\"lat\": [33.929978999525886], \"locationmode\": \"USA-states\", \"lon\": [-83.7261981476831], \"mode\": \"markers\", \"text\": \"P7092142\", \"type\": \"scattergeo\"}, {\"lat\": [34.759171772902235], \"locationmode\": \"USA-states\", \"lon\": [-81.02161112473598], \"mode\": \"markers\", \"text\": \"P7092143\", \"type\": \"scattergeo\"}, {\"lat\": [35.069792848676194], \"locationmode\": \"USA-states\", \"lon\": [-78.96146884566565], \"mode\": \"markers\", \"text\": \"P7092144\", \"type\": \"scattergeo\"}, {\"lat\": [34.256947840144505], \"locationmode\": \"USA-states\", \"lon\": [-81.89778744586056], \"mode\": \"markers\", \"text\": \"P7092145\", \"type\": \"scattergeo\"}, {\"lat\": [34.15729275560402], \"locationmode\": \"USA-states\", \"lon\": [-80.1717546651228], \"mode\": \"markers\", \"text\": \"P7092146\", \"type\": \"scattergeo\"}, {\"lat\": [36.28461914728719], \"locationmode\": \"USA-states\", \"lon\": [-75.47065992301711], \"mode\": \"markers\", \"text\": \"P7092147\", \"type\": \"scattergeo\"}, {\"lat\": [35.22044220949479], \"locationmode\": \"USA-states\", \"lon\": [-76.39444175225333], \"mode\": \"markers\", \"text\": \"P7092148\", \"type\": \"scattergeo\"}, {\"lat\": [36.03818351802967], \"locationmode\": \"USA-states\", \"lon\": [-80.58908067620845], \"mode\": \"markers\", \"text\": \"P7092149\", \"type\": \"scattergeo\"}, {\"lat\": [34.213194207366165], \"locationmode\": \"USA-states\", \"lon\": [-76.12067625283274], \"mode\": \"markers\", \"text\": \"P7092150\", \"type\": \"scattergeo\"}, {\"lat\": [36.28483776155291], \"locationmode\": \"USA-states\", \"lon\": [-83.20891672920762], \"mode\": \"markers\", \"text\": \"P7092151\", \"type\": \"scattergeo\"}, {\"lat\": [33.85558223169896], \"locationmode\": \"USA-states\", \"lon\": [-81.08773836634471], \"mode\": \"markers\", \"text\": \"P7092152\", \"type\": \"scattergeo\"}, {\"lat\": [36.087912737384656], \"locationmode\": \"USA-states\", \"lon\": [-83.46079094632019], \"mode\": \"markers\", \"text\": \"P7092153\", \"type\": \"scattergeo\"}, {\"lat\": [34.520036477104156], \"locationmode\": \"USA-states\", \"lon\": [-80.20372815256324], \"mode\": \"markers\", \"text\": \"P7092154\", \"type\": \"scattergeo\"}, {\"lat\": [35.14612320778517], \"locationmode\": \"USA-states\", \"lon\": [-75.51269527811893], \"mode\": \"markers\", \"text\": \"P7092155\", \"type\": \"scattergeo\"}, {\"lat\": [35.276266488701644], \"locationmode\": \"USA-states\", \"lon\": [-82.1794921929876], \"mode\": \"markers\", \"text\": \"P7092157\", \"type\": \"scattergeo\"}, {\"lat\": [35.82015775519662], \"locationmode\": \"USA-states\", \"lon\": [-81.05560091411512], \"mode\": \"markers\", \"text\": \"P7092158\", \"type\": \"scattergeo\"}, {\"lat\": [34.79952854038346], \"locationmode\": \"USA-states\", \"lon\": [-82.78037155944038], \"mode\": \"markers\", \"text\": \"P7092159\", \"type\": \"scattergeo\"}, {\"lat\": [35.807605218420505], \"locationmode\": \"USA-states\", \"lon\": [-77.3863567260512], \"mode\": \"markers\", \"text\": \"P7092200\", \"type\": \"scattergeo\"}, {\"lat\": [35.16690465691267], \"locationmode\": \"USA-states\", \"lon\": [-75.19163641871877], \"mode\": \"markers\", \"text\": \"P7092201\", \"type\": \"scattergeo\"}, {\"lat\": [35.613876161142905], \"locationmode\": \"USA-states\", \"lon\": [-77.70666012116853], \"mode\": \"markers\", \"text\": \"P7092202\", \"type\": \"scattergeo\"}, {\"lat\": [34.784573032071016], \"locationmode\": \"USA-states\", \"lon\": [-83.4431035371965], \"mode\": \"markers\", \"text\": \"P7092203\", \"type\": \"scattergeo\"}, {\"lat\": [35.77940647137769], \"locationmode\": \"USA-states\", \"lon\": [-82.65281627243284], \"mode\": \"markers\", \"text\": \"P7092204\", \"type\": \"scattergeo\"}, {\"lat\": [35.221242190798876], \"locationmode\": \"USA-states\", \"lon\": [-77.71475026516174], \"mode\": \"markers\", \"text\": \"P7092205\", \"type\": \"scattergeo\"}, {\"lat\": [35.09839099749194], \"locationmode\": \"USA-states\", \"lon\": [-81.62541128216985], \"mode\": \"markers\", \"text\": \"P7092206\", \"type\": \"scattergeo\"}, {\"lat\": [35.879826252489956], \"locationmode\": \"USA-states\", \"lon\": [-78.19842349835947], \"mode\": \"markers\", \"text\": \"P7092207\", \"type\": \"scattergeo\"}], \"name\": \"07/09/2015\"}, {\"data\": [{\"lat\": [33.918842159766776], \"locationmode\": \"USA-states\", \"lon\": [-78.46958772947347], \"mode\": \"markers\", \"text\": \"P7102113\", \"type\": \"scattergeo\"}, {\"lat\": [35.11190650174188], \"locationmode\": \"USA-states\", \"lon\": [-77.30403031909437], \"mode\": \"markers\", \"text\": \"P7102119\", \"type\": \"scattergeo\"}, {\"lat\": [36.153216965750815], \"locationmode\": \"USA-states\", \"lon\": [-80.0229510932819], \"mode\": \"markers\", \"text\": \"P7102120\", \"type\": \"scattergeo\"}, {\"lat\": [34.96521249477401], \"locationmode\": \"USA-states\", \"lon\": [-79.3721907205882], \"mode\": \"markers\", \"text\": \"P7102126\", \"type\": \"scattergeo\"}, {\"lat\": [34.689347831464936], \"locationmode\": \"USA-states\", \"lon\": [-77.94302359570018], \"mode\": \"markers\", \"text\": \"P7102127\", \"type\": \"scattergeo\"}, {\"lat\": [34.85763763927943], \"locationmode\": \"USA-states\", \"lon\": [-81.4387625826978], \"mode\": \"markers\", \"text\": \"P7102128\", \"type\": \"scattergeo\"}, {\"lat\": [35.466096744953916], \"locationmode\": \"USA-states\", \"lon\": [-79.82349564140863], \"mode\": \"markers\", \"text\": \"P7102129\", \"type\": \"scattergeo\"}, {\"lat\": [36.18344083839539], \"locationmode\": \"USA-states\", \"lon\": [-77.44311857166159], \"mode\": \"markers\", \"text\": \"P7102130\", \"type\": \"scattergeo\"}, {\"lat\": [36.028506629967666], \"locationmode\": \"USA-states\", \"lon\": [-75.69445774651619], \"mode\": \"markers\", \"text\": \"P7102132\", \"type\": \"scattergeo\"}, {\"lat\": [34.01988742976068], \"locationmode\": \"USA-states\", \"lon\": [-83.01340762162549], \"mode\": \"markers\", \"text\": \"P7102135\", \"type\": \"scattergeo\"}, {\"lat\": [36.08549071060288], \"locationmode\": \"USA-states\", \"lon\": [-79.99505584395125], \"mode\": \"markers\", \"text\": \"P7102136\", \"type\": \"scattergeo\"}, {\"lat\": [35.32294675265543], \"locationmode\": \"USA-states\", \"lon\": [-77.62382529852076], \"mode\": \"markers\", \"text\": \"P7102137\", \"type\": \"scattergeo\"}, {\"lat\": [36.31870334813102], \"locationmode\": \"USA-states\", \"lon\": [-77.61882352532567], \"mode\": \"markers\", \"text\": \"P7102138\", \"type\": \"scattergeo\"}, {\"lat\": [34.15773360218431], \"locationmode\": \"USA-states\", \"lon\": [-76.64343982571226], \"mode\": \"markers\", \"text\": \"P7102139\", \"type\": \"scattergeo\"}, {\"lat\": [34.96167284233092], \"locationmode\": \"USA-states\", \"lon\": [-76.63377879660673], \"mode\": \"markers\", \"text\": \"P7102140\", \"type\": \"scattergeo\"}, {\"lat\": [34.77631778180418], \"locationmode\": \"USA-states\", \"lon\": [-80.16208035781094], \"mode\": \"markers\", \"text\": \"P7102141\", \"type\": \"scattergeo\"}, {\"lat\": [35.72944126185119], \"locationmode\": \"USA-states\", \"lon\": [-81.00295754884193], \"mode\": \"markers\", \"text\": \"P7102142\", \"type\": \"scattergeo\"}, {\"lat\": [36.22395284013981], \"locationmode\": \"USA-states\", \"lon\": [-77.17770913459952], \"mode\": \"markers\", \"text\": \"P7102143\", \"type\": \"scattergeo\"}, {\"lat\": [35.64269274940807], \"locationmode\": \"USA-states\", \"lon\": [-81.62656849895158], \"mode\": \"markers\", \"text\": \"P7102144\", \"type\": \"scattergeo\"}, {\"lat\": [34.53649375727516], \"locationmode\": \"USA-states\", \"lon\": [-75.80823082189652], \"mode\": \"markers\", \"text\": \"P7102145\", \"type\": \"scattergeo\"}, {\"lat\": [35.70337765520543], \"locationmode\": \"USA-states\", \"lon\": [-77.13582038770355], \"mode\": \"markers\", \"text\": \"P7102146\", \"type\": \"scattergeo\"}, {\"lat\": [35.19760051140943], \"locationmode\": \"USA-states\", \"lon\": [-75.71872789600727], \"mode\": \"markers\", \"text\": \"P7102147\", \"type\": \"scattergeo\"}, {\"lat\": [34.34251086691097], \"locationmode\": \"USA-states\", \"lon\": [-81.26150211887189], \"mode\": \"markers\", \"text\": \"P7102148\", \"type\": \"scattergeo\"}, {\"lat\": [36.306728239666235], \"locationmode\": \"USA-states\", \"lon\": [-82.04346074671923], \"mode\": \"markers\", \"text\": \"P7102149\", \"type\": \"scattergeo\"}, {\"lat\": [35.80994348100509], \"locationmode\": \"USA-states\", \"lon\": [-80.24520518539326], \"mode\": \"markers\", \"text\": \"P7102150\", \"type\": \"scattergeo\"}, {\"lat\": [33.993527286009275], \"locationmode\": \"USA-states\", \"lon\": [-79.87358591269367], \"mode\": \"markers\", \"text\": \"P7102154\", \"type\": \"scattergeo\"}, {\"lat\": [35.29932063021291], \"locationmode\": \"USA-states\", \"lon\": [-77.91212639396153], \"mode\": \"markers\", \"text\": \"P7102156\", \"type\": \"scattergeo\"}, {\"lat\": [34.467961329651565], \"locationmode\": \"USA-states\", \"lon\": [-82.61865523595853], \"mode\": \"markers\", \"text\": \"P7102157\", \"type\": \"scattergeo\"}, {\"lat\": [34.63250643727317], \"locationmode\": \"USA-states\", \"lon\": [-75.04443611534337], \"mode\": \"markers\", \"text\": \"P7102200\", \"type\": \"scattergeo\"}, {\"lat\": [34.47527392462581], \"locationmode\": \"USA-states\", \"lon\": [-75.11908221782735], \"mode\": \"markers\", \"text\": \"P7102201\", \"type\": \"scattergeo\"}, {\"lat\": [34.556165314899545], \"locationmode\": \"USA-states\", \"lon\": [-77.71614808463544], \"mode\": \"markers\", \"text\": \"P7102205\", \"type\": \"scattergeo\"}, {\"lat\": [34.3544354175895], \"locationmode\": \"USA-states\", \"lon\": [-77.0061702209751], \"mode\": \"markers\", \"text\": \"P7102207\", \"type\": \"scattergeo\"}], \"name\": \"07/10/2015\"}, {\"data\": [{\"lat\": [34.72122388010794], \"locationmode\": \"USA-states\", \"lon\": [-75.79457680188415], \"mode\": \"markers\", \"text\": \"P7112108\", \"type\": \"scattergeo\"}, {\"lat\": [34.85644566227559], \"locationmode\": \"USA-states\", \"lon\": [-83.28838308450554], \"mode\": \"markers\", \"text\": \"P7112109\", \"type\": \"scattergeo\"}, {\"lat\": [35.63211530138486], \"locationmode\": \"USA-states\", \"lon\": [-76.15429791028969], \"mode\": \"markers\", \"text\": \"P7112110\", \"type\": \"scattergeo\"}, {\"lat\": [34.038874411976586], \"locationmode\": \"USA-states\", \"lon\": [-78.81135279960004], \"mode\": \"markers\", \"text\": \"P7112112\", \"type\": \"scattergeo\"}, {\"lat\": [35.84408092451673], \"locationmode\": \"USA-states\", \"lon\": [-76.9112097646027], \"mode\": \"markers\", \"text\": \"P7112113\", \"type\": \"scattergeo\"}, {\"lat\": [33.87619865034854], \"locationmode\": \"USA-states\", \"lon\": [-80.13254550676218], \"mode\": \"markers\", \"text\": \"P7112114\", \"type\": \"scattergeo\"}, {\"lat\": [35.11612078183966], \"locationmode\": \"USA-states\", \"lon\": [-79.47934049006292], \"mode\": \"markers\", \"text\": \"P7112115\", \"type\": \"scattergeo\"}, {\"lat\": [34.95866141445368], \"locationmode\": \"USA-states\", \"lon\": [-80.83808041499577], \"mode\": \"markers\", \"text\": \"P7112116\", \"type\": \"scattergeo\"}, {\"lat\": [35.81803475269782], \"locationmode\": \"USA-states\", \"lon\": [-83.64338967883663], \"mode\": \"markers\", \"text\": \"P7112117\", \"type\": \"scattergeo\"}, {\"lat\": [34.07573224537723], \"locationmode\": \"USA-states\", \"lon\": [-78.73000672237512], \"mode\": \"markers\", \"text\": \"P7112119\", \"type\": \"scattergeo\"}, {\"lat\": [35.845708735145145], \"locationmode\": \"USA-states\", \"lon\": [-76.6365857856553], \"mode\": \"markers\", \"text\": \"P7112120\", \"type\": \"scattergeo\"}, {\"lat\": [34.17721151198928], \"locationmode\": \"USA-states\", \"lon\": [-80.52513103571752], \"mode\": \"markers\", \"text\": \"P7112123\", \"type\": \"scattergeo\"}, {\"lat\": [34.300796435640436], \"locationmode\": \"USA-states\", \"lon\": [-79.75046153436176], \"mode\": \"markers\", \"text\": \"P7112125\", \"type\": \"scattergeo\"}, {\"lat\": [36.260183852856], \"locationmode\": \"USA-states\", \"lon\": [-77.14621865333622], \"mode\": \"markers\", \"text\": \"P7112127\", \"type\": \"scattergeo\"}, {\"lat\": [34.15838793286869], \"locationmode\": \"USA-states\", \"lon\": [-79.16406407252222], \"mode\": \"markers\", \"text\": \"P7112130\", \"type\": \"scattergeo\"}, {\"lat\": [35.413636431186966], \"locationmode\": \"USA-states\", \"lon\": [-80.54130910222601], \"mode\": \"markers\", \"text\": \"P7112131\", \"type\": \"scattergeo\"}, {\"lat\": [33.8872638486018], \"locationmode\": \"USA-states\", \"lon\": [-78.11737328777318], \"mode\": \"markers\", \"text\": \"P7112132\", \"type\": \"scattergeo\"}, {\"lat\": [34.447638224122436], \"locationmode\": \"USA-states\", \"lon\": [-80.24759270332379], \"mode\": \"markers\", \"text\": \"P7112133\", \"type\": \"scattergeo\"}, {\"lat\": [36.100095080695716], \"locationmode\": \"USA-states\", \"lon\": [-82.63968809292089], \"mode\": \"markers\", \"text\": \"P7112134\", \"type\": \"scattergeo\"}, {\"lat\": [36.04958751833006], \"locationmode\": \"USA-states\", \"lon\": [-75.10864560577562], \"mode\": \"markers\", \"text\": \"P7112135\", \"type\": \"scattergeo\"}, {\"lat\": [34.7073101980907], \"locationmode\": \"USA-states\", \"lon\": [-81.24252957861192], \"mode\": \"markers\", \"text\": \"P7112136\", \"type\": \"scattergeo\"}, {\"lat\": [35.31991592153606], \"locationmode\": \"USA-states\", \"lon\": [-77.9330946658241], \"mode\": \"markers\", \"text\": \"P7112138\", \"type\": \"scattergeo\"}, {\"lat\": [34.51954588149234], \"locationmode\": \"USA-states\", \"lon\": [-76.48635093886877], \"mode\": \"markers\", \"text\": \"P7112139\", \"type\": \"scattergeo\"}, {\"lat\": [35.09314175607803], \"locationmode\": \"USA-states\", \"lon\": [-80.21575455810856], \"mode\": \"markers\", \"text\": \"P7112140\", \"type\": \"scattergeo\"}, {\"lat\": [34.382770764686526], \"locationmode\": \"USA-states\", \"lon\": [-83.18046895010735], \"mode\": \"markers\", \"text\": \"P7112141\", \"type\": \"scattergeo\"}, {\"lat\": [35.55915551982089], \"locationmode\": \"USA-states\", \"lon\": [-82.70609451932943], \"mode\": \"markers\", \"text\": \"P7112142\", \"type\": \"scattergeo\"}, {\"lat\": [34.31267438625662], \"locationmode\": \"USA-states\", \"lon\": [-81.46305789029515], \"mode\": \"markers\", \"text\": \"P7112143\", \"type\": \"scattergeo\"}, {\"lat\": [34.94179548984467], \"locationmode\": \"USA-states\", \"lon\": [-79.4214179837931], \"mode\": \"markers\", \"text\": \"P7112144\", \"type\": \"scattergeo\"}, {\"lat\": [34.21707245260218], \"locationmode\": \"USA-states\", \"lon\": [-83.0405973784724], \"mode\": \"markers\", \"text\": \"P7112148\", \"type\": \"scattergeo\"}, {\"lat\": [34.48264764944364], \"locationmode\": \"USA-states\", \"lon\": [-77.99073018411694], \"mode\": \"markers\", \"text\": \"P7112149\", \"type\": \"scattergeo\"}, {\"lat\": [34.51519246047314], \"locationmode\": \"USA-states\", \"lon\": [-78.40649294747165], \"mode\": \"markers\", \"text\": \"P7112150\", \"type\": \"scattergeo\"}, {\"lat\": [36.07781905016139], \"locationmode\": \"USA-states\", \"lon\": [-78.01440342667794], \"mode\": \"markers\", \"text\": \"P7112151\", \"type\": \"scattergeo\"}, {\"lat\": [35.642800393054124], \"locationmode\": \"USA-states\", \"lon\": [-76.63693656172379], \"mode\": \"markers\", \"text\": \"P7112153\", \"type\": \"scattergeo\"}, {\"lat\": [35.23759684416844], \"locationmode\": \"USA-states\", \"lon\": [-76.21680901457933], \"mode\": \"markers\", \"text\": \"P7112154\", \"type\": \"scattergeo\"}, {\"lat\": [36.244191311128716], \"locationmode\": \"USA-states\", \"lon\": [-80.95906509329802], \"mode\": \"markers\", \"text\": \"P7112156\", \"type\": \"scattergeo\"}, {\"lat\": [35.9614972462956], \"locationmode\": \"USA-states\", \"lon\": [-83.93534699707219], \"mode\": \"markers\", \"text\": \"P7112158\", \"type\": \"scattergeo\"}, {\"lat\": [36.31586042565597], \"locationmode\": \"USA-states\", \"lon\": [-79.8216055874145], \"mode\": \"markers\", \"text\": \"P7112159\", \"type\": \"scattergeo\"}, {\"lat\": [35.891184650987405], \"locationmode\": \"USA-states\", \"lon\": [-83.16681437607515], \"mode\": \"markers\", \"text\": \"P7112207\", \"type\": \"scattergeo\"}], \"name\": \"07/11/2015\"}, {\"data\": [{\"lat\": [35.89294773395673], \"locationmode\": \"USA-states\", \"lon\": [-80.27791611288971], \"mode\": \"markers\", \"text\": \"P7122110\", \"type\": \"scattergeo\"}, {\"lat\": [34.036837085584544], \"locationmode\": \"USA-states\", \"lon\": [-81.57284698594847], \"mode\": \"markers\", \"text\": \"P7122111\", \"type\": \"scattergeo\"}, {\"lat\": [34.97522584194073], \"locationmode\": \"USA-states\", \"lon\": [-82.88979512394111], \"mode\": \"markers\", \"text\": \"P7122112\", \"type\": \"scattergeo\"}, {\"lat\": [34.36472325548479], \"locationmode\": \"USA-states\", \"lon\": [-78.93607557554188], \"mode\": \"markers\", \"text\": \"P7122113\", \"type\": \"scattergeo\"}, {\"lat\": [35.062725940551324], \"locationmode\": \"USA-states\", \"lon\": [-76.08401096187086], \"mode\": \"markers\", \"text\": \"P7122114\", \"type\": \"scattergeo\"}, {\"lat\": [35.04172180517314], \"locationmode\": \"USA-states\", \"lon\": [-81.7931437811755], \"mode\": \"markers\", \"text\": \"P7122115\", \"type\": \"scattergeo\"}, {\"lat\": [35.556149132428516], \"locationmode\": \"USA-states\", \"lon\": [-79.27860136864582], \"mode\": \"markers\", \"text\": \"P7122116\", \"type\": \"scattergeo\"}, {\"lat\": [36.18943929178793], \"locationmode\": \"USA-states\", \"lon\": [-78.50906321695965], \"mode\": \"markers\", \"text\": \"P7122117\", \"type\": \"scattergeo\"}, {\"lat\": [36.08148376897922], \"locationmode\": \"USA-states\", \"lon\": [-81.81101690156439], \"mode\": \"markers\", \"text\": \"P7122118\", \"type\": \"scattergeo\"}, {\"lat\": [34.55396519383399], \"locationmode\": \"USA-states\", \"lon\": [-81.92207901291412], \"mode\": \"markers\", \"text\": \"P7122119\", \"type\": \"scattergeo\"}, {\"lat\": [35.604112559679734], \"locationmode\": \"USA-states\", \"lon\": [-83.68450596514519], \"mode\": \"markers\", \"text\": \"P7122120\", \"type\": \"scattergeo\"}, {\"lat\": [35.21534181438425], \"locationmode\": \"USA-states\", \"lon\": [-79.96701735407807], \"mode\": \"markers\", \"text\": \"P7122121\", \"type\": \"scattergeo\"}, {\"lat\": [35.62777046475905], \"locationmode\": \"USA-states\", \"lon\": [-75.76614197395965], \"mode\": \"markers\", \"text\": \"P7122124\", \"type\": \"scattergeo\"}, {\"lat\": [34.607386596645426], \"locationmode\": \"USA-states\", \"lon\": [-77.5888233256855], \"mode\": \"markers\", \"text\": \"P7122125\", \"type\": \"scattergeo\"}, {\"lat\": [34.29894862171736], \"locationmode\": \"USA-states\", \"lon\": [-79.04841415310005], \"mode\": \"markers\", \"text\": \"P7122127\", \"type\": \"scattergeo\"}, {\"lat\": [34.467059944803715], \"locationmode\": \"USA-states\", \"lon\": [-80.06728894244307], \"mode\": \"markers\", \"text\": \"P7122128\", \"type\": \"scattergeo\"}, {\"lat\": [34.11962122849283], \"locationmode\": \"USA-states\", \"lon\": [-82.61441173961963], \"mode\": \"markers\", \"text\": \"P7122129\", \"type\": \"scattergeo\"}, {\"lat\": [35.14166780066583], \"locationmode\": \"USA-states\", \"lon\": [-76.16295338468451], \"mode\": \"markers\", \"text\": \"P7122130\", \"type\": \"scattergeo\"}, {\"lat\": [34.24743637811812], \"locationmode\": \"USA-states\", \"lon\": [-83.07258394545855], \"mode\": \"markers\", \"text\": \"P7122132\", \"type\": \"scattergeo\"}, {\"lat\": [34.88430333679642], \"locationmode\": \"USA-states\", \"lon\": [-79.55592577420708], \"mode\": \"markers\", \"text\": \"P7122133\", \"type\": \"scattergeo\"}, {\"lat\": [35.64820434429626], \"locationmode\": \"USA-states\", \"lon\": [-81.65486282083643], \"mode\": \"markers\", \"text\": \"P7122135\", \"type\": \"scattergeo\"}, {\"lat\": [35.196180050949614], \"locationmode\": \"USA-states\", \"lon\": [-83.39766230185927], \"mode\": \"markers\", \"text\": \"P7122136\", \"type\": \"scattergeo\"}, {\"lat\": [36.071483669694736], \"locationmode\": \"USA-states\", \"lon\": [-82.43524390315062], \"mode\": \"markers\", \"text\": \"P7122137\", \"type\": \"scattergeo\"}, {\"lat\": [34.287137043143204], \"locationmode\": \"USA-states\", \"lon\": [-76.19331537690272], \"mode\": \"markers\", \"text\": \"P7122138\", \"type\": \"scattergeo\"}, {\"lat\": [35.514653598652686], \"locationmode\": \"USA-states\", \"lon\": [-80.7307868497335], \"mode\": \"markers\", \"text\": \"P7122139\", \"type\": \"scattergeo\"}, {\"lat\": [33.84233747614898], \"locationmode\": \"USA-states\", \"lon\": [-82.84577757960986], \"mode\": \"markers\", \"text\": \"P7122140\", \"type\": \"scattergeo\"}, {\"lat\": [35.54866060084958], \"locationmode\": \"USA-states\", \"lon\": [-81.935221904838], \"mode\": \"markers\", \"text\": \"P7122141\", \"type\": \"scattergeo\"}, {\"lat\": [34.29694549447775], \"locationmode\": \"USA-states\", \"lon\": [-83.95955017150699], \"mode\": \"markers\", \"text\": \"P7122142\", \"type\": \"scattergeo\"}, {\"lat\": [35.63520515631176], \"locationmode\": \"USA-states\", \"lon\": [-78.6815388348246], \"mode\": \"markers\", \"text\": \"P7122143\", \"type\": \"scattergeo\"}, {\"lat\": [34.516511666780154], \"locationmode\": \"USA-states\", \"lon\": [-77.83852127915998], \"mode\": \"markers\", \"text\": \"P7122147\", \"type\": \"scattergeo\"}, {\"lat\": [34.43327909851087], \"locationmode\": \"USA-states\", \"lon\": [-77.86029124885503], \"mode\": \"markers\", \"text\": \"P7122149\", \"type\": \"scattergeo\"}, {\"lat\": [34.86927235291216], \"locationmode\": \"USA-states\", \"lon\": [-77.89925219447439], \"mode\": \"markers\", \"text\": \"P7122150\", \"type\": \"scattergeo\"}, {\"lat\": [34.33087648269001], \"locationmode\": \"USA-states\", \"lon\": [-75.21437529156897], \"mode\": \"markers\", \"text\": \"P7122152\", \"type\": \"scattergeo\"}, {\"lat\": [36.12760497433856], \"locationmode\": \"USA-states\", \"lon\": [-75.55746870618486], \"mode\": \"markers\", \"text\": \"P7122153\", \"type\": \"scattergeo\"}, {\"lat\": [33.83940426501968], \"locationmode\": \"USA-states\", \"lon\": [-82.00360723833222], \"mode\": \"markers\", \"text\": \"P7122155\", \"type\": \"scattergeo\"}, {\"lat\": [35.75896570862252], \"locationmode\": \"USA-states\", \"lon\": [-83.9227189141191], \"mode\": \"markers\", \"text\": \"P7122156\", \"type\": \"scattergeo\"}, {\"lat\": [34.64534343584672], \"locationmode\": \"USA-states\", \"lon\": [-82.30083022138813], \"mode\": \"markers\", \"text\": \"P7122157\", \"type\": \"scattergeo\"}, {\"lat\": [34.268964590661476], \"locationmode\": \"USA-states\", \"lon\": [-78.70799975006416], \"mode\": \"markers\", \"text\": \"P7122158\", \"type\": \"scattergeo\"}, {\"lat\": [34.53239180896739], \"locationmode\": \"USA-states\", \"lon\": [-81.04418075523306], \"mode\": \"markers\", \"text\": \"P7122159\", \"type\": \"scattergeo\"}, {\"lat\": [35.30040552272775], \"locationmode\": \"USA-states\", \"lon\": [-78.51730952244313], \"mode\": \"markers\", \"text\": \"P7122201\", \"type\": \"scattergeo\"}, {\"lat\": [34.90574470172436], \"locationmode\": \"USA-states\", \"lon\": [-75.74018002943075], \"mode\": \"markers\", \"text\": \"P7122202\", \"type\": \"scattergeo\"}, {\"lat\": [35.90679206523156], \"locationmode\": \"USA-states\", \"lon\": [-76.46686948328333], \"mode\": \"markers\", \"text\": \"P7122203\", \"type\": \"scattergeo\"}, {\"lat\": [35.13844325383313], \"locationmode\": \"USA-states\", \"lon\": [-82.26869764742428], \"mode\": \"markers\", \"text\": \"P7122205\", \"type\": \"scattergeo\"}], \"name\": \"07/12/2015\"}, {\"data\": [{\"lat\": [35.76808184127937], \"locationmode\": \"USA-states\", \"lon\": [-80.57748657970028], \"mode\": \"markers\", \"text\": \"P7142108\", \"type\": \"scattergeo\"}, {\"lat\": [35.32202283364219], \"locationmode\": \"USA-states\", \"lon\": [-81.71458081542441], \"mode\": \"markers\", \"text\": \"P7142113\", \"type\": \"scattergeo\"}, {\"lat\": [35.13427344661552], \"locationmode\": \"USA-states\", \"lon\": [-81.64635201536063], \"mode\": \"markers\", \"text\": \"P7142114\", \"type\": \"scattergeo\"}, {\"lat\": [35.829006978475654], \"locationmode\": \"USA-states\", \"lon\": [-76.99995494835187], \"mode\": \"markers\", \"text\": \"P7142115\", \"type\": \"scattergeo\"}, {\"lat\": [34.24683669008639], \"locationmode\": \"USA-states\", \"lon\": [-79.83108470468339], \"mode\": \"markers\", \"text\": \"P7142116\", \"type\": \"scattergeo\"}, {\"lat\": [35.47673903499989], \"locationmode\": \"USA-states\", \"lon\": [-82.13277353850825], \"mode\": \"markers\", \"text\": \"P7142118\", \"type\": \"scattergeo\"}, {\"lat\": [35.053018270534686], \"locationmode\": \"USA-states\", \"lon\": [-80.44877058692396], \"mode\": \"markers\", \"text\": \"P7142119\", \"type\": \"scattergeo\"}, {\"lat\": [34.74294409863402], \"locationmode\": \"USA-states\", \"lon\": [-83.51936478285826], \"mode\": \"markers\", \"text\": \"P7142120\", \"type\": \"scattergeo\"}, {\"lat\": [33.834356762269785], \"locationmode\": \"USA-states\", \"lon\": [-79.1568912161116], \"mode\": \"markers\", \"text\": \"P7142121\", \"type\": \"scattergeo\"}, {\"lat\": [34.65691237449534], \"locationmode\": \"USA-states\", \"lon\": [-82.5893940970976], \"mode\": \"markers\", \"text\": \"P7142122\", \"type\": \"scattergeo\"}, {\"lat\": [35.15862410111512], \"locationmode\": \"USA-states\", \"lon\": [-77.44953914272087], \"mode\": \"markers\", \"text\": \"P7142123\", \"type\": \"scattergeo\"}, {\"lat\": [36.01909603894739], \"locationmode\": \"USA-states\", \"lon\": [-78.96834363610375], \"mode\": \"markers\", \"text\": \"P7142124\", \"type\": \"scattergeo\"}, {\"lat\": [34.892163540938505], \"locationmode\": \"USA-states\", \"lon\": [-81.09876539670954], \"mode\": \"markers\", \"text\": \"P7142125\", \"type\": \"scattergeo\"}, {\"lat\": [34.09901563160406], \"locationmode\": \"USA-states\", \"lon\": [-81.47261553656936], \"mode\": \"markers\", \"text\": \"P7142126\", \"type\": \"scattergeo\"}, {\"lat\": [35.309155467300116], \"locationmode\": \"USA-states\", \"lon\": [-79.93455670929002], \"mode\": \"markers\", \"text\": \"P7142127\", \"type\": \"scattergeo\"}, {\"lat\": [34.84788413801254], \"locationmode\": \"USA-states\", \"lon\": [-79.86149610755099], \"mode\": \"markers\", \"text\": \"P7142128\", \"type\": \"scattergeo\"}, {\"lat\": [34.56983654234531], \"locationmode\": \"USA-states\", \"lon\": [-75.05944724963871], \"mode\": \"markers\", \"text\": \"P7142131\", \"type\": \"scattergeo\"}, {\"lat\": [34.5608539313599], \"locationmode\": \"USA-states\", \"lon\": [-83.8426213865895], \"mode\": \"markers\", \"text\": \"P7142132\", \"type\": \"scattergeo\"}, {\"lat\": [34.56972257079599], \"locationmode\": \"USA-states\", \"lon\": [-79.51521119891608], \"mode\": \"markers\", \"text\": \"P7142134\", \"type\": \"scattergeo\"}, {\"lat\": [34.60995843401785], \"locationmode\": \"USA-states\", \"lon\": [-78.02591047067489], \"mode\": \"markers\", \"text\": \"P7142135\", \"type\": \"scattergeo\"}, {\"lat\": [35.876169942808986], \"locationmode\": \"USA-states\", \"lon\": [-76.25749587881323], \"mode\": \"markers\", \"text\": \"P7142138\", \"type\": \"scattergeo\"}, {\"lat\": [34.88192475363039], \"locationmode\": \"USA-states\", \"lon\": [-80.64951965363099], \"mode\": \"markers\", \"text\": \"P7142140\", \"type\": \"scattergeo\"}, {\"lat\": [34.24198325834123], \"locationmode\": \"USA-states\", \"lon\": [-80.54437097007539], \"mode\": \"markers\", \"text\": \"P7142141\", \"type\": \"scattergeo\"}, {\"lat\": [35.65151103795998], \"locationmode\": \"USA-states\", \"lon\": [-80.1115068143855], \"mode\": \"markers\", \"text\": \"P7142142\", \"type\": \"scattergeo\"}, {\"lat\": [36.267497280360246], \"locationmode\": \"USA-states\", \"lon\": [-78.91944971799516], \"mode\": \"markers\", \"text\": \"P7142143\", \"type\": \"scattergeo\"}, {\"lat\": [35.50349609250854], \"locationmode\": \"USA-states\", \"lon\": [-83.01661550653579], \"mode\": \"markers\", \"text\": \"P7142144\", \"type\": \"scattergeo\"}, {\"lat\": [34.66139077873191], \"locationmode\": \"USA-states\", \"lon\": [-82.0677193975522], \"mode\": \"markers\", \"text\": \"P7142146\", \"type\": \"scattergeo\"}, {\"lat\": [34.1176260502816], \"locationmode\": \"USA-states\", \"lon\": [-82.58184688090208], \"mode\": \"markers\", \"text\": \"P7142149\", \"type\": \"scattergeo\"}, {\"lat\": [36.06471532083525], \"locationmode\": \"USA-states\", \"lon\": [-78.28278443459338], \"mode\": \"markers\", \"text\": \"P7142150\", \"type\": \"scattergeo\"}, {\"lat\": [34.88711399013467], \"locationmode\": \"USA-states\", \"lon\": [-78.81024514064084], \"mode\": \"markers\", \"text\": \"P7142151\", \"type\": \"scattergeo\"}, {\"lat\": [34.04518093716923], \"locationmode\": \"USA-states\", \"lon\": [-78.90699795534785], \"mode\": \"markers\", \"text\": \"P7142152\", \"type\": \"scattergeo\"}, {\"lat\": [35.78814855888718], \"locationmode\": \"USA-states\", \"lon\": [-80.38381511800273], \"mode\": \"markers\", \"text\": \"P7142155\", \"type\": \"scattergeo\"}, {\"lat\": [35.78663351709214], \"locationmode\": \"USA-states\", \"lon\": [-78.6228873142615], \"mode\": \"markers\", \"text\": \"P7142156\", \"type\": \"scattergeo\"}, {\"lat\": [34.723442969662514], \"locationmode\": \"USA-states\", \"lon\": [-78.26233383143128], \"mode\": \"markers\", \"text\": \"P7142157\", \"type\": \"scattergeo\"}, {\"lat\": [34.29581690444187], \"locationmode\": \"USA-states\", \"lon\": [-78.97280207763242], \"mode\": \"markers\", \"text\": \"P7142200\", \"type\": \"scattergeo\"}, {\"lat\": [35.79459263822312], \"locationmode\": \"USA-states\", \"lon\": [-75.29351556614914], \"mode\": \"markers\", \"text\": \"P7142201\", \"type\": \"scattergeo\"}, {\"lat\": [36.12035143511074], \"locationmode\": \"USA-states\", \"lon\": [-83.90115464803259], \"mode\": \"markers\", \"text\": \"P7142203\", \"type\": \"scattergeo\"}, {\"lat\": [34.75676899454939], \"locationmode\": \"USA-states\", \"lon\": [-82.00837217141002], \"mode\": \"markers\", \"text\": \"P7142204\", \"type\": \"scattergeo\"}, {\"lat\": [34.484972136187785], \"locationmode\": \"USA-states\", \"lon\": [-79.5961723808906], \"mode\": \"markers\", \"text\": \"P7142208\", \"type\": \"scattergeo\"}], \"name\": \"07/14/2015\"}, {\"data\": [{\"lat\": [35.52884444809126], \"locationmode\": \"USA-states\", \"lon\": [-78.12991759637842], \"mode\": \"markers\", \"text\": \"P7152129\", \"type\": \"scattergeo\"}, {\"lat\": [33.91607156411463], \"locationmode\": \"USA-states\", \"lon\": [-83.96980581666384], \"mode\": \"markers\", \"text\": \"P7152130\", \"type\": \"scattergeo\"}, {\"lat\": [36.16918099551113], \"locationmode\": \"USA-states\", \"lon\": [-77.29813189956165], \"mode\": \"markers\", \"text\": \"P7152131\", \"type\": \"scattergeo\"}, {\"lat\": [35.42995153990535], \"locationmode\": \"USA-states\", \"lon\": [-79.25729339222902], \"mode\": \"markers\", \"text\": \"P7152132\", \"type\": \"scattergeo\"}, {\"lat\": [35.70863383994909], \"locationmode\": \"USA-states\", \"lon\": [-81.6255638981352], \"mode\": \"markers\", \"text\": \"P7152133\", \"type\": \"scattergeo\"}, {\"lat\": [34.58419357613284], \"locationmode\": \"USA-states\", \"lon\": [-81.59380941689922], \"mode\": \"markers\", \"text\": \"P7152134\", \"type\": \"scattergeo\"}, {\"lat\": [36.04544264614892], \"locationmode\": \"USA-states\", \"lon\": [-80.89768737987974], \"mode\": \"markers\", \"text\": \"P7152136\", \"type\": \"scattergeo\"}, {\"lat\": [35.42397059133622], \"locationmode\": \"USA-states\", \"lon\": [-78.6728052402295], \"mode\": \"markers\", \"text\": \"P7152137\", \"type\": \"scattergeo\"}, {\"lat\": [34.825359293078186], \"locationmode\": \"USA-states\", \"lon\": [-76.84796129539757], \"mode\": \"markers\", \"text\": \"P7152140\", \"type\": \"scattergeo\"}, {\"lat\": [34.51382503186768], \"locationmode\": \"USA-states\", \"lon\": [-78.84698396820605], \"mode\": \"markers\", \"text\": \"P7152142\", \"type\": \"scattergeo\"}, {\"lat\": [35.26236343202094], \"locationmode\": \"USA-states\", \"lon\": [-75.56573385201835], \"mode\": \"markers\", \"text\": \"P7152145\", \"type\": \"scattergeo\"}, {\"lat\": [33.99270996337671], \"locationmode\": \"USA-states\", \"lon\": [-76.31771108210664], \"mode\": \"markers\", \"text\": \"P7152147\", \"type\": \"scattergeo\"}, {\"lat\": [34.44404436862086], \"locationmode\": \"USA-states\", \"lon\": [-80.03864903367997], \"mode\": \"markers\", \"text\": \"P7152148\", \"type\": \"scattergeo\"}, {\"lat\": [36.14372702443022], \"locationmode\": \"USA-states\", \"lon\": [-81.7724068048739], \"mode\": \"markers\", \"text\": \"P7152152\", \"type\": \"scattergeo\"}, {\"lat\": [34.144886534203685], \"locationmode\": \"USA-states\", \"lon\": [-78.34233766893801], \"mode\": \"markers\", \"text\": \"P7152153\", \"type\": \"scattergeo\"}, {\"lat\": [34.247328744618756], \"locationmode\": \"USA-states\", \"lon\": [-77.09500071419156], \"mode\": \"markers\", \"text\": \"P7152154\", \"type\": \"scattergeo\"}, {\"lat\": [34.74380144802325], \"locationmode\": \"USA-states\", \"lon\": [-81.23826016809693], \"mode\": \"markers\", \"text\": \"P7152155\", \"type\": \"scattergeo\"}, {\"lat\": [34.990702061002445], \"locationmode\": \"USA-states\", \"lon\": [-77.94135382202853], \"mode\": \"markers\", \"text\": \"P7152156\", \"type\": \"scattergeo\"}, {\"lat\": [34.1818578072292], \"locationmode\": \"USA-states\", \"lon\": [-80.95867114751994], \"mode\": \"markers\", \"text\": \"P7152157\", \"type\": \"scattergeo\"}, {\"lat\": [35.69788750647158], \"locationmode\": \"USA-states\", \"lon\": [-75.91422763776703], \"mode\": \"markers\", \"text\": \"P7152158\", \"type\": \"scattergeo\"}, {\"lat\": [34.242166398037085], \"locationmode\": \"USA-states\", \"lon\": [-83.63360113873104], \"mode\": \"markers\", \"text\": \"P7152159\", \"type\": \"scattergeo\"}, {\"lat\": [35.81488087447379], \"locationmode\": \"USA-states\", \"lon\": [-80.24276040151253], \"mode\": \"markers\", \"text\": \"P7152201\", \"type\": \"scattergeo\"}, {\"lat\": [34.324431391705076], \"locationmode\": \"USA-states\", \"lon\": [-81.61007733436314], \"mode\": \"markers\", \"text\": \"P7152202\", \"type\": \"scattergeo\"}, {\"lat\": [36.26536122465248], \"locationmode\": \"USA-states\", \"lon\": [-76.05166807014525], \"mode\": \"markers\", \"text\": \"P7152203\", \"type\": \"scattergeo\"}, {\"lat\": [35.66269790435514], \"locationmode\": \"USA-states\", \"lon\": [-83.52298302862246], \"mode\": \"markers\", \"text\": \"P7152204\", \"type\": \"scattergeo\"}, {\"lat\": [35.32287515802067], \"locationmode\": \"USA-states\", \"lon\": [-78.34120702152569], \"mode\": \"markers\", \"text\": \"P7152207\", \"type\": \"scattergeo\"}, {\"lat\": [33.99199155655832], \"locationmode\": \"USA-states\", \"lon\": [-83.49319671087497], \"mode\": \"markers\", \"text\": \"P7152211\", \"type\": \"scattergeo\"}, {\"lat\": [35.639776880653436], \"locationmode\": \"USA-states\", \"lon\": [-78.16340394129978], \"mode\": \"markers\", \"text\": \"P7152213\", \"type\": \"scattergeo\"}, {\"lat\": [34.78967331664177], \"locationmode\": \"USA-states\", \"lon\": [-80.2398501081062], \"mode\": \"markers\", \"text\": \"P7152214\", \"type\": \"scattergeo\"}, {\"lat\": [35.13462682026623], \"locationmode\": \"USA-states\", \"lon\": [-79.75926827184522], \"mode\": \"markers\", \"text\": \"P7152215\", \"type\": \"scattergeo\"}], \"name\": \"07/15/2015\"}, {\"data\": [{\"lat\": [36.08917720705115], \"locationmode\": \"USA-states\", \"lon\": [-76.9604172022009], \"mode\": \"markers\", \"text\": \"P7162143\", \"type\": \"scattergeo\"}, {\"lat\": [35.77626945883866], \"locationmode\": \"USA-states\", \"lon\": [-82.73172803842483], \"mode\": \"markers\", \"text\": \"P7162145\", \"type\": \"scattergeo\"}, {\"lat\": [33.875455619140176], \"locationmode\": \"USA-states\", \"lon\": [-75.2680579580739], \"mode\": \"markers\", \"text\": \"P7162147\", \"type\": \"scattergeo\"}, {\"lat\": [34.076361629602665], \"locationmode\": \"USA-states\", \"lon\": [-82.89548245750866], \"mode\": \"markers\", \"text\": \"P7162148\", \"type\": \"scattergeo\"}, {\"lat\": [34.59669193154737], \"locationmode\": \"USA-states\", \"lon\": [-78.07466805760548], \"mode\": \"markers\", \"text\": \"P7162149\", \"type\": \"scattergeo\"}, {\"lat\": [35.74082381811956], \"locationmode\": \"USA-states\", \"lon\": [-75.60996037400731], \"mode\": \"markers\", \"text\": \"P7162150\", \"type\": \"scattergeo\"}, {\"lat\": [34.988137915395455], \"locationmode\": \"USA-states\", \"lon\": [-76.53567739047462], \"mode\": \"markers\", \"text\": \"P7162151\", \"type\": \"scattergeo\"}, {\"lat\": [35.53953390915182], \"locationmode\": \"USA-states\", \"lon\": [-77.31368473258956], \"mode\": \"markers\", \"text\": \"P7162152\", \"type\": \"scattergeo\"}, {\"lat\": [34.993322383064374], \"locationmode\": \"USA-states\", \"lon\": [-81.04120459923183], \"mode\": \"markers\", \"text\": \"P7162153\", \"type\": \"scattergeo\"}, {\"lat\": [34.59007890064511], \"locationmode\": \"USA-states\", \"lon\": [-83.10610863618209], \"mode\": \"markers\", \"text\": \"P7162154\", \"type\": \"scattergeo\"}, {\"lat\": [35.01267711544198], \"locationmode\": \"USA-states\", \"lon\": [-83.55764407879583], \"mode\": \"markers\", \"text\": \"P7162155\", \"type\": \"scattergeo\"}, {\"lat\": [35.55745184490627], \"locationmode\": \"USA-states\", \"lon\": [-79.05275009110362], \"mode\": \"markers\", \"text\": \"P7162157\", \"type\": \"scattergeo\"}, {\"lat\": [35.29641781393056], \"locationmode\": \"USA-states\", \"lon\": [-76.15055865709309], \"mode\": \"markers\", \"text\": \"P7162158\", \"type\": \"scattergeo\"}, {\"lat\": [35.80986278817281], \"locationmode\": \"USA-states\", \"lon\": [-83.56736724182049], \"mode\": \"markers\", \"text\": \"P7162159\", \"type\": \"scattergeo\"}, {\"lat\": [36.020800642520754], \"locationmode\": \"USA-states\", \"lon\": [-77.44166139510304], \"mode\": \"markers\", \"text\": \"P7162200\", \"type\": \"scattergeo\"}, {\"lat\": [35.83215625224792], \"locationmode\": \"USA-states\", \"lon\": [-80.86059260567463], \"mode\": \"markers\", \"text\": \"P7162201\", \"type\": \"scattergeo\"}, {\"lat\": [35.76689581928042], \"locationmode\": \"USA-states\", \"lon\": [-81.54949734175928], \"mode\": \"markers\", \"text\": \"P7162202\", \"type\": \"scattergeo\"}, {\"lat\": [36.23363075481497], \"locationmode\": \"USA-states\", \"lon\": [-79.96503446212428], \"mode\": \"markers\", \"text\": \"P7162203\", \"type\": \"scattergeo\"}, {\"lat\": [35.058973119832075], \"locationmode\": \"USA-states\", \"lon\": [-76.10730127809623], \"mode\": \"markers\", \"text\": \"P7162204\", \"type\": \"scattergeo\"}, {\"lat\": [35.964544103214024], \"locationmode\": \"USA-states\", \"lon\": [-76.51006919158061], \"mode\": \"markers\", \"text\": \"P7162207\", \"type\": \"scattergeo\"}, {\"lat\": [34.68602826413593], \"locationmode\": \"USA-states\", \"lon\": [-81.3530182566038], \"mode\": \"markers\", \"text\": \"P7162208\", \"type\": \"scattergeo\"}, {\"lat\": [34.364797255117594], \"locationmode\": \"USA-states\", \"lon\": [-78.97365680060027], \"mode\": \"markers\", \"text\": \"P7162211\", \"type\": \"scattergeo\"}, {\"lat\": [34.65314086905768], \"locationmode\": \"USA-states\", \"lon\": [-75.03468985296152], \"mode\": \"markers\", \"text\": \"P7162212\", \"type\": \"scattergeo\"}, {\"lat\": [35.249828836733215], \"locationmode\": \"USA-states\", \"lon\": [-82.66621481226515], \"mode\": \"markers\", \"text\": \"P7162214\", \"type\": \"scattergeo\"}, {\"lat\": [34.17881494633771], \"locationmode\": \"USA-states\", \"lon\": [-79.47747176361906], \"mode\": \"markers\", \"text\": \"P7162216\", \"type\": \"scattergeo\"}, {\"lat\": [34.380653290656554], \"locationmode\": \"USA-states\", \"lon\": [-82.44965193176527], \"mode\": \"markers\", \"text\": \"P7162219\", \"type\": \"scattergeo\"}, {\"lat\": [33.846575340241], \"locationmode\": \"USA-states\", \"lon\": [-82.46336934463989], \"mode\": \"markers\", \"text\": \"P7162220\", \"type\": \"scattergeo\"}, {\"lat\": [35.290356808888], \"locationmode\": \"USA-states\", \"lon\": [-81.497873956406], \"mode\": \"markers\", \"text\": \"P7162221\", \"type\": \"scattergeo\"}, {\"lat\": [36.13244203864155], \"locationmode\": \"USA-states\", \"lon\": [-76.89986500413515], \"mode\": \"markers\", \"text\": \"P7162223\", \"type\": \"scattergeo\"}, {\"lat\": [36.21747924979738], \"locationmode\": \"USA-states\", \"lon\": [-78.02662156714052], \"mode\": \"markers\", \"text\": \"P7162225\", \"type\": \"scattergeo\"}, {\"lat\": [36.14225554402212], \"locationmode\": \"USA-states\", \"lon\": [-76.03995017655107], \"mode\": \"markers\", \"text\": \"P7162227\", \"type\": \"scattergeo\"}, {\"lat\": [34.274935794677], \"locationmode\": \"USA-states\", \"lon\": [-75.86829582351115], \"mode\": \"markers\", \"text\": \"P7162228\", \"type\": \"scattergeo\"}, {\"lat\": [36.27628358338098], \"locationmode\": \"USA-states\", \"lon\": [-81.8285543796253], \"mode\": \"markers\", \"text\": \"P7162229\", \"type\": \"scattergeo\"}, {\"lat\": [34.94820798345222], \"locationmode\": \"USA-states\", \"lon\": [-83.71023086628045], \"mode\": \"markers\", \"text\": \"P7162230\", \"type\": \"scattergeo\"}, {\"lat\": [34.07956403618892], \"locationmode\": \"USA-states\", \"lon\": [-82.97188480240982], \"mode\": \"markers\", \"text\": \"P7162231\", \"type\": \"scattergeo\"}, {\"lat\": [34.7268676102614], \"locationmode\": \"USA-states\", \"lon\": [-78.49416130262361], \"mode\": \"markers\", \"text\": \"P7162234\", \"type\": \"scattergeo\"}, {\"lat\": [34.03848725137096], \"locationmode\": \"USA-states\", \"lon\": [-77.5683441186629], \"mode\": \"markers\", \"text\": \"P7162235\", \"type\": \"scattergeo\"}, {\"lat\": [34.206381144763995], \"locationmode\": \"USA-states\", \"lon\": [-81.56147027833859], \"mode\": \"markers\", \"text\": \"P7162236\", \"type\": \"scattergeo\"}], \"name\": \"07/16/2015\"}, {\"data\": [{\"lat\": [34.9721008655769], \"locationmode\": \"USA-states\", \"lon\": [-82.54738673828692], \"mode\": \"markers\", \"text\": \"P7172114\", \"type\": \"scattergeo\"}, {\"lat\": [35.77735991580601], \"locationmode\": \"USA-states\", \"lon\": [-80.96655109580564], \"mode\": \"markers\", \"text\": \"P7172117\", \"type\": \"scattergeo\"}, {\"lat\": [34.481990840991344], \"locationmode\": \"USA-states\", \"lon\": [-78.17429326021751], \"mode\": \"markers\", \"text\": \"P7172118\", \"type\": \"scattergeo\"}, {\"lat\": [35.35309868521998], \"locationmode\": \"USA-states\", \"lon\": [-76.49617162800917], \"mode\": \"markers\", \"text\": \"P7172122\", \"type\": \"scattergeo\"}, {\"lat\": [35.18821286319712], \"locationmode\": \"USA-states\", \"lon\": [-79.73470198259855], \"mode\": \"markers\", \"text\": \"P7172124\", \"type\": \"scattergeo\"}, {\"lat\": [33.98592586354293], \"locationmode\": \"USA-states\", \"lon\": [-83.34978672777484], \"mode\": \"markers\", \"text\": \"P7172131\", \"type\": \"scattergeo\"}, {\"lat\": [36.147891728167586], \"locationmode\": \"USA-states\", \"lon\": [-78.84336682888647], \"mode\": \"markers\", \"text\": \"P7172133\", \"type\": \"scattergeo\"}, {\"lat\": [35.59602612654565], \"locationmode\": \"USA-states\", \"lon\": [-77.54462184949026], \"mode\": \"markers\", \"text\": \"P7172135\", \"type\": \"scattergeo\"}, {\"lat\": [35.7968917954956], \"locationmode\": \"USA-states\", \"lon\": [-83.98711942861841], \"mode\": \"markers\", \"text\": \"P7172136\", \"type\": \"scattergeo\"}, {\"lat\": [36.2037722542066], \"locationmode\": \"USA-states\", \"lon\": [-76.54254843870689], \"mode\": \"markers\", \"text\": \"P7172138\", \"type\": \"scattergeo\"}, {\"lat\": [35.642848593410676], \"locationmode\": \"USA-states\", \"lon\": [-76.76532522035185], \"mode\": \"markers\", \"text\": \"P7172139\", \"type\": \"scattergeo\"}, {\"lat\": [34.7751010799558], \"locationmode\": \"USA-states\", \"lon\": [-82.38572660034198], \"mode\": \"markers\", \"text\": \"P7172141\", \"type\": \"scattergeo\"}, {\"lat\": [35.468914057471345], \"locationmode\": \"USA-states\", \"lon\": [-78.17719738254661], \"mode\": \"markers\", \"text\": \"P7172142\", \"type\": \"scattergeo\"}, {\"lat\": [34.46741494339872], \"locationmode\": \"USA-states\", \"lon\": [-81.42264344914464], \"mode\": \"markers\", \"text\": \"P7172143\", \"type\": \"scattergeo\"}, {\"lat\": [34.29847918434488], \"locationmode\": \"USA-states\", \"lon\": [-82.9039677870823], \"mode\": \"markers\", \"text\": \"P7172147\", \"type\": \"scattergeo\"}, {\"lat\": [33.986695870558265], \"locationmode\": \"USA-states\", \"lon\": [-80.57788200005552], \"mode\": \"markers\", \"text\": \"P7172149\", \"type\": \"scattergeo\"}, {\"lat\": [35.65274591243234], \"locationmode\": \"USA-states\", \"lon\": [-79.25730486476184], \"mode\": \"markers\", \"text\": \"P7172154\", \"type\": \"scattergeo\"}, {\"lat\": [34.059519205939154], \"locationmode\": \"USA-states\", \"lon\": [-78.18539494454932], \"mode\": \"markers\", \"text\": \"P7172155\", \"type\": \"scattergeo\"}, {\"lat\": [34.30485471389379], \"locationmode\": \"USA-states\", \"lon\": [-76.55323911911731], \"mode\": \"markers\", \"text\": \"P7172157\", \"type\": \"scattergeo\"}, {\"lat\": [35.44587685615132], \"locationmode\": \"USA-states\", \"lon\": [-80.29324703331869], \"mode\": \"markers\", \"text\": \"P7172200\", \"type\": \"scattergeo\"}, {\"lat\": [35.450692537902675], \"locationmode\": \"USA-states\", \"lon\": [-81.07300408522003], \"mode\": \"markers\", \"text\": \"P7172201\", \"type\": \"scattergeo\"}, {\"lat\": [34.873661069652876], \"locationmode\": \"USA-states\", \"lon\": [-77.58984543375615], \"mode\": \"markers\", \"text\": \"P7172203\", \"type\": \"scattergeo\"}], \"name\": \"07/17/2015\"}, {\"data\": [{\"lat\": [35.04780850550715], \"locationmode\": \"USA-states\", \"lon\": [-83.27577527801847], \"mode\": \"markers\", \"text\": \"P7182113\", \"type\": \"scattergeo\"}, {\"lat\": [34.046414152652055], \"locationmode\": \"USA-states\", \"lon\": [-78.79810097951672], \"mode\": \"markers\", \"text\": \"P7182114\", \"type\": \"scattergeo\"}, {\"lat\": [35.88978837184515], \"locationmode\": \"USA-states\", \"lon\": [-75.14733268929758], \"mode\": \"markers\", \"text\": \"P7182119\", \"type\": \"scattergeo\"}, {\"lat\": [35.4980062685139], \"locationmode\": \"USA-states\", \"lon\": [-78.05864411370843], \"mode\": \"markers\", \"text\": \"P7182120\", \"type\": \"scattergeo\"}, {\"lat\": [35.53100908325278], \"locationmode\": \"USA-states\", \"lon\": [-81.14946493643615], \"mode\": \"markers\", \"text\": \"P7182124\", \"type\": \"scattergeo\"}, {\"lat\": [36.30275755553496], \"locationmode\": \"USA-states\", \"lon\": [-77.16293937590285], \"mode\": \"markers\", \"text\": \"P7182125\", \"type\": \"scattergeo\"}, {\"lat\": [35.71056939831269], \"locationmode\": \"USA-states\", \"lon\": [-77.55373538029474], \"mode\": \"markers\", \"text\": \"P7182129\", \"type\": \"scattergeo\"}, {\"lat\": [35.6096758594241], \"locationmode\": \"USA-states\", \"lon\": [-76.30352595316509], \"mode\": \"markers\", \"text\": \"P7182131\", \"type\": \"scattergeo\"}, {\"lat\": [36.260427407186725], \"locationmode\": \"USA-states\", \"lon\": [-80.40899798012443], \"mode\": \"markers\", \"text\": \"P7182134\", \"type\": \"scattergeo\"}, {\"lat\": [35.82533934918135], \"locationmode\": \"USA-states\", \"lon\": [-83.42470778060701], \"mode\": \"markers\", \"text\": \"P7182135\", \"type\": \"scattergeo\"}, {\"lat\": [34.58277044493029], \"locationmode\": \"USA-states\", \"lon\": [-76.48755108623895], \"mode\": \"markers\", \"text\": \"P7182137\", \"type\": \"scattergeo\"}, {\"lat\": [34.91977856579344], \"locationmode\": \"USA-states\", \"lon\": [-77.46049077297093], \"mode\": \"markers\", \"text\": \"P7182138\", \"type\": \"scattergeo\"}, {\"lat\": [34.16460821460803], \"locationmode\": \"USA-states\", \"lon\": [-79.3073347773277], \"mode\": \"markers\", \"text\": \"P7182139\", \"type\": \"scattergeo\"}, {\"lat\": [34.707965391325025], \"locationmode\": \"USA-states\", \"lon\": [-75.1150973760432], \"mode\": \"markers\", \"text\": \"P7182141\", \"type\": \"scattergeo\"}, {\"lat\": [36.13858441316217], \"locationmode\": \"USA-states\", \"lon\": [-83.04762106348888], \"mode\": \"markers\", \"text\": \"P7182142\", \"type\": \"scattergeo\"}, {\"lat\": [34.57658413339434], \"locationmode\": \"USA-states\", \"lon\": [-77.06009955322108], \"mode\": \"markers\", \"text\": \"P7182144\", \"type\": \"scattergeo\"}, {\"lat\": [34.320609447784825], \"locationmode\": \"USA-states\", \"lon\": [-76.82529047917858], \"mode\": \"markers\", \"text\": \"P7182146\", \"type\": \"scattergeo\"}, {\"lat\": [35.51807677029378], \"locationmode\": \"USA-states\", \"lon\": [-78.5483183243435], \"mode\": \"markers\", \"text\": \"P7182147\", \"type\": \"scattergeo\"}, {\"lat\": [35.221312893429605], \"locationmode\": \"USA-states\", \"lon\": [-78.47988044025206], \"mode\": \"markers\", \"text\": \"P7182150\", \"type\": \"scattergeo\"}, {\"lat\": [35.50109823569727], \"locationmode\": \"USA-states\", \"lon\": [-75.42935072221188], \"mode\": \"markers\", \"text\": \"P7182154\", \"type\": \"scattergeo\"}, {\"lat\": [35.5755229439434], \"locationmode\": \"USA-states\", \"lon\": [-81.25832713947518], \"mode\": \"markers\", \"text\": \"P7182157\", \"type\": \"scattergeo\"}], \"name\": \"07/18/2015\"}, {\"data\": [{\"lat\": [33.83705852980283], \"locationmode\": \"USA-states\", \"lon\": [-82.11590678872469], \"mode\": \"markers\", \"text\": \"56110631\", \"type\": \"scattergeo\"}, {\"lat\": [35.15575489739699], \"locationmode\": \"USA-states\", \"lon\": [-81.24344425656956], \"mode\": \"markers\", \"text\": \"56110632\", \"type\": \"scattergeo\"}, {\"lat\": [36.28788246628074], \"locationmode\": \"USA-states\", \"lon\": [-75.16326131191313], \"mode\": \"markers\", \"text\": \"56110634\", \"type\": \"scattergeo\"}, {\"lat\": [34.99004358719265], \"locationmode\": \"USA-states\", \"lon\": [-80.89621165269914], \"mode\": \"markers\", \"text\": \"56110638\", \"type\": \"scattergeo\"}, {\"lat\": [35.78309473349381], \"locationmode\": \"USA-states\", \"lon\": [-80.55705270565873], \"mode\": \"markers\", \"text\": \"56110639\", \"type\": \"scattergeo\"}, {\"lat\": [35.28268633194046], \"locationmode\": \"USA-states\", \"lon\": [-78.06999405423537], \"mode\": \"markers\", \"text\": \"56110641\", \"type\": \"scattergeo\"}, {\"lat\": [33.89206287049396], \"locationmode\": \"USA-states\", \"lon\": [-75.16645506666926], \"mode\": \"markers\", \"text\": \"56110642\", \"type\": \"scattergeo\"}, {\"lat\": [34.01442762940782], \"locationmode\": \"USA-states\", \"lon\": [-79.52611628611075], \"mode\": \"markers\", \"text\": \"56110643\", \"type\": \"scattergeo\"}, {\"lat\": [35.75957407761519], \"locationmode\": \"USA-states\", \"lon\": [-77.46470346045417], \"mode\": \"markers\", \"text\": \"56110645\", \"type\": \"scattergeo\"}, {\"lat\": [35.873388475796844], \"locationmode\": \"USA-states\", \"lon\": [-81.30270218062208], \"mode\": \"markers\", \"text\": \"56110646\", \"type\": \"scattergeo\"}, {\"lat\": [36.02490284142198], \"locationmode\": \"USA-states\", \"lon\": [-75.31226681486287], \"mode\": \"markers\", \"text\": \"56110649\", \"type\": \"scattergeo\"}, {\"lat\": [34.008153317270896], \"locationmode\": \"USA-states\", \"lon\": [-79.87607294196931], \"mode\": \"markers\", \"text\": \"56110650\", \"type\": \"scattergeo\"}, {\"lat\": [35.72407191046301], \"locationmode\": \"USA-states\", \"lon\": [-76.21600214857368], \"mode\": \"markers\", \"text\": \"56110651\", \"type\": \"scattergeo\"}, {\"lat\": [35.17071442664062], \"locationmode\": \"USA-states\", \"lon\": [-81.80619297802096], \"mode\": \"markers\", \"text\": \"56110653\", \"type\": \"scattergeo\"}, {\"lat\": [35.23439261746662], \"locationmode\": \"USA-states\", \"lon\": [-82.47109967553207], \"mode\": \"markers\", \"text\": \"56110654\", \"type\": \"scattergeo\"}, {\"lat\": [34.63410745266668], \"locationmode\": \"USA-states\", \"lon\": [-77.47022866238544], \"mode\": \"markers\", \"text\": \"56110655\", \"type\": \"scattergeo\"}, {\"lat\": [34.39822586193108], \"locationmode\": \"USA-states\", \"lon\": [-80.21789151215441], \"mode\": \"markers\", \"text\": \"56110656\", \"type\": \"scattergeo\"}, {\"lat\": [34.69899510598052], \"locationmode\": \"USA-states\", \"lon\": [-80.98078330354545], \"mode\": \"markers\", \"text\": \"56110704\", \"type\": \"scattergeo\"}, {\"lat\": [35.535461944595745], \"locationmode\": \"USA-states\", \"lon\": [-80.58300824956117], \"mode\": \"markers\", \"text\": \"56110706\", \"type\": \"scattergeo\"}, {\"lat\": [33.88969092585936], \"locationmode\": \"USA-states\", \"lon\": [-81.2461866992324], \"mode\": \"markers\", \"text\": \"56110708\", \"type\": \"scattergeo\"}, {\"lat\": [36.12101028900812], \"locationmode\": \"USA-states\", \"lon\": [-78.5393948959555], \"mode\": \"markers\", \"text\": \"56110710\", \"type\": \"scattergeo\"}, {\"lat\": [35.81917456170754], \"locationmode\": \"USA-states\", \"lon\": [-81.90470196873667], \"mode\": \"markers\", \"text\": \"56110713\", \"type\": \"scattergeo\"}, {\"lat\": [36.173384448973856], \"locationmode\": \"USA-states\", \"lon\": [-82.20951238288218], \"mode\": \"markers\", \"text\": \"56110716\", \"type\": \"scattergeo\"}, {\"lat\": [34.33974224788509], \"locationmode\": \"USA-states\", \"lon\": [-79.79750452471237], \"mode\": \"markers\", \"text\": \"56110720\", \"type\": \"scattergeo\"}, {\"lat\": [33.995492061538364], \"locationmode\": \"USA-states\", \"lon\": [-78.22446651623751], \"mode\": \"markers\", \"text\": \"56110728\", \"type\": \"scattergeo\"}], \"name\": \"06/11/2756\"}]);}).then(function(){Plotly.animate('bc644c03-b6c9-4ea9-a11d-2fd7161f84bb');})\n",
       "        });</script>"
      ],
      "text/vnd.plotly.v1+html": [
       "<div id=\"bc644c03-b6c9-4ea9-a11d-2fd7161f84bb\" style=\"height: 525px; width: 100%;\" class=\"plotly-graph-div\"></div><script type=\"text/javascript\">require([\"plotly\"], function(Plotly) { window.PLOTLYENV=window.PLOTLYENV || {};window.PLOTLYENV.BASE_URL=\"https://plot.ly\";\n",
       "        Plotly.plot(\n",
       "            'bc644c03-b6c9-4ea9-a11d-2fd7161f84bb',\n",
       "            [{\"lat\": [35.80360355772494, 35.059969561602706, 36.298655441580415, 33.91932108300222, 35.4914586313035, 35.827046010222084, 35.86265523810297, 34.74989602725628, 34.04065499040078, 36.02434265515853, 35.91665132325553, 34.37170243430659, 34.88515387482529, 34.178620681541005, 35.86878412988697, 34.50837687436904], \"locationmode\": \"USA-states\", \"lon\": [-81.30704502251285, -83.5559782876252, -77.6148676500841, -79.75607390319348, -75.18230048758838, -83.56110349202669, -81.3122781400178, -81.5795779640216, -79.10392540764525, -77.90983599918289, -75.73704516341678, -77.22754720729547, -79.84453688310666, -75.17882964855065, -78.30250566357017, -75.75253592779431], \"mode\": \"markers\", \"type\": \"scattergeo\", \"uid\": \"2ff31d28-5127-11e9-9287-5cf37071266d\"}],\n",
       "            {\"geo\": {\"countrycolor\": \"rgb(217, 217, 217)\", \"countrywidth\": 0.5, \"landcolor\": \"rgb(250, 250, 250)\", \"projection\": {\"type\": \"albers usa\"}, \"scope\": \"usa\", \"showland\": true, \"subunitcolor\": \"rgb(217, 217, 217)\", \"subunitwidth\": 0.5}, \"hovermode\": \"closest\", \"sliders\": [{\"active\": 0, \"currentvalue\": {\"font\": {\"size\": 18}, \"prefix\": \"Date: \", \"visible\": true, \"xanchor\": \"right\"}, \"len\": 0.9, \"pad\": {\"b\": 10, \"t\": 50}, \"steps\": [{\"args\": [[\"06/01/2015\"], {\"frame\": {\"duration\": 300, \"redraw\": false}, \"mode\": \"immediate\", \"transition\": {\"duration\": 300}}], \"label\": \"06/01/2015\", \"method\": \"animate\"}, {\"args\": [[\"06/02/2015\"], {\"frame\": {\"duration\": 300, \"redraw\": false}, \"mode\": \"immediate\", \"transition\": {\"duration\": 300}}], \"label\": \"06/02/2015\", \"method\": \"animate\"}, {\"args\": [[\"06/03/2015\"], {\"frame\": {\"duration\": 300, \"redraw\": false}, \"mode\": \"immediate\", \"transition\": {\"duration\": 300}}], \"label\": \"06/03/2015\", \"method\": \"animate\"}, {\"args\": [[\"06/05/2015\"], {\"frame\": {\"duration\": 300, \"redraw\": false}, \"mode\": \"immediate\", \"transition\": {\"duration\": 300}}], \"label\": \"06/05/2015\", \"method\": \"animate\"}, {\"args\": [[\"06/06/2015\"], {\"frame\": {\"duration\": 300, \"redraw\": false}, \"mode\": \"immediate\", \"transition\": {\"duration\": 300}}], \"label\": \"06/06/2015\", \"method\": \"animate\"}, {\"args\": [[\"06/07/2015\"], {\"frame\": {\"duration\": 300, \"redraw\": false}, \"mode\": \"immediate\", \"transition\": {\"duration\": 300}}], \"label\": \"06/07/2015\", \"method\": \"animate\"}, {\"args\": [[\"06/08/2015\"], {\"frame\": {\"duration\": 300, \"redraw\": false}, \"mode\": \"immediate\", \"transition\": {\"duration\": 300}}], \"label\": \"06/08/2015\", \"method\": \"animate\"}, {\"args\": [[\"06/09/2015\"], {\"frame\": {\"duration\": 300, \"redraw\": false}, \"mode\": \"immediate\", \"transition\": {\"duration\": 300}}], \"label\": \"06/09/2015\", \"method\": \"animate\"}, {\"args\": [[\"06/12/2015\"], {\"frame\": {\"duration\": 300, \"redraw\": false}, \"mode\": \"immediate\", \"transition\": {\"duration\": 300}}], \"label\": \"06/12/2015\", \"method\": \"animate\"}, {\"args\": [[\"06/13/2015\"], {\"frame\": {\"duration\": 300, \"redraw\": false}, \"mode\": \"immediate\", \"transition\": {\"duration\": 300}}], \"label\": \"06/13/2015\", \"method\": \"animate\"}, {\"args\": [[\"06/14/2015\"], {\"frame\": {\"duration\": 300, \"redraw\": false}, \"mode\": \"immediate\", \"transition\": {\"duration\": 300}}], \"label\": \"06/14/2015\", \"method\": \"animate\"}, {\"args\": [[\"06/15/2015\"], {\"frame\": {\"duration\": 300, \"redraw\": false}, \"mode\": \"immediate\", \"transition\": {\"duration\": 300}}], \"label\": \"06/15/2015\", \"method\": \"animate\"}, {\"args\": [[\"06/17/2015\"], {\"frame\": {\"duration\": 300, \"redraw\": false}, \"mode\": \"immediate\", \"transition\": {\"duration\": 300}}], \"label\": \"06/17/2015\", \"method\": \"animate\"}, {\"args\": [[\"06/18/2015\"], {\"frame\": {\"duration\": 300, \"redraw\": false}, \"mode\": \"immediate\", \"transition\": {\"duration\": 300}}], \"label\": \"06/18/2015\", \"method\": \"animate\"}, {\"args\": [[\"06/19/2015\"], {\"frame\": {\"duration\": 300, \"redraw\": false}, \"mode\": \"immediate\", \"transition\": {\"duration\": 300}}], \"label\": \"06/19/2015\", \"method\": \"animate\"}, {\"args\": [[\"06/20/2015\"], {\"frame\": {\"duration\": 300, \"redraw\": false}, \"mode\": \"immediate\", \"transition\": {\"duration\": 300}}], \"label\": \"06/20/2015\", \"method\": \"animate\"}, {\"args\": [[\"06/21/2015\"], {\"frame\": {\"duration\": 300, \"redraw\": false}, \"mode\": \"immediate\", \"transition\": {\"duration\": 300}}], \"label\": \"06/21/2015\", \"method\": \"animate\"}, {\"args\": [[\"06/22/2015\"], {\"frame\": {\"duration\": 300, \"redraw\": false}, \"mode\": \"immediate\", \"transition\": {\"duration\": 300}}], \"label\": \"06/22/2015\", \"method\": \"animate\"}, {\"args\": [[\"06/23/2015\"], {\"frame\": {\"duration\": 300, \"redraw\": false}, \"mode\": \"immediate\", \"transition\": {\"duration\": 300}}], \"label\": \"06/23/2015\", \"method\": \"animate\"}, {\"args\": [[\"06/24/2015\"], {\"frame\": {\"duration\": 300, \"redraw\": false}, \"mode\": \"immediate\", \"transition\": {\"duration\": 300}}], \"label\": \"06/24/2015\", \"method\": \"animate\"}, {\"args\": [[\"06/25/2015\"], {\"frame\": {\"duration\": 300, \"redraw\": false}, \"mode\": \"immediate\", \"transition\": {\"duration\": 300}}], \"label\": \"06/25/2015\", \"method\": \"animate\"}, {\"args\": [[\"06/26/2015\"], {\"frame\": {\"duration\": 300, \"redraw\": false}, \"mode\": \"immediate\", \"transition\": {\"duration\": 300}}], \"label\": \"06/26/2015\", \"method\": \"animate\"}, {\"args\": [[\"06/27/2015\"], {\"frame\": {\"duration\": 300, \"redraw\": false}, \"mode\": \"immediate\", \"transition\": {\"duration\": 300}}], \"label\": \"06/27/2015\", \"method\": \"animate\"}, {\"args\": [[\"06/30/2015\"], {\"frame\": {\"duration\": 300, \"redraw\": false}, \"mode\": \"immediate\", \"transition\": {\"duration\": 300}}], \"label\": \"06/30/2015\", \"method\": \"animate\"}, {\"args\": [[\"07/01/2015\"], {\"frame\": {\"duration\": 300, \"redraw\": false}, \"mode\": \"immediate\", \"transition\": {\"duration\": 300}}], \"label\": \"07/01/2015\", \"method\": \"animate\"}, {\"args\": [[\"07/03/2015\"], {\"frame\": {\"duration\": 300, \"redraw\": false}, \"mode\": \"immediate\", \"transition\": {\"duration\": 300}}], \"label\": \"07/03/2015\", \"method\": \"animate\"}, {\"args\": [[\"07/05/2015\"], {\"frame\": {\"duration\": 300, \"redraw\": false}, \"mode\": \"immediate\", \"transition\": {\"duration\": 300}}], \"label\": \"07/05/2015\", \"method\": \"animate\"}, {\"args\": [[\"07/06/2015\"], {\"frame\": {\"duration\": 300, \"redraw\": false}, \"mode\": \"immediate\", \"transition\": {\"duration\": 300}}], \"label\": \"07/06/2015\", \"method\": \"animate\"}, {\"args\": [[\"07/08/2015\"], {\"frame\": {\"duration\": 300, \"redraw\": false}, \"mode\": \"immediate\", \"transition\": {\"duration\": 300}}], \"label\": \"07/08/2015\", \"method\": \"animate\"}, {\"args\": [[\"07/09/2015\"], {\"frame\": {\"duration\": 300, \"redraw\": false}, \"mode\": \"immediate\", \"transition\": {\"duration\": 300}}], \"label\": \"07/09/2015\", \"method\": \"animate\"}, {\"args\": [[\"07/10/2015\"], {\"frame\": {\"duration\": 300, \"redraw\": false}, \"mode\": \"immediate\", \"transition\": {\"duration\": 300}}], \"label\": \"07/10/2015\", \"method\": \"animate\"}, {\"args\": [[\"07/11/2015\"], {\"frame\": {\"duration\": 300, \"redraw\": false}, \"mode\": \"immediate\", \"transition\": {\"duration\": 300}}], \"label\": \"07/11/2015\", \"method\": \"animate\"}, {\"args\": [[\"07/12/2015\"], {\"frame\": {\"duration\": 300, \"redraw\": false}, \"mode\": \"immediate\", \"transition\": {\"duration\": 300}}], \"label\": \"07/12/2015\", \"method\": \"animate\"}, {\"args\": [[\"07/14/2015\"], {\"frame\": {\"duration\": 300, \"redraw\": false}, \"mode\": \"immediate\", \"transition\": {\"duration\": 300}}], \"label\": \"07/14/2015\", \"method\": \"animate\"}, {\"args\": [[\"07/15/2015\"], {\"frame\": {\"duration\": 300, \"redraw\": false}, \"mode\": \"immediate\", \"transition\": {\"duration\": 300}}], \"label\": \"07/15/2015\", \"method\": \"animate\"}, {\"args\": [[\"07/16/2015\"], {\"frame\": {\"duration\": 300, \"redraw\": false}, \"mode\": \"immediate\", \"transition\": {\"duration\": 300}}], \"label\": \"07/16/2015\", \"method\": \"animate\"}, {\"args\": [[\"07/17/2015\"], {\"frame\": {\"duration\": 300, \"redraw\": false}, \"mode\": \"immediate\", \"transition\": {\"duration\": 300}}], \"label\": \"07/17/2015\", \"method\": \"animate\"}, {\"args\": [[\"07/18/2015\"], {\"frame\": {\"duration\": 300, \"redraw\": false}, \"mode\": \"immediate\", \"transition\": {\"duration\": 300}}], \"label\": \"07/18/2015\", \"method\": \"animate\"}, {\"args\": [[\"06/11/2756\"], {\"frame\": {\"duration\": 300, \"redraw\": false}, \"mode\": \"immediate\", \"transition\": {\"duration\": 300}}], \"label\": \"06/11/2756\", \"method\": \"animate\"}], \"transition\": {\"duration\": 300, \"easing\": \"cubic-in-out\"}, \"x\": 0.1, \"xanchor\": \"left\", \"y\": 0, \"yanchor\": \"top\"}], \"updatemenus\": [{\"buttons\": [{\"args\": [null, {\"frame\": {\"duration\": 500, \"redraw\": false}, \"fromcurrent\": true, \"transition\": {\"duration\": 300, \"easing\": \"quadratic-in-out\"}}], \"label\": \"Play\", \"method\": \"animate\"}, {\"args\": [[null], {\"frame\": {\"duration\": 0, \"redraw\": false}, \"mode\": \"immediate\", \"transition\": {\"duration\": 0}}], \"label\": \"Pause\", \"method\": \"animate\"}], \"direction\": \"left\", \"pad\": {\"r\": 10, \"t\": 87}, \"showactive\": false, \"type\": \"buttons\", \"x\": 0.1, \"xanchor\": \"right\", \"y\": 0, \"yanchor\": \"top\"}]},\n",
       "            {\"showLink\": true, \"linkText\": \"Export to plot.ly\"}\n",
       "        ).then(function () {return Plotly.addFrames('bc644c03-b6c9-4ea9-a11d-2fd7161f84bb',[{\"data\": [{\"lat\": [35.80360355772494], \"locationmode\": \"USA-states\", \"lon\": [-81.30704502251285], \"mode\": \"markers\", \"text\": \"P6012100\", \"type\": \"scattergeo\"}, {\"lat\": [35.059969561602706], \"locationmode\": \"USA-states\", \"lon\": [-83.5559782876252], \"mode\": \"markers\", \"text\": \"P6012101\", \"type\": \"scattergeo\"}, {\"lat\": [36.298655441580415], \"locationmode\": \"USA-states\", \"lon\": [-77.6148676500841], \"mode\": \"markers\", \"text\": \"P6012108\", \"type\": \"scattergeo\"}, {\"lat\": [33.91932108300222], \"locationmode\": \"USA-states\", \"lon\": [-79.75607390319348], \"mode\": \"markers\", \"text\": \"P6012112\", \"type\": \"scattergeo\"}, {\"lat\": [35.4914586313035], \"locationmode\": \"USA-states\", \"lon\": [-75.18230048758838], \"mode\": \"markers\", \"text\": \"P6012114\", \"type\": \"scattergeo\"}, {\"lat\": [35.827046010222084], \"locationmode\": \"USA-states\", \"lon\": [-83.56110349202669], \"mode\": \"markers\", \"text\": \"P6012116\", \"type\": \"scattergeo\"}, {\"lat\": [35.86265523810297], \"locationmode\": \"USA-states\", \"lon\": [-81.3122781400178], \"mode\": \"markers\", \"text\": \"P6012118\", \"type\": \"scattergeo\"}, {\"lat\": [34.74989602725628], \"locationmode\": \"USA-states\", \"lon\": [-81.5795779640216], \"mode\": \"markers\", \"text\": \"P6012122\", \"type\": \"scattergeo\"}, {\"lat\": [34.04065499040078], \"locationmode\": \"USA-states\", \"lon\": [-79.10392540764525], \"mode\": \"markers\", \"text\": \"P6012123\", \"type\": \"scattergeo\"}, {\"lat\": [36.02434265515853], \"locationmode\": \"USA-states\", \"lon\": [-77.90983599918289], \"mode\": \"markers\", \"text\": \"P6012126\", \"type\": \"scattergeo\"}, {\"lat\": [35.91665132325553], \"locationmode\": \"USA-states\", \"lon\": [-75.73704516341678], \"mode\": \"markers\", \"text\": \"P6012127\", \"type\": \"scattergeo\"}, {\"lat\": [34.37170243430659], \"locationmode\": \"USA-states\", \"lon\": [-77.22754720729547], \"mode\": \"markers\", \"text\": \"P6012129\", \"type\": \"scattergeo\"}, {\"lat\": [34.88515387482529], \"locationmode\": \"USA-states\", \"lon\": [-79.84453688310666], \"mode\": \"markers\", \"text\": \"P6012130\", \"type\": \"scattergeo\"}, {\"lat\": [34.178620681541005], \"locationmode\": \"USA-states\", \"lon\": [-75.17882964855065], \"mode\": \"markers\", \"text\": \"P6012131\", \"type\": \"scattergeo\"}, {\"lat\": [35.86878412988697], \"locationmode\": \"USA-states\", \"lon\": [-78.30250566357017], \"mode\": \"markers\", \"text\": \"P6012134\", \"type\": \"scattergeo\"}, {\"lat\": [34.50837687436904], \"locationmode\": \"USA-states\", \"lon\": [-75.75253592779431], \"mode\": \"markers\", \"text\": \"P6012143\", \"type\": \"scattergeo\"}], \"name\": \"06/01/2015\"}, {\"data\": [{\"lat\": [34.27062721905081], \"locationmode\": \"USA-states\", \"lon\": [-79.77036880743694], \"mode\": \"markers\", \"text\": \"P6022106\", \"type\": \"scattergeo\"}, {\"lat\": [34.36165846449161], \"locationmode\": \"USA-states\", \"lon\": [-76.81061647897549], \"mode\": \"markers\", \"text\": \"P6022112\", \"type\": \"scattergeo\"}, {\"lat\": [35.88158699579771], \"locationmode\": \"USA-states\", \"lon\": [-75.77100525815425], \"mode\": \"markers\", \"text\": \"P6022115\", \"type\": \"scattergeo\"}, {\"lat\": [36.029203590222856], \"locationmode\": \"USA-states\", \"lon\": [-77.505860933408], \"mode\": \"markers\", \"text\": \"P6022118\", \"type\": \"scattergeo\"}, {\"lat\": [34.8874524125136], \"locationmode\": \"USA-states\", \"lon\": [-78.65133942669303], \"mode\": \"markers\", \"text\": \"P6022130\", \"type\": \"scattergeo\"}, {\"lat\": [35.09793175119964], \"locationmode\": \"USA-states\", \"lon\": [-79.995659367837], \"mode\": \"markers\", \"text\": \"P6022135\", \"type\": \"scattergeo\"}, {\"lat\": [35.54660837957739], \"locationmode\": \"USA-states\", \"lon\": [-80.78174606159838], \"mode\": \"markers\", \"text\": \"P6022137\", \"type\": \"scattergeo\"}, {\"lat\": [35.129990584411146], \"locationmode\": \"USA-states\", \"lon\": [-78.84404446533296], \"mode\": \"markers\", \"text\": \"P6022147\", \"type\": \"scattergeo\"}], \"name\": \"06/02/2015\"}, {\"data\": [{\"lat\": [35.84872761448234], \"locationmode\": \"USA-states\", \"lon\": [-80.79841031957086], \"mode\": \"markers\", \"text\": \"P6032107\", \"type\": \"scattergeo\"}, {\"lat\": [33.95725638911086], \"locationmode\": \"USA-states\", \"lon\": [-83.19697419897946], \"mode\": \"markers\", \"text\": \"P6032108\", \"type\": \"scattergeo\"}, {\"lat\": [35.532562563759605], \"locationmode\": \"USA-states\", \"lon\": [-75.90344895267472], \"mode\": \"markers\", \"text\": \"P6032114\", \"type\": \"scattergeo\"}, {\"lat\": [34.074530779723176], \"locationmode\": \"USA-states\", \"lon\": [-82.25143605377598], \"mode\": \"markers\", \"text\": \"P6032115\", \"type\": \"scattergeo\"}, {\"lat\": [34.61493761209165], \"locationmode\": \"USA-states\", \"lon\": [-77.25891171859796], \"mode\": \"markers\", \"text\": \"P6032122\", \"type\": \"scattergeo\"}, {\"lat\": [34.77772814709716], \"locationmode\": \"USA-states\", \"lon\": [-78.57399480519486], \"mode\": \"markers\", \"text\": \"P6032123\", \"type\": \"scattergeo\"}, {\"lat\": [34.46263257328346], \"locationmode\": \"USA-states\", \"lon\": [-77.36925717376265], \"mode\": \"markers\", \"text\": \"P6032129\", \"type\": \"scattergeo\"}, {\"lat\": [34.561057059597054], \"locationmode\": \"USA-states\", \"lon\": [-83.22358556329375], \"mode\": \"markers\", \"text\": \"P6032131\", \"type\": \"scattergeo\"}, {\"lat\": [34.536125672194544], \"locationmode\": \"USA-states\", \"lon\": [-77.346536530002], \"mode\": \"markers\", \"text\": \"P6032132\", \"type\": \"scattergeo\"}, {\"lat\": [34.95515858522986], \"locationmode\": \"USA-states\", \"lon\": [-76.17181726797779], \"mode\": \"markers\", \"text\": \"P6032133\", \"type\": \"scattergeo\"}, {\"lat\": [33.970668621297676], \"locationmode\": \"USA-states\", \"lon\": [-79.29372914833314], \"mode\": \"markers\", \"text\": \"P6032134\", \"type\": \"scattergeo\"}, {\"lat\": [35.02434127666218], \"locationmode\": \"USA-states\", \"lon\": [-79.06404705178866], \"mode\": \"markers\", \"text\": \"P6032135\", \"type\": \"scattergeo\"}, {\"lat\": [35.027365838607174], \"locationmode\": \"USA-states\", \"lon\": [-77.06144159029257], \"mode\": \"markers\", \"text\": \"P6032137\", \"type\": \"scattergeo\"}, {\"lat\": [36.17934125567814], \"locationmode\": \"USA-states\", \"lon\": [-80.03323707393697], \"mode\": \"markers\", \"text\": \"P6032138\", \"type\": \"scattergeo\"}, {\"lat\": [34.6273458100905], \"locationmode\": \"USA-states\", \"lon\": [-82.31774526774149], \"mode\": \"markers\", \"text\": \"P6032139\", \"type\": \"scattergeo\"}, {\"lat\": [35.77801922003644], \"locationmode\": \"USA-states\", \"lon\": [-76.07178604580247], \"mode\": \"markers\", \"text\": \"P6032140\", \"type\": \"scattergeo\"}, {\"lat\": [35.31935195290327], \"locationmode\": \"USA-states\", \"lon\": [-76.72839766377005], \"mode\": \"markers\", \"text\": \"P6032146\", \"type\": \"scattergeo\"}, {\"lat\": [34.91196407365951], \"locationmode\": \"USA-states\", \"lon\": [-75.40541087531206], \"mode\": \"markers\", \"text\": \"P6032150\", \"type\": \"scattergeo\"}, {\"lat\": [34.79926263532747], \"locationmode\": \"USA-states\", \"lon\": [-78.65607904198875], \"mode\": \"markers\", \"text\": \"P6032152\", \"type\": \"scattergeo\"}], \"name\": \"06/03/2015\"}, {\"data\": [{\"lat\": [34.86228579204846], \"locationmode\": \"USA-states\", \"lon\": [-80.96886632954181], \"mode\": \"markers\", \"text\": \"P6052108\", \"type\": \"scattergeo\"}, {\"lat\": [34.96830348804473], \"locationmode\": \"USA-states\", \"lon\": [-75.89714442885895], \"mode\": \"markers\", \"text\": \"P6052109\", \"type\": \"scattergeo\"}, {\"lat\": [35.81250441255991], \"locationmode\": \"USA-states\", \"lon\": [-83.01623910841697], \"mode\": \"markers\", \"text\": \"P6052119\", \"type\": \"scattergeo\"}, {\"lat\": [34.0624684235932], \"locationmode\": \"USA-states\", \"lon\": [-77.16737730638565], \"mode\": \"markers\", \"text\": \"P6052121\", \"type\": \"scattergeo\"}, {\"lat\": [35.9370561165888], \"locationmode\": \"USA-states\", \"lon\": [-79.04275129077257], \"mode\": \"markers\", \"text\": \"P6052127\", \"type\": \"scattergeo\"}, {\"lat\": [35.41116606786852], \"locationmode\": \"USA-states\", \"lon\": [-81.91125047475283], \"mode\": \"markers\", \"text\": \"P6052128\", \"type\": \"scattergeo\"}, {\"lat\": [35.87366850317446], \"locationmode\": \"USA-states\", \"lon\": [-81.46281142102724], \"mode\": \"markers\", \"text\": \"P6052130\", \"type\": \"scattergeo\"}, {\"lat\": [35.40701419245238], \"locationmode\": \"USA-states\", \"lon\": [-78.45264683841162], \"mode\": \"markers\", \"text\": \"P6052133\", \"type\": \"scattergeo\"}, {\"lat\": [36.02800964882577], \"locationmode\": \"USA-states\", \"lon\": [-78.81533233552594], \"mode\": \"markers\", \"text\": \"P6052134\", \"type\": \"scattergeo\"}, {\"lat\": [34.26110155342626], \"locationmode\": \"USA-states\", \"lon\": [-83.16266842911895], \"mode\": \"markers\", \"text\": \"P6052137\", \"type\": \"scattergeo\"}, {\"lat\": [35.956148551610546], \"locationmode\": \"USA-states\", \"lon\": [-76.7670358616255], \"mode\": \"markers\", \"text\": \"P6052139\", \"type\": \"scattergeo\"}, {\"lat\": [34.248831798308395], \"locationmode\": \"USA-states\", \"lon\": [-78.6801840045363], \"mode\": \"markers\", \"text\": \"P6052140\", \"type\": \"scattergeo\"}, {\"lat\": [34.41449372353658], \"locationmode\": \"USA-states\", \"lon\": [-76.60775065010954], \"mode\": \"markers\", \"text\": \"P6052141\", \"type\": \"scattergeo\"}, {\"lat\": [34.74111092442251], \"locationmode\": \"USA-states\", \"lon\": [-77.0615808968671], \"mode\": \"markers\", \"text\": \"P6052143\", \"type\": \"scattergeo\"}, {\"lat\": [35.52769625516304], \"locationmode\": \"USA-states\", \"lon\": [-79.20137460079667], \"mode\": \"markers\", \"text\": \"P6052153\", \"type\": \"scattergeo\"}], \"name\": \"06/05/2015\"}, {\"data\": [{\"lat\": [35.20877622827752], \"locationmode\": \"USA-states\", \"lon\": [-77.60616691833813], \"mode\": \"markers\", \"text\": \"P6062139\", \"type\": \"scattergeo\"}, {\"lat\": [34.2426879867103], \"locationmode\": \"USA-states\", \"lon\": [-82.33758819759423], \"mode\": \"markers\", \"text\": \"P6062140\", \"type\": \"scattergeo\"}, {\"lat\": [34.38232470584892], \"locationmode\": \"USA-states\", \"lon\": [-83.79554424544995], \"mode\": \"markers\", \"text\": \"P6062141\", \"type\": \"scattergeo\"}, {\"lat\": [35.76838939959936], \"locationmode\": \"USA-states\", \"lon\": [-82.88721055950057], \"mode\": \"markers\", \"text\": \"P6062143\", \"type\": \"scattergeo\"}, {\"lat\": [34.444186906628154], \"locationmode\": \"USA-states\", \"lon\": [-80.10026200894252], \"mode\": \"markers\", \"text\": \"P6062145\", \"type\": \"scattergeo\"}, {\"lat\": [35.043842203203035], \"locationmode\": \"USA-states\", \"lon\": [-77.03882023077857], \"mode\": \"markers\", \"text\": \"P6062147\", \"type\": \"scattergeo\"}, {\"lat\": [35.29895278952623], \"locationmode\": \"USA-states\", \"lon\": [-77.30088185364639], \"mode\": \"markers\", \"text\": \"P6062151\", \"type\": \"scattergeo\"}, {\"lat\": [36.098086223843225], \"locationmode\": \"USA-states\", \"lon\": [-76.1080760324918], \"mode\": \"markers\", \"text\": \"P6062157\", \"type\": \"scattergeo\"}, {\"lat\": [34.43972842226635], \"locationmode\": \"USA-states\", \"lon\": [-81.10640549053102], \"mode\": \"markers\", \"text\": \"P6062201\", \"type\": \"scattergeo\"}, {\"lat\": [35.12084482634535], \"locationmode\": \"USA-states\", \"lon\": [-76.1856664684085], \"mode\": \"markers\", \"text\": \"P6062202\", \"type\": \"scattergeo\"}, {\"lat\": [33.9529196889734], \"locationmode\": \"USA-states\", \"lon\": [-80.24996325443067], \"mode\": \"markers\", \"text\": \"P6062203\", \"type\": \"scattergeo\"}, {\"lat\": [34.59257193973751], \"locationmode\": \"USA-states\", \"lon\": [-80.35928213312508], \"mode\": \"markers\", \"text\": \"P6062208\", \"type\": \"scattergeo\"}, {\"lat\": [34.7480216786424], \"locationmode\": \"USA-states\", \"lon\": [-78.3698528905044], \"mode\": \"markers\", \"text\": \"P6062209\", \"type\": \"scattergeo\"}, {\"lat\": [34.67564885719721], \"locationmode\": \"USA-states\", \"lon\": [-77.53759765808485], \"mode\": \"markers\", \"text\": \"P6062210\", \"type\": \"scattergeo\"}, {\"lat\": [34.93539483783936], \"locationmode\": \"USA-states\", \"lon\": [-78.72541939573149], \"mode\": \"markers\", \"text\": \"P6062213\", \"type\": \"scattergeo\"}, {\"lat\": [35.479057574660345], \"locationmode\": \"USA-states\", \"lon\": [-76.05532087049889], \"mode\": \"markers\", \"text\": \"P6062218\", \"type\": \"scattergeo\"}, {\"lat\": [34.94418982416184], \"locationmode\": \"USA-states\", \"lon\": [-79.0633616196449], \"mode\": \"markers\", \"text\": \"P6062219\", \"type\": \"scattergeo\"}, {\"lat\": [34.654704814320105], \"locationmode\": \"USA-states\", \"lon\": [-77.7569294997116], \"mode\": \"markers\", \"text\": \"P6062222\", \"type\": \"scattergeo\"}, {\"lat\": [35.24132238436728], \"locationmode\": \"USA-states\", \"lon\": [-77.66981325271347], \"mode\": \"markers\", \"text\": \"P6062223\", \"type\": \"scattergeo\"}], \"name\": \"06/06/2015\"}, {\"data\": [{\"lat\": [33.836529016383615], \"locationmode\": \"USA-states\", \"lon\": [-76.54693360618018], \"mode\": \"markers\", \"text\": \"P6072107\", \"type\": \"scattergeo\"}, {\"lat\": [36.17393083949203], \"locationmode\": \"USA-states\", \"lon\": [-83.61821038821647], \"mode\": \"markers\", \"text\": \"P6072109\", \"type\": \"scattergeo\"}, {\"lat\": [35.19948433474606], \"locationmode\": \"USA-states\", \"lon\": [-75.75644930074573], \"mode\": \"markers\", \"text\": \"P6072115\", \"type\": \"scattergeo\"}, {\"lat\": [33.92873573517806], \"locationmode\": \"USA-states\", \"lon\": [-78.37653577920165], \"mode\": \"markers\", \"text\": \"P6072128\", \"type\": \"scattergeo\"}, {\"lat\": [35.95159223953732], \"locationmode\": \"USA-states\", \"lon\": [-83.29101776059971], \"mode\": \"markers\", \"text\": \"P6072130\", \"type\": \"scattergeo\"}, {\"lat\": [35.95183451257437], \"locationmode\": \"USA-states\", \"lon\": [-83.60949426319345], \"mode\": \"markers\", \"text\": \"P6072135\", \"type\": \"scattergeo\"}, {\"lat\": [34.62296905672287], \"locationmode\": \"USA-states\", \"lon\": [-81.83163103855871], \"mode\": \"markers\", \"text\": \"P6072144\", \"type\": \"scattergeo\"}, {\"lat\": [35.00930204333634], \"locationmode\": \"USA-states\", \"lon\": [-78.31476952877095], \"mode\": \"markers\", \"text\": \"P6072145\", \"type\": \"scattergeo\"}], \"name\": \"06/07/2015\"}, {\"data\": [{\"lat\": [35.687772672701556], \"locationmode\": \"USA-states\", \"lon\": [-80.75441216666415], \"mode\": \"markers\", \"text\": \"P6082108\", \"type\": \"scattergeo\"}, {\"lat\": [34.34049766084908], \"locationmode\": \"USA-states\", \"lon\": [-75.0489793719585], \"mode\": \"markers\", \"text\": \"P6082109\", \"type\": \"scattergeo\"}, {\"lat\": [34.51887306839791], \"locationmode\": \"USA-states\", \"lon\": [-79.71355219516649], \"mode\": \"markers\", \"text\": \"P6082113\", \"type\": \"scattergeo\"}, {\"lat\": [34.504487057588065], \"locationmode\": \"USA-states\", \"lon\": [-82.08433559823831], \"mode\": \"markers\", \"text\": \"P6082120\", \"type\": \"scattergeo\"}, {\"lat\": [36.247994537814996], \"locationmode\": \"USA-states\", \"lon\": [-82.18575249026856], \"mode\": \"markers\", \"text\": \"P6082131\", \"type\": \"scattergeo\"}, {\"lat\": [34.48881225246467], \"locationmode\": \"USA-states\", \"lon\": [-75.04025342237844], \"mode\": \"markers\", \"text\": \"P6082134\", \"type\": \"scattergeo\"}, {\"lat\": [36.06358034395268], \"locationmode\": \"USA-states\", \"lon\": [-83.77820000899514], \"mode\": \"markers\", \"text\": \"P6082137\", \"type\": \"scattergeo\"}, {\"lat\": [35.361318509359435], \"locationmode\": \"USA-states\", \"lon\": [-81.49032053369001], \"mode\": \"markers\", \"text\": \"P6082145\", \"type\": \"scattergeo\"}, {\"lat\": [34.49925415158952], \"locationmode\": \"USA-states\", \"lon\": [-79.8575280523435], \"mode\": \"markers\", \"text\": \"P6082155\", \"type\": \"scattergeo\"}, {\"lat\": [36.01081174462034], \"locationmode\": \"USA-states\", \"lon\": [-75.02876979971353], \"mode\": \"markers\", \"text\": \"P6082156\", \"type\": \"scattergeo\"}], \"name\": \"06/08/2015\"}, {\"data\": [{\"lat\": [34.664234307775], \"locationmode\": \"USA-states\", \"lon\": [-81.51502186487349], \"mode\": \"markers\", \"text\": \"P6092110\", \"type\": \"scattergeo\"}, {\"lat\": [34.94035347141694], \"locationmode\": \"USA-states\", \"lon\": [-82.81305572646806], \"mode\": \"markers\", \"text\": \"P6092111\", \"type\": \"scattergeo\"}, {\"lat\": [34.57534648181123], \"locationmode\": \"USA-states\", \"lon\": [-78.37351200999603], \"mode\": \"markers\", \"text\": \"P6092114\", \"type\": \"scattergeo\"}, {\"lat\": [34.91536274660093], \"locationmode\": \"USA-states\", \"lon\": [-75.74957469696442], \"mode\": \"markers\", \"text\": \"P6092115\", \"type\": \"scattergeo\"}, {\"lat\": [35.049226152641445], \"locationmode\": \"USA-states\", \"lon\": [-82.97778432474588], \"mode\": \"markers\", \"text\": \"P6092117\", \"type\": \"scattergeo\"}, {\"lat\": [34.196695510156175], \"locationmode\": \"USA-states\", \"lon\": [-78.91708779097179], \"mode\": \"markers\", \"text\": \"P6092122\", \"type\": \"scattergeo\"}, {\"lat\": [34.665531179639366], \"locationmode\": \"USA-states\", \"lon\": [-79.22559837126697], \"mode\": \"markers\", \"text\": \"P6092123\", \"type\": \"scattergeo\"}, {\"lat\": [34.89982810833647], \"locationmode\": \"USA-states\", \"lon\": [-78.42402052130072], \"mode\": \"markers\", \"text\": \"P6092126\", \"type\": \"scattergeo\"}, {\"lat\": [35.56146552686883], \"locationmode\": \"USA-states\", \"lon\": [-81.14955521861236], \"mode\": \"markers\", \"text\": \"P6092134\", \"type\": \"scattergeo\"}, {\"lat\": [34.98569697517556], \"locationmode\": \"USA-states\", \"lon\": [-77.65270928472923], \"mode\": \"markers\", \"text\": \"P6092137\", \"type\": \"scattergeo\"}, {\"lat\": [34.936044438407585], \"locationmode\": \"USA-states\", \"lon\": [-79.62426484469229], \"mode\": \"markers\", \"text\": \"P6092139\", \"type\": \"scattergeo\"}, {\"lat\": [35.46207572927756], \"locationmode\": \"USA-states\", \"lon\": [-83.4285746290742], \"mode\": \"markers\", \"text\": \"P6092140\", \"type\": \"scattergeo\"}, {\"lat\": [34.27328692840544], \"locationmode\": \"USA-states\", \"lon\": [-79.59323762368041], \"mode\": \"markers\", \"text\": \"P6092142\", \"type\": \"scattergeo\"}, {\"lat\": [36.01860059742807], \"locationmode\": \"USA-states\", \"lon\": [-80.86151738994462], \"mode\": \"markers\", \"text\": \"P6092143\", \"type\": \"scattergeo\"}, {\"lat\": [34.15255602016509], \"locationmode\": \"USA-states\", \"lon\": [-78.56717821669699], \"mode\": \"markers\", \"text\": \"P6092144\", \"type\": \"scattergeo\"}, {\"lat\": [34.472499881379505], \"locationmode\": \"USA-states\", \"lon\": [-80.26041063457875], \"mode\": \"markers\", \"text\": \"P6092145\", \"type\": \"scattergeo\"}, {\"lat\": [34.0537385235395], \"locationmode\": \"USA-states\", \"lon\": [-79.55677968963286], \"mode\": \"markers\", \"text\": \"P6092146\", \"type\": \"scattergeo\"}, {\"lat\": [36.285795746976255], \"locationmode\": \"USA-states\", \"lon\": [-83.07473335302349], \"mode\": \"markers\", \"text\": \"P6092147\", \"type\": \"scattergeo\"}, {\"lat\": [36.08337087451238], \"locationmode\": \"USA-states\", \"lon\": [-81.25264451639981], \"mode\": \"markers\", \"text\": \"P6092148\", \"type\": \"scattergeo\"}, {\"lat\": [34.496234910524706], \"locationmode\": \"USA-states\", \"lon\": [-82.91603415562331], \"mode\": \"markers\", \"text\": \"P6092150\", \"type\": \"scattergeo\"}, {\"lat\": [34.91352220612705], \"locationmode\": \"USA-states\", \"lon\": [-81.81976508617599], \"mode\": \"markers\", \"text\": \"P6092151\", \"type\": \"scattergeo\"}, {\"lat\": [34.21718104613032], \"locationmode\": \"USA-states\", \"lon\": [-83.98135595399971], \"mode\": \"markers\", \"text\": \"P6092152\", \"type\": \"scattergeo\"}, {\"lat\": [34.767532851574536], \"locationmode\": \"USA-states\", \"lon\": [-83.63967893273062], \"mode\": \"markers\", \"text\": \"P6092153\", \"type\": \"scattergeo\"}, {\"lat\": [35.609269882532594], \"locationmode\": \"USA-states\", \"lon\": [-80.22245522808184], \"mode\": \"markers\", \"text\": \"P6092154\", \"type\": \"scattergeo\"}, {\"lat\": [35.85940610899767], \"locationmode\": \"USA-states\", \"lon\": [-82.99013001836151], \"mode\": \"markers\", \"text\": \"P6092155\", \"type\": \"scattergeo\"}, {\"lat\": [35.563517160677264], \"locationmode\": \"USA-states\", \"lon\": [-80.15565864700501], \"mode\": \"markers\", \"text\": \"P6092157\", \"type\": \"scattergeo\"}, {\"lat\": [36.2887414038945], \"locationmode\": \"USA-states\", \"lon\": [-78.42739884987137], \"mode\": \"markers\", \"text\": \"P6092158\", \"type\": \"scattergeo\"}, {\"lat\": [34.57378368883694], \"locationmode\": \"USA-states\", \"lon\": [-76.2641103256131], \"mode\": \"markers\", \"text\": \"P6092159\", \"type\": \"scattergeo\"}, {\"lat\": [33.91246026529159], \"locationmode\": \"USA-states\", \"lon\": [-82.78103839360843], \"mode\": \"markers\", \"text\": \"P6092201\", \"type\": \"scattergeo\"}, {\"lat\": [35.74936116715088], \"locationmode\": \"USA-states\", \"lon\": [-83.64994850120117], \"mode\": \"markers\", \"text\": \"P6092203\", \"type\": \"scattergeo\"}, {\"lat\": [35.72189426138619], \"locationmode\": \"USA-states\", \"lon\": [-81.18318059859136], \"mode\": \"markers\", \"text\": \"P6092204\", \"type\": \"scattergeo\"}, {\"lat\": [34.88895637192615], \"locationmode\": \"USA-states\", \"lon\": [-78.47424469133256], \"mode\": \"markers\", \"text\": \"P6092205\", \"type\": \"scattergeo\"}, {\"lat\": [36.104389816078964], \"locationmode\": \"USA-states\", \"lon\": [-83.40924029812177], \"mode\": \"markers\", \"text\": \"P6092212\", \"type\": \"scattergeo\"}, {\"lat\": [34.513143589368305], \"locationmode\": \"USA-states\", \"lon\": [-76.00623796910483], \"mode\": \"markers\", \"text\": \"P6092214\", \"type\": \"scattergeo\"}], \"name\": \"06/09/2015\"}, {\"data\": [{\"lat\": [34.12604846430612], \"locationmode\": \"USA-states\", \"lon\": [-78.59827323843956], \"mode\": \"markers\", \"text\": \"P6122122\", \"type\": \"scattergeo\"}, {\"lat\": [34.97514590341509], \"locationmode\": \"USA-states\", \"lon\": [-76.01511832541732], \"mode\": \"markers\", \"text\": \"P6122123\", \"type\": \"scattergeo\"}, {\"lat\": [34.47273707613455], \"locationmode\": \"USA-states\", \"lon\": [-76.38669763838581], \"mode\": \"markers\", \"text\": \"P6122126\", \"type\": \"scattergeo\"}, {\"lat\": [35.98121627063602], \"locationmode\": \"USA-states\", \"lon\": [-78.983705076746], \"mode\": \"markers\", \"text\": \"P6122132\", \"type\": \"scattergeo\"}, {\"lat\": [36.173507236764856], \"locationmode\": \"USA-states\", \"lon\": [-82.2639687839434], \"mode\": \"markers\", \"text\": \"P6122133\", \"type\": \"scattergeo\"}, {\"lat\": [33.99987889914957], \"locationmode\": \"USA-states\", \"lon\": [-82.93524639844797], \"mode\": \"markers\", \"text\": \"P6122135\", \"type\": \"scattergeo\"}, {\"lat\": [34.65786853374264], \"locationmode\": \"USA-states\", \"lon\": [-77.30226087003244], \"mode\": \"markers\", \"text\": \"P6122138\", \"type\": \"scattergeo\"}, {\"lat\": [34.354205184414845], \"locationmode\": \"USA-states\", \"lon\": [-77.35054365244218], \"mode\": \"markers\", \"text\": \"P6122141\", \"type\": \"scattergeo\"}, {\"lat\": [35.21127903426989], \"locationmode\": \"USA-states\", \"lon\": [-76.73649644108428], \"mode\": \"markers\", \"text\": \"P6122143\", \"type\": \"scattergeo\"}, {\"lat\": [35.68871374774324], \"locationmode\": \"USA-states\", \"lon\": [-79.15850422553093], \"mode\": \"markers\", \"text\": \"P6122144\", \"type\": \"scattergeo\"}, {\"lat\": [36.19565477983792], \"locationmode\": \"USA-states\", \"lon\": [-77.19595553507104], \"mode\": \"markers\", \"text\": \"P6122149\", \"type\": \"scattergeo\"}, {\"lat\": [34.44525040489469], \"locationmode\": \"USA-states\", \"lon\": [-77.58761191360767], \"mode\": \"markers\", \"text\": \"P6122150\", \"type\": \"scattergeo\"}, {\"lat\": [34.67767661000462], \"locationmode\": \"USA-states\", \"lon\": [-76.6887447111114], \"mode\": \"markers\", \"text\": \"P6122154\", \"type\": \"scattergeo\"}, {\"lat\": [36.333763160023864], \"locationmode\": \"USA-states\", \"lon\": [-83.97575664086271], \"mode\": \"markers\", \"text\": \"P6122158\", \"type\": \"scattergeo\"}, {\"lat\": [34.036468125728135], \"locationmode\": \"USA-states\", \"lon\": [-83.06572613780416], \"mode\": \"markers\", \"text\": \"P6122159\", \"type\": \"scattergeo\"}, {\"lat\": [36.230672158909705], \"locationmode\": \"USA-states\", \"lon\": [-80.34491583379948], \"mode\": \"markers\", \"text\": \"P6122206\", \"type\": \"scattergeo\"}, {\"lat\": [35.997861945479706], \"locationmode\": \"USA-states\", \"lon\": [-77.060121515199], \"mode\": \"markers\", \"text\": \"P6122216\", \"type\": \"scattergeo\"}, {\"lat\": [34.593409724665875], \"locationmode\": \"USA-states\", \"lon\": [-82.27855545200985], \"mode\": \"markers\", \"text\": \"P6122224\", \"type\": \"scattergeo\"}], \"name\": \"06/12/2015\"}, {\"data\": [{\"lat\": [36.319513035019376], \"locationmode\": \"USA-states\", \"lon\": [-79.24325831813609], \"mode\": \"markers\", \"text\": \"P6132128\", \"type\": \"scattergeo\"}, {\"lat\": [34.167800258907675], \"locationmode\": \"USA-states\", \"lon\": [-75.82577591314964], \"mode\": \"markers\", \"text\": \"P6132133\", \"type\": \"scattergeo\"}, {\"lat\": [34.686879656363104], \"locationmode\": \"USA-states\", \"lon\": [-78.01631003398131], \"mode\": \"markers\", \"text\": \"P6132136\", \"type\": \"scattergeo\"}, {\"lat\": [36.315526964042874], \"locationmode\": \"USA-states\", \"lon\": [-81.31437274472735], \"mode\": \"markers\", \"text\": \"P6132201\", \"type\": \"scattergeo\"}, {\"lat\": [34.46851530055528], \"locationmode\": \"USA-states\", \"lon\": [-83.06077942798527], \"mode\": \"markers\", \"text\": \"P6132208\", \"type\": \"scattergeo\"}, {\"lat\": [36.04411258530543], \"locationmode\": \"USA-states\", \"lon\": [-80.10607111412278], \"mode\": \"markers\", \"text\": \"P6132210\", \"type\": \"scattergeo\"}, {\"lat\": [34.79431384165353], \"locationmode\": \"USA-states\", \"lon\": [-76.85362261302939], \"mode\": \"markers\", \"text\": \"P6132214\", \"type\": \"scattergeo\"}, {\"lat\": [33.83892676358213], \"locationmode\": \"USA-states\", \"lon\": [-80.90437883465462], \"mode\": \"markers\", \"text\": \"P6132216\", \"type\": \"scattergeo\"}], \"name\": \"06/13/2015\"}, {\"data\": [{\"lat\": [35.12109932476393], \"locationmode\": \"USA-states\", \"lon\": [-76.7990488010663], \"mode\": \"markers\", \"text\": \"P6142114\", \"type\": \"scattergeo\"}, {\"lat\": [35.13080429005681], \"locationmode\": \"USA-states\", \"lon\": [-79.30831195602711], \"mode\": \"markers\", \"text\": \"P6142118\", \"type\": \"scattergeo\"}, {\"lat\": [36.167397976643585], \"locationmode\": \"USA-states\", \"lon\": [-79.13231470128716], \"mode\": \"markers\", \"text\": \"P6142121\", \"type\": \"scattergeo\"}, {\"lat\": [34.179787167739136], \"locationmode\": \"USA-states\", \"lon\": [-76.03102896119064], \"mode\": \"markers\", \"text\": \"P6142124\", \"type\": \"scattergeo\"}, {\"lat\": [36.153981919166284], \"locationmode\": \"USA-states\", \"lon\": [-80.44236384589549], \"mode\": \"markers\", \"text\": \"P6142125\", \"type\": \"scattergeo\"}, {\"lat\": [35.50668403979836], \"locationmode\": \"USA-states\", \"lon\": [-75.43525506797671], \"mode\": \"markers\", \"text\": \"P6142131\", \"type\": \"scattergeo\"}, {\"lat\": [34.411770530363256], \"locationmode\": \"USA-states\", \"lon\": [-81.57194424862479], \"mode\": \"markers\", \"text\": \"P6142132\", \"type\": \"scattergeo\"}, {\"lat\": [34.9972123377489], \"locationmode\": \"USA-states\", \"lon\": [-83.11944461449372], \"mode\": \"markers\", \"text\": \"P6142133\", \"type\": \"scattergeo\"}, {\"lat\": [34.53068432418854], \"locationmode\": \"USA-states\", \"lon\": [-83.12866142461691], \"mode\": \"markers\", \"text\": \"P6142135\", \"type\": \"scattergeo\"}, {\"lat\": [35.38484423722433], \"locationmode\": \"USA-states\", \"lon\": [-81.4028409608292], \"mode\": \"markers\", \"text\": \"P6142137\", \"type\": \"scattergeo\"}, {\"lat\": [34.05836676860488], \"locationmode\": \"USA-states\", \"lon\": [-78.34251259431248], \"mode\": \"markers\", \"text\": \"P6142141\", \"type\": \"scattergeo\"}, {\"lat\": [35.08542572564734], \"locationmode\": \"USA-states\", \"lon\": [-81.75683355108583], \"mode\": \"markers\", \"text\": \"P6142142\", \"type\": \"scattergeo\"}, {\"lat\": [35.49468355392443], \"locationmode\": \"USA-states\", \"lon\": [-77.49267134907626], \"mode\": \"markers\", \"text\": \"P6142145\", \"type\": \"scattergeo\"}, {\"lat\": [33.877061849005145], \"locationmode\": \"USA-states\", \"lon\": [-82.99382874678516], \"mode\": \"markers\", \"text\": \"P6142146\", \"type\": \"scattergeo\"}, {\"lat\": [34.73935268426641], \"locationmode\": \"USA-states\", \"lon\": [-77.88138405096353], \"mode\": \"markers\", \"text\": \"P6142147\", \"type\": \"scattergeo\"}, {\"lat\": [36.24042621390645], \"locationmode\": \"USA-states\", \"lon\": [-80.57992734097866], \"mode\": \"markers\", \"text\": \"P6142148\", \"type\": \"scattergeo\"}, {\"lat\": [35.335877185005856], \"locationmode\": \"USA-states\", \"lon\": [-82.79962149249269], \"mode\": \"markers\", \"text\": \"P6142149\", \"type\": \"scattergeo\"}, {\"lat\": [34.552891057204505], \"locationmode\": \"USA-states\", \"lon\": [-82.74962475328098], \"mode\": \"markers\", \"text\": \"P6142151\", \"type\": \"scattergeo\"}, {\"lat\": [33.974691459940914], \"locationmode\": \"USA-states\", \"lon\": [-80.88595496948103], \"mode\": \"markers\", \"text\": \"P6142158\", \"type\": \"scattergeo\"}, {\"lat\": [35.772065681860006], \"locationmode\": \"USA-states\", \"lon\": [-82.80802870634115], \"mode\": \"markers\", \"text\": \"P6142204\", \"type\": \"scattergeo\"}, {\"lat\": [34.70401056911639], \"locationmode\": \"USA-states\", \"lon\": [-77.45706132598006], \"mode\": \"markers\", \"text\": \"P6142207\", \"type\": \"scattergeo\"}, {\"lat\": [34.82890583520087], \"locationmode\": \"USA-states\", \"lon\": [-83.80622452057871], \"mode\": \"markers\", \"text\": \"P6142209\", \"type\": \"scattergeo\"}, {\"lat\": [34.5802044794115], \"locationmode\": \"USA-states\", \"lon\": [-79.66531719623472], \"mode\": \"markers\", \"text\": \"P6142218\", \"type\": \"scattergeo\"}], \"name\": \"06/14/2015\"}, {\"data\": [{\"lat\": [35.60554429780049], \"locationmode\": \"USA-states\", \"lon\": [-80.5845987780842], \"mode\": \"markers\", \"text\": \"P6152116\", \"type\": \"scattergeo\"}, {\"lat\": [35.40850712141494], \"locationmode\": \"USA-states\", \"lon\": [-80.79352314741183], \"mode\": \"markers\", \"text\": \"P6152118\", \"type\": \"scattergeo\"}, {\"lat\": [34.861769958364505], \"locationmode\": \"USA-states\", \"lon\": [-83.90788365348615], \"mode\": \"markers\", \"text\": \"P6152119\", \"type\": \"scattergeo\"}, {\"lat\": [36.054661130884845], \"locationmode\": \"USA-states\", \"lon\": [-83.63832081309864], \"mode\": \"markers\", \"text\": \"P6152121\", \"type\": \"scattergeo\"}, {\"lat\": [34.04906858404089], \"locationmode\": \"USA-states\", \"lon\": [-78.06952005651881], \"mode\": \"markers\", \"text\": \"P6152125\", \"type\": \"scattergeo\"}, {\"lat\": [35.65374743713821], \"locationmode\": \"USA-states\", \"lon\": [-75.66215458521296], \"mode\": \"markers\", \"text\": \"P6152131\", \"type\": \"scattergeo\"}, {\"lat\": [35.463850836390215], \"locationmode\": \"USA-states\", \"lon\": [-80.34921995281918], \"mode\": \"markers\", \"text\": \"P6152132\", \"type\": \"scattergeo\"}, {\"lat\": [35.98074257957028], \"locationmode\": \"USA-states\", \"lon\": [-80.79192133583902], \"mode\": \"markers\", \"text\": \"P6152146\", \"type\": \"scattergeo\"}, {\"lat\": [34.91348888151306], \"locationmode\": \"USA-states\", \"lon\": [-80.74866998320816], \"mode\": \"markers\", \"text\": \"P6152151\", \"type\": \"scattergeo\"}, {\"lat\": [35.35772543845827], \"locationmode\": \"USA-states\", \"lon\": [-82.05041740956581], \"mode\": \"markers\", \"text\": \"P6152153\", \"type\": \"scattergeo\"}, {\"lat\": [34.35011373105309], \"locationmode\": \"USA-states\", \"lon\": [-76.96361820275803], \"mode\": \"markers\", \"text\": \"P6152154\", \"type\": \"scattergeo\"}, {\"lat\": [34.18470903658323], \"locationmode\": \"USA-states\", \"lon\": [-75.4581612185294], \"mode\": \"markers\", \"text\": \"P6152155\", \"type\": \"scattergeo\"}, {\"lat\": [34.8073511386218], \"locationmode\": \"USA-states\", \"lon\": [-76.49625189991069], \"mode\": \"markers\", \"text\": \"P6152156\", \"type\": \"scattergeo\"}, {\"lat\": [34.65456113225641], \"locationmode\": \"USA-states\", \"lon\": [-75.82875785981896], \"mode\": \"markers\", \"text\": \"P6152157\", \"type\": \"scattergeo\"}, {\"lat\": [35.294194692803046], \"locationmode\": \"USA-states\", \"lon\": [-75.75300746993258], \"mode\": \"markers\", \"text\": \"P6152204\", \"type\": \"scattergeo\"}, {\"lat\": [34.17966907108199], \"locationmode\": \"USA-states\", \"lon\": [-81.30548255958638], \"mode\": \"markers\", \"text\": \"P6152206\", \"type\": \"scattergeo\"}, {\"lat\": [35.33049607065477], \"locationmode\": \"USA-states\", \"lon\": [-83.2838820276577], \"mode\": \"markers\", \"text\": \"P6152212\", \"type\": \"scattergeo\"}, {\"lat\": [36.138007683771], \"locationmode\": \"USA-states\", \"lon\": [-77.28717716724513], \"mode\": \"markers\", \"text\": \"P6152216\", \"type\": \"scattergeo\"}], \"name\": \"06/15/2015\"}, {\"data\": [{\"lat\": [34.559727826319694], \"locationmode\": \"USA-states\", \"lon\": [-81.80737690665734], \"mode\": \"markers\", \"text\": \"P6172052\", \"type\": \"scattergeo\"}, {\"lat\": [34.14563874092405], \"locationmode\": \"USA-states\", \"lon\": [-81.21851254751051], \"mode\": \"markers\", \"text\": \"P6172054\", \"type\": \"scattergeo\"}, {\"lat\": [34.41103863481385], \"locationmode\": \"USA-states\", \"lon\": [-77.10126281224765], \"mode\": \"markers\", \"text\": \"P6172056\", \"type\": \"scattergeo\"}, {\"lat\": [36.27252905758151], \"locationmode\": \"USA-states\", \"lon\": [-82.49101145534317], \"mode\": \"markers\", \"text\": \"P6172058\", \"type\": \"scattergeo\"}, {\"lat\": [35.91736824479766], \"locationmode\": \"USA-states\", \"lon\": [-81.10232457513162], \"mode\": \"markers\", \"text\": \"P6172059\", \"type\": \"scattergeo\"}, {\"lat\": [34.003918285350466], \"locationmode\": \"USA-states\", \"lon\": [-83.51900547434346], \"mode\": \"markers\", \"text\": \"P6172100\", \"type\": \"scattergeo\"}, {\"lat\": [34.41534278670826], \"locationmode\": \"USA-states\", \"lon\": [-80.41094398956437], \"mode\": \"markers\", \"text\": \"P6172103\", \"type\": \"scattergeo\"}, {\"lat\": [34.26667145299978], \"locationmode\": \"USA-states\", \"lon\": [-77.99647869416602], \"mode\": \"markers\", \"text\": \"P6172105\", \"type\": \"scattergeo\"}, {\"lat\": [34.58818135269758], \"locationmode\": \"USA-states\", \"lon\": [-76.28259153734275], \"mode\": \"markers\", \"text\": \"P6172106\", \"type\": \"scattergeo\"}, {\"lat\": [35.75754280629676], \"locationmode\": \"USA-states\", \"lon\": [-75.12954861140115], \"mode\": \"markers\", \"text\": \"P6172107\", \"type\": \"scattergeo\"}, {\"lat\": [34.235904784192144], \"locationmode\": \"USA-states\", \"lon\": [-79.29595410578301], \"mode\": \"markers\", \"text\": \"P6172108\", \"type\": \"scattergeo\"}, {\"lat\": [34.39141143465568], \"locationmode\": \"USA-states\", \"lon\": [-80.47631174399318], \"mode\": \"markers\", \"text\": \"P6172110\", \"type\": \"scattergeo\"}, {\"lat\": [35.86402895584896], \"locationmode\": \"USA-states\", \"lon\": [-76.4731021442511], \"mode\": \"markers\", \"text\": \"P6172111\", \"type\": \"scattergeo\"}, {\"lat\": [33.94535914275096], \"locationmode\": \"USA-states\", \"lon\": [-82.11437987019433], \"mode\": \"markers\", \"text\": \"P6172112\", \"type\": \"scattergeo\"}, {\"lat\": [34.40031536037813], \"locationmode\": \"USA-states\", \"lon\": [-80.95447731903437], \"mode\": \"markers\", \"text\": \"P6172113\", \"type\": \"scattergeo\"}, {\"lat\": [35.50637887201992], \"locationmode\": \"USA-states\", \"lon\": [-82.60337939199354], \"mode\": \"markers\", \"text\": \"P6172114\", \"type\": \"scattergeo\"}, {\"lat\": [35.46352456274554], \"locationmode\": \"USA-states\", \"lon\": [-82.85393031628323], \"mode\": \"markers\", \"text\": \"P6172118\", \"type\": \"scattergeo\"}, {\"lat\": [33.82449846861484], \"locationmode\": \"USA-states\", \"lon\": [-83.84830212658693], \"mode\": \"markers\", \"text\": \"P6172119\", \"type\": \"scattergeo\"}, {\"lat\": [34.24113530416374], \"locationmode\": \"USA-states\", \"lon\": [-76.86123827425536], \"mode\": \"markers\", \"text\": \"P6172124\", \"type\": \"scattergeo\"}, {\"lat\": [35.52640439399558], \"locationmode\": \"USA-states\", \"lon\": [-80.36945356001368], \"mode\": \"markers\", \"text\": \"P6172125\", \"type\": \"scattergeo\"}, {\"lat\": [35.484321684990945], \"locationmode\": \"USA-states\", \"lon\": [-77.25497561660477], \"mode\": \"markers\", \"text\": \"P6172126\", \"type\": \"scattergeo\"}, {\"lat\": [35.560002221703485], \"locationmode\": \"USA-states\", \"lon\": [-79.54704347963047], \"mode\": \"markers\", \"text\": \"P6172127\", \"type\": \"scattergeo\"}, {\"lat\": [35.09757171155036], \"locationmode\": \"USA-states\", \"lon\": [-82.96972683934443], \"mode\": \"markers\", \"text\": \"P6172129\", \"type\": \"scattergeo\"}, {\"lat\": [35.842648492585674], \"locationmode\": \"USA-states\", \"lon\": [-83.58554494810387], \"mode\": \"markers\", \"text\": \"P6172131\", \"type\": \"scattergeo\"}, {\"lat\": [34.88712958525171], \"locationmode\": \"USA-states\", \"lon\": [-76.50831001197429], \"mode\": \"markers\", \"text\": \"P6172132\", \"type\": \"scattergeo\"}, {\"lat\": [33.92176598966702], \"locationmode\": \"USA-states\", \"lon\": [-76.36219065913208], \"mode\": \"markers\", \"text\": \"P6172134\", \"type\": \"scattergeo\"}, {\"lat\": [34.64842950176909], \"locationmode\": \"USA-states\", \"lon\": [-78.91089871471925], \"mode\": \"markers\", \"text\": \"P6172140\", \"type\": \"scattergeo\"}, {\"lat\": [36.102109719777864], \"locationmode\": \"USA-states\", \"lon\": [-82.12097626980105], \"mode\": \"markers\", \"text\": \"P6172141\", \"type\": \"scattergeo\"}, {\"lat\": [35.96297898634086], \"locationmode\": \"USA-states\", \"lon\": [-81.21578736044836], \"mode\": \"markers\", \"text\": \"P6172142\", \"type\": \"scattergeo\"}, {\"lat\": [35.456037815530536], \"locationmode\": \"USA-states\", \"lon\": [-76.08831455323707], \"mode\": \"markers\", \"text\": \"P6172144\", \"type\": \"scattergeo\"}, {\"lat\": [34.93439798839415], \"locationmode\": \"USA-states\", \"lon\": [-83.04784053162533], \"mode\": \"markers\", \"text\": \"P6172150\", \"type\": \"scattergeo\"}, {\"lat\": [34.562190737098256], \"locationmode\": \"USA-states\", \"lon\": [-78.11445348143228], \"mode\": \"markers\", \"text\": \"P6172152\", \"type\": \"scattergeo\"}, {\"lat\": [34.392937224036935], \"locationmode\": \"USA-states\", \"lon\": [-79.03529611845352], \"mode\": \"markers\", \"text\": \"P6172156\", \"type\": \"scattergeo\"}, {\"lat\": [35.31671039131205], \"locationmode\": \"USA-states\", \"lon\": [-81.90292365826018], \"mode\": \"markers\", \"text\": \"P6172201\", \"type\": \"scattergeo\"}, {\"lat\": [35.49876135325388], \"locationmode\": \"USA-states\", \"lon\": [-75.32444085580369], \"mode\": \"markers\", \"text\": \"P6172203\", \"type\": \"scattergeo\"}, {\"lat\": [33.93224856541649], \"locationmode\": \"USA-states\", \"lon\": [-75.32581002356429], \"mode\": \"markers\", \"text\": \"P6172207\", \"type\": \"scattergeo\"}, {\"lat\": [33.99635564303455], \"locationmode\": \"USA-states\", \"lon\": [-75.01775409965411], \"mode\": \"markers\", \"text\": \"P6172209\", \"type\": \"scattergeo\"}, {\"lat\": [36.13355482451419], \"locationmode\": \"USA-states\", \"lon\": [-76.08549167122881], \"mode\": \"markers\", \"text\": \"P6172210\", \"type\": \"scattergeo\"}, {\"lat\": [35.10699867728117], \"locationmode\": \"USA-states\", \"lon\": [-78.48508126832145], \"mode\": \"markers\", \"text\": \"P6172211\", \"type\": \"scattergeo\"}], \"name\": \"06/17/2015\"}, {\"data\": [{\"lat\": [33.888343437481524], \"locationmode\": \"USA-states\", \"lon\": [-82.94790161981783], \"mode\": \"markers\", \"text\": \"P6182051\", \"type\": \"scattergeo\"}, {\"lat\": [34.16635731134365], \"locationmode\": \"USA-states\", \"lon\": [-80.29072014590832], \"mode\": \"markers\", \"text\": \"P6182052\", \"type\": \"scattergeo\"}, {\"lat\": [36.3235907903586], \"locationmode\": \"USA-states\", \"lon\": [-78.05844224461929], \"mode\": \"markers\", \"text\": \"P6182053\", \"type\": \"scattergeo\"}, {\"lat\": [35.566906842514854], \"locationmode\": \"USA-states\", \"lon\": [-83.24389432830826], \"mode\": \"markers\", \"text\": \"P6182054\", \"type\": \"scattergeo\"}, {\"lat\": [36.09535849174726], \"locationmode\": \"USA-states\", \"lon\": [-77.93995134240575], \"mode\": \"markers\", \"text\": \"P6182056\", \"type\": \"scattergeo\"}, {\"lat\": [34.747370282125516], \"locationmode\": \"USA-states\", \"lon\": [-80.51032235139317], \"mode\": \"markers\", \"text\": \"P6182057\", \"type\": \"scattergeo\"}, {\"lat\": [34.73536903348855], \"locationmode\": \"USA-states\", \"lon\": [-81.07647915293353], \"mode\": \"markers\", \"text\": \"P6182058\", \"type\": \"scattergeo\"}, {\"lat\": [34.91079576589448], \"locationmode\": \"USA-states\", \"lon\": [-75.47829529193828], \"mode\": \"markers\", \"text\": \"P6182059\", \"type\": \"scattergeo\"}, {\"lat\": [35.82855097768768], \"locationmode\": \"USA-states\", \"lon\": [-81.63506751414718], \"mode\": \"markers\", \"text\": \"P6182102\", \"type\": \"scattergeo\"}, {\"lat\": [36.21154846073799], \"locationmode\": \"USA-states\", \"lon\": [-83.97805424700941], \"mode\": \"markers\", \"text\": \"P6182103\", \"type\": \"scattergeo\"}, {\"lat\": [35.9580633515717], \"locationmode\": \"USA-states\", \"lon\": [-80.35828048721088], \"mode\": \"markers\", \"text\": \"P6182104\", \"type\": \"scattergeo\"}, {\"lat\": [36.27228713250521], \"locationmode\": \"USA-states\", \"lon\": [-77.16499705309445], \"mode\": \"markers\", \"text\": \"P6182109\", \"type\": \"scattergeo\"}, {\"lat\": [34.62306949980378], \"locationmode\": \"USA-states\", \"lon\": [-77.00918848476071], \"mode\": \"markers\", \"text\": \"P6182118\", \"type\": \"scattergeo\"}, {\"lat\": [34.813567842052215], \"locationmode\": \"USA-states\", \"lon\": [-77.7499468345288], \"mode\": \"markers\", \"text\": \"P6182119\", \"type\": \"scattergeo\"}, {\"lat\": [35.877337448949575], \"locationmode\": \"USA-states\", \"lon\": [-76.11521754822824], \"mode\": \"markers\", \"text\": \"P6182120\", \"type\": \"scattergeo\"}, {\"lat\": [36.231940504394444], \"locationmode\": \"USA-states\", \"lon\": [-83.11000146774674], \"mode\": \"markers\", \"text\": \"P6182127\", \"type\": \"scattergeo\"}, {\"lat\": [34.56582104709455], \"locationmode\": \"USA-states\", \"lon\": [-83.44666766597074], \"mode\": \"markers\", \"text\": \"P6182128\", \"type\": \"scattergeo\"}, {\"lat\": [36.23397793151626], \"locationmode\": \"USA-states\", \"lon\": [-82.83681714962806], \"mode\": \"markers\", \"text\": \"P6182129\", \"type\": \"scattergeo\"}, {\"lat\": [34.081233730367316], \"locationmode\": \"USA-states\", \"lon\": [-80.15984309537355], \"mode\": \"markers\", \"text\": \"P6182130\", \"type\": \"scattergeo\"}, {\"lat\": [35.48756393432658], \"locationmode\": \"USA-states\", \"lon\": [-76.18865377471735], \"mode\": \"markers\", \"text\": \"P6182132\", \"type\": \"scattergeo\"}, {\"lat\": [35.32138300658891], \"locationmode\": \"USA-states\", \"lon\": [-83.89022902942898], \"mode\": \"markers\", \"text\": \"P6182134\", \"type\": \"scattergeo\"}, {\"lat\": [35.55309055796276], \"locationmode\": \"USA-states\", \"lon\": [-76.04124091673654], \"mode\": \"markers\", \"text\": \"P6182135\", \"type\": \"scattergeo\"}, {\"lat\": [36.244160564341605], \"locationmode\": \"USA-states\", \"lon\": [-82.99318913569718], \"mode\": \"markers\", \"text\": \"P6182136\", \"type\": \"scattergeo\"}, {\"lat\": [33.90564929132476], \"locationmode\": \"USA-states\", \"lon\": [-76.81594142925503], \"mode\": \"markers\", \"text\": \"P6182138\", \"type\": \"scattergeo\"}, {\"lat\": [36.13047631334681], \"locationmode\": \"USA-states\", \"lon\": [-81.75544369415454], \"mode\": \"markers\", \"text\": \"P6182139\", \"type\": \"scattergeo\"}, {\"lat\": [35.66152288261293], \"locationmode\": \"USA-states\", \"lon\": [-81.7980823185519], \"mode\": \"markers\", \"text\": \"P6182140\", \"type\": \"scattergeo\"}, {\"lat\": [36.04398601868358], \"locationmode\": \"USA-states\", \"lon\": [-75.77836983554582], \"mode\": \"markers\", \"text\": \"P6182141\", \"type\": \"scattergeo\"}, {\"lat\": [34.023735628683234], \"locationmode\": \"USA-states\", \"lon\": [-76.17457689843138], \"mode\": \"markers\", \"text\": \"P6182142\", \"type\": \"scattergeo\"}, {\"lat\": [34.37974076117702], \"locationmode\": \"USA-states\", \"lon\": [-80.49103659669909], \"mode\": \"markers\", \"text\": \"P6182143\", \"type\": \"scattergeo\"}, {\"lat\": [34.93297597435129], \"locationmode\": \"USA-states\", \"lon\": [-82.50424451163512], \"mode\": \"markers\", \"text\": \"P6182145\", \"type\": \"scattergeo\"}, {\"lat\": [33.98427195973225], \"locationmode\": \"USA-states\", \"lon\": [-81.87570213827846], \"mode\": \"markers\", \"text\": \"P6182150\", \"type\": \"scattergeo\"}, {\"lat\": [33.897509630994], \"locationmode\": \"USA-states\", \"lon\": [-83.7661904477173], \"mode\": \"markers\", \"text\": \"P6182153\", \"type\": \"scattergeo\"}, {\"lat\": [35.210874927616885], \"locationmode\": \"USA-states\", \"lon\": [-82.20720873525687], \"mode\": \"markers\", \"text\": \"P6182154\", \"type\": \"scattergeo\"}, {\"lat\": [35.745709837838604], \"locationmode\": \"USA-states\", \"lon\": [-80.3964589285375], \"mode\": \"markers\", \"text\": \"P6182156\", \"type\": \"scattergeo\"}, {\"lat\": [33.834773227381326], \"locationmode\": \"USA-states\", \"lon\": [-78.29876549424597], \"mode\": \"markers\", \"text\": \"P6182157\", \"type\": \"scattergeo\"}, {\"lat\": [36.08222460842368], \"locationmode\": \"USA-states\", \"lon\": [-75.21833218855545], \"mode\": \"markers\", \"text\": \"P6182158\", \"type\": \"scattergeo\"}, {\"lat\": [35.48832285617296], \"locationmode\": \"USA-states\", \"lon\": [-78.3058053792503], \"mode\": \"markers\", \"text\": \"P6182159\", \"type\": \"scattergeo\"}, {\"lat\": [36.09038754693348], \"locationmode\": \"USA-states\", \"lon\": [-83.74853722719972], \"mode\": \"markers\", \"text\": \"P6182202\", \"type\": \"scattergeo\"}, {\"lat\": [35.931915261956355], \"locationmode\": \"USA-states\", \"lon\": [-82.50991446953586], \"mode\": \"markers\", \"text\": \"P6182210\", \"type\": \"scattergeo\"}, {\"lat\": [36.03499282787851], \"locationmode\": \"USA-states\", \"lon\": [-83.40314834595767], \"mode\": \"markers\", \"text\": \"P6182211\", \"type\": \"scattergeo\"}, {\"lat\": [34.60011337428063], \"locationmode\": \"USA-states\", \"lon\": [-76.17300633996602], \"mode\": \"markers\", \"text\": \"P6182213\", \"type\": \"scattergeo\"}, {\"lat\": [35.153291975421645], \"locationmode\": \"USA-states\", \"lon\": [-75.70785561445172], \"mode\": \"markers\", \"text\": \"P6182216\", \"type\": \"scattergeo\"}, {\"lat\": [34.457187103849236], \"locationmode\": \"USA-states\", \"lon\": [-78.0636865639933], \"mode\": \"markers\", \"text\": \"P6182221\", \"type\": \"scattergeo\"}, {\"lat\": [34.115277204532475], \"locationmode\": \"USA-states\", \"lon\": [-82.29085246339092], \"mode\": \"markers\", \"text\": \"P6182222\", \"type\": \"scattergeo\"}, {\"lat\": [34.58125456521539], \"locationmode\": \"USA-states\", \"lon\": [-78.175785807907], \"mode\": \"markers\", \"text\": \"P6182225\", \"type\": \"scattergeo\"}], \"name\": \"06/18/2015\"}, {\"data\": [{\"lat\": [34.574191721895005], \"locationmode\": \"USA-states\", \"lon\": [-82.38199503603919], \"mode\": \"markers\", \"text\": \"P6192058\", \"type\": \"scattergeo\"}, {\"lat\": [34.902828997573565], \"locationmode\": \"USA-states\", \"lon\": [-75.775553342465], \"mode\": \"markers\", \"text\": \"P6192059\", \"type\": \"scattergeo\"}, {\"lat\": [35.57419237483621], \"locationmode\": \"USA-states\", \"lon\": [-82.60770383602991], \"mode\": \"markers\", \"text\": \"P6192100\", \"type\": \"scattergeo\"}, {\"lat\": [36.25266022270921], \"locationmode\": \"USA-states\", \"lon\": [-78.97447580519747], \"mode\": \"markers\", \"text\": \"P6192103\", \"type\": \"scattergeo\"}, {\"lat\": [34.29934188497729], \"locationmode\": \"USA-states\", \"lon\": [-83.44028849933963], \"mode\": \"markers\", \"text\": \"P6192104\", \"type\": \"scattergeo\"}, {\"lat\": [35.343209040685096], \"locationmode\": \"USA-states\", \"lon\": [-78.21804929389378], \"mode\": \"markers\", \"text\": \"P6192105\", \"type\": \"scattergeo\"}, {\"lat\": [36.0248510037879], \"locationmode\": \"USA-states\", \"lon\": [-77.95646006853644], \"mode\": \"markers\", \"text\": \"P6192111\", \"type\": \"scattergeo\"}, {\"lat\": [34.100655739212456], \"locationmode\": \"USA-states\", \"lon\": [-76.02765876339993], \"mode\": \"markers\", \"text\": \"P6192115\", \"type\": \"scattergeo\"}, {\"lat\": [35.5902701991137], \"locationmode\": \"USA-states\", \"lon\": [-75.17331672243265], \"mode\": \"markers\", \"text\": \"P6192116\", \"type\": \"scattergeo\"}, {\"lat\": [35.82581058441185], \"locationmode\": \"USA-states\", \"lon\": [-80.97520383754896], \"mode\": \"markers\", \"text\": \"P6192117\", \"type\": \"scattergeo\"}, {\"lat\": [35.940913288444236], \"locationmode\": \"USA-states\", \"lon\": [-83.80806926482643], \"mode\": \"markers\", \"text\": \"P6192118\", \"type\": \"scattergeo\"}, {\"lat\": [35.425207800053464], \"locationmode\": \"USA-states\", \"lon\": [-77.97604462294781], \"mode\": \"markers\", \"text\": \"P6192119\", \"type\": \"scattergeo\"}, {\"lat\": [34.338231957765345], \"locationmode\": \"USA-states\", \"lon\": [-83.09747006938925], \"mode\": \"markers\", \"text\": \"P6192121\", \"type\": \"scattergeo\"}, {\"lat\": [35.03789222351307], \"locationmode\": \"USA-states\", \"lon\": [-83.72950765358551], \"mode\": \"markers\", \"text\": \"P6192123\", \"type\": \"scattergeo\"}, {\"lat\": [34.75236101581732], \"locationmode\": \"USA-states\", \"lon\": [-82.09832016745308], \"mode\": \"markers\", \"text\": \"P6192126\", \"type\": \"scattergeo\"}, {\"lat\": [36.21063104775174], \"locationmode\": \"USA-states\", \"lon\": [-80.42711596276453], \"mode\": \"markers\", \"text\": \"P6192127\", \"type\": \"scattergeo\"}, {\"lat\": [35.66988264200778], \"locationmode\": \"USA-states\", \"lon\": [-81.20676880806862], \"mode\": \"markers\", \"text\": \"P6192128\", \"type\": \"scattergeo\"}, {\"lat\": [35.54416711787892], \"locationmode\": \"USA-states\", \"lon\": [-76.9239804614256], \"mode\": \"markers\", \"text\": \"P6192129\", \"type\": \"scattergeo\"}, {\"lat\": [36.01445623407777], \"locationmode\": \"USA-states\", \"lon\": [-76.65970333051783], \"mode\": \"markers\", \"text\": \"P6192135\", \"type\": \"scattergeo\"}, {\"lat\": [34.59252685792334], \"locationmode\": \"USA-states\", \"lon\": [-82.7528533797566], \"mode\": \"markers\", \"text\": \"P6192141\", \"type\": \"scattergeo\"}, {\"lat\": [35.40514695590573], \"locationmode\": \"USA-states\", \"lon\": [-80.87981982506973], \"mode\": \"markers\", \"text\": \"P6192147\", \"type\": \"scattergeo\"}, {\"lat\": [34.25895503887721], \"locationmode\": \"USA-states\", \"lon\": [-82.14201979864194], \"mode\": \"markers\", \"text\": \"P6192151\", \"type\": \"scattergeo\"}, {\"lat\": [34.25411584700052], \"locationmode\": \"USA-states\", \"lon\": [-79.71921279631809], \"mode\": \"markers\", \"text\": \"P6192157\", \"type\": \"scattergeo\"}, {\"lat\": [34.4194573431332], \"locationmode\": \"USA-states\", \"lon\": [-83.5209965301527], \"mode\": \"markers\", \"text\": \"P6192202\", \"type\": \"scattergeo\"}, {\"lat\": [35.86450348170154], \"locationmode\": \"USA-states\", \"lon\": [-79.36590823112374], \"mode\": \"markers\", \"text\": \"P6192208\", \"type\": \"scattergeo\"}, {\"lat\": [36.060431791509906], \"locationmode\": \"USA-states\", \"lon\": [-81.02240260376952], \"mode\": \"markers\", \"text\": \"P6192211\", \"type\": \"scattergeo\"}, {\"lat\": [34.39863308863694], \"locationmode\": \"USA-states\", \"lon\": [-76.39990727268169], \"mode\": \"markers\", \"text\": \"P6192215\", \"type\": \"scattergeo\"}, {\"lat\": [36.025759578896576], \"locationmode\": \"USA-states\", \"lon\": [-75.01279292479842], \"mode\": \"markers\", \"text\": \"P6192216\", \"type\": \"scattergeo\"}, {\"lat\": [35.26868260750867], \"locationmode\": \"USA-states\", \"lon\": [-81.42233997792279], \"mode\": \"markers\", \"text\": \"P6192217\", \"type\": \"scattergeo\"}, {\"lat\": [35.98264748331259], \"locationmode\": \"USA-states\", \"lon\": [-81.64136305105508], \"mode\": \"markers\", \"text\": \"P6192219\", \"type\": \"scattergeo\"}, {\"lat\": [34.67100034657636], \"locationmode\": \"USA-states\", \"lon\": [-77.6079204289441], \"mode\": \"markers\", \"text\": \"P6192220\", \"type\": \"scattergeo\"}], \"name\": \"06/19/2015\"}, {\"data\": [{\"lat\": [34.58507330004051], \"locationmode\": \"USA-states\", \"lon\": [-81.4136741035309], \"mode\": \"markers\", \"text\": \"P6202050\", \"type\": \"scattergeo\"}, {\"lat\": [34.37408135607916], \"locationmode\": \"USA-states\", \"lon\": [-83.75689144477893], \"mode\": \"markers\", \"text\": \"P6202052\", \"type\": \"scattergeo\"}, {\"lat\": [33.905520663248694], \"locationmode\": \"USA-states\", \"lon\": [-77.06300435987227], \"mode\": \"markers\", \"text\": \"P6202053\", \"type\": \"scattergeo\"}, {\"lat\": [34.852007787191745], \"locationmode\": \"USA-states\", \"lon\": [-80.30402803829271], \"mode\": \"markers\", \"text\": \"P6202054\", \"type\": \"scattergeo\"}, {\"lat\": [33.895748234150005], \"locationmode\": \"USA-states\", \"lon\": [-81.76877471375082], \"mode\": \"markers\", \"text\": \"P6202055\", \"type\": \"scattergeo\"}, {\"lat\": [33.971510501223726], \"locationmode\": \"USA-states\", \"lon\": [-83.31781803986642], \"mode\": \"markers\", \"text\": \"P6202056\", \"type\": \"scattergeo\"}, {\"lat\": [35.37078423047148], \"locationmode\": \"USA-states\", \"lon\": [-79.96464817409208], \"mode\": \"markers\", \"text\": \"P6202057\", \"type\": \"scattergeo\"}, {\"lat\": [34.71963180798663], \"locationmode\": \"USA-states\", \"lon\": [-75.88381527787057], \"mode\": \"markers\", \"text\": \"P6202058\", \"type\": \"scattergeo\"}, {\"lat\": [34.92644502703841], \"locationmode\": \"USA-states\", \"lon\": [-82.87020694285874], \"mode\": \"markers\", \"text\": \"P6202059\", \"type\": \"scattergeo\"}, {\"lat\": [33.9357939051724], \"locationmode\": \"USA-states\", \"lon\": [-77.712060269798], \"mode\": \"markers\", \"text\": \"P6202101\", \"type\": \"scattergeo\"}, {\"lat\": [34.305400866545114], \"locationmode\": \"USA-states\", \"lon\": [-78.35975281192165], \"mode\": \"markers\", \"text\": \"P6202103\", \"type\": \"scattergeo\"}, {\"lat\": [35.098482844012814], \"locationmode\": \"USA-states\", \"lon\": [-78.64072975920023], \"mode\": \"markers\", \"text\": \"P6202104\", \"type\": \"scattergeo\"}, {\"lat\": [33.863891248567235], \"locationmode\": \"USA-states\", \"lon\": [-79.28814670329463], \"mode\": \"markers\", \"text\": \"P6202105\", \"type\": \"scattergeo\"}, {\"lat\": [34.38302881642913], \"locationmode\": \"USA-states\", \"lon\": [-79.94629828824048], \"mode\": \"markers\", \"text\": \"P6202106\", \"type\": \"scattergeo\"}, {\"lat\": [35.84997855787517], \"locationmode\": \"USA-states\", \"lon\": [-76.21916050637006], \"mode\": \"markers\", \"text\": \"P6202109\", \"type\": \"scattergeo\"}, {\"lat\": [34.47318267655882], \"locationmode\": \"USA-states\", \"lon\": [-78.22860935623379], \"mode\": \"markers\", \"text\": \"P6202111\", \"type\": \"scattergeo\"}, {\"lat\": [35.60382646361603], \"locationmode\": \"USA-states\", \"lon\": [-75.42016912243021], \"mode\": \"markers\", \"text\": \"P6202115\", \"type\": \"scattergeo\"}, {\"lat\": [34.43147970357226], \"locationmode\": \"USA-states\", \"lon\": [-82.55082495166945], \"mode\": \"markers\", \"text\": \"P6202116\", \"type\": \"scattergeo\"}, {\"lat\": [34.022676983439425], \"locationmode\": \"USA-states\", \"lon\": [-83.87376837657392], \"mode\": \"markers\", \"text\": \"P6202117\", \"type\": \"scattergeo\"}, {\"lat\": [35.97770237032775], \"locationmode\": \"USA-states\", \"lon\": [-83.09362904961532], \"mode\": \"markers\", \"text\": \"P6202119\", \"type\": \"scattergeo\"}, {\"lat\": [36.04947275888207], \"locationmode\": \"USA-states\", \"lon\": [-79.05338837472549], \"mode\": \"markers\", \"text\": \"P6202121\", \"type\": \"scattergeo\"}, {\"lat\": [35.53514280438474], \"locationmode\": \"USA-states\", \"lon\": [-81.43395423323392], \"mode\": \"markers\", \"text\": \"P6202122\", \"type\": \"scattergeo\"}, {\"lat\": [35.43736118324079], \"locationmode\": \"USA-states\", \"lon\": [-82.2519468447799], \"mode\": \"markers\", \"text\": \"P6202126\", \"type\": \"scattergeo\"}, {\"lat\": [34.56194035149684], \"locationmode\": \"USA-states\", \"lon\": [-80.53870427392282], \"mode\": \"markers\", \"text\": \"P6202129\", \"type\": \"scattergeo\"}, {\"lat\": [33.90818104642283], \"locationmode\": \"USA-states\", \"lon\": [-83.36653085293496], \"mode\": \"markers\", \"text\": \"P6202140\", \"type\": \"scattergeo\"}], \"name\": \"06/20/2015\"}, {\"data\": [{\"lat\": [36.13490478120127], \"locationmode\": \"USA-states\", \"lon\": [-79.72918481790656], \"mode\": \"markers\", \"text\": \"P6212122\", \"type\": \"scattergeo\"}, {\"lat\": [35.09898196220554], \"locationmode\": \"USA-states\", \"lon\": [-75.95583669545536], \"mode\": \"markers\", \"text\": \"P6212123\", \"type\": \"scattergeo\"}, {\"lat\": [34.05685402744141], \"locationmode\": \"USA-states\", \"lon\": [-83.070139979878], \"mode\": \"markers\", \"text\": \"P6212126\", \"type\": \"scattergeo\"}, {\"lat\": [34.82638618720415], \"locationmode\": \"USA-states\", \"lon\": [-77.00221370326983], \"mode\": \"markers\", \"text\": \"P6212127\", \"type\": \"scattergeo\"}, {\"lat\": [35.30153556354931], \"locationmode\": \"USA-states\", \"lon\": [-80.0464912075073], \"mode\": \"markers\", \"text\": \"P6212145\", \"type\": \"scattergeo\"}, {\"lat\": [35.41041170994765], \"locationmode\": \"USA-states\", \"lon\": [-76.54460981696886], \"mode\": \"markers\", \"text\": \"P6212146\", \"type\": \"scattergeo\"}, {\"lat\": [34.07970085815377], \"locationmode\": \"USA-states\", \"lon\": [-79.87240381177688], \"mode\": \"markers\", \"text\": \"P6212154\", \"type\": \"scattergeo\"}, {\"lat\": [34.45431780978289], \"locationmode\": \"USA-states\", \"lon\": [-78.63056240790104], \"mode\": \"markers\", \"text\": \"P6212155\", \"type\": \"scattergeo\"}, {\"lat\": [35.58223486400926], \"locationmode\": \"USA-states\", \"lon\": [-80.25037313195868], \"mode\": \"markers\", \"text\": \"P6212157\", \"type\": \"scattergeo\"}, {\"lat\": [35.90437942035184], \"locationmode\": \"USA-states\", \"lon\": [-78.44014999866808], \"mode\": \"markers\", \"text\": \"P6212159\", \"type\": \"scattergeo\"}, {\"lat\": [35.467287283537146], \"locationmode\": \"USA-states\", \"lon\": [-81.09188404724472], \"mode\": \"markers\", \"text\": \"P6212200\", \"type\": \"scattergeo\"}, {\"lat\": [35.4196041878603], \"locationmode\": \"USA-states\", \"lon\": [-78.44872756696304], \"mode\": \"markers\", \"text\": \"P6212201\", \"type\": \"scattergeo\"}, {\"lat\": [35.49837325481278], \"locationmode\": \"USA-states\", \"lon\": [-82.66954143647865], \"mode\": \"markers\", \"text\": \"P6212205\", \"type\": \"scattergeo\"}, {\"lat\": [35.090963857677785], \"locationmode\": \"USA-states\", \"lon\": [-77.97819978099646], \"mode\": \"markers\", \"text\": \"P6212207\", \"type\": \"scattergeo\"}, {\"lat\": [35.19779286843287], \"locationmode\": \"USA-states\", \"lon\": [-77.0951243588725], \"mode\": \"markers\", \"text\": \"P6212209\", \"type\": \"scattergeo\"}, {\"lat\": [34.1907796349698], \"locationmode\": \"USA-states\", \"lon\": [-77.19723156090075], \"mode\": \"markers\", \"text\": \"P6212211\", \"type\": \"scattergeo\"}, {\"lat\": [36.182098831334216], \"locationmode\": \"USA-states\", \"lon\": [-78.13137415212783], \"mode\": \"markers\", \"text\": \"P6212219\", \"type\": \"scattergeo\"}, {\"lat\": [33.93645894679674], \"locationmode\": \"USA-states\", \"lon\": [-75.4004687521037], \"mode\": \"markers\", \"text\": \"P6212220\", \"type\": \"scattergeo\"}], \"name\": \"06/21/2015\"}, {\"data\": [{\"lat\": [34.22207957197472], \"locationmode\": \"USA-states\", \"lon\": [-81.88895421892182], \"mode\": \"markers\", \"text\": \"P6222148\", \"type\": \"scattergeo\"}, {\"lat\": [34.9469274598418], \"locationmode\": \"USA-states\", \"lon\": [-78.34830761796628], \"mode\": \"markers\", \"text\": \"P6222152\", \"type\": \"scattergeo\"}, {\"lat\": [35.094272353818916], \"locationmode\": \"USA-states\", \"lon\": [-81.81111233456433], \"mode\": \"markers\", \"text\": \"P6222154\", \"type\": \"scattergeo\"}, {\"lat\": [34.31881779572926], \"locationmode\": \"USA-states\", \"lon\": [-75.85372814599619], \"mode\": \"markers\", \"text\": \"P6222157\", \"type\": \"scattergeo\"}, {\"lat\": [36.05224121202632], \"locationmode\": \"USA-states\", \"lon\": [-79.63555251498646], \"mode\": \"markers\", \"text\": \"P6222158\", \"type\": \"scattergeo\"}, {\"lat\": [33.97103739632947], \"locationmode\": \"USA-states\", \"lon\": [-82.53902724665396], \"mode\": \"markers\", \"text\": \"P6222203\", \"type\": \"scattergeo\"}, {\"lat\": [34.01718876883004], \"locationmode\": \"USA-states\", \"lon\": [-82.7051926376709], \"mode\": \"markers\", \"text\": \"P6222204\", \"type\": \"scattergeo\"}, {\"lat\": [35.85670998278797], \"locationmode\": \"USA-states\", \"lon\": [-83.30345280193131], \"mode\": \"markers\", \"text\": \"P6222205\", \"type\": \"scattergeo\"}, {\"lat\": [34.901410237474046], \"locationmode\": \"USA-states\", \"lon\": [-78.46620262451735], \"mode\": \"markers\", \"text\": \"P6222207\", \"type\": \"scattergeo\"}, {\"lat\": [34.74639733250107], \"locationmode\": \"USA-states\", \"lon\": [-77.51780772721689], \"mode\": \"markers\", \"text\": \"P6222209\", \"type\": \"scattergeo\"}, {\"lat\": [35.88263531287518], \"locationmode\": \"USA-states\", \"lon\": [-78.13345394886797], \"mode\": \"markers\", \"text\": \"P6222210\", \"type\": \"scattergeo\"}, {\"lat\": [35.557885600383415], \"locationmode\": \"USA-states\", \"lon\": [-79.70840994893581], \"mode\": \"markers\", \"text\": \"P6222212\", \"type\": \"scattergeo\"}, {\"lat\": [36.29362069905133], \"locationmode\": \"USA-states\", \"lon\": [-83.92112894360858], \"mode\": \"markers\", \"text\": \"P6222214\", \"type\": \"scattergeo\"}, {\"lat\": [34.93958204838307], \"locationmode\": \"USA-states\", \"lon\": [-82.23311059712644], \"mode\": \"markers\", \"text\": \"P6222215\", \"type\": \"scattergeo\"}, {\"lat\": [36.326371630707634], \"locationmode\": \"USA-states\", \"lon\": [-83.9212075777506], \"mode\": \"markers\", \"text\": \"P6222220\", \"type\": \"scattergeo\"}, {\"lat\": [34.49976331743166], \"locationmode\": \"USA-states\", \"lon\": [-82.81210551709151], \"mode\": \"markers\", \"text\": \"P6222221\", \"type\": \"scattergeo\"}, {\"lat\": [34.85925955700307], \"locationmode\": \"USA-states\", \"lon\": [-79.2376804800155], \"mode\": \"markers\", \"text\": \"P6222223\", \"type\": \"scattergeo\"}, {\"lat\": [34.80378322277176], \"locationmode\": \"USA-states\", \"lon\": [-82.86602820444864], \"mode\": \"markers\", \"text\": \"P6222224\", \"type\": \"scattergeo\"}, {\"lat\": [35.687234809164984], \"locationmode\": \"USA-states\", \"lon\": [-83.24589890679523], \"mode\": \"markers\", \"text\": \"P6222226\", \"type\": \"scattergeo\"}, {\"lat\": [36.2198088095771], \"locationmode\": \"USA-states\", \"lon\": [-76.17254623608932], \"mode\": \"markers\", \"text\": \"P6222227\", \"type\": \"scattergeo\"}, {\"lat\": [35.9381815002575], \"locationmode\": \"USA-states\", \"lon\": [-81.64765682219705], \"mode\": \"markers\", \"text\": \"P6222230\", \"type\": \"scattergeo\"}, {\"lat\": [35.30531668096505], \"locationmode\": \"USA-states\", \"lon\": [-83.62460971686077], \"mode\": \"markers\", \"text\": \"P6222231\", \"type\": \"scattergeo\"}, {\"lat\": [36.218967817028], \"locationmode\": \"USA-states\", \"lon\": [-80.92569226845669], \"mode\": \"markers\", \"text\": \"P6222236\", \"type\": \"scattergeo\"}, {\"lat\": [36.11023071462868], \"locationmode\": \"USA-states\", \"lon\": [-78.22741991798027], \"mode\": \"markers\", \"text\": \"P6222237\", \"type\": \"scattergeo\"}, {\"lat\": [36.078218782413266], \"locationmode\": \"USA-states\", \"lon\": [-77.13347207932158], \"mode\": \"markers\", \"text\": \"P6222239\", \"type\": \"scattergeo\"}, {\"lat\": [34.395313649407335], \"locationmode\": \"USA-states\", \"lon\": [-80.34527879135794], \"mode\": \"markers\", \"text\": \"P6222240\", \"type\": \"scattergeo\"}, {\"lat\": [35.76381197004748], \"locationmode\": \"USA-states\", \"lon\": [-83.41733150424857], \"mode\": \"markers\", \"text\": \"P6222244\", \"type\": \"scattergeo\"}], \"name\": \"06/22/2015\"}, {\"data\": [{\"lat\": [35.21721770386012], \"locationmode\": \"USA-states\", \"lon\": [-77.90061270321506], \"mode\": \"markers\", \"text\": \"P6232101\", \"type\": \"scattergeo\"}, {\"lat\": [33.84452362543535], \"locationmode\": \"USA-states\", \"lon\": [-75.1475434325973], \"mode\": \"markers\", \"text\": \"P6232134\", \"type\": \"scattergeo\"}, {\"lat\": [36.21880320542135], \"locationmode\": \"USA-states\", \"lon\": [-75.28889697561365], \"mode\": \"markers\", \"text\": \"P6232135\", \"type\": \"scattergeo\"}, {\"lat\": [36.15284508499799], \"locationmode\": \"USA-states\", \"lon\": [-76.41935058017071], \"mode\": \"markers\", \"text\": \"P6232136\", \"type\": \"scattergeo\"}, {\"lat\": [34.99460664589124], \"locationmode\": \"USA-states\", \"lon\": [-83.0599566486175], \"mode\": \"markers\", \"text\": \"P6232137\", \"type\": \"scattergeo\"}, {\"lat\": [34.463477539380186], \"locationmode\": \"USA-states\", \"lon\": [-82.69783902673926], \"mode\": \"markers\", \"text\": \"P6232138\", \"type\": \"scattergeo\"}, {\"lat\": [34.899198683967], \"locationmode\": \"USA-states\", \"lon\": [-80.62165749453791], \"mode\": \"markers\", \"text\": \"P6232139\", \"type\": \"scattergeo\"}, {\"lat\": [34.481486394691494], \"locationmode\": \"USA-states\", \"lon\": [-78.83704172371155], \"mode\": \"markers\", \"text\": \"P6232140\", \"type\": \"scattergeo\"}, {\"lat\": [36.03312546366626], \"locationmode\": \"USA-states\", \"lon\": [-75.65543555879809], \"mode\": \"markers\", \"text\": \"P6232141\", \"type\": \"scattergeo\"}, {\"lat\": [35.233410871071605], \"locationmode\": \"USA-states\", \"lon\": [-79.45163981859368], \"mode\": \"markers\", \"text\": \"P6232142\", \"type\": \"scattergeo\"}, {\"lat\": [35.03820166408474], \"locationmode\": \"USA-states\", \"lon\": [-83.2586803741902], \"mode\": \"markers\", \"text\": \"P6232143\", \"type\": \"scattergeo\"}, {\"lat\": [35.832577027706755], \"locationmode\": \"USA-states\", \"lon\": [-75.94337256253147], \"mode\": \"markers\", \"text\": \"P6232144\", \"type\": \"scattergeo\"}, {\"lat\": [34.04756004190456], \"locationmode\": \"USA-states\", \"lon\": [-82.95645750188079], \"mode\": \"markers\", \"text\": \"P6232146\", \"type\": \"scattergeo\"}, {\"lat\": [36.28984983415856], \"locationmode\": \"USA-states\", \"lon\": [-78.95164271050638], \"mode\": \"markers\", \"text\": \"P6232147\", \"type\": \"scattergeo\"}, {\"lat\": [36.03097007826546], \"locationmode\": \"USA-states\", \"lon\": [-79.74230638253226], \"mode\": \"markers\", \"text\": \"P6232148\", \"type\": \"scattergeo\"}, {\"lat\": [36.18564667189597], \"locationmode\": \"USA-states\", \"lon\": [-83.6788166117775], \"mode\": \"markers\", \"text\": \"P6232150\", \"type\": \"scattergeo\"}, {\"lat\": [35.20907306546225], \"locationmode\": \"USA-states\", \"lon\": [-81.98101132498903], \"mode\": \"markers\", \"text\": \"P6232151\", \"type\": \"scattergeo\"}, {\"lat\": [36.322345057923975], \"locationmode\": \"USA-states\", \"lon\": [-80.47866895940001], \"mode\": \"markers\", \"text\": \"P6232152\", \"type\": \"scattergeo\"}, {\"lat\": [35.25402972732179], \"locationmode\": \"USA-states\", \"lon\": [-75.84562218632445], \"mode\": \"markers\", \"text\": \"P6232153\", \"type\": \"scattergeo\"}, {\"lat\": [35.04347613565808], \"locationmode\": \"USA-states\", \"lon\": [-82.95111461894646], \"mode\": \"markers\", \"text\": \"P6232154\", \"type\": \"scattergeo\"}, {\"lat\": [34.099386248345475], \"locationmode\": \"USA-states\", \"lon\": [-80.62059301596258], \"mode\": \"markers\", \"text\": \"P6232155\", \"type\": \"scattergeo\"}, {\"lat\": [36.12573689163013], \"locationmode\": \"USA-states\", \"lon\": [-75.9125109257605], \"mode\": \"markers\", \"text\": \"P6232156\", \"type\": \"scattergeo\"}, {\"lat\": [35.17314567508954], \"locationmode\": \"USA-states\", \"lon\": [-76.40381442875038], \"mode\": \"markers\", \"text\": \"P6232157\", \"type\": \"scattergeo\"}, {\"lat\": [34.06061815332366], \"locationmode\": \"USA-states\", \"lon\": [-81.61328508151522], \"mode\": \"markers\", \"text\": \"P6232158\", \"type\": \"scattergeo\"}, {\"lat\": [34.0733309685626], \"locationmode\": \"USA-states\", \"lon\": [-83.33323884261237], \"mode\": \"markers\", \"text\": \"P6232159\", \"type\": \"scattergeo\"}, {\"lat\": [35.98555024747535], \"locationmode\": \"USA-states\", \"lon\": [-76.9490180581547], \"mode\": \"markers\", \"text\": \"P6232200\", \"type\": \"scattergeo\"}, {\"lat\": [35.282726678023366], \"locationmode\": \"USA-states\", \"lon\": [-78.05329812853178], \"mode\": \"markers\", \"text\": \"P6232202\", \"type\": \"scattergeo\"}, {\"lat\": [35.78889007932032], \"locationmode\": \"USA-states\", \"lon\": [-82.1437445180694], \"mode\": \"markers\", \"text\": \"P6232203\", \"type\": \"scattergeo\"}, {\"lat\": [34.47222272244538], \"locationmode\": \"USA-states\", \"lon\": [-78.45722478091756], \"mode\": \"markers\", \"text\": \"P6232204\", \"type\": \"scattergeo\"}, {\"lat\": [34.229097707535395], \"locationmode\": \"USA-states\", \"lon\": [-75.04827373388662], \"mode\": \"markers\", \"text\": \"P6232205\", \"type\": \"scattergeo\"}, {\"lat\": [34.54356665555857], \"locationmode\": \"USA-states\", \"lon\": [-76.9675907084979], \"mode\": \"markers\", \"text\": \"P6232206\", \"type\": \"scattergeo\"}, {\"lat\": [34.486593818267394], \"locationmode\": \"USA-states\", \"lon\": [-76.37838059235422], \"mode\": \"markers\", \"text\": \"P6232207\", \"type\": \"scattergeo\"}, {\"lat\": [35.04066639788423], \"locationmode\": \"USA-states\", \"lon\": [-78.446472863144], \"mode\": \"markers\", \"text\": \"P6232210\", \"type\": \"scattergeo\"}, {\"lat\": [35.76509024377134], \"locationmode\": \"USA-states\", \"lon\": [-81.57877246202615], \"mode\": \"markers\", \"text\": \"P6232211\", \"type\": \"scattergeo\"}, {\"lat\": [35.11263593436904], \"locationmode\": \"USA-states\", \"lon\": [-78.19168033867504], \"mode\": \"markers\", \"text\": \"P6232212\", \"type\": \"scattergeo\"}, {\"lat\": [34.88955480677435], \"locationmode\": \"USA-states\", \"lon\": [-76.13232611000592], \"mode\": \"markers\", \"text\": \"P6232215\", \"type\": \"scattergeo\"}, {\"lat\": [35.89346998431359], \"locationmode\": \"USA-states\", \"lon\": [-77.0826754243299], \"mode\": \"markers\", \"text\": \"P6232217\", \"type\": \"scattergeo\"}, {\"lat\": [36.04628641206567], \"locationmode\": \"USA-states\", \"lon\": [-83.19751054915889], \"mode\": \"markers\", \"text\": \"P6232218\", \"type\": \"scattergeo\"}, {\"lat\": [34.62718093272784], \"locationmode\": \"USA-states\", \"lon\": [-78.9687982948216], \"mode\": \"markers\", \"text\": \"P6232219\", \"type\": \"scattergeo\"}, {\"lat\": [36.14579847980043], \"locationmode\": \"USA-states\", \"lon\": [-75.62479464416586], \"mode\": \"markers\", \"text\": \"P6232220\", \"type\": \"scattergeo\"}, {\"lat\": [34.37161230727227], \"locationmode\": \"USA-states\", \"lon\": [-83.40168227819535], \"mode\": \"markers\", \"text\": \"P6232225\", \"type\": \"scattergeo\"}, {\"lat\": [34.11919052277768], \"locationmode\": \"USA-states\", \"lon\": [-76.61043018094516], \"mode\": \"markers\", \"text\": \"P6232226\", \"type\": \"scattergeo\"}, {\"lat\": [33.923786385820975], \"locationmode\": \"USA-states\", \"lon\": [-80.1153323049619], \"mode\": \"markers\", \"text\": \"P6232228\", \"type\": \"scattergeo\"}, {\"lat\": [35.678260529544275], \"locationmode\": \"USA-states\", \"lon\": [-81.83899017888737], \"mode\": \"markers\", \"text\": \"P6232233\", \"type\": \"scattergeo\"}], \"name\": \"06/23/2015\"}, {\"data\": [{\"lat\": [33.92850770018766], \"locationmode\": \"USA-states\", \"lon\": [-80.79943189524084], \"mode\": \"markers\", \"text\": \"P6242138\", \"type\": \"scattergeo\"}, {\"lat\": [35.292013576039125], \"locationmode\": \"USA-states\", \"lon\": [-78.8134996739462], \"mode\": \"markers\", \"text\": \"P6242139\", \"type\": \"scattergeo\"}, {\"lat\": [34.385944133462644], \"locationmode\": \"USA-states\", \"lon\": [-80.28729965581037], \"mode\": \"markers\", \"text\": \"P6242141\", \"type\": \"scattergeo\"}, {\"lat\": [36.0697764793064], \"locationmode\": \"USA-states\", \"lon\": [-78.4287112732751], \"mode\": \"markers\", \"text\": \"P6242142\", \"type\": \"scattergeo\"}, {\"lat\": [34.04405212529388], \"locationmode\": \"USA-states\", \"lon\": [-82.1035120759548], \"mode\": \"markers\", \"text\": \"P6242143\", \"type\": \"scattergeo\"}, {\"lat\": [35.16895820634206], \"locationmode\": \"USA-states\", \"lon\": [-82.38535984596831], \"mode\": \"markers\", \"text\": \"P6242144\", \"type\": \"scattergeo\"}, {\"lat\": [36.07266920113777], \"locationmode\": \"USA-states\", \"lon\": [-76.5414247890489], \"mode\": \"markers\", \"text\": \"P6242145\", \"type\": \"scattergeo\"}, {\"lat\": [34.338897640862605], \"locationmode\": \"USA-states\", \"lon\": [-79.64436070257666], \"mode\": \"markers\", \"text\": \"P6242150\", \"type\": \"scattergeo\"}, {\"lat\": [36.028905137709835], \"locationmode\": \"USA-states\", \"lon\": [-78.115352944072], \"mode\": \"markers\", \"text\": \"P6242152\", \"type\": \"scattergeo\"}, {\"lat\": [34.64980861806979], \"locationmode\": \"USA-states\", \"lon\": [-83.29927922712395], \"mode\": \"markers\", \"text\": \"P6242153\", \"type\": \"scattergeo\"}, {\"lat\": [33.882784385130186], \"locationmode\": \"USA-states\", \"lon\": [-77.56124481589357], \"mode\": \"markers\", \"text\": \"P6242154\", \"type\": \"scattergeo\"}, {\"lat\": [35.104368790838656], \"locationmode\": \"USA-states\", \"lon\": [-80.67472511979635], \"mode\": \"markers\", \"text\": \"P6242156\", \"type\": \"scattergeo\"}, {\"lat\": [34.685521731304235], \"locationmode\": \"USA-states\", \"lon\": [-75.20226956305567], \"mode\": \"markers\", \"text\": \"P6242157\", \"type\": \"scattergeo\"}, {\"lat\": [36.02751563866607], \"locationmode\": \"USA-states\", \"lon\": [-82.2526678821361], \"mode\": \"markers\", \"text\": \"P6242158\", \"type\": \"scattergeo\"}, {\"lat\": [34.374360512368746], \"locationmode\": \"USA-states\", \"lon\": [-78.04217024479809], \"mode\": \"markers\", \"text\": \"P6242159\", \"type\": \"scattergeo\"}, {\"lat\": [34.578107185343924], \"locationmode\": \"USA-states\", \"lon\": [-78.57355097285509], \"mode\": \"markers\", \"text\": \"P6242202\", \"type\": \"scattergeo\"}, {\"lat\": [34.926563745454935], \"locationmode\": \"USA-states\", \"lon\": [-75.76724598316522], \"mode\": \"markers\", \"text\": \"P6242210\", \"type\": \"scattergeo\"}, {\"lat\": [35.685552929431445], \"locationmode\": \"USA-states\", \"lon\": [-80.89914281432364], \"mode\": \"markers\", \"text\": \"P6242212\", \"type\": \"scattergeo\"}, {\"lat\": [35.038971858356845], \"locationmode\": \"USA-states\", \"lon\": [-76.95354540081468], \"mode\": \"markers\", \"text\": \"P6242213\", \"type\": \"scattergeo\"}, {\"lat\": [34.324307751047314], \"locationmode\": \"USA-states\", \"lon\": [-81.1479548309438], \"mode\": \"markers\", \"text\": \"P6242215\", \"type\": \"scattergeo\"}, {\"lat\": [34.145591987089965], \"locationmode\": \"USA-states\", \"lon\": [-80.77248990979251], \"mode\": \"markers\", \"text\": \"P6242216\", \"type\": \"scattergeo\"}, {\"lat\": [35.94348193228537], \"locationmode\": \"USA-states\", \"lon\": [-75.56151151020195], \"mode\": \"markers\", \"text\": \"P6242221\", \"type\": \"scattergeo\"}], \"name\": \"06/24/2015\"}, {\"data\": [{\"lat\": [34.46719492691339], \"locationmode\": \"USA-states\", \"lon\": [-77.16095994684463], \"mode\": \"markers\", \"text\": \"P6252118\", \"type\": \"scattergeo\"}, {\"lat\": [35.00914578672157], \"locationmode\": \"USA-states\", \"lon\": [-76.63185030888938], \"mode\": \"markers\", \"text\": \"P6252134\", \"type\": \"scattergeo\"}, {\"lat\": [34.55873448304428], \"locationmode\": \"USA-states\", \"lon\": [-81.75305508254728], \"mode\": \"markers\", \"text\": \"P6252137\", \"type\": \"scattergeo\"}, {\"lat\": [36.10595924708369], \"locationmode\": \"USA-states\", \"lon\": [-79.7462959336243], \"mode\": \"markers\", \"text\": \"P6252139\", \"type\": \"scattergeo\"}, {\"lat\": [35.60514146260706], \"locationmode\": \"USA-states\", \"lon\": [-80.57541109928948], \"mode\": \"markers\", \"text\": \"P6252142\", \"type\": \"scattergeo\"}, {\"lat\": [35.92547403758426], \"locationmode\": \"USA-states\", \"lon\": [-80.32120500469325], \"mode\": \"markers\", \"text\": \"P6252143\", \"type\": \"scattergeo\"}, {\"lat\": [34.78736546325808], \"locationmode\": \"USA-states\", \"lon\": [-77.96800296096232], \"mode\": \"markers\", \"text\": \"P6252144\", \"type\": \"scattergeo\"}, {\"lat\": [36.29852774795216], \"locationmode\": \"USA-states\", \"lon\": [-83.26443922799403], \"mode\": \"markers\", \"text\": \"P6252145\", \"type\": \"scattergeo\"}, {\"lat\": [35.1458844780955], \"locationmode\": \"USA-states\", \"lon\": [-77.49369996229436], \"mode\": \"markers\", \"text\": \"P6252146\", \"type\": \"scattergeo\"}, {\"lat\": [35.22307648416193], \"locationmode\": \"USA-states\", \"lon\": [-77.82910779752031], \"mode\": \"markers\", \"text\": \"P6252147\", \"type\": \"scattergeo\"}, {\"lat\": [34.55644767871403], \"locationmode\": \"USA-states\", \"lon\": [-81.39266068099664], \"mode\": \"markers\", \"text\": \"P6252148\", \"type\": \"scattergeo\"}, {\"lat\": [34.26993862998391], \"locationmode\": \"USA-states\", \"lon\": [-81.17720155460975], \"mode\": \"markers\", \"text\": \"P6252149\", \"type\": \"scattergeo\"}, {\"lat\": [35.241690358846746], \"locationmode\": \"USA-states\", \"lon\": [-80.41406443355449], \"mode\": \"markers\", \"text\": \"P6252150\", \"type\": \"scattergeo\"}, {\"lat\": [35.91105488103706], \"locationmode\": \"USA-states\", \"lon\": [-80.38828707613742], \"mode\": \"markers\", \"text\": \"P6252151\", \"type\": \"scattergeo\"}, {\"lat\": [35.67024555909907], \"locationmode\": \"USA-states\", \"lon\": [-81.22128840709178], \"mode\": \"markers\", \"text\": \"P6252152\", \"type\": \"scattergeo\"}, {\"lat\": [35.24032296517496], \"locationmode\": \"USA-states\", \"lon\": [-80.63103103351804], \"mode\": \"markers\", \"text\": \"P6252153\", \"type\": \"scattergeo\"}, {\"lat\": [34.27304644353117], \"locationmode\": \"USA-states\", \"lon\": [-75.29642196086701], \"mode\": \"markers\", \"text\": \"P6252156\", \"type\": \"scattergeo\"}, {\"lat\": [36.2574618551933], \"locationmode\": \"USA-states\", \"lon\": [-79.3726235763347], \"mode\": \"markers\", \"text\": \"P6252157\", \"type\": \"scattergeo\"}, {\"lat\": [36.004377191173354], \"locationmode\": \"USA-states\", \"lon\": [-76.43550300986142], \"mode\": \"markers\", \"text\": \"P6252159\", \"type\": \"scattergeo\"}, {\"lat\": [35.45486726687046], \"locationmode\": \"USA-states\", \"lon\": [-75.82875254415325], \"mode\": \"markers\", \"text\": \"P6252200\", \"type\": \"scattergeo\"}, {\"lat\": [35.09886288675821], \"locationmode\": \"USA-states\", \"lon\": [-83.50374593990774], \"mode\": \"markers\", \"text\": \"P6252204\", \"type\": \"scattergeo\"}, {\"lat\": [35.277569123027526], \"locationmode\": \"USA-states\", \"lon\": [-78.80187180217223], \"mode\": \"markers\", \"text\": \"P6252205\", \"type\": \"scattergeo\"}, {\"lat\": [34.56493097629547], \"locationmode\": \"USA-states\", \"lon\": [-75.22607397809026], \"mode\": \"markers\", \"text\": \"P6252209\", \"type\": \"scattergeo\"}, {\"lat\": [34.00469079730138], \"locationmode\": \"USA-states\", \"lon\": [-81.04456028783527], \"mode\": \"markers\", \"text\": \"P6252211\", \"type\": \"scattergeo\"}, {\"lat\": [34.8470796071096], \"locationmode\": \"USA-states\", \"lon\": [-78.47251737440753], \"mode\": \"markers\", \"text\": \"P6252213\", \"type\": \"scattergeo\"}, {\"lat\": [34.55011610415588], \"locationmode\": \"USA-states\", \"lon\": [-78.87501698370845], \"mode\": \"markers\", \"text\": \"P6252214\", \"type\": \"scattergeo\"}, {\"lat\": [36.06978453477164], \"locationmode\": \"USA-states\", \"lon\": [-77.45663284758946], \"mode\": \"markers\", \"text\": \"P6252216\", \"type\": \"scattergeo\"}, {\"lat\": [35.37203508994355], \"locationmode\": \"USA-states\", \"lon\": [-80.64195111198853], \"mode\": \"markers\", \"text\": \"P6252217\", \"type\": \"scattergeo\"}, {\"lat\": [34.98694581614893], \"locationmode\": \"USA-states\", \"lon\": [-78.16398223589907], \"mode\": \"markers\", \"text\": \"P6252219\", \"type\": \"scattergeo\"}, {\"lat\": [34.29542429435113], \"locationmode\": \"USA-states\", \"lon\": [-81.03262048905948], \"mode\": \"markers\", \"text\": \"P6252220\", \"type\": \"scattergeo\"}, {\"lat\": [33.99201747038343], \"locationmode\": \"USA-states\", \"lon\": [-82.12408157522985], \"mode\": \"markers\", \"text\": \"P6252221\", \"type\": \"scattergeo\"}, {\"lat\": [36.003199825791285], \"locationmode\": \"USA-states\", \"lon\": [-80.79178112087004], \"mode\": \"markers\", \"text\": \"P6252222\", \"type\": \"scattergeo\"}, {\"lat\": [36.046136883666485], \"locationmode\": \"USA-states\", \"lon\": [-78.41789261071595], \"mode\": \"markers\", \"text\": \"P6252223\", \"type\": \"scattergeo\"}, {\"lat\": [34.52530972663753], \"locationmode\": \"USA-states\", \"lon\": [-81.22899343014153], \"mode\": \"markers\", \"text\": \"P6252225\", \"type\": \"scattergeo\"}, {\"lat\": [36.254448415439064], \"locationmode\": \"USA-states\", \"lon\": [-80.08398104070623], \"mode\": \"markers\", \"text\": \"P6252226\", \"type\": \"scattergeo\"}, {\"lat\": [35.61374162666534], \"locationmode\": \"USA-states\", \"lon\": [-83.26282114664254], \"mode\": \"markers\", \"text\": \"P6252227\", \"type\": \"scattergeo\"}, {\"lat\": [36.1687848673691], \"locationmode\": \"USA-states\", \"lon\": [-80.45132583147286], \"mode\": \"markers\", \"text\": \"P6252228\", \"type\": \"scattergeo\"}, {\"lat\": [35.660405040130456], \"locationmode\": \"USA-states\", \"lon\": [-79.675860336155], \"mode\": \"markers\", \"text\": \"P6252229\", \"type\": \"scattergeo\"}, {\"lat\": [33.90108705075166], \"locationmode\": \"USA-states\", \"lon\": [-81.39000917773599], \"mode\": \"markers\", \"text\": \"P6252243\", \"type\": \"scattergeo\"}, {\"lat\": [36.169508918992435], \"locationmode\": \"USA-states\", \"lon\": [-77.80614284283293], \"mode\": \"markers\", \"text\": \"P6252244\", \"type\": \"scattergeo\"}], \"name\": \"06/25/2015\"}, {\"data\": [{\"lat\": [35.06695320995462], \"locationmode\": \"USA-states\", \"lon\": [-75.06447704327358], \"mode\": \"markers\", \"text\": \"P6262135\", \"type\": \"scattergeo\"}, {\"lat\": [36.049353301448015], \"locationmode\": \"USA-states\", \"lon\": [-77.52734520367758], \"mode\": \"markers\", \"text\": \"P6262140\", \"type\": \"scattergeo\"}, {\"lat\": [35.563631161238455], \"locationmode\": \"USA-states\", \"lon\": [-78.44652137933056], \"mode\": \"markers\", \"text\": \"P6262146\", \"type\": \"scattergeo\"}, {\"lat\": [34.76098746316209], \"locationmode\": \"USA-states\", \"lon\": [-77.08151541319212], \"mode\": \"markers\", \"text\": \"P6262147\", \"type\": \"scattergeo\"}, {\"lat\": [34.68106364606515], \"locationmode\": \"USA-states\", \"lon\": [-77.14817995642659], \"mode\": \"markers\", \"text\": \"P6262148\", \"type\": \"scattergeo\"}, {\"lat\": [34.425111106140896], \"locationmode\": \"USA-states\", \"lon\": [-80.29255539204723], \"mode\": \"markers\", \"text\": \"P6262152\", \"type\": \"scattergeo\"}, {\"lat\": [34.38151069008202], \"locationmode\": \"USA-states\", \"lon\": [-76.49423146072934], \"mode\": \"markers\", \"text\": \"P6262200\", \"type\": \"scattergeo\"}, {\"lat\": [35.54451245135881], \"locationmode\": \"USA-states\", \"lon\": [-75.49431807231306], \"mode\": \"markers\", \"text\": \"P6262202\", \"type\": \"scattergeo\"}, {\"lat\": [36.28996379224083], \"locationmode\": \"USA-states\", \"lon\": [-75.7443134212144], \"mode\": \"markers\", \"text\": \"P6262203\", \"type\": \"scattergeo\"}, {\"lat\": [34.98388278452381], \"locationmode\": \"USA-states\", \"lon\": [-82.1779646623703], \"mode\": \"markers\", \"text\": \"P6262206\", \"type\": \"scattergeo\"}, {\"lat\": [34.98241359461038], \"locationmode\": \"USA-states\", \"lon\": [-82.92827380935785], \"mode\": \"markers\", \"text\": \"P6262208\", \"type\": \"scattergeo\"}, {\"lat\": [34.44425025986221], \"locationmode\": \"USA-states\", \"lon\": [-83.37520806623003], \"mode\": \"markers\", \"text\": \"P6262209\", \"type\": \"scattergeo\"}, {\"lat\": [34.88157167585067], \"locationmode\": \"USA-states\", \"lon\": [-77.47736377520536], \"mode\": \"markers\", \"text\": \"P6262214\", \"type\": \"scattergeo\"}, {\"lat\": [34.67801623249787], \"locationmode\": \"USA-states\", \"lon\": [-81.3312441526392], \"mode\": \"markers\", \"text\": \"P6262215\", \"type\": \"scattergeo\"}, {\"lat\": [36.32981657717844], \"locationmode\": \"USA-states\", \"lon\": [-77.26143317504548], \"mode\": \"markers\", \"text\": \"P6262217\", \"type\": \"scattergeo\"}, {\"lat\": [35.813999304283], \"locationmode\": \"USA-states\", \"lon\": [-75.11687530284802], \"mode\": \"markers\", \"text\": \"P6262218\", \"type\": \"scattergeo\"}, {\"lat\": [36.19919025069528], \"locationmode\": \"USA-states\", \"lon\": [-78.78221904271413], \"mode\": \"markers\", \"text\": \"P6262219\", \"type\": \"scattergeo\"}, {\"lat\": [34.243525137059564], \"locationmode\": \"USA-states\", \"lon\": [-78.3926845029314], \"mode\": \"markers\", \"text\": \"P6262220\", \"type\": \"scattergeo\"}], \"name\": \"06/26/2015\"}, {\"data\": [{\"lat\": [34.13256697262072], \"locationmode\": \"USA-states\", \"lon\": [-83.15668075150354], \"mode\": \"markers\", \"text\": \"P6272144\", \"type\": \"scattergeo\"}, {\"lat\": [35.796335116900416], \"locationmode\": \"USA-states\", \"lon\": [-82.44693276065928], \"mode\": \"markers\", \"text\": \"P6272150\", \"type\": \"scattergeo\"}, {\"lat\": [36.31385469570364], \"locationmode\": \"USA-states\", \"lon\": [-77.56290540986907], \"mode\": \"markers\", \"text\": \"P6272151\", \"type\": \"scattergeo\"}, {\"lat\": [33.92651468102276], \"locationmode\": \"USA-states\", \"lon\": [-76.57120201803428], \"mode\": \"markers\", \"text\": \"P6272152\", \"type\": \"scattergeo\"}, {\"lat\": [35.26351628362673], \"locationmode\": \"USA-states\", \"lon\": [-78.5629107142264], \"mode\": \"markers\", \"text\": \"P6272156\", \"type\": \"scattergeo\"}, {\"lat\": [35.87068776280154], \"locationmode\": \"USA-states\", \"lon\": [-81.58808376426718], \"mode\": \"markers\", \"text\": \"P6272159\", \"type\": \"scattergeo\"}, {\"lat\": [33.94204068306151], \"locationmode\": \"USA-states\", \"lon\": [-80.52699981438316], \"mode\": \"markers\", \"text\": \"P6272201\", \"type\": \"scattergeo\"}, {\"lat\": [34.70198824725796], \"locationmode\": \"USA-states\", \"lon\": [-76.10124932560537], \"mode\": \"markers\", \"text\": \"P6272204\", \"type\": \"scattergeo\"}, {\"lat\": [34.68237704098458], \"locationmode\": \"USA-states\", \"lon\": [-81.15762651136157], \"mode\": \"markers\", \"text\": \"P6272205\", \"type\": \"scattergeo\"}, {\"lat\": [35.705399234116065], \"locationmode\": \"USA-states\", \"lon\": [-78.9354657582176], \"mode\": \"markers\", \"text\": \"P6272206\", \"type\": \"scattergeo\"}, {\"lat\": [35.17591595243078], \"locationmode\": \"USA-states\", \"lon\": [-83.5420204565057], \"mode\": \"markers\", \"text\": \"P6272207\", \"type\": \"scattergeo\"}, {\"lat\": [34.67424115291614], \"locationmode\": \"USA-states\", \"lon\": [-75.82267066716759], \"mode\": \"markers\", \"text\": \"P6272208\", \"type\": \"scattergeo\"}, {\"lat\": [34.281934125879275], \"locationmode\": \"USA-states\", \"lon\": [-83.15249562801881], \"mode\": \"markers\", \"text\": \"P6272212\", \"type\": \"scattergeo\"}, {\"lat\": [34.65328494482395], \"locationmode\": \"USA-states\", \"lon\": [-76.27205509479474], \"mode\": \"markers\", \"text\": \"P6272214\", \"type\": \"scattergeo\"}, {\"lat\": [34.71696176136432], \"locationmode\": \"USA-states\", \"lon\": [-77.61798419550246], \"mode\": \"markers\", \"text\": \"P6272215\", \"type\": \"scattergeo\"}, {\"lat\": [33.92909972182156], \"locationmode\": \"USA-states\", \"lon\": [-80.05978115281624], \"mode\": \"markers\", \"text\": \"P6272216\", \"type\": \"scattergeo\"}, {\"lat\": [34.21046139839037], \"locationmode\": \"USA-states\", \"lon\": [-80.31971348891423], \"mode\": \"markers\", \"text\": \"P6272217\", \"type\": \"scattergeo\"}, {\"lat\": [34.756070244409955], \"locationmode\": \"USA-states\", \"lon\": [-76.95285130377792], \"mode\": \"markers\", \"text\": \"P6272218\", \"type\": \"scattergeo\"}], \"name\": \"06/27/2015\"}, {\"data\": [{\"lat\": [35.5380047472968], \"locationmode\": \"USA-states\", \"lon\": [-79.40262338444758], \"mode\": \"markers\", \"text\": \"P6302053\", \"type\": \"scattergeo\"}, {\"lat\": [34.955366854416994], \"locationmode\": \"USA-states\", \"lon\": [-78.87284585060405], \"mode\": \"markers\", \"text\": \"P6302054\", \"type\": \"scattergeo\"}, {\"lat\": [35.91529556539273], \"locationmode\": \"USA-states\", \"lon\": [-81.45375665937847], \"mode\": \"markers\", \"text\": \"P6302109\", \"type\": \"scattergeo\"}, {\"lat\": [33.95752123309262], \"locationmode\": \"USA-states\", \"lon\": [-76.30238128047925], \"mode\": \"markers\", \"text\": \"P6302110\", \"type\": \"scattergeo\"}, {\"lat\": [35.54264064030064], \"locationmode\": \"USA-states\", \"lon\": [-81.59486077264441], \"mode\": \"markers\", \"text\": \"P6302112\", \"type\": \"scattergeo\"}, {\"lat\": [35.8575272416029], \"locationmode\": \"USA-states\", \"lon\": [-81.60857584416829], \"mode\": \"markers\", \"text\": \"P6302113\", \"type\": \"scattergeo\"}, {\"lat\": [34.78787225290133], \"locationmode\": \"USA-states\", \"lon\": [-79.61930452399564], \"mode\": \"markers\", \"text\": \"P6302115\", \"type\": \"scattergeo\"}, {\"lat\": [34.460098460941914], \"locationmode\": \"USA-states\", \"lon\": [-81.63762820409677], \"mode\": \"markers\", \"text\": \"P6302117\", \"type\": \"scattergeo\"}, {\"lat\": [34.4814851318223], \"locationmode\": \"USA-states\", \"lon\": [-83.05288583348785], \"mode\": \"markers\", \"text\": \"P6302125\", \"type\": \"scattergeo\"}, {\"lat\": [34.09919751233425], \"locationmode\": \"USA-states\", \"lon\": [-75.026776681109], \"mode\": \"markers\", \"text\": \"P6302126\", \"type\": \"scattergeo\"}, {\"lat\": [36.11774243633638], \"locationmode\": \"USA-states\", \"lon\": [-80.15265853277884], \"mode\": \"markers\", \"text\": \"P6302129\", \"type\": \"scattergeo\"}, {\"lat\": [33.89439016777092], \"locationmode\": \"USA-states\", \"lon\": [-82.16669613791626], \"mode\": \"markers\", \"text\": \"P6302130\", \"type\": \"scattergeo\"}, {\"lat\": [34.26350316928691], \"locationmode\": \"USA-states\", \"lon\": [-79.83604735411491], \"mode\": \"markers\", \"text\": \"P6302133\", \"type\": \"scattergeo\"}, {\"lat\": [34.636658149945795], \"locationmode\": \"USA-states\", \"lon\": [-82.54021071566707], \"mode\": \"markers\", \"text\": \"P6302135\", \"type\": \"scattergeo\"}, {\"lat\": [35.139424746706716], \"locationmode\": \"USA-states\", \"lon\": [-76.98513801059609], \"mode\": \"markers\", \"text\": \"P6302136\", \"type\": \"scattergeo\"}, {\"lat\": [35.49633436140548], \"locationmode\": \"USA-states\", \"lon\": [-80.16541015208145], \"mode\": \"markers\", \"text\": \"P6302137\", \"type\": \"scattergeo\"}, {\"lat\": [35.14028524581021], \"locationmode\": \"USA-states\", \"lon\": [-79.2420548820809], \"mode\": \"markers\", \"text\": \"P6302138\", \"type\": \"scattergeo\"}, {\"lat\": [36.342573080665794], \"locationmode\": \"USA-states\", \"lon\": [-76.59869266546566], \"mode\": \"markers\", \"text\": \"P6302148\", \"type\": \"scattergeo\"}, {\"lat\": [34.10281968881344], \"locationmode\": \"USA-states\", \"lon\": [-75.97905157056533], \"mode\": \"markers\", \"text\": \"P6302150\", \"type\": \"scattergeo\"}, {\"lat\": [34.744658389995614], \"locationmode\": \"USA-states\", \"lon\": [-76.72768894212105], \"mode\": \"markers\", \"text\": \"P6302151\", \"type\": \"scattergeo\"}, {\"lat\": [34.328622754628306], \"locationmode\": \"USA-states\", \"lon\": [-76.73880788713906], \"mode\": \"markers\", \"text\": \"P6302152\", \"type\": \"scattergeo\"}, {\"lat\": [34.370434287184686], \"locationmode\": \"USA-states\", \"lon\": [-80.03268088683438], \"mode\": \"markers\", \"text\": \"P6302153\", \"type\": \"scattergeo\"}, {\"lat\": [36.26566138721793], \"locationmode\": \"USA-states\", \"lon\": [-80.75852613361182], \"mode\": \"markers\", \"text\": \"P6302154\", \"type\": \"scattergeo\"}, {\"lat\": [34.881379193001514], \"locationmode\": \"USA-states\", \"lon\": [-83.01598018848833], \"mode\": \"markers\", \"text\": \"P6302155\", \"type\": \"scattergeo\"}, {\"lat\": [34.57122112753943], \"locationmode\": \"USA-states\", \"lon\": [-80.28674522423228], \"mode\": \"markers\", \"text\": \"P6302157\", \"type\": \"scattergeo\"}, {\"lat\": [34.87531695002651], \"locationmode\": \"USA-states\", \"lon\": [-80.64793290274591], \"mode\": \"markers\", \"text\": \"P6302204\", \"type\": \"scattergeo\"}], \"name\": \"06/30/2015\"}, {\"data\": [{\"lat\": [35.79201368070274], \"locationmode\": \"USA-states\", \"lon\": [-82.8726444526573], \"mode\": \"markers\", \"text\": \"P7012059\", \"type\": \"scattergeo\"}, {\"lat\": [34.46825927987749], \"locationmode\": \"USA-states\", \"lon\": [-81.69295955606906], \"mode\": \"markers\", \"text\": \"P7012100\", \"type\": \"scattergeo\"}, {\"lat\": [34.986992523207135], \"locationmode\": \"USA-states\", \"lon\": [-77.20106823959937], \"mode\": \"markers\", \"text\": \"P7012101\", \"type\": \"scattergeo\"}, {\"lat\": [35.734623054904056], \"locationmode\": \"USA-states\", \"lon\": [-76.50259904081783], \"mode\": \"markers\", \"text\": \"P7012102\", \"type\": \"scattergeo\"}, {\"lat\": [35.81571955253666], \"locationmode\": \"USA-states\", \"lon\": [-78.59959797080033], \"mode\": \"markers\", \"text\": \"P7012108\", \"type\": \"scattergeo\"}, {\"lat\": [34.28680780187702], \"locationmode\": \"USA-states\", \"lon\": [-80.91307522796835], \"mode\": \"markers\", \"text\": \"P7012109\", \"type\": \"scattergeo\"}, {\"lat\": [33.9219631748116], \"locationmode\": \"USA-states\", \"lon\": [-82.97729216170504], \"mode\": \"markers\", \"text\": \"P7012110\", \"type\": \"scattergeo\"}, {\"lat\": [35.65419049523232], \"locationmode\": \"USA-states\", \"lon\": [-76.95050464483255], \"mode\": \"markers\", \"text\": \"P7012112\", \"type\": \"scattergeo\"}, {\"lat\": [34.59479208751985], \"locationmode\": \"USA-states\", \"lon\": [-79.3766373148943], \"mode\": \"markers\", \"text\": \"P7012113\", \"type\": \"scattergeo\"}, {\"lat\": [36.00878169599221], \"locationmode\": \"USA-states\", \"lon\": [-82.38158593047761], \"mode\": \"markers\", \"text\": \"P7012114\", \"type\": \"scattergeo\"}, {\"lat\": [35.93872361640163], \"locationmode\": \"USA-states\", \"lon\": [-75.81245028656112], \"mode\": \"markers\", \"text\": \"P7012116\", \"type\": \"scattergeo\"}, {\"lat\": [35.74507583776006], \"locationmode\": \"USA-states\", \"lon\": [-76.37614897648534], \"mode\": \"markers\", \"text\": \"P7012118\", \"type\": \"scattergeo\"}, {\"lat\": [34.027356510562335], \"locationmode\": \"USA-states\", \"lon\": [-81.38330905691762], \"mode\": \"markers\", \"text\": \"P7012120\", \"type\": \"scattergeo\"}, {\"lat\": [35.607014938459194], \"locationmode\": \"USA-states\", \"lon\": [-78.05541033728623], \"mode\": \"markers\", \"text\": \"P7012122\", \"type\": \"scattergeo\"}, {\"lat\": [35.487179827313426], \"locationmode\": \"USA-states\", \"lon\": [-80.33885066481321], \"mode\": \"markers\", \"text\": \"P7012125\", \"type\": \"scattergeo\"}, {\"lat\": [34.9772203180374], \"locationmode\": \"USA-states\", \"lon\": [-77.86735707079818], \"mode\": \"markers\", \"text\": \"P7012126\", \"type\": \"scattergeo\"}, {\"lat\": [35.96826203724595], \"locationmode\": \"USA-states\", \"lon\": [-82.40926068173897], \"mode\": \"markers\", \"text\": \"P7012127\", \"type\": \"scattergeo\"}, {\"lat\": [34.89636824355798], \"locationmode\": \"USA-states\", \"lon\": [-82.56305897942724], \"mode\": \"markers\", \"text\": \"P7012128\", \"type\": \"scattergeo\"}, {\"lat\": [34.203955620979855], \"locationmode\": \"USA-states\", \"lon\": [-79.71209357690843], \"mode\": \"markers\", \"text\": \"P7012129\", \"type\": \"scattergeo\"}, {\"lat\": [34.20245532747618], \"locationmode\": \"USA-states\", \"lon\": [-80.47021786956174], \"mode\": \"markers\", \"text\": \"P7012130\", \"type\": \"scattergeo\"}, {\"lat\": [35.258837140998], \"locationmode\": \"USA-states\", \"lon\": [-81.08858440440977], \"mode\": \"markers\", \"text\": \"P7012131\", \"type\": \"scattergeo\"}, {\"lat\": [35.57995375840267], \"locationmode\": \"USA-states\", \"lon\": [-79.15721978897295], \"mode\": \"markers\", \"text\": \"P7012132\", \"type\": \"scattergeo\"}, {\"lat\": [34.47652636356217], \"locationmode\": \"USA-states\", \"lon\": [-80.10193674498208], \"mode\": \"markers\", \"text\": \"P7012133\", \"type\": \"scattergeo\"}, {\"lat\": [34.84760682360115], \"locationmode\": \"USA-states\", \"lon\": [-81.02730728204324], \"mode\": \"markers\", \"text\": \"P7012134\", \"type\": \"scattergeo\"}, {\"lat\": [34.9179465625689], \"locationmode\": \"USA-states\", \"lon\": [-79.4420699853341], \"mode\": \"markers\", \"text\": \"P7012135\", \"type\": \"scattergeo\"}, {\"lat\": [36.22784149219494], \"locationmode\": \"USA-states\", \"lon\": [-83.62505791703325], \"mode\": \"markers\", \"text\": \"P7012136\", \"type\": \"scattergeo\"}, {\"lat\": [35.412679165236845], \"locationmode\": \"USA-states\", \"lon\": [-81.81335276630384], \"mode\": \"markers\", \"text\": \"P7012146\", \"type\": \"scattergeo\"}, {\"lat\": [36.28742764782827], \"locationmode\": \"USA-states\", \"lon\": [-78.88497192014388], \"mode\": \"markers\", \"text\": \"P7012152\", \"type\": \"scattergeo\"}, {\"lat\": [33.92511069596438], \"locationmode\": \"USA-states\", \"lon\": [-80.22777400256679], \"mode\": \"markers\", \"text\": \"P7012156\", \"type\": \"scattergeo\"}, {\"lat\": [36.2298295756272], \"locationmode\": \"USA-states\", \"lon\": [-80.28305059429141], \"mode\": \"markers\", \"text\": \"P7012157\", \"type\": \"scattergeo\"}, {\"lat\": [33.9195362217461], \"locationmode\": \"USA-states\", \"lon\": [-79.27920580570928], \"mode\": \"markers\", \"text\": \"P7012159\", \"type\": \"scattergeo\"}, {\"lat\": [35.17538962187599], \"locationmode\": \"USA-states\", \"lon\": [-83.44944441710958], \"mode\": \"markers\", \"text\": \"P7012200\", \"type\": \"scattergeo\"}, {\"lat\": [36.29956402198148], \"locationmode\": \"USA-states\", \"lon\": [-76.8769653469528], \"mode\": \"markers\", \"text\": \"P7012202\", \"type\": \"scattergeo\"}, {\"lat\": [35.128146034141004], \"locationmode\": \"USA-states\", \"lon\": [-76.3646369513606], \"mode\": \"markers\", \"text\": \"P7012205\", \"type\": \"scattergeo\"}, {\"lat\": [34.50314057467519], \"locationmode\": \"USA-states\", \"lon\": [-80.75921341471906], \"mode\": \"markers\", \"text\": \"P7012210\", \"type\": \"scattergeo\"}], \"name\": \"07/01/2015\"}, {\"data\": [{\"lat\": [36.04120389376829], \"locationmode\": \"USA-states\", \"lon\": [-82.8688974368132], \"mode\": \"markers\", \"text\": \"P7032125\", \"type\": \"scattergeo\"}, {\"lat\": [35.09780929153317], \"locationmode\": \"USA-states\", \"lon\": [-81.36640429447522], \"mode\": \"markers\", \"text\": \"P7032129\", \"type\": \"scattergeo\"}, {\"lat\": [36.24917455892017], \"locationmode\": \"USA-states\", \"lon\": [-77.30939047709587], \"mode\": \"markers\", \"text\": \"P7032133\", \"type\": \"scattergeo\"}, {\"lat\": [34.416925825320234], \"locationmode\": \"USA-states\", \"lon\": [-78.73278058459941], \"mode\": \"markers\", \"text\": \"P7032134\", \"type\": \"scattergeo\"}, {\"lat\": [35.84891468368848], \"locationmode\": \"USA-states\", \"lon\": [-75.9552344381807], \"mode\": \"markers\", \"text\": \"P7032135\", \"type\": \"scattergeo\"}, {\"lat\": [35.15694570198888], \"locationmode\": \"USA-states\", \"lon\": [-77.58551981004558], \"mode\": \"markers\", \"text\": \"P7032137\", \"type\": \"scattergeo\"}, {\"lat\": [36.27609626957441], \"locationmode\": \"USA-states\", \"lon\": [-76.74158006102185], \"mode\": \"markers\", \"text\": \"P7032139\", \"type\": \"scattergeo\"}, {\"lat\": [34.587087524398086], \"locationmode\": \"USA-states\", \"lon\": [-78.58210576564672], \"mode\": \"markers\", \"text\": \"P7032140\", \"type\": \"scattergeo\"}, {\"lat\": [35.07189738561032], \"locationmode\": \"USA-states\", \"lon\": [-80.35677545386584], \"mode\": \"markers\", \"text\": \"P7032143\", \"type\": \"scattergeo\"}, {\"lat\": [33.90980448537982], \"locationmode\": \"USA-states\", \"lon\": [-82.09269516192018], \"mode\": \"markers\", \"text\": \"P7032144\", \"type\": \"scattergeo\"}, {\"lat\": [34.58786281966691], \"locationmode\": \"USA-states\", \"lon\": [-78.18097529775565], \"mode\": \"markers\", \"text\": \"P7032145\", \"type\": \"scattergeo\"}, {\"lat\": [33.84071372158457], \"locationmode\": \"USA-states\", \"lon\": [-79.36587263692581], \"mode\": \"markers\", \"text\": \"P7032147\", \"type\": \"scattergeo\"}, {\"lat\": [35.450581344011916], \"locationmode\": \"USA-states\", \"lon\": [-82.48783034674872], \"mode\": \"markers\", \"text\": \"P7032151\", \"type\": \"scattergeo\"}, {\"lat\": [35.89746634167077], \"locationmode\": \"USA-states\", \"lon\": [-83.164286106805], \"mode\": \"markers\", \"text\": \"P7032153\", \"type\": \"scattergeo\"}, {\"lat\": [35.46761665442179], \"locationmode\": \"USA-states\", \"lon\": [-81.34648104208675], \"mode\": \"markers\", \"text\": \"P7032155\", \"type\": \"scattergeo\"}, {\"lat\": [36.06207224905978], \"locationmode\": \"USA-states\", \"lon\": [-82.14124003841559], \"mode\": \"markers\", \"text\": \"P7032156\", \"type\": \"scattergeo\"}, {\"lat\": [35.22894601507283], \"locationmode\": \"USA-states\", \"lon\": [-77.5956522890867], \"mode\": \"markers\", \"text\": \"P7032158\", \"type\": \"scattergeo\"}, {\"lat\": [35.2521524848017], \"locationmode\": \"USA-states\", \"lon\": [-81.07287430771636], \"mode\": \"markers\", \"text\": \"P7032159\", \"type\": \"scattergeo\"}, {\"lat\": [35.0807644448817], \"locationmode\": \"USA-states\", \"lon\": [-80.95937307172618], \"mode\": \"markers\", \"text\": \"P7032201\", \"type\": \"scattergeo\"}, {\"lat\": [34.831285271015936], \"locationmode\": \"USA-states\", \"lon\": [-82.55336146884571], \"mode\": \"markers\", \"text\": \"P7032206\", \"type\": \"scattergeo\"}, {\"lat\": [34.24152049095768], \"locationmode\": \"USA-states\", \"lon\": [-82.67085723103169], \"mode\": \"markers\", \"text\": \"P7032208\", \"type\": \"scattergeo\"}, {\"lat\": [36.066640045304425], \"locationmode\": \"USA-states\", \"lon\": [-80.9694384627175], \"mode\": \"markers\", \"text\": \"P7032209\", \"type\": \"scattergeo\"}], \"name\": \"07/03/2015\"}, {\"data\": [{\"lat\": [36.194085752224524], \"locationmode\": \"USA-states\", \"lon\": [-77.05035610273175], \"mode\": \"markers\", \"text\": \"P7052148\", \"type\": \"scattergeo\"}, {\"lat\": [36.20224250252995], \"locationmode\": \"USA-states\", \"lon\": [-76.82632683961533], \"mode\": \"markers\", \"text\": \"P7052152\", \"type\": \"scattergeo\"}, {\"lat\": [35.73792055567563], \"locationmode\": \"USA-states\", \"lon\": [-80.69625901826923], \"mode\": \"markers\", \"text\": \"P7052154\", \"type\": \"scattergeo\"}, {\"lat\": [34.35451223834787], \"locationmode\": \"USA-states\", \"lon\": [-76.67805221376065], \"mode\": \"markers\", \"text\": \"P7052155\", \"type\": \"scattergeo\"}, {\"lat\": [34.995118493160476], \"locationmode\": \"USA-states\", \"lon\": [-80.85381919439642], \"mode\": \"markers\", \"text\": \"P7052158\", \"type\": \"scattergeo\"}, {\"lat\": [35.00519099647708], \"locationmode\": \"USA-states\", \"lon\": [-77.86773216065907], \"mode\": \"markers\", \"text\": \"P7052159\", \"type\": \"scattergeo\"}, {\"lat\": [35.50477240847433], \"locationmode\": \"USA-states\", \"lon\": [-78.66325877262503], \"mode\": \"markers\", \"text\": \"P7052200\", \"type\": \"scattergeo\"}, {\"lat\": [33.867641682173904], \"locationmode\": \"USA-states\", \"lon\": [-77.37594348930341], \"mode\": \"markers\", \"text\": \"P7052201\", \"type\": \"scattergeo\"}, {\"lat\": [36.01930624964404], \"locationmode\": \"USA-states\", \"lon\": [-83.16983295502405], \"mode\": \"markers\", \"text\": \"P7052205\", \"type\": \"scattergeo\"}, {\"lat\": [34.121303419347974], \"locationmode\": \"USA-states\", \"lon\": [-78.06195056175667], \"mode\": \"markers\", \"text\": \"P7052206\", \"type\": \"scattergeo\"}, {\"lat\": [35.66307210218563], \"locationmode\": \"USA-states\", \"lon\": [-81.66524579448362], \"mode\": \"markers\", \"text\": \"P7052210\", \"type\": \"scattergeo\"}, {\"lat\": [34.721753919729], \"locationmode\": \"USA-states\", \"lon\": [-75.43887418575642], \"mode\": \"markers\", \"text\": \"P7052213\", \"type\": \"scattergeo\"}, {\"lat\": [35.23698171137731], \"locationmode\": \"USA-states\", \"lon\": [-83.0279422493082], \"mode\": \"markers\", \"text\": \"P7052214\", \"type\": \"scattergeo\"}, {\"lat\": [34.61378646614812], \"locationmode\": \"USA-states\", \"lon\": [-77.83580759102192], \"mode\": \"markers\", \"text\": \"P7052216\", \"type\": \"scattergeo\"}, {\"lat\": [35.94540153403643], \"locationmode\": \"USA-states\", \"lon\": [-77.15312389418176], \"mode\": \"markers\", \"text\": \"P7052221\", \"type\": \"scattergeo\"}, {\"lat\": [35.260551438511015], \"locationmode\": \"USA-states\", \"lon\": [-75.84460527755526], \"mode\": \"markers\", \"text\": \"P7052224\", \"type\": \"scattergeo\"}, {\"lat\": [35.37604601630332], \"locationmode\": \"USA-states\", \"lon\": [-77.93303076852281], \"mode\": \"markers\", \"text\": \"P7052228\", \"type\": \"scattergeo\"}, {\"lat\": [36.264738175074015], \"locationmode\": \"USA-states\", \"lon\": [-78.78704799948791], \"mode\": \"markers\", \"text\": \"P7052229\", \"type\": \"scattergeo\"}], \"name\": \"07/05/2015\"}, {\"data\": [{\"lat\": [34.02471978439722], \"locationmode\": \"USA-states\", \"lon\": [-80.3062441624523], \"mode\": \"markers\", \"text\": \"P7062104\", \"type\": \"scattergeo\"}, {\"lat\": [34.33108013743776], \"locationmode\": \"USA-states\", \"lon\": [-80.69853185422969], \"mode\": \"markers\", \"text\": \"P7062111\", \"type\": \"scattergeo\"}, {\"lat\": [34.033429777307674], \"locationmode\": \"USA-states\", \"lon\": [-80.84802950685899], \"mode\": \"markers\", \"text\": \"P7062112\", \"type\": \"scattergeo\"}, {\"lat\": [34.11829351013137], \"locationmode\": \"USA-states\", \"lon\": [-76.46092629175246], \"mode\": \"markers\", \"text\": \"P7062115\", \"type\": \"scattergeo\"}, {\"lat\": [35.99203797918535], \"locationmode\": \"USA-states\", \"lon\": [-75.84975711380827], \"mode\": \"markers\", \"text\": \"P7062117\", \"type\": \"scattergeo\"}, {\"lat\": [34.785019902688], \"locationmode\": \"USA-states\", \"lon\": [-78.12713781513801], \"mode\": \"markers\", \"text\": \"P7062124\", \"type\": \"scattergeo\"}, {\"lat\": [34.789687129811256], \"locationmode\": \"USA-states\", \"lon\": [-77.25053827662133], \"mode\": \"markers\", \"text\": \"P7062126\", \"type\": \"scattergeo\"}, {\"lat\": [34.955796517853685], \"locationmode\": \"USA-states\", \"lon\": [-77.83092023281824], \"mode\": \"markers\", \"text\": \"P7062128\", \"type\": \"scattergeo\"}, {\"lat\": [33.92539007684116], \"locationmode\": \"USA-states\", \"lon\": [-80.87461071460244], \"mode\": \"markers\", \"text\": \"P7062129\", \"type\": \"scattergeo\"}, {\"lat\": [35.438389695273045], \"locationmode\": \"USA-states\", \"lon\": [-75.30476205487754], \"mode\": \"markers\", \"text\": \"P7062130\", \"type\": \"scattergeo\"}, {\"lat\": [34.45780553373467], \"locationmode\": \"USA-states\", \"lon\": [-78.60113442137686], \"mode\": \"markers\", \"text\": \"P7062134\", \"type\": \"scattergeo\"}, {\"lat\": [36.24584567767464], \"locationmode\": \"USA-states\", \"lon\": [-81.13499227006254], \"mode\": \"markers\", \"text\": \"P7062137\", \"type\": \"scattergeo\"}, {\"lat\": [35.489283582560546], \"locationmode\": \"USA-states\", \"lon\": [-83.00435931757234], \"mode\": \"markers\", \"text\": \"P7062138\", \"type\": \"scattergeo\"}, {\"lat\": [34.02875903488042], \"locationmode\": \"USA-states\", \"lon\": [-80.61106865707022], \"mode\": \"markers\", \"text\": \"P7062139\", \"type\": \"scattergeo\"}, {\"lat\": [33.838179215931774], \"locationmode\": \"USA-states\", \"lon\": [-82.13969488453513], \"mode\": \"markers\", \"text\": \"P7062141\", \"type\": \"scattergeo\"}, {\"lat\": [35.147681917965905], \"locationmode\": \"USA-states\", \"lon\": [-75.78240821998864], \"mode\": \"markers\", \"text\": \"P7062143\", \"type\": \"scattergeo\"}, {\"lat\": [34.84351142834262], \"locationmode\": \"USA-states\", \"lon\": [-82.85372311567238], \"mode\": \"markers\", \"text\": \"P7062155\", \"type\": \"scattergeo\"}, {\"lat\": [34.644816218966035], \"locationmode\": \"USA-states\", \"lon\": [-77.49765051038914], \"mode\": \"markers\", \"text\": \"P7062156\", \"type\": \"scattergeo\"}, {\"lat\": [36.16238131471823], \"locationmode\": \"USA-states\", \"lon\": [-78.76308027016486], \"mode\": \"markers\", \"text\": \"P7062200\", \"type\": \"scattergeo\"}, {\"lat\": [34.79970622633511], \"locationmode\": \"USA-states\", \"lon\": [-80.51346420743693], \"mode\": \"markers\", \"text\": \"P7062201\", \"type\": \"scattergeo\"}], \"name\": \"07/06/2015\"}, {\"data\": [{\"lat\": [35.23311694604678], \"locationmode\": \"USA-states\", \"lon\": [-81.3719316159096], \"mode\": \"markers\", \"text\": \"P7082105\", \"type\": \"scattergeo\"}, {\"lat\": [34.444969337740915], \"locationmode\": \"USA-states\", \"lon\": [-80.44978883508216], \"mode\": \"markers\", \"text\": \"P7082106\", \"type\": \"scattergeo\"}, {\"lat\": [34.26476361055353], \"locationmode\": \"USA-states\", \"lon\": [-75.46524921321189], \"mode\": \"markers\", \"text\": \"P7082112\", \"type\": \"scattergeo\"}, {\"lat\": [36.2485399260316], \"locationmode\": \"USA-states\", \"lon\": [-83.55510446856248], \"mode\": \"markers\", \"text\": \"P7082113\", \"type\": \"scattergeo\"}, {\"lat\": [35.59630911169981], \"locationmode\": \"USA-states\", \"lon\": [-75.88403194465221], \"mode\": \"markers\", \"text\": \"P7082115\", \"type\": \"scattergeo\"}, {\"lat\": [35.68223925551749], \"locationmode\": \"USA-states\", \"lon\": [-77.60624879062588], \"mode\": \"markers\", \"text\": \"P7082119\", \"type\": \"scattergeo\"}, {\"lat\": [34.18637337653955], \"locationmode\": \"USA-states\", \"lon\": [-83.7978099952915], \"mode\": \"markers\", \"text\": \"P7082128\", \"type\": \"scattergeo\"}, {\"lat\": [35.129367756616325], \"locationmode\": \"USA-states\", \"lon\": [-77.0025273114313], \"mode\": \"markers\", \"text\": \"P7082129\", \"type\": \"scattergeo\"}, {\"lat\": [34.42154318501689], \"locationmode\": \"USA-states\", \"lon\": [-79.78057523971144], \"mode\": \"markers\", \"text\": \"P7082130\", \"type\": \"scattergeo\"}, {\"lat\": [35.52649640742911], \"locationmode\": \"USA-states\", \"lon\": [-76.58508218216768], \"mode\": \"markers\", \"text\": \"P7082131\", \"type\": \"scattergeo\"}, {\"lat\": [35.987843083943936], \"locationmode\": \"USA-states\", \"lon\": [-76.5893925903172], \"mode\": \"markers\", \"text\": \"P7082132\", \"type\": \"scattergeo\"}, {\"lat\": [34.09261966525258], \"locationmode\": \"USA-states\", \"lon\": [-77.4743807722202], \"mode\": \"markers\", \"text\": \"P7082134\", \"type\": \"scattergeo\"}, {\"lat\": [33.96145945967893], \"locationmode\": \"USA-states\", \"lon\": [-81.79129891890135], \"mode\": \"markers\", \"text\": \"P7082135\", \"type\": \"scattergeo\"}, {\"lat\": [35.37202475655203], \"locationmode\": \"USA-states\", \"lon\": [-76.56923323753834], \"mode\": \"markers\", \"text\": \"P7082136\", \"type\": \"scattergeo\"}, {\"lat\": [35.85938087337043], \"locationmode\": \"USA-states\", \"lon\": [-83.20782372452929], \"mode\": \"markers\", \"text\": \"P7082138\", \"type\": \"scattergeo\"}, {\"lat\": [35.857346437544145], \"locationmode\": \"USA-states\", \"lon\": [-76.13466554813996], \"mode\": \"markers\", \"text\": \"P7082139\", \"type\": \"scattergeo\"}, {\"lat\": [35.614461766783876], \"locationmode\": \"USA-states\", \"lon\": [-78.28528099476723], \"mode\": \"markers\", \"text\": \"P7082140\", \"type\": \"scattergeo\"}, {\"lat\": [35.538767732734726], \"locationmode\": \"USA-states\", \"lon\": [-83.71258571525973], \"mode\": \"markers\", \"text\": \"P7082142\", \"type\": \"scattergeo\"}, {\"lat\": [34.3224374231039], \"locationmode\": \"USA-states\", \"lon\": [-78.53389246531628], \"mode\": \"markers\", \"text\": \"P7082143\", \"type\": \"scattergeo\"}, {\"lat\": [35.79199602450396], \"locationmode\": \"USA-states\", \"lon\": [-78.68017666878738], \"mode\": \"markers\", \"text\": \"P7082144\", \"type\": \"scattergeo\"}, {\"lat\": [34.70066896780249], \"locationmode\": \"USA-states\", \"lon\": [-80.32481292795643], \"mode\": \"markers\", \"text\": \"P7082145\", \"type\": \"scattergeo\"}, {\"lat\": [34.28804711900257], \"locationmode\": \"USA-states\", \"lon\": [-81.65799266196397], \"mode\": \"markers\", \"text\": \"P7082146\", \"type\": \"scattergeo\"}, {\"lat\": [34.703618495958274], \"locationmode\": \"USA-states\", \"lon\": [-77.77807574226209], \"mode\": \"markers\", \"text\": \"P7082152\", \"type\": \"scattergeo\"}, {\"lat\": [34.640297509996195], \"locationmode\": \"USA-states\", \"lon\": [-76.52057228693727], \"mode\": \"markers\", \"text\": \"P7082153\", \"type\": \"scattergeo\"}, {\"lat\": [34.42631064650009], \"locationmode\": \"USA-states\", \"lon\": [-76.48891915079125], \"mode\": \"markers\", \"text\": \"P7082158\", \"type\": \"scattergeo\"}, {\"lat\": [34.12633242922454], \"locationmode\": \"USA-states\", \"lon\": [-80.2332222034008], \"mode\": \"markers\", \"text\": \"P7082201\", \"type\": \"scattergeo\"}, {\"lat\": [34.34260768548445], \"locationmode\": \"USA-states\", \"lon\": [-82.52022425740493], \"mode\": \"markers\", \"text\": \"P7082203\", \"type\": \"scattergeo\"}, {\"lat\": [35.293713396698145], \"locationmode\": \"USA-states\", \"lon\": [-75.68106026155228], \"mode\": \"markers\", \"text\": \"P7082204\", \"type\": \"scattergeo\"}, {\"lat\": [34.025178738162765], \"locationmode\": \"USA-states\", \"lon\": [-76.32530285502702], \"mode\": \"markers\", \"text\": \"P7082205\", \"type\": \"scattergeo\"}, {\"lat\": [35.35499108974425], \"locationmode\": \"USA-states\", \"lon\": [-77.34842246959789], \"mode\": \"markers\", \"text\": \"P7082206\", \"type\": \"scattergeo\"}], \"name\": \"07/08/2015\"}, {\"data\": [{\"lat\": [34.915180568916966], \"locationmode\": \"USA-states\", \"lon\": [-77.73497248663733], \"mode\": \"markers\", \"text\": \"P7092116\", \"type\": \"scattergeo\"}, {\"lat\": [35.43612639277524], \"locationmode\": \"USA-states\", \"lon\": [-75.32570918867468], \"mode\": \"markers\", \"text\": \"P7092120\", \"type\": \"scattergeo\"}, {\"lat\": [33.91950092737564], \"locationmode\": \"USA-states\", \"lon\": [-81.05797876012794], \"mode\": \"markers\", \"text\": \"P7092121\", \"type\": \"scattergeo\"}, {\"lat\": [34.13567291958615], \"locationmode\": \"USA-states\", \"lon\": [-80.79417258634265], \"mode\": \"markers\", \"text\": \"P7092122\", \"type\": \"scattergeo\"}, {\"lat\": [34.788670508841406], \"locationmode\": \"USA-states\", \"lon\": [-79.57942887362391], \"mode\": \"markers\", \"text\": \"P7092123\", \"type\": \"scattergeo\"}, {\"lat\": [35.53848493669569], \"locationmode\": \"USA-states\", \"lon\": [-83.56205254180327], \"mode\": \"markers\", \"text\": \"P7092124\", \"type\": \"scattergeo\"}, {\"lat\": [36.1792120394315], \"locationmode\": \"USA-states\", \"lon\": [-77.23473155532238], \"mode\": \"markers\", \"text\": \"P7092128\", \"type\": \"scattergeo\"}, {\"lat\": [35.73689590138587], \"locationmode\": \"USA-states\", \"lon\": [-75.44766773905843], \"mode\": \"markers\", \"text\": \"P7092130\", \"type\": \"scattergeo\"}, {\"lat\": [35.42391620876245], \"locationmode\": \"USA-states\", \"lon\": [-82.35489946873511], \"mode\": \"markers\", \"text\": \"P7092131\", \"type\": \"scattergeo\"}, {\"lat\": [34.75758713865108], \"locationmode\": \"USA-states\", \"lon\": [-79.31810248132277], \"mode\": \"markers\", \"text\": \"P7092134\", \"type\": \"scattergeo\"}, {\"lat\": [35.52903305532509], \"locationmode\": \"USA-states\", \"lon\": [-79.39099996682275], \"mode\": \"markers\", \"text\": \"P7092136\", \"type\": \"scattergeo\"}, {\"lat\": [35.82879606488544], \"locationmode\": \"USA-states\", \"lon\": [-76.22596850715911], \"mode\": \"markers\", \"text\": \"P7092137\", \"type\": \"scattergeo\"}, {\"lat\": [34.63487792547232], \"locationmode\": \"USA-states\", \"lon\": [-81.05062285511384], \"mode\": \"markers\", \"text\": \"P7092141\", \"type\": \"scattergeo\"}, {\"lat\": [33.929978999525886], \"locationmode\": \"USA-states\", \"lon\": [-83.7261981476831], \"mode\": \"markers\", \"text\": \"P7092142\", \"type\": \"scattergeo\"}, {\"lat\": [34.759171772902235], \"locationmode\": \"USA-states\", \"lon\": [-81.02161112473598], \"mode\": \"markers\", \"text\": \"P7092143\", \"type\": \"scattergeo\"}, {\"lat\": [35.069792848676194], \"locationmode\": \"USA-states\", \"lon\": [-78.96146884566565], \"mode\": \"markers\", \"text\": \"P7092144\", \"type\": \"scattergeo\"}, {\"lat\": [34.256947840144505], \"locationmode\": \"USA-states\", \"lon\": [-81.89778744586056], \"mode\": \"markers\", \"text\": \"P7092145\", \"type\": \"scattergeo\"}, {\"lat\": [34.15729275560402], \"locationmode\": \"USA-states\", \"lon\": [-80.1717546651228], \"mode\": \"markers\", \"text\": \"P7092146\", \"type\": \"scattergeo\"}, {\"lat\": [36.28461914728719], \"locationmode\": \"USA-states\", \"lon\": [-75.47065992301711], \"mode\": \"markers\", \"text\": \"P7092147\", \"type\": \"scattergeo\"}, {\"lat\": [35.22044220949479], \"locationmode\": \"USA-states\", \"lon\": [-76.39444175225333], \"mode\": \"markers\", \"text\": \"P7092148\", \"type\": \"scattergeo\"}, {\"lat\": [36.03818351802967], \"locationmode\": \"USA-states\", \"lon\": [-80.58908067620845], \"mode\": \"markers\", \"text\": \"P7092149\", \"type\": \"scattergeo\"}, {\"lat\": [34.213194207366165], \"locationmode\": \"USA-states\", \"lon\": [-76.12067625283274], \"mode\": \"markers\", \"text\": \"P7092150\", \"type\": \"scattergeo\"}, {\"lat\": [36.28483776155291], \"locationmode\": \"USA-states\", \"lon\": [-83.20891672920762], \"mode\": \"markers\", \"text\": \"P7092151\", \"type\": \"scattergeo\"}, {\"lat\": [33.85558223169896], \"locationmode\": \"USA-states\", \"lon\": [-81.08773836634471], \"mode\": \"markers\", \"text\": \"P7092152\", \"type\": \"scattergeo\"}, {\"lat\": [36.087912737384656], \"locationmode\": \"USA-states\", \"lon\": [-83.46079094632019], \"mode\": \"markers\", \"text\": \"P7092153\", \"type\": \"scattergeo\"}, {\"lat\": [34.520036477104156], \"locationmode\": \"USA-states\", \"lon\": [-80.20372815256324], \"mode\": \"markers\", \"text\": \"P7092154\", \"type\": \"scattergeo\"}, {\"lat\": [35.14612320778517], \"locationmode\": \"USA-states\", \"lon\": [-75.51269527811893], \"mode\": \"markers\", \"text\": \"P7092155\", \"type\": \"scattergeo\"}, {\"lat\": [35.276266488701644], \"locationmode\": \"USA-states\", \"lon\": [-82.1794921929876], \"mode\": \"markers\", \"text\": \"P7092157\", \"type\": \"scattergeo\"}, {\"lat\": [35.82015775519662], \"locationmode\": \"USA-states\", \"lon\": [-81.05560091411512], \"mode\": \"markers\", \"text\": \"P7092158\", \"type\": \"scattergeo\"}, {\"lat\": [34.79952854038346], \"locationmode\": \"USA-states\", \"lon\": [-82.78037155944038], \"mode\": \"markers\", \"text\": \"P7092159\", \"type\": \"scattergeo\"}, {\"lat\": [35.807605218420505], \"locationmode\": \"USA-states\", \"lon\": [-77.3863567260512], \"mode\": \"markers\", \"text\": \"P7092200\", \"type\": \"scattergeo\"}, {\"lat\": [35.16690465691267], \"locationmode\": \"USA-states\", \"lon\": [-75.19163641871877], \"mode\": \"markers\", \"text\": \"P7092201\", \"type\": \"scattergeo\"}, {\"lat\": [35.613876161142905], \"locationmode\": \"USA-states\", \"lon\": [-77.70666012116853], \"mode\": \"markers\", \"text\": \"P7092202\", \"type\": \"scattergeo\"}, {\"lat\": [34.784573032071016], \"locationmode\": \"USA-states\", \"lon\": [-83.4431035371965], \"mode\": \"markers\", \"text\": \"P7092203\", \"type\": \"scattergeo\"}, {\"lat\": [35.77940647137769], \"locationmode\": \"USA-states\", \"lon\": [-82.65281627243284], \"mode\": \"markers\", \"text\": \"P7092204\", \"type\": \"scattergeo\"}, {\"lat\": [35.221242190798876], \"locationmode\": \"USA-states\", \"lon\": [-77.71475026516174], \"mode\": \"markers\", \"text\": \"P7092205\", \"type\": \"scattergeo\"}, {\"lat\": [35.09839099749194], \"locationmode\": \"USA-states\", \"lon\": [-81.62541128216985], \"mode\": \"markers\", \"text\": \"P7092206\", \"type\": \"scattergeo\"}, {\"lat\": [35.879826252489956], \"locationmode\": \"USA-states\", \"lon\": [-78.19842349835947], \"mode\": \"markers\", \"text\": \"P7092207\", \"type\": \"scattergeo\"}], \"name\": \"07/09/2015\"}, {\"data\": [{\"lat\": [33.918842159766776], \"locationmode\": \"USA-states\", \"lon\": [-78.46958772947347], \"mode\": \"markers\", \"text\": \"P7102113\", \"type\": \"scattergeo\"}, {\"lat\": [35.11190650174188], \"locationmode\": \"USA-states\", \"lon\": [-77.30403031909437], \"mode\": \"markers\", \"text\": \"P7102119\", \"type\": \"scattergeo\"}, {\"lat\": [36.153216965750815], \"locationmode\": \"USA-states\", \"lon\": [-80.0229510932819], \"mode\": \"markers\", \"text\": \"P7102120\", \"type\": \"scattergeo\"}, {\"lat\": [34.96521249477401], \"locationmode\": \"USA-states\", \"lon\": [-79.3721907205882], \"mode\": \"markers\", \"text\": \"P7102126\", \"type\": \"scattergeo\"}, {\"lat\": [34.689347831464936], \"locationmode\": \"USA-states\", \"lon\": [-77.94302359570018], \"mode\": \"markers\", \"text\": \"P7102127\", \"type\": \"scattergeo\"}, {\"lat\": [34.85763763927943], \"locationmode\": \"USA-states\", \"lon\": [-81.4387625826978], \"mode\": \"markers\", \"text\": \"P7102128\", \"type\": \"scattergeo\"}, {\"lat\": [35.466096744953916], \"locationmode\": \"USA-states\", \"lon\": [-79.82349564140863], \"mode\": \"markers\", \"text\": \"P7102129\", \"type\": \"scattergeo\"}, {\"lat\": [36.18344083839539], \"locationmode\": \"USA-states\", \"lon\": [-77.44311857166159], \"mode\": \"markers\", \"text\": \"P7102130\", \"type\": \"scattergeo\"}, {\"lat\": [36.028506629967666], \"locationmode\": \"USA-states\", \"lon\": [-75.69445774651619], \"mode\": \"markers\", \"text\": \"P7102132\", \"type\": \"scattergeo\"}, {\"lat\": [34.01988742976068], \"locationmode\": \"USA-states\", \"lon\": [-83.01340762162549], \"mode\": \"markers\", \"text\": \"P7102135\", \"type\": \"scattergeo\"}, {\"lat\": [36.08549071060288], \"locationmode\": \"USA-states\", \"lon\": [-79.99505584395125], \"mode\": \"markers\", \"text\": \"P7102136\", \"type\": \"scattergeo\"}, {\"lat\": [35.32294675265543], \"locationmode\": \"USA-states\", \"lon\": [-77.62382529852076], \"mode\": \"markers\", \"text\": \"P7102137\", \"type\": \"scattergeo\"}, {\"lat\": [36.31870334813102], \"locationmode\": \"USA-states\", \"lon\": [-77.61882352532567], \"mode\": \"markers\", \"text\": \"P7102138\", \"type\": \"scattergeo\"}, {\"lat\": [34.15773360218431], \"locationmode\": \"USA-states\", \"lon\": [-76.64343982571226], \"mode\": \"markers\", \"text\": \"P7102139\", \"type\": \"scattergeo\"}, {\"lat\": [34.96167284233092], \"locationmode\": \"USA-states\", \"lon\": [-76.63377879660673], \"mode\": \"markers\", \"text\": \"P7102140\", \"type\": \"scattergeo\"}, {\"lat\": [34.77631778180418], \"locationmode\": \"USA-states\", \"lon\": [-80.16208035781094], \"mode\": \"markers\", \"text\": \"P7102141\", \"type\": \"scattergeo\"}, {\"lat\": [35.72944126185119], \"locationmode\": \"USA-states\", \"lon\": [-81.00295754884193], \"mode\": \"markers\", \"text\": \"P7102142\", \"type\": \"scattergeo\"}, {\"lat\": [36.22395284013981], \"locationmode\": \"USA-states\", \"lon\": [-77.17770913459952], \"mode\": \"markers\", \"text\": \"P7102143\", \"type\": \"scattergeo\"}, {\"lat\": [35.64269274940807], \"locationmode\": \"USA-states\", \"lon\": [-81.62656849895158], \"mode\": \"markers\", \"text\": \"P7102144\", \"type\": \"scattergeo\"}, {\"lat\": [34.53649375727516], \"locationmode\": \"USA-states\", \"lon\": [-75.80823082189652], \"mode\": \"markers\", \"text\": \"P7102145\", \"type\": \"scattergeo\"}, {\"lat\": [35.70337765520543], \"locationmode\": \"USA-states\", \"lon\": [-77.13582038770355], \"mode\": \"markers\", \"text\": \"P7102146\", \"type\": \"scattergeo\"}, {\"lat\": [35.19760051140943], \"locationmode\": \"USA-states\", \"lon\": [-75.71872789600727], \"mode\": \"markers\", \"text\": \"P7102147\", \"type\": \"scattergeo\"}, {\"lat\": [34.34251086691097], \"locationmode\": \"USA-states\", \"lon\": [-81.26150211887189], \"mode\": \"markers\", \"text\": \"P7102148\", \"type\": \"scattergeo\"}, {\"lat\": [36.306728239666235], \"locationmode\": \"USA-states\", \"lon\": [-82.04346074671923], \"mode\": \"markers\", \"text\": \"P7102149\", \"type\": \"scattergeo\"}, {\"lat\": [35.80994348100509], \"locationmode\": \"USA-states\", \"lon\": [-80.24520518539326], \"mode\": \"markers\", \"text\": \"P7102150\", \"type\": \"scattergeo\"}, {\"lat\": [33.993527286009275], \"locationmode\": \"USA-states\", \"lon\": [-79.87358591269367], \"mode\": \"markers\", \"text\": \"P7102154\", \"type\": \"scattergeo\"}, {\"lat\": [35.29932063021291], \"locationmode\": \"USA-states\", \"lon\": [-77.91212639396153], \"mode\": \"markers\", \"text\": \"P7102156\", \"type\": \"scattergeo\"}, {\"lat\": [34.467961329651565], \"locationmode\": \"USA-states\", \"lon\": [-82.61865523595853], \"mode\": \"markers\", \"text\": \"P7102157\", \"type\": \"scattergeo\"}, {\"lat\": [34.63250643727317], \"locationmode\": \"USA-states\", \"lon\": [-75.04443611534337], \"mode\": \"markers\", \"text\": \"P7102200\", \"type\": \"scattergeo\"}, {\"lat\": [34.47527392462581], \"locationmode\": \"USA-states\", \"lon\": [-75.11908221782735], \"mode\": \"markers\", \"text\": \"P7102201\", \"type\": \"scattergeo\"}, {\"lat\": [34.556165314899545], \"locationmode\": \"USA-states\", \"lon\": [-77.71614808463544], \"mode\": \"markers\", \"text\": \"P7102205\", \"type\": \"scattergeo\"}, {\"lat\": [34.3544354175895], \"locationmode\": \"USA-states\", \"lon\": [-77.0061702209751], \"mode\": \"markers\", \"text\": \"P7102207\", \"type\": \"scattergeo\"}], \"name\": \"07/10/2015\"}, {\"data\": [{\"lat\": [34.72122388010794], \"locationmode\": \"USA-states\", \"lon\": [-75.79457680188415], \"mode\": \"markers\", \"text\": \"P7112108\", \"type\": \"scattergeo\"}, {\"lat\": [34.85644566227559], \"locationmode\": \"USA-states\", \"lon\": [-83.28838308450554], \"mode\": \"markers\", \"text\": \"P7112109\", \"type\": \"scattergeo\"}, {\"lat\": [35.63211530138486], \"locationmode\": \"USA-states\", \"lon\": [-76.15429791028969], \"mode\": \"markers\", \"text\": \"P7112110\", \"type\": \"scattergeo\"}, {\"lat\": [34.038874411976586], \"locationmode\": \"USA-states\", \"lon\": [-78.81135279960004], \"mode\": \"markers\", \"text\": \"P7112112\", \"type\": \"scattergeo\"}, {\"lat\": [35.84408092451673], \"locationmode\": \"USA-states\", \"lon\": [-76.9112097646027], \"mode\": \"markers\", \"text\": \"P7112113\", \"type\": \"scattergeo\"}, {\"lat\": [33.87619865034854], \"locationmode\": \"USA-states\", \"lon\": [-80.13254550676218], \"mode\": \"markers\", \"text\": \"P7112114\", \"type\": \"scattergeo\"}, {\"lat\": [35.11612078183966], \"locationmode\": \"USA-states\", \"lon\": [-79.47934049006292], \"mode\": \"markers\", \"text\": \"P7112115\", \"type\": \"scattergeo\"}, {\"lat\": [34.95866141445368], \"locationmode\": \"USA-states\", \"lon\": [-80.83808041499577], \"mode\": \"markers\", \"text\": \"P7112116\", \"type\": \"scattergeo\"}, {\"lat\": [35.81803475269782], \"locationmode\": \"USA-states\", \"lon\": [-83.64338967883663], \"mode\": \"markers\", \"text\": \"P7112117\", \"type\": \"scattergeo\"}, {\"lat\": [34.07573224537723], \"locationmode\": \"USA-states\", \"lon\": [-78.73000672237512], \"mode\": \"markers\", \"text\": \"P7112119\", \"type\": \"scattergeo\"}, {\"lat\": [35.845708735145145], \"locationmode\": \"USA-states\", \"lon\": [-76.6365857856553], \"mode\": \"markers\", \"text\": \"P7112120\", \"type\": \"scattergeo\"}, {\"lat\": [34.17721151198928], \"locationmode\": \"USA-states\", \"lon\": [-80.52513103571752], \"mode\": \"markers\", \"text\": \"P7112123\", \"type\": \"scattergeo\"}, {\"lat\": [34.300796435640436], \"locationmode\": \"USA-states\", \"lon\": [-79.75046153436176], \"mode\": \"markers\", \"text\": \"P7112125\", \"type\": \"scattergeo\"}, {\"lat\": [36.260183852856], \"locationmode\": \"USA-states\", \"lon\": [-77.14621865333622], \"mode\": \"markers\", \"text\": \"P7112127\", \"type\": \"scattergeo\"}, {\"lat\": [34.15838793286869], \"locationmode\": \"USA-states\", \"lon\": [-79.16406407252222], \"mode\": \"markers\", \"text\": \"P7112130\", \"type\": \"scattergeo\"}, {\"lat\": [35.413636431186966], \"locationmode\": \"USA-states\", \"lon\": [-80.54130910222601], \"mode\": \"markers\", \"text\": \"P7112131\", \"type\": \"scattergeo\"}, {\"lat\": [33.8872638486018], \"locationmode\": \"USA-states\", \"lon\": [-78.11737328777318], \"mode\": \"markers\", \"text\": \"P7112132\", \"type\": \"scattergeo\"}, {\"lat\": [34.447638224122436], \"locationmode\": \"USA-states\", \"lon\": [-80.24759270332379], \"mode\": \"markers\", \"text\": \"P7112133\", \"type\": \"scattergeo\"}, {\"lat\": [36.100095080695716], \"locationmode\": \"USA-states\", \"lon\": [-82.63968809292089], \"mode\": \"markers\", \"text\": \"P7112134\", \"type\": \"scattergeo\"}, {\"lat\": [36.04958751833006], \"locationmode\": \"USA-states\", \"lon\": [-75.10864560577562], \"mode\": \"markers\", \"text\": \"P7112135\", \"type\": \"scattergeo\"}, {\"lat\": [34.7073101980907], \"locationmode\": \"USA-states\", \"lon\": [-81.24252957861192], \"mode\": \"markers\", \"text\": \"P7112136\", \"type\": \"scattergeo\"}, {\"lat\": [35.31991592153606], \"locationmode\": \"USA-states\", \"lon\": [-77.9330946658241], \"mode\": \"markers\", \"text\": \"P7112138\", \"type\": \"scattergeo\"}, {\"lat\": [34.51954588149234], \"locationmode\": \"USA-states\", \"lon\": [-76.48635093886877], \"mode\": \"markers\", \"text\": \"P7112139\", \"type\": \"scattergeo\"}, {\"lat\": [35.09314175607803], \"locationmode\": \"USA-states\", \"lon\": [-80.21575455810856], \"mode\": \"markers\", \"text\": \"P7112140\", \"type\": \"scattergeo\"}, {\"lat\": [34.382770764686526], \"locationmode\": \"USA-states\", \"lon\": [-83.18046895010735], \"mode\": \"markers\", \"text\": \"P7112141\", \"type\": \"scattergeo\"}, {\"lat\": [35.55915551982089], \"locationmode\": \"USA-states\", \"lon\": [-82.70609451932943], \"mode\": \"markers\", \"text\": \"P7112142\", \"type\": \"scattergeo\"}, {\"lat\": [34.31267438625662], \"locationmode\": \"USA-states\", \"lon\": [-81.46305789029515], \"mode\": \"markers\", \"text\": \"P7112143\", \"type\": \"scattergeo\"}, {\"lat\": [34.94179548984467], \"locationmode\": \"USA-states\", \"lon\": [-79.4214179837931], \"mode\": \"markers\", \"text\": \"P7112144\", \"type\": \"scattergeo\"}, {\"lat\": [34.21707245260218], \"locationmode\": \"USA-states\", \"lon\": [-83.0405973784724], \"mode\": \"markers\", \"text\": \"P7112148\", \"type\": \"scattergeo\"}, {\"lat\": [34.48264764944364], \"locationmode\": \"USA-states\", \"lon\": [-77.99073018411694], \"mode\": \"markers\", \"text\": \"P7112149\", \"type\": \"scattergeo\"}, {\"lat\": [34.51519246047314], \"locationmode\": \"USA-states\", \"lon\": [-78.40649294747165], \"mode\": \"markers\", \"text\": \"P7112150\", \"type\": \"scattergeo\"}, {\"lat\": [36.07781905016139], \"locationmode\": \"USA-states\", \"lon\": [-78.01440342667794], \"mode\": \"markers\", \"text\": \"P7112151\", \"type\": \"scattergeo\"}, {\"lat\": [35.642800393054124], \"locationmode\": \"USA-states\", \"lon\": [-76.63693656172379], \"mode\": \"markers\", \"text\": \"P7112153\", \"type\": \"scattergeo\"}, {\"lat\": [35.23759684416844], \"locationmode\": \"USA-states\", \"lon\": [-76.21680901457933], \"mode\": \"markers\", \"text\": \"P7112154\", \"type\": \"scattergeo\"}, {\"lat\": [36.244191311128716], \"locationmode\": \"USA-states\", \"lon\": [-80.95906509329802], \"mode\": \"markers\", \"text\": \"P7112156\", \"type\": \"scattergeo\"}, {\"lat\": [35.9614972462956], \"locationmode\": \"USA-states\", \"lon\": [-83.93534699707219], \"mode\": \"markers\", \"text\": \"P7112158\", \"type\": \"scattergeo\"}, {\"lat\": [36.31586042565597], \"locationmode\": \"USA-states\", \"lon\": [-79.8216055874145], \"mode\": \"markers\", \"text\": \"P7112159\", \"type\": \"scattergeo\"}, {\"lat\": [35.891184650987405], \"locationmode\": \"USA-states\", \"lon\": [-83.16681437607515], \"mode\": \"markers\", \"text\": \"P7112207\", \"type\": \"scattergeo\"}], \"name\": \"07/11/2015\"}, {\"data\": [{\"lat\": [35.89294773395673], \"locationmode\": \"USA-states\", \"lon\": [-80.27791611288971], \"mode\": \"markers\", \"text\": \"P7122110\", \"type\": \"scattergeo\"}, {\"lat\": [34.036837085584544], \"locationmode\": \"USA-states\", \"lon\": [-81.57284698594847], \"mode\": \"markers\", \"text\": \"P7122111\", \"type\": \"scattergeo\"}, {\"lat\": [34.97522584194073], \"locationmode\": \"USA-states\", \"lon\": [-82.88979512394111], \"mode\": \"markers\", \"text\": \"P7122112\", \"type\": \"scattergeo\"}, {\"lat\": [34.36472325548479], \"locationmode\": \"USA-states\", \"lon\": [-78.93607557554188], \"mode\": \"markers\", \"text\": \"P7122113\", \"type\": \"scattergeo\"}, {\"lat\": [35.062725940551324], \"locationmode\": \"USA-states\", \"lon\": [-76.08401096187086], \"mode\": \"markers\", \"text\": \"P7122114\", \"type\": \"scattergeo\"}, {\"lat\": [35.04172180517314], \"locationmode\": \"USA-states\", \"lon\": [-81.7931437811755], \"mode\": \"markers\", \"text\": \"P7122115\", \"type\": \"scattergeo\"}, {\"lat\": [35.556149132428516], \"locationmode\": \"USA-states\", \"lon\": [-79.27860136864582], \"mode\": \"markers\", \"text\": \"P7122116\", \"type\": \"scattergeo\"}, {\"lat\": [36.18943929178793], \"locationmode\": \"USA-states\", \"lon\": [-78.50906321695965], \"mode\": \"markers\", \"text\": \"P7122117\", \"type\": \"scattergeo\"}, {\"lat\": [36.08148376897922], \"locationmode\": \"USA-states\", \"lon\": [-81.81101690156439], \"mode\": \"markers\", \"text\": \"P7122118\", \"type\": \"scattergeo\"}, {\"lat\": [34.55396519383399], \"locationmode\": \"USA-states\", \"lon\": [-81.92207901291412], \"mode\": \"markers\", \"text\": \"P7122119\", \"type\": \"scattergeo\"}, {\"lat\": [35.604112559679734], \"locationmode\": \"USA-states\", \"lon\": [-83.68450596514519], \"mode\": \"markers\", \"text\": \"P7122120\", \"type\": \"scattergeo\"}, {\"lat\": [35.21534181438425], \"locationmode\": \"USA-states\", \"lon\": [-79.96701735407807], \"mode\": \"markers\", \"text\": \"P7122121\", \"type\": \"scattergeo\"}, {\"lat\": [35.62777046475905], \"locationmode\": \"USA-states\", \"lon\": [-75.76614197395965], \"mode\": \"markers\", \"text\": \"P7122124\", \"type\": \"scattergeo\"}, {\"lat\": [34.607386596645426], \"locationmode\": \"USA-states\", \"lon\": [-77.5888233256855], \"mode\": \"markers\", \"text\": \"P7122125\", \"type\": \"scattergeo\"}, {\"lat\": [34.29894862171736], \"locationmode\": \"USA-states\", \"lon\": [-79.04841415310005], \"mode\": \"markers\", \"text\": \"P7122127\", \"type\": \"scattergeo\"}, {\"lat\": [34.467059944803715], \"locationmode\": \"USA-states\", \"lon\": [-80.06728894244307], \"mode\": \"markers\", \"text\": \"P7122128\", \"type\": \"scattergeo\"}, {\"lat\": [34.11962122849283], \"locationmode\": \"USA-states\", \"lon\": [-82.61441173961963], \"mode\": \"markers\", \"text\": \"P7122129\", \"type\": \"scattergeo\"}, {\"lat\": [35.14166780066583], \"locationmode\": \"USA-states\", \"lon\": [-76.16295338468451], \"mode\": \"markers\", \"text\": \"P7122130\", \"type\": \"scattergeo\"}, {\"lat\": [34.24743637811812], \"locationmode\": \"USA-states\", \"lon\": [-83.07258394545855], \"mode\": \"markers\", \"text\": \"P7122132\", \"type\": \"scattergeo\"}, {\"lat\": [34.88430333679642], \"locationmode\": \"USA-states\", \"lon\": [-79.55592577420708], \"mode\": \"markers\", \"text\": \"P7122133\", \"type\": \"scattergeo\"}, {\"lat\": [35.64820434429626], \"locationmode\": \"USA-states\", \"lon\": [-81.65486282083643], \"mode\": \"markers\", \"text\": \"P7122135\", \"type\": \"scattergeo\"}, {\"lat\": [35.196180050949614], \"locationmode\": \"USA-states\", \"lon\": [-83.39766230185927], \"mode\": \"markers\", \"text\": \"P7122136\", \"type\": \"scattergeo\"}, {\"lat\": [36.071483669694736], \"locationmode\": \"USA-states\", \"lon\": [-82.43524390315062], \"mode\": \"markers\", \"text\": \"P7122137\", \"type\": \"scattergeo\"}, {\"lat\": [34.287137043143204], \"locationmode\": \"USA-states\", \"lon\": [-76.19331537690272], \"mode\": \"markers\", \"text\": \"P7122138\", \"type\": \"scattergeo\"}, {\"lat\": [35.514653598652686], \"locationmode\": \"USA-states\", \"lon\": [-80.7307868497335], \"mode\": \"markers\", \"text\": \"P7122139\", \"type\": \"scattergeo\"}, {\"lat\": [33.84233747614898], \"locationmode\": \"USA-states\", \"lon\": [-82.84577757960986], \"mode\": \"markers\", \"text\": \"P7122140\", \"type\": \"scattergeo\"}, {\"lat\": [35.54866060084958], \"locationmode\": \"USA-states\", \"lon\": [-81.935221904838], \"mode\": \"markers\", \"text\": \"P7122141\", \"type\": \"scattergeo\"}, {\"lat\": [34.29694549447775], \"locationmode\": \"USA-states\", \"lon\": [-83.95955017150699], \"mode\": \"markers\", \"text\": \"P7122142\", \"type\": \"scattergeo\"}, {\"lat\": [35.63520515631176], \"locationmode\": \"USA-states\", \"lon\": [-78.6815388348246], \"mode\": \"markers\", \"text\": \"P7122143\", \"type\": \"scattergeo\"}, {\"lat\": [34.516511666780154], \"locationmode\": \"USA-states\", \"lon\": [-77.83852127915998], \"mode\": \"markers\", \"text\": \"P7122147\", \"type\": \"scattergeo\"}, {\"lat\": [34.43327909851087], \"locationmode\": \"USA-states\", \"lon\": [-77.86029124885503], \"mode\": \"markers\", \"text\": \"P7122149\", \"type\": \"scattergeo\"}, {\"lat\": [34.86927235291216], \"locationmode\": \"USA-states\", \"lon\": [-77.89925219447439], \"mode\": \"markers\", \"text\": \"P7122150\", \"type\": \"scattergeo\"}, {\"lat\": [34.33087648269001], \"locationmode\": \"USA-states\", \"lon\": [-75.21437529156897], \"mode\": \"markers\", \"text\": \"P7122152\", \"type\": \"scattergeo\"}, {\"lat\": [36.12760497433856], \"locationmode\": \"USA-states\", \"lon\": [-75.55746870618486], \"mode\": \"markers\", \"text\": \"P7122153\", \"type\": \"scattergeo\"}, {\"lat\": [33.83940426501968], \"locationmode\": \"USA-states\", \"lon\": [-82.00360723833222], \"mode\": \"markers\", \"text\": \"P7122155\", \"type\": \"scattergeo\"}, {\"lat\": [35.75896570862252], \"locationmode\": \"USA-states\", \"lon\": [-83.9227189141191], \"mode\": \"markers\", \"text\": \"P7122156\", \"type\": \"scattergeo\"}, {\"lat\": [34.64534343584672], \"locationmode\": \"USA-states\", \"lon\": [-82.30083022138813], \"mode\": \"markers\", \"text\": \"P7122157\", \"type\": \"scattergeo\"}, {\"lat\": [34.268964590661476], \"locationmode\": \"USA-states\", \"lon\": [-78.70799975006416], \"mode\": \"markers\", \"text\": \"P7122158\", \"type\": \"scattergeo\"}, {\"lat\": [34.53239180896739], \"locationmode\": \"USA-states\", \"lon\": [-81.04418075523306], \"mode\": \"markers\", \"text\": \"P7122159\", \"type\": \"scattergeo\"}, {\"lat\": [35.30040552272775], \"locationmode\": \"USA-states\", \"lon\": [-78.51730952244313], \"mode\": \"markers\", \"text\": \"P7122201\", \"type\": \"scattergeo\"}, {\"lat\": [34.90574470172436], \"locationmode\": \"USA-states\", \"lon\": [-75.74018002943075], \"mode\": \"markers\", \"text\": \"P7122202\", \"type\": \"scattergeo\"}, {\"lat\": [35.90679206523156], \"locationmode\": \"USA-states\", \"lon\": [-76.46686948328333], \"mode\": \"markers\", \"text\": \"P7122203\", \"type\": \"scattergeo\"}, {\"lat\": [35.13844325383313], \"locationmode\": \"USA-states\", \"lon\": [-82.26869764742428], \"mode\": \"markers\", \"text\": \"P7122205\", \"type\": \"scattergeo\"}], \"name\": \"07/12/2015\"}, {\"data\": [{\"lat\": [35.76808184127937], \"locationmode\": \"USA-states\", \"lon\": [-80.57748657970028], \"mode\": \"markers\", \"text\": \"P7142108\", \"type\": \"scattergeo\"}, {\"lat\": [35.32202283364219], \"locationmode\": \"USA-states\", \"lon\": [-81.71458081542441], \"mode\": \"markers\", \"text\": \"P7142113\", \"type\": \"scattergeo\"}, {\"lat\": [35.13427344661552], \"locationmode\": \"USA-states\", \"lon\": [-81.64635201536063], \"mode\": \"markers\", \"text\": \"P7142114\", \"type\": \"scattergeo\"}, {\"lat\": [35.829006978475654], \"locationmode\": \"USA-states\", \"lon\": [-76.99995494835187], \"mode\": \"markers\", \"text\": \"P7142115\", \"type\": \"scattergeo\"}, {\"lat\": [34.24683669008639], \"locationmode\": \"USA-states\", \"lon\": [-79.83108470468339], \"mode\": \"markers\", \"text\": \"P7142116\", \"type\": \"scattergeo\"}, {\"lat\": [35.47673903499989], \"locationmode\": \"USA-states\", \"lon\": [-82.13277353850825], \"mode\": \"markers\", \"text\": \"P7142118\", \"type\": \"scattergeo\"}, {\"lat\": [35.053018270534686], \"locationmode\": \"USA-states\", \"lon\": [-80.44877058692396], \"mode\": \"markers\", \"text\": \"P7142119\", \"type\": \"scattergeo\"}, {\"lat\": [34.74294409863402], \"locationmode\": \"USA-states\", \"lon\": [-83.51936478285826], \"mode\": \"markers\", \"text\": \"P7142120\", \"type\": \"scattergeo\"}, {\"lat\": [33.834356762269785], \"locationmode\": \"USA-states\", \"lon\": [-79.1568912161116], \"mode\": \"markers\", \"text\": \"P7142121\", \"type\": \"scattergeo\"}, {\"lat\": [34.65691237449534], \"locationmode\": \"USA-states\", \"lon\": [-82.5893940970976], \"mode\": \"markers\", \"text\": \"P7142122\", \"type\": \"scattergeo\"}, {\"lat\": [35.15862410111512], \"locationmode\": \"USA-states\", \"lon\": [-77.44953914272087], \"mode\": \"markers\", \"text\": \"P7142123\", \"type\": \"scattergeo\"}, {\"lat\": [36.01909603894739], \"locationmode\": \"USA-states\", \"lon\": [-78.96834363610375], \"mode\": \"markers\", \"text\": \"P7142124\", \"type\": \"scattergeo\"}, {\"lat\": [34.892163540938505], \"locationmode\": \"USA-states\", \"lon\": [-81.09876539670954], \"mode\": \"markers\", \"text\": \"P7142125\", \"type\": \"scattergeo\"}, {\"lat\": [34.09901563160406], \"locationmode\": \"USA-states\", \"lon\": [-81.47261553656936], \"mode\": \"markers\", \"text\": \"P7142126\", \"type\": \"scattergeo\"}, {\"lat\": [35.309155467300116], \"locationmode\": \"USA-states\", \"lon\": [-79.93455670929002], \"mode\": \"markers\", \"text\": \"P7142127\", \"type\": \"scattergeo\"}, {\"lat\": [34.84788413801254], \"locationmode\": \"USA-states\", \"lon\": [-79.86149610755099], \"mode\": \"markers\", \"text\": \"P7142128\", \"type\": \"scattergeo\"}, {\"lat\": [34.56983654234531], \"locationmode\": \"USA-states\", \"lon\": [-75.05944724963871], \"mode\": \"markers\", \"text\": \"P7142131\", \"type\": \"scattergeo\"}, {\"lat\": [34.5608539313599], \"locationmode\": \"USA-states\", \"lon\": [-83.8426213865895], \"mode\": \"markers\", \"text\": \"P7142132\", \"type\": \"scattergeo\"}, {\"lat\": [34.56972257079599], \"locationmode\": \"USA-states\", \"lon\": [-79.51521119891608], \"mode\": \"markers\", \"text\": \"P7142134\", \"type\": \"scattergeo\"}, {\"lat\": [34.60995843401785], \"locationmode\": \"USA-states\", \"lon\": [-78.02591047067489], \"mode\": \"markers\", \"text\": \"P7142135\", \"type\": \"scattergeo\"}, {\"lat\": [35.876169942808986], \"locationmode\": \"USA-states\", \"lon\": [-76.25749587881323], \"mode\": \"markers\", \"text\": \"P7142138\", \"type\": \"scattergeo\"}, {\"lat\": [34.88192475363039], \"locationmode\": \"USA-states\", \"lon\": [-80.64951965363099], \"mode\": \"markers\", \"text\": \"P7142140\", \"type\": \"scattergeo\"}, {\"lat\": [34.24198325834123], \"locationmode\": \"USA-states\", \"lon\": [-80.54437097007539], \"mode\": \"markers\", \"text\": \"P7142141\", \"type\": \"scattergeo\"}, {\"lat\": [35.65151103795998], \"locationmode\": \"USA-states\", \"lon\": [-80.1115068143855], \"mode\": \"markers\", \"text\": \"P7142142\", \"type\": \"scattergeo\"}, {\"lat\": [36.267497280360246], \"locationmode\": \"USA-states\", \"lon\": [-78.91944971799516], \"mode\": \"markers\", \"text\": \"P7142143\", \"type\": \"scattergeo\"}, {\"lat\": [35.50349609250854], \"locationmode\": \"USA-states\", \"lon\": [-83.01661550653579], \"mode\": \"markers\", \"text\": \"P7142144\", \"type\": \"scattergeo\"}, {\"lat\": [34.66139077873191], \"locationmode\": \"USA-states\", \"lon\": [-82.0677193975522], \"mode\": \"markers\", \"text\": \"P7142146\", \"type\": \"scattergeo\"}, {\"lat\": [34.1176260502816], \"locationmode\": \"USA-states\", \"lon\": [-82.58184688090208], \"mode\": \"markers\", \"text\": \"P7142149\", \"type\": \"scattergeo\"}, {\"lat\": [36.06471532083525], \"locationmode\": \"USA-states\", \"lon\": [-78.28278443459338], \"mode\": \"markers\", \"text\": \"P7142150\", \"type\": \"scattergeo\"}, {\"lat\": [34.88711399013467], \"locationmode\": \"USA-states\", \"lon\": [-78.81024514064084], \"mode\": \"markers\", \"text\": \"P7142151\", \"type\": \"scattergeo\"}, {\"lat\": [34.04518093716923], \"locationmode\": \"USA-states\", \"lon\": [-78.90699795534785], \"mode\": \"markers\", \"text\": \"P7142152\", \"type\": \"scattergeo\"}, {\"lat\": [35.78814855888718], \"locationmode\": \"USA-states\", \"lon\": [-80.38381511800273], \"mode\": \"markers\", \"text\": \"P7142155\", \"type\": \"scattergeo\"}, {\"lat\": [35.78663351709214], \"locationmode\": \"USA-states\", \"lon\": [-78.6228873142615], \"mode\": \"markers\", \"text\": \"P7142156\", \"type\": \"scattergeo\"}, {\"lat\": [34.723442969662514], \"locationmode\": \"USA-states\", \"lon\": [-78.26233383143128], \"mode\": \"markers\", \"text\": \"P7142157\", \"type\": \"scattergeo\"}, {\"lat\": [34.29581690444187], \"locationmode\": \"USA-states\", \"lon\": [-78.97280207763242], \"mode\": \"markers\", \"text\": \"P7142200\", \"type\": \"scattergeo\"}, {\"lat\": [35.79459263822312], \"locationmode\": \"USA-states\", \"lon\": [-75.29351556614914], \"mode\": \"markers\", \"text\": \"P7142201\", \"type\": \"scattergeo\"}, {\"lat\": [36.12035143511074], \"locationmode\": \"USA-states\", \"lon\": [-83.90115464803259], \"mode\": \"markers\", \"text\": \"P7142203\", \"type\": \"scattergeo\"}, {\"lat\": [34.75676899454939], \"locationmode\": \"USA-states\", \"lon\": [-82.00837217141002], \"mode\": \"markers\", \"text\": \"P7142204\", \"type\": \"scattergeo\"}, {\"lat\": [34.484972136187785], \"locationmode\": \"USA-states\", \"lon\": [-79.5961723808906], \"mode\": \"markers\", \"text\": \"P7142208\", \"type\": \"scattergeo\"}], \"name\": \"07/14/2015\"}, {\"data\": [{\"lat\": [35.52884444809126], \"locationmode\": \"USA-states\", \"lon\": [-78.12991759637842], \"mode\": \"markers\", \"text\": \"P7152129\", \"type\": \"scattergeo\"}, {\"lat\": [33.91607156411463], \"locationmode\": \"USA-states\", \"lon\": [-83.96980581666384], \"mode\": \"markers\", \"text\": \"P7152130\", \"type\": \"scattergeo\"}, {\"lat\": [36.16918099551113], \"locationmode\": \"USA-states\", \"lon\": [-77.29813189956165], \"mode\": \"markers\", \"text\": \"P7152131\", \"type\": \"scattergeo\"}, {\"lat\": [35.42995153990535], \"locationmode\": \"USA-states\", \"lon\": [-79.25729339222902], \"mode\": \"markers\", \"text\": \"P7152132\", \"type\": \"scattergeo\"}, {\"lat\": [35.70863383994909], \"locationmode\": \"USA-states\", \"lon\": [-81.6255638981352], \"mode\": \"markers\", \"text\": \"P7152133\", \"type\": \"scattergeo\"}, {\"lat\": [34.58419357613284], \"locationmode\": \"USA-states\", \"lon\": [-81.59380941689922], \"mode\": \"markers\", \"text\": \"P7152134\", \"type\": \"scattergeo\"}, {\"lat\": [36.04544264614892], \"locationmode\": \"USA-states\", \"lon\": [-80.89768737987974], \"mode\": \"markers\", \"text\": \"P7152136\", \"type\": \"scattergeo\"}, {\"lat\": [35.42397059133622], \"locationmode\": \"USA-states\", \"lon\": [-78.6728052402295], \"mode\": \"markers\", \"text\": \"P7152137\", \"type\": \"scattergeo\"}, {\"lat\": [34.825359293078186], \"locationmode\": \"USA-states\", \"lon\": [-76.84796129539757], \"mode\": \"markers\", \"text\": \"P7152140\", \"type\": \"scattergeo\"}, {\"lat\": [34.51382503186768], \"locationmode\": \"USA-states\", \"lon\": [-78.84698396820605], \"mode\": \"markers\", \"text\": \"P7152142\", \"type\": \"scattergeo\"}, {\"lat\": [35.26236343202094], \"locationmode\": \"USA-states\", \"lon\": [-75.56573385201835], \"mode\": \"markers\", \"text\": \"P7152145\", \"type\": \"scattergeo\"}, {\"lat\": [33.99270996337671], \"locationmode\": \"USA-states\", \"lon\": [-76.31771108210664], \"mode\": \"markers\", \"text\": \"P7152147\", \"type\": \"scattergeo\"}, {\"lat\": [34.44404436862086], \"locationmode\": \"USA-states\", \"lon\": [-80.03864903367997], \"mode\": \"markers\", \"text\": \"P7152148\", \"type\": \"scattergeo\"}, {\"lat\": [36.14372702443022], \"locationmode\": \"USA-states\", \"lon\": [-81.7724068048739], \"mode\": \"markers\", \"text\": \"P7152152\", \"type\": \"scattergeo\"}, {\"lat\": [34.144886534203685], \"locationmode\": \"USA-states\", \"lon\": [-78.34233766893801], \"mode\": \"markers\", \"text\": \"P7152153\", \"type\": \"scattergeo\"}, {\"lat\": [34.247328744618756], \"locationmode\": \"USA-states\", \"lon\": [-77.09500071419156], \"mode\": \"markers\", \"text\": \"P7152154\", \"type\": \"scattergeo\"}, {\"lat\": [34.74380144802325], \"locationmode\": \"USA-states\", \"lon\": [-81.23826016809693], \"mode\": \"markers\", \"text\": \"P7152155\", \"type\": \"scattergeo\"}, {\"lat\": [34.990702061002445], \"locationmode\": \"USA-states\", \"lon\": [-77.94135382202853], \"mode\": \"markers\", \"text\": \"P7152156\", \"type\": \"scattergeo\"}, {\"lat\": [34.1818578072292], \"locationmode\": \"USA-states\", \"lon\": [-80.95867114751994], \"mode\": \"markers\", \"text\": \"P7152157\", \"type\": \"scattergeo\"}, {\"lat\": [35.69788750647158], \"locationmode\": \"USA-states\", \"lon\": [-75.91422763776703], \"mode\": \"markers\", \"text\": \"P7152158\", \"type\": \"scattergeo\"}, {\"lat\": [34.242166398037085], \"locationmode\": \"USA-states\", \"lon\": [-83.63360113873104], \"mode\": \"markers\", \"text\": \"P7152159\", \"type\": \"scattergeo\"}, {\"lat\": [35.81488087447379], \"locationmode\": \"USA-states\", \"lon\": [-80.24276040151253], \"mode\": \"markers\", \"text\": \"P7152201\", \"type\": \"scattergeo\"}, {\"lat\": [34.324431391705076], \"locationmode\": \"USA-states\", \"lon\": [-81.61007733436314], \"mode\": \"markers\", \"text\": \"P7152202\", \"type\": \"scattergeo\"}, {\"lat\": [36.26536122465248], \"locationmode\": \"USA-states\", \"lon\": [-76.05166807014525], \"mode\": \"markers\", \"text\": \"P7152203\", \"type\": \"scattergeo\"}, {\"lat\": [35.66269790435514], \"locationmode\": \"USA-states\", \"lon\": [-83.52298302862246], \"mode\": \"markers\", \"text\": \"P7152204\", \"type\": \"scattergeo\"}, {\"lat\": [35.32287515802067], \"locationmode\": \"USA-states\", \"lon\": [-78.34120702152569], \"mode\": \"markers\", \"text\": \"P7152207\", \"type\": \"scattergeo\"}, {\"lat\": [33.99199155655832], \"locationmode\": \"USA-states\", \"lon\": [-83.49319671087497], \"mode\": \"markers\", \"text\": \"P7152211\", \"type\": \"scattergeo\"}, {\"lat\": [35.639776880653436], \"locationmode\": \"USA-states\", \"lon\": [-78.16340394129978], \"mode\": \"markers\", \"text\": \"P7152213\", \"type\": \"scattergeo\"}, {\"lat\": [34.78967331664177], \"locationmode\": \"USA-states\", \"lon\": [-80.2398501081062], \"mode\": \"markers\", \"text\": \"P7152214\", \"type\": \"scattergeo\"}, {\"lat\": [35.13462682026623], \"locationmode\": \"USA-states\", \"lon\": [-79.75926827184522], \"mode\": \"markers\", \"text\": \"P7152215\", \"type\": \"scattergeo\"}], \"name\": \"07/15/2015\"}, {\"data\": [{\"lat\": [36.08917720705115], \"locationmode\": \"USA-states\", \"lon\": [-76.9604172022009], \"mode\": \"markers\", \"text\": \"P7162143\", \"type\": \"scattergeo\"}, {\"lat\": [35.77626945883866], \"locationmode\": \"USA-states\", \"lon\": [-82.73172803842483], \"mode\": \"markers\", \"text\": \"P7162145\", \"type\": \"scattergeo\"}, {\"lat\": [33.875455619140176], \"locationmode\": \"USA-states\", \"lon\": [-75.2680579580739], \"mode\": \"markers\", \"text\": \"P7162147\", \"type\": \"scattergeo\"}, {\"lat\": [34.076361629602665], \"locationmode\": \"USA-states\", \"lon\": [-82.89548245750866], \"mode\": \"markers\", \"text\": \"P7162148\", \"type\": \"scattergeo\"}, {\"lat\": [34.59669193154737], \"locationmode\": \"USA-states\", \"lon\": [-78.07466805760548], \"mode\": \"markers\", \"text\": \"P7162149\", \"type\": \"scattergeo\"}, {\"lat\": [35.74082381811956], \"locationmode\": \"USA-states\", \"lon\": [-75.60996037400731], \"mode\": \"markers\", \"text\": \"P7162150\", \"type\": \"scattergeo\"}, {\"lat\": [34.988137915395455], \"locationmode\": \"USA-states\", \"lon\": [-76.53567739047462], \"mode\": \"markers\", \"text\": \"P7162151\", \"type\": \"scattergeo\"}, {\"lat\": [35.53953390915182], \"locationmode\": \"USA-states\", \"lon\": [-77.31368473258956], \"mode\": \"markers\", \"text\": \"P7162152\", \"type\": \"scattergeo\"}, {\"lat\": [34.993322383064374], \"locationmode\": \"USA-states\", \"lon\": [-81.04120459923183], \"mode\": \"markers\", \"text\": \"P7162153\", \"type\": \"scattergeo\"}, {\"lat\": [34.59007890064511], \"locationmode\": \"USA-states\", \"lon\": [-83.10610863618209], \"mode\": \"markers\", \"text\": \"P7162154\", \"type\": \"scattergeo\"}, {\"lat\": [35.01267711544198], \"locationmode\": \"USA-states\", \"lon\": [-83.55764407879583], \"mode\": \"markers\", \"text\": \"P7162155\", \"type\": \"scattergeo\"}, {\"lat\": [35.55745184490627], \"locationmode\": \"USA-states\", \"lon\": [-79.05275009110362], \"mode\": \"markers\", \"text\": \"P7162157\", \"type\": \"scattergeo\"}, {\"lat\": [35.29641781393056], \"locationmode\": \"USA-states\", \"lon\": [-76.15055865709309], \"mode\": \"markers\", \"text\": \"P7162158\", \"type\": \"scattergeo\"}, {\"lat\": [35.80986278817281], \"locationmode\": \"USA-states\", \"lon\": [-83.56736724182049], \"mode\": \"markers\", \"text\": \"P7162159\", \"type\": \"scattergeo\"}, {\"lat\": [36.020800642520754], \"locationmode\": \"USA-states\", \"lon\": [-77.44166139510304], \"mode\": \"markers\", \"text\": \"P7162200\", \"type\": \"scattergeo\"}, {\"lat\": [35.83215625224792], \"locationmode\": \"USA-states\", \"lon\": [-80.86059260567463], \"mode\": \"markers\", \"text\": \"P7162201\", \"type\": \"scattergeo\"}, {\"lat\": [35.76689581928042], \"locationmode\": \"USA-states\", \"lon\": [-81.54949734175928], \"mode\": \"markers\", \"text\": \"P7162202\", \"type\": \"scattergeo\"}, {\"lat\": [36.23363075481497], \"locationmode\": \"USA-states\", \"lon\": [-79.96503446212428], \"mode\": \"markers\", \"text\": \"P7162203\", \"type\": \"scattergeo\"}, {\"lat\": [35.058973119832075], \"locationmode\": \"USA-states\", \"lon\": [-76.10730127809623], \"mode\": \"markers\", \"text\": \"P7162204\", \"type\": \"scattergeo\"}, {\"lat\": [35.964544103214024], \"locationmode\": \"USA-states\", \"lon\": [-76.51006919158061], \"mode\": \"markers\", \"text\": \"P7162207\", \"type\": \"scattergeo\"}, {\"lat\": [34.68602826413593], \"locationmode\": \"USA-states\", \"lon\": [-81.3530182566038], \"mode\": \"markers\", \"text\": \"P7162208\", \"type\": \"scattergeo\"}, {\"lat\": [34.364797255117594], \"locationmode\": \"USA-states\", \"lon\": [-78.97365680060027], \"mode\": \"markers\", \"text\": \"P7162211\", \"type\": \"scattergeo\"}, {\"lat\": [34.65314086905768], \"locationmode\": \"USA-states\", \"lon\": [-75.03468985296152], \"mode\": \"markers\", \"text\": \"P7162212\", \"type\": \"scattergeo\"}, {\"lat\": [35.249828836733215], \"locationmode\": \"USA-states\", \"lon\": [-82.66621481226515], \"mode\": \"markers\", \"text\": \"P7162214\", \"type\": \"scattergeo\"}, {\"lat\": [34.17881494633771], \"locationmode\": \"USA-states\", \"lon\": [-79.47747176361906], \"mode\": \"markers\", \"text\": \"P7162216\", \"type\": \"scattergeo\"}, {\"lat\": [34.380653290656554], \"locationmode\": \"USA-states\", \"lon\": [-82.44965193176527], \"mode\": \"markers\", \"text\": \"P7162219\", \"type\": \"scattergeo\"}, {\"lat\": [33.846575340241], \"locationmode\": \"USA-states\", \"lon\": [-82.46336934463989], \"mode\": \"markers\", \"text\": \"P7162220\", \"type\": \"scattergeo\"}, {\"lat\": [35.290356808888], \"locationmode\": \"USA-states\", \"lon\": [-81.497873956406], \"mode\": \"markers\", \"text\": \"P7162221\", \"type\": \"scattergeo\"}, {\"lat\": [36.13244203864155], \"locationmode\": \"USA-states\", \"lon\": [-76.89986500413515], \"mode\": \"markers\", \"text\": \"P7162223\", \"type\": \"scattergeo\"}, {\"lat\": [36.21747924979738], \"locationmode\": \"USA-states\", \"lon\": [-78.02662156714052], \"mode\": \"markers\", \"text\": \"P7162225\", \"type\": \"scattergeo\"}, {\"lat\": [36.14225554402212], \"locationmode\": \"USA-states\", \"lon\": [-76.03995017655107], \"mode\": \"markers\", \"text\": \"P7162227\", \"type\": \"scattergeo\"}, {\"lat\": [34.274935794677], \"locationmode\": \"USA-states\", \"lon\": [-75.86829582351115], \"mode\": \"markers\", \"text\": \"P7162228\", \"type\": \"scattergeo\"}, {\"lat\": [36.27628358338098], \"locationmode\": \"USA-states\", \"lon\": [-81.8285543796253], \"mode\": \"markers\", \"text\": \"P7162229\", \"type\": \"scattergeo\"}, {\"lat\": [34.94820798345222], \"locationmode\": \"USA-states\", \"lon\": [-83.71023086628045], \"mode\": \"markers\", \"text\": \"P7162230\", \"type\": \"scattergeo\"}, {\"lat\": [34.07956403618892], \"locationmode\": \"USA-states\", \"lon\": [-82.97188480240982], \"mode\": \"markers\", \"text\": \"P7162231\", \"type\": \"scattergeo\"}, {\"lat\": [34.7268676102614], \"locationmode\": \"USA-states\", \"lon\": [-78.49416130262361], \"mode\": \"markers\", \"text\": \"P7162234\", \"type\": \"scattergeo\"}, {\"lat\": [34.03848725137096], \"locationmode\": \"USA-states\", \"lon\": [-77.5683441186629], \"mode\": \"markers\", \"text\": \"P7162235\", \"type\": \"scattergeo\"}, {\"lat\": [34.206381144763995], \"locationmode\": \"USA-states\", \"lon\": [-81.56147027833859], \"mode\": \"markers\", \"text\": \"P7162236\", \"type\": \"scattergeo\"}], \"name\": \"07/16/2015\"}, {\"data\": [{\"lat\": [34.9721008655769], \"locationmode\": \"USA-states\", \"lon\": [-82.54738673828692], \"mode\": \"markers\", \"text\": \"P7172114\", \"type\": \"scattergeo\"}, {\"lat\": [35.77735991580601], \"locationmode\": \"USA-states\", \"lon\": [-80.96655109580564], \"mode\": \"markers\", \"text\": \"P7172117\", \"type\": \"scattergeo\"}, {\"lat\": [34.481990840991344], \"locationmode\": \"USA-states\", \"lon\": [-78.17429326021751], \"mode\": \"markers\", \"text\": \"P7172118\", \"type\": \"scattergeo\"}, {\"lat\": [35.35309868521998], \"locationmode\": \"USA-states\", \"lon\": [-76.49617162800917], \"mode\": \"markers\", \"text\": \"P7172122\", \"type\": \"scattergeo\"}, {\"lat\": [35.18821286319712], \"locationmode\": \"USA-states\", \"lon\": [-79.73470198259855], \"mode\": \"markers\", \"text\": \"P7172124\", \"type\": \"scattergeo\"}, {\"lat\": [33.98592586354293], \"locationmode\": \"USA-states\", \"lon\": [-83.34978672777484], \"mode\": \"markers\", \"text\": \"P7172131\", \"type\": \"scattergeo\"}, {\"lat\": [36.147891728167586], \"locationmode\": \"USA-states\", \"lon\": [-78.84336682888647], \"mode\": \"markers\", \"text\": \"P7172133\", \"type\": \"scattergeo\"}, {\"lat\": [35.59602612654565], \"locationmode\": \"USA-states\", \"lon\": [-77.54462184949026], \"mode\": \"markers\", \"text\": \"P7172135\", \"type\": \"scattergeo\"}, {\"lat\": [35.7968917954956], \"locationmode\": \"USA-states\", \"lon\": [-83.98711942861841], \"mode\": \"markers\", \"text\": \"P7172136\", \"type\": \"scattergeo\"}, {\"lat\": [36.2037722542066], \"locationmode\": \"USA-states\", \"lon\": [-76.54254843870689], \"mode\": \"markers\", \"text\": \"P7172138\", \"type\": \"scattergeo\"}, {\"lat\": [35.642848593410676], \"locationmode\": \"USA-states\", \"lon\": [-76.76532522035185], \"mode\": \"markers\", \"text\": \"P7172139\", \"type\": \"scattergeo\"}, {\"lat\": [34.7751010799558], \"locationmode\": \"USA-states\", \"lon\": [-82.38572660034198], \"mode\": \"markers\", \"text\": \"P7172141\", \"type\": \"scattergeo\"}, {\"lat\": [35.468914057471345], \"locationmode\": \"USA-states\", \"lon\": [-78.17719738254661], \"mode\": \"markers\", \"text\": \"P7172142\", \"type\": \"scattergeo\"}, {\"lat\": [34.46741494339872], \"locationmode\": \"USA-states\", \"lon\": [-81.42264344914464], \"mode\": \"markers\", \"text\": \"P7172143\", \"type\": \"scattergeo\"}, {\"lat\": [34.29847918434488], \"locationmode\": \"USA-states\", \"lon\": [-82.9039677870823], \"mode\": \"markers\", \"text\": \"P7172147\", \"type\": \"scattergeo\"}, {\"lat\": [33.986695870558265], \"locationmode\": \"USA-states\", \"lon\": [-80.57788200005552], \"mode\": \"markers\", \"text\": \"P7172149\", \"type\": \"scattergeo\"}, {\"lat\": [35.65274591243234], \"locationmode\": \"USA-states\", \"lon\": [-79.25730486476184], \"mode\": \"markers\", \"text\": \"P7172154\", \"type\": \"scattergeo\"}, {\"lat\": [34.059519205939154], \"locationmode\": \"USA-states\", \"lon\": [-78.18539494454932], \"mode\": \"markers\", \"text\": \"P7172155\", \"type\": \"scattergeo\"}, {\"lat\": [34.30485471389379], \"locationmode\": \"USA-states\", \"lon\": [-76.55323911911731], \"mode\": \"markers\", \"text\": \"P7172157\", \"type\": \"scattergeo\"}, {\"lat\": [35.44587685615132], \"locationmode\": \"USA-states\", \"lon\": [-80.29324703331869], \"mode\": \"markers\", \"text\": \"P7172200\", \"type\": \"scattergeo\"}, {\"lat\": [35.450692537902675], \"locationmode\": \"USA-states\", \"lon\": [-81.07300408522003], \"mode\": \"markers\", \"text\": \"P7172201\", \"type\": \"scattergeo\"}, {\"lat\": [34.873661069652876], \"locationmode\": \"USA-states\", \"lon\": [-77.58984543375615], \"mode\": \"markers\", \"text\": \"P7172203\", \"type\": \"scattergeo\"}], \"name\": \"07/17/2015\"}, {\"data\": [{\"lat\": [35.04780850550715], \"locationmode\": \"USA-states\", \"lon\": [-83.27577527801847], \"mode\": \"markers\", \"text\": \"P7182113\", \"type\": \"scattergeo\"}, {\"lat\": [34.046414152652055], \"locationmode\": \"USA-states\", \"lon\": [-78.79810097951672], \"mode\": \"markers\", \"text\": \"P7182114\", \"type\": \"scattergeo\"}, {\"lat\": [35.88978837184515], \"locationmode\": \"USA-states\", \"lon\": [-75.14733268929758], \"mode\": \"markers\", \"text\": \"P7182119\", \"type\": \"scattergeo\"}, {\"lat\": [35.4980062685139], \"locationmode\": \"USA-states\", \"lon\": [-78.05864411370843], \"mode\": \"markers\", \"text\": \"P7182120\", \"type\": \"scattergeo\"}, {\"lat\": [35.53100908325278], \"locationmode\": \"USA-states\", \"lon\": [-81.14946493643615], \"mode\": \"markers\", \"text\": \"P7182124\", \"type\": \"scattergeo\"}, {\"lat\": [36.30275755553496], \"locationmode\": \"USA-states\", \"lon\": [-77.16293937590285], \"mode\": \"markers\", \"text\": \"P7182125\", \"type\": \"scattergeo\"}, {\"lat\": [35.71056939831269], \"locationmode\": \"USA-states\", \"lon\": [-77.55373538029474], \"mode\": \"markers\", \"text\": \"P7182129\", \"type\": \"scattergeo\"}, {\"lat\": [35.6096758594241], \"locationmode\": \"USA-states\", \"lon\": [-76.30352595316509], \"mode\": \"markers\", \"text\": \"P7182131\", \"type\": \"scattergeo\"}, {\"lat\": [36.260427407186725], \"locationmode\": \"USA-states\", \"lon\": [-80.40899798012443], \"mode\": \"markers\", \"text\": \"P7182134\", \"type\": \"scattergeo\"}, {\"lat\": [35.82533934918135], \"locationmode\": \"USA-states\", \"lon\": [-83.42470778060701], \"mode\": \"markers\", \"text\": \"P7182135\", \"type\": \"scattergeo\"}, {\"lat\": [34.58277044493029], \"locationmode\": \"USA-states\", \"lon\": [-76.48755108623895], \"mode\": \"markers\", \"text\": \"P7182137\", \"type\": \"scattergeo\"}, {\"lat\": [34.91977856579344], \"locationmode\": \"USA-states\", \"lon\": [-77.46049077297093], \"mode\": \"markers\", \"text\": \"P7182138\", \"type\": \"scattergeo\"}, {\"lat\": [34.16460821460803], \"locationmode\": \"USA-states\", \"lon\": [-79.3073347773277], \"mode\": \"markers\", \"text\": \"P7182139\", \"type\": \"scattergeo\"}, {\"lat\": [34.707965391325025], \"locationmode\": \"USA-states\", \"lon\": [-75.1150973760432], \"mode\": \"markers\", \"text\": \"P7182141\", \"type\": \"scattergeo\"}, {\"lat\": [36.13858441316217], \"locationmode\": \"USA-states\", \"lon\": [-83.04762106348888], \"mode\": \"markers\", \"text\": \"P7182142\", \"type\": \"scattergeo\"}, {\"lat\": [34.57658413339434], \"locationmode\": \"USA-states\", \"lon\": [-77.06009955322108], \"mode\": \"markers\", \"text\": \"P7182144\", \"type\": \"scattergeo\"}, {\"lat\": [34.320609447784825], \"locationmode\": \"USA-states\", \"lon\": [-76.82529047917858], \"mode\": \"markers\", \"text\": \"P7182146\", \"type\": \"scattergeo\"}, {\"lat\": [35.51807677029378], \"locationmode\": \"USA-states\", \"lon\": [-78.5483183243435], \"mode\": \"markers\", \"text\": \"P7182147\", \"type\": \"scattergeo\"}, {\"lat\": [35.221312893429605], \"locationmode\": \"USA-states\", \"lon\": [-78.47988044025206], \"mode\": \"markers\", \"text\": \"P7182150\", \"type\": \"scattergeo\"}, {\"lat\": [35.50109823569727], \"locationmode\": \"USA-states\", \"lon\": [-75.42935072221188], \"mode\": \"markers\", \"text\": \"P7182154\", \"type\": \"scattergeo\"}, {\"lat\": [35.5755229439434], \"locationmode\": \"USA-states\", \"lon\": [-81.25832713947518], \"mode\": \"markers\", \"text\": \"P7182157\", \"type\": \"scattergeo\"}], \"name\": \"07/18/2015\"}, {\"data\": [{\"lat\": [33.83705852980283], \"locationmode\": \"USA-states\", \"lon\": [-82.11590678872469], \"mode\": \"markers\", \"text\": \"56110631\", \"type\": \"scattergeo\"}, {\"lat\": [35.15575489739699], \"locationmode\": \"USA-states\", \"lon\": [-81.24344425656956], \"mode\": \"markers\", \"text\": \"56110632\", \"type\": \"scattergeo\"}, {\"lat\": [36.28788246628074], \"locationmode\": \"USA-states\", \"lon\": [-75.16326131191313], \"mode\": \"markers\", \"text\": \"56110634\", \"type\": \"scattergeo\"}, {\"lat\": [34.99004358719265], \"locationmode\": \"USA-states\", \"lon\": [-80.89621165269914], \"mode\": \"markers\", \"text\": \"56110638\", \"type\": \"scattergeo\"}, {\"lat\": [35.78309473349381], \"locationmode\": \"USA-states\", \"lon\": [-80.55705270565873], \"mode\": \"markers\", \"text\": \"56110639\", \"type\": \"scattergeo\"}, {\"lat\": [35.28268633194046], \"locationmode\": \"USA-states\", \"lon\": [-78.06999405423537], \"mode\": \"markers\", \"text\": \"56110641\", \"type\": \"scattergeo\"}, {\"lat\": [33.89206287049396], \"locationmode\": \"USA-states\", \"lon\": [-75.16645506666926], \"mode\": \"markers\", \"text\": \"56110642\", \"type\": \"scattergeo\"}, {\"lat\": [34.01442762940782], \"locationmode\": \"USA-states\", \"lon\": [-79.52611628611075], \"mode\": \"markers\", \"text\": \"56110643\", \"type\": \"scattergeo\"}, {\"lat\": [35.75957407761519], \"locationmode\": \"USA-states\", \"lon\": [-77.46470346045417], \"mode\": \"markers\", \"text\": \"56110645\", \"type\": \"scattergeo\"}, {\"lat\": [35.873388475796844], \"locationmode\": \"USA-states\", \"lon\": [-81.30270218062208], \"mode\": \"markers\", \"text\": \"56110646\", \"type\": \"scattergeo\"}, {\"lat\": [36.02490284142198], \"locationmode\": \"USA-states\", \"lon\": [-75.31226681486287], \"mode\": \"markers\", \"text\": \"56110649\", \"type\": \"scattergeo\"}, {\"lat\": [34.008153317270896], \"locationmode\": \"USA-states\", \"lon\": [-79.87607294196931], \"mode\": \"markers\", \"text\": \"56110650\", \"type\": \"scattergeo\"}, {\"lat\": [35.72407191046301], \"locationmode\": \"USA-states\", \"lon\": [-76.21600214857368], \"mode\": \"markers\", \"text\": \"56110651\", \"type\": \"scattergeo\"}, {\"lat\": [35.17071442664062], \"locationmode\": \"USA-states\", \"lon\": [-81.80619297802096], \"mode\": \"markers\", \"text\": \"56110653\", \"type\": \"scattergeo\"}, {\"lat\": [35.23439261746662], \"locationmode\": \"USA-states\", \"lon\": [-82.47109967553207], \"mode\": \"markers\", \"text\": \"56110654\", \"type\": \"scattergeo\"}, {\"lat\": [34.63410745266668], \"locationmode\": \"USA-states\", \"lon\": [-77.47022866238544], \"mode\": \"markers\", \"text\": \"56110655\", \"type\": \"scattergeo\"}, {\"lat\": [34.39822586193108], \"locationmode\": \"USA-states\", \"lon\": [-80.21789151215441], \"mode\": \"markers\", \"text\": \"56110656\", \"type\": \"scattergeo\"}, {\"lat\": [34.69899510598052], \"locationmode\": \"USA-states\", \"lon\": [-80.98078330354545], \"mode\": \"markers\", \"text\": \"56110704\", \"type\": \"scattergeo\"}, {\"lat\": [35.535461944595745], \"locationmode\": \"USA-states\", \"lon\": [-80.58300824956117], \"mode\": \"markers\", \"text\": \"56110706\", \"type\": \"scattergeo\"}, {\"lat\": [33.88969092585936], \"locationmode\": \"USA-states\", \"lon\": [-81.2461866992324], \"mode\": \"markers\", \"text\": \"56110708\", \"type\": \"scattergeo\"}, {\"lat\": [36.12101028900812], \"locationmode\": \"USA-states\", \"lon\": [-78.5393948959555], \"mode\": \"markers\", \"text\": \"56110710\", \"type\": \"scattergeo\"}, {\"lat\": [35.81917456170754], \"locationmode\": \"USA-states\", \"lon\": [-81.90470196873667], \"mode\": \"markers\", \"text\": \"56110713\", \"type\": \"scattergeo\"}, {\"lat\": [36.173384448973856], \"locationmode\": \"USA-states\", \"lon\": [-82.20951238288218], \"mode\": \"markers\", \"text\": \"56110716\", \"type\": \"scattergeo\"}, {\"lat\": [34.33974224788509], \"locationmode\": \"USA-states\", \"lon\": [-79.79750452471237], \"mode\": \"markers\", \"text\": \"56110720\", \"type\": \"scattergeo\"}, {\"lat\": [33.995492061538364], \"locationmode\": \"USA-states\", \"lon\": [-78.22446651623751], \"mode\": \"markers\", \"text\": \"56110728\", \"type\": \"scattergeo\"}], \"name\": \"06/11/2756\"}]);}).then(function(){Plotly.animate('bc644c03-b6c9-4ea9-a11d-2fd7161f84bb');})\n",
       "        });</script>"
      ]
     },
     "metadata": {},
     "output_type": "display_data"
    }
   ],
   "source": [
    "from plotly.offline import iplot, init_notebook_mode\n",
    "\n",
    "init_notebook_mode(connected=True)\n",
    "\n",
    "figure = {\n",
    "    'data': [],\n",
    "    'layout': {},\n",
    "    'frames': []\n",
    "}\n",
    "\n",
    "figure['layout'] = {\n",
    "    'hovermode': 'closest',\n",
    "    'geo': {\n",
    "        'scope': 'usa',\n",
    "        'projection': dict(type = 'albers usa'),\n",
    "        'showland': True,\n",
    "        'landcolor': \"rgb(250, 250, 250)\",\n",
    "        'subunitcolor': \"rgb(217, 217, 217)\",\n",
    "        'countrycolor': \"rgb(217, 217, 217)\",\n",
    "        'countrywidth': 0.5,\n",
    "        'subunitwidth': 0.5    \n",
    "    },\n",
    "    'updatemenus': [{\n",
    "        'buttons': [\n",
    "            {\n",
    "                'args': [None, {'frame': {'duration': 500, 'redraw': False},\n",
    "                         'fromcurrent': True, 'transition': {'duration': 300, 'easing': 'quadratic-in-out'}}],\n",
    "                'label': 'Play',\n",
    "                'method': 'animate'\n",
    "            },\n",
    "            {\n",
    "                'args': [[None], {'frame': {'duration': 0, 'redraw': False}, 'mode': 'immediate',\n",
    "                'transition': {'duration': 0}}],\n",
    "                'label': 'Pause',\n",
    "                'method': 'animate'\n",
    "            }\n",
    "        ],\n",
    "        'direction': 'left',\n",
    "        'pad': {'r': 10, 't': 87},\n",
    "        'showactive': False,\n",
    "        'type': 'buttons',\n",
    "        'x': 0.1,\n",
    "        'xanchor': 'right',\n",
    "        'y': 0,\n",
    "        'yanchor': 'top'\n",
    "    }]\n",
    "}\n",
    "\n",
    "figure['data'] = [\n",
    "    go.Scattergeo(\n",
    "        locationmode= 'USA-states',\n",
    "        lon= [m['gps'][1] for m in metadata if m['timestamp'] == dates[0]],\n",
    "        lat= [m['gps'][0] for m in metadata if m['timestamp'] == dates[0]],\n",
    "        text = [m['filename'] for m in metadata if m['timestamp'] == dates[0]],\n",
    "        mode= 'markers'\n",
    "    )]\n",
    "    \n",
    "sliders_dict = {\n",
    "    'active': 0,\n",
    "    'yanchor': 'top',\n",
    "    'xanchor': 'left',\n",
    "    'currentvalue': {\n",
    "        'font': {'size': 18},\n",
    "        'prefix': 'Date: ',\n",
    "        'visible': True,\n",
    "        'xanchor': 'right'\n",
    "    },\n",
    "    'transition': {'duration': 300, 'easing': 'cubic-in-out'},\n",
    "    'pad': {'b': 10, 't': 50},\n",
    "    'len': 0.9,\n",
    "    'x': 0.1,\n",
    "    'y': 0,\n",
    "    'steps': []\n",
    "}\n",
    "\n",
    "for date in dates:\n",
    "\n",
    "    frame = {\n",
    "        'name': str(date),\n",
    "        'data': \n",
    "        [dict(\n",
    "            type = 'scattergeo',\n",
    "            locationmode = 'USA-states',\n",
    "            lon = [call[\"gps\"][1]], \n",
    "            lat = [call[\"gps\"][0]], \n",
    "            mode = 'markers',\n",
    "            text = call['filename']\n",
    "        )  for call in metadata if call[\"timestamp\"] == date]\n",
    "    }\n",
    "\n",
    "    figure['frames'].append(frame)\n",
    "    \n",
    "    slider_step = {\n",
    "        'args': [\n",
    "            [date],\n",
    "            {\n",
    "                'frame': {\n",
    "                    'duration': 300, \n",
    "                    'redraw': False\n",
    "                },\n",
    "                'mode': 'immediate',\n",
    "                'transition': {\n",
    "                    'duration': 300\n",
    "                }\n",
    "            }\n",
    "         ],\n",
    "         'label': date,\n",
    "         'method': 'animate'\n",
    "    }\n",
    "    \n",
    "    sliders_dict['steps'].append(slider_step)\n",
    "    \n",
    "figure['layout']['sliders'] = [sliders_dict]\n",
    "iplot(figure, filename=\"map_test\")"
   ]
  },
  {
   "cell_type": "code",
   "execution_count": 202,
   "metadata": {
    "scrolled": true
   },
   "outputs": [
    {
     "data": {
      "text/html": [
       "<script>requirejs.config({paths: { 'plotly': ['https://cdn.plot.ly/plotly-latest.min']},});if(!window.Plotly) {{require(['plotly'],function(plotly) {window.Plotly=plotly;});}}</script>"
      ],
      "text/vnd.plotly.v1+html": [
       "<script>requirejs.config({paths: { 'plotly': ['https://cdn.plot.ly/plotly-latest.min']},});if(!window.Plotly) {{require(['plotly'],function(plotly) {window.Plotly=plotly;});}}</script>"
      ]
     },
     "metadata": {},
     "output_type": "display_data"
    },
    {
     "name": "stdout",
     "output_type": "stream",
     "text": [
      "[{'data': [{'x': [0.0], 'y': [-2.0], 'mode': 'markers', 'marker': {'color': 'red', 'size': 10}}]}, {'data': [{'x': [-0.03915035401915867], 'y': [-1.8792169929196167], 'mode': 'markers', 'marker': {'color': 'red', 'size': 10}}]}, {'data': [{'x': [-0.07496876301541022], 'y': [-1.7617659308621407], 'mode': 'markers', 'marker': {'color': 'red', 'size': 10}}]}, {'data': [{'x': [-0.10745522698875476], 'y': [-1.6476468138275717], 'mode': 'markers', 'marker': {'color': 'red', 'size': 10}}]}, {'data': [{'x': [-0.13660974593919195], 'y': [-1.5368596418159102], 'mode': 'markers', 'marker': {'color': 'red', 'size': 10}}]}, {'data': [{'x': [-0.16243231986672224], 'y': [-1.4294044148271552], 'mode': 'markers', 'marker': {'color': 'red', 'size': 10}}]}, {'data': [{'x': [-0.1849229487713453], 'y': [-1.3252811328613077], 'mode': 'markers', 'marker': {'color': 'red', 'size': 10}}]}, {'data': [{'x': [-0.20408163265306123], 'y': [-1.2244897959183674], 'mode': 'markers', 'marker': {'color': 'red', 'size': 10}}]}, {'data': [{'x': [-0.21990837151187004], 'y': [-1.1270304039983343], 'mode': 'markers', 'marker': {'color': 'red', 'size': 10}}]}, {'data': [{'x': [-0.23240316534777178], 'y': [-1.0329029571012078], 'mode': 'markers', 'marker': {'color': 'red', 'size': 10}}]}, {'data': [{'x': [-0.24156601416076634], 'y': [-0.9421074552269888], 'mode': 'markers', 'marker': {'color': 'red', 'size': 10}}]}, {'data': [{'x': [-0.24739691795085378], 'y': [-0.854643898375677], 'mode': 'markers', 'marker': {'color': 'red', 'size': 10}}]}, {'data': [{'x': [-0.24989587671803415], 'y': [-0.770512286547272], 'mode': 'markers', 'marker': {'color': 'red', 'size': 10}}]}, {'data': [{'x': [-0.24906289046230737], 'y': [-0.6897126197417744], 'mode': 'markers', 'marker': {'color': 'red', 'size': 10}}]}, {'data': [{'x': [-0.24489795918367346], 'y': [-0.6122448979591837], 'mode': 'markers', 'marker': {'color': 'red', 'size': 10}}]}, {'data': [{'x': [-0.23740108288213246], 'y': [-0.5381091211995004], 'mode': 'markers', 'marker': {'color': 'red', 'size': 10}}]}, {'data': [{'x': [-0.2265722615576843], 'y': [-0.467305289462724], 'mode': 'markers', 'marker': {'color': 'red', 'size': 10}}]}, {'data': [{'x': [-0.21241149521032904], 'y': [-0.39983340274885465], 'mode': 'markers', 'marker': {'color': 'red', 'size': 10}}]}, {'data': [{'x': [-0.19491878384006667], 'y': [-0.33569346105789266], 'mode': 'markers', 'marker': {'color': 'red', 'size': 10}}]}, {'data': [{'x': [-0.17409412744689715], 'y': [-0.27488546438983763], 'mode': 'markers', 'marker': {'color': 'red', 'size': 10}}]}, {'data': [{'x': [-0.14993752603082056], 'y': [-0.21740941274468983], 'mode': 'markers', 'marker': {'color': 'red', 'size': 10}}]}, {'data': [{'x': [-0.12244897959183677], 'y': [-0.16326530612244905], 'mode': 'markers', 'marker': {'color': 'red', 'size': 10}}]}, {'data': [{'x': [-0.09162848812994595], 'y': [-0.1124531445231155], 'mode': 'markers', 'marker': {'color': 'red', 'size': 10}}]}, {'data': [{'x': [-0.057476051645147914], 'y': [-0.06497292794668895], 'mode': 'markers', 'marker': {'color': 'red', 'size': 10}}]}, {'data': [{'x': [-0.019991670137442755], 'y': [-0.020824656393169536], 'mode': 'markers', 'marker': {'color': 'red', 'size': 10}}]}, {'data': [{'x': [0.020824656393169536], 'y': [0.019991670137442755], 'mode': 'markers', 'marker': {'color': 'red', 'size': 10}}]}, {'data': [{'x': [0.06497292794668871], 'y': [0.05747605164514772], 'mode': 'markers', 'marker': {'color': 'red', 'size': 10}}]}, {'data': [{'x': [0.11245314452311524], 'y': [0.09162848812994577], 'mode': 'markers', 'marker': {'color': 'red', 'size': 10}}]}, {'data': [{'x': [0.16326530612244888], 'y': [0.12244897959183669], 'mode': 'markers', 'marker': {'color': 'red', 'size': 10}}]}, {'data': [{'x': [0.2174094127446897], 'y': [0.14993752603082047], 'mode': 'markers', 'marker': {'color': 'red', 'size': 10}}]}, {'data': [{'x': [0.2748854643898373], 'y': [0.174094127446897], 'mode': 'markers', 'marker': {'color': 'red', 'size': 10}}]}, {'data': [{'x': [0.33569346105789233], 'y': [0.19491878384006656], 'mode': 'markers', 'marker': {'color': 'red', 'size': 10}}]}, {'data': [{'x': [0.3998334027488545], 'y': [0.21241149521032898], 'mode': 'markers', 'marker': {'color': 'red', 'size': 10}}]}, {'data': [{'x': [0.46730528946272376], 'y': [0.22657226155768428], 'mode': 'markers', 'marker': {'color': 'red', 'size': 10}}]}, {'data': [{'x': [0.5381091211995002], 'y': [0.23740108288213244], 'mode': 'markers', 'marker': {'color': 'red', 'size': 10}}]}, {'data': [{'x': [0.6122448979591834], 'y': [0.24489795918367344], 'mode': 'markers', 'marker': {'color': 'red', 'size': 10}}]}, {'data': [{'x': [0.689712619741774], 'y': [0.24906289046230737], 'mode': 'markers', 'marker': {'color': 'red', 'size': 10}}]}, {'data': [{'x': [0.7705122865472718], 'y': [0.24989587671803415], 'mode': 'markers', 'marker': {'color': 'red', 'size': 10}}]}, {'data': [{'x': [0.8546438983756767], 'y': [0.24739691795085383], 'mode': 'markers', 'marker': {'color': 'red', 'size': 10}}]}, {'data': [{'x': [0.9421074552269882], 'y': [0.2415660141607664], 'mode': 'markers', 'marker': {'color': 'red', 'size': 10}}]}, {'data': [{'x': [1.0329029571012074], 'y': [0.23240316534777183], 'mode': 'markers', 'marker': {'color': 'red', 'size': 10}}]}, {'data': [{'x': [1.1270304039983337], 'y': [0.2199083715118701], 'mode': 'markers', 'marker': {'color': 'red', 'size': 10}}]}, {'data': [{'x': [1.2244897959183672], 'y': [0.20408163265306123], 'mode': 'markers', 'marker': {'color': 'red', 'size': 10}}]}, {'data': [{'x': [1.3252811328613077], 'y': [0.1849229487713453], 'mode': 'markers', 'marker': {'color': 'red', 'size': 10}}]}, {'data': [{'x': [1.4294044148271547], 'y': [0.16243231986672235], 'mode': 'markers', 'marker': {'color': 'red', 'size': 10}}]}, {'data': [{'x': [1.5368596418159095], 'y': [0.13660974593919217], 'mode': 'markers', 'marker': {'color': 'red', 'size': 10}}]}, {'data': [{'x': [1.6476468138275715], 'y': [0.10745522698875476], 'mode': 'markers', 'marker': {'color': 'red', 'size': 10}}]}, {'data': [{'x': [1.7617659308621405], 'y': [0.07496876301541033], 'mode': 'markers', 'marker': {'color': 'red', 'size': 10}}]}, {'data': [{'x': [1.8792169929196167], 'y': [0.03915035401915867], 'mode': 'markers', 'marker': {'color': 'red', 'size': 10}}]}, {'data': [{'x': [2.0], 'y': [0.0], 'mode': 'markers', 'marker': {'color': 'red', 'size': 10}}]}]\n"
     ]
    },
    {
     "data": {
      "application/vnd.plotly.v1+json": {
       "data": [
        {
         "line": {
          "color": "blue",
          "width": 2
         },
         "mode": "lines",
         "type": "scatter",
         "uid": "e31675dc-5123-11e9-afd6-5cf37071266d",
         "x": [
          0,
          -0.01979389858177738,
          -0.03877155392306908,
          -0.0569329660238751,
          -0.07427813488419543,
          -0.0908070605040302,
          -0.10651974288337929,
          -0.12141618202224269,
          -0.13549637792062041,
          -0.14876033057851246,
          -0.16120803999591882,
          -0.1728395061728395,
          -0.1836547291092746,
          -0.19365370880522392,
          -0.20283644526068767,
          -0.21120293847566574,
          -0.21875318845015818,
          -0.22548719518416488,
          -0.23140495867768596,
          -0.23650647893072135,
          -0.24079175594327112,
          -0.24426078971533516,
          -0.24691358024691357,
          -0.24875012753800635,
          -0.2497704315886134,
          -0.24997449239873482,
          -0.24936230996837058,
          -0.24793388429752067,
          -0.24568921538618507,
          -0.24262830323436385,
          -0.23875114784205692,
          -0.23405774920926437,
          -0.22854810733598613,
          -0.2222222222222222,
          -0.2150800938679726,
          -0.20712172227323739,
          -0.19834710743801653,
          -0.18875624936230995,
          -0.1783491480461177,
          -0.1671258034894398,
          -0.15508621569227624,
          -0.142230384654627,
          -0.12855831037649218,
          -0.11406999285787162,
          -0.09876543209876538,
          -0.08264462809917349,
          -0.06570758085909592,
          -0.047954290378532695,
          -0.029384756657483906,
          -0.009998979695949348,
          0.010203040506070876,
          0.031221303948576883,
          0.05305581063156832,
          0.07570656055504542,
          0.09917355371900843,
          0.12345679012345685,
          0.1485562697683912,
          0.17447199265381094,
          0.20120395877971636,
          0.22875216814610771,
          0.2571166207529844,
          0.28629731660034713,
          0.3162942556881952,
          0.3471074380165292,
          0.37873686358534864,
          0.41118253239465363,
          0.4444444444444447,
          0.47852259973472105,
          0.5134169982654835,
          0.5491276400367311,
          0.5856545250484648,
          0.6229976533006838,
          0.6611570247933884,
          0.7001326395265792,
          0.7399244975002552,
          0.7805325987144174,
          0.8219569431690646,
          0.8641975308641976,
          0.9072543617998167,
          0.951127435975921,
          0.9958167533925114,
          1.041322314049587,
          1.0876441179471488,
          1.1347821650851957,
          1.1827364554637283,
          1.2315069890827472,
          1.281093765942251,
          1.331496786042241,
          1.3827160493827164,
          1.4347515559636779,
          1.4876033057851243,
          1.5412712988470565,
          1.595755535149475,
          1.6510560146923785,
          1.7071727374757684,
          1.7641057034996432,
          1.8218549127640038,
          1.8804203652688507,
          1.9398020610141824,
          2
         ],
         "y": [
          -2,
          -1.9398020610141822,
          -1.88042036526885,
          -1.8218549127640038,
          -1.764105703499643,
          -1.707172737475768,
          -1.6510560146923783,
          -1.5957555351494745,
          -1.5412712988470563,
          -1.487603305785124,
          -1.4347515559636772,
          -1.382716049382716,
          -1.3314967860422406,
          -1.2810937659422508,
          -1.2315069890827466,
          -1.1827364554637283,
          -1.1347821650851952,
          -1.0876441179471483,
          -1.0413223140495869,
          -0.9958167533925109,
          -0.9511274359759208,
          -0.9072543617998162,
          -0.8641975308641976,
          -0.8219569431690641,
          -0.7805325987144169,
          -0.739924497500255,
          -0.7001326395265788,
          -0.6611570247933882,
          -0.6229976533006835,
          -0.5856545250484644,
          -0.5491276400367309,
          -0.513416998265483,
          -0.47852259973472083,
          -0.4444444444444443,
          -0.41118253239465347,
          -0.37873686358534825,
          -0.3471074380165289,
          -0.316294255688195,
          -0.2862973166003468,
          -0.25711662075298425,
          -0.2287521681461074,
          -0.2012039587797162,
          -0.1744719926538108,
          -0.14855626976839093,
          -0.12345679012345671,
          -0.09917355371900817,
          -0.0757065605550453,
          -0.05305581063156808,
          -0.031221303948576647,
          -0.010203040506070762,
          0.009998979695949456,
          0.029384756657484114,
          0.047954290378532896,
          0.06570758085909602,
          0.08264462809917367,
          0.09876543209876547,
          0.11406999285787178,
          0.12855831037649226,
          0.14223038465462706,
          0.15508621569227637,
          0.16712580348943987,
          0.17834914804611784,
          0.18875624936231,
          0.19834710743801662,
          0.20712172227323747,
          0.21508009386797267,
          0.22222222222222227,
          0.22854810733598613,
          0.23405774920926442,
          0.23875114784205695,
          0.24262830323436388,
          0.2456892153861851,
          0.24793388429752067,
          0.24936230996837058,
          0.24997449239873482,
          0.2497704315886134,
          0.2487501275380063,
          0.24691358024691357,
          0.24426078971533516,
          0.24079175594327107,
          0.2365064789307213,
          0.2314049586776859,
          0.22548719518416482,
          0.21875318845015812,
          0.21120293847566574,
          0.20283644526068756,
          0.19365370880522392,
          0.1836547291092745,
          0.17283950617283939,
          0.1612080399959186,
          0.14876033057851235,
          0.1354963779206203,
          0.12141618202224247,
          0.10651974288337918,
          0.09080706050402998,
          0.07427813488419532,
          0.0569329660238751,
          0.03877155392306886,
          0.01979389858177727,
          0
         ]
        },
        {
         "line": {
          "color": "blue",
          "width": 2
         },
         "mode": "lines",
         "type": "scatter",
         "uid": "e31675dd-5123-11e9-8f10-5cf37071266d",
         "x": [
          0,
          -0.01979389858177738,
          -0.03877155392306908,
          -0.0569329660238751,
          -0.07427813488419543,
          -0.0908070605040302,
          -0.10651974288337929,
          -0.12141618202224269,
          -0.13549637792062041,
          -0.14876033057851246,
          -0.16120803999591882,
          -0.1728395061728395,
          -0.1836547291092746,
          -0.19365370880522392,
          -0.20283644526068767,
          -0.21120293847566574,
          -0.21875318845015818,
          -0.22548719518416488,
          -0.23140495867768596,
          -0.23650647893072135,
          -0.24079175594327112,
          -0.24426078971533516,
          -0.24691358024691357,
          -0.24875012753800635,
          -0.2497704315886134,
          -0.24997449239873482,
          -0.24936230996837058,
          -0.24793388429752067,
          -0.24568921538618507,
          -0.24262830323436385,
          -0.23875114784205692,
          -0.23405774920926437,
          -0.22854810733598613,
          -0.2222222222222222,
          -0.2150800938679726,
          -0.20712172227323739,
          -0.19834710743801653,
          -0.18875624936230995,
          -0.1783491480461177,
          -0.1671258034894398,
          -0.15508621569227624,
          -0.142230384654627,
          -0.12855831037649218,
          -0.11406999285787162,
          -0.09876543209876538,
          -0.08264462809917349,
          -0.06570758085909592,
          -0.047954290378532695,
          -0.029384756657483906,
          -0.009998979695949348,
          0.010203040506070876,
          0.031221303948576883,
          0.05305581063156832,
          0.07570656055504542,
          0.09917355371900843,
          0.12345679012345685,
          0.1485562697683912,
          0.17447199265381094,
          0.20120395877971636,
          0.22875216814610771,
          0.2571166207529844,
          0.28629731660034713,
          0.3162942556881952,
          0.3471074380165292,
          0.37873686358534864,
          0.41118253239465363,
          0.4444444444444447,
          0.47852259973472105,
          0.5134169982654835,
          0.5491276400367311,
          0.5856545250484648,
          0.6229976533006838,
          0.6611570247933884,
          0.7001326395265792,
          0.7399244975002552,
          0.7805325987144174,
          0.8219569431690646,
          0.8641975308641976,
          0.9072543617998167,
          0.951127435975921,
          0.9958167533925114,
          1.041322314049587,
          1.0876441179471488,
          1.1347821650851957,
          1.1827364554637283,
          1.2315069890827472,
          1.281093765942251,
          1.331496786042241,
          1.3827160493827164,
          1.4347515559636779,
          1.4876033057851243,
          1.5412712988470565,
          1.595755535149475,
          1.6510560146923785,
          1.7071727374757684,
          1.7641057034996432,
          1.8218549127640038,
          1.8804203652688507,
          1.9398020610141824,
          2
         ],
         "y": [
          -2,
          -1.9398020610141822,
          -1.88042036526885,
          -1.8218549127640038,
          -1.764105703499643,
          -1.707172737475768,
          -1.6510560146923783,
          -1.5957555351494745,
          -1.5412712988470563,
          -1.487603305785124,
          -1.4347515559636772,
          -1.382716049382716,
          -1.3314967860422406,
          -1.2810937659422508,
          -1.2315069890827466,
          -1.1827364554637283,
          -1.1347821650851952,
          -1.0876441179471483,
          -1.0413223140495869,
          -0.9958167533925109,
          -0.9511274359759208,
          -0.9072543617998162,
          -0.8641975308641976,
          -0.8219569431690641,
          -0.7805325987144169,
          -0.739924497500255,
          -0.7001326395265788,
          -0.6611570247933882,
          -0.6229976533006835,
          -0.5856545250484644,
          -0.5491276400367309,
          -0.513416998265483,
          -0.47852259973472083,
          -0.4444444444444443,
          -0.41118253239465347,
          -0.37873686358534825,
          -0.3471074380165289,
          -0.316294255688195,
          -0.2862973166003468,
          -0.25711662075298425,
          -0.2287521681461074,
          -0.2012039587797162,
          -0.1744719926538108,
          -0.14855626976839093,
          -0.12345679012345671,
          -0.09917355371900817,
          -0.0757065605550453,
          -0.05305581063156808,
          -0.031221303948576647,
          -0.010203040506070762,
          0.009998979695949456,
          0.029384756657484114,
          0.047954290378532896,
          0.06570758085909602,
          0.08264462809917367,
          0.09876543209876547,
          0.11406999285787178,
          0.12855831037649226,
          0.14223038465462706,
          0.15508621569227637,
          0.16712580348943987,
          0.17834914804611784,
          0.18875624936231,
          0.19834710743801662,
          0.20712172227323747,
          0.21508009386797267,
          0.22222222222222227,
          0.22854810733598613,
          0.23405774920926442,
          0.23875114784205695,
          0.24262830323436388,
          0.2456892153861851,
          0.24793388429752067,
          0.24936230996837058,
          0.24997449239873482,
          0.2497704315886134,
          0.2487501275380063,
          0.24691358024691357,
          0.24426078971533516,
          0.24079175594327107,
          0.2365064789307213,
          0.2314049586776859,
          0.22548719518416482,
          0.21875318845015812,
          0.21120293847566574,
          0.20283644526068756,
          0.19365370880522392,
          0.1836547291092745,
          0.17283950617283939,
          0.1612080399959186,
          0.14876033057851235,
          0.1354963779206203,
          0.12141618202224247,
          0.10651974288337918,
          0.09080706050402998,
          0.07427813488419532,
          0.0569329660238751,
          0.03877155392306886,
          0.01979389858177727,
          0
         ]
        }
       ],
       "frames": [
        {
         "data": [
          {
           "marker": {
            "color": "red",
            "size": 10
           },
           "mode": "markers",
           "type": "scatter",
           "x": [
            0
           ],
           "y": [
            -2
           ]
          }
         ]
        },
        {
         "data": [
          {
           "marker": {
            "color": "red",
            "size": 10
           },
           "mode": "markers",
           "type": "scatter",
           "x": [
            -0.03915035401915867
           ],
           "y": [
            -1.8792169929196167
           ]
          }
         ]
        },
        {
         "data": [
          {
           "marker": {
            "color": "red",
            "size": 10
           },
           "mode": "markers",
           "type": "scatter",
           "x": [
            -0.07496876301541022
           ],
           "y": [
            -1.7617659308621407
           ]
          }
         ]
        },
        {
         "data": [
          {
           "marker": {
            "color": "red",
            "size": 10
           },
           "mode": "markers",
           "type": "scatter",
           "x": [
            -0.10745522698875476
           ],
           "y": [
            -1.6476468138275717
           ]
          }
         ]
        },
        {
         "data": [
          {
           "marker": {
            "color": "red",
            "size": 10
           },
           "mode": "markers",
           "type": "scatter",
           "x": [
            -0.13660974593919195
           ],
           "y": [
            -1.5368596418159102
           ]
          }
         ]
        },
        {
         "data": [
          {
           "marker": {
            "color": "red",
            "size": 10
           },
           "mode": "markers",
           "type": "scatter",
           "x": [
            -0.16243231986672224
           ],
           "y": [
            -1.4294044148271552
           ]
          }
         ]
        },
        {
         "data": [
          {
           "marker": {
            "color": "red",
            "size": 10
           },
           "mode": "markers",
           "type": "scatter",
           "x": [
            -0.1849229487713453
           ],
           "y": [
            -1.3252811328613077
           ]
          }
         ]
        },
        {
         "data": [
          {
           "marker": {
            "color": "red",
            "size": 10
           },
           "mode": "markers",
           "type": "scatter",
           "x": [
            -0.20408163265306123
           ],
           "y": [
            -1.2244897959183674
           ]
          }
         ]
        },
        {
         "data": [
          {
           "marker": {
            "color": "red",
            "size": 10
           },
           "mode": "markers",
           "type": "scatter",
           "x": [
            -0.21990837151187004
           ],
           "y": [
            -1.1270304039983343
           ]
          }
         ]
        },
        {
         "data": [
          {
           "marker": {
            "color": "red",
            "size": 10
           },
           "mode": "markers",
           "type": "scatter",
           "x": [
            -0.23240316534777178
           ],
           "y": [
            -1.0329029571012078
           ]
          }
         ]
        },
        {
         "data": [
          {
           "marker": {
            "color": "red",
            "size": 10
           },
           "mode": "markers",
           "type": "scatter",
           "x": [
            -0.24156601416076634
           ],
           "y": [
            -0.9421074552269888
           ]
          }
         ]
        },
        {
         "data": [
          {
           "marker": {
            "color": "red",
            "size": 10
           },
           "mode": "markers",
           "type": "scatter",
           "x": [
            -0.24739691795085378
           ],
           "y": [
            -0.854643898375677
           ]
          }
         ]
        },
        {
         "data": [
          {
           "marker": {
            "color": "red",
            "size": 10
           },
           "mode": "markers",
           "type": "scatter",
           "x": [
            -0.24989587671803415
           ],
           "y": [
            -0.770512286547272
           ]
          }
         ]
        },
        {
         "data": [
          {
           "marker": {
            "color": "red",
            "size": 10
           },
           "mode": "markers",
           "type": "scatter",
           "x": [
            -0.24906289046230737
           ],
           "y": [
            -0.6897126197417744
           ]
          }
         ]
        },
        {
         "data": [
          {
           "marker": {
            "color": "red",
            "size": 10
           },
           "mode": "markers",
           "type": "scatter",
           "x": [
            -0.24489795918367346
           ],
           "y": [
            -0.6122448979591837
           ]
          }
         ]
        },
        {
         "data": [
          {
           "marker": {
            "color": "red",
            "size": 10
           },
           "mode": "markers",
           "type": "scatter",
           "x": [
            -0.23740108288213246
           ],
           "y": [
            -0.5381091211995004
           ]
          }
         ]
        },
        {
         "data": [
          {
           "marker": {
            "color": "red",
            "size": 10
           },
           "mode": "markers",
           "type": "scatter",
           "x": [
            -0.2265722615576843
           ],
           "y": [
            -0.467305289462724
           ]
          }
         ]
        },
        {
         "data": [
          {
           "marker": {
            "color": "red",
            "size": 10
           },
           "mode": "markers",
           "type": "scatter",
           "x": [
            -0.21241149521032904
           ],
           "y": [
            -0.39983340274885465
           ]
          }
         ]
        },
        {
         "data": [
          {
           "marker": {
            "color": "red",
            "size": 10
           },
           "mode": "markers",
           "type": "scatter",
           "x": [
            -0.19491878384006667
           ],
           "y": [
            -0.33569346105789266
           ]
          }
         ]
        },
        {
         "data": [
          {
           "marker": {
            "color": "red",
            "size": 10
           },
           "mode": "markers",
           "type": "scatter",
           "x": [
            -0.17409412744689715
           ],
           "y": [
            -0.27488546438983763
           ]
          }
         ]
        },
        {
         "data": [
          {
           "marker": {
            "color": "red",
            "size": 10
           },
           "mode": "markers",
           "type": "scatter",
           "x": [
            -0.14993752603082056
           ],
           "y": [
            -0.21740941274468983
           ]
          }
         ]
        },
        {
         "data": [
          {
           "marker": {
            "color": "red",
            "size": 10
           },
           "mode": "markers",
           "type": "scatter",
           "x": [
            -0.12244897959183677
           ],
           "y": [
            -0.16326530612244905
           ]
          }
         ]
        },
        {
         "data": [
          {
           "marker": {
            "color": "red",
            "size": 10
           },
           "mode": "markers",
           "type": "scatter",
           "x": [
            -0.09162848812994595
           ],
           "y": [
            -0.1124531445231155
           ]
          }
         ]
        },
        {
         "data": [
          {
           "marker": {
            "color": "red",
            "size": 10
           },
           "mode": "markers",
           "type": "scatter",
           "x": [
            -0.057476051645147914
           ],
           "y": [
            -0.06497292794668895
           ]
          }
         ]
        },
        {
         "data": [
          {
           "marker": {
            "color": "red",
            "size": 10
           },
           "mode": "markers",
           "type": "scatter",
           "x": [
            -0.019991670137442755
           ],
           "y": [
            -0.020824656393169536
           ]
          }
         ]
        },
        {
         "data": [
          {
           "marker": {
            "color": "red",
            "size": 10
           },
           "mode": "markers",
           "type": "scatter",
           "x": [
            0.020824656393169536
           ],
           "y": [
            0.019991670137442755
           ]
          }
         ]
        },
        {
         "data": [
          {
           "marker": {
            "color": "red",
            "size": 10
           },
           "mode": "markers",
           "type": "scatter",
           "x": [
            0.06497292794668871
           ],
           "y": [
            0.05747605164514772
           ]
          }
         ]
        },
        {
         "data": [
          {
           "marker": {
            "color": "red",
            "size": 10
           },
           "mode": "markers",
           "type": "scatter",
           "x": [
            0.11245314452311524
           ],
           "y": [
            0.09162848812994577
           ]
          }
         ]
        },
        {
         "data": [
          {
           "marker": {
            "color": "red",
            "size": 10
           },
           "mode": "markers",
           "type": "scatter",
           "x": [
            0.16326530612244888
           ],
           "y": [
            0.12244897959183669
           ]
          }
         ]
        },
        {
         "data": [
          {
           "marker": {
            "color": "red",
            "size": 10
           },
           "mode": "markers",
           "type": "scatter",
           "x": [
            0.2174094127446897
           ],
           "y": [
            0.14993752603082047
           ]
          }
         ]
        },
        {
         "data": [
          {
           "marker": {
            "color": "red",
            "size": 10
           },
           "mode": "markers",
           "type": "scatter",
           "x": [
            0.2748854643898373
           ],
           "y": [
            0.174094127446897
           ]
          }
         ]
        },
        {
         "data": [
          {
           "marker": {
            "color": "red",
            "size": 10
           },
           "mode": "markers",
           "type": "scatter",
           "x": [
            0.33569346105789233
           ],
           "y": [
            0.19491878384006656
           ]
          }
         ]
        },
        {
         "data": [
          {
           "marker": {
            "color": "red",
            "size": 10
           },
           "mode": "markers",
           "type": "scatter",
           "x": [
            0.3998334027488545
           ],
           "y": [
            0.21241149521032898
           ]
          }
         ]
        },
        {
         "data": [
          {
           "marker": {
            "color": "red",
            "size": 10
           },
           "mode": "markers",
           "type": "scatter",
           "x": [
            0.46730528946272376
           ],
           "y": [
            0.22657226155768428
           ]
          }
         ]
        },
        {
         "data": [
          {
           "marker": {
            "color": "red",
            "size": 10
           },
           "mode": "markers",
           "type": "scatter",
           "x": [
            0.5381091211995002
           ],
           "y": [
            0.23740108288213244
           ]
          }
         ]
        },
        {
         "data": [
          {
           "marker": {
            "color": "red",
            "size": 10
           },
           "mode": "markers",
           "type": "scatter",
           "x": [
            0.6122448979591834
           ],
           "y": [
            0.24489795918367344
           ]
          }
         ]
        },
        {
         "data": [
          {
           "marker": {
            "color": "red",
            "size": 10
           },
           "mode": "markers",
           "type": "scatter",
           "x": [
            0.689712619741774
           ],
           "y": [
            0.24906289046230737
           ]
          }
         ]
        },
        {
         "data": [
          {
           "marker": {
            "color": "red",
            "size": 10
           },
           "mode": "markers",
           "type": "scatter",
           "x": [
            0.7705122865472718
           ],
           "y": [
            0.24989587671803415
           ]
          }
         ]
        },
        {
         "data": [
          {
           "marker": {
            "color": "red",
            "size": 10
           },
           "mode": "markers",
           "type": "scatter",
           "x": [
            0.8546438983756767
           ],
           "y": [
            0.24739691795085383
           ]
          }
         ]
        },
        {
         "data": [
          {
           "marker": {
            "color": "red",
            "size": 10
           },
           "mode": "markers",
           "type": "scatter",
           "x": [
            0.9421074552269882
           ],
           "y": [
            0.2415660141607664
           ]
          }
         ]
        },
        {
         "data": [
          {
           "marker": {
            "color": "red",
            "size": 10
           },
           "mode": "markers",
           "type": "scatter",
           "x": [
            1.0329029571012074
           ],
           "y": [
            0.23240316534777183
           ]
          }
         ]
        },
        {
         "data": [
          {
           "marker": {
            "color": "red",
            "size": 10
           },
           "mode": "markers",
           "type": "scatter",
           "x": [
            1.1270304039983337
           ],
           "y": [
            0.2199083715118701
           ]
          }
         ]
        },
        {
         "data": [
          {
           "marker": {
            "color": "red",
            "size": 10
           },
           "mode": "markers",
           "type": "scatter",
           "x": [
            1.2244897959183672
           ],
           "y": [
            0.20408163265306123
           ]
          }
         ]
        },
        {
         "data": [
          {
           "marker": {
            "color": "red",
            "size": 10
           },
           "mode": "markers",
           "type": "scatter",
           "x": [
            1.3252811328613077
           ],
           "y": [
            0.1849229487713453
           ]
          }
         ]
        },
        {
         "data": [
          {
           "marker": {
            "color": "red",
            "size": 10
           },
           "mode": "markers",
           "type": "scatter",
           "x": [
            1.4294044148271547
           ],
           "y": [
            0.16243231986672235
           ]
          }
         ]
        },
        {
         "data": [
          {
           "marker": {
            "color": "red",
            "size": 10
           },
           "mode": "markers",
           "type": "scatter",
           "x": [
            1.5368596418159095
           ],
           "y": [
            0.13660974593919217
           ]
          }
         ]
        },
        {
         "data": [
          {
           "marker": {
            "color": "red",
            "size": 10
           },
           "mode": "markers",
           "type": "scatter",
           "x": [
            1.6476468138275715
           ],
           "y": [
            0.10745522698875476
           ]
          }
         ]
        },
        {
         "data": [
          {
           "marker": {
            "color": "red",
            "size": 10
           },
           "mode": "markers",
           "type": "scatter",
           "x": [
            1.7617659308621405
           ],
           "y": [
            0.07496876301541033
           ]
          }
         ]
        },
        {
         "data": [
          {
           "marker": {
            "color": "red",
            "size": 10
           },
           "mode": "markers",
           "type": "scatter",
           "x": [
            1.8792169929196167
           ],
           "y": [
            0.03915035401915867
           ]
          }
         ]
        },
        {
         "data": [
          {
           "marker": {
            "color": "red",
            "size": 10
           },
           "mode": "markers",
           "type": "scatter",
           "x": [
            2
           ],
           "y": [
            0
           ]
          }
         ]
        }
       ],
       "layout": {
        "hovermode": "closest",
        "title": "Kinematic Generation of a Planar Curve",
        "updatemenus": [
         {
          "buttons": [
           {
            "args": [
             null
            ],
            "label": "Play",
            "method": "animate"
           }
          ],
          "type": "buttons"
         }
        ],
        "xaxis": {
         "autorange": false,
         "range": [
          -1.7499744923987348,
          3.5
         ],
         "zeroline": false
        },
        "yaxis": {
         "autorange": false,
         "range": [
          -3.5,
          1.7499744923987348
         ],
         "zeroline": false
        }
       }
      },
      "text/html": [
       "<div id=\"04ffc9df-174e-48b2-ba97-9fb8555d0a78\" style=\"height: 525px; width: 100%;\" class=\"plotly-graph-div\"></div><script type=\"text/javascript\">require([\"plotly\"], function(Plotly) { window.PLOTLYENV=window.PLOTLYENV || {};window.PLOTLYENV.BASE_URL=\"https://plot.ly\";\n",
       "        Plotly.plot(\n",
       "            '04ffc9df-174e-48b2-ba97-9fb8555d0a78',\n",
       "            [{\"line\": {\"color\": \"blue\", \"width\": 2}, \"mode\": \"lines\", \"x\": [0.0, -0.01979389858177738, -0.03877155392306908, -0.0569329660238751, -0.07427813488419543, -0.0908070605040302, -0.10651974288337929, -0.12141618202224269, -0.13549637792062041, -0.14876033057851246, -0.16120803999591882, -0.1728395061728395, -0.1836547291092746, -0.19365370880522392, -0.20283644526068767, -0.21120293847566574, -0.21875318845015818, -0.22548719518416488, -0.23140495867768596, -0.23650647893072135, -0.24079175594327112, -0.24426078971533516, -0.24691358024691357, -0.24875012753800635, -0.2497704315886134, -0.24997449239873482, -0.24936230996837058, -0.24793388429752067, -0.24568921538618507, -0.24262830323436385, -0.23875114784205692, -0.23405774920926437, -0.22854810733598613, -0.2222222222222222, -0.2150800938679726, -0.20712172227323739, -0.19834710743801653, -0.18875624936230995, -0.1783491480461177, -0.1671258034894398, -0.15508621569227624, -0.142230384654627, -0.12855831037649218, -0.11406999285787162, -0.09876543209876538, -0.08264462809917349, -0.06570758085909592, -0.047954290378532695, -0.029384756657483906, -0.009998979695949348, 0.010203040506070876, 0.031221303948576883, 0.05305581063156832, 0.07570656055504542, 0.09917355371900843, 0.12345679012345685, 0.1485562697683912, 0.17447199265381094, 0.20120395877971636, 0.22875216814610771, 0.2571166207529844, 0.28629731660034713, 0.3162942556881952, 0.3471074380165292, 0.37873686358534864, 0.41118253239465363, 0.4444444444444447, 0.47852259973472105, 0.5134169982654835, 0.5491276400367311, 0.5856545250484648, 0.6229976533006838, 0.6611570247933884, 0.7001326395265792, 0.7399244975002552, 0.7805325987144174, 0.8219569431690646, 0.8641975308641976, 0.9072543617998167, 0.951127435975921, 0.9958167533925114, 1.041322314049587, 1.0876441179471488, 1.1347821650851957, 1.1827364554637283, 1.2315069890827472, 1.281093765942251, 1.331496786042241, 1.3827160493827164, 1.4347515559636779, 1.4876033057851243, 1.5412712988470565, 1.595755535149475, 1.6510560146923785, 1.7071727374757684, 1.7641057034996432, 1.8218549127640038, 1.8804203652688507, 1.9398020610141824, 2.0], \"y\": [-2.0, -1.9398020610141822, -1.88042036526885, -1.8218549127640038, -1.764105703499643, -1.707172737475768, -1.6510560146923783, -1.5957555351494745, -1.5412712988470563, -1.487603305785124, -1.4347515559636772, -1.382716049382716, -1.3314967860422406, -1.2810937659422508, -1.2315069890827466, -1.1827364554637283, -1.1347821650851952, -1.0876441179471483, -1.0413223140495869, -0.9958167533925109, -0.9511274359759208, -0.9072543617998162, -0.8641975308641976, -0.8219569431690641, -0.7805325987144169, -0.739924497500255, -0.7001326395265788, -0.6611570247933882, -0.6229976533006835, -0.5856545250484644, -0.5491276400367309, -0.513416998265483, -0.47852259973472083, -0.4444444444444443, -0.41118253239465347, -0.37873686358534825, -0.3471074380165289, -0.316294255688195, -0.2862973166003468, -0.25711662075298425, -0.2287521681461074, -0.2012039587797162, -0.1744719926538108, -0.14855626976839093, -0.12345679012345671, -0.09917355371900817, -0.0757065605550453, -0.05305581063156808, -0.031221303948576647, -0.010203040506070762, 0.009998979695949456, 0.029384756657484114, 0.047954290378532896, 0.06570758085909602, 0.08264462809917367, 0.09876543209876547, 0.11406999285787178, 0.12855831037649226, 0.14223038465462706, 0.15508621569227637, 0.16712580348943987, 0.17834914804611784, 0.18875624936231, 0.19834710743801662, 0.20712172227323747, 0.21508009386797267, 0.22222222222222227, 0.22854810733598613, 0.23405774920926442, 0.23875114784205695, 0.24262830323436388, 0.2456892153861851, 0.24793388429752067, 0.24936230996837058, 0.24997449239873482, 0.2497704315886134, 0.2487501275380063, 0.24691358024691357, 0.24426078971533516, 0.24079175594327107, 0.2365064789307213, 0.2314049586776859, 0.22548719518416482, 0.21875318845015812, 0.21120293847566574, 0.20283644526068756, 0.19365370880522392, 0.1836547291092745, 0.17283950617283939, 0.1612080399959186, 0.14876033057851235, 0.1354963779206203, 0.12141618202224247, 0.10651974288337918, 0.09080706050402998, 0.07427813488419532, 0.0569329660238751, 0.03877155392306886, 0.01979389858177727, 0.0], \"type\": \"scatter\", \"uid\": \"e40a24e2-5123-11e9-a5ef-5cf37071266d\"}, {\"line\": {\"color\": \"blue\", \"width\": 2}, \"mode\": \"lines\", \"x\": [0.0, -0.01979389858177738, -0.03877155392306908, -0.0569329660238751, -0.07427813488419543, -0.0908070605040302, -0.10651974288337929, -0.12141618202224269, -0.13549637792062041, -0.14876033057851246, -0.16120803999591882, -0.1728395061728395, -0.1836547291092746, -0.19365370880522392, -0.20283644526068767, -0.21120293847566574, -0.21875318845015818, -0.22548719518416488, -0.23140495867768596, -0.23650647893072135, -0.24079175594327112, -0.24426078971533516, -0.24691358024691357, -0.24875012753800635, -0.2497704315886134, -0.24997449239873482, -0.24936230996837058, -0.24793388429752067, -0.24568921538618507, -0.24262830323436385, -0.23875114784205692, -0.23405774920926437, -0.22854810733598613, -0.2222222222222222, -0.2150800938679726, -0.20712172227323739, -0.19834710743801653, -0.18875624936230995, -0.1783491480461177, -0.1671258034894398, -0.15508621569227624, -0.142230384654627, -0.12855831037649218, -0.11406999285787162, -0.09876543209876538, -0.08264462809917349, -0.06570758085909592, -0.047954290378532695, -0.029384756657483906, -0.009998979695949348, 0.010203040506070876, 0.031221303948576883, 0.05305581063156832, 0.07570656055504542, 0.09917355371900843, 0.12345679012345685, 0.1485562697683912, 0.17447199265381094, 0.20120395877971636, 0.22875216814610771, 0.2571166207529844, 0.28629731660034713, 0.3162942556881952, 0.3471074380165292, 0.37873686358534864, 0.41118253239465363, 0.4444444444444447, 0.47852259973472105, 0.5134169982654835, 0.5491276400367311, 0.5856545250484648, 0.6229976533006838, 0.6611570247933884, 0.7001326395265792, 0.7399244975002552, 0.7805325987144174, 0.8219569431690646, 0.8641975308641976, 0.9072543617998167, 0.951127435975921, 0.9958167533925114, 1.041322314049587, 1.0876441179471488, 1.1347821650851957, 1.1827364554637283, 1.2315069890827472, 1.281093765942251, 1.331496786042241, 1.3827160493827164, 1.4347515559636779, 1.4876033057851243, 1.5412712988470565, 1.595755535149475, 1.6510560146923785, 1.7071727374757684, 1.7641057034996432, 1.8218549127640038, 1.8804203652688507, 1.9398020610141824, 2.0], \"y\": [-2.0, -1.9398020610141822, -1.88042036526885, -1.8218549127640038, -1.764105703499643, -1.707172737475768, -1.6510560146923783, -1.5957555351494745, -1.5412712988470563, -1.487603305785124, -1.4347515559636772, -1.382716049382716, -1.3314967860422406, -1.2810937659422508, -1.2315069890827466, -1.1827364554637283, -1.1347821650851952, -1.0876441179471483, -1.0413223140495869, -0.9958167533925109, -0.9511274359759208, -0.9072543617998162, -0.8641975308641976, -0.8219569431690641, -0.7805325987144169, -0.739924497500255, -0.7001326395265788, -0.6611570247933882, -0.6229976533006835, -0.5856545250484644, -0.5491276400367309, -0.513416998265483, -0.47852259973472083, -0.4444444444444443, -0.41118253239465347, -0.37873686358534825, -0.3471074380165289, -0.316294255688195, -0.2862973166003468, -0.25711662075298425, -0.2287521681461074, -0.2012039587797162, -0.1744719926538108, -0.14855626976839093, -0.12345679012345671, -0.09917355371900817, -0.0757065605550453, -0.05305581063156808, -0.031221303948576647, -0.010203040506070762, 0.009998979695949456, 0.029384756657484114, 0.047954290378532896, 0.06570758085909602, 0.08264462809917367, 0.09876543209876547, 0.11406999285787178, 0.12855831037649226, 0.14223038465462706, 0.15508621569227637, 0.16712580348943987, 0.17834914804611784, 0.18875624936231, 0.19834710743801662, 0.20712172227323747, 0.21508009386797267, 0.22222222222222227, 0.22854810733598613, 0.23405774920926442, 0.23875114784205695, 0.24262830323436388, 0.2456892153861851, 0.24793388429752067, 0.24936230996837058, 0.24997449239873482, 0.2497704315886134, 0.2487501275380063, 0.24691358024691357, 0.24426078971533516, 0.24079175594327107, 0.2365064789307213, 0.2314049586776859, 0.22548719518416482, 0.21875318845015812, 0.21120293847566574, 0.20283644526068756, 0.19365370880522392, 0.1836547291092745, 0.17283950617283939, 0.1612080399959186, 0.14876033057851235, 0.1354963779206203, 0.12141618202224247, 0.10651974288337918, 0.09080706050402998, 0.07427813488419532, 0.0569329660238751, 0.03877155392306886, 0.01979389858177727, 0.0], \"type\": \"scatter\", \"uid\": \"e40a24e3-5123-11e9-9f27-5cf37071266d\"}],\n",
       "            {\"hovermode\": \"closest\", \"title\": \"Kinematic Generation of a Planar Curve\", \"updatemenus\": [{\"buttons\": [{\"args\": [null], \"label\": \"Play\", \"method\": \"animate\"}], \"type\": \"buttons\"}], \"xaxis\": {\"autorange\": false, \"range\": [-1.7499744923987348, 3.5], \"zeroline\": false}, \"yaxis\": {\"autorange\": false, \"range\": [-3.5, 1.7499744923987348], \"zeroline\": false}},\n",
       "            {\"showLink\": true, \"linkText\": \"Export to plot.ly\"}\n",
       "        ).then(function () {return Plotly.addFrames('04ffc9df-174e-48b2-ba97-9fb8555d0a78',[{\"data\": [{\"marker\": {\"color\": \"red\", \"size\": 10}, \"mode\": \"markers\", \"x\": [0.0], \"y\": [-2.0], \"type\": \"scatter\"}]}, {\"data\": [{\"marker\": {\"color\": \"red\", \"size\": 10}, \"mode\": \"markers\", \"x\": [-0.03915035401915867], \"y\": [-1.8792169929196167], \"type\": \"scatter\"}]}, {\"data\": [{\"marker\": {\"color\": \"red\", \"size\": 10}, \"mode\": \"markers\", \"x\": [-0.07496876301541022], \"y\": [-1.7617659308621407], \"type\": \"scatter\"}]}, {\"data\": [{\"marker\": {\"color\": \"red\", \"size\": 10}, \"mode\": \"markers\", \"x\": [-0.10745522698875476], \"y\": [-1.6476468138275717], \"type\": \"scatter\"}]}, {\"data\": [{\"marker\": {\"color\": \"red\", \"size\": 10}, \"mode\": \"markers\", \"x\": [-0.13660974593919195], \"y\": [-1.5368596418159102], \"type\": \"scatter\"}]}, {\"data\": [{\"marker\": {\"color\": \"red\", \"size\": 10}, \"mode\": \"markers\", \"x\": [-0.16243231986672224], \"y\": [-1.4294044148271552], \"type\": \"scatter\"}]}, {\"data\": [{\"marker\": {\"color\": \"red\", \"size\": 10}, \"mode\": \"markers\", \"x\": [-0.1849229487713453], \"y\": [-1.3252811328613077], \"type\": \"scatter\"}]}, {\"data\": [{\"marker\": {\"color\": \"red\", \"size\": 10}, \"mode\": \"markers\", \"x\": [-0.20408163265306123], \"y\": [-1.2244897959183674], \"type\": \"scatter\"}]}, {\"data\": [{\"marker\": {\"color\": \"red\", \"size\": 10}, \"mode\": \"markers\", \"x\": [-0.21990837151187004], \"y\": [-1.1270304039983343], \"type\": \"scatter\"}]}, {\"data\": [{\"marker\": {\"color\": \"red\", \"size\": 10}, \"mode\": \"markers\", \"x\": [-0.23240316534777178], \"y\": [-1.0329029571012078], \"type\": \"scatter\"}]}, {\"data\": [{\"marker\": {\"color\": \"red\", \"size\": 10}, \"mode\": \"markers\", \"x\": [-0.24156601416076634], \"y\": [-0.9421074552269888], \"type\": \"scatter\"}]}, {\"data\": [{\"marker\": {\"color\": \"red\", \"size\": 10}, \"mode\": \"markers\", \"x\": [-0.24739691795085378], \"y\": [-0.854643898375677], \"type\": \"scatter\"}]}, {\"data\": [{\"marker\": {\"color\": \"red\", \"size\": 10}, \"mode\": \"markers\", \"x\": [-0.24989587671803415], \"y\": [-0.770512286547272], \"type\": \"scatter\"}]}, {\"data\": [{\"marker\": {\"color\": \"red\", \"size\": 10}, \"mode\": \"markers\", \"x\": [-0.24906289046230737], \"y\": [-0.6897126197417744], \"type\": \"scatter\"}]}, {\"data\": [{\"marker\": {\"color\": \"red\", \"size\": 10}, \"mode\": \"markers\", \"x\": [-0.24489795918367346], \"y\": [-0.6122448979591837], \"type\": \"scatter\"}]}, {\"data\": [{\"marker\": {\"color\": \"red\", \"size\": 10}, \"mode\": \"markers\", \"x\": [-0.23740108288213246], \"y\": [-0.5381091211995004], \"type\": \"scatter\"}]}, {\"data\": [{\"marker\": {\"color\": \"red\", \"size\": 10}, \"mode\": \"markers\", \"x\": [-0.2265722615576843], \"y\": [-0.467305289462724], \"type\": \"scatter\"}]}, {\"data\": [{\"marker\": {\"color\": \"red\", \"size\": 10}, \"mode\": \"markers\", \"x\": [-0.21241149521032904], \"y\": [-0.39983340274885465], \"type\": \"scatter\"}]}, {\"data\": [{\"marker\": {\"color\": \"red\", \"size\": 10}, \"mode\": \"markers\", \"x\": [-0.19491878384006667], \"y\": [-0.33569346105789266], \"type\": \"scatter\"}]}, {\"data\": [{\"marker\": {\"color\": \"red\", \"size\": 10}, \"mode\": \"markers\", \"x\": [-0.17409412744689715], \"y\": [-0.27488546438983763], \"type\": \"scatter\"}]}, {\"data\": [{\"marker\": {\"color\": \"red\", \"size\": 10}, \"mode\": \"markers\", \"x\": [-0.14993752603082056], \"y\": [-0.21740941274468983], \"type\": \"scatter\"}]}, {\"data\": [{\"marker\": {\"color\": \"red\", \"size\": 10}, \"mode\": \"markers\", \"x\": [-0.12244897959183677], \"y\": [-0.16326530612244905], \"type\": \"scatter\"}]}, {\"data\": [{\"marker\": {\"color\": \"red\", \"size\": 10}, \"mode\": \"markers\", \"x\": [-0.09162848812994595], \"y\": [-0.1124531445231155], \"type\": \"scatter\"}]}, {\"data\": [{\"marker\": {\"color\": \"red\", \"size\": 10}, \"mode\": \"markers\", \"x\": [-0.057476051645147914], \"y\": [-0.06497292794668895], \"type\": \"scatter\"}]}, {\"data\": [{\"marker\": {\"color\": \"red\", \"size\": 10}, \"mode\": \"markers\", \"x\": [-0.019991670137442755], \"y\": [-0.020824656393169536], \"type\": \"scatter\"}]}, {\"data\": [{\"marker\": {\"color\": \"red\", \"size\": 10}, \"mode\": \"markers\", \"x\": [0.020824656393169536], \"y\": [0.019991670137442755], \"type\": \"scatter\"}]}, {\"data\": [{\"marker\": {\"color\": \"red\", \"size\": 10}, \"mode\": \"markers\", \"x\": [0.06497292794668871], \"y\": [0.05747605164514772], \"type\": \"scatter\"}]}, {\"data\": [{\"marker\": {\"color\": \"red\", \"size\": 10}, \"mode\": \"markers\", \"x\": [0.11245314452311524], \"y\": [0.09162848812994577], \"type\": \"scatter\"}]}, {\"data\": [{\"marker\": {\"color\": \"red\", \"size\": 10}, \"mode\": \"markers\", \"x\": [0.16326530612244888], \"y\": [0.12244897959183669], \"type\": \"scatter\"}]}, {\"data\": [{\"marker\": {\"color\": \"red\", \"size\": 10}, \"mode\": \"markers\", \"x\": [0.2174094127446897], \"y\": [0.14993752603082047], \"type\": \"scatter\"}]}, {\"data\": [{\"marker\": {\"color\": \"red\", \"size\": 10}, \"mode\": \"markers\", \"x\": [0.2748854643898373], \"y\": [0.174094127446897], \"type\": \"scatter\"}]}, {\"data\": [{\"marker\": {\"color\": \"red\", \"size\": 10}, \"mode\": \"markers\", \"x\": [0.33569346105789233], \"y\": [0.19491878384006656], \"type\": \"scatter\"}]}, {\"data\": [{\"marker\": {\"color\": \"red\", \"size\": 10}, \"mode\": \"markers\", \"x\": [0.3998334027488545], \"y\": [0.21241149521032898], \"type\": \"scatter\"}]}, {\"data\": [{\"marker\": {\"color\": \"red\", \"size\": 10}, \"mode\": \"markers\", \"x\": [0.46730528946272376], \"y\": [0.22657226155768428], \"type\": \"scatter\"}]}, {\"data\": [{\"marker\": {\"color\": \"red\", \"size\": 10}, \"mode\": \"markers\", \"x\": [0.5381091211995002], \"y\": [0.23740108288213244], \"type\": \"scatter\"}]}, {\"data\": [{\"marker\": {\"color\": \"red\", \"size\": 10}, \"mode\": \"markers\", \"x\": [0.6122448979591834], \"y\": [0.24489795918367344], \"type\": \"scatter\"}]}, {\"data\": [{\"marker\": {\"color\": \"red\", \"size\": 10}, \"mode\": \"markers\", \"x\": [0.689712619741774], \"y\": [0.24906289046230737], \"type\": \"scatter\"}]}, {\"data\": [{\"marker\": {\"color\": \"red\", \"size\": 10}, \"mode\": \"markers\", \"x\": [0.7705122865472718], \"y\": [0.24989587671803415], \"type\": \"scatter\"}]}, {\"data\": [{\"marker\": {\"color\": \"red\", \"size\": 10}, \"mode\": \"markers\", \"x\": [0.8546438983756767], \"y\": [0.24739691795085383], \"type\": \"scatter\"}]}, {\"data\": [{\"marker\": {\"color\": \"red\", \"size\": 10}, \"mode\": \"markers\", \"x\": [0.9421074552269882], \"y\": [0.2415660141607664], \"type\": \"scatter\"}]}, {\"data\": [{\"marker\": {\"color\": \"red\", \"size\": 10}, \"mode\": \"markers\", \"x\": [1.0329029571012074], \"y\": [0.23240316534777183], \"type\": \"scatter\"}]}, {\"data\": [{\"marker\": {\"color\": \"red\", \"size\": 10}, \"mode\": \"markers\", \"x\": [1.1270304039983337], \"y\": [0.2199083715118701], \"type\": \"scatter\"}]}, {\"data\": [{\"marker\": {\"color\": \"red\", \"size\": 10}, \"mode\": \"markers\", \"x\": [1.2244897959183672], \"y\": [0.20408163265306123], \"type\": \"scatter\"}]}, {\"data\": [{\"marker\": {\"color\": \"red\", \"size\": 10}, \"mode\": \"markers\", \"x\": [1.3252811328613077], \"y\": [0.1849229487713453], \"type\": \"scatter\"}]}, {\"data\": [{\"marker\": {\"color\": \"red\", \"size\": 10}, \"mode\": \"markers\", \"x\": [1.4294044148271547], \"y\": [0.16243231986672235], \"type\": \"scatter\"}]}, {\"data\": [{\"marker\": {\"color\": \"red\", \"size\": 10}, \"mode\": \"markers\", \"x\": [1.5368596418159095], \"y\": [0.13660974593919217], \"type\": \"scatter\"}]}, {\"data\": [{\"marker\": {\"color\": \"red\", \"size\": 10}, \"mode\": \"markers\", \"x\": [1.6476468138275715], \"y\": [0.10745522698875476], \"type\": \"scatter\"}]}, {\"data\": [{\"marker\": {\"color\": \"red\", \"size\": 10}, \"mode\": \"markers\", \"x\": [1.7617659308621405], \"y\": [0.07496876301541033], \"type\": \"scatter\"}]}, {\"data\": [{\"marker\": {\"color\": \"red\", \"size\": 10}, \"mode\": \"markers\", \"x\": [1.8792169929196167], \"y\": [0.03915035401915867], \"type\": \"scatter\"}]}, {\"data\": [{\"marker\": {\"color\": \"red\", \"size\": 10}, \"mode\": \"markers\", \"x\": [2.0], \"y\": [0.0], \"type\": \"scatter\"}]}]);}).then(function(){Plotly.animate('04ffc9df-174e-48b2-ba97-9fb8555d0a78');})\n",
       "        });</script>"
      ],
      "text/vnd.plotly.v1+html": [
       "<div id=\"04ffc9df-174e-48b2-ba97-9fb8555d0a78\" style=\"height: 525px; width: 100%;\" class=\"plotly-graph-div\"></div><script type=\"text/javascript\">require([\"plotly\"], function(Plotly) { window.PLOTLYENV=window.PLOTLYENV || {};window.PLOTLYENV.BASE_URL=\"https://plot.ly\";\n",
       "        Plotly.plot(\n",
       "            '04ffc9df-174e-48b2-ba97-9fb8555d0a78',\n",
       "            [{\"line\": {\"color\": \"blue\", \"width\": 2}, \"mode\": \"lines\", \"x\": [0.0, -0.01979389858177738, -0.03877155392306908, -0.0569329660238751, -0.07427813488419543, -0.0908070605040302, -0.10651974288337929, -0.12141618202224269, -0.13549637792062041, -0.14876033057851246, -0.16120803999591882, -0.1728395061728395, -0.1836547291092746, -0.19365370880522392, -0.20283644526068767, -0.21120293847566574, -0.21875318845015818, -0.22548719518416488, -0.23140495867768596, -0.23650647893072135, -0.24079175594327112, -0.24426078971533516, -0.24691358024691357, -0.24875012753800635, -0.2497704315886134, -0.24997449239873482, -0.24936230996837058, -0.24793388429752067, -0.24568921538618507, -0.24262830323436385, -0.23875114784205692, -0.23405774920926437, -0.22854810733598613, -0.2222222222222222, -0.2150800938679726, -0.20712172227323739, -0.19834710743801653, -0.18875624936230995, -0.1783491480461177, -0.1671258034894398, -0.15508621569227624, -0.142230384654627, -0.12855831037649218, -0.11406999285787162, -0.09876543209876538, -0.08264462809917349, -0.06570758085909592, -0.047954290378532695, -0.029384756657483906, -0.009998979695949348, 0.010203040506070876, 0.031221303948576883, 0.05305581063156832, 0.07570656055504542, 0.09917355371900843, 0.12345679012345685, 0.1485562697683912, 0.17447199265381094, 0.20120395877971636, 0.22875216814610771, 0.2571166207529844, 0.28629731660034713, 0.3162942556881952, 0.3471074380165292, 0.37873686358534864, 0.41118253239465363, 0.4444444444444447, 0.47852259973472105, 0.5134169982654835, 0.5491276400367311, 0.5856545250484648, 0.6229976533006838, 0.6611570247933884, 0.7001326395265792, 0.7399244975002552, 0.7805325987144174, 0.8219569431690646, 0.8641975308641976, 0.9072543617998167, 0.951127435975921, 0.9958167533925114, 1.041322314049587, 1.0876441179471488, 1.1347821650851957, 1.1827364554637283, 1.2315069890827472, 1.281093765942251, 1.331496786042241, 1.3827160493827164, 1.4347515559636779, 1.4876033057851243, 1.5412712988470565, 1.595755535149475, 1.6510560146923785, 1.7071727374757684, 1.7641057034996432, 1.8218549127640038, 1.8804203652688507, 1.9398020610141824, 2.0], \"y\": [-2.0, -1.9398020610141822, -1.88042036526885, -1.8218549127640038, -1.764105703499643, -1.707172737475768, -1.6510560146923783, -1.5957555351494745, -1.5412712988470563, -1.487603305785124, -1.4347515559636772, -1.382716049382716, -1.3314967860422406, -1.2810937659422508, -1.2315069890827466, -1.1827364554637283, -1.1347821650851952, -1.0876441179471483, -1.0413223140495869, -0.9958167533925109, -0.9511274359759208, -0.9072543617998162, -0.8641975308641976, -0.8219569431690641, -0.7805325987144169, -0.739924497500255, -0.7001326395265788, -0.6611570247933882, -0.6229976533006835, -0.5856545250484644, -0.5491276400367309, -0.513416998265483, -0.47852259973472083, -0.4444444444444443, -0.41118253239465347, -0.37873686358534825, -0.3471074380165289, -0.316294255688195, -0.2862973166003468, -0.25711662075298425, -0.2287521681461074, -0.2012039587797162, -0.1744719926538108, -0.14855626976839093, -0.12345679012345671, -0.09917355371900817, -0.0757065605550453, -0.05305581063156808, -0.031221303948576647, -0.010203040506070762, 0.009998979695949456, 0.029384756657484114, 0.047954290378532896, 0.06570758085909602, 0.08264462809917367, 0.09876543209876547, 0.11406999285787178, 0.12855831037649226, 0.14223038465462706, 0.15508621569227637, 0.16712580348943987, 0.17834914804611784, 0.18875624936231, 0.19834710743801662, 0.20712172227323747, 0.21508009386797267, 0.22222222222222227, 0.22854810733598613, 0.23405774920926442, 0.23875114784205695, 0.24262830323436388, 0.2456892153861851, 0.24793388429752067, 0.24936230996837058, 0.24997449239873482, 0.2497704315886134, 0.2487501275380063, 0.24691358024691357, 0.24426078971533516, 0.24079175594327107, 0.2365064789307213, 0.2314049586776859, 0.22548719518416482, 0.21875318845015812, 0.21120293847566574, 0.20283644526068756, 0.19365370880522392, 0.1836547291092745, 0.17283950617283939, 0.1612080399959186, 0.14876033057851235, 0.1354963779206203, 0.12141618202224247, 0.10651974288337918, 0.09080706050402998, 0.07427813488419532, 0.0569329660238751, 0.03877155392306886, 0.01979389858177727, 0.0], \"type\": \"scatter\", \"uid\": \"e40a24e2-5123-11e9-a5ef-5cf37071266d\"}, {\"line\": {\"color\": \"blue\", \"width\": 2}, \"mode\": \"lines\", \"x\": [0.0, -0.01979389858177738, -0.03877155392306908, -0.0569329660238751, -0.07427813488419543, -0.0908070605040302, -0.10651974288337929, -0.12141618202224269, -0.13549637792062041, -0.14876033057851246, -0.16120803999591882, -0.1728395061728395, -0.1836547291092746, -0.19365370880522392, -0.20283644526068767, -0.21120293847566574, -0.21875318845015818, -0.22548719518416488, -0.23140495867768596, -0.23650647893072135, -0.24079175594327112, -0.24426078971533516, -0.24691358024691357, -0.24875012753800635, -0.2497704315886134, -0.24997449239873482, -0.24936230996837058, -0.24793388429752067, -0.24568921538618507, -0.24262830323436385, -0.23875114784205692, -0.23405774920926437, -0.22854810733598613, -0.2222222222222222, -0.2150800938679726, -0.20712172227323739, -0.19834710743801653, -0.18875624936230995, -0.1783491480461177, -0.1671258034894398, -0.15508621569227624, -0.142230384654627, -0.12855831037649218, -0.11406999285787162, -0.09876543209876538, -0.08264462809917349, -0.06570758085909592, -0.047954290378532695, -0.029384756657483906, -0.009998979695949348, 0.010203040506070876, 0.031221303948576883, 0.05305581063156832, 0.07570656055504542, 0.09917355371900843, 0.12345679012345685, 0.1485562697683912, 0.17447199265381094, 0.20120395877971636, 0.22875216814610771, 0.2571166207529844, 0.28629731660034713, 0.3162942556881952, 0.3471074380165292, 0.37873686358534864, 0.41118253239465363, 0.4444444444444447, 0.47852259973472105, 0.5134169982654835, 0.5491276400367311, 0.5856545250484648, 0.6229976533006838, 0.6611570247933884, 0.7001326395265792, 0.7399244975002552, 0.7805325987144174, 0.8219569431690646, 0.8641975308641976, 0.9072543617998167, 0.951127435975921, 0.9958167533925114, 1.041322314049587, 1.0876441179471488, 1.1347821650851957, 1.1827364554637283, 1.2315069890827472, 1.281093765942251, 1.331496786042241, 1.3827160493827164, 1.4347515559636779, 1.4876033057851243, 1.5412712988470565, 1.595755535149475, 1.6510560146923785, 1.7071727374757684, 1.7641057034996432, 1.8218549127640038, 1.8804203652688507, 1.9398020610141824, 2.0], \"y\": [-2.0, -1.9398020610141822, -1.88042036526885, -1.8218549127640038, -1.764105703499643, -1.707172737475768, -1.6510560146923783, -1.5957555351494745, -1.5412712988470563, -1.487603305785124, -1.4347515559636772, -1.382716049382716, -1.3314967860422406, -1.2810937659422508, -1.2315069890827466, -1.1827364554637283, -1.1347821650851952, -1.0876441179471483, -1.0413223140495869, -0.9958167533925109, -0.9511274359759208, -0.9072543617998162, -0.8641975308641976, -0.8219569431690641, -0.7805325987144169, -0.739924497500255, -0.7001326395265788, -0.6611570247933882, -0.6229976533006835, -0.5856545250484644, -0.5491276400367309, -0.513416998265483, -0.47852259973472083, -0.4444444444444443, -0.41118253239465347, -0.37873686358534825, -0.3471074380165289, -0.316294255688195, -0.2862973166003468, -0.25711662075298425, -0.2287521681461074, -0.2012039587797162, -0.1744719926538108, -0.14855626976839093, -0.12345679012345671, -0.09917355371900817, -0.0757065605550453, -0.05305581063156808, -0.031221303948576647, -0.010203040506070762, 0.009998979695949456, 0.029384756657484114, 0.047954290378532896, 0.06570758085909602, 0.08264462809917367, 0.09876543209876547, 0.11406999285787178, 0.12855831037649226, 0.14223038465462706, 0.15508621569227637, 0.16712580348943987, 0.17834914804611784, 0.18875624936231, 0.19834710743801662, 0.20712172227323747, 0.21508009386797267, 0.22222222222222227, 0.22854810733598613, 0.23405774920926442, 0.23875114784205695, 0.24262830323436388, 0.2456892153861851, 0.24793388429752067, 0.24936230996837058, 0.24997449239873482, 0.2497704315886134, 0.2487501275380063, 0.24691358024691357, 0.24426078971533516, 0.24079175594327107, 0.2365064789307213, 0.2314049586776859, 0.22548719518416482, 0.21875318845015812, 0.21120293847566574, 0.20283644526068756, 0.19365370880522392, 0.1836547291092745, 0.17283950617283939, 0.1612080399959186, 0.14876033057851235, 0.1354963779206203, 0.12141618202224247, 0.10651974288337918, 0.09080706050402998, 0.07427813488419532, 0.0569329660238751, 0.03877155392306886, 0.01979389858177727, 0.0], \"type\": \"scatter\", \"uid\": \"e40a24e3-5123-11e9-9f27-5cf37071266d\"}],\n",
       "            {\"hovermode\": \"closest\", \"title\": \"Kinematic Generation of a Planar Curve\", \"updatemenus\": [{\"buttons\": [{\"args\": [null], \"label\": \"Play\", \"method\": \"animate\"}], \"type\": \"buttons\"}], \"xaxis\": {\"autorange\": false, \"range\": [-1.7499744923987348, 3.5], \"zeroline\": false}, \"yaxis\": {\"autorange\": false, \"range\": [-3.5, 1.7499744923987348], \"zeroline\": false}},\n",
       "            {\"showLink\": true, \"linkText\": \"Export to plot.ly\"}\n",
       "        ).then(function () {return Plotly.addFrames('04ffc9df-174e-48b2-ba97-9fb8555d0a78',[{\"data\": [{\"marker\": {\"color\": \"red\", \"size\": 10}, \"mode\": \"markers\", \"x\": [0.0], \"y\": [-2.0], \"type\": \"scatter\"}]}, {\"data\": [{\"marker\": {\"color\": \"red\", \"size\": 10}, \"mode\": \"markers\", \"x\": [-0.03915035401915867], \"y\": [-1.8792169929196167], \"type\": \"scatter\"}]}, {\"data\": [{\"marker\": {\"color\": \"red\", \"size\": 10}, \"mode\": \"markers\", \"x\": [-0.07496876301541022], \"y\": [-1.7617659308621407], \"type\": \"scatter\"}]}, {\"data\": [{\"marker\": {\"color\": \"red\", \"size\": 10}, \"mode\": \"markers\", \"x\": [-0.10745522698875476], \"y\": [-1.6476468138275717], \"type\": \"scatter\"}]}, {\"data\": [{\"marker\": {\"color\": \"red\", \"size\": 10}, \"mode\": \"markers\", \"x\": [-0.13660974593919195], \"y\": [-1.5368596418159102], \"type\": \"scatter\"}]}, {\"data\": [{\"marker\": {\"color\": \"red\", \"size\": 10}, \"mode\": \"markers\", \"x\": [-0.16243231986672224], \"y\": [-1.4294044148271552], \"type\": \"scatter\"}]}, {\"data\": [{\"marker\": {\"color\": \"red\", \"size\": 10}, \"mode\": \"markers\", \"x\": [-0.1849229487713453], \"y\": [-1.3252811328613077], \"type\": \"scatter\"}]}, {\"data\": [{\"marker\": {\"color\": \"red\", \"size\": 10}, \"mode\": \"markers\", \"x\": [-0.20408163265306123], \"y\": [-1.2244897959183674], \"type\": \"scatter\"}]}, {\"data\": [{\"marker\": {\"color\": \"red\", \"size\": 10}, \"mode\": \"markers\", \"x\": [-0.21990837151187004], \"y\": [-1.1270304039983343], \"type\": \"scatter\"}]}, {\"data\": [{\"marker\": {\"color\": \"red\", \"size\": 10}, \"mode\": \"markers\", \"x\": [-0.23240316534777178], \"y\": [-1.0329029571012078], \"type\": \"scatter\"}]}, {\"data\": [{\"marker\": {\"color\": \"red\", \"size\": 10}, \"mode\": \"markers\", \"x\": [-0.24156601416076634], \"y\": [-0.9421074552269888], \"type\": \"scatter\"}]}, {\"data\": [{\"marker\": {\"color\": \"red\", \"size\": 10}, \"mode\": \"markers\", \"x\": [-0.24739691795085378], \"y\": [-0.854643898375677], \"type\": \"scatter\"}]}, {\"data\": [{\"marker\": {\"color\": \"red\", \"size\": 10}, \"mode\": \"markers\", \"x\": [-0.24989587671803415], \"y\": [-0.770512286547272], \"type\": \"scatter\"}]}, {\"data\": [{\"marker\": {\"color\": \"red\", \"size\": 10}, \"mode\": \"markers\", \"x\": [-0.24906289046230737], \"y\": [-0.6897126197417744], \"type\": \"scatter\"}]}, {\"data\": [{\"marker\": {\"color\": \"red\", \"size\": 10}, \"mode\": \"markers\", \"x\": [-0.24489795918367346], \"y\": [-0.6122448979591837], \"type\": \"scatter\"}]}, {\"data\": [{\"marker\": {\"color\": \"red\", \"size\": 10}, \"mode\": \"markers\", \"x\": [-0.23740108288213246], \"y\": [-0.5381091211995004], \"type\": \"scatter\"}]}, {\"data\": [{\"marker\": {\"color\": \"red\", \"size\": 10}, \"mode\": \"markers\", \"x\": [-0.2265722615576843], \"y\": [-0.467305289462724], \"type\": \"scatter\"}]}, {\"data\": [{\"marker\": {\"color\": \"red\", \"size\": 10}, \"mode\": \"markers\", \"x\": [-0.21241149521032904], \"y\": [-0.39983340274885465], \"type\": \"scatter\"}]}, {\"data\": [{\"marker\": {\"color\": \"red\", \"size\": 10}, \"mode\": \"markers\", \"x\": [-0.19491878384006667], \"y\": [-0.33569346105789266], \"type\": \"scatter\"}]}, {\"data\": [{\"marker\": {\"color\": \"red\", \"size\": 10}, \"mode\": \"markers\", \"x\": [-0.17409412744689715], \"y\": [-0.27488546438983763], \"type\": \"scatter\"}]}, {\"data\": [{\"marker\": {\"color\": \"red\", \"size\": 10}, \"mode\": \"markers\", \"x\": [-0.14993752603082056], \"y\": [-0.21740941274468983], \"type\": \"scatter\"}]}, {\"data\": [{\"marker\": {\"color\": \"red\", \"size\": 10}, \"mode\": \"markers\", \"x\": [-0.12244897959183677], \"y\": [-0.16326530612244905], \"type\": \"scatter\"}]}, {\"data\": [{\"marker\": {\"color\": \"red\", \"size\": 10}, \"mode\": \"markers\", \"x\": [-0.09162848812994595], \"y\": [-0.1124531445231155], \"type\": \"scatter\"}]}, {\"data\": [{\"marker\": {\"color\": \"red\", \"size\": 10}, \"mode\": \"markers\", \"x\": [-0.057476051645147914], \"y\": [-0.06497292794668895], \"type\": \"scatter\"}]}, {\"data\": [{\"marker\": {\"color\": \"red\", \"size\": 10}, \"mode\": \"markers\", \"x\": [-0.019991670137442755], \"y\": [-0.020824656393169536], \"type\": \"scatter\"}]}, {\"data\": [{\"marker\": {\"color\": \"red\", \"size\": 10}, \"mode\": \"markers\", \"x\": [0.020824656393169536], \"y\": [0.019991670137442755], \"type\": \"scatter\"}]}, {\"data\": [{\"marker\": {\"color\": \"red\", \"size\": 10}, \"mode\": \"markers\", \"x\": [0.06497292794668871], \"y\": [0.05747605164514772], \"type\": \"scatter\"}]}, {\"data\": [{\"marker\": {\"color\": \"red\", \"size\": 10}, \"mode\": \"markers\", \"x\": [0.11245314452311524], \"y\": [0.09162848812994577], \"type\": \"scatter\"}]}, {\"data\": [{\"marker\": {\"color\": \"red\", \"size\": 10}, \"mode\": \"markers\", \"x\": [0.16326530612244888], \"y\": [0.12244897959183669], \"type\": \"scatter\"}]}, {\"data\": [{\"marker\": {\"color\": \"red\", \"size\": 10}, \"mode\": \"markers\", \"x\": [0.2174094127446897], \"y\": [0.14993752603082047], \"type\": \"scatter\"}]}, {\"data\": [{\"marker\": {\"color\": \"red\", \"size\": 10}, \"mode\": \"markers\", \"x\": [0.2748854643898373], \"y\": [0.174094127446897], \"type\": \"scatter\"}]}, {\"data\": [{\"marker\": {\"color\": \"red\", \"size\": 10}, \"mode\": \"markers\", \"x\": [0.33569346105789233], \"y\": [0.19491878384006656], \"type\": \"scatter\"}]}, {\"data\": [{\"marker\": {\"color\": \"red\", \"size\": 10}, \"mode\": \"markers\", \"x\": [0.3998334027488545], \"y\": [0.21241149521032898], \"type\": \"scatter\"}]}, {\"data\": [{\"marker\": {\"color\": \"red\", \"size\": 10}, \"mode\": \"markers\", \"x\": [0.46730528946272376], \"y\": [0.22657226155768428], \"type\": \"scatter\"}]}, {\"data\": [{\"marker\": {\"color\": \"red\", \"size\": 10}, \"mode\": \"markers\", \"x\": [0.5381091211995002], \"y\": [0.23740108288213244], \"type\": \"scatter\"}]}, {\"data\": [{\"marker\": {\"color\": \"red\", \"size\": 10}, \"mode\": \"markers\", \"x\": [0.6122448979591834], \"y\": [0.24489795918367344], \"type\": \"scatter\"}]}, {\"data\": [{\"marker\": {\"color\": \"red\", \"size\": 10}, \"mode\": \"markers\", \"x\": [0.689712619741774], \"y\": [0.24906289046230737], \"type\": \"scatter\"}]}, {\"data\": [{\"marker\": {\"color\": \"red\", \"size\": 10}, \"mode\": \"markers\", \"x\": [0.7705122865472718], \"y\": [0.24989587671803415], \"type\": \"scatter\"}]}, {\"data\": [{\"marker\": {\"color\": \"red\", \"size\": 10}, \"mode\": \"markers\", \"x\": [0.8546438983756767], \"y\": [0.24739691795085383], \"type\": \"scatter\"}]}, {\"data\": [{\"marker\": {\"color\": \"red\", \"size\": 10}, \"mode\": \"markers\", \"x\": [0.9421074552269882], \"y\": [0.2415660141607664], \"type\": \"scatter\"}]}, {\"data\": [{\"marker\": {\"color\": \"red\", \"size\": 10}, \"mode\": \"markers\", \"x\": [1.0329029571012074], \"y\": [0.23240316534777183], \"type\": \"scatter\"}]}, {\"data\": [{\"marker\": {\"color\": \"red\", \"size\": 10}, \"mode\": \"markers\", \"x\": [1.1270304039983337], \"y\": [0.2199083715118701], \"type\": \"scatter\"}]}, {\"data\": [{\"marker\": {\"color\": \"red\", \"size\": 10}, \"mode\": \"markers\", \"x\": [1.2244897959183672], \"y\": [0.20408163265306123], \"type\": \"scatter\"}]}, {\"data\": [{\"marker\": {\"color\": \"red\", \"size\": 10}, \"mode\": \"markers\", \"x\": [1.3252811328613077], \"y\": [0.1849229487713453], \"type\": \"scatter\"}]}, {\"data\": [{\"marker\": {\"color\": \"red\", \"size\": 10}, \"mode\": \"markers\", \"x\": [1.4294044148271547], \"y\": [0.16243231986672235], \"type\": \"scatter\"}]}, {\"data\": [{\"marker\": {\"color\": \"red\", \"size\": 10}, \"mode\": \"markers\", \"x\": [1.5368596418159095], \"y\": [0.13660974593919217], \"type\": \"scatter\"}]}, {\"data\": [{\"marker\": {\"color\": \"red\", \"size\": 10}, \"mode\": \"markers\", \"x\": [1.6476468138275715], \"y\": [0.10745522698875476], \"type\": \"scatter\"}]}, {\"data\": [{\"marker\": {\"color\": \"red\", \"size\": 10}, \"mode\": \"markers\", \"x\": [1.7617659308621405], \"y\": [0.07496876301541033], \"type\": \"scatter\"}]}, {\"data\": [{\"marker\": {\"color\": \"red\", \"size\": 10}, \"mode\": \"markers\", \"x\": [1.8792169929196167], \"y\": [0.03915035401915867], \"type\": \"scatter\"}]}, {\"data\": [{\"marker\": {\"color\": \"red\", \"size\": 10}, \"mode\": \"markers\", \"x\": [2.0], \"y\": [0.0], \"type\": \"scatter\"}]}]);}).then(function(){Plotly.animate('04ffc9df-174e-48b2-ba97-9fb8555d0a78');})\n",
       "        });</script>"
      ]
     },
     "metadata": {},
     "output_type": "display_data"
    }
   ],
   "source": [
    "from plotly.offline import init_notebook_mode, iplot\n",
    "from IPython.display import display, HTML\n",
    "import numpy as np\n",
    "\n",
    "init_notebook_mode(connected=True)\n",
    "\n",
    "t=np.linspace(-1,1,100)\n",
    "x=t+t**2\n",
    "y=t-t**2\n",
    "xm=np.min(x)-1.5\n",
    "xM=np.max(x)+1.5\n",
    "ym=np.min(y)-1.5\n",
    "yM=np.max(y)+1.5\n",
    "N=50\n",
    "s=np.linspace(-1,1,N)\n",
    "xx=s+s**2\n",
    "yy=s-s**2\n",
    "\n",
    "data=[dict(x=x, y=y, \n",
    "           mode='lines', \n",
    "           line=dict(width=2, color='blue')\n",
    "          ),\n",
    "      dict(x=x, y=y, \n",
    "           mode='lines', \n",
    "           line=dict(width=2, color='blue')\n",
    "          )\n",
    "    ]\n",
    "\n",
    "layout=dict(xaxis=dict(range=[xm, xM], autorange=False, zeroline=False),\n",
    "            yaxis=dict(range=[ym, yM], autorange=False, zeroline=False),\n",
    "            title='Kinematic Generation of a Planar Curve', hovermode='closest',\n",
    "            updatemenus= [{'type': 'buttons',\n",
    "                           'buttons': [{'label': 'Play',\n",
    "                                        'method': 'animate',\n",
    "                                        'args': [None]}]}])\n",
    "\n",
    "frames=[dict(data=[dict(x=[xx[k]], \n",
    "                        y=[yy[k]], \n",
    "                        mode='markers', \n",
    "                        marker=dict(color='red', size=10)\n",
    "                        )\n",
    "                  ]) for k in range(N)]    \n",
    "\n",
    "print (frames)\n",
    "\n",
    "figure1=dict(data=data, layout=layout, frames=frames)          \n",
    "iplot(figure1)\n",
    "\n",
    "#py.icreate_animations(figure, filename='animation_test'+str(time.time()))"
   ]
  },
  {
   "cell_type": "code",
   "execution_count": 70,
   "metadata": {},
   "outputs": [],
   "source": [
    "figure['data'] = {\n",
    "    'type': 'scattergeo',\n",
    "    'locationmode': 'USA-states',\n",
    "    'lon': [m['gps'][1] for m in metadata if m['timestamp'].date().strftime('%m/%d/%Y') == timestamp[0]],\n",
    "    'lat': [m['gps'][0] for m in metadata if m['timestamp'].date().strftime('%m/%d/%Y') == timestamp[0]],\n",
    "    'mode': 'markers'\n",
    "}"
   ]
  },
  {
   "cell_type": "code",
   "execution_count": null,
   "metadata": {},
   "outputs": [],
   "source": []
  }
 ],
 "metadata": {
  "kernelspec": {
   "display_name": "Python 3",
   "language": "python",
   "name": "python3"
  },
  "language_info": {
   "codemirror_mode": {
    "name": "ipython",
    "version": 3
   },
   "file_extension": ".py",
   "mimetype": "text/x-python",
   "name": "python",
   "nbconvert_exporter": "python",
   "pygments_lexer": "ipython3",
   "version": "3.6.5"
  }
 },
 "nbformat": 4,
 "nbformat_minor": 2
}
