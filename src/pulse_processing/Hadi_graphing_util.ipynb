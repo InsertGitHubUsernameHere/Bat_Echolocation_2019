{
 "cells": [
  {
   "cell_type": "code",
   "execution_count": 131,
   "metadata": {},
   "outputs": [
    {
     "name": "stdout",
     "output_type": "stream",
     "text": [
      "['../../data/metadata\\\\56110631', '../../data/metadata\\\\56110632', '../../data/metadata\\\\56110634', '../../data/metadata\\\\56110638', '../../data/metadata\\\\56110639', '../../data/metadata\\\\56110641', '../../data/metadata\\\\56110642', '../../data/metadata\\\\56110643', '../../data/metadata\\\\56110645', '../../data/metadata\\\\56110646', '../../data/metadata\\\\56110649', '../../data/metadata\\\\56110650', '../../data/metadata\\\\56110651', '../../data/metadata\\\\56110653', '../../data/metadata\\\\56110654', '../../data/metadata\\\\56110655', '../../data/metadata\\\\56110656', '../../data/metadata\\\\56110704', '../../data/metadata\\\\56110706', '../../data/metadata\\\\56110708', '../../data/metadata\\\\56110710', '../../data/metadata\\\\56110713', '../../data/metadata\\\\56110716', '../../data/metadata\\\\56110720', '../../data/metadata\\\\56110728', '../../data/metadata\\\\P6012100', '../../data/metadata\\\\P6012101', '../../data/metadata\\\\P6012108', '../../data/metadata\\\\P6012112', '../../data/metadata\\\\P6012114', '../../data/metadata\\\\P6012116', '../../data/metadata\\\\P6012118', '../../data/metadata\\\\P6012122', '../../data/metadata\\\\P6012123', '../../data/metadata\\\\P6012126', '../../data/metadata\\\\P6012127', '../../data/metadata\\\\P6012129', '../../data/metadata\\\\P6012130', '../../data/metadata\\\\P6012131', '../../data/metadata\\\\P6012134', '../../data/metadata\\\\P6012143', '../../data/metadata\\\\P6022106', '../../data/metadata\\\\P6022112', '../../data/metadata\\\\P6022115', '../../data/metadata\\\\P6022118', '../../data/metadata\\\\P6022130', '../../data/metadata\\\\P6022135', '../../data/metadata\\\\P6022137', '../../data/metadata\\\\P6022147', '../../data/metadata\\\\P6032107', '../../data/metadata\\\\P6032108', '../../data/metadata\\\\P6032114', '../../data/metadata\\\\P6032115', '../../data/metadata\\\\P6032122', '../../data/metadata\\\\P6032123', '../../data/metadata\\\\P6032129', '../../data/metadata\\\\P6032131', '../../data/metadata\\\\P6032132', '../../data/metadata\\\\P6032133', '../../data/metadata\\\\P6032134', '../../data/metadata\\\\P6032135', '../../data/metadata\\\\P6032137', '../../data/metadata\\\\P6032138', '../../data/metadata\\\\P6032139', '../../data/metadata\\\\P6032140', '../../data/metadata\\\\P6032146', '../../data/metadata\\\\P6032150', '../../data/metadata\\\\P6032152', '../../data/metadata\\\\P6052108', '../../data/metadata\\\\P6052109', '../../data/metadata\\\\P6052119', '../../data/metadata\\\\P6052121', '../../data/metadata\\\\P6052127', '../../data/metadata\\\\P6052128', '../../data/metadata\\\\P6052130', '../../data/metadata\\\\P6052133', '../../data/metadata\\\\P6052134', '../../data/metadata\\\\P6052137', '../../data/metadata\\\\P6052139', '../../data/metadata\\\\P6052140', '../../data/metadata\\\\P6052141', '../../data/metadata\\\\P6052143', '../../data/metadata\\\\P6052153', '../../data/metadata\\\\P6062139', '../../data/metadata\\\\P6062140', '../../data/metadata\\\\P6062141', '../../data/metadata\\\\P6062143', '../../data/metadata\\\\P6062145', '../../data/metadata\\\\P6062147', '../../data/metadata\\\\P6062151', '../../data/metadata\\\\P6062157', '../../data/metadata\\\\P6062201', '../../data/metadata\\\\P6062202', '../../data/metadata\\\\P6062203', '../../data/metadata\\\\P6062208', '../../data/metadata\\\\P6062209', '../../data/metadata\\\\P6062210', '../../data/metadata\\\\P6062213', '../../data/metadata\\\\P6062218', '../../data/metadata\\\\P6062219', '../../data/metadata\\\\P6062222', '../../data/metadata\\\\P6062223', '../../data/metadata\\\\P6072107', '../../data/metadata\\\\P6072109', '../../data/metadata\\\\P6072115', '../../data/metadata\\\\P6072128', '../../data/metadata\\\\P6072130', '../../data/metadata\\\\P6072135', '../../data/metadata\\\\P6072144', '../../data/metadata\\\\P6072145', '../../data/metadata\\\\P6082108', '../../data/metadata\\\\P6082109', '../../data/metadata\\\\P6082113', '../../data/metadata\\\\P6082120', '../../data/metadata\\\\P6082131', '../../data/metadata\\\\P6082134', '../../data/metadata\\\\P6082137', '../../data/metadata\\\\P6082145', '../../data/metadata\\\\P6082155', '../../data/metadata\\\\P6082156', '../../data/metadata\\\\P6092110', '../../data/metadata\\\\P6092111', '../../data/metadata\\\\P6092114', '../../data/metadata\\\\P6092115', '../../data/metadata\\\\P6092117', '../../data/metadata\\\\P6092122', '../../data/metadata\\\\P6092123', '../../data/metadata\\\\P6092126', '../../data/metadata\\\\P6092134', '../../data/metadata\\\\P6092137', '../../data/metadata\\\\P6092139', '../../data/metadata\\\\P6092140', '../../data/metadata\\\\P6092142', '../../data/metadata\\\\P6092143', '../../data/metadata\\\\P6092144', '../../data/metadata\\\\P6092145', '../../data/metadata\\\\P6092146', '../../data/metadata\\\\P6092147', '../../data/metadata\\\\P6092148', '../../data/metadata\\\\P6092150', '../../data/metadata\\\\P6092151', '../../data/metadata\\\\P6092152', '../../data/metadata\\\\P6092153', '../../data/metadata\\\\P6092154', '../../data/metadata\\\\P6092155', '../../data/metadata\\\\P6092157', '../../data/metadata\\\\P6092158', '../../data/metadata\\\\P6092159', '../../data/metadata\\\\P6092201', '../../data/metadata\\\\P6092203', '../../data/metadata\\\\P6092204', '../../data/metadata\\\\P6092205', '../../data/metadata\\\\P6092212', '../../data/metadata\\\\P6092214', '../../data/metadata\\\\P6122122', '../../data/metadata\\\\P6122123', '../../data/metadata\\\\P6122126', '../../data/metadata\\\\P6122132', '../../data/metadata\\\\P6122133', '../../data/metadata\\\\P6122135', '../../data/metadata\\\\P6122138', '../../data/metadata\\\\P6122141', '../../data/metadata\\\\P6122143', '../../data/metadata\\\\P6122144', '../../data/metadata\\\\P6122149', '../../data/metadata\\\\P6122150', '../../data/metadata\\\\P6122154', '../../data/metadata\\\\P6122158', '../../data/metadata\\\\P6122159', '../../data/metadata\\\\P6122206', '../../data/metadata\\\\P6122216', '../../data/metadata\\\\P6122224', '../../data/metadata\\\\P6132128', '../../data/metadata\\\\P6132133', '../../data/metadata\\\\P6132136', '../../data/metadata\\\\P6132201', '../../data/metadata\\\\P6132208', '../../data/metadata\\\\P6132210', '../../data/metadata\\\\P6132214', '../../data/metadata\\\\P6132216', '../../data/metadata\\\\P6142114', '../../data/metadata\\\\P6142118', '../../data/metadata\\\\P6142121', '../../data/metadata\\\\P6142124', '../../data/metadata\\\\P6142125', '../../data/metadata\\\\P6142131', '../../data/metadata\\\\P6142132', '../../data/metadata\\\\P6142133', '../../data/metadata\\\\P6142135', '../../data/metadata\\\\P6142137', '../../data/metadata\\\\P6142141', '../../data/metadata\\\\P6142142', '../../data/metadata\\\\P6142145', '../../data/metadata\\\\P6142146', '../../data/metadata\\\\P6142147', '../../data/metadata\\\\P6142148', '../../data/metadata\\\\P6142149', '../../data/metadata\\\\P6142151', '../../data/metadata\\\\P6142158', '../../data/metadata\\\\P6142204', '../../data/metadata\\\\P6142207', '../../data/metadata\\\\P6142209', '../../data/metadata\\\\P6142218', '../../data/metadata\\\\P6152116', '../../data/metadata\\\\P6152118', '../../data/metadata\\\\P6152119', '../../data/metadata\\\\P6152121', '../../data/metadata\\\\P6152125', '../../data/metadata\\\\P6152131', '../../data/metadata\\\\P6152132', '../../data/metadata\\\\P6152146', '../../data/metadata\\\\P6152151', '../../data/metadata\\\\P6152153', '../../data/metadata\\\\P6152154', '../../data/metadata\\\\P6152155', '../../data/metadata\\\\P6152156', '../../data/metadata\\\\P6152157', '../../data/metadata\\\\P6152204', '../../data/metadata\\\\P6152206', '../../data/metadata\\\\P6152212', '../../data/metadata\\\\P6152216', '../../data/metadata\\\\P6172052', '../../data/metadata\\\\P6172054', '../../data/metadata\\\\P6172056', '../../data/metadata\\\\P6172058', '../../data/metadata\\\\P6172059', '../../data/metadata\\\\P6172100', '../../data/metadata\\\\P6172103', '../../data/metadata\\\\P6172105', '../../data/metadata\\\\P6172106', '../../data/metadata\\\\P6172107', '../../data/metadata\\\\P6172108', '../../data/metadata\\\\P6172110', '../../data/metadata\\\\P6172111', '../../data/metadata\\\\P6172112', '../../data/metadata\\\\P6172113', '../../data/metadata\\\\P6172114', '../../data/metadata\\\\P6172118', '../../data/metadata\\\\P6172119', '../../data/metadata\\\\P6172124', '../../data/metadata\\\\P6172125', '../../data/metadata\\\\P6172126', '../../data/metadata\\\\P6172127', '../../data/metadata\\\\P6172129', '../../data/metadata\\\\P6172131', '../../data/metadata\\\\P6172132', '../../data/metadata\\\\P6172134', '../../data/metadata\\\\P6172140', '../../data/metadata\\\\P6172141', '../../data/metadata\\\\P6172142', '../../data/metadata\\\\P6172144', '../../data/metadata\\\\P6172150', '../../data/metadata\\\\P6172152', '../../data/metadata\\\\P6172156', '../../data/metadata\\\\P6172201', '../../data/metadata\\\\P6172203', '../../data/metadata\\\\P6172207', '../../data/metadata\\\\P6172209', '../../data/metadata\\\\P6172210', '../../data/metadata\\\\P6172211', '../../data/metadata\\\\P6182051', '../../data/metadata\\\\P6182052', '../../data/metadata\\\\P6182053', '../../data/metadata\\\\P6182054', '../../data/metadata\\\\P6182056', '../../data/metadata\\\\P6182057', '../../data/metadata\\\\P6182058', '../../data/metadata\\\\P6182059', '../../data/metadata\\\\P6182102', '../../data/metadata\\\\P6182103', '../../data/metadata\\\\P6182104', '../../data/metadata\\\\P6182109', '../../data/metadata\\\\P6182118', '../../data/metadata\\\\P6182119', '../../data/metadata\\\\P6182120', '../../data/metadata\\\\P6182127', '../../data/metadata\\\\P6182128', '../../data/metadata\\\\P6182129', '../../data/metadata\\\\P6182130', '../../data/metadata\\\\P6182132', '../../data/metadata\\\\P6182134', '../../data/metadata\\\\P6182135', '../../data/metadata\\\\P6182136', '../../data/metadata\\\\P6182138', '../../data/metadata\\\\P6182139', '../../data/metadata\\\\P6182140', '../../data/metadata\\\\P6182141', '../../data/metadata\\\\P6182142', '../../data/metadata\\\\P6182143', '../../data/metadata\\\\P6182145', '../../data/metadata\\\\P6182150', '../../data/metadata\\\\P6182153', '../../data/metadata\\\\P6182154', '../../data/metadata\\\\P6182156', '../../data/metadata\\\\P6182157', '../../data/metadata\\\\P6182158', '../../data/metadata\\\\P6182159', '../../data/metadata\\\\P6182202', '../../data/metadata\\\\P6182210', '../../data/metadata\\\\P6182211', '../../data/metadata\\\\P6182213', '../../data/metadata\\\\P6182216', '../../data/metadata\\\\P6182221', '../../data/metadata\\\\P6182222', '../../data/metadata\\\\P6182225', '../../data/metadata\\\\P6192058', '../../data/metadata\\\\P6192059', '../../data/metadata\\\\P6192100', '../../data/metadata\\\\P6192103', '../../data/metadata\\\\P6192104', '../../data/metadata\\\\P6192105', '../../data/metadata\\\\P6192111', '../../data/metadata\\\\P6192115', '../../data/metadata\\\\P6192116', '../../data/metadata\\\\P6192117', '../../data/metadata\\\\P6192118', '../../data/metadata\\\\P6192119', '../../data/metadata\\\\P6192121', '../../data/metadata\\\\P6192123', '../../data/metadata\\\\P6192126', '../../data/metadata\\\\P6192127', '../../data/metadata\\\\P6192128', '../../data/metadata\\\\P6192129', '../../data/metadata\\\\P6192135', '../../data/metadata\\\\P6192141', '../../data/metadata\\\\P6192147', '../../data/metadata\\\\P6192151', '../../data/metadata\\\\P6192157', '../../data/metadata\\\\P6192202', '../../data/metadata\\\\P6192208', '../../data/metadata\\\\P6192211', '../../data/metadata\\\\P6192215', '../../data/metadata\\\\P6192216', '../../data/metadata\\\\P6192217', '../../data/metadata\\\\P6192219', '../../data/metadata\\\\P6192220', '../../data/metadata\\\\P6202050', '../../data/metadata\\\\P6202052', '../../data/metadata\\\\P6202053', '../../data/metadata\\\\P6202054', '../../data/metadata\\\\P6202055', '../../data/metadata\\\\P6202056', '../../data/metadata\\\\P6202057', '../../data/metadata\\\\P6202058', '../../data/metadata\\\\P6202059', '../../data/metadata\\\\P6202101', '../../data/metadata\\\\P6202103', '../../data/metadata\\\\P6202104', '../../data/metadata\\\\P6202105', '../../data/metadata\\\\P6202106', '../../data/metadata\\\\P6202109', '../../data/metadata\\\\P6202111', '../../data/metadata\\\\P6202115', '../../data/metadata\\\\P6202116', '../../data/metadata\\\\P6202117', '../../data/metadata\\\\P6202119', '../../data/metadata\\\\P6202121', '../../data/metadata\\\\P6202122', '../../data/metadata\\\\P6202126', '../../data/metadata\\\\P6202129', '../../data/metadata\\\\P6202140', '../../data/metadata\\\\P6212122', '../../data/metadata\\\\P6212123', '../../data/metadata\\\\P6212126', '../../data/metadata\\\\P6212127', '../../data/metadata\\\\P6212145', '../../data/metadata\\\\P6212146', '../../data/metadata\\\\P6212154', '../../data/metadata\\\\P6212155', '../../data/metadata\\\\P6212157', '../../data/metadata\\\\P6212159', '../../data/metadata\\\\P6212200', '../../data/metadata\\\\P6212201', '../../data/metadata\\\\P6212205', '../../data/metadata\\\\P6212207', '../../data/metadata\\\\P6212209', '../../data/metadata\\\\P6212211', '../../data/metadata\\\\P6212219', '../../data/metadata\\\\P6212220', '../../data/metadata\\\\P6222148', '../../data/metadata\\\\P6222152', '../../data/metadata\\\\P6222154', '../../data/metadata\\\\P6222157', '../../data/metadata\\\\P6222158', '../../data/metadata\\\\P6222203', '../../data/metadata\\\\P6222204', '../../data/metadata\\\\P6222205', '../../data/metadata\\\\P6222207', '../../data/metadata\\\\P6222209', '../../data/metadata\\\\P6222210', '../../data/metadata\\\\P6222212', '../../data/metadata\\\\P6222214', '../../data/metadata\\\\P6222215', '../../data/metadata\\\\P6222220', '../../data/metadata\\\\P6222221', '../../data/metadata\\\\P6222223', '../../data/metadata\\\\P6222224', '../../data/metadata\\\\P6222226', '../../data/metadata\\\\P6222227', '../../data/metadata\\\\P6222230', '../../data/metadata\\\\P6222231', '../../data/metadata\\\\P6222236', '../../data/metadata\\\\P6222237', '../../data/metadata\\\\P6222239', '../../data/metadata\\\\P6222240', '../../data/metadata\\\\P6222244', '../../data/metadata\\\\P6232101', '../../data/metadata\\\\P6232134', '../../data/metadata\\\\P6232135', '../../data/metadata\\\\P6232136', '../../data/metadata\\\\P6232137', '../../data/metadata\\\\P6232138', '../../data/metadata\\\\P6232139', '../../data/metadata\\\\P6232140', '../../data/metadata\\\\P6232141', '../../data/metadata\\\\P6232142', '../../data/metadata\\\\P6232143', '../../data/metadata\\\\P6232144', '../../data/metadata\\\\P6232146', '../../data/metadata\\\\P6232147', '../../data/metadata\\\\P6232148', '../../data/metadata\\\\P6232150', '../../data/metadata\\\\P6232151', '../../data/metadata\\\\P6232152', '../../data/metadata\\\\P6232153', '../../data/metadata\\\\P6232154', '../../data/metadata\\\\P6232155', '../../data/metadata\\\\P6232156', '../../data/metadata\\\\P6232157', '../../data/metadata\\\\P6232158', '../../data/metadata\\\\P6232159', '../../data/metadata\\\\P6232200', '../../data/metadata\\\\P6232202', '../../data/metadata\\\\P6232203', '../../data/metadata\\\\P6232204', '../../data/metadata\\\\P6232205', '../../data/metadata\\\\P6232206', '../../data/metadata\\\\P6232207', '../../data/metadata\\\\P6232210', '../../data/metadata\\\\P6232211', '../../data/metadata\\\\P6232212', '../../data/metadata\\\\P6232215', '../../data/metadata\\\\P6232217', '../../data/metadata\\\\P6232218', '../../data/metadata\\\\P6232219', '../../data/metadata\\\\P6232220', '../../data/metadata\\\\P6232225', '../../data/metadata\\\\P6232226', '../../data/metadata\\\\P6232228', '../../data/metadata\\\\P6232233', '../../data/metadata\\\\P6242138', '../../data/metadata\\\\P6242139', '../../data/metadata\\\\P6242141', '../../data/metadata\\\\P6242142', '../../data/metadata\\\\P6242143', '../../data/metadata\\\\P6242144', '../../data/metadata\\\\P6242145', '../../data/metadata\\\\P6242150', '../../data/metadata\\\\P6242152', '../../data/metadata\\\\P6242153', '../../data/metadata\\\\P6242154', '../../data/metadata\\\\P6242156', '../../data/metadata\\\\P6242157', '../../data/metadata\\\\P6242158', '../../data/metadata\\\\P6242159', '../../data/metadata\\\\P6242202', '../../data/metadata\\\\P6242210', '../../data/metadata\\\\P6242212', '../../data/metadata\\\\P6242213', '../../data/metadata\\\\P6242215', '../../data/metadata\\\\P6242216', '../../data/metadata\\\\P6242221', '../../data/metadata\\\\P6252118', '../../data/metadata\\\\P6252134', '../../data/metadata\\\\P6252137', '../../data/metadata\\\\P6252139', '../../data/metadata\\\\P6252142', '../../data/metadata\\\\P6252143', '../../data/metadata\\\\P6252144', '../../data/metadata\\\\P6252145', '../../data/metadata\\\\P6252146', '../../data/metadata\\\\P6252147', '../../data/metadata\\\\P6252148', '../../data/metadata\\\\P6252149', '../../data/metadata\\\\P6252150', '../../data/metadata\\\\P6252151', '../../data/metadata\\\\P6252152', '../../data/metadata\\\\P6252153', '../../data/metadata\\\\P6252156', '../../data/metadata\\\\P6252157', '../../data/metadata\\\\P6252159', '../../data/metadata\\\\P6252200', '../../data/metadata\\\\P6252204', '../../data/metadata\\\\P6252205', '../../data/metadata\\\\P6252209', '../../data/metadata\\\\P6252211', '../../data/metadata\\\\P6252213', '../../data/metadata\\\\P6252214', '../../data/metadata\\\\P6252216', '../../data/metadata\\\\P6252217', '../../data/metadata\\\\P6252219', '../../data/metadata\\\\P6252220', '../../data/metadata\\\\P6252221', '../../data/metadata\\\\P6252222', '../../data/metadata\\\\P6252223', '../../data/metadata\\\\P6252225', '../../data/metadata\\\\P6252226', '../../data/metadata\\\\P6252227', '../../data/metadata\\\\P6252228', '../../data/metadata\\\\P6252229', '../../data/metadata\\\\P6252243', '../../data/metadata\\\\P6252244', '../../data/metadata\\\\P6262135', '../../data/metadata\\\\P6262140', '../../data/metadata\\\\P6262146', '../../data/metadata\\\\P6262147', '../../data/metadata\\\\P6262148', '../../data/metadata\\\\P6262152', '../../data/metadata\\\\P6262200', '../../data/metadata\\\\P6262202', '../../data/metadata\\\\P6262203', '../../data/metadata\\\\P6262206', '../../data/metadata\\\\P6262208', '../../data/metadata\\\\P6262209', '../../data/metadata\\\\P6262214', '../../data/metadata\\\\P6262215', '../../data/metadata\\\\P6262217', '../../data/metadata\\\\P6262218', '../../data/metadata\\\\P6262219', '../../data/metadata\\\\P6262220', '../../data/metadata\\\\P6272144', '../../data/metadata\\\\P6272150', '../../data/metadata\\\\P6272151', '../../data/metadata\\\\P6272152', '../../data/metadata\\\\P6272156', '../../data/metadata\\\\P6272159', '../../data/metadata\\\\P6272201', '../../data/metadata\\\\P6272204', '../../data/metadata\\\\P6272205', '../../data/metadata\\\\P6272206', '../../data/metadata\\\\P6272207', '../../data/metadata\\\\P6272208', '../../data/metadata\\\\P6272212', '../../data/metadata\\\\P6272214', '../../data/metadata\\\\P6272215', '../../data/metadata\\\\P6272216', '../../data/metadata\\\\P6272217', '../../data/metadata\\\\P6272218', '../../data/metadata\\\\P6302053', '../../data/metadata\\\\P6302054', '../../data/metadata\\\\P6302109', '../../data/metadata\\\\P6302110', '../../data/metadata\\\\P6302112', '../../data/metadata\\\\P6302113', '../../data/metadata\\\\P6302115', '../../data/metadata\\\\P6302117', '../../data/metadata\\\\P6302125', '../../data/metadata\\\\P6302126', '../../data/metadata\\\\P6302129', '../../data/metadata\\\\P6302130', '../../data/metadata\\\\P6302133', '../../data/metadata\\\\P6302135', '../../data/metadata\\\\P6302136', '../../data/metadata\\\\P6302137', '../../data/metadata\\\\P6302138', '../../data/metadata\\\\P6302148', '../../data/metadata\\\\P6302150', '../../data/metadata\\\\P6302151', '../../data/metadata\\\\P6302152', '../../data/metadata\\\\P6302153', '../../data/metadata\\\\P6302154', '../../data/metadata\\\\P6302155', '../../data/metadata\\\\P6302157', '../../data/metadata\\\\P6302204', '../../data/metadata\\\\P7012059', '../../data/metadata\\\\P7012100', '../../data/metadata\\\\P7012101', '../../data/metadata\\\\P7012102', '../../data/metadata\\\\P7012108', '../../data/metadata\\\\P7012109', '../../data/metadata\\\\P7012110', '../../data/metadata\\\\P7012112', '../../data/metadata\\\\P7012113', '../../data/metadata\\\\P7012114', '../../data/metadata\\\\P7012116', '../../data/metadata\\\\P7012118', '../../data/metadata\\\\P7012120', '../../data/metadata\\\\P7012122', '../../data/metadata\\\\P7012125', '../../data/metadata\\\\P7012126', '../../data/metadata\\\\P7012127', '../../data/metadata\\\\P7012128', '../../data/metadata\\\\P7012129', '../../data/metadata\\\\P7012130', '../../data/metadata\\\\P7012131', '../../data/metadata\\\\P7012132', '../../data/metadata\\\\P7012133', '../../data/metadata\\\\P7012134', '../../data/metadata\\\\P7012135', '../../data/metadata\\\\P7012136', '../../data/metadata\\\\P7012146', '../../data/metadata\\\\P7012152', '../../data/metadata\\\\P7012156', '../../data/metadata\\\\P7012157', '../../data/metadata\\\\P7012159', '../../data/metadata\\\\P7012200', '../../data/metadata\\\\P7012202', '../../data/metadata\\\\P7012205', '../../data/metadata\\\\P7012210', '../../data/metadata\\\\P7032125', '../../data/metadata\\\\P7032129', '../../data/metadata\\\\P7032133', '../../data/metadata\\\\P7032134', '../../data/metadata\\\\P7032135', '../../data/metadata\\\\P7032137', '../../data/metadata\\\\P7032139', '../../data/metadata\\\\P7032140', '../../data/metadata\\\\P7032143', '../../data/metadata\\\\P7032144', '../../data/metadata\\\\P7032145', '../../data/metadata\\\\P7032147', '../../data/metadata\\\\P7032151', '../../data/metadata\\\\P7032153', '../../data/metadata\\\\P7032155', '../../data/metadata\\\\P7032156', '../../data/metadata\\\\P7032158', '../../data/metadata\\\\P7032159', '../../data/metadata\\\\P7032201', '../../data/metadata\\\\P7032206', '../../data/metadata\\\\P7032208', '../../data/metadata\\\\P7032209', '../../data/metadata\\\\P7052148', '../../data/metadata\\\\P7052152', '../../data/metadata\\\\P7052154', '../../data/metadata\\\\P7052155', '../../data/metadata\\\\P7052158', '../../data/metadata\\\\P7052159', '../../data/metadata\\\\P7052200', '../../data/metadata\\\\P7052201', '../../data/metadata\\\\P7052205', '../../data/metadata\\\\P7052206', '../../data/metadata\\\\P7052210', '../../data/metadata\\\\P7052213', '../../data/metadata\\\\P7052214', '../../data/metadata\\\\P7052216', '../../data/metadata\\\\P7052221', '../../data/metadata\\\\P7052224', '../../data/metadata\\\\P7052228', '../../data/metadata\\\\P7052229', '../../data/metadata\\\\P7062104', '../../data/metadata\\\\P7062111', '../../data/metadata\\\\P7062112', '../../data/metadata\\\\P7062115', '../../data/metadata\\\\P7062117', '../../data/metadata\\\\P7062124', '../../data/metadata\\\\P7062126', '../../data/metadata\\\\P7062128', '../../data/metadata\\\\P7062129', '../../data/metadata\\\\P7062130', '../../data/metadata\\\\P7062134', '../../data/metadata\\\\P7062137', '../../data/metadata\\\\P7062138', '../../data/metadata\\\\P7062139', '../../data/metadata\\\\P7062141', '../../data/metadata\\\\P7062143', '../../data/metadata\\\\P7062155', '../../data/metadata\\\\P7062156', '../../data/metadata\\\\P7062200', '../../data/metadata\\\\P7062201', '../../data/metadata\\\\P7082105', '../../data/metadata\\\\P7082106', '../../data/metadata\\\\P7082112', '../../data/metadata\\\\P7082113', '../../data/metadata\\\\P7082115', '../../data/metadata\\\\P7082119', '../../data/metadata\\\\P7082128', '../../data/metadata\\\\P7082129', '../../data/metadata\\\\P7082130', '../../data/metadata\\\\P7082131', '../../data/metadata\\\\P7082132', '../../data/metadata\\\\P7082134', '../../data/metadata\\\\P7082135', '../../data/metadata\\\\P7082136', '../../data/metadata\\\\P7082138', '../../data/metadata\\\\P7082139', '../../data/metadata\\\\P7082140', '../../data/metadata\\\\P7082142', '../../data/metadata\\\\P7082143', '../../data/metadata\\\\P7082144', '../../data/metadata\\\\P7082145', '../../data/metadata\\\\P7082146', '../../data/metadata\\\\P7082152', '../../data/metadata\\\\P7082153', '../../data/metadata\\\\P7082158', '../../data/metadata\\\\P7082201', '../../data/metadata\\\\P7082203', '../../data/metadata\\\\P7082204', '../../data/metadata\\\\P7082205', '../../data/metadata\\\\P7082206', '../../data/metadata\\\\P7092116', '../../data/metadata\\\\P7092120', '../../data/metadata\\\\P7092121', '../../data/metadata\\\\P7092122', '../../data/metadata\\\\P7092123', '../../data/metadata\\\\P7092124', '../../data/metadata\\\\P7092128', '../../data/metadata\\\\P7092130', '../../data/metadata\\\\P7092131', '../../data/metadata\\\\P7092134', '../../data/metadata\\\\P7092136', '../../data/metadata\\\\P7092137', '../../data/metadata\\\\P7092141', '../../data/metadata\\\\P7092142', '../../data/metadata\\\\P7092143', '../../data/metadata\\\\P7092144', '../../data/metadata\\\\P7092145', '../../data/metadata\\\\P7092146', '../../data/metadata\\\\P7092147', '../../data/metadata\\\\P7092148', '../../data/metadata\\\\P7092149', '../../data/metadata\\\\P7092150', '../../data/metadata\\\\P7092151', '../../data/metadata\\\\P7092152', '../../data/metadata\\\\P7092153', '../../data/metadata\\\\P7092154', '../../data/metadata\\\\P7092155', '../../data/metadata\\\\P7092157', '../../data/metadata\\\\P7092158', '../../data/metadata\\\\P7092159', '../../data/metadata\\\\P7092200', '../../data/metadata\\\\P7092201', '../../data/metadata\\\\P7092202', '../../data/metadata\\\\P7092203', '../../data/metadata\\\\P7092204', '../../data/metadata\\\\P7092205', '../../data/metadata\\\\P7092206', '../../data/metadata\\\\P7092207', '../../data/metadata\\\\P7102113', '../../data/metadata\\\\P7102119', '../../data/metadata\\\\P7102120', '../../data/metadata\\\\P7102126', '../../data/metadata\\\\P7102127', '../../data/metadata\\\\P7102128', '../../data/metadata\\\\P7102129', '../../data/metadata\\\\P7102130', '../../data/metadata\\\\P7102132', '../../data/metadata\\\\P7102135', '../../data/metadata\\\\P7102136', '../../data/metadata\\\\P7102137', '../../data/metadata\\\\P7102138', '../../data/metadata\\\\P7102139', '../../data/metadata\\\\P7102140', '../../data/metadata\\\\P7102141', '../../data/metadata\\\\P7102142', '../../data/metadata\\\\P7102143', '../../data/metadata\\\\P7102144', '../../data/metadata\\\\P7102145', '../../data/metadata\\\\P7102146', '../../data/metadata\\\\P7102147', '../../data/metadata\\\\P7102148', '../../data/metadata\\\\P7102149', '../../data/metadata\\\\P7102150', '../../data/metadata\\\\P7102154', '../../data/metadata\\\\P7102156', '../../data/metadata\\\\P7102157', '../../data/metadata\\\\P7102200', '../../data/metadata\\\\P7102201', '../../data/metadata\\\\P7102205', '../../data/metadata\\\\P7102207', '../../data/metadata\\\\P7112108', '../../data/metadata\\\\P7112109', '../../data/metadata\\\\P7112110', '../../data/metadata\\\\P7112112', '../../data/metadata\\\\P7112113', '../../data/metadata\\\\P7112114', '../../data/metadata\\\\P7112115', '../../data/metadata\\\\P7112116', '../../data/metadata\\\\P7112117', '../../data/metadata\\\\P7112119', '../../data/metadata\\\\P7112120', '../../data/metadata\\\\P7112123', '../../data/metadata\\\\P7112125', '../../data/metadata\\\\P7112127', '../../data/metadata\\\\P7112130', '../../data/metadata\\\\P7112131', '../../data/metadata\\\\P7112132', '../../data/metadata\\\\P7112133', '../../data/metadata\\\\P7112134', '../../data/metadata\\\\P7112135', '../../data/metadata\\\\P7112136', '../../data/metadata\\\\P7112138', '../../data/metadata\\\\P7112139', '../../data/metadata\\\\P7112140', '../../data/metadata\\\\P7112141', '../../data/metadata\\\\P7112142', '../../data/metadata\\\\P7112143', '../../data/metadata\\\\P7112144', '../../data/metadata\\\\P7112148', '../../data/metadata\\\\P7112149', '../../data/metadata\\\\P7112150', '../../data/metadata\\\\P7112151', '../../data/metadata\\\\P7112153', '../../data/metadata\\\\P7112154', '../../data/metadata\\\\P7112156', '../../data/metadata\\\\P7112158', '../../data/metadata\\\\P7112159', '../../data/metadata\\\\P7112207', '../../data/metadata\\\\P7122110', '../../data/metadata\\\\P7122111', '../../data/metadata\\\\P7122112', '../../data/metadata\\\\P7122113', '../../data/metadata\\\\P7122114', '../../data/metadata\\\\P7122115', '../../data/metadata\\\\P7122116', '../../data/metadata\\\\P7122117', '../../data/metadata\\\\P7122118', '../../data/metadata\\\\P7122119', '../../data/metadata\\\\P7122120', '../../data/metadata\\\\P7122121', '../../data/metadata\\\\P7122124', '../../data/metadata\\\\P7122125', '../../data/metadata\\\\P7122127', '../../data/metadata\\\\P7122128', '../../data/metadata\\\\P7122129', '../../data/metadata\\\\P7122130', '../../data/metadata\\\\P7122132', '../../data/metadata\\\\P7122133', '../../data/metadata\\\\P7122135', '../../data/metadata\\\\P7122136', '../../data/metadata\\\\P7122137', '../../data/metadata\\\\P7122138', '../../data/metadata\\\\P7122139', '../../data/metadata\\\\P7122140', '../../data/metadata\\\\P7122141', '../../data/metadata\\\\P7122142', '../../data/metadata\\\\P7122143', '../../data/metadata\\\\P7122147', '../../data/metadata\\\\P7122149', '../../data/metadata\\\\P7122150', '../../data/metadata\\\\P7122152', '../../data/metadata\\\\P7122153', '../../data/metadata\\\\P7122155', '../../data/metadata\\\\P7122156', '../../data/metadata\\\\P7122157', '../../data/metadata\\\\P7122158', '../../data/metadata\\\\P7122159', '../../data/metadata\\\\P7122201', '../../data/metadata\\\\P7122202', '../../data/metadata\\\\P7122203', '../../data/metadata\\\\P7122205', '../../data/metadata\\\\P7142108', '../../data/metadata\\\\P7142113', '../../data/metadata\\\\P7142114', '../../data/metadata\\\\P7142115', '../../data/metadata\\\\P7142116', '../../data/metadata\\\\P7142118', '../../data/metadata\\\\P7142119', '../../data/metadata\\\\P7142120', '../../data/metadata\\\\P7142121', '../../data/metadata\\\\P7142122', '../../data/metadata\\\\P7142123', '../../data/metadata\\\\P7142124', '../../data/metadata\\\\P7142125', '../../data/metadata\\\\P7142126', '../../data/metadata\\\\P7142127', '../../data/metadata\\\\P7142128', '../../data/metadata\\\\P7142131', '../../data/metadata\\\\P7142132', '../../data/metadata\\\\P7142134', '../../data/metadata\\\\P7142135', '../../data/metadata\\\\P7142138', '../../data/metadata\\\\P7142140', '../../data/metadata\\\\P7142141', '../../data/metadata\\\\P7142142', '../../data/metadata\\\\P7142143', '../../data/metadata\\\\P7142144', '../../data/metadata\\\\P7142146', '../../data/metadata\\\\P7142149', '../../data/metadata\\\\P7142150', '../../data/metadata\\\\P7142151', '../../data/metadata\\\\P7142152', '../../data/metadata\\\\P7142155', '../../data/metadata\\\\P7142156', '../../data/metadata\\\\P7142157', '../../data/metadata\\\\P7142200', '../../data/metadata\\\\P7142201', '../../data/metadata\\\\P7142203', '../../data/metadata\\\\P7142204', '../../data/metadata\\\\P7142208', '../../data/metadata\\\\P7152129', '../../data/metadata\\\\P7152130', '../../data/metadata\\\\P7152131', '../../data/metadata\\\\P7152132', '../../data/metadata\\\\P7152133', '../../data/metadata\\\\P7152134', '../../data/metadata\\\\P7152136', '../../data/metadata\\\\P7152137', '../../data/metadata\\\\P7152140', '../../data/metadata\\\\P7152142', '../../data/metadata\\\\P7152145', '../../data/metadata\\\\P7152147', '../../data/metadata\\\\P7152148', '../../data/metadata\\\\P7152152', '../../data/metadata\\\\P7152153', '../../data/metadata\\\\P7152154', '../../data/metadata\\\\P7152155', '../../data/metadata\\\\P7152156', '../../data/metadata\\\\P7152157', '../../data/metadata\\\\P7152158', '../../data/metadata\\\\P7152159', '../../data/metadata\\\\P7152201', '../../data/metadata\\\\P7152202', '../../data/metadata\\\\P7152203', '../../data/metadata\\\\P7152204', '../../data/metadata\\\\P7152207', '../../data/metadata\\\\P7152211', '../../data/metadata\\\\P7152213', '../../data/metadata\\\\P7152214', '../../data/metadata\\\\P7152215', '../../data/metadata\\\\P7162143', '../../data/metadata\\\\P7162145', '../../data/metadata\\\\P7162147', '../../data/metadata\\\\P7162148', '../../data/metadata\\\\P7162149', '../../data/metadata\\\\P7162150', '../../data/metadata\\\\P7162151', '../../data/metadata\\\\P7162152', '../../data/metadata\\\\P7162153', '../../data/metadata\\\\P7162154', '../../data/metadata\\\\P7162155', '../../data/metadata\\\\P7162157', '../../data/metadata\\\\P7162158', '../../data/metadata\\\\P7162159', '../../data/metadata\\\\P7162200', '../../data/metadata\\\\P7162201', '../../data/metadata\\\\P7162202', '../../data/metadata\\\\P7162203', '../../data/metadata\\\\P7162204', '../../data/metadata\\\\P7162207', '../../data/metadata\\\\P7162208', '../../data/metadata\\\\P7162211', '../../data/metadata\\\\P7162212', '../../data/metadata\\\\P7162214', '../../data/metadata\\\\P7162216', '../../data/metadata\\\\P7162219', '../../data/metadata\\\\P7162220', '../../data/metadata\\\\P7162221', '../../data/metadata\\\\P7162223', '../../data/metadata\\\\P7162225', '../../data/metadata\\\\P7162227', '../../data/metadata\\\\P7162228', '../../data/metadata\\\\P7162229', '../../data/metadata\\\\P7162230', '../../data/metadata\\\\P7162231', '../../data/metadata\\\\P7162234', '../../data/metadata\\\\P7162235', '../../data/metadata\\\\P7162236', '../../data/metadata\\\\P7172114', '../../data/metadata\\\\P7172117', '../../data/metadata\\\\P7172118', '../../data/metadata\\\\P7172122', '../../data/metadata\\\\P7172124', '../../data/metadata\\\\P7172131', '../../data/metadata\\\\P7172133', '../../data/metadata\\\\P7172135', '../../data/metadata\\\\P7172136', '../../data/metadata\\\\P7172138', '../../data/metadata\\\\P7172139', '../../data/metadata\\\\P7172141', '../../data/metadata\\\\P7172142', '../../data/metadata\\\\P7172143', '../../data/metadata\\\\P7172147', '../../data/metadata\\\\P7172149', '../../data/metadata\\\\P7172154', '../../data/metadata\\\\P7172155', '../../data/metadata\\\\P7172157', '../../data/metadata\\\\P7172200', '../../data/metadata\\\\P7172201', '../../data/metadata\\\\P7172203', '../../data/metadata\\\\P7182113', '../../data/metadata\\\\P7182114', '../../data/metadata\\\\P7182119', '../../data/metadata\\\\P7182120', '../../data/metadata\\\\P7182124', '../../data/metadata\\\\P7182125', '../../data/metadata\\\\P7182129', '../../data/metadata\\\\P7182131', '../../data/metadata\\\\P7182134', '../../data/metadata\\\\P7182135', '../../data/metadata\\\\P7182137', '../../data/metadata\\\\P7182138', '../../data/metadata\\\\P7182139', '../../data/metadata\\\\P7182141', '../../data/metadata\\\\P7182142', '../../data/metadata\\\\P7182144', '../../data/metadata\\\\P7182146', '../../data/metadata\\\\P7182147', '../../data/metadata\\\\P7182150', '../../data/metadata\\\\P7182154', '../../data/metadata\\\\P7182157', '../../data/metadata\\\\P7182158', '../../data/metadata\\\\P7182200', '../../data/metadata\\\\P7182201', '../../data/metadata\\\\P7182202', '../../data/metadata\\\\P7182209', '../../data/metadata\\\\P7182210', '../../data/metadata\\\\P7182211', '../../data/metadata\\\\P7182212', '../../data/metadata\\\\P7182214', '../../data/metadata\\\\P7182216', '../../data/metadata\\\\P7182238', '../../data/metadata\\\\P7182241', '../../data/metadata\\\\P7182242', '../../data/metadata\\\\P7182243', '../../data/metadata\\\\P7182244', '../../data/metadata\\\\P7182245', '../../data/metadata\\\\P7182247', '../../data/metadata\\\\P7182248', '../../data/metadata\\\\P7182249', '../../data/metadata\\\\P7182250', '../../data/metadata\\\\P7182251', '../../data/metadata\\\\P7182254', '../../data/metadata\\\\P7182257', '../../data/metadata\\\\P7182258', '../../data/metadata\\\\P7182301', '../../data/metadata\\\\P7182302', '../../data/metadata\\\\P7182303', '../../data/metadata\\\\P7182308', '../../data/metadata\\\\P7182309', '../../data/metadata\\\\P7192124', '../../data/metadata\\\\P7192125', '../../data/metadata\\\\P7192126', '../../data/metadata\\\\P7192127', '../../data/metadata\\\\P7192131', '../../data/metadata\\\\P7192132', '../../data/metadata\\\\P7192133', '../../data/metadata\\\\P7192134', '../../data/metadata\\\\P7192135', '../../data/metadata\\\\P7192138', '../../data/metadata\\\\P7192139', '../../data/metadata\\\\P7192140', '../../data/metadata\\\\P7192142', '../../data/metadata\\\\P7192143', '../../data/metadata\\\\P7192144', '../../data/metadata\\\\P7192145', '../../data/metadata\\\\P7192148', '../../data/metadata\\\\P7192154', '../../data/metadata\\\\P7192156', '../../data/metadata\\\\P7192157', '../../data/metadata\\\\P7192159', '../../data/metadata\\\\P7192200', '../../data/metadata\\\\P7192201', '../../data/metadata\\\\P7192202', '../../data/metadata\\\\P7192203', '../../data/metadata\\\\P7192204', '../../data/metadata\\\\P7192208', '../../data/metadata\\\\P7192209', '../../data/metadata\\\\P7202117', '../../data/metadata\\\\P7202121', '../../data/metadata\\\\P7202122', '../../data/metadata\\\\P7202123', '../../data/metadata\\\\P7202125', '../../data/metadata\\\\P7202126', '../../data/metadata\\\\P7202133', '../../data/metadata\\\\P7202137', '../../data/metadata\\\\P7202139', '../../data/metadata\\\\P7202141', '../../data/metadata\\\\P7202142', '../../data/metadata\\\\P7202145', '../../data/metadata\\\\P7202147', '../../data/metadata\\\\P7202151', '../../data/metadata\\\\P7202152', '../../data/metadata\\\\P7202153', '../../data/metadata\\\\P7202156', '../../data/metadata\\\\P7202157', '../../data/metadata\\\\P7202158', '../../data/metadata\\\\P7202159', '../../data/metadata\\\\P7202200', '../../data/metadata\\\\P7202201', '../../data/metadata\\\\P7202202', '../../data/metadata\\\\P7202203', '../../data/metadata\\\\P7202204', '../../data/metadata\\\\P7202206', '../../data/metadata\\\\P7212112', '../../data/metadata\\\\P7212115', '../../data/metadata\\\\P7212122', '../../data/metadata\\\\P7212125', '../../data/metadata\\\\P7212127', '../../data/metadata\\\\P7212128', '../../data/metadata\\\\P7212129', '../../data/metadata\\\\P7212132', '../../data/metadata\\\\P7212133', '../../data/metadata\\\\P7212135', '../../data/metadata\\\\P7212136', '../../data/metadata\\\\P7212137', '../../data/metadata\\\\P7212138', '../../data/metadata\\\\P7212139', '../../data/metadata\\\\P7212140', '../../data/metadata\\\\P7212141', '../../data/metadata\\\\P7212142', '../../data/metadata\\\\P7212143', '../../data/metadata\\\\P7212144', '../../data/metadata\\\\P7212145', '../../data/metadata\\\\P7212147', '../../data/metadata\\\\P7212148', '../../data/metadata\\\\P7212149', '../../data/metadata\\\\P7212150', '../../data/metadata\\\\P7212152', '../../data/metadata\\\\P7212153', '../../data/metadata\\\\P7212154', '../../data/metadata\\\\P7212155', '../../data/metadata\\\\P7212156', '../../data/metadata\\\\P7212157', '../../data/metadata\\\\P7212159', '../../data/metadata\\\\P7212200', '../../data/metadata\\\\P7212203', '../../data/metadata\\\\P7212204', '../../data/metadata\\\\P7212205', '../../data/metadata\\\\P7212206', '../../data/metadata\\\\P7212207', '../../data/metadata\\\\P7212208', '../../data/metadata\\\\P7212210', '../../data/metadata\\\\P7212212', '../../data/metadata\\\\P7212213', '../../data/metadata\\\\P7212218', '../../data/metadata\\\\P7212219', '../../data/metadata\\\\P7212221', '../../data/metadata\\\\P7212225', '../../data/metadata\\\\P7212227', '../../data/metadata\\\\P7212230', '../../data/metadata\\\\P7212231', '../../data/metadata\\\\P7212232', '../../data/metadata\\\\P7212233', '../../data/metadata\\\\P7212234', '../../data/metadata\\\\P7212237', '../../data/metadata\\\\P7212238', '../../data/metadata\\\\P7212239', '../../data/metadata\\\\P7212240', '../../data/metadata\\\\P7212245', '../../data/metadata\\\\P7212246', '../../data/metadata\\\\P7222122', '../../data/metadata\\\\P7222123', '../../data/metadata\\\\P7222125', '../../data/metadata\\\\P7222126', '../../data/metadata\\\\P7222127', '../../data/metadata\\\\P7222128', '../../data/metadata\\\\P7222130', '../../data/metadata\\\\P7222133', '../../data/metadata\\\\P7222134', '../../data/metadata\\\\P7222135', '../../data/metadata\\\\P7222136', '../../data/metadata\\\\P7222140', '../../data/metadata\\\\P7222141', '../../data/metadata\\\\P7222143', '../../data/metadata\\\\P7222145', '../../data/metadata\\\\P7222146', '../../data/metadata\\\\P7222149', '../../data/metadata\\\\P7222150', '../../data/metadata\\\\P7222151', '../../data/metadata\\\\P7222152', '../../data/metadata\\\\P7222155', '../../data/metadata\\\\P7222157', '../../data/metadata\\\\P7222158', '../../data/metadata\\\\P7222200', '../../data/metadata\\\\P7222201', '../../data/metadata\\\\P7222206', '../../data/metadata\\\\P7222207', '../../data/metadata\\\\P7222210', '../../data/metadata\\\\P7222211', '../../data/metadata\\\\P7232113', '../../data/metadata\\\\P7232114', '../../data/metadata\\\\P7232115', '../../data/metadata\\\\P7232116', '../../data/metadata\\\\P7232117', '../../data/metadata\\\\P7232118', '../../data/metadata\\\\P7232119', '../../data/metadata\\\\P7232120', '../../data/metadata\\\\P7232121', '../../data/metadata\\\\P7232122', '../../data/metadata\\\\P7232123', '../../data/metadata\\\\P7232124', '../../data/metadata\\\\P7232125', '../../data/metadata\\\\P7232126', '../../data/metadata\\\\P7232127', '../../data/metadata\\\\P7232128', '../../data/metadata\\\\P7232129', '../../data/metadata\\\\P7232130', '../../data/metadata\\\\P7232132', '../../data/metadata\\\\P7232133', '../../data/metadata\\\\P7232135', '../../data/metadata\\\\P7232136', '../../data/metadata\\\\P7232137', '../../data/metadata\\\\P7232138', '../../data/metadata\\\\P7232139', '../../data/metadata\\\\P7232140', '../../data/metadata\\\\P7232142', '../../data/metadata\\\\P7232143', '../../data/metadata\\\\P7232145', '../../data/metadata\\\\P7232146', '../../data/metadata\\\\P7232147', '../../data/metadata\\\\P7232148', '../../data/metadata\\\\P7232149', '../../data/metadata\\\\P7232150', '../../data/metadata\\\\P7232151', '../../data/metadata\\\\P7232152', '../../data/metadata\\\\P7232153', '../../data/metadata\\\\P7232154', '../../data/metadata\\\\P7232155', '../../data/metadata\\\\P7232156', '../../data/metadata\\\\P7232157', '../../data/metadata\\\\P7232158', '../../data/metadata\\\\P7232159', '../../data/metadata\\\\P7232201', '../../data/metadata\\\\P7232202', '../../data/metadata\\\\P7232203', '../../data/metadata\\\\P7242109', '../../data/metadata\\\\P7242110', '../../data/metadata\\\\P7242112', '../../data/metadata\\\\P7242113', '../../data/metadata\\\\P7242114', '../../data/metadata\\\\P7242115', '../../data/metadata\\\\P7242116', '../../data/metadata\\\\P7242117', '../../data/metadata\\\\P7242118', '../../data/metadata\\\\P7242119', '../../data/metadata\\\\P7242120', '../../data/metadata\\\\P7242121', '../../data/metadata\\\\P7242122', '../../data/metadata\\\\P7242123', '../../data/metadata\\\\P7242124', '../../data/metadata\\\\P7242125', '../../data/metadata\\\\P7242126', '../../data/metadata\\\\P7242127', '../../data/metadata\\\\P7242128', '../../data/metadata\\\\P7242129', '../../data/metadata\\\\P7242130', '../../data/metadata\\\\P7242131', '../../data/metadata\\\\P7242132', '../../data/metadata\\\\P7242133', '../../data/metadata\\\\P7242134', '../../data/metadata\\\\P7242136', '../../data/metadata\\\\P7242137', '../../data/metadata\\\\P7242138', '../../data/metadata\\\\P7242139', '../../data/metadata\\\\P7242140', '../../data/metadata\\\\P7242141', '../../data/metadata\\\\P7242142', '../../data/metadata\\\\P7242143', '../../data/metadata\\\\P7242144', '../../data/metadata\\\\P7242145', '../../data/metadata\\\\P7242146', '../../data/metadata\\\\P7242147', '../../data/metadata\\\\P7242148', '../../data/metadata\\\\P7242149', '../../data/metadata\\\\P7242150', '../../data/metadata\\\\P7242151', '../../data/metadata\\\\P7242152', '../../data/metadata\\\\P7242153', '../../data/metadata\\\\P7242154', '../../data/metadata\\\\P7242155', '../../data/metadata\\\\P7242157', '../../data/metadata\\\\P7242158', '../../data/metadata\\\\P7242159', '../../data/metadata\\\\P7242200', '../../data/metadata\\\\P7242201', '../../data/metadata\\\\P7242202', '../../data/metadata\\\\P7242203', '../../data/metadata\\\\P7242204', '../../data/metadata\\\\P7252108', '../../data/metadata\\\\P7252114', '../../data/metadata\\\\P7252116', '../../data/metadata\\\\P7252118', '../../data/metadata\\\\P7252119', '../../data/metadata\\\\P7252120', '../../data/metadata\\\\P7252121', '../../data/metadata\\\\P7252123', '../../data/metadata\\\\P7252124', '../../data/metadata\\\\P7252127', '../../data/metadata\\\\P7252128', '../../data/metadata\\\\P7252129', '../../data/metadata\\\\P7252130', '../../data/metadata\\\\P7252131', '../../data/metadata\\\\P7252132', '../../data/metadata\\\\P7252133', '../../data/metadata\\\\P7252135', '../../data/metadata\\\\P7252146', '../../data/metadata\\\\P7252149', '../../data/metadata\\\\P7252150', '../../data/metadata\\\\P7252151', '../../data/metadata\\\\P7252152', '../../data/metadata\\\\P7252154', '../../data/metadata\\\\P7252155', '../../data/metadata\\\\P7262059', '../../data/metadata\\\\P7262100', '../../data/metadata\\\\P7262103', '../../data/metadata\\\\P7262105', '../../data/metadata\\\\P7262106', '../../data/metadata\\\\P7262107', '../../data/metadata\\\\P7262108', '../../data/metadata\\\\P7262109', '../../data/metadata\\\\P7262110', '../../data/metadata\\\\P7262111', '../../data/metadata\\\\P7262114', '../../data/metadata\\\\P7262116', '../../data/metadata\\\\P7262117', '../../data/metadata\\\\P7262118', '../../data/metadata\\\\P7262119', '../../data/metadata\\\\P7262120', '../../data/metadata\\\\P7262121', '../../data/metadata\\\\P7262122', '../../data/metadata\\\\P7262123', '../../data/metadata\\\\P7262124', '../../data/metadata\\\\P7262126', '../../data/metadata\\\\P7262127', '../../data/metadata\\\\P7262129', '../../data/metadata\\\\P7262130', '../../data/metadata\\\\P7262131', '../../data/metadata\\\\P7262132', '../../data/metadata\\\\P7262133', '../../data/metadata\\\\P7262134', '../../data/metadata\\\\P7262135', '../../data/metadata\\\\P7262136', '../../data/metadata\\\\P7262137', '../../data/metadata\\\\P7262138', '../../data/metadata\\\\P7262139', '../../data/metadata\\\\P7262141', '../../data/metadata\\\\P7262143', '../../data/metadata\\\\P7262145', '../../data/metadata\\\\P7262146', '../../data/metadata\\\\P7262147', '../../data/metadata\\\\P7262148', '../../data/metadata\\\\P7262149', '../../data/metadata\\\\P7262150', '../../data/metadata\\\\P7262151', '../../data/metadata\\\\P7262152', '../../data/metadata\\\\P7262153', '../../data/metadata\\\\P7262154', '../../data/metadata\\\\P7262155', '../../data/metadata\\\\P7262156', '../../data/metadata\\\\P7262157', '../../data/metadata\\\\P7262158', '../../data/metadata\\\\P7262200', '../../data/metadata\\\\P7262205', '../../data/metadata\\\\P7262206', '../../data/metadata\\\\P7262207', '../../data/metadata\\\\P7262208', '../../data/metadata\\\\P7262213', '../../data/metadata\\\\P7272107', '../../data/metadata\\\\P7272109', '../../data/metadata\\\\P7272110', '../../data/metadata\\\\P7272111', '../../data/metadata\\\\P7272112', '../../data/metadata\\\\P7272114', '../../data/metadata\\\\P7272115', '../../data/metadata\\\\P7272116', '../../data/metadata\\\\P7272117', '../../data/metadata\\\\P7272118', '../../data/metadata\\\\P7272119', '../../data/metadata\\\\P7272121', '../../data/metadata\\\\P7272122', '../../data/metadata\\\\P7272123', '../../data/metadata\\\\P7272124', '../../data/metadata\\\\P7272125', '../../data/metadata\\\\P7272126', '../../data/metadata\\\\P7272127', '../../data/metadata\\\\P7272128', '../../data/metadata\\\\P7272129', '../../data/metadata\\\\P7272130', '../../data/metadata\\\\P7272131', '../../data/metadata\\\\P7272132', '../../data/metadata\\\\P7272134', '../../data/metadata\\\\P7272136', '../../data/metadata\\\\P7272137', '../../data/metadata\\\\P7272138', '../../data/metadata\\\\P7272141', '../../data/metadata\\\\P7272142', '../../data/metadata\\\\P7272144', '../../data/metadata\\\\P7272145', '../../data/metadata\\\\P7272146', '../../data/metadata\\\\P7272147', '../../data/metadata\\\\P7272148', '../../data/metadata\\\\P7272151', '../../data/metadata\\\\P7272152', '../../data/metadata\\\\P7272154', '../../data/metadata\\\\P7272156', '../../data/metadata\\\\P7272157', '../../data/metadata\\\\P7272158', '../../data/metadata\\\\P7272159', '../../data/metadata\\\\P7272201', '../../data/metadata\\\\P7272203', '../../data/metadata\\\\P7282108', '../../data/metadata\\\\P7282109', '../../data/metadata\\\\P7282111', '../../data/metadata\\\\P7282113', '../../data/metadata\\\\P7282114', '../../data/metadata\\\\P7282115', '../../data/metadata\\\\P7282116', '../../data/metadata\\\\P7282117', '../../data/metadata\\\\P7282118', '../../data/metadata\\\\P7282119', '../../data/metadata\\\\P7282120', '../../data/metadata\\\\P7282121', '../../data/metadata\\\\P7282122', '../../data/metadata\\\\P7282123', '../../data/metadata\\\\P7282124', '../../data/metadata\\\\P7282125', '../../data/metadata\\\\P7282126', '../../data/metadata\\\\P7282128', '../../data/metadata\\\\P7282129', '../../data/metadata\\\\P7282131', '../../data/metadata\\\\P7282132', '../../data/metadata\\\\P7282133', '../../data/metadata\\\\P7282134', '../../data/metadata\\\\P7282135', '../../data/metadata\\\\P7282136', '../../data/metadata\\\\P7282137', '../../data/metadata\\\\P7282138', '../../data/metadata\\\\P7282139', '../../data/metadata\\\\P7282143', '../../data/metadata\\\\P7282144', '../../data/metadata\\\\P7282145', '../../data/metadata\\\\P7282146', '../../data/metadata\\\\P7282148', '../../data/metadata\\\\P7282149', '../../data/metadata\\\\P7282150', '../../data/metadata\\\\P7282151', '../../data/metadata\\\\P7282153', '../../data/metadata\\\\P7282154', '../../data/metadata\\\\P7282156', '../../data/metadata\\\\P7282158', '../../data/metadata\\\\P7282159', '../../data/metadata\\\\P7282201', '../../data/metadata\\\\P7302115', '../../data/metadata\\\\P7302116', '../../data/metadata\\\\P7302119', '../../data/metadata\\\\P7302126', '../../data/metadata\\\\P7302133', '../../data/metadata\\\\P7302134', '../../data/metadata\\\\P7302135', '../../data/metadata\\\\P7302136', '../../data/metadata\\\\P7302137', '../../data/metadata\\\\P7302138', '../../data/metadata\\\\P7302139', '../../data/metadata\\\\P7302142', '../../data/metadata\\\\P7302145', '../../data/metadata\\\\P7302146', '../../data/metadata\\\\P7302148', '../../data/metadata\\\\P7302152', '../../data/metadata\\\\P7302154', '../../data/metadata\\\\P7302155', '../../data/metadata\\\\P7302159', '../../data/metadata\\\\P7302202', '../../data/metadata\\\\P7302204', '../../data/metadata\\\\P7302206', '../../data/metadata\\\\P7302207', '../../data/metadata\\\\P7312120', '../../data/metadata\\\\P7312121', '../../data/metadata\\\\P7312122', '../../data/metadata\\\\P7312123', '../../data/metadata\\\\P7312124', '../../data/metadata\\\\P7312125', '../../data/metadata\\\\P7312126', '../../data/metadata\\\\P7312127', '../../data/metadata\\\\P7312128', '../../data/metadata\\\\P7312129', '../../data/metadata\\\\P7312130', '../../data/metadata\\\\P7312131', '../../data/metadata\\\\P7312132', '../../data/metadata\\\\P7312133', '../../data/metadata\\\\P7312134', '../../data/metadata\\\\P7312135', '../../data/metadata\\\\P7312136', '../../data/metadata\\\\P7312137', '../../data/metadata\\\\P7312138', '../../data/metadata\\\\P7312139', '../../data/metadata\\\\P7312140', '../../data/metadata\\\\P7312141', '../../data/metadata\\\\P7312142', '../../data/metadata\\\\P7312143', '../../data/metadata\\\\P7312144', '../../data/metadata\\\\P7312148', '../../data/metadata\\\\P7312149', '../../data/metadata\\\\P7312150', '../../data/metadata\\\\P7312151', '../../data/metadata\\\\P7312152', '../../data/metadata\\\\P7312153', '../../data/metadata\\\\P7312154', '../../data/metadata\\\\P7312156', '../../data/metadata\\\\P7312157', '../../data/metadata\\\\P7312158', '../../data/metadata\\\\P7312159', '../../data/metadata\\\\P7312201', '../../data/metadata\\\\P7312202', '../../data/metadata\\\\P7312203', '../../data/metadata\\\\P7312204', '../../data/metadata\\\\P7312205', '../../data/metadata\\\\P7312206', '../../data/metadata\\\\P7312207', '../../data/metadata\\\\P7312208', '../../data/metadata\\\\P7312209', '../../data/metadata\\\\P7312210', '../../data/metadata\\\\P7312211', '../../data/metadata\\\\P7312212', '../../data/metadata\\\\P7312213', '../../data/metadata\\\\P7312216', '../../data/metadata\\\\P7312217', '../../data/metadata\\\\P7312218', '../../data/metadata\\\\P7312220', '../../data/metadata\\\\P7312222', '../../data/metadata\\\\P7312224', '../../data/metadata\\\\P7312225', '../../data/metadata\\\\P7312226', '../../data/metadata\\\\P7312227', '../../data/metadata\\\\P7312230', '../../data/metadata\\\\Q5312116', '../../data/metadata\\\\Q5312127', '../../data/metadata\\\\Q5312134', '../../data/metadata\\\\Q5312139', '../../data/metadata\\\\Q5312143', '../../data/metadata\\\\Q5312145', '../../data/metadata\\\\Q5312153', '../../data/metadata\\\\Q5312154', '../../data/metadata\\\\Q6012117', '../../data/metadata\\\\Q6012124', '../../data/metadata\\\\Q6012129', '../../data/metadata\\\\Q6012132', '../../data/metadata\\\\Q6012134', '../../data/metadata\\\\Q6012138', '../../data/metadata\\\\Q6012140', '../../data/metadata\\\\Q6012143', '../../data/metadata\\\\Q6012147', '../../data/metadata\\\\Q6012149', '../../data/metadata\\\\Q6012151', '../../data/metadata\\\\Q6012152', '../../data/metadata\\\\Q6012158', '../../data/metadata\\\\Q6012159', '../../data/metadata\\\\Q6012215', '../../data/metadata\\\\Q6022116', '../../data/metadata\\\\Q6022127', '../../data/metadata\\\\Q6032118', '../../data/metadata\\\\Q6032136', '../../data/metadata\\\\Q6032140', '../../data/metadata\\\\Q6032142', '../../data/metadata\\\\Q6042111', '../../data/metadata\\\\Q6042113', '../../data/metadata\\\\Q6042120', '../../data/metadata\\\\Q6042123', '../../data/metadata\\\\Q6042128', '../../data/metadata\\\\Q6042129', '../../data/metadata\\\\Q6042131', '../../data/metadata\\\\Q6042139', '../../data/metadata\\\\Q6042142', '../../data/metadata\\\\Q6042144', '../../data/metadata\\\\Q6042151', '../../data/metadata\\\\Q6042156', '../../data/metadata\\\\Q6042202', '../../data/metadata\\\\Q6042203', '../../data/metadata\\\\Q6072112', '../../data/metadata\\\\Q6072113', '../../data/metadata\\\\Q6072115', '../../data/metadata\\\\Q6072117', '../../data/metadata\\\\Q6072122', '../../data/metadata\\\\Q6072123', '../../data/metadata\\\\Q6072126', '../../data/metadata\\\\Q6072127', '../../data/metadata\\\\Q6072128', '../../data/metadata\\\\Q6072131', '../../data/metadata\\\\Q6072136', '../../data/metadata\\\\Q6072137', '../../data/metadata\\\\Q6072139', '../../data/metadata\\\\Q6072141', '../../data/metadata\\\\Q6072144', '../../data/metadata\\\\Q6072146', '../../data/metadata\\\\Q6072151', '../../data/metadata\\\\Q6072152', '../../data/metadata\\\\Q6072154', '../../data/metadata\\\\Q6072155', '../../data/metadata\\\\Q6082111', '../../data/metadata\\\\Q6082112', '../../data/metadata\\\\Q6082113', '../../data/metadata\\\\Q6082114', '../../data/metadata\\\\Q6082117', '../../data/metadata\\\\Q6082120', '../../data/metadata\\\\Q6082122', '../../data/metadata\\\\Q6082123', '../../data/metadata\\\\Q6082124', '../../data/metadata\\\\Q6082126', '../../data/metadata\\\\Q6082127', '../../data/metadata\\\\Q6082128', '../../data/metadata\\\\Q6082129', '../../data/metadata\\\\Q6082130', '../../data/metadata\\\\Q6082132', '../../data/metadata\\\\Q6082133', '../../data/metadata\\\\Q6082134', '../../data/metadata\\\\Q6082135', '../../data/metadata\\\\Q6082136', '../../data/metadata\\\\Q6082137', '../../data/metadata\\\\Q6082138', '../../data/metadata\\\\Q6082139', '../../data/metadata\\\\Q6082144', '../../data/metadata\\\\Q6082145', '../../data/metadata\\\\Q6082147', '../../data/metadata\\\\Q6082148', '../../data/metadata\\\\Q6082149', '../../data/metadata\\\\Q6082151', '../../data/metadata\\\\Q6082153', '../../data/metadata\\\\Q6082156', '../../data/metadata\\\\Q6092129', '../../data/metadata\\\\Q6092131', '../../data/metadata\\\\Q6092132', '../../data/metadata\\\\Q6092133', '../../data/metadata\\\\Q6092139', '../../data/metadata\\\\Q6092140', '../../data/metadata\\\\Q6092142', '../../data/metadata\\\\Q6092145', '../../data/metadata\\\\Q6092146', '../../data/metadata\\\\Q6092158', '../../data/metadata\\\\Q6092205', '../../data/metadata\\\\Q6092207', '../../data/metadata\\\\Q6092212', '../../data/metadata\\\\Q6092222', '../../data/metadata\\\\Q6092228', '../../data/metadata\\\\Q6102121', '../../data/metadata\\\\Q6102122', '../../data/metadata\\\\Q6102124', '../../data/metadata\\\\Q6102128', '../../data/metadata\\\\Q6102132', '../../data/metadata\\\\Q6102133', '../../data/metadata\\\\Q6102135', '../../data/metadata\\\\Q6102137', '../../data/metadata\\\\Q6102139', '../../data/metadata\\\\Q6102142', '../../data/metadata\\\\Q6102144', '../../data/metadata\\\\Q6102154', '../../data/metadata\\\\Q6102156', '../../data/metadata\\\\Q6102159', '../../data/metadata\\\\Q6102211', '../../data/metadata\\\\Q6102212', '../../data/metadata\\\\Q6102227', '../../data/metadata\\\\Q6102229', '../../data/metadata\\\\Q6112105', '../../data/metadata\\\\Q6112109', '../../data/metadata\\\\Q6112110', '../../data/metadata\\\\Q6112112', '../../data/metadata\\\\Q6112117', '../../data/metadata\\\\Q6112121', '../../data/metadata\\\\Q6112126', '../../data/metadata\\\\Q6112138', '../../data/metadata\\\\Q6112140', '../../data/metadata\\\\Q6122106', '../../data/metadata\\\\Q6122107', '../../data/metadata\\\\Q6122112', '../../data/metadata\\\\Q6122114', '../../data/metadata\\\\Q6122118', '../../data/metadata\\\\Q6122121', '../../data/metadata\\\\Q6122125', '../../data/metadata\\\\Q6122126', '../../data/metadata\\\\Q6122128', '../../data/metadata\\\\Q6122131', '../../data/metadata\\\\Q6122136', '../../data/metadata\\\\Q6122137', '../../data/metadata\\\\Q6122138', '../../data/metadata\\\\Q6122142', '../../data/metadata\\\\Q6122155', '../../data/metadata\\\\Q6122158', '../../data/metadata\\\\Q6122200', '../../data/metadata\\\\Q6122209', '../../data/metadata\\\\Q6122211', '../../data/metadata\\\\Q6122216', '../../data/metadata\\\\Q6132117', '../../data/metadata\\\\Q6132118', '../../data/metadata\\\\Q6132119', '../../data/metadata\\\\Q6132120', '../../data/metadata\\\\Q6132121', '../../data/metadata\\\\Q6132122', '../../data/metadata\\\\Q6132123', '../../data/metadata\\\\Q6132124', '../../data/metadata\\\\Q6132125', '../../data/metadata\\\\Q6132126', '../../data/metadata\\\\Q6132128', '../../data/metadata\\\\Q6132129', '../../data/metadata\\\\Q6132136', '../../data/metadata\\\\Q6132137', '../../data/metadata\\\\Q6132140', '../../data/metadata\\\\Q6132145', '../../data/metadata\\\\Q6132150', '../../data/metadata\\\\Q6132152', '../../data/metadata\\\\Q6132201', '../../data/metadata\\\\Q6142122', '../../data/metadata\\\\Q6142123', '../../data/metadata\\\\Q6142125', '../../data/metadata\\\\Q6142126', '../../data/metadata\\\\Q6142127', '../../data/metadata\\\\Q6142128', '../../data/metadata\\\\Q6142133', '../../data/metadata\\\\Q6142139', '../../data/metadata\\\\Q6142143', '../../data/metadata\\\\Q6142150', '../../data/metadata\\\\Q6142152', '../../data/metadata\\\\Q6142200', '../../data/metadata\\\\Q6142218', '../../data/metadata\\\\Q6152131', '../../data/metadata\\\\Q6152139', '../../data/metadata\\\\Q6152144', '../../data/metadata\\\\Q6152145', '../../data/metadata\\\\Q6152148', '../../data/metadata\\\\Q6152149', '../../data/metadata\\\\Q6152158', '../../data/metadata\\\\Q6152159', '../../data/metadata\\\\Q6152208', '../../data/metadata\\\\Q6152209', '../../data/metadata\\\\Q6152213', '../../data/metadata\\\\Q6152214', '../../data/metadata\\\\Q6152215', '../../data/metadata\\\\Q6152216', '../../data/metadata\\\\Q6152221', '../../data/metadata\\\\Q6152223', '../../data/metadata\\\\Q6152225', '../../data/metadata\\\\Q6152229', '../../data/metadata\\\\Q6152233', '../../data/metadata\\\\Q6162119', '../../data/metadata\\\\Q6162138', '../../data/metadata\\\\Q6162145', '../../data/metadata\\\\Q6162148', '../../data/metadata\\\\Q6162149', '../../data/metadata\\\\Q6162150', '../../data/metadata\\\\Q6162151', '../../data/metadata\\\\Q6162156', '../../data/metadata\\\\Q6162159', '../../data/metadata\\\\Q6162205', '../../data/metadata\\\\Q6162206', '../../data/metadata\\\\Q6162207', '../../data/metadata\\\\Q6162210', '../../data/metadata\\\\Q6182126', '../../data/metadata\\\\Q6182129', '../../data/metadata\\\\Q6182132', '../../data/metadata\\\\Q6182133', '../../data/metadata\\\\Q6182142', '../../data/metadata\\\\Q6182144', '../../data/metadata\\\\Q6182147', '../../data/metadata\\\\Q6182152', '../../data/metadata\\\\Q6182154', '../../data/metadata\\\\Q6182159', '../../data/metadata\\\\Q6182200', '../../data/metadata\\\\Q6182202', '../../data/metadata\\\\Q6182204', '../../data/metadata\\\\Q6182205', '../../data/metadata\\\\Q6182207', '../../data/metadata\\\\Q6182209', '../../data/metadata\\\\Q6182216', '../../data/metadata\\\\Q6182220', '../../data/metadata\\\\Q6182224', '../../data/metadata\\\\Q6182225', '../../data/metadata\\\\Q6182227', '../../data/metadata\\\\Q6182228', '../../data/metadata\\\\Q6182229', '../../data/metadata\\\\Q6182231', '../../data/metadata\\\\Q6202123', '../../data/metadata\\\\Q6202124', '../../data/metadata\\\\Q6202125', '../../data/metadata\\\\Q6202126', '../../data/metadata\\\\Q6202128', '../../data/metadata\\\\Q6202136', '../../data/metadata\\\\Q6202137', '../../data/metadata\\\\Q6202138', '../../data/metadata\\\\Q6202140', '../../data/metadata\\\\Q6202141', '../../data/metadata\\\\Q6202142', '../../data/metadata\\\\Q6202143', '../../data/metadata\\\\Q6202145', '../../data/metadata\\\\Q6202146', '../../data/metadata\\\\Q6202147', '../../data/metadata\\\\Q6202148', '../../data/metadata\\\\Q6202149', '../../data/metadata\\\\Q6202150', '../../data/metadata\\\\Q6202153', '../../data/metadata\\\\Q6202154', '../../data/metadata\\\\Q6202155', '../../data/metadata\\\\Q6202156', '../../data/metadata\\\\Q6202157', '../../data/metadata\\\\Q6202158', '../../data/metadata\\\\Q6202159', '../../data/metadata\\\\Q6202204', '../../data/metadata\\\\Q6202205', '../../data/metadata\\\\Q6202208', '../../data/metadata\\\\Q6202209', '../../data/metadata\\\\Q6202213', '../../data/metadata\\\\Q6202214', '../../data/metadata\\\\Q6202216', '../../data/metadata\\\\Q6202217', '../../data/metadata\\\\Q6202219', '../../data/metadata\\\\Q6202221', '../../data/metadata\\\\Q6202222', '../../data/metadata\\\\Q6202223', '../../data/metadata\\\\Q6202224', '../../data/metadata\\\\Q6202225', '../../data/metadata\\\\Q6202226', '../../data/metadata\\\\Q6202234', '../../data/metadata\\\\Q6212118', '../../data/metadata\\\\Q6212122', '../../data/metadata\\\\Q6212124', '../../data/metadata\\\\Q6212129', '../../data/metadata\\\\Q6212133', '../../data/metadata\\\\Q6212136', '../../data/metadata\\\\Q6212138', '../../data/metadata\\\\Q6212139', '../../data/metadata\\\\Q6212140', '../../data/metadata\\\\Q6212141', '../../data/metadata\\\\Q6212142', '../../data/metadata\\\\Q6212143', '../../data/metadata\\\\Q6212144', '../../data/metadata\\\\Q6212146', '../../data/metadata\\\\Q6212147', '../../data/metadata\\\\Q6212149', '../../data/metadata\\\\Q6212151', '../../data/metadata\\\\Q6212152', '../../data/metadata\\\\Q6212153', '../../data/metadata\\\\Q6212155', '../../data/metadata\\\\Q6212156', '../../data/metadata\\\\Q6212158', '../../data/metadata\\\\Q6212159', '../../data/metadata\\\\Q6212200', '../../data/metadata\\\\Q6212201', '../../data/metadata\\\\Q6212202', '../../data/metadata\\\\Q6212203', '../../data/metadata\\\\Q6212206', '../../data/metadata\\\\Q6212207', '../../data/metadata\\\\Q6212209', '../../data/metadata\\\\Q6212210', '../../data/metadata\\\\Q6212213', '../../data/metadata\\\\Q6212214', '../../data/metadata\\\\Q6212215', '../../data/metadata\\\\Q6212216', '../../data/metadata\\\\Q6212219', '../../data/metadata\\\\Q6212220', '../../data/metadata\\\\Q6212221', '../../data/metadata\\\\Q6212222', '../../data/metadata\\\\Q6212227', '../../data/metadata\\\\Q6222117', '../../data/metadata\\\\Q6222118', '../../data/metadata\\\\Q6222120', '../../data/metadata\\\\Q6222121', '../../data/metadata\\\\Q6222122', '../../data/metadata\\\\Q6222124', '../../data/metadata\\\\Q6222125', '../../data/metadata\\\\Q6222130', '../../data/metadata\\\\Q6222131', '../../data/metadata\\\\Q6222135', '../../data/metadata\\\\Q6222137', '../../data/metadata\\\\Q6222138', '../../data/metadata\\\\Q6222139', '../../data/metadata\\\\Q6222141', '../../data/metadata\\\\Q6222143', '../../data/metadata\\\\Q6222144', '../../data/metadata\\\\Q6222145', '../../data/metadata\\\\Q6222146', '../../data/metadata\\\\Q6222147', '../../data/metadata\\\\Q6222148', '../../data/metadata\\\\Q6222149', '../../data/metadata\\\\Q6222150', '../../data/metadata\\\\Q6222151', '../../data/metadata\\\\Q6222153', '../../data/metadata\\\\Q6222154', '../../data/metadata\\\\Q6222156', '../../data/metadata\\\\Q6222157', '../../data/metadata\\\\Q6222158', '../../data/metadata\\\\Q6222200', '../../data/metadata\\\\Q6222202', '../../data/metadata\\\\Q6222203', '../../data/metadata\\\\Q6222204', '../../data/metadata\\\\Q6222205', '../../data/metadata\\\\Q6222208', '../../data/metadata\\\\Q6222209', '../../data/metadata\\\\Q6222213', '../../data/metadata\\\\Q6222215', '../../data/metadata\\\\Q6222216', '../../data/metadata\\\\Q6222217', '../../data/metadata\\\\Q6222218', '../../data/metadata\\\\Q6222219', '../../data/metadata\\\\Q6222220', '../../data/metadata\\\\Q6222222', '../../data/metadata\\\\Q6222223', '../../data/metadata\\\\Q6222224', '../../data/metadata\\\\Q6222225', '../../data/metadata\\\\Q6222226', '../../data/metadata\\\\Q6222230', '../../data/metadata\\\\Q6232139', '../../data/metadata\\\\Q6232140', '../../data/metadata\\\\Q6232141', '../../data/metadata\\\\Q6232143', '../../data/metadata\\\\Q6232146', '../../data/metadata\\\\Q6232148', '../../data/metadata\\\\Q6232149', '../../data/metadata\\\\Q6232155', '../../data/metadata\\\\Q6232157', '../../data/metadata\\\\Q6232159', '../../data/metadata\\\\Q6232200', '../../data/metadata\\\\Q6232201', '../../data/metadata\\\\Q6232203', '../../data/metadata\\\\Q6232206', '../../data/metadata\\\\Q6232216', '../../data/metadata\\\\Q6232218', '../../data/metadata\\\\Q6232219', '../../data/metadata\\\\Q6232220', '../../data/metadata\\\\Q6232221', '../../data/metadata\\\\Q6232224', '../../data/metadata\\\\Q6232225', '../../data/metadata\\\\Q6232226', '../../data/metadata\\\\Q6232227', '../../data/metadata\\\\Q6232233', '../../data/metadata\\\\Q6232237', '../../data/metadata\\\\Q6242113', '../../data/metadata\\\\Q6242115', '../../data/metadata\\\\Q6242120', '../../data/metadata\\\\Q6242121', '../../data/metadata\\\\Q6242122', '../../data/metadata\\\\Q6242124', '../../data/metadata\\\\Q6242125', '../../data/metadata\\\\Q6242126', '../../data/metadata\\\\Q6242127', '../../data/metadata\\\\Q6242128', '../../data/metadata\\\\Q6242129', '../../data/metadata\\\\Q6242130', '../../data/metadata\\\\Q6242131', '../../data/metadata\\\\Q6242132', '../../data/metadata\\\\Q6242133', '../../data/metadata\\\\Q6242134', '../../data/metadata\\\\Q6242135', '../../data/metadata\\\\Q6242136', '../../data/metadata\\\\Q6242139', '../../data/metadata\\\\Q6242141', '../../data/metadata\\\\Q6242142', '../../data/metadata\\\\Q6242143', '../../data/metadata\\\\Q6242146', '../../data/metadata\\\\Q6242147', '../../data/metadata\\\\Q6242148', '../../data/metadata\\\\Q6242149', '../../data/metadata\\\\Q6242150', '../../data/metadata\\\\Q6242153', '../../data/metadata\\\\Q6242154', '../../data/metadata\\\\Q6242155', '../../data/metadata\\\\Q6242156', '../../data/metadata\\\\Q6242157', '../../data/metadata\\\\Q6242158', '../../data/metadata\\\\Q6242159', '../../data/metadata\\\\Q6242200', '../../data/metadata\\\\Q6242201', '../../data/metadata\\\\Q6242202', '../../data/metadata\\\\Q6242203', '../../data/metadata\\\\Q6242204', '../../data/metadata\\\\Q6242205', '../../data/metadata\\\\Q6242214', '../../data/metadata\\\\Q6242217', '../../data/metadata\\\\Q6242219', '../../data/metadata\\\\Q6242221', '../../data/metadata\\\\Q6242222', '../../data/metadata\\\\Q6242225', '../../data/metadata\\\\Q6242228', '../../data/metadata\\\\Q6242231', '../../data/metadata\\\\Q6242232', '../../data/metadata\\\\Q6242233', '../../data/metadata\\\\Q6242234', '../../data/metadata\\\\Q6242236', '../../data/metadata\\\\Q6242238', '../../data/metadata\\\\Q6242242', '../../data/metadata\\\\Q6252127', '../../data/metadata\\\\Q6252130', '../../data/metadata\\\\Q6252132', '../../data/metadata\\\\Q6252135', '../../data/metadata\\\\Q6252146', '../../data/metadata\\\\Q6252150', '../../data/metadata\\\\Q6252151', '../../data/metadata\\\\Q6252155', '../../data/metadata\\\\Q6252157', '../../data/metadata\\\\Q6252158', '../../data/metadata\\\\Q6252201', '../../data/metadata\\\\Q6252203', '../../data/metadata\\\\Q6252217', '../../data/metadata\\\\Q6252218', '../../data/metadata\\\\Q6252219', '../../data/metadata\\\\Q6252221', '../../data/metadata\\\\Q6252222', '../../data/metadata\\\\Q6252224', '../../data/metadata\\\\Q6262134', '../../data/metadata\\\\Q6262141', '../../data/metadata\\\\Q6262147', '../../data/metadata\\\\Q6262150', '../../data/metadata\\\\Q6262154', '../../data/metadata\\\\Q6262156', '../../data/metadata\\\\Q6262201', '../../data/metadata\\\\Q6262205', '../../data/metadata\\\\Q6262209', '../../data/metadata\\\\Q6262210', '../../data/metadata\\\\Q6262211', '../../data/metadata\\\\Q6262214', '../../data/metadata\\\\Q6262217', '../../data/metadata\\\\Q6262231', '../../data/metadata\\\\Q6262232', '../../data/metadata\\\\Q6262233', '../../data/metadata\\\\Q6262235', '../../data/metadata\\\\Q6272124', '../../data/metadata\\\\Q6272125', '../../data/metadata\\\\Q6272126', '../../data/metadata\\\\Q6272127', '../../data/metadata\\\\Q6272128', '../../data/metadata\\\\Q6272129', '../../data/metadata\\\\Q6272130', '../../data/metadata\\\\Q6272131', '../../data/metadata\\\\Q6272132', '../../data/metadata\\\\Q6272135', '../../data/metadata\\\\Q6272139', '../../data/metadata\\\\Q6272140', '../../data/metadata\\\\Q6272141', '../../data/metadata\\\\Q6272142', '../../data/metadata\\\\Q6272145', '../../data/metadata\\\\Q6272148', '../../data/metadata\\\\Q6272150', '../../data/metadata\\\\Q6272151', '../../data/metadata\\\\Q6272152', '../../data/metadata\\\\Q6272153', '../../data/metadata\\\\Q6272154', '../../data/metadata\\\\Q6272156', '../../data/metadata\\\\Q6272158', '../../data/metadata\\\\Q6282136', '../../data/metadata\\\\Q6282139', '../../data/metadata\\\\Q6282141', '../../data/metadata\\\\Q6282142', '../../data/metadata\\\\Q6282147', '../../data/metadata\\\\Q6282158', '../../data/metadata\\\\Q6282159', '../../data/metadata\\\\Q6282201', '../../data/metadata\\\\Q6282203', '../../data/metadata\\\\Q6282206', '../../data/metadata\\\\Q6282209', '../../data/metadata\\\\Q6282211', '../../data/metadata\\\\Q6282213', '../../data/metadata\\\\Q6282214', '../../data/metadata\\\\Q6282215', '../../data/metadata\\\\Q6282216', '../../data/metadata\\\\Q6282220', '../../data/metadata\\\\Q6282221', '../../data/metadata\\\\Q6282222', '../../data/metadata\\\\Q6282223', '../../data/metadata\\\\Q6282231', '../../data/metadata\\\\Q6282235', '../../data/metadata\\\\Q6292158', '../../data/metadata\\\\Q6292159', '../../data/metadata\\\\Q6292202', '../../data/metadata\\\\Q6292211', '../../data/metadata\\\\Q6292212', '../../data/metadata\\\\Q6292214', '../../data/metadata\\\\Q6292215', '../../data/metadata\\\\Q6292217', '../../data/metadata\\\\Q6292220', '../../data/metadata\\\\Q6292223', '../../data/metadata\\\\Q6292224', '../../data/metadata\\\\Q6292226', '../../data/metadata\\\\Q6292231', '../../data/metadata\\\\Q6292232', '../../data/metadata\\\\Q6292233', '../../data/metadata\\\\Q6292234', '../../data/metadata\\\\Q6292235', '../../data/metadata\\\\Q6292236', '../../data/metadata\\\\Q6292238', '../../data/metadata\\\\Q6292239', '../../data/metadata\\\\Q6292241', '../../data/metadata\\\\Q6292242', '../../data/metadata\\\\Q6292243', '../../data/metadata\\\\Q6292245', '../../data/metadata\\\\Q6300135', '../../data/metadata\\\\Q6300136', '../../data/metadata\\\\Q6300137', '../../data/metadata\\\\Q6300140', '../../data/metadata\\\\Q6300141', '../../data/metadata\\\\Q6300142', '../../data/metadata\\\\Q6300143', '../../data/metadata\\\\Q6300144', '../../data/metadata\\\\Q6300146', '../../data/metadata\\\\Q6300147', '../../data/metadata\\\\Q6300148', '../../data/metadata\\\\Q6300149', '../../data/metadata\\\\Q6300150', '../../data/metadata\\\\Q6300153', '../../data/metadata\\\\Q6300154', '../../data/metadata\\\\Q6300156', '../../data/metadata\\\\Q6300158', '../../data/metadata\\\\Q6300159', '../../data/metadata\\\\Q6300200', '../../data/metadata\\\\Q6300208', '../../data/metadata\\\\Q6300210', '../../data/metadata\\\\Q6300212', '../../data/metadata\\\\Q6300213', '../../data/metadata\\\\Q6300215', '../../data/metadata\\\\Q6300217', '../../data/metadata\\\\Q6300222', '../../data/metadata\\\\Q6300226', '../../data/metadata\\\\Q6300229', '../../data/metadata\\\\Q6300234', '../../data/metadata\\\\Q6302110', '../../data/metadata\\\\Q6302128', '../../data/metadata\\\\Q6302130', '../../data/metadata\\\\Q6302131', '../../data/metadata\\\\Q6302132', '../../data/metadata\\\\Q6302133', '../../data/metadata\\\\Q6302134', '../../data/metadata\\\\Q6302135', '../../data/metadata\\\\Q6302137', '../../data/metadata\\\\Q6302139', '../../data/metadata\\\\Q6302140', '../../data/metadata\\\\Q6302145', '../../data/metadata\\\\Q6302146', '../../data/metadata\\\\Q6302147', '../../data/metadata\\\\Q6302148', '../../data/metadata\\\\Q6302149', '../../data/metadata\\\\Q6302152', '../../data/metadata\\\\Q6302153', '../../data/metadata\\\\Q6302154', '../../data/metadata\\\\Q6302155', '../../data/metadata\\\\Q6302156', '../../data/metadata\\\\Q6302201', '../../data/metadata\\\\Q6302203', '../../data/metadata\\\\Q6302204', '../../data/metadata\\\\Q6302212', '../../data/metadata\\\\Q6302218', '../../data/metadata\\\\Q6302220', '../../data/metadata\\\\Q6302221', '../../data/metadata\\\\Q7012134', '../../data/metadata\\\\Q7012135', '../../data/metadata\\\\Q7012137', '../../data/metadata\\\\Q7012141', '../../data/metadata\\\\Q7012146', '../../data/metadata\\\\Q7012147', '../../data/metadata\\\\Q7012150', '../../data/metadata\\\\Q7012152', '../../data/metadata\\\\Q7012157', '../../data/metadata\\\\Q7012158', '../../data/metadata\\\\Q7012202', '../../data/metadata\\\\Q7012205', '../../data/metadata\\\\Q7012206', '../../data/metadata\\\\Q7012208', '../../data/metadata\\\\Q7012211', '../../data/metadata\\\\Q7012212', '../../data/metadata\\\\Q7012213', '../../data/metadata\\\\Q7012214', '../../data/metadata\\\\Q7012216', '../../data/metadata\\\\Q7012217', '../../data/metadata\\\\Q7012219', '../../data/metadata\\\\Q7022121', '../../data/metadata\\\\Q7022124', '../../data/metadata\\\\Q7022125', '../../data/metadata\\\\Q7022126', '../../data/metadata\\\\Q7022127', '../../data/metadata\\\\Q7022129', '../../data/metadata\\\\Q7022130', '../../data/metadata\\\\Q7022131', '../../data/metadata\\\\Q7022132', '../../data/metadata\\\\Q7022134', '../../data/metadata\\\\Q7022135', '../../data/metadata\\\\Q7022136', '../../data/metadata\\\\Q7022137', '../../data/metadata\\\\Q7022139', '../../data/metadata\\\\Q7022140', '../../data/metadata\\\\Q7022141', '../../data/metadata\\\\Q7022142', '../../data/metadata\\\\Q7022143', '../../data/metadata\\\\Q7022144', '../../data/metadata\\\\Q7022145', '../../data/metadata\\\\Q7022146', '../../data/metadata\\\\Q7022148', '../../data/metadata\\\\Q7022150', '../../data/metadata\\\\Q7022152', '../../data/metadata\\\\Q7022153', '../../data/metadata\\\\Q7022154', '../../data/metadata\\\\Q7022155', '../../data/metadata\\\\Q7022200', '../../data/metadata\\\\Q7022201', '../../data/metadata\\\\Q7022202', '../../data/metadata\\\\Q7022203', '../../data/metadata\\\\Q7022204', '../../data/metadata\\\\Q7022205', '../../data/metadata\\\\Q7022207', '../../data/metadata\\\\Q7022208', '../../data/metadata\\\\Q7022209', '../../data/metadata\\\\Q7022210', '../../data/metadata\\\\Q7022213', '../../data/metadata\\\\Q7022217', '../../data/metadata\\\\Q7022218', '../../data/metadata\\\\Q7022219', '../../data/metadata\\\\Q7022220', '../../data/metadata\\\\Q7032120', '../../data/metadata\\\\Q7032122', '../../data/metadata\\\\Q7032123', '../../data/metadata\\\\Q7032124', '../../data/metadata\\\\Q7032125', '../../data/metadata\\\\Q7032126', '../../data/metadata\\\\Q7032127', '../../data/metadata\\\\Q7032128', '../../data/metadata\\\\Q7032129', '../../data/metadata\\\\Q7032130', '../../data/metadata\\\\Q7032131', '../../data/metadata\\\\Q7032132', '../../data/metadata\\\\Q7032133', '../../data/metadata\\\\Q7032134', '../../data/metadata\\\\Q7032135', '../../data/metadata\\\\Q7032136', '../../data/metadata\\\\Q7032137', '../../data/metadata\\\\Q7032138', '../../data/metadata\\\\Q7032139', '../../data/metadata\\\\Q7032140', '../../data/metadata\\\\Q7032141', '../../data/metadata\\\\Q7032142', '../../data/metadata\\\\Q7032143', '../../data/metadata\\\\Q7032145', '../../data/metadata\\\\Q7032146', '../../data/metadata\\\\Q7032147', '../../data/metadata\\\\Q7032148', '../../data/metadata\\\\Q7032149', '../../data/metadata\\\\Q7032150', '../../data/metadata\\\\Q7032151', '../../data/metadata\\\\Q7032152', '../../data/metadata\\\\Q7032153', '../../data/metadata\\\\Q7032154', '../../data/metadata\\\\Q7032155', '../../data/metadata\\\\Q7032158', '../../data/metadata\\\\Q7032159', '../../data/metadata\\\\Q7032200', '../../data/metadata\\\\Q7032201', '../../data/metadata\\\\Q7032202', '../../data/metadata\\\\Q7032203', '../../data/metadata\\\\Q7032204', '../../data/metadata\\\\Q7032205', '../../data/metadata\\\\Q7032206', '../../data/metadata\\\\Q7032207', '../../data/metadata\\\\Q7032208', '../../data/metadata\\\\Q7032209', '../../data/metadata\\\\Q7032210', '../../data/metadata\\\\Q7032211', '../../data/metadata\\\\Q7032212', '../../data/metadata\\\\Q7032216', '../../data/metadata\\\\Q7032220', '../../data/metadata\\\\Q7032221', '../../data/metadata\\\\Q7032222', '../../data/metadata\\\\Q7082101', '../../data/metadata\\\\Q7082105', '../../data/metadata\\\\Q7082106', '../../data/metadata\\\\Q7082108', '../../data/metadata\\\\Q7082109', '../../data/metadata\\\\Q7082110', '../../data/metadata\\\\Q7082115', '../../data/metadata\\\\Q7082116', '../../data/metadata\\\\Q7082119', '../../data/metadata\\\\Q7082120', '../../data/metadata\\\\Q7082121', '../../data/metadata\\\\Q7082122', '../../data/metadata\\\\Q7082125', '../../data/metadata\\\\Q7082130', '../../data/metadata\\\\Q7082132', '../../data/metadata\\\\Q7082134', '../../data/metadata\\\\Q7082135', '../../data/metadata\\\\Q7082136', '../../data/metadata\\\\Q7082137', '../../data/metadata\\\\Q7082138', '../../data/metadata\\\\Q7082139', '../../data/metadata\\\\Q7082140', '../../data/metadata\\\\Q7082141', '../../data/metadata\\\\Q7082143', '../../data/metadata\\\\Q7082144', '../../data/metadata\\\\Q7082145', '../../data/metadata\\\\Q7082149', '../../data/metadata\\\\Q7082151', '../../data/metadata\\\\Q7082153', '../../data/metadata\\\\Q7082154', '../../data/metadata\\\\Q7082155', '../../data/metadata\\\\Q7082156', '../../data/metadata\\\\Q7082157', '../../data/metadata\\\\Q7082158', '../../data/metadata\\\\Q7082201', '../../data/metadata\\\\Q7082202', '../../data/metadata\\\\Q7082206', '../../data/metadata\\\\Q7102108', '../../data/metadata\\\\Q7102109', '../../data/metadata\\\\Q7102110', '../../data/metadata\\\\Q7102111', '../../data/metadata\\\\Q7102113', '../../data/metadata\\\\Q7102114', '../../data/metadata\\\\Q7102116', '../../data/metadata\\\\Q7102117', '../../data/metadata\\\\Q7102119', '../../data/metadata\\\\Q7102122', '../../data/metadata\\\\Q7102123', '../../data/metadata\\\\Q7102125', '../../data/metadata\\\\Q7102126', '../../data/metadata\\\\Q7102128', '../../data/metadata\\\\Q7102129', '../../data/metadata\\\\Q7102130', '../../data/metadata\\\\Q7102131', '../../data/metadata\\\\Q7102132', '../../data/metadata\\\\Q7102133', '../../data/metadata\\\\Q7102134', '../../data/metadata\\\\Q7102135', '../../data/metadata\\\\Q7102136', '../../data/metadata\\\\Q7102137', '../../data/metadata\\\\Q7102138', '../../data/metadata\\\\Q7102139', '../../data/metadata\\\\Q7102140', '../../data/metadata\\\\Q7102141', '../../data/metadata\\\\Q7102142', '../../data/metadata\\\\Q7102143', '../../data/metadata\\\\Q7102144', '../../data/metadata\\\\Q7102145', '../../data/metadata\\\\Q7102146', '../../data/metadata\\\\Q7102148', '../../data/metadata\\\\Q7102149', '../../data/metadata\\\\Q7102150', '../../data/metadata\\\\Q7102151', '../../data/metadata\\\\Q7102152', '../../data/metadata\\\\Q7102153', '../../data/metadata\\\\Q7102154', '../../data/metadata\\\\Q7102155', '../../data/metadata\\\\Q7102156', '../../data/metadata\\\\Q7102157', '../../data/metadata\\\\Q7102158', '../../data/metadata\\\\Q7102159', '../../data/metadata\\\\Q7102200', '../../data/metadata\\\\Q7102201', '../../data/metadata\\\\Q7102202', '../../data/metadata\\\\Q7102204', '../../data/metadata\\\\Q7102205', '../../data/metadata\\\\Q7102206', '../../data/metadata\\\\Q7102208', '../../data/metadata\\\\Q7102209', '../../data/metadata\\\\Q7102210', '../../data/metadata\\\\Q7102211', '../../data/metadata\\\\Q7102212', '../../data/metadata\\\\Q7102213', '../../data/metadata\\\\Q7102214', '../../data/metadata\\\\Q7102215', '../../data/metadata\\\\Q7102218', '../../data/metadata\\\\Q7102219', '../../data/metadata\\\\Q7102223', '../../data/metadata\\\\Q7102225', '../../data/metadata\\\\Q7122116', '../../data/metadata\\\\Q7122120', '../../data/metadata\\\\Q7122121', '../../data/metadata\\\\Q7122123', '../../data/metadata\\\\Q7122124', '../../data/metadata\\\\Q7122129', '../../data/metadata\\\\Q7122131', '../../data/metadata\\\\Q7122134', '../../data/metadata\\\\Q7122135', '../../data/metadata\\\\Q7122136', '../../data/metadata\\\\Q7122139', '../../data/metadata\\\\Q7122142', '../../data/metadata\\\\Q7122143', '../../data/metadata\\\\Q7122145', '../../data/metadata\\\\Q7122148', '../../data/metadata\\\\Q7122149', '../../data/metadata\\\\Q7122152', '../../data/metadata\\\\Q7122153', '../../data/metadata\\\\Q7122156', '../../data/metadata\\\\Q7122157', '../../data/metadata\\\\Q7122159', '../../data/metadata\\\\Q7122201', '../../data/metadata\\\\Q7122203', '../../data/metadata\\\\Q7122204', '../../data/metadata\\\\Q7122205', '../../data/metadata\\\\Q7122206', '../../data/metadata\\\\Q7122207', '../../data/metadata\\\\Q7122208', '../../data/metadata\\\\Q7122210', '../../data/metadata\\\\Q7122216', '../../data/metadata\\\\Q7122217', '../../data/metadata\\\\Q7122218', '../../data/metadata\\\\Q7122225', '../../data/metadata\\\\Q7132110', '../../data/metadata\\\\Q7132111', '../../data/metadata\\\\Q7132112', '../../data/metadata\\\\Q7132113', '../../data/metadata\\\\Q7132114', '../../data/metadata\\\\Q7132115', '../../data/metadata\\\\Q7132116', '../../data/metadata\\\\Q7132117', '../../data/metadata\\\\Q7132118', '../../data/metadata\\\\Q7132119', '../../data/metadata\\\\Q7132121', '../../data/metadata\\\\Q7132124', '../../data/metadata\\\\Q7132125', '../../data/metadata\\\\Q7132126', '../../data/metadata\\\\Q7132127', '../../data/metadata\\\\Q7132128', '../../data/metadata\\\\Q7132129', '../../data/metadata\\\\Q7132130', '../../data/metadata\\\\Q7132132', '../../data/metadata\\\\Q7132133', '../../data/metadata\\\\Q7132134', '../../data/metadata\\\\Q7132138', '../../data/metadata\\\\Q7132139', '../../data/metadata\\\\Q7132140', '../../data/metadata\\\\Q7132142', '../../data/metadata\\\\Q7132143', '../../data/metadata\\\\Q7132144', '../../data/metadata\\\\Q7132145', '../../data/metadata\\\\Q7132146', '../../data/metadata\\\\Q7132148', '../../data/metadata\\\\Q7132149', '../../data/metadata\\\\Q7132150', '../../data/metadata\\\\Q7132152', '../../data/metadata\\\\Q7132153', '../../data/metadata\\\\Q7132154', '../../data/metadata\\\\Q7132155', '../../data/metadata\\\\Q7132156', '../../data/metadata\\\\Q7132157', '../../data/metadata\\\\Q7132158', '../../data/metadata\\\\Q7132159', '../../data/metadata\\\\Q7132201', '../../data/metadata\\\\Q7132202', '../../data/metadata\\\\Q7132203', '../../data/metadata\\\\Q7132204', '../../data/metadata\\\\Q7132205', '../../data/metadata\\\\Q7132206', '../../data/metadata\\\\Q7132207', '../../data/metadata\\\\Q7132208', '../../data/metadata\\\\Q7132209', '../../data/metadata\\\\Q7132213', '../../data/metadata\\\\Q7142108', '../../data/metadata\\\\Q7142109', '../../data/metadata\\\\Q7142110', '../../data/metadata\\\\Q7142111', '../../data/metadata\\\\Q7142113', '../../data/metadata\\\\Q7142117', '../../data/metadata\\\\Q7142119', '../../data/metadata\\\\Q7142121', '../../data/metadata\\\\Q7142122', '../../data/metadata\\\\Q7142123', '../../data/metadata\\\\Q7142124', '../../data/metadata\\\\Q7142125', '../../data/metadata\\\\Q7142126', '../../data/metadata\\\\Q7142127', '../../data/metadata\\\\Q7142128', '../../data/metadata\\\\Q7142129', '../../data/metadata\\\\Q7142130', '../../data/metadata\\\\Q7142131', '../../data/metadata\\\\Q7142132', '../../data/metadata\\\\Q7142133', '../../data/metadata\\\\Q7142134', '../../data/metadata\\\\Q7142135', '../../data/metadata\\\\Q7142136', '../../data/metadata\\\\Q7142137', '../../data/metadata\\\\Q7142138', '../../data/metadata\\\\Q7142140', '../../data/metadata\\\\Q7142141', '../../data/metadata\\\\Q7142142', '../../data/metadata\\\\Q7142144', '../../data/metadata\\\\Q7142146', '../../data/metadata\\\\Q7142147', '../../data/metadata\\\\Q7142148', '../../data/metadata\\\\Q7142149', '../../data/metadata\\\\Q7142150', '../../data/metadata\\\\Q7142151', '../../data/metadata\\\\Q7142152', '../../data/metadata\\\\Q7142153', '../../data/metadata\\\\Q7142154', '../../data/metadata\\\\Q7142155', '../../data/metadata\\\\Q7142156', '../../data/metadata\\\\Q7142158', '../../data/metadata\\\\Q7142159', '../../data/metadata\\\\Q7142201', '../../data/metadata\\\\Q7142202', '../../data/metadata\\\\Q7142203', '../../data/metadata\\\\Q7142205', '../../data/metadata\\\\Q7142206', '../../data/metadata\\\\Q7142207', '../../data/metadata\\\\Q7142208', '../../data/metadata\\\\Q7142209', '../../data/metadata\\\\Q7142211', '../../data/metadata\\\\Q7142216', '../../data/metadata\\\\Q7152115', '../../data/metadata\\\\Q7152118', '../../data/metadata\\\\Q7152119', '../../data/metadata\\\\Q7152121', '../../data/metadata\\\\Q7152122', '../../data/metadata\\\\Q7152123', '../../data/metadata\\\\Q7152124', '../../data/metadata\\\\Q7152128', '../../data/metadata\\\\Q7152130', '../../data/metadata\\\\Q7152131', '../../data/metadata\\\\Q7152134', '../../data/metadata\\\\Q7152135', '../../data/metadata\\\\Q7152136', '../../data/metadata\\\\Q7152137', '../../data/metadata\\\\Q7152138', '../../data/metadata\\\\Q7152139', '../../data/metadata\\\\Q7152140', '../../data/metadata\\\\Q7152143', '../../data/metadata\\\\Q7152144', '../../data/metadata\\\\Q7152146', '../../data/metadata\\\\Q7152147', '../../data/metadata\\\\Q7152148', '../../data/metadata\\\\Q7152149', '../../data/metadata\\\\Q7152151', '../../data/metadata\\\\Q7152152', '../../data/metadata\\\\Q7152153', '../../data/metadata\\\\Q7152154', '../../data/metadata\\\\Q7152156', '../../data/metadata\\\\Q7152158', '../../data/metadata\\\\Q7152159', '../../data/metadata\\\\Q7152200', '../../data/metadata\\\\Q7152201', '../../data/metadata\\\\Q7152202', '../../data/metadata\\\\Q7152203', '../../data/metadata\\\\Q7152205', '../../data/metadata\\\\Q7152206', '../../data/metadata\\\\Q7152207', '../../data/metadata\\\\Q7152211', '../../data/metadata\\\\Q7172101', '../../data/metadata\\\\Q7172108', '../../data/metadata\\\\Q7172110', '../../data/metadata\\\\Q7172111', '../../data/metadata\\\\Q7172113', '../../data/metadata\\\\Q7172117', '../../data/metadata\\\\Q7172118', '../../data/metadata\\\\Q7172119', '../../data/metadata\\\\Q7172121', '../../data/metadata\\\\Q7172122', '../../data/metadata\\\\Q7172124', '../../data/metadata\\\\Q7172125', '../../data/metadata\\\\Q7172126', '../../data/metadata\\\\Q7172127', '../../data/metadata\\\\Q7172128', '../../data/metadata\\\\Q7172129', '../../data/metadata\\\\Q7172130', '../../data/metadata\\\\Q7172131', '../../data/metadata\\\\Q7172133', '../../data/metadata\\\\Q7172134', '../../data/metadata\\\\Q7172135', '../../data/metadata\\\\Q7172136', '../../data/metadata\\\\Q7172137', '../../data/metadata\\\\Q7172138', '../../data/metadata\\\\Q7172139', '../../data/metadata\\\\Q7172140', '../../data/metadata\\\\Q7172142', '../../data/metadata\\\\Q7172143', '../../data/metadata\\\\Q7172144', '../../data/metadata\\\\Q7172145', '../../data/metadata\\\\Q7172146', '../../data/metadata\\\\Q7172147', '../../data/metadata\\\\Q7172148', '../../data/metadata\\\\Q7172149', '../../data/metadata\\\\Q7172151', '../../data/metadata\\\\Q7172153', '../../data/metadata\\\\Q7172154', '../../data/metadata\\\\Q7172156', '../../data/metadata\\\\Q7172157', '../../data/metadata\\\\Q7172158', '../../data/metadata\\\\Q7172159', '../../data/metadata\\\\Q7172200', '../../data/metadata\\\\Q7172201', '../../data/metadata\\\\Q7172202', '../../data/metadata\\\\Q7172203', '../../data/metadata\\\\Q7172206', '../../data/metadata\\\\Q7172208', '../../data/metadata\\\\Q7172209', '../../data/metadata\\\\Q7182107', '../../data/metadata\\\\Q7182113', '../../data/metadata\\\\Q7182114', '../../data/metadata\\\\Q7182115', '../../data/metadata\\\\Q7182116', '../../data/metadata\\\\Q7182117', '../../data/metadata\\\\Q7182118', '../../data/metadata\\\\Q7182119', '../../data/metadata\\\\Q7182120', '../../data/metadata\\\\Q7182122', '../../data/metadata\\\\Q7182123', '../../data/metadata\\\\Q7182124', '../../data/metadata\\\\Q7182125', '../../data/metadata\\\\Q7182126', '../../data/metadata\\\\Q7182127', '../../data/metadata\\\\Q7182128', '../../data/metadata\\\\Q7182129', '../../data/metadata\\\\Q7182132', '../../data/metadata\\\\Q7182133', '../../data/metadata\\\\Q7182134', '../../data/metadata\\\\Q7182136', '../../data/metadata\\\\Q7182139', '../../data/metadata\\\\Q7182140', '../../data/metadata\\\\Q7182145', '../../data/metadata\\\\Q7182146', '../../data/metadata\\\\Q7182147', '../../data/metadata\\\\Q7182148', '../../data/metadata\\\\Q7182150', '../../data/metadata\\\\Q7182151', '../../data/metadata\\\\Q7182152', '../../data/metadata\\\\Q7182153', '../../data/metadata\\\\Q7182154', '../../data/metadata\\\\Q7182155', '../../data/metadata\\\\Q7182156', '../../data/metadata\\\\Q7182157', '../../data/metadata\\\\Q7182158', '../../data/metadata\\\\Q7182159', '../../data/metadata\\\\Q7182200', '../../data/metadata\\\\Q7182202', '../../data/metadata\\\\Q7182203', '../../data/metadata\\\\Q7182204', '../../data/metadata\\\\Q7182205', '../../data/metadata\\\\Q7182206', '../../data/metadata\\\\Q7182210', '../../data/metadata\\\\Q7182211', '../../data/metadata\\\\Q7182214', '../../data/metadata\\\\Q7182215', '../../data/metadata\\\\Q7182216', '../../data/metadata\\\\Q7182217', '../../data/metadata\\\\Q7202037', '../../data/metadata\\\\Q7202038', '../../data/metadata\\\\Q7202110', '../../data/metadata\\\\Q7202111', '../../data/metadata\\\\Q7202112', '../../data/metadata\\\\Q7202113', '../../data/metadata\\\\Q7202114', '../../data/metadata\\\\Q7202115', '../../data/metadata\\\\Q7202116', '../../data/metadata\\\\Q7202117', '../../data/metadata\\\\Q7202118', '../../data/metadata\\\\Q7202120', '../../data/metadata\\\\Q7202121', '../../data/metadata\\\\Q7202122', '../../data/metadata\\\\Q7202123', '../../data/metadata\\\\Q7202124', '../../data/metadata\\\\Q7202125', '../../data/metadata\\\\Q7202126', '../../data/metadata\\\\Q7202127', '../../data/metadata\\\\Q7202128', '../../data/metadata\\\\Q7202129', '../../data/metadata\\\\Q7202130', '../../data/metadata\\\\Q7202131', '../../data/metadata\\\\Q7202132', '../../data/metadata\\\\Q7202133', '../../data/metadata\\\\Q7202134', '../../data/metadata\\\\Q7202136', '../../data/metadata\\\\Q7202137', '../../data/metadata\\\\Q7202138', '../../data/metadata\\\\Q7202139', '../../data/metadata\\\\Q7202141', '../../data/metadata\\\\Q7202144', '../../data/metadata\\\\Q7202145', '../../data/metadata\\\\Q7202146', '../../data/metadata\\\\Q7202147', '../../data/metadata\\\\Q7202148', '../../data/metadata\\\\Q7202149', '../../data/metadata\\\\Q7202152', '../../data/metadata\\\\Q7202153', '../../data/metadata\\\\Q7202154', '../../data/metadata\\\\Q7202155', '../../data/metadata\\\\Q7202156', '../../data/metadata\\\\Q7202157', '../../data/metadata\\\\Q7202158', '../../data/metadata\\\\Q7202159', '../../data/metadata\\\\Q7202201', '../../data/metadata\\\\Q7202202', '../../data/metadata\\\\Q7202203', '../../data/metadata\\\\Q7202204', '../../data/metadata\\\\Q7202205', '../../data/metadata\\\\Q7202206', '../../data/metadata\\\\Q7202207', '../../data/metadata\\\\Q7202209', '../../data/metadata\\\\Q7202210', '../../data/metadata\\\\Q7202213', '../../data/metadata\\\\Q7202216', '../../data/metadata\\\\Q7202217', '../../data/metadata\\\\Q7202224', '../../data/metadata\\\\Q7202226', '../../data/metadata\\\\Q7202230', '../../data/metadata\\\\Q7212125', '../../data/metadata\\\\Q7212126', '../../data/metadata\\\\Q7212127', '../../data/metadata\\\\Q7212128', '../../data/metadata\\\\Q7212130', '../../data/metadata\\\\Q7212131', '../../data/metadata\\\\Q7212132', '../../data/metadata\\\\Q7212135', '../../data/metadata\\\\Q7212137', '../../data/metadata\\\\Q7212138', '../../data/metadata\\\\Q7212140', '../../data/metadata\\\\Q7212142', '../../data/metadata\\\\Q7212144', '../../data/metadata\\\\Q7212145', '../../data/metadata\\\\Q7212146', '../../data/metadata\\\\Q7212147', '../../data/metadata\\\\Q7212150', '../../data/metadata\\\\Q7212151', '../../data/metadata\\\\Q7212156', '../../data/metadata\\\\Q7212158', '../../data/metadata\\\\Q7212159', '../../data/metadata\\\\Q7212200', '../../data/metadata\\\\Q7212201', '../../data/metadata\\\\Q7212203', '../../data/metadata\\\\Q7212204', '../../data/metadata\\\\Q7212205', '../../data/metadata\\\\Q7212206', '../../data/metadata\\\\Q7212207', '../../data/metadata\\\\Q7222112', '../../data/metadata\\\\Q7222120', '../../data/metadata\\\\Q7222121', '../../data/metadata\\\\Q7222124', '../../data/metadata\\\\Q7222128', '../../data/metadata\\\\Q7222129', '../../data/metadata\\\\Q7222130', '../../data/metadata\\\\Q7222132', '../../data/metadata\\\\Q7222133', '../../data/metadata\\\\Q7222135', '../../data/metadata\\\\Q7222136', '../../data/metadata\\\\Q7222137', '../../data/metadata\\\\Q7222138', '../../data/metadata\\\\Q7222139', '../../data/metadata\\\\Q7222143', '../../data/metadata\\\\Q7222145', '../../data/metadata\\\\Q7222147', '../../data/metadata\\\\Q7222149', '../../data/metadata\\\\Q7222151', '../../data/metadata\\\\Q7222154', '../../data/metadata\\\\Q7222155', '../../data/metadata\\\\Q7222156', '../../data/metadata\\\\Q7222157', '../../data/metadata\\\\Q7222200', '../../data/metadata\\\\Q7222201', '../../data/metadata\\\\Q7222203', '../../data/metadata\\\\Q7222205', '../../data/metadata\\\\Q7232115', '../../data/metadata\\\\Q7232116', '../../data/metadata\\\\Q7232117', '../../data/metadata\\\\Q7232123', '../../data/metadata\\\\Q7232124', '../../data/metadata\\\\Q7232130', '../../data/metadata\\\\Q7232132', '../../data/metadata\\\\Q7232133', '../../data/metadata\\\\Q7232134', '../../data/metadata\\\\Q7232135', '../../data/metadata\\\\Q7232136', '../../data/metadata\\\\Q7232138', '../../data/metadata\\\\Q7232141', '../../data/metadata\\\\Q7232142', '../../data/metadata\\\\Q7232143', '../../data/metadata\\\\Q7232144', '../../data/metadata\\\\Q7232145', '../../data/metadata\\\\Q7232146', '../../data/metadata\\\\Q7232148', '../../data/metadata\\\\Q7232149', '../../data/metadata\\\\Q7232150', '../../data/metadata\\\\Q7232152', '../../data/metadata\\\\Q7232155', '../../data/metadata\\\\Q7232157', '../../data/metadata\\\\Q7232202', '../../data/metadata\\\\Q7232203', '../../data/metadata\\\\Q7232206', '../../data/metadata\\\\Q7232207', '../../data/metadata\\\\Q7232209', '../../data/metadata\\\\Q7242130', '../../data/metadata\\\\Q7242132', '../../data/metadata\\\\Q7242133', '../../data/metadata\\\\Q7242144', '../../data/metadata\\\\Q7242148', '../../data/metadata\\\\Q7242149', '../../data/metadata\\\\Q7242150', '../../data/metadata\\\\Q7242153', '../../data/metadata\\\\Q7242156', '../../data/metadata\\\\Q7242157', '../../data/metadata\\\\Q7242200', '../../data/metadata\\\\Q7242202', '../../data/metadata\\\\Q7242203', '../../data/metadata\\\\Q7242207', '../../data/metadata\\\\Q7242214', '../../data/metadata\\\\Q7242215', '../../data/metadata\\\\Q7242217', '../../data/metadata\\\\Q7242218', '../../data/metadata\\\\Q7242219', '../../data/metadata\\\\Q7242223', '../../data/metadata\\\\Q7242224', '../../data/metadata\\\\Q7242225', '../../data/metadata\\\\Q7242226', '../../data/metadata\\\\Q7242227', '../../data/metadata\\\\Q7242228', '../../data/metadata\\\\Q7252104', '../../data/metadata\\\\Q7252105', '../../data/metadata\\\\Q7252106', '../../data/metadata\\\\Q7252110', '../../data/metadata\\\\Q7252111', '../../data/metadata\\\\Q7252112', '../../data/metadata\\\\Q7252113', '../../data/metadata\\\\Q7252117', '../../data/metadata\\\\Q7252118', '../../data/metadata\\\\Q7252119', '../../data/metadata\\\\Q7252120', '../../data/metadata\\\\Q7252121', '../../data/metadata\\\\Q7252122', '../../data/metadata\\\\Q7252126', '../../data/metadata\\\\Q7252130', '../../data/metadata\\\\Q7252131', '../../data/metadata\\\\Q7252134', '../../data/metadata\\\\Q7252135', '../../data/metadata\\\\Q7252136', '../../data/metadata\\\\Q7252137', '../../data/metadata\\\\Q7252138', '../../data/metadata\\\\Q7252139', '../../data/metadata\\\\Q7252142', '../../data/metadata\\\\Q7252146', '../../data/metadata\\\\Q7252148', '../../data/metadata\\\\Q7252149', '../../data/metadata\\\\Q7252150', '../../data/metadata\\\\Q7252151', '../../data/metadata\\\\Q7252154', '../../data/metadata\\\\Q7252155', '../../data/metadata\\\\Q7252156', '../../data/metadata\\\\Q7252200', '../../data/metadata\\\\Q7252201', '../../data/metadata\\\\Q7252203', '../../data/metadata\\\\Q7252204', '../../data/metadata\\\\Q7252205', '../../data/metadata\\\\Q7252208', '../../data/metadata\\\\Q7262109', '../../data/metadata\\\\Q7262110', '../../data/metadata\\\\Q7262113', '../../data/metadata\\\\Q7262114', '../../data/metadata\\\\Q7262115', '../../data/metadata\\\\Q7262117', '../../data/metadata\\\\Q7262118', '../../data/metadata\\\\Q7262119', '../../data/metadata\\\\Q7262120', '../../data/metadata\\\\Q7262121', '../../data/metadata\\\\Q7262122', '../../data/metadata\\\\Q7262123', '../../data/metadata\\\\Q7262126', '../../data/metadata\\\\Q7262133', '../../data/metadata\\\\Q7262134', '../../data/metadata\\\\Q7262135', '../../data/metadata\\\\Q7262139', '../../data/metadata\\\\Q7262143', '../../data/metadata\\\\Q7262150', '../../data/metadata\\\\Q7262158', '../../data/metadata\\\\Q7262201', '../../data/metadata\\\\Q7262204', '../../data/metadata\\\\Q7272109', '../../data/metadata\\\\Q7272110', '../../data/metadata\\\\Q7272111', '../../data/metadata\\\\Q7272121', '../../data/metadata\\\\Q7272122', '../../data/metadata\\\\Q7272127', '../../data/metadata\\\\Q7272128', '../../data/metadata\\\\Q7272129', '../../data/metadata\\\\Q7272130', '../../data/metadata\\\\Q7272131', '../../data/metadata\\\\Q7272132', '../../data/metadata\\\\Q7272134', '../../data/metadata\\\\Q7272135', '../../data/metadata\\\\Q7272137', '../../data/metadata\\\\Q7272138', '../../data/metadata\\\\Q7272139', '../../data/metadata\\\\Q7272140', '../../data/metadata\\\\Q7272141', '../../data/metadata\\\\Q7272142', '../../data/metadata\\\\Q7272143', '../../data/metadata\\\\Q7272145', '../../data/metadata\\\\Q7272146', '../../data/metadata\\\\Q7272147', '../../data/metadata\\\\Q7272148', '../../data/metadata\\\\Q7272149', '../../data/metadata\\\\Q7272150', '../../data/metadata\\\\Q7272152', '../../data/metadata\\\\Q7272156', '../../data/metadata\\\\Q7272201', '../../data/metadata\\\\Q7272202', '../../data/metadata\\\\Q7272203', '../../data/metadata\\\\Q7272204', '../../data/metadata\\\\Q7272205', '../../data/metadata\\\\Q7272209', '../../data/metadata\\\\Q7272211', '../../data/metadata\\\\Q7272212', '../../data/metadata\\\\Q7272213', '../../data/metadata\\\\Q7272215', '../../data/metadata\\\\Q7282109', '../../data/metadata\\\\Q7282111', '../../data/metadata\\\\Q7282115', '../../data/metadata\\\\Q7282116', '../../data/metadata\\\\Q7282117', '../../data/metadata\\\\Q7282118', '../../data/metadata\\\\Q7282119', '../../data/metadata\\\\Q7282120', '../../data/metadata\\\\Q7282121', '../../data/metadata\\\\Q7282122', '../../data/metadata\\\\Q7282124', '../../data/metadata\\\\Q7282126', '../../data/metadata\\\\Q7282127', '../../data/metadata\\\\Q7282128', '../../data/metadata\\\\Q7282129', '../../data/metadata\\\\Q7282130', '../../data/metadata\\\\Q7282131', '../../data/metadata\\\\Q7282132', '../../data/metadata\\\\Q7282134', '../../data/metadata\\\\Q7282135', '../../data/metadata\\\\Q7282136', '../../data/metadata\\\\Q7282137', '../../data/metadata\\\\Q7282138', '../../data/metadata\\\\Q7282139', '../../data/metadata\\\\Q7282140', '../../data/metadata\\\\Q7282141', '../../data/metadata\\\\Q7282142', '../../data/metadata\\\\Q7282143', '../../data/metadata\\\\Q7282144', '../../data/metadata\\\\Q7282145', '../../data/metadata\\\\Q7282146', '../../data/metadata\\\\Q7282149', '../../data/metadata\\\\Q7282150', '../../data/metadata\\\\Q7282151', '../../data/metadata\\\\Q7282152', '../../data/metadata\\\\Q7282153', '../../data/metadata\\\\Q7282154', '../../data/metadata\\\\Q7282155', '../../data/metadata\\\\Q7282156', '../../data/metadata\\\\Q7282157', '../../data/metadata\\\\Q7282158', '../../data/metadata\\\\Q7282159', '../../data/metadata\\\\Q7282201', '../../data/metadata\\\\Q7282202', '../../data/metadata\\\\Q7282204', '../../data/metadata\\\\Q7282205', '../../data/metadata\\\\Q7282206', '../../data/metadata\\\\Q7282207', '../../data/metadata\\\\Q7282208', '../../data/metadata\\\\Q7282209', '../../data/metadata\\\\Q7282210', '../../data/metadata\\\\Q7282211', '../../data/metadata\\\\Q7282212', '../../data/metadata\\\\Q7302117', '../../data/metadata\\\\Q7302119', '../../data/metadata\\\\Q7302120', '../../data/metadata\\\\Q7302122', '../../data/metadata\\\\Q7302123', '../../data/metadata\\\\Q7302124', '../../data/metadata\\\\Q7302125', '../../data/metadata\\\\Q7302126', '../../data/metadata\\\\Q7302127', '../../data/metadata\\\\Q7302129', '../../data/metadata\\\\Q7302130', '../../data/metadata\\\\Q7302132', '../../data/metadata\\\\Q7302133', '../../data/metadata\\\\Q7302134', '../../data/metadata\\\\Q7302136', '../../data/metadata\\\\Q7302137', '../../data/metadata\\\\Q7302138', '../../data/metadata\\\\Q7302139', '../../data/metadata\\\\Q7302140', '../../data/metadata\\\\Q7302141', '../../data/metadata\\\\Q7302142', '../../data/metadata\\\\Q7302143', '../../data/metadata\\\\Q7302144', '../../data/metadata\\\\Q7302145', '../../data/metadata\\\\Q7302147', '../../data/metadata\\\\Q7302148', '../../data/metadata\\\\Q7302149', '../../data/metadata\\\\Q7302150', '../../data/metadata\\\\Q7302152', '../../data/metadata\\\\Q7302153', '../../data/metadata\\\\Q7302155', '../../data/metadata\\\\Q7302156', '../../data/metadata\\\\Q7302157', '../../data/metadata\\\\Q7302158', '../../data/metadata\\\\Q7302159', '../../data/metadata\\\\Q7302200', '../../data/metadata\\\\Q7302201', '../../data/metadata\\\\Q7302202', '../../data/metadata\\\\Q7302203', '../../data/metadata\\\\Q7302204', '../../data/metadata\\\\Q7302205', '../../data/metadata\\\\Q7302206', '../../data/metadata\\\\Q7302207', '../../data/metadata\\\\Q7302208', '../../data/metadata\\\\Q7302209', '../../data/metadata\\\\Q7302210', '../../data/metadata\\\\Q7302212', '../../data/metadata\\\\Q7302213', '../../data/metadata\\\\Q7302215', '../../data/metadata\\\\Q7302216', '../../data/metadata\\\\R5312042', '../../data/metadata\\\\R5312104', '../../data/metadata\\\\R5312124', '../../data/metadata\\\\R5312129', '../../data/metadata\\\\R5312136', '../../data/metadata\\\\R5312146', '../../data/metadata\\\\R5312150', '../../data/metadata\\\\R5312152', '../../data/metadata\\\\R5312157', '../../data/metadata\\\\R6012105', '../../data/metadata\\\\R6012112', '../../data/metadata\\\\R6012113', '../../data/metadata\\\\R6012115', '../../data/metadata\\\\R6012126', '../../data/metadata\\\\R6012131', '../../data/metadata\\\\R6012132', '../../data/metadata\\\\R6012138', '../../data/metadata\\\\R6012153', '../../data/metadata\\\\R6022104', '../../data/metadata\\\\R6022105', '../../data/metadata\\\\R6022114', '../../data/metadata\\\\R6022131', '../../data/metadata\\\\R6022135', '../../data/metadata\\\\R6022145', '../../data/metadata\\\\R6022148', '../../data/metadata\\\\R6022152', '../../data/metadata\\\\R6032117', '../../data/metadata\\\\R6032122', '../../data/metadata\\\\R6032127', '../../data/metadata\\\\R6032128', '../../data/metadata\\\\R6032151', '../../data/metadata\\\\R6032152', '../../data/metadata\\\\R6032156', '../../data/metadata\\\\R6042108', '../../data/metadata\\\\R6042120', '../../data/metadata\\\\R6042127', '../../data/metadata\\\\R6042133', '../../data/metadata\\\\R6042134', '../../data/metadata\\\\R6042145', '../../data/metadata\\\\R6042147', '../../data/metadata\\\\R6042149', '../../data/metadata\\\\R6042151', '../../data/metadata\\\\R6042155', '../../data/metadata\\\\R6052105', '../../data/metadata\\\\R6052106', '../../data/metadata\\\\R6052107', '../../data/metadata\\\\R6052108', '../../data/metadata\\\\R6052110', '../../data/metadata\\\\R6052114', '../../data/metadata\\\\R6052119', '../../data/metadata\\\\R6052121', '../../data/metadata\\\\R6052122', '../../data/metadata\\\\R6052125', '../../data/metadata\\\\R6052128', '../../data/metadata\\\\R6052129', '../../data/metadata\\\\R6052130', '../../data/metadata\\\\R6052131', '../../data/metadata\\\\R6052133', '../../data/metadata\\\\R6052134', '../../data/metadata\\\\R6052138', '../../data/metadata\\\\R6052139', '../../data/metadata\\\\R6052140', '../../data/metadata\\\\R6052151', '../../data/metadata\\\\R6052153', '../../data/metadata\\\\R6072109', '../../data/metadata\\\\R6072112', '../../data/metadata\\\\R6072113', '../../data/metadata\\\\R6072114', '../../data/metadata\\\\R6072115', '../../data/metadata\\\\R6072117', '../../data/metadata\\\\R6072118', '../../data/metadata\\\\R6072120', '../../data/metadata\\\\R6072122', '../../data/metadata\\\\R6072125', '../../data/metadata\\\\R6072126', '../../data/metadata\\\\R6072129', '../../data/metadata\\\\R6072133', '../../data/metadata\\\\R6072140', '../../data/metadata\\\\R6072203', '../../data/metadata\\\\R6092119', '../../data/metadata\\\\R6092120', '../../data/metadata\\\\R6092121', '../../data/metadata\\\\R6092123', '../../data/metadata\\\\R6092124', '../../data/metadata\\\\R6092127', '../../data/metadata\\\\R6092130', '../../data/metadata\\\\R6092131', '../../data/metadata\\\\R6092133', '../../data/metadata\\\\R6092134', '../../data/metadata\\\\R6092136', '../../data/metadata\\\\R6092137', '../../data/metadata\\\\R6092138', '../../data/metadata\\\\R6092140', '../../data/metadata\\\\R6092141', '../../data/metadata\\\\R6092142', '../../data/metadata\\\\R6092145', '../../data/metadata\\\\R6092149', '../../data/metadata\\\\R6092154', '../../data/metadata\\\\R6092157', '../../data/metadata\\\\R6092158', '../../data/metadata\\\\R6092159', '../../data/metadata\\\\R6092204', '../../data/metadata\\\\R6092210', '../../data/metadata\\\\R6092218', '../../data/metadata\\\\R6092220', '../../data/metadata\\\\R6092222', '../../data/metadata\\\\R6092224', '../../data/metadata\\\\R6092226', '../../data/metadata\\\\R6092227', '../../data/metadata\\\\R6102136', '../../data/metadata\\\\R6102148', '../../data/metadata\\\\R6102149', '../../data/metadata\\\\R6102153', '../../data/metadata\\\\R6102154', '../../data/metadata\\\\R6102155', '../../data/metadata\\\\R6102159', '../../data/metadata\\\\R6102202', '../../data/metadata\\\\R6102203', '../../data/metadata\\\\R6102207', '../../data/metadata\\\\R6102208', '../../data/metadata\\\\R6102210', '../../data/metadata\\\\R6112125', '../../data/metadata\\\\R6112128', '../../data/metadata\\\\R6112140', '../../data/metadata\\\\R6112144', '../../data/metadata\\\\R6112145', '../../data/metadata\\\\R6112148', '../../data/metadata\\\\R6112149', '../../data/metadata\\\\R6112154', '../../data/metadata\\\\R6112157', '../../data/metadata\\\\R6112202', '../../data/metadata\\\\R6112203', '../../data/metadata\\\\R6112204', '../../data/metadata\\\\R6112206', '../../data/metadata\\\\R6112208', '../../data/metadata\\\\R6112210', '../../data/metadata\\\\R6122121', '../../data/metadata\\\\R6122130', '../../data/metadata\\\\R6122132', '../../data/metadata\\\\R6122133', '../../data/metadata\\\\R6122136', '../../data/metadata\\\\R6122138', '../../data/metadata\\\\R6122139', '../../data/metadata\\\\R6122140', '../../data/metadata\\\\R6122142', '../../data/metadata\\\\R6122144', '../../data/metadata\\\\R6122148', '../../data/metadata\\\\R6122149', '../../data/metadata\\\\R6122150', '../../data/metadata\\\\R6122158', '../../data/metadata\\\\R6122204', '../../data/metadata\\\\R6122208', '../../data/metadata\\\\R6122215', '../../data/metadata\\\\R6122221', '../../data/metadata\\\\R6142120', '../../data/metadata\\\\R6142121', '../../data/metadata\\\\R6142123', '../../data/metadata\\\\R6142124', '../../data/metadata\\\\R6142125', '../../data/metadata\\\\R6142127', '../../data/metadata\\\\R6142134', '../../data/metadata\\\\R6142140', '../../data/metadata\\\\R6142142', '../../data/metadata\\\\R6142143', '../../data/metadata\\\\R6142146', '../../data/metadata\\\\R6142151', '../../data/metadata\\\\R6142152', '../../data/metadata\\\\R6142158', '../../data/metadata\\\\R6142201', '../../data/metadata\\\\R6142202', '../../data/metadata\\\\R6142203', '../../data/metadata\\\\R6142207', '../../data/metadata\\\\R6142213', '../../data/metadata\\\\R6152123', '../../data/metadata\\\\R6152124', '../../data/metadata\\\\R6152125', '../../data/metadata\\\\R6152129', '../../data/metadata\\\\R6152131', '../../data/metadata\\\\R6152133', '../../data/metadata\\\\R6152135', '../../data/metadata\\\\R6152136', '../../data/metadata\\\\R6152138', '../../data/metadata\\\\R6152139', '../../data/metadata\\\\R6152140', '../../data/metadata\\\\R6152141', '../../data/metadata\\\\R6152142', '../../data/metadata\\\\R6152148', '../../data/metadata\\\\R6152154', '../../data/metadata\\\\R6152156', '../../data/metadata\\\\R6152158', '../../data/metadata\\\\R6152159', '../../data/metadata\\\\R6152200', '../../data/metadata\\\\R6152202', '../../data/metadata\\\\R6152207', '../../data/metadata\\\\R6152210', '../../data/metadata\\\\R6152212', '../../data/metadata\\\\R6152225', '../../data/metadata\\\\R6152226', '../../data/metadata\\\\R6152227', '../../data/metadata\\\\R6172126', '../../data/metadata\\\\R6172127', '../../data/metadata\\\\R6172128', '../../data/metadata\\\\R6172129', '../../data/metadata\\\\R6172130', '../../data/metadata\\\\R6172131', '../../data/metadata\\\\R6172132', '../../data/metadata\\\\R6172133', '../../data/metadata\\\\R6172134', '../../data/metadata\\\\R6172135', '../../data/metadata\\\\R6172140', '../../data/metadata\\\\R6172142', '../../data/metadata\\\\R6172144', '../../data/metadata\\\\R6172146', '../../data/metadata\\\\R6172147', '../../data/metadata\\\\R6172149', '../../data/metadata\\\\R6172151', '../../data/metadata\\\\R6172152', '../../data/metadata\\\\R6172154', '../../data/metadata\\\\R6172156', '../../data/metadata\\\\R6172158', '../../data/metadata\\\\R6172202', '../../data/metadata\\\\R6172204', '../../data/metadata\\\\R6172205', '../../data/metadata\\\\R6172206', '../../data/metadata\\\\R6172208', '../../data/metadata\\\\R6172209', '../../data/metadata\\\\R6172213', '../../data/metadata\\\\R6172218', '../../data/metadata\\\\R6182129', '../../data/metadata\\\\R6182130', '../../data/metadata\\\\R6182131', '../../data/metadata\\\\R6182132', '../../data/metadata\\\\R6182136', '../../data/metadata\\\\R6182137', '../../data/metadata\\\\R6182138', '../../data/metadata\\\\R6182140', '../../data/metadata\\\\R6182141', '../../data/metadata\\\\R6182142', '../../data/metadata\\\\R6182145', '../../data/metadata\\\\R6182146', '../../data/metadata\\\\R6182147', '../../data/metadata\\\\R6182148', '../../data/metadata\\\\R6182151', '../../data/metadata\\\\R6182156', '../../data/metadata\\\\R6182159', '../../data/metadata\\\\R6182200', '../../data/metadata\\\\R6182201', '../../data/metadata\\\\R6182205', '../../data/metadata\\\\R6182208', '../../data/metadata\\\\R6182209', '../../data/metadata\\\\R6182211', '../../data/metadata\\\\R6182219', '../../data/metadata\\\\R6182223', '../../data/metadata\\\\R6182224', '../../data/metadata\\\\R6182229', '../../data/metadata\\\\R6182232', '../../data/metadata\\\\R6182233', '../../data/metadata\\\\R6192140', '../../data/metadata\\\\R6192141', '../../data/metadata\\\\R6192144', '../../data/metadata\\\\R6192147', '../../data/metadata\\\\R6192148', '../../data/metadata\\\\R6192150', '../../data/metadata\\\\R6192151', '../../data/metadata\\\\R6192152', '../../data/metadata\\\\R6192153', '../../data/metadata\\\\R6192154', '../../data/metadata\\\\R6192156', '../../data/metadata\\\\R6192202', '../../data/metadata\\\\R6192206', '../../data/metadata\\\\R6192207', '../../data/metadata\\\\R6192209', '../../data/metadata\\\\R6192211', '../../data/metadata\\\\R6192214', '../../data/metadata\\\\R6192217', '../../data/metadata\\\\R6192220', '../../data/metadata\\\\R6192221', '../../data/metadata\\\\R6192222', '../../data/metadata\\\\R6192224', '../../data/metadata\\\\R6192226', '../../data/metadata\\\\R6192228', '../../data/metadata\\\\R6192231', '../../data/metadata\\\\R6192233', '../../data/metadata\\\\R6192234', '../../data/metadata\\\\R6192235', '../../data/metadata\\\\R6202144', '../../data/metadata\\\\R6202145', '../../data/metadata\\\\R6202149', '../../data/metadata\\\\R6202151', '../../data/metadata\\\\R6202152', '../../data/metadata\\\\R6202154', '../../data/metadata\\\\R6202155', '../../data/metadata\\\\R6202156', '../../data/metadata\\\\R6202200', '../../data/metadata\\\\R6202209', '../../data/metadata\\\\R6202212', '../../data/metadata\\\\R6202216', '../../data/metadata\\\\R6202218', '../../data/metadata\\\\R6202219', '../../data/metadata\\\\R6202220', '../../data/metadata\\\\R6202225', '../../data/metadata\\\\R6202226', '../../data/metadata\\\\R6202228', '../../data/metadata\\\\R6202230', '../../data/metadata\\\\R6202232', '../../data/metadata\\\\R6202234', '../../data/metadata\\\\R6202238', '../../data/metadata\\\\R6202239', '../../data/metadata\\\\R6212126', '../../data/metadata\\\\R6212128', '../../data/metadata\\\\R6212134', '../../data/metadata\\\\R6212136', '../../data/metadata\\\\R6212137', '../../data/metadata\\\\R6212138', '../../data/metadata\\\\R6212139', '../../data/metadata\\\\R6212140', '../../data/metadata\\\\R6212141', '../../data/metadata\\\\R6212142', '../../data/metadata\\\\R6212143', '../../data/metadata\\\\R6212146', '../../data/metadata\\\\R6212147', '../../data/metadata\\\\R6212148', '../../data/metadata\\\\R6212149', '../../data/metadata\\\\R6212150', '../../data/metadata\\\\R6212151', '../../data/metadata\\\\R6212152', '../../data/metadata\\\\R6212153', '../../data/metadata\\\\R6212154', '../../data/metadata\\\\R6212155', '../../data/metadata\\\\R6212156', '../../data/metadata\\\\R6212157', '../../data/metadata\\\\R6212158', '../../data/metadata\\\\R6212159', '../../data/metadata\\\\R6212200', '../../data/metadata\\\\R6212201', '../../data/metadata\\\\R6212203', '../../data/metadata\\\\R6212204', '../../data/metadata\\\\R6212205', '../../data/metadata\\\\R6212206', '../../data/metadata\\\\R6212207', '../../data/metadata\\\\R6212208', '../../data/metadata\\\\R6212209', '../../data/metadata\\\\R6212210', '../../data/metadata\\\\R6212211', '../../data/metadata\\\\R6212212', '../../data/metadata\\\\R6212213', '../../data/metadata\\\\R6212214', '../../data/metadata\\\\R6212215', '../../data/metadata\\\\R6212216', '../../data/metadata\\\\R6212217', '../../data/metadata\\\\R6212218', '../../data/metadata\\\\R6212219', '../../data/metadata\\\\R6212220', '../../data/metadata\\\\R6212221', '../../data/metadata\\\\R6212222', '../../data/metadata\\\\R6212223', '../../data/metadata\\\\R6212226', '../../data/metadata\\\\R6212231', '../../data/metadata\\\\R6212234', '../../data/metadata\\\\R6212235', '../../data/metadata\\\\R6212236', '../../data/metadata\\\\R6212241', '../../data/metadata\\\\R6222134', '../../data/metadata\\\\R6222135', '../../data/metadata\\\\R6222136', '../../data/metadata\\\\R6222137', '../../data/metadata\\\\R6222138', '../../data/metadata\\\\R6222141', '../../data/metadata\\\\R6222142', '../../data/metadata\\\\R6222148', '../../data/metadata\\\\R6222149', '../../data/metadata\\\\R6222151', '../../data/metadata\\\\R6222153', '../../data/metadata\\\\R6222154', '../../data/metadata\\\\R6222155', '../../data/metadata\\\\R6222156', '../../data/metadata\\\\R6222157', '../../data/metadata\\\\R6222159', '../../data/metadata\\\\R6222200', '../../data/metadata\\\\R6222202', '../../data/metadata\\\\R6222203', '../../data/metadata\\\\R6222208', '../../data/metadata\\\\R6222209', '../../data/metadata\\\\R6232135', '../../data/metadata\\\\R6232140', '../../data/metadata\\\\R6232143', '../../data/metadata\\\\R6232144', '../../data/metadata\\\\R6232145', '../../data/metadata\\\\R6232146', '../../data/metadata\\\\R6232147', '../../data/metadata\\\\R6232148', '../../data/metadata\\\\R6232149', '../../data/metadata\\\\R6232150', '../../data/metadata\\\\R6232151', '../../data/metadata\\\\R6232152', '../../data/metadata\\\\R6232153', '../../data/metadata\\\\R6232154', '../../data/metadata\\\\R6232156', '../../data/metadata\\\\R6232158', '../../data/metadata\\\\R6232159', '../../data/metadata\\\\R6232200', '../../data/metadata\\\\R6232202', '../../data/metadata\\\\R6232204', '../../data/metadata\\\\R6232205', '../../data/metadata\\\\R6232207', '../../data/metadata\\\\R6232208', '../../data/metadata\\\\R6232211', '../../data/metadata\\\\R6232213', '../../data/metadata\\\\R6232214', '../../data/metadata\\\\R6232217', '../../data/metadata\\\\R6232220', '../../data/metadata\\\\R6242136', '../../data/metadata\\\\R6242137', '../../data/metadata\\\\R6242145', '../../data/metadata\\\\R6242146', '../../data/metadata\\\\R6242147', '../../data/metadata\\\\R6242150', '../../data/metadata\\\\R6242152', '../../data/metadata\\\\R6242154', '../../data/metadata\\\\R6242159', '../../data/metadata\\\\R6242200', '../../data/metadata\\\\R6242203', '../../data/metadata\\\\R6242204', '../../data/metadata\\\\R6242205', '../../data/metadata\\\\R6242207', '../../data/metadata\\\\R6242210', '../../data/metadata\\\\R6242211', '../../data/metadata\\\\R6242212', '../../data/metadata\\\\R6242213', '../../data/metadata\\\\R6242214', '../../data/metadata\\\\R6242221', '../../data/metadata\\\\R6242227', '../../data/metadata\\\\R6252133', '../../data/metadata\\\\R6252135', '../../data/metadata\\\\R6252136', '../../data/metadata\\\\R6252140', '../../data/metadata\\\\R6252142', '../../data/metadata\\\\R6252143', '../../data/metadata\\\\R6252145', '../../data/metadata\\\\R6252146', '../../data/metadata\\\\R6252148', '../../data/metadata\\\\R6252149', '../../data/metadata\\\\R6252151', '../../data/metadata\\\\R6252154', '../../data/metadata\\\\R6252158', '../../data/metadata\\\\R6252200', '../../data/metadata\\\\R6252201', '../../data/metadata\\\\R6252205', '../../data/metadata\\\\R6252207', '../../data/metadata\\\\R6252213', '../../data/metadata\\\\R6252214', '../../data/metadata\\\\R6252215', '../../data/metadata\\\\R6252223', '../../data/metadata\\\\R6252226', '../../data/metadata\\\\R6252230', '../../data/metadata\\\\R6252231', '../../data/metadata\\\\R6262135', '../../data/metadata\\\\R6262137', '../../data/metadata\\\\R6262139', '../../data/metadata\\\\R6262140', '../../data/metadata\\\\R6262141', '../../data/metadata\\\\R6262143', '../../data/metadata\\\\R6262144', '../../data/metadata\\\\R6262145', '../../data/metadata\\\\R6262146', '../../data/metadata\\\\R6262149', '../../data/metadata\\\\R6262157', '../../data/metadata\\\\R6262200', '../../data/metadata\\\\R6262202', '../../data/metadata\\\\R6262205', '../../data/metadata\\\\R6262206', '../../data/metadata\\\\R6262207', '../../data/metadata\\\\R6262208', '../../data/metadata\\\\R6262210', '../../data/metadata\\\\R6262222', '../../data/metadata\\\\R6262226', '../../data/metadata\\\\R6262228', '../../data/metadata\\\\R6262229', '../../data/metadata\\\\R6262231', '../../data/metadata\\\\R6262234', '../../data/metadata\\\\R6262235', '../../data/metadata\\\\R6272132', '../../data/metadata\\\\R6272134', '../../data/metadata\\\\R6272136', '../../data/metadata\\\\R6272137', '../../data/metadata\\\\R6272141', '../../data/metadata\\\\R6272144', '../../data/metadata\\\\R6272146', '../../data/metadata\\\\R6272148', '../../data/metadata\\\\R6272149', '../../data/metadata\\\\R6272152', '../../data/metadata\\\\R6272153', '../../data/metadata\\\\R6272154', '../../data/metadata\\\\R6272155', '../../data/metadata\\\\R6272200', '../../data/metadata\\\\R6272201', '../../data/metadata\\\\R6272204', '../../data/metadata\\\\R6272205', '../../data/metadata\\\\R6272206', '../../data/metadata\\\\R6272217', '../../data/metadata\\\\R6272219', '../../data/metadata\\\\R6280133', '../../data/metadata\\\\R6280134', '../../data/metadata\\\\R6280135', '../../data/metadata\\\\R6280137', '../../data/metadata\\\\R6280138', '../../data/metadata\\\\R6280139', '../../data/metadata\\\\R6280140', '../../data/metadata\\\\R6280144', '../../data/metadata\\\\R6280145', '../../data/metadata\\\\R6280146', '../../data/metadata\\\\R6280147', '../../data/metadata\\\\R6280148', '../../data/metadata\\\\R6280149', '../../data/metadata\\\\R6280150', '../../data/metadata\\\\R6280151', '../../data/metadata\\\\R6280152', '../../data/metadata\\\\R6280153', '../../data/metadata\\\\R6280154', '../../data/metadata\\\\R6280156', '../../data/metadata\\\\R6280157', '../../data/metadata\\\\R6280204', '../../data/metadata\\\\R6280212', '../../data/metadata\\\\R6280216', '../../data/metadata\\\\R6280217', '../../data/metadata\\\\R6280221', '../../data/metadata\\\\R6280222', '../../data/metadata\\\\R6282130', '../../data/metadata\\\\R6282131', '../../data/metadata\\\\R6282132', '../../data/metadata\\\\R6282133', '../../data/metadata\\\\R6282134', '../../data/metadata\\\\R6282136', '../../data/metadata\\\\R6282138', '../../data/metadata\\\\R6282139', '../../data/metadata\\\\R6282140', '../../data/metadata\\\\R6282142', '../../data/metadata\\\\R6282143', '../../data/metadata\\\\R6282144', '../../data/metadata\\\\R6282145', '../../data/metadata\\\\R6282146', '../../data/metadata\\\\R6282147', '../../data/metadata\\\\R6282148', '../../data/metadata\\\\R6282149', '../../data/metadata\\\\R6282150', '../../data/metadata\\\\R6282151', '../../data/metadata\\\\R6282152', '../../data/metadata\\\\R6282153', '../../data/metadata\\\\R6282155', '../../data/metadata\\\\R6282156', '../../data/metadata\\\\R6282157', '../../data/metadata\\\\R6282159', '../../data/metadata\\\\R6282201', '../../data/metadata\\\\R6282202', '../../data/metadata\\\\R6282204', '../../data/metadata\\\\R6282205', '../../data/metadata\\\\R6282207', '../../data/metadata\\\\R6282210', '../../data/metadata\\\\R6282213', '../../data/metadata\\\\R6282214', '../../data/metadata\\\\R6282215', '../../data/metadata\\\\R6282217', '../../data/metadata\\\\R6290134', '../../data/metadata\\\\R6290135', '../../data/metadata\\\\R6290136', '../../data/metadata\\\\R6290139', '../../data/metadata\\\\R6290146', '../../data/metadata\\\\R6290147', '../../data/metadata\\\\R6290149', '../../data/metadata\\\\R6290150', '../../data/metadata\\\\R6290151', '../../data/metadata\\\\R6290153', '../../data/metadata\\\\R6290155', '../../data/metadata\\\\R6290156', '../../data/metadata\\\\R6290157', '../../data/metadata\\\\R6290202', '../../data/metadata\\\\R6290205', '../../data/metadata\\\\R6290210', '../../data/metadata\\\\R6290211', '../../data/metadata\\\\R6290218', '../../data/metadata\\\\R6290219', '../../data/metadata\\\\R6290232', '../../data/metadata\\\\R6292120', '../../data/metadata\\\\R6292122', '../../data/metadata\\\\R6292124', '../../data/metadata\\\\R6292125', '../../data/metadata\\\\R6292126', '../../data/metadata\\\\R6292127', '../../data/metadata\\\\R6292130', '../../data/metadata\\\\R6292131', '../../data/metadata\\\\R6292132', '../../data/metadata\\\\R6292133', '../../data/metadata\\\\R6292134', '../../data/metadata\\\\R6292136', '../../data/metadata\\\\R6292137', '../../data/metadata\\\\R6292138', '../../data/metadata\\\\R6292139', '../../data/metadata\\\\R6292140', '../../data/metadata\\\\R6292141', '../../data/metadata\\\\R6292143', '../../data/metadata\\\\R6292144', '../../data/metadata\\\\R6292145', '../../data/metadata\\\\R6292146', '../../data/metadata\\\\R6292147', '../../data/metadata\\\\R6292148', '../../data/metadata\\\\R6292149', '../../data/metadata\\\\R6292150', '../../data/metadata\\\\R6292151', '../../data/metadata\\\\R6292152', '../../data/metadata\\\\R6292153', '../../data/metadata\\\\R6292154', '../../data/metadata\\\\R6292155', '../../data/metadata\\\\R6292156', '../../data/metadata\\\\R6292157', '../../data/metadata\\\\R6292158', '../../data/metadata\\\\R6292159', '../../data/metadata\\\\R6292200', '../../data/metadata\\\\R6292201', '../../data/metadata\\\\R6292202', '../../data/metadata\\\\R6292203', '../../data/metadata\\\\R6292204', '../../data/metadata\\\\R6292205', '../../data/metadata\\\\R6292206', '../../data/metadata\\\\R6292207', '../../data/metadata\\\\R6292208', '../../data/metadata\\\\R6292209', '../../data/metadata\\\\R6292210', '../../data/metadata\\\\R6292211', '../../data/metadata\\\\R6292212', '../../data/metadata\\\\R6292213', '../../data/metadata\\\\R6292214', '../../data/metadata\\\\R6292215', '../../data/metadata\\\\R6292216', '../../data/metadata\\\\R6292217', '../../data/metadata\\\\R6292218', '../../data/metadata\\\\R6292221', '../../data/metadata\\\\R6292222', '../../data/metadata\\\\R6292224', '../../data/metadata\\\\R6292225', '../../data/metadata\\\\R6292231', '../../data/metadata\\\\R6292233', '../../data/metadata\\\\R6292234', '../../data/metadata\\\\R6292237', '../../data/metadata\\\\R6292244', '../../data/metadata\\\\R6292245', '../../data/metadata\\\\R6292247', '../../data/metadata\\\\R6292251', '../../data/metadata\\\\R6292252', '../../data/metadata\\\\R7052119', '../../data/metadata\\\\R7052122', '../../data/metadata\\\\R7052123', '../../data/metadata\\\\R7052129', '../../data/metadata\\\\R7052131', '../../data/metadata\\\\R7052133', '../../data/metadata\\\\R7052134', '../../data/metadata\\\\R7052135', '../../data/metadata\\\\R7052138', '../../data/metadata\\\\R7052141', '../../data/metadata\\\\R7052142', '../../data/metadata\\\\R7052143', '../../data/metadata\\\\R7052144', '../../data/metadata\\\\R7052145', '../../data/metadata\\\\R7052146', '../../data/metadata\\\\R7052147', '../../data/metadata\\\\R7052148', '../../data/metadata\\\\R7052149', '../../data/metadata\\\\R7052154', '../../data/metadata\\\\R7052203', '../../data/metadata\\\\R7052204', '../../data/metadata\\\\R7052205', '../../data/metadata\\\\R7052207', '../../data/metadata\\\\R7052208', '../../data/metadata\\\\R7052211', '../../data/metadata\\\\R7052213', '../../data/metadata\\\\R7052215', '../../data/metadata\\\\R7052220', '../../data/metadata\\\\R7052222', '../../data/metadata\\\\R7062140', '../../data/metadata\\\\R7062143', '../../data/metadata\\\\R7062144', '../../data/metadata\\\\R7062145', '../../data/metadata\\\\R7062147', '../../data/metadata\\\\R7062148', '../../data/metadata\\\\R7062149', '../../data/metadata\\\\R7062150', '../../data/metadata\\\\R7062151', '../../data/metadata\\\\R7062152', '../../data/metadata\\\\R7062153', '../../data/metadata\\\\R7062155', '../../data/metadata\\\\R7062156', '../../data/metadata\\\\R7062158', '../../data/metadata\\\\R7062159', '../../data/metadata\\\\R7062204', '../../data/metadata\\\\R7062205', '../../data/metadata\\\\R7062206', '../../data/metadata\\\\R7062207', '../../data/metadata\\\\R7062208', '../../data/metadata\\\\R7062209', '../../data/metadata\\\\R7062210', '../../data/metadata\\\\R7062211', '../../data/metadata\\\\R7062212', '../../data/metadata\\\\R7062213', '../../data/metadata\\\\R7062216', '../../data/metadata\\\\R7062217', '../../data/metadata\\\\R7062220', '../../data/metadata\\\\R7062221', '../../data/metadata\\\\R7062223', '../../data/metadata\\\\R7062224', '../../data/metadata\\\\R7062227', '../../data/metadata\\\\R7062228', '../../data/metadata\\\\R7062229', '../../data/metadata\\\\R7062231', '../../data/metadata\\\\R7062234', '../../data/metadata\\\\R7062235', '../../data/metadata\\\\R7092113', '../../data/metadata\\\\R7092115', '../../data/metadata\\\\R7092116', '../../data/metadata\\\\R7092117', '../../data/metadata\\\\R7092118', '../../data/metadata\\\\R7092119', '../../data/metadata\\\\R7092124', '../../data/metadata\\\\R7092125', '../../data/metadata\\\\R7092126', '../../data/metadata\\\\R7092128', '../../data/metadata\\\\R7092129', '../../data/metadata\\\\R7092130', '../../data/metadata\\\\R7092131', '../../data/metadata\\\\R7092134', '../../data/metadata\\\\R7092135', '../../data/metadata\\\\R7092137', '../../data/metadata\\\\R7092138', '../../data/metadata\\\\R7092139', '../../data/metadata\\\\R7092140', '../../data/metadata\\\\R7092141', '../../data/metadata\\\\R7092142', '../../data/metadata\\\\R7092143', '../../data/metadata\\\\R7092144', '../../data/metadata\\\\R7092145', '../../data/metadata\\\\R7092146', '../../data/metadata\\\\R7092147', '../../data/metadata\\\\R7092148', '../../data/metadata\\\\R7092151', '../../data/metadata\\\\R7092152', '../../data/metadata\\\\R7092153', '../../data/metadata\\\\R7092155', '../../data/metadata\\\\R7092156', '../../data/metadata\\\\R7092158', '../../data/metadata\\\\R7092200', '../../data/metadata\\\\R7092201', '../../data/metadata\\\\R7092204', '../../data/metadata\\\\R7092208', '../../data/metadata\\\\R7092210', '../../data/metadata\\\\R7092211', '../../data/metadata\\\\R7102130', '../../data/metadata\\\\R7102134', '../../data/metadata\\\\R7102135', '../../data/metadata\\\\R7102136', '../../data/metadata\\\\R7102137', '../../data/metadata\\\\R7102138', '../../data/metadata\\\\R7102147', '../../data/metadata\\\\R7102148', '../../data/metadata\\\\R7102150', '../../data/metadata\\\\R7102151', '../../data/metadata\\\\R7102156', '../../data/metadata\\\\R7102158', '../../data/metadata\\\\R7102159', '../../data/metadata\\\\R7102200', '../../data/metadata\\\\R7102202', '../../data/metadata\\\\R7102205', '../../data/metadata\\\\R7102209', '../../data/metadata\\\\R7102210', '../../data/metadata\\\\R7102213', '../../data/metadata\\\\R7102214', '../../data/metadata\\\\R7102218', '../../data/metadata\\\\R7112059', '../../data/metadata\\\\R7112101', '../../data/metadata\\\\R7112103', '../../data/metadata\\\\R7112107', '../../data/metadata\\\\R7112108', '../../data/metadata\\\\R7112109', '../../data/metadata\\\\R7112110', '../../data/metadata\\\\R7112115', '../../data/metadata\\\\R7112116', '../../data/metadata\\\\R7112117', '../../data/metadata\\\\R7112118', '../../data/metadata\\\\R7112119', '../../data/metadata\\\\R7112120', '../../data/metadata\\\\R7112122', '../../data/metadata\\\\R7112123', '../../data/metadata\\\\R7112124', '../../data/metadata\\\\R7112125', '../../data/metadata\\\\R7112126', '../../data/metadata\\\\R7112127', '../../data/metadata\\\\R7112128', '../../data/metadata\\\\R7112129', '../../data/metadata\\\\R7112130', '../../data/metadata\\\\R7112131', '../../data/metadata\\\\R7112132', '../../data/metadata\\\\R7112135', '../../data/metadata\\\\R7112137', '../../data/metadata\\\\R7112138', '../../data/metadata\\\\R7112139', '../../data/metadata\\\\R7112140', '../../data/metadata\\\\R7112141', '../../data/metadata\\\\R7112142', '../../data/metadata\\\\R7112143', '../../data/metadata\\\\R7112144', '../../data/metadata\\\\R7112145', '../../data/metadata\\\\R7112146', '../../data/metadata\\\\R7112147', '../../data/metadata\\\\R7112148', '../../data/metadata\\\\R7112149', '../../data/metadata\\\\R7112150', '../../data/metadata\\\\R7112151', '../../data/metadata\\\\R7112152', '../../data/metadata\\\\R7112154', '../../data/metadata\\\\R7112155', '../../data/metadata\\\\R7112157', '../../data/metadata\\\\R7112158', '../../data/metadata\\\\R7112202', '../../data/metadata\\\\R7112208', '../../data/metadata\\\\R7112209', '../../data/metadata\\\\R7112210', '../../data/metadata\\\\R7112214', '../../data/metadata\\\\R7112217', '../../data/metadata\\\\R7112219', '../../data/metadata\\\\R7112220', '../../data/metadata\\\\R7122103', '../../data/metadata\\\\R7122113', '../../data/metadata\\\\R7122114', '../../data/metadata\\\\R7122115', '../../data/metadata\\\\R7122118', '../../data/metadata\\\\R7122119', '../../data/metadata\\\\R7122120', '../../data/metadata\\\\R7122121', '../../data/metadata\\\\R7122122', '../../data/metadata\\\\R7122123', '../../data/metadata\\\\R7122124', '../../data/metadata\\\\R7122125', '../../data/metadata\\\\R7122126', '../../data/metadata\\\\R7122127', '../../data/metadata\\\\R7122134', '../../data/metadata\\\\R7122135', '../../data/metadata\\\\R7122136', '../../data/metadata\\\\R7122139', '../../data/metadata\\\\R7122141', '../../data/metadata\\\\R7122143', '../../data/metadata\\\\R7122145', '../../data/metadata\\\\R7122146', '../../data/metadata\\\\R7122147', '../../data/metadata\\\\R7122149', '../../data/metadata\\\\R7122152', '../../data/metadata\\\\R7122153', '../../data/metadata\\\\R7122154', '../../data/metadata\\\\R7122155', '../../data/metadata\\\\R7122156', '../../data/metadata\\\\R7122157', '../../data/metadata\\\\R7122158', '../../data/metadata\\\\R7122201', '../../data/metadata\\\\R7122203', '../../data/metadata\\\\R7122204', '../../data/metadata\\\\R7122213', '../../data/metadata\\\\R7122215', '../../data/metadata\\\\R7122216', '../../data/metadata\\\\R7122220', '../../data/metadata\\\\R7122224', '../../data/metadata\\\\R7122226', '../../data/metadata\\\\R7122227', '../../data/metadata\\\\R7132115', '../../data/metadata\\\\R7132118', '../../data/metadata\\\\R7132119', '../../data/metadata\\\\R7132120', '../../data/metadata\\\\R7132121', '../../data/metadata\\\\R7132122', '../../data/metadata\\\\R7132123', '../../data/metadata\\\\R7132124', '../../data/metadata\\\\R7132126', '../../data/metadata\\\\R7132129', '../../data/metadata\\\\R7132130', '../../data/metadata\\\\R7132131', '../../data/metadata\\\\R7132132', '../../data/metadata\\\\R7132133', '../../data/metadata\\\\R7132134', '../../data/metadata\\\\R7132135', '../../data/metadata\\\\R7132136', '../../data/metadata\\\\R7132137', '../../data/metadata\\\\R7132138', '../../data/metadata\\\\R7132139', '../../data/metadata\\\\R7132140', '../../data/metadata\\\\R7132142', '../../data/metadata\\\\R7132143', '../../data/metadata\\\\R7132144', '../../data/metadata\\\\R7132146', '../../data/metadata\\\\R7132147', '../../data/metadata\\\\R7132149', '../../data/metadata\\\\R7132150', '../../data/metadata\\\\R7132151', '../../data/metadata\\\\R7132154', '../../data/metadata\\\\R7132156', '../../data/metadata\\\\R7132157', '../../data/metadata\\\\R7132158', '../../data/metadata\\\\R7132201', '../../data/metadata\\\\R7132202', '../../data/metadata\\\\R7132207', '../../data/metadata\\\\R7132208', '../../data/metadata\\\\R7132212', '../../data/metadata\\\\R7132214', '../../data/metadata\\\\R7132215', '../../data/metadata\\\\R7132219', '../../data/metadata\\\\R7142112', '../../data/metadata\\\\R7142114', '../../data/metadata\\\\R7142115', '../../data/metadata\\\\R7142117', '../../data/metadata\\\\R7142120', '../../data/metadata\\\\R7142121', '../../data/metadata\\\\R7142123', '../../data/metadata\\\\R7142126', '../../data/metadata\\\\R7142128', '../../data/metadata\\\\R7142129', '../../data/metadata\\\\R7142130', '../../data/metadata\\\\R7142133', '../../data/metadata\\\\R7142136', '../../data/metadata\\\\R7142137', '../../data/metadata\\\\R7142138', '../../data/metadata\\\\R7142140', '../../data/metadata\\\\R7142141', '../../data/metadata\\\\R7142143', '../../data/metadata\\\\R7142146', '../../data/metadata\\\\R7142147', '../../data/metadata\\\\R7142148', '../../data/metadata\\\\R7142149', '../../data/metadata\\\\R7142150', '../../data/metadata\\\\R7142151', '../../data/metadata\\\\R7142152', '../../data/metadata\\\\R7142153', '../../data/metadata\\\\R7142154', '../../data/metadata\\\\R7142158', '../../data/metadata\\\\R7142159', '../../data/metadata\\\\R7142201', '../../data/metadata\\\\R7142202', '../../data/metadata\\\\R7142203', '../../data/metadata\\\\R7142204', '../../data/metadata\\\\R7142206', '../../data/metadata\\\\R7142207', '../../data/metadata\\\\R7142209', '../../data/metadata\\\\R7152119', '../../data/metadata\\\\R7152120', '../../data/metadata\\\\R7152122', '../../data/metadata\\\\R7152123', '../../data/metadata\\\\R7152126', '../../data/metadata\\\\R7152127', '../../data/metadata\\\\R7152130', '../../data/metadata\\\\R7152131', '../../data/metadata\\\\R7152132', '../../data/metadata\\\\R7152133', '../../data/metadata\\\\R7152134', '../../data/metadata\\\\R7152138', '../../data/metadata\\\\R7152139', '../../data/metadata\\\\R7152141', '../../data/metadata\\\\R7152144', '../../data/metadata\\\\R7152145', '../../data/metadata\\\\R7152146', '../../data/metadata\\\\R7152147', '../../data/metadata\\\\R7152149', '../../data/metadata\\\\R7152150', '../../data/metadata\\\\R7152155', '../../data/metadata\\\\R7152200', '../../data/metadata\\\\R7152204', '../../data/metadata\\\\R7152205', '../../data/metadata\\\\R7152206', '../../data/metadata\\\\R7152207', '../../data/metadata\\\\R7152208', '../../data/metadata\\\\R7152210', '../../data/metadata\\\\R7162122', '../../data/metadata\\\\R7162123', '../../data/metadata\\\\R7162126', '../../data/metadata\\\\R7162129', '../../data/metadata\\\\R7162130', '../../data/metadata\\\\R7162138', '../../data/metadata\\\\R7162140', '../../data/metadata\\\\R7162141', '../../data/metadata\\\\R7162142', '../../data/metadata\\\\R7162143', '../../data/metadata\\\\R7162146', '../../data/metadata\\\\R7162151', '../../data/metadata\\\\R7162155', '../../data/metadata\\\\R7162156', '../../data/metadata\\\\R7162157', '../../data/metadata\\\\R7162158', '../../data/metadata\\\\R7162201', '../../data/metadata\\\\R7162202', '../../data/metadata\\\\R7162205', '../../data/metadata\\\\R7162206', '../../data/metadata\\\\R7162209', '../../data/metadata\\\\R7162210', '../../data/metadata\\\\R7162211', '../../data/metadata\\\\R7162212', '../../data/metadata\\\\r7172115', '../../data/metadata\\\\r7172116', '../../data/metadata\\\\R7172118', '../../data/metadata\\\\R7172119', '../../data/metadata\\\\R7172125', '../../data/metadata\\\\R7172131', '../../data/metadata\\\\R7172132', '../../data/metadata\\\\R7172133', '../../data/metadata\\\\R7172134', '../../data/metadata\\\\R7172135', '../../data/metadata\\\\R7172136', '../../data/metadata\\\\R7172137', '../../data/metadata\\\\R7172138', '../../data/metadata\\\\R7172139', '../../data/metadata\\\\R7172141', '../../data/metadata\\\\R7172145', '../../data/metadata\\\\R7172148', '../../data/metadata\\\\R7172149', '../../data/metadata\\\\R7172150', '../../data/metadata\\\\R7172151', '../../data/metadata\\\\R7172152', '../../data/metadata\\\\R7172153', '../../data/metadata\\\\R7172154', '../../data/metadata\\\\R7172155', '../../data/metadata\\\\R7172157', '../../data/metadata\\\\R7172200', '../../data/metadata\\\\R7172202', '../../data/metadata\\\\R7172203', '../../data/metadata\\\\R7172205', '../../data/metadata\\\\R7172206', '../../data/metadata\\\\R7172207', '../../data/metadata\\\\R7172208', '../../data/metadata\\\\R7182131', '../../data/metadata\\\\R7182132', '../../data/metadata\\\\R7182133', '../../data/metadata\\\\R7182135', '../../data/metadata\\\\R7182138', '../../data/metadata\\\\R7182143', '../../data/metadata\\\\R7182147', '../../data/metadata\\\\R7182150', '../../data/metadata\\\\R7182151', '../../data/metadata\\\\R7182152', '../../data/metadata\\\\R7182153', '../../data/metadata\\\\R7182155', '../../data/metadata\\\\R7182158', '../../data/metadata\\\\R7182201', '../../data/metadata\\\\R7182202', '../../data/metadata\\\\R7182208', '../../data/metadata\\\\R7182209', '../../data/metadata\\\\R7182210', '../../data/metadata\\\\R7182211', '../../data/metadata\\\\R7182217', '../../data/metadata\\\\R7182218', '../../data/metadata\\\\R7182219', '../../data/metadata\\\\R7182221', '../../data/metadata\\\\R7182224', '../../data/metadata\\\\R7182231', '../../data/metadata\\\\R7182232', '../../data/metadata\\\\R7182234', '../../data/metadata\\\\R7192117', '../../data/metadata\\\\R7192118', '../../data/metadata\\\\R7192119', '../../data/metadata\\\\R7192120', '../../data/metadata\\\\R7192122', '../../data/metadata\\\\R7192123', '../../data/metadata\\\\R7192124', '../../data/metadata\\\\R7192125', '../../data/metadata\\\\R7192126', '../../data/metadata\\\\R7192127', '../../data/metadata\\\\R7192128', '../../data/metadata\\\\R7192129', '../../data/metadata\\\\R7192130', '../../data/metadata\\\\R7192131', '../../data/metadata\\\\R7192132', '../../data/metadata\\\\R7192134', '../../data/metadata\\\\R7192135', '../../data/metadata\\\\R7192136', '../../data/metadata\\\\R7192137', '../../data/metadata\\\\R7192138', '../../data/metadata\\\\R7192139', '../../data/metadata\\\\R7192141', '../../data/metadata\\\\R7192143', '../../data/metadata\\\\R7192144', '../../data/metadata\\\\R7192147', '../../data/metadata\\\\R7192148', '../../data/metadata\\\\R7192149', '../../data/metadata\\\\R7192150', '../../data/metadata\\\\R7192151', '../../data/metadata\\\\R7192154', '../../data/metadata\\\\R7192156', '../../data/metadata\\\\R7192158', '../../data/metadata\\\\R7192159', '../../data/metadata\\\\R7192201', '../../data/metadata\\\\R7192202', '../../data/metadata\\\\R7192205', '../../data/metadata\\\\R7192207', '../../data/metadata\\\\R7192208', '../../data/metadata\\\\R7192209', '../../data/metadata\\\\R7202105', '../../data/metadata\\\\R7202122', '../../data/metadata\\\\R7202123', '../../data/metadata\\\\R7202126', '../../data/metadata\\\\R7202127', '../../data/metadata\\\\R7202128', '../../data/metadata\\\\R7202129', '../../data/metadata\\\\R7202130', '../../data/metadata\\\\R7202131', '../../data/metadata\\\\R7202132', '../../data/metadata\\\\R7202133', '../../data/metadata\\\\R7202134', '../../data/metadata\\\\R7202135', '../../data/metadata\\\\R7202136', '../../data/metadata\\\\R7202137', '../../data/metadata\\\\R7202139', '../../data/metadata\\\\R7202140', '../../data/metadata\\\\R7202142', '../../data/metadata\\\\R7202143', '../../data/metadata\\\\R7202144', '../../data/metadata\\\\R7202145', '../../data/metadata\\\\R7202146', '../../data/metadata\\\\R7202147', '../../data/metadata\\\\R7202148', '../../data/metadata\\\\R7202149', '../../data/metadata\\\\R7202150', '../../data/metadata\\\\R7202151', '../../data/metadata\\\\R7202152', '../../data/metadata\\\\R7202153', '../../data/metadata\\\\R7202154', '../../data/metadata\\\\R7202155', '../../data/metadata\\\\R7202156', '../../data/metadata\\\\R7202157', '../../data/metadata\\\\R7202158', '../../data/metadata\\\\R7202200', '../../data/metadata\\\\R7202201', '../../data/metadata\\\\R7202202', '../../data/metadata\\\\R7202204', '../../data/metadata\\\\R7202205', '../../data/metadata\\\\R7202206', '../../data/metadata\\\\R7202207', '../../data/metadata\\\\R7202208', '../../data/metadata\\\\R7202210', '../../data/metadata\\\\R7202211', '../../data/metadata\\\\R7202212', '../../data/metadata\\\\R7202213', '../../data/metadata\\\\R7202215', '../../data/metadata\\\\R7202216', '../../data/metadata\\\\R7202218', '../../data/metadata\\\\R7202219', '../../data/metadata\\\\R7202221', '../../data/metadata\\\\R7202222', '../../data/metadata\\\\R7202223', '../../data/metadata\\\\R7202225', '../../data/metadata\\\\R7202227', '../../data/metadata\\\\R7202228', '../../data/metadata\\\\R7202229', '../../data/metadata\\\\R7202230', '../../data/metadata\\\\R7202231', '../../data/metadata\\\\R7202233', '../../data/metadata\\\\R7202234', '../../data/metadata\\\\R7202235', '../../data/metadata\\\\R7202236', '../../data/metadata\\\\R7202237', '../../data/metadata\\\\R7202238', '../../data/metadata\\\\R7202240', '../../data/metadata\\\\R7202244', '../../data/metadata\\\\R7212148', '../../data/metadata\\\\R7212149', '../../data/metadata\\\\R7212211', '../../data/metadata\\\\R7212212', '../../data/metadata\\\\R7212213', '../../data/metadata\\\\R7212214', '../../data/metadata\\\\R7212215', '../../data/metadata\\\\R7212216', '../../data/metadata\\\\R7212218', '../../data/metadata\\\\R7212220', '../../data/metadata\\\\R7212222', '../../data/metadata\\\\R7212224', '../../data/metadata\\\\R7212225', '../../data/metadata\\\\R7212227', '../../data/metadata\\\\R7212230', '../../data/metadata\\\\R7212231', '../../data/metadata\\\\R7212234', '../../data/metadata\\\\R7212238', '../../data/metadata\\\\R7212239', '../../data/metadata\\\\R7212241', '../../data/metadata\\\\R7212242', '../../data/metadata\\\\R7212243', '../../data/metadata\\\\R7212246', '../../data/metadata\\\\R7212251', '../../data/metadata\\\\R7212252', '../../data/metadata\\\\R7212253', '../../data/metadata\\\\R7212254', '../../data/metadata\\\\R7212255', '../../data/metadata\\\\R7212300', '../../data/metadata\\\\R7212301', '../../data/metadata\\\\R7212302', '../../data/metadata\\\\R7212303', '../../data/metadata\\\\R7212304', '../../data/metadata\\\\R7212305', '../../data/metadata\\\\R7222110', '../../data/metadata\\\\R7222115', '../../data/metadata\\\\R7222116', '../../data/metadata\\\\R7222117', '../../data/metadata\\\\R7222118', '../../data/metadata\\\\R7222119', '../../data/metadata\\\\R7222120', '../../data/metadata\\\\R7222121', '../../data/metadata\\\\R7222122', '../../data/metadata\\\\R7222123', '../../data/metadata\\\\R7222124', '../../data/metadata\\\\R7222127', '../../data/metadata\\\\R7222128', '../../data/metadata\\\\R7222129', '../../data/metadata\\\\R7222130', '../../data/metadata\\\\R7222131', '../../data/metadata\\\\R7222132', '../../data/metadata\\\\R7222133', '../../data/metadata\\\\R7222134', '../../data/metadata\\\\R7222135', '../../data/metadata\\\\R7222136', '../../data/metadata\\\\R7222137', '../../data/metadata\\\\R7222138', '../../data/metadata\\\\R7222139', '../../data/metadata\\\\R7222140', '../../data/metadata\\\\R7222141', '../../data/metadata\\\\R7222142', '../../data/metadata\\\\R7222143', '../../data/metadata\\\\R7222144', '../../data/metadata\\\\R7222145', '../../data/metadata\\\\R7222146', '../../data/metadata\\\\R7222147', '../../data/metadata\\\\R7222148', '../../data/metadata\\\\R7222151', '../../data/metadata\\\\R7222153', '../../data/metadata\\\\R7222154', '../../data/metadata\\\\R7222155', '../../data/metadata\\\\R7222156', '../../data/metadata\\\\R7222157', '../../data/metadata\\\\R7222158', '../../data/metadata\\\\R7222159', '../../data/metadata\\\\R7222200', '../../data/metadata\\\\R7222201', '../../data/metadata\\\\R7222202', '../../data/metadata\\\\R7222203', '../../data/metadata\\\\R7222204', '../../data/metadata\\\\R7222205', '../../data/metadata\\\\R7222206', '../../data/metadata\\\\R7222207', '../../data/metadata\\\\R7222209', '../../data/metadata\\\\R7222213', '../../data/metadata\\\\R7222215', '../../data/metadata\\\\R7222217', '../../data/metadata\\\\R7222219', '../../data/metadata\\\\R7222221', '../../data/metadata\\\\R7222222', '../../data/metadata\\\\R7222223', '../../data/metadata\\\\R7222224', '../../data/metadata\\\\R7232046', '../../data/metadata\\\\R7232047', '../../data/metadata\\\\R7232109', '../../data/metadata\\\\R7232110', '../../data/metadata\\\\R7232111', '../../data/metadata\\\\R7232112', '../../data/metadata\\\\R7232113', '../../data/metadata\\\\R7232114', '../../data/metadata\\\\R7232115', '../../data/metadata\\\\R7232116', '../../data/metadata\\\\R7232117', '../../data/metadata\\\\R7232118', '../../data/metadata\\\\R7232119', '../../data/metadata\\\\R7232120', '../../data/metadata\\\\R7232121', '../../data/metadata\\\\R7232122', '../../data/metadata\\\\R7232123', '../../data/metadata\\\\R7232124', '../../data/metadata\\\\R7232128', '../../data/metadata\\\\R7232130', '../../data/metadata\\\\R7232131', '../../data/metadata\\\\R7232132', '../../data/metadata\\\\R7232133', '../../data/metadata\\\\R7232134', '../../data/metadata\\\\R7232135', '../../data/metadata\\\\R7232136', '../../data/metadata\\\\R7232137', '../../data/metadata\\\\R7232138', '../../data/metadata\\\\R7232139', '../../data/metadata\\\\R7232140', '../../data/metadata\\\\R7232141', '../../data/metadata\\\\R7232142', '../../data/metadata\\\\R7232143', '../../data/metadata\\\\R7232144', '../../data/metadata\\\\R7232145', '../../data/metadata\\\\R7232146', '../../data/metadata\\\\R7232148', '../../data/metadata\\\\R7232149', '../../data/metadata\\\\R7232150', '../../data/metadata\\\\R7232151', '../../data/metadata\\\\R7232152', '../../data/metadata\\\\R7232153', '../../data/metadata\\\\R7232154', '../../data/metadata\\\\R7232155', '../../data/metadata\\\\R7232156', '../../data/metadata\\\\R7232157', '../../data/metadata\\\\R7232158', '../../data/metadata\\\\R7232159', '../../data/metadata\\\\R7232200', '../../data/metadata\\\\R7232201', '../../data/metadata\\\\R7232202', '../../data/metadata\\\\R7232203', '../../data/metadata\\\\R7232204', '../../data/metadata\\\\R7232205', '../../data/metadata\\\\R7232206', '../../data/metadata\\\\R7232207', '../../data/metadata\\\\R7232208', '../../data/metadata\\\\R7232209', '../../data/metadata\\\\R7232210', '../../data/metadata\\\\R7232211', '../../data/metadata\\\\R7232212', '../../data/metadata\\\\R7232214', '../../data/metadata\\\\R7232215', '../../data/metadata\\\\R7232216', '../../data/metadata\\\\R7232218', '../../data/metadata\\\\R7232219', '../../data/metadata\\\\R7232220', '../../data/metadata\\\\R7232221', '../../data/metadata\\\\R7232222', '../../data/metadata\\\\R7232223', '../../data/metadata\\\\R7232224', '../../data/metadata\\\\R7232225', '../../data/metadata\\\\R7232226', '../../data/metadata\\\\R7252111', '../../data/metadata\\\\R7252112', '../../data/metadata\\\\R7252113', '../../data/metadata\\\\R7252114', '../../data/metadata\\\\R7252115', '../../data/metadata\\\\R7252116', '../../data/metadata\\\\R7252117', '../../data/metadata\\\\R7252118', '../../data/metadata\\\\R7252119', '../../data/metadata\\\\R7252120', '../../data/metadata\\\\R7252121', '../../data/metadata\\\\R7252122', '../../data/metadata\\\\R7252123', '../../data/metadata\\\\R7252124', '../../data/metadata\\\\R7252125', '../../data/metadata\\\\R7252126', '../../data/metadata\\\\R7252127', '../../data/metadata\\\\R7252128', '../../data/metadata\\\\R7252129', '../../data/metadata\\\\R7252130', '../../data/metadata\\\\R7252131', '../../data/metadata\\\\R7252132', '../../data/metadata\\\\R7252133', '../../data/metadata\\\\R7252134', '../../data/metadata\\\\R7252135', '../../data/metadata\\\\R7252136', '../../data/metadata\\\\R7252137', '../../data/metadata\\\\R7252138', '../../data/metadata\\\\R7252140', '../../data/metadata\\\\R7252141', '../../data/metadata\\\\R7252142', '../../data/metadata\\\\R7252143', '../../data/metadata\\\\R7252144', '../../data/metadata\\\\R7252145', '../../data/metadata\\\\R7252146', '../../data/metadata\\\\R7252147', '../../data/metadata\\\\R7252148', '../../data/metadata\\\\R7252149', '../../data/metadata\\\\R7252150', '../../data/metadata\\\\R7252151', '../../data/metadata\\\\R7252152', '../../data/metadata\\\\R7252153', '../../data/metadata\\\\R7252155', '../../data/metadata\\\\R7252157', '../../data/metadata\\\\R7252158', '../../data/metadata\\\\R7252159', '../../data/metadata\\\\R7252200', '../../data/metadata\\\\R7252201', '../../data/metadata\\\\R7252202', '../../data/metadata\\\\R7252204', '../../data/metadata\\\\R7252207', '../../data/metadata\\\\R7252209', '../../data/metadata\\\\R7262121', '../../data/metadata\\\\R7262122', '../../data/metadata\\\\R7262123', '../../data/metadata\\\\R7262124', '../../data/metadata\\\\R7262125', '../../data/metadata\\\\R7262126', '../../data/metadata\\\\R7262127', '../../data/metadata\\\\R7262128', '../../data/metadata\\\\R7262129', '../../data/metadata\\\\R7262130', '../../data/metadata\\\\R7262131', '../../data/metadata\\\\r7262132', '../../data/metadata\\\\R7262133', '../../data/metadata\\\\R7262134', '../../data/metadata\\\\R7262135', '../../data/metadata\\\\R7262136', '../../data/metadata\\\\R7262137', '../../data/metadata\\\\R7262138', '../../data/metadata\\\\R7262139', '../../data/metadata\\\\R7262140', '../../data/metadata\\\\R7262141', '../../data/metadata\\\\R7262142', '../../data/metadata\\\\R7262143', '../../data/metadata\\\\R7262144', '../../data/metadata\\\\R7262145', '../../data/metadata\\\\R7262146', '../../data/metadata\\\\R7262147', '../../data/metadata\\\\R7262148', '../../data/metadata\\\\R7262149', '../../data/metadata\\\\R7262150', '../../data/metadata\\\\R7262151', '../../data/metadata\\\\R7262152', '../../data/metadata\\\\R7262153', '../../data/metadata\\\\R7262154', '../../data/metadata\\\\R7262155', '../../data/metadata\\\\R7262156', '../../data/metadata\\\\R7262157', '../../data/metadata\\\\R7262158', '../../data/metadata\\\\R7262159', '../../data/metadata\\\\R7262200', '../../data/metadata\\\\R7262201', '../../data/metadata\\\\R7262202', '../../data/metadata\\\\R7262203', '../../data/metadata\\\\r7262204', '../../data/metadata\\\\R7262205', '../../data/metadata\\\\R7262206', '../../data/metadata\\\\R7262207', '../../data/metadata\\\\R7262208', '../../data/metadata\\\\R7262209', '../../data/metadata\\\\R7262210', '../../data/metadata\\\\R7262211', '../../data/metadata\\\\R7262212', '../../data/metadata\\\\R7262213', '../../data/metadata\\\\r7262214', '../../data/metadata\\\\R7262215', '../../data/metadata\\\\R7262216', '../../data/metadata\\\\R7262217', '../../data/metadata\\\\R7262218', '../../data/metadata\\\\R7262219', '../../data/metadata\\\\R7262220', '../../data/metadata\\\\R7262221', '../../data/metadata\\\\R7262223', '../../data/metadata\\\\R7262226', '../../data/metadata\\\\R7262227', '../../data/metadata\\\\R7272121', '../../data/metadata\\\\R7272122', '../../data/metadata\\\\R7272123', '../../data/metadata\\\\R7272124', '../../data/metadata\\\\R7272125', '../../data/metadata\\\\R7272126', '../../data/metadata\\\\R7272127', '../../data/metadata\\\\R7272129', '../../data/metadata\\\\R7272130', '../../data/metadata\\\\R7272131', '../../data/metadata\\\\R7272132', '../../data/metadata\\\\R7272133', '../../data/metadata\\\\R7272134', '../../data/metadata\\\\R7272135', '../../data/metadata\\\\R7272136', '../../data/metadata\\\\R7272137', '../../data/metadata\\\\R7272138', '../../data/metadata\\\\R7272139', '../../data/metadata\\\\R7272140', '../../data/metadata\\\\R7272141', '../../data/metadata\\\\R7272142', '../../data/metadata\\\\R7272143', '../../data/metadata\\\\R7272144', '../../data/metadata\\\\R7272145', '../../data/metadata\\\\R7272146', '../../data/metadata\\\\r7272147', '../../data/metadata\\\\R7272148', '../../data/metadata\\\\R7272149', '../../data/metadata\\\\R7272150', '../../data/metadata\\\\R7272151', '../../data/metadata\\\\r7272152', '../../data/metadata\\\\r7272153', '../../data/metadata\\\\R7272155', '../../data/metadata\\\\R7272156', '../../data/metadata\\\\R7272157', '../../data/metadata\\\\R7272158', '../../data/metadata\\\\R7272159', '../../data/metadata\\\\R7272200', '../../data/metadata\\\\R7272201', '../../data/metadata\\\\R7272202', '../../data/metadata\\\\R7272203', '../../data/metadata\\\\R7272204', '../../data/metadata\\\\R7272205', '../../data/metadata\\\\R7272206', '../../data/metadata\\\\R7272208', '../../data/metadata\\\\R7272209', '../../data/metadata\\\\R7272210', '../../data/metadata\\\\r7272211', '../../data/metadata\\\\R7272212', '../../data/metadata\\\\R7272213', '../../data/metadata\\\\R7272214', '../../data/metadata\\\\R7272215', '../../data/metadata\\\\R7272216', '../../data/metadata\\\\R7272217', '../../data/metadata\\\\R7272218', '../../data/metadata\\\\R7272219', '../../data/metadata\\\\R7272221', '../../data/metadata\\\\R7272222', '../../data/metadata\\\\R7272223', '../../data/metadata\\\\R7272224', '../../data/metadata\\\\R7272225', '../../data/metadata\\\\R7272226', '../../data/metadata\\\\R7272227', '../../data/metadata\\\\R7272228', '../../data/metadata\\\\R7272229', '../../data/metadata\\\\R7272230', '../../data/metadata\\\\R7272231', '../../data/metadata\\\\R7272232', '../../data/metadata\\\\R7272233', '../../data/metadata\\\\R7272234', '../../data/metadata\\\\R7272236', '../../data/metadata\\\\R7272237', '../../data/metadata\\\\R7272238', '../../data/metadata\\\\R7272239', '../../data/metadata\\\\R7272240', '../../data/metadata\\\\R7272242', '../../data/metadata\\\\R7272243', '../../data/metadata\\\\R7272244', '../../data/metadata\\\\R7272245', '../../data/metadata\\\\R7272246', '../../data/metadata\\\\R7272248', '../../data/metadata\\\\R7272249', '../../data/metadata\\\\S5312121', '../../data/metadata\\\\S5312145', '../../data/metadata\\\\S6012106', '../../data/metadata\\\\S6012110', '../../data/metadata\\\\S6012119', '../../data/metadata\\\\S6012126', '../../data/metadata\\\\S6012128', '../../data/metadata\\\\S6012129', '../../data/metadata\\\\S6012141', '../../data/metadata\\\\S6012149', '../../data/metadata\\\\S6012155', '../../data/metadata\\\\S6012156', '../../data/metadata\\\\S6012203', '../../data/metadata\\\\S6022111', '../../data/metadata\\\\S6022133', '../../data/metadata\\\\S6022137', '../../data/metadata\\\\S6022139', '../../data/metadata\\\\S6022142', '../../data/metadata\\\\S6022145', '../../data/metadata\\\\S6022146', '../../data/metadata\\\\S6022153', '../../data/metadata\\\\S6022159', '../../data/metadata\\\\S6022200', '../../data/metadata\\\\S6032112', '../../data/metadata\\\\S6032118', '../../data/metadata\\\\S6032120', '../../data/metadata\\\\S6032121', '../../data/metadata\\\\S6032129', '../../data/metadata\\\\S6032133', '../../data/metadata\\\\S6032141', '../../data/metadata\\\\S6032143', '../../data/metadata\\\\S6032156', '../../data/metadata\\\\S6042053', '../../data/metadata\\\\S6042107', '../../data/metadata\\\\S6042108', '../../data/metadata\\\\S6042110', '../../data/metadata\\\\S6042112', '../../data/metadata\\\\S6042119', '../../data/metadata\\\\S6042122', '../../data/metadata\\\\S6042123', '../../data/metadata\\\\S6042125', '../../data/metadata\\\\S6042129', '../../data/metadata\\\\S6042130', '../../data/metadata\\\\S6042141', '../../data/metadata\\\\S6042143', '../../data/metadata\\\\S6042153', '../../data/metadata\\\\S6042157', '../../data/metadata\\\\S6042158', '../../data/metadata\\\\S6052107', '../../data/metadata\\\\S6052109', '../../data/metadata\\\\S6052110', '../../data/metadata\\\\S6052112', '../../data/metadata\\\\S6052116', '../../data/metadata\\\\S6052117', '../../data/metadata\\\\S6052118', '../../data/metadata\\\\S6052131', '../../data/metadata\\\\S6052133', '../../data/metadata\\\\S6052142', '../../data/metadata\\\\S6052147', '../../data/metadata\\\\S6052151', '../../data/metadata\\\\S6052155', '../../data/metadata\\\\S6052157', '../../data/metadata\\\\S6062106', '../../data/metadata\\\\S6062109', '../../data/metadata\\\\S6062117', '../../data/metadata\\\\S6062120', '../../data/metadata\\\\S6062124', '../../data/metadata\\\\S6062127', '../../data/metadata\\\\S6062140', '../../data/metadata\\\\S6062152', '../../data/metadata\\\\S6072113', '../../data/metadata\\\\S6072119', '../../data/metadata\\\\S6072137', '../../data/metadata\\\\S6072140', '../../data/metadata\\\\S6072144', '../../data/metadata\\\\S6072149', '../../data/metadata\\\\S6072157', '../../data/metadata\\\\S6102102', '../../data/metadata\\\\S6102113', '../../data/metadata\\\\S6102114', '../../data/metadata\\\\S6102117', '../../data/metadata\\\\S6102120', '../../data/metadata\\\\S6102123', '../../data/metadata\\\\S6102128', '../../data/metadata\\\\S6102134', '../../data/metadata\\\\S6102136', '../../data/metadata\\\\S6102141', '../../data/metadata\\\\S6102145', '../../data/metadata\\\\S6102146', '../../data/metadata\\\\S6102147', '../../data/metadata\\\\S6102152', '../../data/metadata\\\\S6102200', '../../data/metadata\\\\S6102206', '../../data/metadata\\\\S6122104', '../../data/metadata\\\\S6122105', '../../data/metadata\\\\S6122106', '../../data/metadata\\\\S6122109', '../../data/metadata\\\\S6122110', '../../data/metadata\\\\S6122111', '../../data/metadata\\\\S6122112', '../../data/metadata\\\\S6122113', '../../data/metadata\\\\S6122114', '../../data/metadata\\\\S6122115', '../../data/metadata\\\\S6122116', '../../data/metadata\\\\S6122117', '../../data/metadata\\\\S6122119', '../../data/metadata\\\\S6122120', '../../data/metadata\\\\S6122123', '../../data/metadata\\\\S6122127', '../../data/metadata\\\\S6122128', '../../data/metadata\\\\S6122129', '../../data/metadata\\\\S6122130', '../../data/metadata\\\\S6122131', '../../data/metadata\\\\S6122132', '../../data/metadata\\\\S6122133', '../../data/metadata\\\\S6122134', '../../data/metadata\\\\S6122135', '../../data/metadata\\\\S6122136', '../../data/metadata\\\\S6122139', '../../data/metadata\\\\S6122140', '../../data/metadata\\\\S6122143', '../../data/metadata\\\\S6122144', '../../data/metadata\\\\S6122148', '../../data/metadata\\\\S6122149', '../../data/metadata\\\\S6122150', '../../data/metadata\\\\S6122151', '../../data/metadata\\\\S6122153', '../../data/metadata\\\\S6122154', '../../data/metadata\\\\S6122155', '../../data/metadata\\\\S6122156', '../../data/metadata\\\\S6122203', '../../data/metadata\\\\S6122204', '../../data/metadata\\\\S6122205', '../../data/metadata\\\\S6122206', '../../data/metadata\\\\S6122213', '../../data/metadata\\\\S6132106', '../../data/metadata\\\\S6132112', '../../data/metadata\\\\S6132113', '../../data/metadata\\\\S6132114', '../../data/metadata\\\\S6132116', '../../data/metadata\\\\S6132117', '../../data/metadata\\\\S6132118', '../../data/metadata\\\\S6132119', '../../data/metadata\\\\S6132120', '../../data/metadata\\\\S6132121', '../../data/metadata\\\\S6132123', '../../data/metadata\\\\S6132125', '../../data/metadata\\\\S6132126', '../../data/metadata\\\\S6132127', '../../data/metadata\\\\S6132131', '../../data/metadata\\\\S6132133', '../../data/metadata\\\\S6132134', '../../data/metadata\\\\S6132136', '../../data/metadata\\\\S6132139', '../../data/metadata\\\\S6132140', '../../data/metadata\\\\S6132142', '../../data/metadata\\\\S6132143', '../../data/metadata\\\\S6132144', '../../data/metadata\\\\S6132145', '../../data/metadata\\\\S6132147', '../../data/metadata\\\\S6132148', '../../data/metadata\\\\S6132151', '../../data/metadata\\\\S6132153', '../../data/metadata\\\\S6132157', '../../data/metadata\\\\S6132201', '../../data/metadata\\\\S6132202', '../../data/metadata\\\\S6132203', '../../data/metadata\\\\S6132205', '../../data/metadata\\\\S6132207', '../../data/metadata\\\\S6132210', '../../data/metadata\\\\S6142118', '../../data/metadata\\\\S6142119', '../../data/metadata\\\\S6142120', '../../data/metadata\\\\S6142121', '../../data/metadata\\\\S6142122', '../../data/metadata\\\\S6142124', '../../data/metadata\\\\S6142125', '../../data/metadata\\\\S6142129', '../../data/metadata\\\\S6142130', '../../data/metadata\\\\S6142137', '../../data/metadata\\\\S6142139', '../../data/metadata\\\\S6142142', '../../data/metadata\\\\S6142148', '../../data/metadata\\\\S6142149', '../../data/metadata\\\\S6142156', '../../data/metadata\\\\S6142158', '../../data/metadata\\\\S6142202', '../../data/metadata\\\\S6142203', '../../data/metadata\\\\S6142205', '../../data/metadata\\\\S6142206', '../../data/metadata\\\\S6142211', '../../data/metadata\\\\S6152108', '../../data/metadata\\\\S6152111', '../../data/metadata\\\\S6152112', '../../data/metadata\\\\S6152114', '../../data/metadata\\\\S6152115', '../../data/metadata\\\\S6152120', '../../data/metadata\\\\S6152121', '../../data/metadata\\\\S6152122', '../../data/metadata\\\\S6152124', '../../data/metadata\\\\S6152130', '../../data/metadata\\\\S6152131', '../../data/metadata\\\\S6152132', '../../data/metadata\\\\S6152133', '../../data/metadata\\\\S6152134', '../../data/metadata\\\\S6152137', '../../data/metadata\\\\S6152140', '../../data/metadata\\\\S6152147', '../../data/metadata\\\\S6152148', '../../data/metadata\\\\S6152151', '../../data/metadata\\\\S6152153', '../../data/metadata\\\\S6152154', '../../data/metadata\\\\S6152155', '../../data/metadata\\\\S6152157', '../../data/metadata\\\\S6152158', '../../data/metadata\\\\S6152211', '../../data/metadata\\\\S6152214', '../../data/metadata\\\\S6152215', '../../data/metadata\\\\S6152216', '../../data/metadata\\\\S6152218', '../../data/metadata\\\\S6152219', '../../data/metadata\\\\S6162119', '../../data/metadata\\\\S6162120', '../../data/metadata\\\\S6162121', '../../data/metadata\\\\S6162124', '../../data/metadata\\\\S6162134', '../../data/metadata\\\\S6162142', '../../data/metadata\\\\S6162155', '../../data/metadata\\\\S6162157', '../../data/metadata\\\\S6162202', '../../data/metadata\\\\S6162203', '../../data/metadata\\\\S6162208', '../../data/metadata\\\\S6162209', '../../data/metadata\\\\S6172114', '../../data/metadata\\\\S6172115', '../../data/metadata\\\\S6172116', '../../data/metadata\\\\S6172117', '../../data/metadata\\\\S6172119', '../../data/metadata\\\\S6172120', '../../data/metadata\\\\S6172121', '../../data/metadata\\\\S6172122', '../../data/metadata\\\\S6172123', '../../data/metadata\\\\S6172131', '../../data/metadata\\\\S6172134', '../../data/metadata\\\\S6172136', '../../data/metadata\\\\S6172139', '../../data/metadata\\\\S6172142', '../../data/metadata\\\\S6172145', '../../data/metadata\\\\S6172149', '../../data/metadata\\\\S6172156', '../../data/metadata\\\\S6182115', '../../data/metadata\\\\S6182122', '../../data/metadata\\\\S6182135', '../../data/metadata\\\\S6182136', '../../data/metadata\\\\S6182138', '../../data/metadata\\\\S6182139', '../../data/metadata\\\\S6182142', '../../data/metadata\\\\S6182144', '../../data/metadata\\\\S6182145', '../../data/metadata\\\\S6182149', '../../data/metadata\\\\S6182152', '../../data/metadata\\\\S6182154', '../../data/metadata\\\\S6182156', '../../data/metadata\\\\S6182202', '../../data/metadata\\\\S6182203', '../../data/metadata\\\\S6192109', '../../data/metadata\\\\S6192110', '../../data/metadata\\\\S6192111', '../../data/metadata\\\\S6192112', '../../data/metadata\\\\S6192113', '../../data/metadata\\\\S6192115', '../../data/metadata\\\\S6192116', '../../data/metadata\\\\S6192117', '../../data/metadata\\\\S6192119', '../../data/metadata\\\\S6192121', '../../data/metadata\\\\S6192123', '../../data/metadata\\\\S6192124', '../../data/metadata\\\\S6192126', '../../data/metadata\\\\S6192127', '../../data/metadata\\\\S6192128', '../../data/metadata\\\\S6192129', '../../data/metadata\\\\S6192130', '../../data/metadata\\\\S6192131', '../../data/metadata\\\\S6192134', '../../data/metadata\\\\S6192138', '../../data/metadata\\\\S6192139', '../../data/metadata\\\\S6192140', '../../data/metadata\\\\S6192141', '../../data/metadata\\\\S6192142', '../../data/metadata\\\\S6192143', '../../data/metadata\\\\S6192146', '../../data/metadata\\\\S6192147', '../../data/metadata\\\\S6192148', '../../data/metadata\\\\S6192149', '../../data/metadata\\\\S6192150', '../../data/metadata\\\\S6192151', '../../data/metadata\\\\S6192152', '../../data/metadata\\\\S6192153', '../../data/metadata\\\\S6192154', '../../data/metadata\\\\S6192155', '../../data/metadata\\\\S6192158', '../../data/metadata\\\\S6192159', '../../data/metadata\\\\S6192200', '../../data/metadata\\\\S6192201', '../../data/metadata\\\\S6192203', '../../data/metadata\\\\S6192204', '../../data/metadata\\\\S6192205', '../../data/metadata\\\\S6192208', '../../data/metadata\\\\S6192209', '../../data/metadata\\\\S6192211', '../../data/metadata\\\\S6192212', '../../data/metadata\\\\S6192214', '../../data/metadata\\\\S6192216', '../../data/metadata\\\\S6192219', '../../data/metadata\\\\S6192220', '../../data/metadata\\\\S6192222', '../../data/metadata\\\\S6192223', '../../data/metadata\\\\S6192224', '../../data/metadata\\\\S6202113', '../../data/metadata\\\\S6202115', '../../data/metadata\\\\S6202116', '../../data/metadata\\\\S6202124', '../../data/metadata\\\\S6202127', '../../data/metadata\\\\S6202128', '../../data/metadata\\\\S6202129', '../../data/metadata\\\\S6202132', '../../data/metadata\\\\S6202135', '../../data/metadata\\\\S6202137', '../../data/metadata\\\\S6202138', '../../data/metadata\\\\S6202139', '../../data/metadata\\\\S6202140', '../../data/metadata\\\\S6202141', '../../data/metadata\\\\S6202142', '../../data/metadata\\\\S6202143', '../../data/metadata\\\\S6202144', '../../data/metadata\\\\S6202145', '../../data/metadata\\\\S6202146', '../../data/metadata\\\\S6202147', '../../data/metadata\\\\S6202148', '../../data/metadata\\\\S6202149', '../../data/metadata\\\\S6202151', '../../data/metadata\\\\S6202152', '../../data/metadata\\\\S6202153', '../../data/metadata\\\\S6202154', '../../data/metadata\\\\S6202155', '../../data/metadata\\\\S6202156', '../../data/metadata\\\\S6202157', '../../data/metadata\\\\S6202158', '../../data/metadata\\\\S6202159', '../../data/metadata\\\\S6202200', '../../data/metadata\\\\S6202201', '../../data/metadata\\\\S6202202', '../../data/metadata\\\\S6202203', '../../data/metadata\\\\S6202204', '../../data/metadata\\\\S6202207', '../../data/metadata\\\\S6202208', '../../data/metadata\\\\S6202209', '../../data/metadata\\\\S6202210', '../../data/metadata\\\\S6202212', '../../data/metadata\\\\S6202215', '../../data/metadata\\\\S6202216', '../../data/metadata\\\\S6202223', '../../data/metadata\\\\S6222136', '../../data/metadata\\\\S6222137', '../../data/metadata\\\\S6222138', '../../data/metadata\\\\S6222139', '../../data/metadata\\\\S6222145', '../../data/metadata\\\\S6222147', '../../data/metadata\\\\S6222149', '../../data/metadata\\\\S6222150', '../../data/metadata\\\\S6222151', '../../data/metadata\\\\S6222153', '../../data/metadata\\\\S6222157', '../../data/metadata\\\\S6222209', '../../data/metadata\\\\S6222210', '../../data/metadata\\\\S6222212', '../../data/metadata\\\\S6222220', '../../data/metadata\\\\S6222232', '../../data/metadata\\\\S6232140', '../../data/metadata\\\\S6232141', '../../data/metadata\\\\S6232145', '../../data/metadata\\\\S6232148', '../../data/metadata\\\\S6232149', '../../data/metadata\\\\S6232153', '../../data/metadata\\\\S6232154', '../../data/metadata\\\\S6232158', '../../data/metadata\\\\S6232159', '../../data/metadata\\\\S6232200', '../../data/metadata\\\\S6232203', '../../data/metadata\\\\S6232205', '../../data/metadata\\\\S6232207', '../../data/metadata\\\\S6232209', '../../data/metadata\\\\S6232210', '../../data/metadata\\\\S6232211', '../../data/metadata\\\\S6232217', '../../data/metadata\\\\S6242137', '../../data/metadata\\\\S6242138', '../../data/metadata\\\\S6242139', '../../data/metadata\\\\S6242141', '../../data/metadata\\\\S6242143', '../../data/metadata\\\\S6242148', '../../data/metadata\\\\S6242150', '../../data/metadata\\\\S6242151', '../../data/metadata\\\\S6242154', '../../data/metadata\\\\S6242156', '../../data/metadata\\\\S6242157', '../../data/metadata\\\\S6242159', '../../data/metadata\\\\S6242200', '../../data/metadata\\\\S6242201', '../../data/metadata\\\\S6242202', '../../data/metadata\\\\S6242204', '../../data/metadata\\\\S6242205', '../../data/metadata\\\\S6242206', '../../data/metadata\\\\S6242208', '../../data/metadata\\\\S6242210', '../../data/metadata\\\\S6242211', '../../data/metadata\\\\S6242212', '../../data/metadata\\\\S6242213', '../../data/metadata\\\\S6242216', '../../data/metadata\\\\S6260134', '../../data/metadata\\\\S6260136', '../../data/metadata\\\\S6260138', '../../data/metadata\\\\S6260139', '../../data/metadata\\\\S6260145', '../../data/metadata\\\\S6260204', '../../data/metadata\\\\S6260206', '../../data/metadata\\\\S6260207', '../../data/metadata\\\\S6260209', '../../data/metadata\\\\S6260210', '../../data/metadata\\\\S6260211', '../../data/metadata\\\\S6260213', '../../data/metadata\\\\S6260214', '../../data/metadata\\\\S6260215', '../../data/metadata\\\\S6260216', '../../data/metadata\\\\S6260217', '../../data/metadata\\\\S6260219', '../../data/metadata\\\\S6260220', '../../data/metadata\\\\S6260222', '../../data/metadata\\\\S6260226', '../../data/metadata\\\\S6260231', '../../data/metadata\\\\S6272129', '../../data/metadata\\\\S6272130', '../../data/metadata\\\\S6272147', '../../data/metadata\\\\S6272148', '../../data/metadata\\\\S6272149', '../../data/metadata\\\\S6272150', '../../data/metadata\\\\S6272151', '../../data/metadata\\\\S6272152', '../../data/metadata\\\\S6272155', '../../data/metadata\\\\S6272156', '../../data/metadata\\\\S6272157', '../../data/metadata\\\\S6272205', '../../data/metadata\\\\S6272206', '../../data/metadata\\\\S6272207', '../../data/metadata\\\\S6272209', '../../data/metadata\\\\S6272212', '../../data/metadata\\\\S6272214', '../../data/metadata\\\\S6272215', '../../data/metadata\\\\S6272216', '../../data/metadata\\\\S6272217', '../../data/metadata\\\\S6272219', '../../data/metadata\\\\S6280135', '../../data/metadata\\\\S6280139', '../../data/metadata\\\\S6280140', '../../data/metadata\\\\S6280157', '../../data/metadata\\\\S6280202', '../../data/metadata\\\\S6280205', '../../data/metadata\\\\S6280207', '../../data/metadata\\\\S6280208', '../../data/metadata\\\\S6280209', '../../data/metadata\\\\S6280211', '../../data/metadata\\\\S6280212', '../../data/metadata\\\\S6280213', '../../data/metadata\\\\S6280215', '../../data/metadata\\\\S6280220', '../../data/metadata\\\\S6280221', '../../data/metadata\\\\S6280222', '../../data/metadata\\\\S6280223', '../../data/metadata\\\\S6280224', '../../data/metadata\\\\S6280228', '../../data/metadata\\\\S6280229', '../../data/metadata\\\\S6280232', '../../data/metadata\\\\S6282129', '../../data/metadata\\\\S6282135', '../../data/metadata\\\\S6282136', '../../data/metadata\\\\S6282137', '../../data/metadata\\\\S6282143', '../../data/metadata\\\\S6282144', '../../data/metadata\\\\S6282145', '../../data/metadata\\\\S6282147', '../../data/metadata\\\\S6282148', '../../data/metadata\\\\S6282151', '../../data/metadata\\\\S6282152', '../../data/metadata\\\\S6282155', '../../data/metadata\\\\S6282156', '../../data/metadata\\\\S6282159', '../../data/metadata\\\\S6282201', '../../data/metadata\\\\S6282202', '../../data/metadata\\\\S6282203', '../../data/metadata\\\\S6282205', '../../data/metadata\\\\S6282209', '../../data/metadata\\\\S6282210', '../../data/metadata\\\\S6282212', '../../data/metadata\\\\S6282214', '../../data/metadata\\\\S6282215', '../../data/metadata\\\\S7022133', '../../data/metadata\\\\S7022136', '../../data/metadata\\\\S7022137', '../../data/metadata\\\\S7022139', '../../data/metadata\\\\S7022141', '../../data/metadata\\\\S7022144', '../../data/metadata\\\\S7022200', '../../data/metadata\\\\S7022201', '../../data/metadata\\\\S7022204', '../../data/metadata\\\\S7022206', '../../data/metadata\\\\S7022208', '../../data/metadata\\\\S7022210', '../../data/metadata\\\\S7022211', '../../data/metadata\\\\S7022213', '../../data/metadata\\\\S7052128', '../../data/metadata\\\\S7052130', '../../data/metadata\\\\S7052133', '../../data/metadata\\\\S7052134', '../../data/metadata\\\\S7052137', '../../data/metadata\\\\S7052139', '../../data/metadata\\\\S7052140', '../../data/metadata\\\\S7052144', '../../data/metadata\\\\S7052145', '../../data/metadata\\\\S7052147', '../../data/metadata\\\\S7052148', '../../data/metadata\\\\S7052149', '../../data/metadata\\\\S7052151', '../../data/metadata\\\\S7052152', '../../data/metadata\\\\S7052153', '../../data/metadata\\\\S7052156', '../../data/metadata\\\\S7052157', '../../data/metadata\\\\S7052158', '../../data/metadata\\\\S7052201', '../../data/metadata\\\\S7052203', '../../data/metadata\\\\S7052204', '../../data/metadata\\\\S7052205', '../../data/metadata\\\\S7052206', '../../data/metadata\\\\S7052211', '../../data/metadata\\\\S7052215', '../../data/metadata\\\\S7112046', '../../data/metadata\\\\S7112110', '../../data/metadata\\\\S7112111', '../../data/metadata\\\\S7112112', '../../data/metadata\\\\S7112117', '../../data/metadata\\\\S7112119', '../../data/metadata\\\\S7112122', '../../data/metadata\\\\S7112124', '../../data/metadata\\\\S7112125', '../../data/metadata\\\\S7112126', '../../data/metadata\\\\S7112128', '../../data/metadata\\\\S7112129', '../../data/metadata\\\\S7112132', '../../data/metadata\\\\S7112134', '../../data/metadata\\\\S7112135', '../../data/metadata\\\\S7112136', '../../data/metadata\\\\S7112138', '../../data/metadata\\\\S7112141', '../../data/metadata\\\\S7112142', '../../data/metadata\\\\S7112143', '../../data/metadata\\\\S7112146', '../../data/metadata\\\\S7112147', '../../data/metadata\\\\S7112148', '../../data/metadata\\\\S7112151', '../../data/metadata\\\\S7112153', '../../data/metadata\\\\S7112155', '../../data/metadata\\\\S7112156', '../../data/metadata\\\\S7112158', '../../data/metadata\\\\S7112159', '../../data/metadata\\\\S7112204', '../../data/metadata\\\\S7132113', '../../data/metadata\\\\S7132115', '../../data/metadata\\\\S7132116', '../../data/metadata\\\\S7132117', '../../data/metadata\\\\S7132120', '../../data/metadata\\\\S7132121', '../../data/metadata\\\\S7132122', '../../data/metadata\\\\S7132125', '../../data/metadata\\\\S7132126', '../../data/metadata\\\\S7132127', '../../data/metadata\\\\S7132128', '../../data/metadata\\\\S7132132', '../../data/metadata\\\\S7132137', '../../data/metadata\\\\S7132138', '../../data/metadata\\\\S7132139', '../../data/metadata\\\\S7132141', '../../data/metadata\\\\S7132142', '../../data/metadata\\\\S7132143', '../../data/metadata\\\\S7132146', '../../data/metadata\\\\S7132148', '../../data/metadata\\\\S7132152', '../../data/metadata\\\\S7132153', '../../data/metadata\\\\S7132154', '../../data/metadata\\\\S7132155', '../../data/metadata\\\\S7132157', '../../data/metadata\\\\S7132158', '../../data/metadata\\\\S7132159', '../../data/metadata\\\\S7132200', '../../data/metadata\\\\S7132203', '../../data/metadata\\\\S7132204', '../../data/metadata\\\\S7132206', '../../data/metadata\\\\S7142117', '../../data/metadata\\\\S7142120', '../../data/metadata\\\\S7142121', '../../data/metadata\\\\S7142122', '../../data/metadata\\\\S7142123', '../../data/metadata\\\\S7142125', '../../data/metadata\\\\S7142126', '../../data/metadata\\\\S7142127', '../../data/metadata\\\\S7142128', '../../data/metadata\\\\S7142130', '../../data/metadata\\\\S7142131', '../../data/metadata\\\\S7142132', '../../data/metadata\\\\S7142134', '../../data/metadata\\\\S7142135', '../../data/metadata\\\\S7142136', '../../data/metadata\\\\S7142137', '../../data/metadata\\\\S7142138', '../../data/metadata\\\\S7142139', '../../data/metadata\\\\S7142140', '../../data/metadata\\\\S7142141', '../../data/metadata\\\\S7142142', '../../data/metadata\\\\S7142143', '../../data/metadata\\\\S7142144', '../../data/metadata\\\\S7142145', '../../data/metadata\\\\S7142146', '../../data/metadata\\\\S7142147', '../../data/metadata\\\\S7142149', '../../data/metadata\\\\S7142154', '../../data/metadata\\\\S7142155', '../../data/metadata\\\\S7142156', '../../data/metadata\\\\S7142158', '../../data/metadata\\\\S7142159', '../../data/metadata\\\\S7142200', '../../data/metadata\\\\S7142201', '../../data/metadata\\\\S7142205', '../../data/metadata\\\\S7142206', '../../data/metadata\\\\S7142207', '../../data/metadata\\\\S7142209', '../../data/metadata\\\\S7142211', '../../data/metadata\\\\S7142213', '../../data/metadata\\\\S7152104', '../../data/metadata\\\\S7152105', '../../data/metadata\\\\S7152106', '../../data/metadata\\\\S7152107', '../../data/metadata\\\\S7152108', '../../data/metadata\\\\S7152109', '../../data/metadata\\\\S7152110', '../../data/metadata\\\\S7152111', '../../data/metadata\\\\S7152112', '../../data/metadata\\\\S7152113', '../../data/metadata\\\\S7152114', '../../data/metadata\\\\S7152115', '../../data/metadata\\\\S7152116', '../../data/metadata\\\\S7152117', '../../data/metadata\\\\S7152119', '../../data/metadata\\\\S7152120', '../../data/metadata\\\\S7152121', '../../data/metadata\\\\S7152122', '../../data/metadata\\\\S7152123', '../../data/metadata\\\\S7152124', '../../data/metadata\\\\S7152125', '../../data/metadata\\\\S7152126', '../../data/metadata\\\\S7152127', '../../data/metadata\\\\S7152128', '../../data/metadata\\\\S7152130', '../../data/metadata\\\\S7152131', '../../data/metadata\\\\S7152132', '../../data/metadata\\\\S7152133', '../../data/metadata\\\\S7152134', '../../data/metadata\\\\S7152135', '../../data/metadata\\\\S7152136', '../../data/metadata\\\\S7152137', '../../data/metadata\\\\S7152139', '../../data/metadata\\\\S7152140', '../../data/metadata\\\\S7152141', '../../data/metadata\\\\S7152142', '../../data/metadata\\\\S7152143', '../../data/metadata\\\\S7152144', '../../data/metadata\\\\S7152145', '../../data/metadata\\\\S7152146', '../../data/metadata\\\\S7152147', '../../data/metadata\\\\S7152148', '../../data/metadata\\\\S7152149', '../../data/metadata\\\\S7152150', '../../data/metadata\\\\S7152151', '../../data/metadata\\\\S7152152', '../../data/metadata\\\\S7152153', '../../data/metadata\\\\S7152154', '../../data/metadata\\\\S7152155', '../../data/metadata\\\\S7152156', '../../data/metadata\\\\S7152157', '../../data/metadata\\\\S7152158', '../../data/metadata\\\\S7152159', '../../data/metadata\\\\S7152201', '../../data/metadata\\\\S7152202', '../../data/metadata\\\\S7152203', '../../data/metadata\\\\S7152204', '../../data/metadata\\\\S7152205', '../../data/metadata\\\\S7152206', '../../data/metadata\\\\S7152208', '../../data/metadata\\\\S7152209', '../../data/metadata\\\\S7152210', '../../data/metadata\\\\S7152211', '../../data/metadata\\\\S7152213', '../../data/metadata\\\\S7152214', '../../data/metadata\\\\S7152215', '../../data/metadata\\\\S7152216', '../../data/metadata\\\\S7152217', '../../data/metadata\\\\S7152219', '../../data/metadata\\\\S7152220', '../../data/metadata\\\\S7152223', '../../data/metadata\\\\S7152225', '../../data/metadata\\\\S7152228', '../../data/metadata\\\\S7152229', '../../data/metadata\\\\S7152231', '../../data/metadata\\\\S7152232', '../../data/metadata\\\\S7182116', '../../data/metadata\\\\S7182118', '../../data/metadata\\\\S7182119', '../../data/metadata\\\\S7182123', '../../data/metadata\\\\S7182130', '../../data/metadata\\\\S7182131', '../../data/metadata\\\\S7182134', '../../data/metadata\\\\S7182135', '../../data/metadata\\\\S7182136', '../../data/metadata\\\\S7182138', '../../data/metadata\\\\S7182139', '../../data/metadata\\\\S7182140', '../../data/metadata\\\\S7182143', '../../data/metadata\\\\S7182145', '../../data/metadata\\\\S7182146', '../../data/metadata\\\\S7182147', '../../data/metadata\\\\S7182151', '../../data/metadata\\\\S7182157', '../../data/metadata\\\\S7182203', '../../data/metadata\\\\S7192121', '../../data/metadata\\\\S7192124', '../../data/metadata\\\\S7192125', '../../data/metadata\\\\S7192126', '../../data/metadata\\\\S7192131', '../../data/metadata\\\\S7192132', '../../data/metadata\\\\S7192134', '../../data/metadata\\\\S7192137', '../../data/metadata\\\\S7192140', '../../data/metadata\\\\S7192141', '../../data/metadata\\\\S7192142', '../../data/metadata\\\\S7192143', '../../data/metadata\\\\S7192146', '../../data/metadata\\\\S7192147', '../../data/metadata\\\\S7192148', '../../data/metadata\\\\S7192150', '../../data/metadata\\\\S7192206', '../../data/metadata\\\\S7202144', '../../data/metadata\\\\S7202145', '../../data/metadata\\\\S7202147', '../../data/metadata\\\\S7202149', '../../data/metadata\\\\S7202150', '../../data/metadata\\\\S7202152', '../../data/metadata\\\\S7202154', '../../data/metadata\\\\S7202156', '../../data/metadata\\\\S7202157', '../../data/metadata\\\\S7202202', '../../data/metadata\\\\S7202203', '../../data/metadata\\\\S7202204', '../../data/metadata\\\\S7202205', '../../data/metadata\\\\S7202212', '../../data/metadata\\\\S7202216', '../../data/metadata\\\\S7202217', '../../data/metadata\\\\S7202218', '../../data/metadata\\\\S7202219', '../../data/metadata\\\\S7202220', '../../data/metadata\\\\S7202221', '../../data/metadata\\\\S7202222', '../../data/metadata\\\\S7202224', '../../data/metadata\\\\S7202229', '../../data/metadata\\\\S7202231', '../../data/metadata\\\\S7202232', '../../data/metadata\\\\S7202234', '../../data/metadata\\\\S7202235', '../../data/metadata\\\\S7202236', '../../data/metadata\\\\S7202237', '../../data/metadata\\\\S7202239', '../../data/metadata\\\\S7202240', '../../data/metadata\\\\S7202242', '../../data/metadata\\\\S7202243', '../../data/metadata\\\\S7202244', '../../data/metadata\\\\S7202246', '../../data/metadata\\\\S7202252', '../../data/metadata\\\\S7202255', '../../data/metadata\\\\S7202256', '../../data/metadata\\\\S7202257', '../../data/metadata\\\\S7202259', '../../data/metadata\\\\S7202302', '../../data/metadata\\\\S7232103', '../../data/metadata\\\\S7232106', '../../data/metadata\\\\S7232108', '../../data/metadata\\\\S7232109', '../../data/metadata\\\\S7232111', '../../data/metadata\\\\S7232113', '../../data/metadata\\\\S7232118', '../../data/metadata\\\\S7242110', '../../data/metadata\\\\S7242112', '../../data/metadata\\\\S7242113', '../../data/metadata\\\\S7242114', '../../data/metadata\\\\S7242115', '../../data/metadata\\\\S7242116', '../../data/metadata\\\\S7242117', '../../data/metadata\\\\S7242118', '../../data/metadata\\\\S7242119', '../../data/metadata\\\\S7242120', '../../data/metadata\\\\S7242121', '../../data/metadata\\\\S7242122', '../../data/metadata\\\\S7242123', '../../data/metadata\\\\S7242127', '../../data/metadata\\\\S7242128', '../../data/metadata\\\\S7242132', '../../data/metadata\\\\S7242133', '../../data/metadata\\\\S7242134', '../../data/metadata\\\\S7242135', '../../data/metadata\\\\S7242136', '../../data/metadata\\\\S7242137', '../../data/metadata\\\\S7242140', '../../data/metadata\\\\S7242141', '../../data/metadata\\\\S7242142', '../../data/metadata\\\\S7242143', '../../data/metadata\\\\S7242144', '../../data/metadata\\\\S7242145', '../../data/metadata\\\\S7242146', '../../data/metadata\\\\S7242147', '../../data/metadata\\\\S7242150', '../../data/metadata\\\\S7242151', '../../data/metadata\\\\S7242152', '../../data/metadata\\\\S7242154', '../../data/metadata\\\\S7242156', '../../data/metadata\\\\S7242157', '../../data/metadata\\\\S7242158', '../../data/metadata\\\\S7242159', '../../data/metadata\\\\S7242201', '../../data/metadata\\\\S7242202', '../../data/metadata\\\\S7242203', '../../data/metadata\\\\S7242204', '../../data/metadata\\\\S7242205', '../../data/metadata\\\\S7242206', '../../data/metadata\\\\S7242207', '../../data/metadata\\\\S7242208', '../../data/metadata\\\\S7242209', '../../data/metadata\\\\S7242210', '../../data/metadata\\\\S7242211', '../../data/metadata\\\\S7242212', '../../data/metadata\\\\S7242213', '../../data/metadata\\\\S7242214', '../../data/metadata\\\\S7242215', '../../data/metadata\\\\S7242216', '../../data/metadata\\\\S7242217', '../../data/metadata\\\\S7242218', '../../data/metadata\\\\S7242219', '../../data/metadata\\\\S7242220', '../../data/metadata\\\\S7242221', '../../data/metadata\\\\S7252135', '../../data/metadata\\\\S7252136', '../../data/metadata\\\\S7252137', '../../data/metadata\\\\S7252139', '../../data/metadata\\\\s7252142', '../../data/metadata\\\\S7252143', '../../data/metadata\\\\S7252145', '../../data/metadata\\\\S7252146', '../../data/metadata\\\\S7252148', '../../data/metadata\\\\S7252150', '../../data/metadata\\\\S7252152', '../../data/metadata\\\\S7252153', '../../data/metadata\\\\S7252156', '../../data/metadata\\\\S7252158', '../../data/metadata\\\\S7252201', '../../data/metadata\\\\S7252202', '../../data/metadata\\\\S7252204', '../../data/metadata\\\\S7252206', '../../data/metadata\\\\S7252208', '../../data/metadata\\\\S7252209', '../../data/metadata\\\\S7252210', '../../data/metadata\\\\S7252211', '../../data/metadata\\\\S7252212', '../../data/metadata\\\\S7252214', '../../data/metadata\\\\S7252215', '../../data/metadata\\\\S7252216', '../../data/metadata\\\\S7252220', '../../data/metadata\\\\S7252223', '../../data/metadata\\\\S7252224', '../../data/metadata\\\\S7252226', '../../data/metadata\\\\S7252228', '../../data/metadata\\\\S7252231', '../../data/metadata\\\\S7252234', '../../data/metadata\\\\S7252235', '../../data/metadata\\\\S7252236', '../../data/metadata\\\\S7252237', '../../data/metadata\\\\S7252238', '../../data/metadata\\\\S7252239', '../../data/metadata\\\\S7252240', '../../data/metadata\\\\S7252242', '../../data/metadata\\\\S7252243', '../../data/metadata\\\\S7252245', '../../data/metadata\\\\S7252246', '../../data/metadata\\\\S7252248', '../../data/metadata\\\\S7252252', '../../data/metadata\\\\S7252253', '../../data/metadata\\\\S7252256', '../../data/metadata\\\\S7252257', '../../data/metadata\\\\S7252259', '../../data/metadata\\\\S7252300', '../../data/metadata\\\\S7252305', '../../data/metadata\\\\S7252357', '../../data/metadata\\\\S7252358', '../../data/metadata\\\\S7260002', '../../data/metadata\\\\S7260006', '../../data/metadata\\\\S7260010', '../../data/metadata\\\\S7260011', '../../data/metadata\\\\S7260012', '../../data/metadata\\\\S7260030', '../../data/metadata\\\\S7260038', '../../data/metadata\\\\S7260042', '../../data/metadata\\\\S7260049', '../../data/metadata\\\\S7260052', '../../data/metadata\\\\S7262046', '../../data/metadata\\\\S7262111', '../../data/metadata\\\\S7262112', '../../data/metadata\\\\S7262113', '../../data/metadata\\\\S7262114', '../../data/metadata\\\\S7262115', '../../data/metadata\\\\S7262116', '../../data/metadata\\\\S7262117', '../../data/metadata\\\\S7262119', '../../data/metadata\\\\S7262120', '../../data/metadata\\\\S7262121', '../../data/metadata\\\\S7262122', '../../data/metadata\\\\S7262124', '../../data/metadata\\\\S7262125', '../../data/metadata\\\\S7262126', '../../data/metadata\\\\S7262127', '../../data/metadata\\\\S7262128', '../../data/metadata\\\\S7262129', '../../data/metadata\\\\S7262130', '../../data/metadata\\\\S7262131', '../../data/metadata\\\\S7262132', '../../data/metadata\\\\S7262134', '../../data/metadata\\\\S7262136', '../../data/metadata\\\\S7262137', '../../data/metadata\\\\S7262138', '../../data/metadata\\\\S7262139', '../../data/metadata\\\\S7262140', '../../data/metadata\\\\S7262141', '../../data/metadata\\\\S7262142', '../../data/metadata\\\\S7262143', '../../data/metadata\\\\S7262144', '../../data/metadata\\\\S7262145', '../../data/metadata\\\\S7262146', '../../data/metadata\\\\S7262147', '../../data/metadata\\\\S7262148', '../../data/metadata\\\\S7262149', '../../data/metadata\\\\S7262150', '../../data/metadata\\\\S7262151', '../../data/metadata\\\\S7262152', '../../data/metadata\\\\S7262153', '../../data/metadata\\\\S7262154', '../../data/metadata\\\\S7262155', '../../data/metadata\\\\S7262156', '../../data/metadata\\\\S7262157', '../../data/metadata\\\\S7262158', '../../data/metadata\\\\S7262159', '../../data/metadata\\\\S7262200', '../../data/metadata\\\\S7262201', '../../data/metadata\\\\S7262203', '../../data/metadata\\\\S7262204', '../../data/metadata\\\\S7262205', '../../data/metadata\\\\S7262206', '../../data/metadata\\\\S7262207', '../../data/metadata\\\\S7262208', '../../data/metadata\\\\S7262209', '../../data/metadata\\\\S7262210', '../../data/metadata\\\\S7262211', '../../data/metadata\\\\S7262212', '../../data/metadata\\\\S7262213', '../../data/metadata\\\\S7262214', '../../data/metadata\\\\S7262216', '../../data/metadata\\\\S7262218', '../../data/metadata\\\\S7262221', '../../data/metadata\\\\S7262222', '../../data/metadata\\\\S7282105', '../../data/metadata\\\\S7282109', '../../data/metadata\\\\S7282110', '../../data/metadata\\\\S7282111', '../../data/metadata\\\\S7282112', '../../data/metadata\\\\S7282113', '../../data/metadata\\\\S7282114', '../../data/metadata\\\\S7282116', '../../data/metadata\\\\S7282117', '../../data/metadata\\\\S7282118', '../../data/metadata\\\\S7282119', '../../data/metadata\\\\S7282123', '../../data/metadata\\\\S7282124', '../../data/metadata\\\\S7282125', '../../data/metadata\\\\S7282126', '../../data/metadata\\\\S7282127', '../../data/metadata\\\\S7282128', '../../data/metadata\\\\S7282129', '../../data/metadata\\\\S7282130', '../../data/metadata\\\\S7282131', '../../data/metadata\\\\S7282132', '../../data/metadata\\\\S7282133', '../../data/metadata\\\\S7282135', '../../data/metadata\\\\S7282136', '../../data/metadata\\\\S7282137', '../../data/metadata\\\\S7282138', '../../data/metadata\\\\S7282140', '../../data/metadata\\\\S7282143', '../../data/metadata\\\\S7282145', '../../data/metadata\\\\S7282146', '../../data/metadata\\\\S7282148', '../../data/metadata\\\\S7282149', '../../data/metadata\\\\S7282151', '../../data/metadata\\\\S7282152', '../../data/metadata\\\\S7282153', '../../data/metadata\\\\S7282154', '../../data/metadata\\\\S7282155', '../../data/metadata\\\\S7282156', '../../data/metadata\\\\S7282157', '../../data/metadata\\\\S7282200', '../../data/metadata\\\\S7302101', '../../data/metadata\\\\S7302106', '../../data/metadata\\\\S7302107', '../../data/metadata\\\\S7302108', '../../data/metadata\\\\S7302110', '../../data/metadata\\\\S7302111', '../../data/metadata\\\\S7302112', '../../data/metadata\\\\S7302113', '../../data/metadata\\\\S7302114', '../../data/metadata\\\\S7302115', '../../data/metadata\\\\S7302116', '../../data/metadata\\\\S7302117', '../../data/metadata\\\\S7302119', '../../data/metadata\\\\S7302120', '../../data/metadata\\\\S7302121', '../../data/metadata\\\\S7302123', '../../data/metadata\\\\S7302124', '../../data/metadata\\\\S7302125', '../../data/metadata\\\\S7302126', '../../data/metadata\\\\S7302127', '../../data/metadata\\\\S7302129', '../../data/metadata\\\\S7302131', '../../data/metadata\\\\S7302132', '../../data/metadata\\\\S7302133', '../../data/metadata\\\\S7302134', '../../data/metadata\\\\S7302135', '../../data/metadata\\\\S7302137', '../../data/metadata\\\\S7302138', '../../data/metadata\\\\S7302140', '../../data/metadata\\\\S7302141', '../../data/metadata\\\\S7302142', '../../data/metadata\\\\S7302143', '../../data/metadata\\\\S7302144', '../../data/metadata\\\\S7302145', '../../data/metadata\\\\S7302146', '../../data/metadata\\\\S7302149', '../../data/metadata\\\\S7302151', '../../data/metadata\\\\S7302153', '../../data/metadata\\\\S7302156', '../../data/metadata\\\\S7302157', '../../data/metadata\\\\S7302158', '../../data/metadata\\\\S7302200', '../../data/metadata\\\\S7302201', '../../data/metadata\\\\S7302202', '../../data/metadata\\\\S7302203', '../../data/metadata\\\\S8022037', '../../data/metadata\\\\S8022038', '../../data/metadata\\\\S8022058', '../../data/metadata\\\\S8022059', '../../data/metadata\\\\S8022100', '../../data/metadata\\\\S8022104', '../../data/metadata\\\\S8022105', '../../data/metadata\\\\S8022106', '../../data/metadata\\\\S8022107', '../../data/metadata\\\\S8022108', '../../data/metadata\\\\S8022109', '../../data/metadata\\\\S8022110', '../../data/metadata\\\\S8022111', '../../data/metadata\\\\S8022112', '../../data/metadata\\\\S8022113', '../../data/metadata\\\\S8022114', '../../data/metadata\\\\S8022115', '../../data/metadata\\\\S8022118', '../../data/metadata\\\\S8022119', '../../data/metadata\\\\S8022120', '../../data/metadata\\\\S8022122', '../../data/metadata\\\\S8022123', '../../data/metadata\\\\S8022124', '../../data/metadata\\\\S8022126', '../../data/metadata\\\\S8022127', '../../data/metadata\\\\S8022130', '../../data/metadata\\\\S8022132', '../../data/metadata\\\\S8022133', '../../data/metadata\\\\S8022134', '../../data/metadata\\\\S8022135', '../../data/metadata\\\\S8022136', '../../data/metadata\\\\S8022137', '../../data/metadata\\\\S8022138', '../../data/metadata\\\\S8022139', '../../data/metadata\\\\S8022141', '../../data/metadata\\\\S8022142', '../../data/metadata\\\\S8022143', '../../data/metadata\\\\S8022144', '../../data/metadata\\\\S8022145', '../../data/metadata\\\\S8022146', '../../data/metadata\\\\S8022147', '../../data/metadata\\\\S8022148', '../../data/metadata\\\\S8022151', '../../data/metadata\\\\S8022156', '../../data/metadata\\\\S8022157', '../../data/metadata\\\\S8022158', '../../data/metadata\\\\S8022159', '../../data/metadata\\\\S8022203', '../../data/metadata\\\\S8022204', '../../data/metadata\\\\S8072032', '../../data/metadata\\\\S8072052', '../../data/metadata\\\\S8072055', '../../data/metadata\\\\S8072057', '../../data/metadata\\\\S8072058', '../../data/metadata\\\\S8072101', '../../data/metadata\\\\S8072102', '../../data/metadata\\\\S8072103', '../../data/metadata\\\\S8072104', '../../data/metadata\\\\S8072105', '../../data/metadata\\\\S8072106', '../../data/metadata\\\\S8072107', '../../data/metadata\\\\S8072108', '../../data/metadata\\\\S8072109', '../../data/metadata\\\\S8072110', '../../data/metadata\\\\S8072111', '../../data/metadata\\\\S8072114', '../../data/metadata\\\\S8072115', '../../data/metadata\\\\S8072117', '../../data/metadata\\\\S8072118', '../../data/metadata\\\\S8072119', '../../data/metadata\\\\S8072120', '../../data/metadata\\\\S8072122', '../../data/metadata\\\\S8072123', '../../data/metadata\\\\S8072126', '../../data/metadata\\\\S8072127', '../../data/metadata\\\\S8072129', '../../data/metadata\\\\S8072130', '../../data/metadata\\\\S8072132', '../../data/metadata\\\\S8072133', '../../data/metadata\\\\S8072134', '../../data/metadata\\\\S8072135', '../../data/metadata\\\\S8072137', '../../data/metadata\\\\S8072138', '../../data/metadata\\\\S8072139', '../../data/metadata\\\\S8072140', '../../data/metadata\\\\S8072141', '../../data/metadata\\\\S8072142', '../../data/metadata\\\\S8072143', '../../data/metadata\\\\S8072144', '../../data/metadata\\\\S8072145', '../../data/metadata\\\\S8072147', '../../data/metadata\\\\S8072148', '../../data/metadata\\\\S8072149', '../../data/metadata\\\\S8072150', '../../data/metadata\\\\S8072151', '../../data/metadata\\\\S8072152', '../../data/metadata\\\\S8072153', '../../data/metadata\\\\S8072154', '../../data/metadata\\\\S8072155', '../../data/metadata\\\\S8072156', '../../data/metadata\\\\S8072159', '../../data/metadata\\\\s8192020', '../../data/metadata\\\\s8192021', '../../data/metadata\\\\s8192025', '../../data/metadata\\\\s8192026', '../../data/metadata\\\\s8192027', '../../data/metadata\\\\s8192030', '../../data/metadata\\\\s8192031', '../../data/metadata\\\\s8192032', '../../data/metadata\\\\s8192033', '../../data/metadata\\\\s8192035', '../../data/metadata\\\\s8192037', '../../data/metadata\\\\s8192038', '../../data/metadata\\\\s8192039', '../../data/metadata\\\\s8192040', '../../data/metadata\\\\s8192041', '../../data/metadata\\\\s8192042', '../../data/metadata\\\\s8192043', '../../data/metadata\\\\s8192044', '../../data/metadata\\\\s8192045', '../../data/metadata\\\\s8192048', '../../data/metadata\\\\s8192049', '../../data/metadata\\\\s8192050', '../../data/metadata\\\\s8192052', '../../data/metadata\\\\s8192053', '../../data/metadata\\\\s8192054', '../../data/metadata\\\\s8192055', '../../data/metadata\\\\s8192056', '../../data/metadata\\\\s8192058', '../../data/metadata\\\\s8192059', '../../data/metadata\\\\s8192100', '../../data/metadata\\\\s8192101', '../../data/metadata\\\\s8192102', '../../data/metadata\\\\s8192103', '../../data/metadata\\\\s8192104', '../../data/metadata\\\\s8192105', '../../data/metadata\\\\s8192106', '../../data/metadata\\\\s8192107', '../../data/metadata\\\\s8192108', '../../data/metadata\\\\s8192109', '../../data/metadata\\\\s8192112', '../../data/metadata\\\\s8192113', '../../data/metadata\\\\s8192115', '../../data/metadata\\\\s8192117', '../../data/metadata\\\\s8192119', '../../data/metadata\\\\s8192121', '../../data/metadata\\\\s8192122']\n"
     ]
    },
    {
     "ename": "ValueError",
     "evalue": "unconverted data remains:  06:31:44.917358",
     "output_type": "error",
     "traceback": [
      "\u001b[1;31m---------------------------------------------------------------------------\u001b[0m",
      "\u001b[1;31mValueError\u001b[0m                                Traceback (most recent call last)",
      "\u001b[1;32m<ipython-input-131-2c1836623068>\u001b[0m in \u001b[0;36m<module>\u001b[1;34m()\u001b[0m\n\u001b[0;32m     33\u001b[0m     \u001b[1;32mreturn\u001b[0m \u001b[0mrandom\u001b[0m\u001b[1;33m.\u001b[0m\u001b[0mrandint\u001b[0m\u001b[1;33m(\u001b[0m\u001b[1;36m1\u001b[0m\u001b[1;33m,\u001b[0m \u001b[1;36m366\u001b[0m\u001b[1;33m)\u001b[0m\u001b[1;33m\u001b[0m\u001b[0m\n\u001b[0;32m     34\u001b[0m \u001b[1;33m\u001b[0m\u001b[0m\n\u001b[1;32m---> 35\u001b[1;33m \u001b[0mmetadata\u001b[0m \u001b[1;33m=\u001b[0m \u001b[0mload_metadata\u001b[0m\u001b[1;33m(\u001b[0m\u001b[1;34m\"../../data/metadata\"\u001b[0m\u001b[1;33m)\u001b[0m\u001b[1;33m\u001b[0m\u001b[0m\n\u001b[0m",
      "\u001b[1;32m<ipython-input-131-2c1836623068>\u001b[0m in \u001b[0;36mload_metadata\u001b[1;34m(datadir)\u001b[0m\n\u001b[0;32m     18\u001b[0m         \u001b[0mm\u001b[0m \u001b[1;33m=\u001b[0m \u001b[0mjson\u001b[0m\u001b[1;33m.\u001b[0m\u001b[0mloads\u001b[0m\u001b[1;33m(\u001b[0m\u001b[0mf\u001b[0m\u001b[1;33m.\u001b[0m\u001b[0mread\u001b[0m\u001b[1;33m(\u001b[0m\u001b[1;33m)\u001b[0m\u001b[1;33m.\u001b[0m\u001b[0mreplace\u001b[0m\u001b[1;33m(\u001b[0m\u001b[1;34m\"'\"\u001b[0m\u001b[1;33m,\u001b[0m \u001b[1;34m'\"'\u001b[0m\u001b[1;33m)\u001b[0m\u001b[1;33m)\u001b[0m\u001b[1;33m\u001b[0m\u001b[0m\n\u001b[0;32m     19\u001b[0m         \u001b[0mm\u001b[0m\u001b[1;33m[\u001b[0m\u001b[1;34m\"gps\"\u001b[0m\u001b[1;33m]\u001b[0m \u001b[1;33m=\u001b[0m \u001b[0mget_lat_long\u001b[0m\u001b[1;33m(\u001b[0m\u001b[1;36m0\u001b[0m\u001b[1;33m)\u001b[0m\u001b[1;33m\u001b[0m\u001b[0m\n\u001b[1;32m---> 20\u001b[1;33m         \u001b[0mm\u001b[0m\u001b[1;33m[\u001b[0m\u001b[1;34m\"timestamp\"\u001b[0m\u001b[1;33m]\u001b[0m \u001b[1;33m=\u001b[0m \u001b[0mdatetime\u001b[0m\u001b[1;33m.\u001b[0m\u001b[0mdatetime\u001b[0m\u001b[1;33m.\u001b[0m\u001b[0mstrptime\u001b[0m\u001b[1;33m(\u001b[0m\u001b[0mm\u001b[0m\u001b[1;33m[\u001b[0m\u001b[1;34m\"timestamp\"\u001b[0m\u001b[1;33m]\u001b[0m\u001b[1;33m,\u001b[0m \u001b[1;34m'%Y-%m-%d'\u001b[0m\u001b[1;33m)\u001b[0m \u001b[1;31m#%H:%M:%S.%f\u001b[0m\u001b[1;33m\u001b[0m\u001b[0m\n\u001b[0m\u001b[0;32m     21\u001b[0m         \u001b[0mm\u001b[0m\u001b[1;33m[\u001b[0m\u001b[1;34m\"filename\"\u001b[0m\u001b[1;33m]\u001b[0m \u001b[1;33m=\u001b[0m \u001b[0mfile\u001b[0m\u001b[1;33m.\u001b[0m\u001b[0msplit\u001b[0m\u001b[1;33m(\u001b[0m\u001b[1;34m\"\\\\\"\u001b[0m\u001b[1;33m)\u001b[0m\u001b[1;33m[\u001b[0m\u001b[1;33m-\u001b[0m\u001b[1;36m1\u001b[0m\u001b[1;33m]\u001b[0m\u001b[1;33m\u001b[0m\u001b[0m\n\u001b[0;32m     22\u001b[0m         \u001b[0mmeta\u001b[0m\u001b[1;33m.\u001b[0m\u001b[0mappend\u001b[0m\u001b[1;33m(\u001b[0m\u001b[0mm\u001b[0m\u001b[1;33m)\u001b[0m\u001b[1;33m\u001b[0m\u001b[0m\n",
      "\u001b[1;32mD:\\Programs\\Anaconda\\lib\\_strptime.py\u001b[0m in \u001b[0;36m_strptime_datetime\u001b[1;34m(cls, data_string, format)\u001b[0m\n\u001b[0;32m    563\u001b[0m     \"\"\"Return a class cls instance based on the input string and the\n\u001b[0;32m    564\u001b[0m     format string.\"\"\"\n\u001b[1;32m--> 565\u001b[1;33m     \u001b[0mtt\u001b[0m\u001b[1;33m,\u001b[0m \u001b[0mfraction\u001b[0m \u001b[1;33m=\u001b[0m \u001b[0m_strptime\u001b[0m\u001b[1;33m(\u001b[0m\u001b[0mdata_string\u001b[0m\u001b[1;33m,\u001b[0m \u001b[0mformat\u001b[0m\u001b[1;33m)\u001b[0m\u001b[1;33m\u001b[0m\u001b[0m\n\u001b[0m\u001b[0;32m    566\u001b[0m     \u001b[0mtzname\u001b[0m\u001b[1;33m,\u001b[0m \u001b[0mgmtoff\u001b[0m \u001b[1;33m=\u001b[0m \u001b[0mtt\u001b[0m\u001b[1;33m[\u001b[0m\u001b[1;33m-\u001b[0m\u001b[1;36m2\u001b[0m\u001b[1;33m:\u001b[0m\u001b[1;33m]\u001b[0m\u001b[1;33m\u001b[0m\u001b[0m\n\u001b[0;32m    567\u001b[0m     \u001b[0margs\u001b[0m \u001b[1;33m=\u001b[0m \u001b[0mtt\u001b[0m\u001b[1;33m[\u001b[0m\u001b[1;33m:\u001b[0m\u001b[1;36m6\u001b[0m\u001b[1;33m]\u001b[0m \u001b[1;33m+\u001b[0m \u001b[1;33m(\u001b[0m\u001b[0mfraction\u001b[0m\u001b[1;33m,\u001b[0m\u001b[1;33m)\u001b[0m\u001b[1;33m\u001b[0m\u001b[0m\n",
      "\u001b[1;32mD:\\Programs\\Anaconda\\lib\\_strptime.py\u001b[0m in \u001b[0;36m_strptime\u001b[1;34m(data_string, format)\u001b[0m\n\u001b[0;32m    363\u001b[0m     \u001b[1;32mif\u001b[0m \u001b[0mlen\u001b[0m\u001b[1;33m(\u001b[0m\u001b[0mdata_string\u001b[0m\u001b[1;33m)\u001b[0m \u001b[1;33m!=\u001b[0m \u001b[0mfound\u001b[0m\u001b[1;33m.\u001b[0m\u001b[0mend\u001b[0m\u001b[1;33m(\u001b[0m\u001b[1;33m)\u001b[0m\u001b[1;33m:\u001b[0m\u001b[1;33m\u001b[0m\u001b[0m\n\u001b[0;32m    364\u001b[0m         raise ValueError(\"unconverted data remains: %s\" %\n\u001b[1;32m--> 365\u001b[1;33m                           data_string[found.end():])\n\u001b[0m\u001b[0;32m    366\u001b[0m \u001b[1;33m\u001b[0m\u001b[0m\n\u001b[0;32m    367\u001b[0m     \u001b[0miso_year\u001b[0m \u001b[1;33m=\u001b[0m \u001b[0myear\u001b[0m \u001b[1;33m=\u001b[0m \u001b[1;32mNone\u001b[0m\u001b[1;33m\u001b[0m\u001b[0m\n",
      "\u001b[1;31mValueError\u001b[0m: unconverted data remains:  06:31:44.917358"
     ]
    }
   ],
   "source": [
    "import json\n",
    "import random\n",
    "import plotly\n",
    "import plotly.plotly as py\n",
    "import plotly.graph_objs as go\n",
    "import glob\n",
    "import datetime\n",
    "\n",
    "def load_metadata (datadir):\n",
    "    filenames = glob.glob(datadir + '/*', recursive=False)\n",
    "    filenames = [file for file in filenames if not file.endswith(\"png\")]\n",
    "    print(filenames)\n",
    "    \n",
    "    meta = list()\n",
    "    for file in filenames:\n",
    "        f = open(file)\n",
    "        \n",
    "        m = json.loads(f.read().replace(\"'\", '\"'))\n",
    "        m[\"gps\"] = get_lat_long(0)\n",
    "        m[\"timestamp\"] = datetime.datetime.strptime(m[\"timestamp\"], '%Y-%m-%d') #%H:%M:%S.%f\n",
    "        m[\"filename\"] = file.split(\"\\\\\")[-1]\n",
    "        meta.append(m)\n",
    "        \n",
    "        f.close()\n",
    "        \n",
    "    return meta\n",
    "\n",
    "# Latitude, longitude\n",
    "def get_lat_long (data):\n",
    "    return random.uniform(33.824, 36.35), random.uniform(-84, -75)\n",
    "\n",
    "def get_timestamp (data):\n",
    "    return random.randint(1, 366)\n",
    "\n",
    "metadata = load_metadata(\"../../data/metadata\")"
   ]
  },
  {
   "cell_type": "code",
   "execution_count": 132,
   "metadata": {},
   "outputs": [
    {
     "name": "stdout",
     "output_type": "stream",
     "text": [
      "[{'date': '        ', 'loc': '', 'species': ['LABO'], 'spec': 'SD1 Mod1', 'note1': 'V4062g', 'note2': '', 'divratio': 8, 'timestamp': datetime.datetime(2015, 6, 1, 21, 0, 45, 138071), 'id': '', 'gps': (35.58144123889941, -82.70117047165614), 'filename': 'P6012100'}, {'date': '        ', 'loc': '', 'species': ['NOID'], 'spec': 'SD1 Mod1', 'note1': 'V4062g', 'note2': '', 'divratio': 8, 'timestamp': datetime.datetime(2015, 6, 1, 21, 1, 44, 95469), 'id': '', 'gps': (34.07785095372856, -76.47825533910566), 'filename': 'P6012101'}, {'date': '        ', 'loc': '', 'species': ['NOID'], 'spec': 'SD1 Mod1', 'note1': 'V4062g', 'note2': '', 'divratio': 8, 'timestamp': datetime.datetime(2015, 6, 1, 21, 8, 56, 173117), 'id': '', 'gps': (35.917702660699604, -82.53543568452457), 'filename': 'P6012108'}, {'date': '        ', 'loc': '', 'species': ['NYHU'], 'spec': 'SD1 Mod1', 'note1': 'V4062g', 'note2': '', 'divratio': 8, 'timestamp': datetime.datetime(2015, 6, 1, 21, 12, 25, 296107), 'id': '', 'gps': (34.04107995109893, -80.95112628384938), 'filename': 'P6012112'}, {'date': '        ', 'loc': '', 'species': ['NOID'], 'spec': 'SD1 Mod1', 'note1': 'V4062g', 'note2': '', 'divratio': 8, 'timestamp': datetime.datetime(2015, 6, 1, 21, 14, 26, 839823), 'id': '', 'gps': (34.78128254328767, -78.95466176631388), 'filename': 'P6012114'}, {'date': '        ', 'loc': '', 'species': ['NOID'], 'spec': 'SD1 Mod1', 'note1': 'V4062g', 'note2': '', 'divratio': 8, 'timestamp': datetime.datetime(2015, 6, 1, 21, 16, 14, 79068), 'id': '', 'gps': (35.929929124120136, -76.79573926614601), 'filename': 'P6012116'}, {'date': '        ', 'loc': '', 'species': ['NOID'], 'spec': 'SD1 Mod1', 'note1': 'V4062g', 'note2': '', 'divratio': 8, 'timestamp': datetime.datetime(2015, 6, 1, 21, 18, 32, 204150), 'id': '', 'gps': (33.83354765379301, -78.93493988851213), 'filename': 'P6012118'}, {'date': '        ', 'loc': '', 'species': ['NOID'], 'spec': 'SD1 Mod1', 'note1': 'V4062g', 'note2': '', 'divratio': 8, 'timestamp': datetime.datetime(2015, 6, 1, 21, 22, 57, 749335), 'id': '', 'gps': (35.863097347703366, -83.76622529731316), 'filename': 'P6012122'}, {'date': '        ', 'loc': '', 'species': ['LABO'], 'spec': 'SD1 Mod1', 'note1': 'V4062g', 'note2': '', 'divratio': 8, 'timestamp': datetime.datetime(2015, 6, 1, 21, 23, 6, 863182), 'id': '', 'gps': (35.18809044060893, -79.05238770643997), 'filename': 'P6012123'}, {'date': '        ', 'loc': '', 'species': ['LABO'], 'spec': 'SD1 Mod1', 'note1': 'V4062g', 'note2': '', 'divratio': 8, 'timestamp': datetime.datetime(2015, 6, 1, 21, 26, 59, 253834), 'id': '', 'gps': (34.27977556411052, -82.54972127683195), 'filename': 'P6012126'}, {'date': '        ', 'loc': '', 'species': ['LABO'], 'spec': 'SD1 Mod1', 'note1': 'V4062g', 'note2': '', 'divratio': 8, 'timestamp': datetime.datetime(2015, 6, 1, 21, 27, 16, 205979), 'id': '', 'gps': (35.124916070340156, -80.04761230016838), 'filename': 'P6012127'}, {'date': '        ', 'loc': '', 'species': ['social', 'EPFU', 'LABO', ''], 'spec': 'SD1 Mod1', 'note1': 'V4062g', 'note2': '', 'divratio': 8, 'timestamp': datetime.datetime(2015, 6, 1, 21, 29, 40, 185278), 'id': '', 'gps': (35.3135254705684, -81.94730626034791), 'filename': 'P6012129'}, {'date': '        ', 'loc': '', 'species': ['NOID'], 'spec': 'SD1 Mod1', 'note1': 'V4062g', 'note2': '', 'divratio': 8, 'timestamp': datetime.datetime(2015, 6, 1, 21, 30, 40, 707853), 'id': '', 'gps': (34.23918389933165, -78.11833464608203), 'filename': 'P6012130'}, {'date': '        ', 'loc': '', 'species': ['LABO'], 'spec': 'SD1 Mod1', 'note1': 'V4062g', 'note2': '', 'divratio': 8, 'timestamp': datetime.datetime(2015, 6, 1, 21, 31, 55, 45699), 'id': '', 'gps': (34.22621914640059, -79.83903888773031), 'filename': 'P6012131'}, {'date': '        ', 'loc': '', 'species': ['NOID'], 'spec': 'SD1 Mod1', 'note1': 'V4062g', 'note2': '', 'divratio': 8, 'timestamp': datetime.datetime(2015, 6, 1, 21, 34, 22, 421673), 'id': '', 'gps': (34.815176432323014, -80.18610122951888), 'filename': 'P6012134'}, {'date': '        ', 'loc': '', 'species': ['LABO'], 'spec': 'SD1 Mod1', 'note1': 'V4062g', 'note2': '', 'divratio': 8, 'timestamp': datetime.datetime(2015, 6, 1, 21, 43, 38, 390925), 'id': '', 'gps': (35.08806905098657, -75.05989885115133), 'filename': 'P6012143'}, {'date': '        ', 'loc': '', 'species': ['PESU'], 'spec': 'SD1 Mod1', 'note1': 'V4062g', 'note2': '', 'divratio': 8, 'timestamp': datetime.datetime(2015, 6, 2, 21, 6, 5, 221941), 'id': '', 'gps': (34.282917532344804, -83.54478083354063), 'filename': 'P6022106'}, {'date': '        ', 'loc': '', 'species': ['NYHU'], 'spec': 'SD1 Mod1', 'note1': 'V4062g', 'note2': '', 'divratio': 8, 'timestamp': datetime.datetime(2015, 6, 2, 21, 12, 11, 412763), 'id': '', 'gps': (33.87380323014931, -83.61400960862532), 'filename': 'P6022112'}, {'date': '        ', 'loc': '', 'species': ['NOID'], 'spec': 'SD1 Mod1', 'note1': 'V4062g', 'note2': '', 'divratio': 8, 'timestamp': datetime.datetime(2015, 6, 2, 21, 15, 27, 1543), 'id': '', 'gps': (34.408742034560674, -82.43480598192154), 'filename': 'P6022115'}, {'date': '        ', 'loc': '', 'species': ['NYHU'], 'spec': 'SD1 Mod1', 'note1': 'V4062g', 'note2': '', 'divratio': 8, 'timestamp': datetime.datetime(2015, 6, 2, 21, 18, 42, 950324), 'id': '', 'gps': (36.26911389800906, -81.93535089999727), 'filename': 'P6022118'}, {'date': '        ', 'loc': '', 'species': ['NYHU'], 'spec': 'SD1 Mod1', 'note1': 'V4062g', 'note2': '', 'divratio': 8, 'timestamp': datetime.datetime(2015, 6, 2, 21, 30, 55, 53174), 'id': '', 'gps': (35.45007924657246, -75.17812853520768), 'filename': 'P6022130'}, {'date': '        ', 'loc': '', 'species': ['NOID'], 'spec': 'SD1 Mod1', 'note1': 'V4062g', 'note2': '', 'divratio': 8, 'timestamp': datetime.datetime(2015, 6, 2, 21, 35, 17, 777673), 'id': '', 'gps': (35.85259028054822, -76.34921325412408), 'filename': 'P6022135'}, {'date': '        ', 'loc': '', 'species': ['NYHU'], 'spec': 'SD1 Mod1', 'note1': 'V4062g', 'note2': '', 'divratio': 8, 'timestamp': datetime.datetime(2015, 6, 2, 21, 37, 24, 770148), 'id': '', 'gps': (35.94879466390646, -81.05410593146013), 'filename': 'P6022137'}, {'date': '        ', 'loc': '', 'species': ['LABO', 'PESU'], 'spec': 'SD1 Mod1', 'note1': 'V4062g', 'note2': '', 'divratio': 8, 'timestamp': datetime.datetime(2015, 6, 2, 21, 47, 18, 771940), 'id': '', 'gps': (35.91223718987484, -79.43508111508633), 'filename': 'P6022147'}, {'date': '        ', 'loc': '', 'species': ['NOID'], 'spec': 'SD1 Mod1', 'note1': 'V4062g', 'note2': '', 'divratio': 8, 'timestamp': datetime.datetime(2015, 6, 3, 21, 7, 23, 594265), 'id': '', 'gps': (36.14853566874889, -76.35732884998525), 'filename': 'P6032107'}, {'date': '        ', 'loc': '', 'species': ['NYHU'], 'spec': 'SD1 Mod1', 'note1': 'V4062g', 'note2': '', 'divratio': 8, 'timestamp': datetime.datetime(2015, 6, 3, 21, 8, 14, 215543), 'id': '', 'gps': (35.57373507857958, -81.8334949737785), 'filename': 'P6032108'}, {'date': '        ', 'loc': '', 'species': ['NOID'], 'spec': 'SD1 Mod1', 'note1': 'V4062g', 'note2': '', 'divratio': 8, 'timestamp': datetime.datetime(2015, 6, 3, 21, 14, 44, 91165), 'id': '', 'gps': (34.46452410567939, -78.16200660557405), 'filename': 'P6032114'}, {'date': '        ', 'loc': '', 'species': ['NOID'], 'spec': 'SD1 Mod1', 'note1': 'V4062g', 'note2': '', 'divratio': 8, 'timestamp': datetime.datetime(2015, 6, 3, 21, 15, 20, 225920), 'id': '', 'gps': (36.221310764219986, -75.72743130575141), 'filename': 'P6032115'}, {'date': '        ', 'loc': '', 'species': ['NOID'], 'spec': 'SD1 Mod1', 'note1': 'V4062g', 'note2': '', 'divratio': 8, 'timestamp': datetime.datetime(2015, 6, 3, 21, 22, 47, 561561), 'id': '', 'gps': (36.1217382011822, -75.46350871730768), 'filename': 'P6032122'}, {'date': '        ', 'loc': '', 'species': ['NOID'], 'spec': 'SD1 Mod1', 'note1': 'V4062g', 'note2': '', 'divratio': 8, 'timestamp': datetime.datetime(2015, 6, 3, 21, 23, 2, 231543), 'id': '', 'gps': (34.55460497055514, -79.56437658440002), 'filename': 'P6032123'}, {'date': '        ', 'loc': '', 'species': ['NOID'], 'spec': 'SD1 Mod1', 'note1': 'V4062g', 'note2': '', 'divratio': 8, 'timestamp': datetime.datetime(2015, 6, 3, 21, 29, 22, 289767), 'id': '', 'gps': (35.18857849751579, -75.60651818833537), 'filename': 'P6032129'}, {'date': '        ', 'loc': '', 'species': ['NOID'], 'spec': 'SD1 Mod1', 'note1': 'V4062g', 'note2': '', 'divratio': 8, 'timestamp': datetime.datetime(2015, 6, 3, 21, 31, 57, 900019), 'id': '', 'gps': (35.5845975046478, -81.1250296317698), 'filename': 'P6032131'}, {'date': '        ', 'loc': '', 'species': ['LABO'], 'spec': 'SD1 Mod1', 'note1': 'V4062g', 'note2': '', 'divratio': 8, 'timestamp': datetime.datetime(2015, 6, 3, 21, 32, 21, 959708), 'id': '', 'gps': (34.4374975106086, -83.9404447413266), 'filename': 'P6032132'}, {'date': '        ', 'loc': '', 'species': ['LABO'], 'spec': 'SD1 Mod1', 'note1': 'V4062g', 'note2': '', 'divratio': 8, 'timestamp': datetime.datetime(2015, 6, 3, 21, 33, 56, 45819), 'id': '', 'gps': (34.08971843678927, -82.10544942621249), 'filename': 'P6032133'}, {'date': '        ', 'loc': '', 'species': ['NYHU'], 'spec': 'SD1 Mod1', 'note1': 'V4062g', 'note2': '', 'divratio': 8, 'timestamp': datetime.datetime(2015, 6, 3, 21, 34, 46, 748181), 'id': '', 'gps': (35.331644429619644, -83.97934923467673), 'filename': 'P6032134'}, {'date': '        ', 'loc': '', 'species': ['NYHU'], 'spec': 'SD1 Mod1', 'note1': 'V4062g', 'note2': '', 'divratio': 8, 'timestamp': datetime.datetime(2015, 6, 3, 21, 35, 1, 787697), 'id': '', 'gps': (36.27332695887017, -83.50917377092425), 'filename': 'P6032135'}, {'date': '        ', 'loc': '', 'species': ['LABO'], 'spec': 'SD1 Mod1', 'note1': 'V4062g', 'note2': '', 'divratio': 8, 'timestamp': datetime.datetime(2015, 6, 3, 21, 37, 46, 61755), 'id': '', 'gps': (34.138859451828495, -81.04715342845843), 'filename': 'P6032137'}, {'date': '        ', 'loc': '', 'species': ['NYHU'], 'spec': 'SD1 Mod1', 'note1': 'V4062g', 'note2': '', 'divratio': 8, 'timestamp': datetime.datetime(2015, 6, 3, 21, 38, 57, 140543), 'id': '', 'gps': (33.855112318732814, -79.80453144930607), 'filename': 'P6032138'}, {'date': '        ', 'loc': '', 'species': ['NOID'], 'spec': 'SD1 Mod1', 'note1': 'V4062g', 'note2': '', 'divratio': 8, 'timestamp': datetime.datetime(2015, 6, 3, 21, 39, 39, 359752), 'id': '', 'gps': (34.058033118906096, -82.16724277420471), 'filename': 'P6032139'}, {'date': '        ', 'loc': '', 'species': ['LABO'], 'spec': 'SD1 Mod1', 'note1': 'V4062g', 'note2': '', 'divratio': 8, 'timestamp': datetime.datetime(2015, 6, 3, 21, 40, 1, 631250), 'id': '', 'gps': (35.59342351072553, -76.65948091568649), 'filename': 'P6032140'}, {'date': '        ', 'loc': '', 'species': ['LACI'], 'spec': 'SD1 Mod1', 'note1': 'V4062g', 'note2': '', 'divratio': 8, 'timestamp': datetime.datetime(2015, 6, 3, 21, 46, 6, 638948), 'id': '', 'gps': (34.65379553584186, -79.44221648172963), 'filename': 'P6032146'}, {'date': '        ', 'loc': '', 'species': ['NYHU'], 'spec': 'SD1 Mod1', 'note1': 'V4062g', 'note2': '', 'divratio': 8, 'timestamp': datetime.datetime(2015, 6, 3, 21, 50, 33, 175357), 'id': '', 'gps': (35.26782188442388, -77.28382430238868), 'filename': 'P6032150'}, {'date': '        ', 'loc': '', 'species': ['NOID'], 'spec': 'SD1 Mod1', 'note1': 'V4062g', 'note2': '', 'divratio': 8, 'timestamp': datetime.datetime(2015, 6, 3, 21, 52, 14, 306221), 'id': '', 'gps': (36.14144054366891, -80.17112925289764), 'filename': 'P6032152'}, {'date': '        ', 'loc': '', 'species': ['EPFU'], 'spec': 'SD1 Mod1', 'note1': 'V4062g', 'note2': '', 'divratio': 8, 'timestamp': datetime.datetime(2015, 6, 5, 21, 8, 15, 596768), 'id': '', 'gps': (35.375656904168885, -80.11406206925395), 'filename': 'P6052108'}, {'date': '        ', 'loc': '', 'species': ['NOID'], 'spec': 'SD1 Mod1', 'note1': 'V4062g', 'note2': '', 'divratio': 8, 'timestamp': datetime.datetime(2015, 6, 5, 21, 9, 55, 507946), 'id': '', 'gps': (35.489223843152914, -83.12195267731569), 'filename': 'P6052109'}, {'date': '        ', 'loc': '', 'species': ['NYHU'], 'spec': 'SD1 Mod1', 'note1': 'V4062g', 'note2': '', 'divratio': 8, 'timestamp': datetime.datetime(2015, 6, 5, 21, 19, 30, 971493), 'id': '', 'gps': (34.569786826511965, -83.90578102515535), 'filename': 'P6052119'}, {'date': '        ', 'loc': '', 'species': ['NOID'], 'spec': 'SD1 Mod1', 'note1': 'V4062g', 'note2': '', 'divratio': 8, 'timestamp': datetime.datetime(2015, 6, 5, 21, 21, 33, 467255), 'id': '', 'gps': (35.46780038323188, -80.31724225048295), 'filename': 'P6052121'}, {'date': '        ', 'loc': '', 'species': ['NOID'], 'spec': 'SD1 Mod1', 'note1': 'V4062g', 'note2': '', 'divratio': 8, 'timestamp': datetime.datetime(2015, 6, 5, 21, 27, 57, 215143), 'id': '', 'gps': (35.953121016965554, -81.51932485422962), 'filename': 'P6052127'}, {'date': '        ', 'loc': '', 'species': ['LANO'], 'spec': 'SD1 Mod1', 'note1': 'V4062g', 'note2': '', 'divratio': 8, 'timestamp': datetime.datetime(2015, 6, 5, 21, 28, 38, 56102), 'id': '', 'gps': (35.613537847159684, -83.85373579571119), 'filename': 'P6052128'}, {'date': '        ', 'loc': '', 'species': ['LABO'], 'spec': 'SD1 Mod1', 'note1': 'V4062g', 'note2': '', 'divratio': 8, 'timestamp': datetime.datetime(2015, 6, 5, 21, 30, 15, 452782), 'id': '', 'gps': (34.86124881874086, -76.0276797086423), 'filename': 'P6052130'}, {'date': '        ', 'loc': '', 'species': ['NYHU'], 'spec': 'SD1 Mod1', 'note1': 'V4062g', 'note2': '', 'divratio': 8, 'timestamp': datetime.datetime(2015, 6, 5, 21, 33, 29, 801475), 'id': '', 'gps': (35.56175690870262, -80.06234039248532), 'filename': 'P6052133'}, {'date': '        ', 'loc': '', 'species': ['LABO'], 'spec': 'SD1 Mod1', 'note1': 'V4062g', 'note2': '', 'divratio': 8, 'timestamp': datetime.datetime(2015, 6, 5, 21, 34, 56, 349101), 'id': '', 'gps': (35.74825488886167, -78.18821891657893), 'filename': 'P6052134'}, {'date': '        ', 'loc': '', 'species': ['NOID'], 'spec': 'SD1 Mod1', 'note1': 'V4062g', 'note2': '', 'divratio': 8, 'timestamp': datetime.datetime(2015, 6, 5, 21, 37, 43, 51791), 'id': '', 'gps': (34.612588187921915, -81.73264314331524), 'filename': 'P6052137'}, {'date': '        ', 'loc': '', 'species': ['LABO'], 'spec': 'SD1 Mod1', 'note1': 'V4062g', 'note2': '', 'divratio': 8, 'timestamp': datetime.datetime(2015, 6, 5, 21, 39, 27, 881941), 'id': '', 'gps': (36.00801589517805, -78.72328510523965), 'filename': 'P6052139'}, {'date': '        ', 'loc': '', 'species': ['NYHU'], 'spec': 'SD1 Mod1', 'note1': 'V4062g', 'note2': '', 'divratio': 8, 'timestamp': datetime.datetime(2015, 6, 5, 21, 40, 46, 838043), 'id': '', 'gps': (35.82947464188229, -75.80246260818771), 'filename': 'P6052140'}, {'date': '        ', 'loc': '', 'species': ['NOID'], 'spec': 'SD1 Mod1', 'note1': 'V4062g', 'note2': '', 'divratio': 8, 'timestamp': datetime.datetime(2015, 6, 5, 21, 41, 6, 105464), 'id': '', 'gps': (34.07845077989158, -80.83502849629423), 'filename': 'P6052141'}, {'date': '        ', 'loc': '', 'species': ['LABO'], 'spec': 'SD1 Mod1', 'note1': 'V4062g', 'note2': '', 'divratio': 8, 'timestamp': datetime.datetime(2015, 6, 5, 21, 43, 51, 490558), 'id': '', 'gps': (34.25152123846105, -78.58400266208552), 'filename': 'P6052143'}, {'date': '        ', 'loc': '', 'species': ['LABO'], 'spec': 'SD1 Mod1', 'note1': 'V4062g', 'note2': '', 'divratio': 8, 'timestamp': datetime.datetime(2015, 6, 5, 21, 53, 8, 90001), 'id': '', 'gps': (35.6202928369477, -80.87270385385571), 'filename': 'P6052153'}, {'date': '        ', 'loc': '', 'species': ['LABO'], 'spec': 'SD1 Mod1', 'note1': 'V4062g', 'note2': '', 'divratio': 8, 'timestamp': datetime.datetime(2015, 6, 6, 21, 39, 4, 753555), 'id': '', 'gps': (34.75842228120689, -78.49163636923379), 'filename': 'P6062139'}, {'date': '        ', 'loc': '', 'species': ['NOID'], 'spec': 'SD1 Mod1', 'note1': 'V4062g', 'note2': '', 'divratio': 8, 'timestamp': datetime.datetime(2015, 6, 6, 21, 40, 39, 639065), 'id': '', 'gps': (33.830137571490205, -83.98060558226595), 'filename': 'P6062140'}, {'date': '        ', 'loc': '', 'species': ['NYHU'], 'spec': 'SD1 Mod1', 'note1': 'V4062g', 'note2': '', 'divratio': 8, 'timestamp': datetime.datetime(2015, 6, 6, 21, 41, 46, 180211), 'id': '', 'gps': (36.107147448046106, -75.65336339045493), 'filename': 'P6062141'}, {'date': '        ', 'loc': '', 'species': ['TABR'], 'spec': 'SD1 Mod1', 'note1': 'V4062g', 'note2': '', 'divratio': 8, 'timestamp': datetime.datetime(2015, 6, 6, 21, 43, 19, 943053), 'id': '', 'gps': (34.97624308318555, -76.76016389881495), 'filename': 'P6062143'}, {'date': '        ', 'loc': '', 'species': ['PESU'], 'spec': 'SD1 Mod1', 'note1': 'V4062g', 'note2': '', 'divratio': 8, 'timestamp': datetime.datetime(2015, 6, 6, 21, 45, 54, 294505), 'id': '', 'gps': (35.129177186939025, -81.40141483909646), 'filename': 'P6062145'}, {'date': '        ', 'loc': '', 'species': ['TABR'], 'spec': 'SD1 Mod1', 'note1': 'V4062g', 'note2': '', 'divratio': 8, 'timestamp': datetime.datetime(2015, 6, 6, 21, 47, 47, 474397), 'id': '', 'gps': (33.96386231619835, -83.04825472199637), 'filename': 'P6062147'}, {'date': '        ', 'loc': '', 'species': ['NYHU'], 'spec': 'SD1 Mod1', 'note1': 'V4062g', 'note2': '', 'divratio': 8, 'timestamp': datetime.datetime(2015, 6, 6, 21, 51, 59, 345955), 'id': '', 'gps': (35.66570112617627, -77.53587808892212), 'filename': 'P6062151'}, {'date': '        ', 'loc': '', 'species': ['TABR'], 'spec': 'SD1 Mod1', 'note1': 'V4062g', 'note2': '', 'divratio': 8, 'timestamp': datetime.datetime(2015, 6, 6, 21, 57, 26, 701004), 'id': '', 'gps': (33.871106595061114, -82.7932265412185), 'filename': 'P6062157'}, {'date': '        ', 'loc': '', 'species': ['LABO'], 'spec': 'SD1 Mod1', 'note1': 'V4062g', 'note2': '', 'divratio': 8, 'timestamp': datetime.datetime(2015, 6, 6, 22, 1, 53, 652911), 'id': '', 'gps': (34.112673547733266, -76.67057244563249), 'filename': 'P6062201'}, {'date': '        ', 'loc': '', 'species': ['NOID'], 'spec': 'SD1 Mod1', 'note1': 'V4062g', 'note2': '', 'divratio': 8, 'timestamp': datetime.datetime(2015, 6, 6, 22, 2, 51, 248028), 'id': '', 'gps': (36.1344253017587, -80.7246690526902), 'filename': 'P6062202'}, {'date': '        ', 'loc': '', 'species': ['LABO'], 'spec': 'SD1 Mod1', 'note1': 'V4062g', 'note2': '', 'divratio': 8, 'timestamp': datetime.datetime(2015, 6, 6, 22, 3, 42, 235311), 'id': '', 'gps': (34.92795154276642, -82.63930826609608), 'filename': 'P6062203'}, {'date': '        ', 'loc': '', 'species': ['NOID'], 'spec': 'SD1 Mod1', 'note1': 'V4062g', 'note2': '', 'divratio': 8, 'timestamp': datetime.datetime(2015, 6, 6, 22, 8, 3, 36568), 'id': '', 'gps': (35.68182117267189, -78.11313445840482), 'filename': 'P6062208'}, {'date': '        ', 'loc': '', 'species': ['LABO'], 'spec': 'SD1 Mod1', 'note1': 'V4062g', 'note2': '', 'divratio': 8, 'timestamp': datetime.datetime(2015, 6, 6, 22, 9, 1, 565659), 'id': '', 'gps': (35.63377693373064, -80.9697859351096), 'filename': 'P6062209'}, {'date': '        ', 'loc': '', 'species': ['LABO'], 'spec': 'SD1 Mod1', 'note1': 'V4062g', 'note2': '', 'divratio': 8, 'timestamp': datetime.datetime(2015, 6, 6, 22, 10, 45, 568098), 'id': '', 'gps': (34.18830641542415, -77.20163231278849), 'filename': 'P6062210'}, {'date': '        ', 'loc': '', 'species': ['LABO'], 'spec': 'SD1 Mod1', 'note1': 'V4062g', 'note2': '', 'divratio': 8, 'timestamp': datetime.datetime(2015, 6, 6, 22, 13, 51, 767607), 'id': '', 'gps': (33.8984164710297, -82.01891204788807), 'filename': 'P6062213'}, {'date': '        ', 'loc': '', 'species': ['NYHU'], 'spec': 'SD1 Mod1', 'note1': 'V4062g', 'note2': '', 'divratio': 8, 'timestamp': datetime.datetime(2015, 6, 6, 22, 18, 40, 436776), 'id': '', 'gps': (35.57734307868258, -81.68326901169038), 'filename': 'P6062218'}, {'date': '        ', 'loc': '', 'species': ['NOID'], 'spec': 'SD1 Mod1', 'note1': 'V4062g', 'note2': '', 'divratio': 8, 'timestamp': datetime.datetime(2015, 6, 6, 22, 19, 26, 984654), 'id': '', 'gps': (34.314781764407805, -82.96511950489354), 'filename': 'P6062219'}, {'date': '        ', 'loc': '', 'species': ['NOID'], 'spec': 'SD1 Mod1', 'note1': 'V4062g', 'note2': '', 'divratio': 8, 'timestamp': datetime.datetime(2756, 6, 11, 6, 31, 44, 917358), 'id': '', 'gps': (35.09263207093735, -82.79854841060438), 'filename': '56110631'}, {'date': '        ', 'loc': '', 'species': ['EPFU'], 'spec': 'SD1 Mod1', 'note1': 'V4062g', 'note2': '', 'divratio': 8, 'timestamp': datetime.datetime(2756, 6, 11, 6, 32, 54, 385556), 'id': '', 'gps': (35.64651439251543, -79.32682562228939), 'filename': '56110632'}, {'date': '        ', 'loc': '', 'species': ['NYHU'], 'spec': 'SD1 Mod1', 'note1': 'V4062g', 'note2': '', 'divratio': 8, 'timestamp': datetime.datetime(2756, 6, 11, 6, 34, 19, 54155), 'id': '', 'gps': (34.79454465033377, -75.69804633205246), 'filename': '56110634'}, {'date': '        ', 'loc': '', 'species': ['NYHU', 'foraging'], 'spec': 'SD1 Mod1', 'note1': 'V4062g', 'note2': '', 'divratio': 8, 'timestamp': datetime.datetime(2756, 6, 11, 6, 38, 30, 688935), 'id': '', 'gps': (35.472490209646516, -77.03211163198085), 'filename': '56110638'}, {'date': '        ', 'loc': '', 'species': ['LANO'], 'spec': 'SD1 Mod1', 'note1': 'V4062g', 'note2': '', 'divratio': 8, 'timestamp': datetime.datetime(2756, 6, 11, 6, 39, 59, 949007), 'id': '', 'gps': (36.080799281514075, -75.04726727046754), 'filename': '56110639'}, {'date': '        ', 'loc': '', 'species': ['PESU', 'foraging'], 'spec': 'SD1 Mod1', 'note1': 'V4062g', 'note2': '', 'divratio': 8, 'timestamp': datetime.datetime(2756, 6, 11, 6, 41, 24, 498077), 'id': '', 'gps': (36.13903354859469, -82.62680818830182), 'filename': '56110641'}, {'date': '        ', 'loc': '', 'species': ['LANO', 'PESU'], 'spec': 'SD1 Mod1', 'note1': 'V4062g', 'note2': '', 'divratio': 8, 'timestamp': datetime.datetime(2756, 6, 11, 6, 42, 14, 557042), 'id': '', 'gps': (34.65066171271926, -75.31956168636117), 'filename': '56110642'}, {'date': '        ', 'loc': '', 'species': ['PESU'], 'spec': 'SD1 Mod1', 'note1': 'V4062g', 'note2': '', 'divratio': 8, 'timestamp': datetime.datetime(2756, 6, 11, 6, 43, 15, 811825), 'id': '', 'gps': (35.255634321736, -82.3436352394632), 'filename': '56110643'}, {'date': '        ', 'loc': '', 'species': ['EPFU'], 'spec': 'SD1 Mod1', 'note1': 'V4062g', 'note2': '', 'divratio': 8, 'timestamp': datetime.datetime(2756, 6, 11, 6, 45, 59, 98236), 'id': '', 'gps': (36.30585044848557, -76.1347153236005), 'filename': '56110645'}, {'date': '        ', 'loc': '', 'species': ['EPFU'], 'spec': 'SD1 Mod1', 'note1': 'V4062g', 'note2': '', 'divratio': 8, 'timestamp': datetime.datetime(2756, 6, 11, 6, 46, 11, 126525), 'id': '', 'gps': (34.736740812782585, -79.75243515375114), 'filename': '56110646'}, {'date': '        ', 'loc': '', 'species': ['NOID'], 'spec': 'SD1 Mod1', 'note1': 'V4062g', 'note2': '', 'divratio': 8, 'timestamp': datetime.datetime(2756, 6, 11, 6, 49, 53, 766705), 'id': '', 'gps': (33.98301250379355, -78.6971113793904), 'filename': '56110649'}, {'date': '        ', 'loc': '', 'species': ['PESU', 'TABR'], 'spec': 'SD1 Mod1', 'note1': 'V4062g', 'note2': '', 'divratio': 8, 'timestamp': datetime.datetime(2756, 6, 11, 6, 50, 14, 112135), 'id': '', 'gps': (34.27036470813507, -83.83922753783595), 'filename': '56110650'}, {'date': '        ', 'loc': '', 'species': ['PESU'], 'spec': 'SD1 Mod1', 'note1': 'V4062g', 'note2': '', 'divratio': 8, 'timestamp': datetime.datetime(2756, 6, 11, 6, 51, 34, 783228), 'id': '', 'gps': (35.48249615321005, -77.06916858225007), 'filename': '56110651'}, {'date': '        ', 'loc': '', 'species': ['EPFU'], 'spec': 'SD1 Mod1', 'note1': 'V4062g', 'note2': '', 'divratio': 8, 'timestamp': datetime.datetime(2756, 6, 11, 6, 53, 40, 988124), 'id': '', 'gps': (35.642061077720584, -83.78737644804805), 'filename': '56110653'}, {'date': '        ', 'loc': '', 'species': ['NYHU'], 'spec': 'SD1 Mod1', 'note1': 'V4062g', 'note2': '', 'divratio': 8, 'timestamp': datetime.datetime(2756, 6, 11, 6, 54, 5, 362178), 'id': '', 'gps': (35.14247300305166, -83.73420509385274), 'filename': '56110654'}, {'date': '        ', 'loc': '', 'species': ['EPFU'], 'spec': 'SD1 Mod1', 'note1': 'V4062g', 'note2': '', 'divratio': 8, 'timestamp': datetime.datetime(2756, 6, 11, 6, 55, 40, 110121), 'id': '', 'gps': (35.543717390085455, -80.3046794088244), 'filename': '56110655'}, {'date': '        ', 'loc': '', 'species': ['EPFU'], 'spec': 'SD1 Mod1', 'note1': 'V4062g', 'note2': '', 'divratio': 8, 'timestamp': datetime.datetime(2756, 6, 11, 6, 56, 43, 29303), 'id': '', 'gps': (35.63624271540986, -81.14193176817712), 'filename': '56110656'}, {'date': '        ', 'loc': '', 'species': ['EPFU'], 'spec': 'SD1 Mod1', 'note1': 'V4062g', 'note2': '', 'divratio': 8, 'timestamp': datetime.datetime(2756, 6, 11, 7, 4, 47, 480565), 'id': '', 'gps': (34.378942426705535, -80.7930476462646), 'filename': '56110704'}, {'date': '        ', 'loc': '', 'species': ['EPFU'], 'spec': 'SD1 Mod1', 'note1': 'V4062g', 'note2': '', 'divratio': 8, 'timestamp': datetime.datetime(2756, 6, 11, 7, 6, 36, 126328), 'id': '', 'gps': (36.053491404663504, -79.82342989821407), 'filename': '56110706'}, {'date': '        ', 'loc': '', 'species': ['LABO'], 'spec': 'SD1 Mod1', 'note1': 'V4062g', 'note2': '', 'divratio': 8, 'timestamp': datetime.datetime(2756, 6, 11, 7, 8, 8, 331123), 'id': '', 'gps': (34.30171671676381, -79.70856439703996), 'filename': '56110708'}, {'date': '        ', 'loc': '', 'species': ['EPFU'], 'spec': 'SD1 Mod1', 'note1': 'V4062g', 'note2': '', 'divratio': 8, 'timestamp': datetime.datetime(2756, 6, 11, 7, 10, 31, 817615), 'id': '', 'gps': (34.134617721415985, -78.44785064744923), 'filename': '56110710'}, {'date': '        ', 'loc': '', 'species': ['LABO', 'LANO'], 'spec': 'SD1 Mod1', 'note1': 'V4062g', 'note2': '', 'divratio': 8, 'timestamp': datetime.datetime(2756, 6, 11, 7, 13, 34, 846556), 'id': '', 'gps': (33.907604588641526, -79.80889702816695), 'filename': '56110713'}, {'date': '        ', 'loc': '', 'species': ['PESU'], 'spec': 'SD1 Mod1', 'note1': 'V4062g', 'note2': '', 'divratio': 8, 'timestamp': datetime.datetime(2756, 6, 11, 7, 16, 41, 120553), 'id': '', 'gps': (34.48637850340961, -76.65727418908438), 'filename': '56110716'}, {'date': '        ', 'loc': '', 'species': ['NOID'], 'spec': 'SD1 Mod1', 'note1': 'V4062g', 'note2': '', 'divratio': 8, 'timestamp': datetime.datetime(2756, 6, 11, 7, 20, 50, 913603), 'id': '', 'gps': (36.22003648870816, -83.63936211673324), 'filename': '56110720'}, {'date': '        ', 'loc': '', 'species': ['LACI'], 'spec': 'SD1 Mod1', 'note1': 'V4062g', 'note2': '', 'divratio': 8, 'timestamp': datetime.datetime(2756, 6, 11, 7, 28, 51, 667363), 'id': '', 'gps': (34.0267433093003, -81.72518523380555), 'filename': '56110728'}]\n"
     ]
    },
    {
     "data": {
      "text/html": [
       "<script>requirejs.config({paths: { 'plotly': ['https://cdn.plot.ly/plotly-latest.min']},});if(!window.Plotly) {{require(['plotly'],function(plotly) {window.Plotly=plotly;});}}</script>"
      ],
      "text/vnd.plotly.v1+html": [
       "<script>requirejs.config({paths: { 'plotly': ['https://cdn.plot.ly/plotly-latest.min']},});if(!window.Plotly) {{require(['plotly'],function(plotly) {window.Plotly=plotly;});}}</script>"
      ]
     },
     "metadata": {},
     "output_type": "display_data"
    },
    {
     "data": {
      "application/vnd.plotly.v1+json": {
       "data": [
        {
         "lat": [
          35.58144123889941
         ],
         "locationmode": "USA-states",
         "lon": [
          -82.70117047165614
         ],
         "mode": "markers",
         "type": "scattergeo",
         "uid": "b0870082-5112-11e9-be90-5cf37071266d"
        }
       ],
       "frames": [
        {
         "data": [
          {
           "lat": [
            35.58144123889941
           ],
           "locationmode": "USA-states",
           "lon": [
            -82.70117047165614
           ],
           "mode": "markers",
           "type": "scattergeo"
          }
         ]
        },
        {
         "data": [
          {
           "lat": [
            34.07785095372856
           ],
           "locationmode": "USA-states",
           "lon": [
            -76.47825533910566
           ],
           "mode": "markers",
           "type": "scattergeo"
          }
         ]
        },
        {
         "data": [
          {
           "lat": [
            35.917702660699604
           ],
           "locationmode": "USA-states",
           "lon": [
            -82.53543568452457
           ],
           "mode": "markers",
           "type": "scattergeo"
          }
         ]
        },
        {
         "data": [
          {
           "lat": [
            34.04107995109893
           ],
           "locationmode": "USA-states",
           "lon": [
            -80.95112628384938
           ],
           "mode": "markers",
           "type": "scattergeo"
          }
         ]
        },
        {
         "data": [
          {
           "lat": [
            34.78128254328767
           ],
           "locationmode": "USA-states",
           "lon": [
            -78.95466176631388
           ],
           "mode": "markers",
           "type": "scattergeo"
          }
         ]
        },
        {
         "data": [
          {
           "lat": [
            35.929929124120136
           ],
           "locationmode": "USA-states",
           "lon": [
            -76.79573926614601
           ],
           "mode": "markers",
           "type": "scattergeo"
          }
         ]
        },
        {
         "data": [
          {
           "lat": [
            33.83354765379301
           ],
           "locationmode": "USA-states",
           "lon": [
            -78.93493988851213
           ],
           "mode": "markers",
           "type": "scattergeo"
          }
         ]
        },
        {
         "data": [
          {
           "lat": [
            35.863097347703366
           ],
           "locationmode": "USA-states",
           "lon": [
            -83.76622529731316
           ],
           "mode": "markers",
           "type": "scattergeo"
          }
         ]
        },
        {
         "data": [
          {
           "lat": [
            35.18809044060893
           ],
           "locationmode": "USA-states",
           "lon": [
            -79.05238770643997
           ],
           "mode": "markers",
           "type": "scattergeo"
          }
         ]
        },
        {
         "data": [
          {
           "lat": [
            34.27977556411052
           ],
           "locationmode": "USA-states",
           "lon": [
            -82.54972127683195
           ],
           "mode": "markers",
           "type": "scattergeo"
          }
         ]
        },
        {
         "data": [
          {
           "lat": [
            35.124916070340156
           ],
           "locationmode": "USA-states",
           "lon": [
            -80.04761230016838
           ],
           "mode": "markers",
           "type": "scattergeo"
          }
         ]
        },
        {
         "data": [
          {
           "lat": [
            35.3135254705684
           ],
           "locationmode": "USA-states",
           "lon": [
            -81.94730626034791
           ],
           "mode": "markers",
           "type": "scattergeo"
          }
         ]
        },
        {
         "data": [
          {
           "lat": [
            34.23918389933165
           ],
           "locationmode": "USA-states",
           "lon": [
            -78.11833464608203
           ],
           "mode": "markers",
           "type": "scattergeo"
          }
         ]
        },
        {
         "data": [
          {
           "lat": [
            34.22621914640059
           ],
           "locationmode": "USA-states",
           "lon": [
            -79.83903888773031
           ],
           "mode": "markers",
           "type": "scattergeo"
          }
         ]
        },
        {
         "data": [
          {
           "lat": [
            34.815176432323014
           ],
           "locationmode": "USA-states",
           "lon": [
            -80.18610122951888
           ],
           "mode": "markers",
           "type": "scattergeo"
          }
         ]
        },
        {
         "data": [
          {
           "lat": [
            35.08806905098657
           ],
           "locationmode": "USA-states",
           "lon": [
            -75.05989885115133
           ],
           "mode": "markers",
           "type": "scattergeo"
          }
         ]
        },
        {
         "data": [
          {
           "lat": [
            34.282917532344804
           ],
           "locationmode": "USA-states",
           "lon": [
            -83.54478083354063
           ],
           "mode": "markers",
           "type": "scattergeo"
          }
         ]
        },
        {
         "data": [
          {
           "lat": [
            33.87380323014931
           ],
           "locationmode": "USA-states",
           "lon": [
            -83.61400960862532
           ],
           "mode": "markers",
           "type": "scattergeo"
          }
         ]
        },
        {
         "data": [
          {
           "lat": [
            34.408742034560674
           ],
           "locationmode": "USA-states",
           "lon": [
            -82.43480598192154
           ],
           "mode": "markers",
           "type": "scattergeo"
          }
         ]
        },
        {
         "data": [
          {
           "lat": [
            36.26911389800906
           ],
           "locationmode": "USA-states",
           "lon": [
            -81.93535089999727
           ],
           "mode": "markers",
           "type": "scattergeo"
          }
         ]
        },
        {
         "data": [
          {
           "lat": [
            35.45007924657246
           ],
           "locationmode": "USA-states",
           "lon": [
            -75.17812853520768
           ],
           "mode": "markers",
           "type": "scattergeo"
          }
         ]
        },
        {
         "data": [
          {
           "lat": [
            35.85259028054822
           ],
           "locationmode": "USA-states",
           "lon": [
            -76.34921325412408
           ],
           "mode": "markers",
           "type": "scattergeo"
          }
         ]
        },
        {
         "data": [
          {
           "lat": [
            35.94879466390646
           ],
           "locationmode": "USA-states",
           "lon": [
            -81.05410593146013
           ],
           "mode": "markers",
           "type": "scattergeo"
          }
         ]
        },
        {
         "data": [
          {
           "lat": [
            35.91223718987484
           ],
           "locationmode": "USA-states",
           "lon": [
            -79.43508111508633
           ],
           "mode": "markers",
           "type": "scattergeo"
          }
         ]
        },
        {
         "data": [
          {
           "lat": [
            36.14853566874889
           ],
           "locationmode": "USA-states",
           "lon": [
            -76.35732884998525
           ],
           "mode": "markers",
           "type": "scattergeo"
          }
         ]
        },
        {
         "data": [
          {
           "lat": [
            35.57373507857958
           ],
           "locationmode": "USA-states",
           "lon": [
            -81.8334949737785
           ],
           "mode": "markers",
           "type": "scattergeo"
          }
         ]
        },
        {
         "data": [
          {
           "lat": [
            34.46452410567939
           ],
           "locationmode": "USA-states",
           "lon": [
            -78.16200660557405
           ],
           "mode": "markers",
           "type": "scattergeo"
          }
         ]
        },
        {
         "data": [
          {
           "lat": [
            36.221310764219986
           ],
           "locationmode": "USA-states",
           "lon": [
            -75.72743130575141
           ],
           "mode": "markers",
           "type": "scattergeo"
          }
         ]
        },
        {
         "data": [
          {
           "lat": [
            36.1217382011822
           ],
           "locationmode": "USA-states",
           "lon": [
            -75.46350871730768
           ],
           "mode": "markers",
           "type": "scattergeo"
          }
         ]
        },
        {
         "data": [
          {
           "lat": [
            34.55460497055514
           ],
           "locationmode": "USA-states",
           "lon": [
            -79.56437658440002
           ],
           "mode": "markers",
           "type": "scattergeo"
          }
         ]
        },
        {
         "data": [
          {
           "lat": [
            35.18857849751579
           ],
           "locationmode": "USA-states",
           "lon": [
            -75.60651818833537
           ],
           "mode": "markers",
           "type": "scattergeo"
          }
         ]
        },
        {
         "data": [
          {
           "lat": [
            35.5845975046478
           ],
           "locationmode": "USA-states",
           "lon": [
            -81.1250296317698
           ],
           "mode": "markers",
           "type": "scattergeo"
          }
         ]
        },
        {
         "data": [
          {
           "lat": [
            34.4374975106086
           ],
           "locationmode": "USA-states",
           "lon": [
            -83.9404447413266
           ],
           "mode": "markers",
           "type": "scattergeo"
          }
         ]
        },
        {
         "data": [
          {
           "lat": [
            34.08971843678927
           ],
           "locationmode": "USA-states",
           "lon": [
            -82.10544942621249
           ],
           "mode": "markers",
           "type": "scattergeo"
          }
         ]
        },
        {
         "data": [
          {
           "lat": [
            35.331644429619644
           ],
           "locationmode": "USA-states",
           "lon": [
            -83.97934923467673
           ],
           "mode": "markers",
           "type": "scattergeo"
          }
         ]
        },
        {
         "data": [
          {
           "lat": [
            36.27332695887017
           ],
           "locationmode": "USA-states",
           "lon": [
            -83.50917377092425
           ],
           "mode": "markers",
           "type": "scattergeo"
          }
         ]
        },
        {
         "data": [
          {
           "lat": [
            34.138859451828495
           ],
           "locationmode": "USA-states",
           "lon": [
            -81.04715342845843
           ],
           "mode": "markers",
           "type": "scattergeo"
          }
         ]
        },
        {
         "data": [
          {
           "lat": [
            33.855112318732814
           ],
           "locationmode": "USA-states",
           "lon": [
            -79.80453144930607
           ],
           "mode": "markers",
           "type": "scattergeo"
          }
         ]
        },
        {
         "data": [
          {
           "lat": [
            34.058033118906096
           ],
           "locationmode": "USA-states",
           "lon": [
            -82.16724277420471
           ],
           "mode": "markers",
           "type": "scattergeo"
          }
         ]
        },
        {
         "data": [
          {
           "lat": [
            35.59342351072553
           ],
           "locationmode": "USA-states",
           "lon": [
            -76.65948091568649
           ],
           "mode": "markers",
           "type": "scattergeo"
          }
         ]
        },
        {
         "data": [
          {
           "lat": [
            34.65379553584186
           ],
           "locationmode": "USA-states",
           "lon": [
            -79.44221648172963
           ],
           "mode": "markers",
           "type": "scattergeo"
          }
         ]
        },
        {
         "data": [
          {
           "lat": [
            35.26782188442388
           ],
           "locationmode": "USA-states",
           "lon": [
            -77.28382430238868
           ],
           "mode": "markers",
           "type": "scattergeo"
          }
         ]
        },
        {
         "data": [
          {
           "lat": [
            36.14144054366891
           ],
           "locationmode": "USA-states",
           "lon": [
            -80.17112925289764
           ],
           "mode": "markers",
           "type": "scattergeo"
          }
         ]
        },
        {
         "data": [
          {
           "lat": [
            35.375656904168885
           ],
           "locationmode": "USA-states",
           "lon": [
            -80.11406206925395
           ],
           "mode": "markers",
           "type": "scattergeo"
          }
         ]
        },
        {
         "data": [
          {
           "lat": [
            35.489223843152914
           ],
           "locationmode": "USA-states",
           "lon": [
            -83.12195267731569
           ],
           "mode": "markers",
           "type": "scattergeo"
          }
         ]
        },
        {
         "data": [
          {
           "lat": [
            34.569786826511965
           ],
           "locationmode": "USA-states",
           "lon": [
            -83.90578102515535
           ],
           "mode": "markers",
           "type": "scattergeo"
          }
         ]
        },
        {
         "data": [
          {
           "lat": [
            35.46780038323188
           ],
           "locationmode": "USA-states",
           "lon": [
            -80.31724225048295
           ],
           "mode": "markers",
           "type": "scattergeo"
          }
         ]
        },
        {
         "data": [
          {
           "lat": [
            35.953121016965554
           ],
           "locationmode": "USA-states",
           "lon": [
            -81.51932485422962
           ],
           "mode": "markers",
           "type": "scattergeo"
          }
         ]
        },
        {
         "data": [
          {
           "lat": [
            35.613537847159684
           ],
           "locationmode": "USA-states",
           "lon": [
            -83.85373579571119
           ],
           "mode": "markers",
           "type": "scattergeo"
          }
         ]
        },
        {
         "data": [
          {
           "lat": [
            34.86124881874086
           ],
           "locationmode": "USA-states",
           "lon": [
            -76.0276797086423
           ],
           "mode": "markers",
           "type": "scattergeo"
          }
         ]
        },
        {
         "data": [
          {
           "lat": [
            35.56175690870262
           ],
           "locationmode": "USA-states",
           "lon": [
            -80.06234039248532
           ],
           "mode": "markers",
           "type": "scattergeo"
          }
         ]
        },
        {
         "data": [
          {
           "lat": [
            35.74825488886167
           ],
           "locationmode": "USA-states",
           "lon": [
            -78.18821891657893
           ],
           "mode": "markers",
           "type": "scattergeo"
          }
         ]
        },
        {
         "data": [
          {
           "lat": [
            34.612588187921915
           ],
           "locationmode": "USA-states",
           "lon": [
            -81.73264314331524
           ],
           "mode": "markers",
           "type": "scattergeo"
          }
         ]
        },
        {
         "data": [
          {
           "lat": [
            36.00801589517805
           ],
           "locationmode": "USA-states",
           "lon": [
            -78.72328510523965
           ],
           "mode": "markers",
           "type": "scattergeo"
          }
         ]
        },
        {
         "data": [
          {
           "lat": [
            35.82947464188229
           ],
           "locationmode": "USA-states",
           "lon": [
            -75.80246260818771
           ],
           "mode": "markers",
           "type": "scattergeo"
          }
         ]
        },
        {
         "data": [
          {
           "lat": [
            34.07845077989158
           ],
           "locationmode": "USA-states",
           "lon": [
            -80.83502849629423
           ],
           "mode": "markers",
           "type": "scattergeo"
          }
         ]
        },
        {
         "data": [
          {
           "lat": [
            34.25152123846105
           ],
           "locationmode": "USA-states",
           "lon": [
            -78.58400266208552
           ],
           "mode": "markers",
           "type": "scattergeo"
          }
         ]
        },
        {
         "data": [
          {
           "lat": [
            35.6202928369477
           ],
           "locationmode": "USA-states",
           "lon": [
            -80.87270385385571
           ],
           "mode": "markers",
           "type": "scattergeo"
          }
         ]
        },
        {
         "data": [
          {
           "lat": [
            34.75842228120689
           ],
           "locationmode": "USA-states",
           "lon": [
            -78.49163636923379
           ],
           "mode": "markers",
           "type": "scattergeo"
          }
         ]
        },
        {
         "data": [
          {
           "lat": [
            33.830137571490205
           ],
           "locationmode": "USA-states",
           "lon": [
            -83.98060558226595
           ],
           "mode": "markers",
           "type": "scattergeo"
          }
         ]
        },
        {
         "data": [
          {
           "lat": [
            36.107147448046106
           ],
           "locationmode": "USA-states",
           "lon": [
            -75.65336339045493
           ],
           "mode": "markers",
           "type": "scattergeo"
          }
         ]
        },
        {
         "data": [
          {
           "lat": [
            34.97624308318555
           ],
           "locationmode": "USA-states",
           "lon": [
            -76.76016389881495
           ],
           "mode": "markers",
           "type": "scattergeo"
          }
         ]
        },
        {
         "data": [
          {
           "lat": [
            35.129177186939025
           ],
           "locationmode": "USA-states",
           "lon": [
            -81.40141483909646
           ],
           "mode": "markers",
           "type": "scattergeo"
          }
         ]
        },
        {
         "data": [
          {
           "lat": [
            33.96386231619835
           ],
           "locationmode": "USA-states",
           "lon": [
            -83.04825472199637
           ],
           "mode": "markers",
           "type": "scattergeo"
          }
         ]
        },
        {
         "data": [
          {
           "lat": [
            35.66570112617627
           ],
           "locationmode": "USA-states",
           "lon": [
            -77.53587808892212
           ],
           "mode": "markers",
           "type": "scattergeo"
          }
         ]
        },
        {
         "data": [
          {
           "lat": [
            33.871106595061114
           ],
           "locationmode": "USA-states",
           "lon": [
            -82.7932265412185
           ],
           "mode": "markers",
           "type": "scattergeo"
          }
         ]
        },
        {
         "data": [
          {
           "lat": [
            34.112673547733266
           ],
           "locationmode": "USA-states",
           "lon": [
            -76.67057244563249
           ],
           "mode": "markers",
           "type": "scattergeo"
          }
         ]
        },
        {
         "data": [
          {
           "lat": [
            36.1344253017587
           ],
           "locationmode": "USA-states",
           "lon": [
            -80.7246690526902
           ],
           "mode": "markers",
           "type": "scattergeo"
          }
         ]
        },
        {
         "data": [
          {
           "lat": [
            34.92795154276642
           ],
           "locationmode": "USA-states",
           "lon": [
            -82.63930826609608
           ],
           "mode": "markers",
           "type": "scattergeo"
          }
         ]
        },
        {
         "data": [
          {
           "lat": [
            35.68182117267189
           ],
           "locationmode": "USA-states",
           "lon": [
            -78.11313445840482
           ],
           "mode": "markers",
           "type": "scattergeo"
          }
         ]
        },
        {
         "data": [
          {
           "lat": [
            35.63377693373064
           ],
           "locationmode": "USA-states",
           "lon": [
            -80.9697859351096
           ],
           "mode": "markers",
           "type": "scattergeo"
          }
         ]
        },
        {
         "data": [
          {
           "lat": [
            34.18830641542415
           ],
           "locationmode": "USA-states",
           "lon": [
            -77.20163231278849
           ],
           "mode": "markers",
           "type": "scattergeo"
          }
         ]
        },
        {
         "data": [
          {
           "lat": [
            33.8984164710297
           ],
           "locationmode": "USA-states",
           "lon": [
            -82.01891204788807
           ],
           "mode": "markers",
           "type": "scattergeo"
          }
         ]
        },
        {
         "data": [
          {
           "lat": [
            35.57734307868258
           ],
           "locationmode": "USA-states",
           "lon": [
            -81.68326901169038
           ],
           "mode": "markers",
           "type": "scattergeo"
          }
         ]
        },
        {
         "data": [
          {
           "lat": [
            34.314781764407805
           ],
           "locationmode": "USA-states",
           "lon": [
            -82.96511950489354
           ],
           "mode": "markers",
           "type": "scattergeo"
          }
         ]
        },
        {
         "data": [
          {
           "lat": [
            35.09263207093735
           ],
           "locationmode": "USA-states",
           "lon": [
            -82.79854841060438
           ],
           "mode": "markers",
           "type": "scattergeo"
          }
         ]
        },
        {
         "data": [
          {
           "lat": [
            35.64651439251543
           ],
           "locationmode": "USA-states",
           "lon": [
            -79.32682562228939
           ],
           "mode": "markers",
           "type": "scattergeo"
          }
         ]
        },
        {
         "data": [
          {
           "lat": [
            34.79454465033377
           ],
           "locationmode": "USA-states",
           "lon": [
            -75.69804633205246
           ],
           "mode": "markers",
           "type": "scattergeo"
          }
         ]
        },
        {
         "data": [
          {
           "lat": [
            35.472490209646516
           ],
           "locationmode": "USA-states",
           "lon": [
            -77.03211163198085
           ],
           "mode": "markers",
           "type": "scattergeo"
          }
         ]
        },
        {
         "data": [
          {
           "lat": [
            36.080799281514075
           ],
           "locationmode": "USA-states",
           "lon": [
            -75.04726727046754
           ],
           "mode": "markers",
           "type": "scattergeo"
          }
         ]
        },
        {
         "data": [
          {
           "lat": [
            36.13903354859469
           ],
           "locationmode": "USA-states",
           "lon": [
            -82.62680818830182
           ],
           "mode": "markers",
           "type": "scattergeo"
          }
         ]
        },
        {
         "data": [
          {
           "lat": [
            34.65066171271926
           ],
           "locationmode": "USA-states",
           "lon": [
            -75.31956168636117
           ],
           "mode": "markers",
           "type": "scattergeo"
          }
         ]
        },
        {
         "data": [
          {
           "lat": [
            35.255634321736
           ],
           "locationmode": "USA-states",
           "lon": [
            -82.3436352394632
           ],
           "mode": "markers",
           "type": "scattergeo"
          }
         ]
        },
        {
         "data": [
          {
           "lat": [
            36.30585044848557
           ],
           "locationmode": "USA-states",
           "lon": [
            -76.1347153236005
           ],
           "mode": "markers",
           "type": "scattergeo"
          }
         ]
        },
        {
         "data": [
          {
           "lat": [
            34.736740812782585
           ],
           "locationmode": "USA-states",
           "lon": [
            -79.75243515375114
           ],
           "mode": "markers",
           "type": "scattergeo"
          }
         ]
        },
        {
         "data": [
          {
           "lat": [
            33.98301250379355
           ],
           "locationmode": "USA-states",
           "lon": [
            -78.6971113793904
           ],
           "mode": "markers",
           "type": "scattergeo"
          }
         ]
        },
        {
         "data": [
          {
           "lat": [
            34.27036470813507
           ],
           "locationmode": "USA-states",
           "lon": [
            -83.83922753783595
           ],
           "mode": "markers",
           "type": "scattergeo"
          }
         ]
        },
        {
         "data": [
          {
           "lat": [
            35.48249615321005
           ],
           "locationmode": "USA-states",
           "lon": [
            -77.06916858225007
           ],
           "mode": "markers",
           "type": "scattergeo"
          }
         ]
        },
        {
         "data": [
          {
           "lat": [
            35.642061077720584
           ],
           "locationmode": "USA-states",
           "lon": [
            -83.78737644804805
           ],
           "mode": "markers",
           "type": "scattergeo"
          }
         ]
        },
        {
         "data": [
          {
           "lat": [
            35.14247300305166
           ],
           "locationmode": "USA-states",
           "lon": [
            -83.73420509385274
           ],
           "mode": "markers",
           "type": "scattergeo"
          }
         ]
        },
        {
         "data": [
          {
           "lat": [
            35.543717390085455
           ],
           "locationmode": "USA-states",
           "lon": [
            -80.3046794088244
           ],
           "mode": "markers",
           "type": "scattergeo"
          }
         ]
        },
        {
         "data": [
          {
           "lat": [
            35.63624271540986
           ],
           "locationmode": "USA-states",
           "lon": [
            -81.14193176817712
           ],
           "mode": "markers",
           "type": "scattergeo"
          }
         ]
        },
        {
         "data": [
          {
           "lat": [
            34.378942426705535
           ],
           "locationmode": "USA-states",
           "lon": [
            -80.7930476462646
           ],
           "mode": "markers",
           "type": "scattergeo"
          }
         ]
        },
        {
         "data": [
          {
           "lat": [
            36.053491404663504
           ],
           "locationmode": "USA-states",
           "lon": [
            -79.82342989821407
           ],
           "mode": "markers",
           "type": "scattergeo"
          }
         ]
        },
        {
         "data": [
          {
           "lat": [
            34.30171671676381
           ],
           "locationmode": "USA-states",
           "lon": [
            -79.70856439703996
           ],
           "mode": "markers",
           "type": "scattergeo"
          }
         ]
        },
        {
         "data": [
          {
           "lat": [
            34.134617721415985
           ],
           "locationmode": "USA-states",
           "lon": [
            -78.44785064744923
           ],
           "mode": "markers",
           "type": "scattergeo"
          }
         ]
        },
        {
         "data": [
          {
           "lat": [
            33.907604588641526
           ],
           "locationmode": "USA-states",
           "lon": [
            -79.80889702816695
           ],
           "mode": "markers",
           "type": "scattergeo"
          }
         ]
        },
        {
         "data": [
          {
           "lat": [
            34.48637850340961
           ],
           "locationmode": "USA-states",
           "lon": [
            -76.65727418908438
           ],
           "mode": "markers",
           "type": "scattergeo"
          }
         ]
        },
        {
         "data": [
          {
           "lat": [
            36.22003648870816
           ],
           "locationmode": "USA-states",
           "lon": [
            -83.63936211673324
           ],
           "mode": "markers",
           "type": "scattergeo"
          }
         ]
        },
        {
         "data": [
          {
           "lat": [
            34.0267433093003
           ],
           "locationmode": "USA-states",
           "lon": [
            -81.72518523380555
           ],
           "mode": "markers",
           "type": "scattergeo"
          }
         ]
        }
       ],
       "layout": {
        "geo": {
         "countrycolor": "rgb(217, 217, 217)",
         "countrywidth": 0.5,
         "landcolor": "rgb(250, 250, 250)",
         "projection": {
          "type": "albers usa"
         },
         "scope": "usa",
         "showland": true,
         "subunitcolor": "rgb(217, 217, 217)",
         "subunitwidth": 0.5
        },
        "updatemenus": [
         {
          "buttons": [
           {
            "args": [
             null
            ],
            "label": "Play",
            "method": "animate"
           }
          ],
          "type": "buttons"
         }
        ]
       }
      },
      "text/html": [
       "<div id=\"98b82bfe-4e25-4770-9770-11296620b519\" style=\"height: 525px; width: 100%;\" class=\"plotly-graph-div\"></div><script type=\"text/javascript\">require([\"plotly\"], function(Plotly) { window.PLOTLYENV=window.PLOTLYENV || {};window.PLOTLYENV.BASE_URL=\"https://plot.ly\";\n",
       "        Plotly.plot(\n",
       "            '98b82bfe-4e25-4770-9770-11296620b519',\n",
       "            [{\"lat\": [35.58144123889941], \"locationmode\": \"USA-states\", \"lon\": [-82.70117047165614], \"mode\": \"markers\", \"type\": \"scattergeo\", \"uid\": \"b0870082-5112-11e9-be90-5cf37071266d\"}],\n",
       "            {\"geo\": {\"countrycolor\": \"rgb(217, 217, 217)\", \"countrywidth\": 0.5, \"landcolor\": \"rgb(250, 250, 250)\", \"projection\": {\"type\": \"albers usa\"}, \"scope\": \"usa\", \"showland\": true, \"subunitcolor\": \"rgb(217, 217, 217)\", \"subunitwidth\": 0.5}, \"updatemenus\": [{\"buttons\": [{\"args\": [null], \"label\": \"Play\", \"method\": \"animate\"}], \"type\": \"buttons\"}]},\n",
       "            {\"showLink\": true, \"linkText\": \"Export to plot.ly\"}\n",
       "        ).then(function () {return Plotly.addFrames('98b82bfe-4e25-4770-9770-11296620b519',[{\"data\": [{\"lat\": [35.58144123889941], \"locationmode\": \"USA-states\", \"lon\": [-82.70117047165614], \"mode\": \"markers\", \"type\": \"scattergeo\"}]}, {\"data\": [{\"lat\": [34.07785095372856], \"locationmode\": \"USA-states\", \"lon\": [-76.47825533910566], \"mode\": \"markers\", \"type\": \"scattergeo\"}]}, {\"data\": [{\"lat\": [35.917702660699604], \"locationmode\": \"USA-states\", \"lon\": [-82.53543568452457], \"mode\": \"markers\", \"type\": \"scattergeo\"}]}, {\"data\": [{\"lat\": [34.04107995109893], \"locationmode\": \"USA-states\", \"lon\": [-80.95112628384938], \"mode\": \"markers\", \"type\": \"scattergeo\"}]}, {\"data\": [{\"lat\": [34.78128254328767], \"locationmode\": \"USA-states\", \"lon\": [-78.95466176631388], \"mode\": \"markers\", \"type\": \"scattergeo\"}]}, {\"data\": [{\"lat\": [35.929929124120136], \"locationmode\": \"USA-states\", \"lon\": [-76.79573926614601], \"mode\": \"markers\", \"type\": \"scattergeo\"}]}, {\"data\": [{\"lat\": [33.83354765379301], \"locationmode\": \"USA-states\", \"lon\": [-78.93493988851213], \"mode\": \"markers\", \"type\": \"scattergeo\"}]}, {\"data\": [{\"lat\": [35.863097347703366], \"locationmode\": \"USA-states\", \"lon\": [-83.76622529731316], \"mode\": \"markers\", \"type\": \"scattergeo\"}]}, {\"data\": [{\"lat\": [35.18809044060893], \"locationmode\": \"USA-states\", \"lon\": [-79.05238770643997], \"mode\": \"markers\", \"type\": \"scattergeo\"}]}, {\"data\": [{\"lat\": [34.27977556411052], \"locationmode\": \"USA-states\", \"lon\": [-82.54972127683195], \"mode\": \"markers\", \"type\": \"scattergeo\"}]}, {\"data\": [{\"lat\": [35.124916070340156], \"locationmode\": \"USA-states\", \"lon\": [-80.04761230016838], \"mode\": \"markers\", \"type\": \"scattergeo\"}]}, {\"data\": [{\"lat\": [35.3135254705684], \"locationmode\": \"USA-states\", \"lon\": [-81.94730626034791], \"mode\": \"markers\", \"type\": \"scattergeo\"}]}, {\"data\": [{\"lat\": [34.23918389933165], \"locationmode\": \"USA-states\", \"lon\": [-78.11833464608203], \"mode\": \"markers\", \"type\": \"scattergeo\"}]}, {\"data\": [{\"lat\": [34.22621914640059], \"locationmode\": \"USA-states\", \"lon\": [-79.83903888773031], \"mode\": \"markers\", \"type\": \"scattergeo\"}]}, {\"data\": [{\"lat\": [34.815176432323014], \"locationmode\": \"USA-states\", \"lon\": [-80.18610122951888], \"mode\": \"markers\", \"type\": \"scattergeo\"}]}, {\"data\": [{\"lat\": [35.08806905098657], \"locationmode\": \"USA-states\", \"lon\": [-75.05989885115133], \"mode\": \"markers\", \"type\": \"scattergeo\"}]}, {\"data\": [{\"lat\": [34.282917532344804], \"locationmode\": \"USA-states\", \"lon\": [-83.54478083354063], \"mode\": \"markers\", \"type\": \"scattergeo\"}]}, {\"data\": [{\"lat\": [33.87380323014931], \"locationmode\": \"USA-states\", \"lon\": [-83.61400960862532], \"mode\": \"markers\", \"type\": \"scattergeo\"}]}, {\"data\": [{\"lat\": [34.408742034560674], \"locationmode\": \"USA-states\", \"lon\": [-82.43480598192154], \"mode\": \"markers\", \"type\": \"scattergeo\"}]}, {\"data\": [{\"lat\": [36.26911389800906], \"locationmode\": \"USA-states\", \"lon\": [-81.93535089999727], \"mode\": \"markers\", \"type\": \"scattergeo\"}]}, {\"data\": [{\"lat\": [35.45007924657246], \"locationmode\": \"USA-states\", \"lon\": [-75.17812853520768], \"mode\": \"markers\", \"type\": \"scattergeo\"}]}, {\"data\": [{\"lat\": [35.85259028054822], \"locationmode\": \"USA-states\", \"lon\": [-76.34921325412408], \"mode\": \"markers\", \"type\": \"scattergeo\"}]}, {\"data\": [{\"lat\": [35.94879466390646], \"locationmode\": \"USA-states\", \"lon\": [-81.05410593146013], \"mode\": \"markers\", \"type\": \"scattergeo\"}]}, {\"data\": [{\"lat\": [35.91223718987484], \"locationmode\": \"USA-states\", \"lon\": [-79.43508111508633], \"mode\": \"markers\", \"type\": \"scattergeo\"}]}, {\"data\": [{\"lat\": [36.14853566874889], \"locationmode\": \"USA-states\", \"lon\": [-76.35732884998525], \"mode\": \"markers\", \"type\": \"scattergeo\"}]}, {\"data\": [{\"lat\": [35.57373507857958], \"locationmode\": \"USA-states\", \"lon\": [-81.8334949737785], \"mode\": \"markers\", \"type\": \"scattergeo\"}]}, {\"data\": [{\"lat\": [34.46452410567939], \"locationmode\": \"USA-states\", \"lon\": [-78.16200660557405], \"mode\": \"markers\", \"type\": \"scattergeo\"}]}, {\"data\": [{\"lat\": [36.221310764219986], \"locationmode\": \"USA-states\", \"lon\": [-75.72743130575141], \"mode\": \"markers\", \"type\": \"scattergeo\"}]}, {\"data\": [{\"lat\": [36.1217382011822], \"locationmode\": \"USA-states\", \"lon\": [-75.46350871730768], \"mode\": \"markers\", \"type\": \"scattergeo\"}]}, {\"data\": [{\"lat\": [34.55460497055514], \"locationmode\": \"USA-states\", \"lon\": [-79.56437658440002], \"mode\": \"markers\", \"type\": \"scattergeo\"}]}, {\"data\": [{\"lat\": [35.18857849751579], \"locationmode\": \"USA-states\", \"lon\": [-75.60651818833537], \"mode\": \"markers\", \"type\": \"scattergeo\"}]}, {\"data\": [{\"lat\": [35.5845975046478], \"locationmode\": \"USA-states\", \"lon\": [-81.1250296317698], \"mode\": \"markers\", \"type\": \"scattergeo\"}]}, {\"data\": [{\"lat\": [34.4374975106086], \"locationmode\": \"USA-states\", \"lon\": [-83.9404447413266], \"mode\": \"markers\", \"type\": \"scattergeo\"}]}, {\"data\": [{\"lat\": [34.08971843678927], \"locationmode\": \"USA-states\", \"lon\": [-82.10544942621249], \"mode\": \"markers\", \"type\": \"scattergeo\"}]}, {\"data\": [{\"lat\": [35.331644429619644], \"locationmode\": \"USA-states\", \"lon\": [-83.97934923467673], \"mode\": \"markers\", \"type\": \"scattergeo\"}]}, {\"data\": [{\"lat\": [36.27332695887017], \"locationmode\": \"USA-states\", \"lon\": [-83.50917377092425], \"mode\": \"markers\", \"type\": \"scattergeo\"}]}, {\"data\": [{\"lat\": [34.138859451828495], \"locationmode\": \"USA-states\", \"lon\": [-81.04715342845843], \"mode\": \"markers\", \"type\": \"scattergeo\"}]}, {\"data\": [{\"lat\": [33.855112318732814], \"locationmode\": \"USA-states\", \"lon\": [-79.80453144930607], \"mode\": \"markers\", \"type\": \"scattergeo\"}]}, {\"data\": [{\"lat\": [34.058033118906096], \"locationmode\": \"USA-states\", \"lon\": [-82.16724277420471], \"mode\": \"markers\", \"type\": \"scattergeo\"}]}, {\"data\": [{\"lat\": [35.59342351072553], \"locationmode\": \"USA-states\", \"lon\": [-76.65948091568649], \"mode\": \"markers\", \"type\": \"scattergeo\"}]}, {\"data\": [{\"lat\": [34.65379553584186], \"locationmode\": \"USA-states\", \"lon\": [-79.44221648172963], \"mode\": \"markers\", \"type\": \"scattergeo\"}]}, {\"data\": [{\"lat\": [35.26782188442388], \"locationmode\": \"USA-states\", \"lon\": [-77.28382430238868], \"mode\": \"markers\", \"type\": \"scattergeo\"}]}, {\"data\": [{\"lat\": [36.14144054366891], \"locationmode\": \"USA-states\", \"lon\": [-80.17112925289764], \"mode\": \"markers\", \"type\": \"scattergeo\"}]}, {\"data\": [{\"lat\": [35.375656904168885], \"locationmode\": \"USA-states\", \"lon\": [-80.11406206925395], \"mode\": \"markers\", \"type\": \"scattergeo\"}]}, {\"data\": [{\"lat\": [35.489223843152914], \"locationmode\": \"USA-states\", \"lon\": [-83.12195267731569], \"mode\": \"markers\", \"type\": \"scattergeo\"}]}, {\"data\": [{\"lat\": [34.569786826511965], \"locationmode\": \"USA-states\", \"lon\": [-83.90578102515535], \"mode\": \"markers\", \"type\": \"scattergeo\"}]}, {\"data\": [{\"lat\": [35.46780038323188], \"locationmode\": \"USA-states\", \"lon\": [-80.31724225048295], \"mode\": \"markers\", \"type\": \"scattergeo\"}]}, {\"data\": [{\"lat\": [35.953121016965554], \"locationmode\": \"USA-states\", \"lon\": [-81.51932485422962], \"mode\": \"markers\", \"type\": \"scattergeo\"}]}, {\"data\": [{\"lat\": [35.613537847159684], \"locationmode\": \"USA-states\", \"lon\": [-83.85373579571119], \"mode\": \"markers\", \"type\": \"scattergeo\"}]}, {\"data\": [{\"lat\": [34.86124881874086], \"locationmode\": \"USA-states\", \"lon\": [-76.0276797086423], \"mode\": \"markers\", \"type\": \"scattergeo\"}]}, {\"data\": [{\"lat\": [35.56175690870262], \"locationmode\": \"USA-states\", \"lon\": [-80.06234039248532], \"mode\": \"markers\", \"type\": \"scattergeo\"}]}, {\"data\": [{\"lat\": [35.74825488886167], \"locationmode\": \"USA-states\", \"lon\": [-78.18821891657893], \"mode\": \"markers\", \"type\": \"scattergeo\"}]}, {\"data\": [{\"lat\": [34.612588187921915], \"locationmode\": \"USA-states\", \"lon\": [-81.73264314331524], \"mode\": \"markers\", \"type\": \"scattergeo\"}]}, {\"data\": [{\"lat\": [36.00801589517805], \"locationmode\": \"USA-states\", \"lon\": [-78.72328510523965], \"mode\": \"markers\", \"type\": \"scattergeo\"}]}, {\"data\": [{\"lat\": [35.82947464188229], \"locationmode\": \"USA-states\", \"lon\": [-75.80246260818771], \"mode\": \"markers\", \"type\": \"scattergeo\"}]}, {\"data\": [{\"lat\": [34.07845077989158], \"locationmode\": \"USA-states\", \"lon\": [-80.83502849629423], \"mode\": \"markers\", \"type\": \"scattergeo\"}]}, {\"data\": [{\"lat\": [34.25152123846105], \"locationmode\": \"USA-states\", \"lon\": [-78.58400266208552], \"mode\": \"markers\", \"type\": \"scattergeo\"}]}, {\"data\": [{\"lat\": [35.6202928369477], \"locationmode\": \"USA-states\", \"lon\": [-80.87270385385571], \"mode\": \"markers\", \"type\": \"scattergeo\"}]}, {\"data\": [{\"lat\": [34.75842228120689], \"locationmode\": \"USA-states\", \"lon\": [-78.49163636923379], \"mode\": \"markers\", \"type\": \"scattergeo\"}]}, {\"data\": [{\"lat\": [33.830137571490205], \"locationmode\": \"USA-states\", \"lon\": [-83.98060558226595], \"mode\": \"markers\", \"type\": \"scattergeo\"}]}, {\"data\": [{\"lat\": [36.107147448046106], \"locationmode\": \"USA-states\", \"lon\": [-75.65336339045493], \"mode\": \"markers\", \"type\": \"scattergeo\"}]}, {\"data\": [{\"lat\": [34.97624308318555], \"locationmode\": \"USA-states\", \"lon\": [-76.76016389881495], \"mode\": \"markers\", \"type\": \"scattergeo\"}]}, {\"data\": [{\"lat\": [35.129177186939025], \"locationmode\": \"USA-states\", \"lon\": [-81.40141483909646], \"mode\": \"markers\", \"type\": \"scattergeo\"}]}, {\"data\": [{\"lat\": [33.96386231619835], \"locationmode\": \"USA-states\", \"lon\": [-83.04825472199637], \"mode\": \"markers\", \"type\": \"scattergeo\"}]}, {\"data\": [{\"lat\": [35.66570112617627], \"locationmode\": \"USA-states\", \"lon\": [-77.53587808892212], \"mode\": \"markers\", \"type\": \"scattergeo\"}]}, {\"data\": [{\"lat\": [33.871106595061114], \"locationmode\": \"USA-states\", \"lon\": [-82.7932265412185], \"mode\": \"markers\", \"type\": \"scattergeo\"}]}, {\"data\": [{\"lat\": [34.112673547733266], \"locationmode\": \"USA-states\", \"lon\": [-76.67057244563249], \"mode\": \"markers\", \"type\": \"scattergeo\"}]}, {\"data\": [{\"lat\": [36.1344253017587], \"locationmode\": \"USA-states\", \"lon\": [-80.7246690526902], \"mode\": \"markers\", \"type\": \"scattergeo\"}]}, {\"data\": [{\"lat\": [34.92795154276642], \"locationmode\": \"USA-states\", \"lon\": [-82.63930826609608], \"mode\": \"markers\", \"type\": \"scattergeo\"}]}, {\"data\": [{\"lat\": [35.68182117267189], \"locationmode\": \"USA-states\", \"lon\": [-78.11313445840482], \"mode\": \"markers\", \"type\": \"scattergeo\"}]}, {\"data\": [{\"lat\": [35.63377693373064], \"locationmode\": \"USA-states\", \"lon\": [-80.9697859351096], \"mode\": \"markers\", \"type\": \"scattergeo\"}]}, {\"data\": [{\"lat\": [34.18830641542415], \"locationmode\": \"USA-states\", \"lon\": [-77.20163231278849], \"mode\": \"markers\", \"type\": \"scattergeo\"}]}, {\"data\": [{\"lat\": [33.8984164710297], \"locationmode\": \"USA-states\", \"lon\": [-82.01891204788807], \"mode\": \"markers\", \"type\": \"scattergeo\"}]}, {\"data\": [{\"lat\": [35.57734307868258], \"locationmode\": \"USA-states\", \"lon\": [-81.68326901169038], \"mode\": \"markers\", \"type\": \"scattergeo\"}]}, {\"data\": [{\"lat\": [34.314781764407805], \"locationmode\": \"USA-states\", \"lon\": [-82.96511950489354], \"mode\": \"markers\", \"type\": \"scattergeo\"}]}, {\"data\": [{\"lat\": [35.09263207093735], \"locationmode\": \"USA-states\", \"lon\": [-82.79854841060438], \"mode\": \"markers\", \"type\": \"scattergeo\"}]}, {\"data\": [{\"lat\": [35.64651439251543], \"locationmode\": \"USA-states\", \"lon\": [-79.32682562228939], \"mode\": \"markers\", \"type\": \"scattergeo\"}]}, {\"data\": [{\"lat\": [34.79454465033377], \"locationmode\": \"USA-states\", \"lon\": [-75.69804633205246], \"mode\": \"markers\", \"type\": \"scattergeo\"}]}, {\"data\": [{\"lat\": [35.472490209646516], \"locationmode\": \"USA-states\", \"lon\": [-77.03211163198085], \"mode\": \"markers\", \"type\": \"scattergeo\"}]}, {\"data\": [{\"lat\": [36.080799281514075], \"locationmode\": \"USA-states\", \"lon\": [-75.04726727046754], \"mode\": \"markers\", \"type\": \"scattergeo\"}]}, {\"data\": [{\"lat\": [36.13903354859469], \"locationmode\": \"USA-states\", \"lon\": [-82.62680818830182], \"mode\": \"markers\", \"type\": \"scattergeo\"}]}, {\"data\": [{\"lat\": [34.65066171271926], \"locationmode\": \"USA-states\", \"lon\": [-75.31956168636117], \"mode\": \"markers\", \"type\": \"scattergeo\"}]}, {\"data\": [{\"lat\": [35.255634321736], \"locationmode\": \"USA-states\", \"lon\": [-82.3436352394632], \"mode\": \"markers\", \"type\": \"scattergeo\"}]}, {\"data\": [{\"lat\": [36.30585044848557], \"locationmode\": \"USA-states\", \"lon\": [-76.1347153236005], \"mode\": \"markers\", \"type\": \"scattergeo\"}]}, {\"data\": [{\"lat\": [34.736740812782585], \"locationmode\": \"USA-states\", \"lon\": [-79.75243515375114], \"mode\": \"markers\", \"type\": \"scattergeo\"}]}, {\"data\": [{\"lat\": [33.98301250379355], \"locationmode\": \"USA-states\", \"lon\": [-78.6971113793904], \"mode\": \"markers\", \"type\": \"scattergeo\"}]}, {\"data\": [{\"lat\": [34.27036470813507], \"locationmode\": \"USA-states\", \"lon\": [-83.83922753783595], \"mode\": \"markers\", \"type\": \"scattergeo\"}]}, {\"data\": [{\"lat\": [35.48249615321005], \"locationmode\": \"USA-states\", \"lon\": [-77.06916858225007], \"mode\": \"markers\", \"type\": \"scattergeo\"}]}, {\"data\": [{\"lat\": [35.642061077720584], \"locationmode\": \"USA-states\", \"lon\": [-83.78737644804805], \"mode\": \"markers\", \"type\": \"scattergeo\"}]}, {\"data\": [{\"lat\": [35.14247300305166], \"locationmode\": \"USA-states\", \"lon\": [-83.73420509385274], \"mode\": \"markers\", \"type\": \"scattergeo\"}]}, {\"data\": [{\"lat\": [35.543717390085455], \"locationmode\": \"USA-states\", \"lon\": [-80.3046794088244], \"mode\": \"markers\", \"type\": \"scattergeo\"}]}, {\"data\": [{\"lat\": [35.63624271540986], \"locationmode\": \"USA-states\", \"lon\": [-81.14193176817712], \"mode\": \"markers\", \"type\": \"scattergeo\"}]}, {\"data\": [{\"lat\": [34.378942426705535], \"locationmode\": \"USA-states\", \"lon\": [-80.7930476462646], \"mode\": \"markers\", \"type\": \"scattergeo\"}]}, {\"data\": [{\"lat\": [36.053491404663504], \"locationmode\": \"USA-states\", \"lon\": [-79.82342989821407], \"mode\": \"markers\", \"type\": \"scattergeo\"}]}, {\"data\": [{\"lat\": [34.30171671676381], \"locationmode\": \"USA-states\", \"lon\": [-79.70856439703996], \"mode\": \"markers\", \"type\": \"scattergeo\"}]}, {\"data\": [{\"lat\": [34.134617721415985], \"locationmode\": \"USA-states\", \"lon\": [-78.44785064744923], \"mode\": \"markers\", \"type\": \"scattergeo\"}]}, {\"data\": [{\"lat\": [33.907604588641526], \"locationmode\": \"USA-states\", \"lon\": [-79.80889702816695], \"mode\": \"markers\", \"type\": \"scattergeo\"}]}, {\"data\": [{\"lat\": [34.48637850340961], \"locationmode\": \"USA-states\", \"lon\": [-76.65727418908438], \"mode\": \"markers\", \"type\": \"scattergeo\"}]}, {\"data\": [{\"lat\": [36.22003648870816], \"locationmode\": \"USA-states\", \"lon\": [-83.63936211673324], \"mode\": \"markers\", \"type\": \"scattergeo\"}]}, {\"data\": [{\"lat\": [34.0267433093003], \"locationmode\": \"USA-states\", \"lon\": [-81.72518523380555], \"mode\": \"markers\", \"type\": \"scattergeo\"}]}]);}).then(function(){Plotly.animate('98b82bfe-4e25-4770-9770-11296620b519');})\n",
       "        });</script>"
      ],
      "text/vnd.plotly.v1+html": [
       "<div id=\"98b82bfe-4e25-4770-9770-11296620b519\" style=\"height: 525px; width: 100%;\" class=\"plotly-graph-div\"></div><script type=\"text/javascript\">require([\"plotly\"], function(Plotly) { window.PLOTLYENV=window.PLOTLYENV || {};window.PLOTLYENV.BASE_URL=\"https://plot.ly\";\n",
       "        Plotly.plot(\n",
       "            '98b82bfe-4e25-4770-9770-11296620b519',\n",
       "            [{\"lat\": [35.58144123889941], \"locationmode\": \"USA-states\", \"lon\": [-82.70117047165614], \"mode\": \"markers\", \"type\": \"scattergeo\", \"uid\": \"b0870082-5112-11e9-be90-5cf37071266d\"}],\n",
       "            {\"geo\": {\"countrycolor\": \"rgb(217, 217, 217)\", \"countrywidth\": 0.5, \"landcolor\": \"rgb(250, 250, 250)\", \"projection\": {\"type\": \"albers usa\"}, \"scope\": \"usa\", \"showland\": true, \"subunitcolor\": \"rgb(217, 217, 217)\", \"subunitwidth\": 0.5}, \"updatemenus\": [{\"buttons\": [{\"args\": [null], \"label\": \"Play\", \"method\": \"animate\"}], \"type\": \"buttons\"}]},\n",
       "            {\"showLink\": true, \"linkText\": \"Export to plot.ly\"}\n",
       "        ).then(function () {return Plotly.addFrames('98b82bfe-4e25-4770-9770-11296620b519',[{\"data\": [{\"lat\": [35.58144123889941], \"locationmode\": \"USA-states\", \"lon\": [-82.70117047165614], \"mode\": \"markers\", \"type\": \"scattergeo\"}]}, {\"data\": [{\"lat\": [34.07785095372856], \"locationmode\": \"USA-states\", \"lon\": [-76.47825533910566], \"mode\": \"markers\", \"type\": \"scattergeo\"}]}, {\"data\": [{\"lat\": [35.917702660699604], \"locationmode\": \"USA-states\", \"lon\": [-82.53543568452457], \"mode\": \"markers\", \"type\": \"scattergeo\"}]}, {\"data\": [{\"lat\": [34.04107995109893], \"locationmode\": \"USA-states\", \"lon\": [-80.95112628384938], \"mode\": \"markers\", \"type\": \"scattergeo\"}]}, {\"data\": [{\"lat\": [34.78128254328767], \"locationmode\": \"USA-states\", \"lon\": [-78.95466176631388], \"mode\": \"markers\", \"type\": \"scattergeo\"}]}, {\"data\": [{\"lat\": [35.929929124120136], \"locationmode\": \"USA-states\", \"lon\": [-76.79573926614601], \"mode\": \"markers\", \"type\": \"scattergeo\"}]}, {\"data\": [{\"lat\": [33.83354765379301], \"locationmode\": \"USA-states\", \"lon\": [-78.93493988851213], \"mode\": \"markers\", \"type\": \"scattergeo\"}]}, {\"data\": [{\"lat\": [35.863097347703366], \"locationmode\": \"USA-states\", \"lon\": [-83.76622529731316], \"mode\": \"markers\", \"type\": \"scattergeo\"}]}, {\"data\": [{\"lat\": [35.18809044060893], \"locationmode\": \"USA-states\", \"lon\": [-79.05238770643997], \"mode\": \"markers\", \"type\": \"scattergeo\"}]}, {\"data\": [{\"lat\": [34.27977556411052], \"locationmode\": \"USA-states\", \"lon\": [-82.54972127683195], \"mode\": \"markers\", \"type\": \"scattergeo\"}]}, {\"data\": [{\"lat\": [35.124916070340156], \"locationmode\": \"USA-states\", \"lon\": [-80.04761230016838], \"mode\": \"markers\", \"type\": \"scattergeo\"}]}, {\"data\": [{\"lat\": [35.3135254705684], \"locationmode\": \"USA-states\", \"lon\": [-81.94730626034791], \"mode\": \"markers\", \"type\": \"scattergeo\"}]}, {\"data\": [{\"lat\": [34.23918389933165], \"locationmode\": \"USA-states\", \"lon\": [-78.11833464608203], \"mode\": \"markers\", \"type\": \"scattergeo\"}]}, {\"data\": [{\"lat\": [34.22621914640059], \"locationmode\": \"USA-states\", \"lon\": [-79.83903888773031], \"mode\": \"markers\", \"type\": \"scattergeo\"}]}, {\"data\": [{\"lat\": [34.815176432323014], \"locationmode\": \"USA-states\", \"lon\": [-80.18610122951888], \"mode\": \"markers\", \"type\": \"scattergeo\"}]}, {\"data\": [{\"lat\": [35.08806905098657], \"locationmode\": \"USA-states\", \"lon\": [-75.05989885115133], \"mode\": \"markers\", \"type\": \"scattergeo\"}]}, {\"data\": [{\"lat\": [34.282917532344804], \"locationmode\": \"USA-states\", \"lon\": [-83.54478083354063], \"mode\": \"markers\", \"type\": \"scattergeo\"}]}, {\"data\": [{\"lat\": [33.87380323014931], \"locationmode\": \"USA-states\", \"lon\": [-83.61400960862532], \"mode\": \"markers\", \"type\": \"scattergeo\"}]}, {\"data\": [{\"lat\": [34.408742034560674], \"locationmode\": \"USA-states\", \"lon\": [-82.43480598192154], \"mode\": \"markers\", \"type\": \"scattergeo\"}]}, {\"data\": [{\"lat\": [36.26911389800906], \"locationmode\": \"USA-states\", \"lon\": [-81.93535089999727], \"mode\": \"markers\", \"type\": \"scattergeo\"}]}, {\"data\": [{\"lat\": [35.45007924657246], \"locationmode\": \"USA-states\", \"lon\": [-75.17812853520768], \"mode\": \"markers\", \"type\": \"scattergeo\"}]}, {\"data\": [{\"lat\": [35.85259028054822], \"locationmode\": \"USA-states\", \"lon\": [-76.34921325412408], \"mode\": \"markers\", \"type\": \"scattergeo\"}]}, {\"data\": [{\"lat\": [35.94879466390646], \"locationmode\": \"USA-states\", \"lon\": [-81.05410593146013], \"mode\": \"markers\", \"type\": \"scattergeo\"}]}, {\"data\": [{\"lat\": [35.91223718987484], \"locationmode\": \"USA-states\", \"lon\": [-79.43508111508633], \"mode\": \"markers\", \"type\": \"scattergeo\"}]}, {\"data\": [{\"lat\": [36.14853566874889], \"locationmode\": \"USA-states\", \"lon\": [-76.35732884998525], \"mode\": \"markers\", \"type\": \"scattergeo\"}]}, {\"data\": [{\"lat\": [35.57373507857958], \"locationmode\": \"USA-states\", \"lon\": [-81.8334949737785], \"mode\": \"markers\", \"type\": \"scattergeo\"}]}, {\"data\": [{\"lat\": [34.46452410567939], \"locationmode\": \"USA-states\", \"lon\": [-78.16200660557405], \"mode\": \"markers\", \"type\": \"scattergeo\"}]}, {\"data\": [{\"lat\": [36.221310764219986], \"locationmode\": \"USA-states\", \"lon\": [-75.72743130575141], \"mode\": \"markers\", \"type\": \"scattergeo\"}]}, {\"data\": [{\"lat\": [36.1217382011822], \"locationmode\": \"USA-states\", \"lon\": [-75.46350871730768], \"mode\": \"markers\", \"type\": \"scattergeo\"}]}, {\"data\": [{\"lat\": [34.55460497055514], \"locationmode\": \"USA-states\", \"lon\": [-79.56437658440002], \"mode\": \"markers\", \"type\": \"scattergeo\"}]}, {\"data\": [{\"lat\": [35.18857849751579], \"locationmode\": \"USA-states\", \"lon\": [-75.60651818833537], \"mode\": \"markers\", \"type\": \"scattergeo\"}]}, {\"data\": [{\"lat\": [35.5845975046478], \"locationmode\": \"USA-states\", \"lon\": [-81.1250296317698], \"mode\": \"markers\", \"type\": \"scattergeo\"}]}, {\"data\": [{\"lat\": [34.4374975106086], \"locationmode\": \"USA-states\", \"lon\": [-83.9404447413266], \"mode\": \"markers\", \"type\": \"scattergeo\"}]}, {\"data\": [{\"lat\": [34.08971843678927], \"locationmode\": \"USA-states\", \"lon\": [-82.10544942621249], \"mode\": \"markers\", \"type\": \"scattergeo\"}]}, {\"data\": [{\"lat\": [35.331644429619644], \"locationmode\": \"USA-states\", \"lon\": [-83.97934923467673], \"mode\": \"markers\", \"type\": \"scattergeo\"}]}, {\"data\": [{\"lat\": [36.27332695887017], \"locationmode\": \"USA-states\", \"lon\": [-83.50917377092425], \"mode\": \"markers\", \"type\": \"scattergeo\"}]}, {\"data\": [{\"lat\": [34.138859451828495], \"locationmode\": \"USA-states\", \"lon\": [-81.04715342845843], \"mode\": \"markers\", \"type\": \"scattergeo\"}]}, {\"data\": [{\"lat\": [33.855112318732814], \"locationmode\": \"USA-states\", \"lon\": [-79.80453144930607], \"mode\": \"markers\", \"type\": \"scattergeo\"}]}, {\"data\": [{\"lat\": [34.058033118906096], \"locationmode\": \"USA-states\", \"lon\": [-82.16724277420471], \"mode\": \"markers\", \"type\": \"scattergeo\"}]}, {\"data\": [{\"lat\": [35.59342351072553], \"locationmode\": \"USA-states\", \"lon\": [-76.65948091568649], \"mode\": \"markers\", \"type\": \"scattergeo\"}]}, {\"data\": [{\"lat\": [34.65379553584186], \"locationmode\": \"USA-states\", \"lon\": [-79.44221648172963], \"mode\": \"markers\", \"type\": \"scattergeo\"}]}, {\"data\": [{\"lat\": [35.26782188442388], \"locationmode\": \"USA-states\", \"lon\": [-77.28382430238868], \"mode\": \"markers\", \"type\": \"scattergeo\"}]}, {\"data\": [{\"lat\": [36.14144054366891], \"locationmode\": \"USA-states\", \"lon\": [-80.17112925289764], \"mode\": \"markers\", \"type\": \"scattergeo\"}]}, {\"data\": [{\"lat\": [35.375656904168885], \"locationmode\": \"USA-states\", \"lon\": [-80.11406206925395], \"mode\": \"markers\", \"type\": \"scattergeo\"}]}, {\"data\": [{\"lat\": [35.489223843152914], \"locationmode\": \"USA-states\", \"lon\": [-83.12195267731569], \"mode\": \"markers\", \"type\": \"scattergeo\"}]}, {\"data\": [{\"lat\": [34.569786826511965], \"locationmode\": \"USA-states\", \"lon\": [-83.90578102515535], \"mode\": \"markers\", \"type\": \"scattergeo\"}]}, {\"data\": [{\"lat\": [35.46780038323188], \"locationmode\": \"USA-states\", \"lon\": [-80.31724225048295], \"mode\": \"markers\", \"type\": \"scattergeo\"}]}, {\"data\": [{\"lat\": [35.953121016965554], \"locationmode\": \"USA-states\", \"lon\": [-81.51932485422962], \"mode\": \"markers\", \"type\": \"scattergeo\"}]}, {\"data\": [{\"lat\": [35.613537847159684], \"locationmode\": \"USA-states\", \"lon\": [-83.85373579571119], \"mode\": \"markers\", \"type\": \"scattergeo\"}]}, {\"data\": [{\"lat\": [34.86124881874086], \"locationmode\": \"USA-states\", \"lon\": [-76.0276797086423], \"mode\": \"markers\", \"type\": \"scattergeo\"}]}, {\"data\": [{\"lat\": [35.56175690870262], \"locationmode\": \"USA-states\", \"lon\": [-80.06234039248532], \"mode\": \"markers\", \"type\": \"scattergeo\"}]}, {\"data\": [{\"lat\": [35.74825488886167], \"locationmode\": \"USA-states\", \"lon\": [-78.18821891657893], \"mode\": \"markers\", \"type\": \"scattergeo\"}]}, {\"data\": [{\"lat\": [34.612588187921915], \"locationmode\": \"USA-states\", \"lon\": [-81.73264314331524], \"mode\": \"markers\", \"type\": \"scattergeo\"}]}, {\"data\": [{\"lat\": [36.00801589517805], \"locationmode\": \"USA-states\", \"lon\": [-78.72328510523965], \"mode\": \"markers\", \"type\": \"scattergeo\"}]}, {\"data\": [{\"lat\": [35.82947464188229], \"locationmode\": \"USA-states\", \"lon\": [-75.80246260818771], \"mode\": \"markers\", \"type\": \"scattergeo\"}]}, {\"data\": [{\"lat\": [34.07845077989158], \"locationmode\": \"USA-states\", \"lon\": [-80.83502849629423], \"mode\": \"markers\", \"type\": \"scattergeo\"}]}, {\"data\": [{\"lat\": [34.25152123846105], \"locationmode\": \"USA-states\", \"lon\": [-78.58400266208552], \"mode\": \"markers\", \"type\": \"scattergeo\"}]}, {\"data\": [{\"lat\": [35.6202928369477], \"locationmode\": \"USA-states\", \"lon\": [-80.87270385385571], \"mode\": \"markers\", \"type\": \"scattergeo\"}]}, {\"data\": [{\"lat\": [34.75842228120689], \"locationmode\": \"USA-states\", \"lon\": [-78.49163636923379], \"mode\": \"markers\", \"type\": \"scattergeo\"}]}, {\"data\": [{\"lat\": [33.830137571490205], \"locationmode\": \"USA-states\", \"lon\": [-83.98060558226595], \"mode\": \"markers\", \"type\": \"scattergeo\"}]}, {\"data\": [{\"lat\": [36.107147448046106], \"locationmode\": \"USA-states\", \"lon\": [-75.65336339045493], \"mode\": \"markers\", \"type\": \"scattergeo\"}]}, {\"data\": [{\"lat\": [34.97624308318555], \"locationmode\": \"USA-states\", \"lon\": [-76.76016389881495], \"mode\": \"markers\", \"type\": \"scattergeo\"}]}, {\"data\": [{\"lat\": [35.129177186939025], \"locationmode\": \"USA-states\", \"lon\": [-81.40141483909646], \"mode\": \"markers\", \"type\": \"scattergeo\"}]}, {\"data\": [{\"lat\": [33.96386231619835], \"locationmode\": \"USA-states\", \"lon\": [-83.04825472199637], \"mode\": \"markers\", \"type\": \"scattergeo\"}]}, {\"data\": [{\"lat\": [35.66570112617627], \"locationmode\": \"USA-states\", \"lon\": [-77.53587808892212], \"mode\": \"markers\", \"type\": \"scattergeo\"}]}, {\"data\": [{\"lat\": [33.871106595061114], \"locationmode\": \"USA-states\", \"lon\": [-82.7932265412185], \"mode\": \"markers\", \"type\": \"scattergeo\"}]}, {\"data\": [{\"lat\": [34.112673547733266], \"locationmode\": \"USA-states\", \"lon\": [-76.67057244563249], \"mode\": \"markers\", \"type\": \"scattergeo\"}]}, {\"data\": [{\"lat\": [36.1344253017587], \"locationmode\": \"USA-states\", \"lon\": [-80.7246690526902], \"mode\": \"markers\", \"type\": \"scattergeo\"}]}, {\"data\": [{\"lat\": [34.92795154276642], \"locationmode\": \"USA-states\", \"lon\": [-82.63930826609608], \"mode\": \"markers\", \"type\": \"scattergeo\"}]}, {\"data\": [{\"lat\": [35.68182117267189], \"locationmode\": \"USA-states\", \"lon\": [-78.11313445840482], \"mode\": \"markers\", \"type\": \"scattergeo\"}]}, {\"data\": [{\"lat\": [35.63377693373064], \"locationmode\": \"USA-states\", \"lon\": [-80.9697859351096], \"mode\": \"markers\", \"type\": \"scattergeo\"}]}, {\"data\": [{\"lat\": [34.18830641542415], \"locationmode\": \"USA-states\", \"lon\": [-77.20163231278849], \"mode\": \"markers\", \"type\": \"scattergeo\"}]}, {\"data\": [{\"lat\": [33.8984164710297], \"locationmode\": \"USA-states\", \"lon\": [-82.01891204788807], \"mode\": \"markers\", \"type\": \"scattergeo\"}]}, {\"data\": [{\"lat\": [35.57734307868258], \"locationmode\": \"USA-states\", \"lon\": [-81.68326901169038], \"mode\": \"markers\", \"type\": \"scattergeo\"}]}, {\"data\": [{\"lat\": [34.314781764407805], \"locationmode\": \"USA-states\", \"lon\": [-82.96511950489354], \"mode\": \"markers\", \"type\": \"scattergeo\"}]}, {\"data\": [{\"lat\": [35.09263207093735], \"locationmode\": \"USA-states\", \"lon\": [-82.79854841060438], \"mode\": \"markers\", \"type\": \"scattergeo\"}]}, {\"data\": [{\"lat\": [35.64651439251543], \"locationmode\": \"USA-states\", \"lon\": [-79.32682562228939], \"mode\": \"markers\", \"type\": \"scattergeo\"}]}, {\"data\": [{\"lat\": [34.79454465033377], \"locationmode\": \"USA-states\", \"lon\": [-75.69804633205246], \"mode\": \"markers\", \"type\": \"scattergeo\"}]}, {\"data\": [{\"lat\": [35.472490209646516], \"locationmode\": \"USA-states\", \"lon\": [-77.03211163198085], \"mode\": \"markers\", \"type\": \"scattergeo\"}]}, {\"data\": [{\"lat\": [36.080799281514075], \"locationmode\": \"USA-states\", \"lon\": [-75.04726727046754], \"mode\": \"markers\", \"type\": \"scattergeo\"}]}, {\"data\": [{\"lat\": [36.13903354859469], \"locationmode\": \"USA-states\", \"lon\": [-82.62680818830182], \"mode\": \"markers\", \"type\": \"scattergeo\"}]}, {\"data\": [{\"lat\": [34.65066171271926], \"locationmode\": \"USA-states\", \"lon\": [-75.31956168636117], \"mode\": \"markers\", \"type\": \"scattergeo\"}]}, {\"data\": [{\"lat\": [35.255634321736], \"locationmode\": \"USA-states\", \"lon\": [-82.3436352394632], \"mode\": \"markers\", \"type\": \"scattergeo\"}]}, {\"data\": [{\"lat\": [36.30585044848557], \"locationmode\": \"USA-states\", \"lon\": [-76.1347153236005], \"mode\": \"markers\", \"type\": \"scattergeo\"}]}, {\"data\": [{\"lat\": [34.736740812782585], \"locationmode\": \"USA-states\", \"lon\": [-79.75243515375114], \"mode\": \"markers\", \"type\": \"scattergeo\"}]}, {\"data\": [{\"lat\": [33.98301250379355], \"locationmode\": \"USA-states\", \"lon\": [-78.6971113793904], \"mode\": \"markers\", \"type\": \"scattergeo\"}]}, {\"data\": [{\"lat\": [34.27036470813507], \"locationmode\": \"USA-states\", \"lon\": [-83.83922753783595], \"mode\": \"markers\", \"type\": \"scattergeo\"}]}, {\"data\": [{\"lat\": [35.48249615321005], \"locationmode\": \"USA-states\", \"lon\": [-77.06916858225007], \"mode\": \"markers\", \"type\": \"scattergeo\"}]}, {\"data\": [{\"lat\": [35.642061077720584], \"locationmode\": \"USA-states\", \"lon\": [-83.78737644804805], \"mode\": \"markers\", \"type\": \"scattergeo\"}]}, {\"data\": [{\"lat\": [35.14247300305166], \"locationmode\": \"USA-states\", \"lon\": [-83.73420509385274], \"mode\": \"markers\", \"type\": \"scattergeo\"}]}, {\"data\": [{\"lat\": [35.543717390085455], \"locationmode\": \"USA-states\", \"lon\": [-80.3046794088244], \"mode\": \"markers\", \"type\": \"scattergeo\"}]}, {\"data\": [{\"lat\": [35.63624271540986], \"locationmode\": \"USA-states\", \"lon\": [-81.14193176817712], \"mode\": \"markers\", \"type\": \"scattergeo\"}]}, {\"data\": [{\"lat\": [34.378942426705535], \"locationmode\": \"USA-states\", \"lon\": [-80.7930476462646], \"mode\": \"markers\", \"type\": \"scattergeo\"}]}, {\"data\": [{\"lat\": [36.053491404663504], \"locationmode\": \"USA-states\", \"lon\": [-79.82342989821407], \"mode\": \"markers\", \"type\": \"scattergeo\"}]}, {\"data\": [{\"lat\": [34.30171671676381], \"locationmode\": \"USA-states\", \"lon\": [-79.70856439703996], \"mode\": \"markers\", \"type\": \"scattergeo\"}]}, {\"data\": [{\"lat\": [34.134617721415985], \"locationmode\": \"USA-states\", \"lon\": [-78.44785064744923], \"mode\": \"markers\", \"type\": \"scattergeo\"}]}, {\"data\": [{\"lat\": [33.907604588641526], \"locationmode\": \"USA-states\", \"lon\": [-79.80889702816695], \"mode\": \"markers\", \"type\": \"scattergeo\"}]}, {\"data\": [{\"lat\": [34.48637850340961], \"locationmode\": \"USA-states\", \"lon\": [-76.65727418908438], \"mode\": \"markers\", \"type\": \"scattergeo\"}]}, {\"data\": [{\"lat\": [36.22003648870816], \"locationmode\": \"USA-states\", \"lon\": [-83.63936211673324], \"mode\": \"markers\", \"type\": \"scattergeo\"}]}, {\"data\": [{\"lat\": [34.0267433093003], \"locationmode\": \"USA-states\", \"lon\": [-81.72518523380555], \"mode\": \"markers\", \"type\": \"scattergeo\"}]}]);}).then(function(){Plotly.animate('98b82bfe-4e25-4770-9770-11296620b519');})\n",
       "        });</script>"
      ]
     },
     "metadata": {},
     "output_type": "display_data"
    }
   ],
   "source": [
    "import operator\n",
    "from plotly.offline import iplot, init_notebook_mode\n",
    "\n",
    "metadata =  metadata[:100]\n",
    "metadata = sorted(metadata, key=operator.itemgetter(\"timestamp\"))\n",
    "print(metadata)\n",
    "gps = [m[\"gps\"] for m in metadata]\n",
    "timestamp = [m[\"timestamp\"] for m in metadata]\n",
    "\n",
    "init_notebook_mode(connected=True)\n",
    "data = [dict(\n",
    "            type='scattergeo',\n",
    "            locationmode ='USA-states',\n",
    "            lon = [gps[0][1]],\n",
    "            lat = [gps[0][0]],\n",
    "            mode = 'markers'\n",
    "    )]\n",
    "layout = dict(\n",
    "        geo = dict(\n",
    "            scope='usa',\n",
    "            projection=dict( type='albers usa' ),\n",
    "            showland = True,\n",
    "            landcolor = \"rgb(250, 250, 250)\",\n",
    "            subunitcolor = \"rgb(217, 217, 217)\",\n",
    "            countrycolor = \"rgb(217, 217, 217)\",\n",
    "            countrywidth = 0.5,\n",
    "            subunitwidth = 0.5        \n",
    "        ),\n",
    "        updatemenus= [\n",
    "            {\n",
    "                'type': 'buttons',\n",
    "                'buttons': [\n",
    "                    {\n",
    "                        'label': 'Play',\n",
    "                        'method': 'animate',\n",
    "                        'args': [None]\n",
    "                    }\n",
    "                ]\n",
    "            }\n",
    "        ]\n",
    "    )\n",
    "\n",
    "frames=[dict(data=[dict(\n",
    "                        type = 'scattergeo',\n",
    "                        locationmode= 'USA-states',\n",
    "                        lon=[gps[k][1]], \n",
    "                        lat=[gps[k][0]], \n",
    "                        mode='markers'\n",
    "                        )\n",
    "                  ]) for k in range(100)]\n",
    "\n",
    "fig = go.Figure(data=data, layout = layout, frames = frames)\n",
    "iplot(fig, filename=\"map_test\")"
   ]
  },
  {
   "cell_type": "code",
   "execution_count": 124,
   "metadata": {},
   "outputs": [
    {
     "ename": "SyntaxError",
     "evalue": "invalid syntax (<ipython-input-124-7ede3cac0fda>, line 118)",
     "output_type": "error",
     "traceback": [
      "\u001b[1;36m  File \u001b[1;32m\"<ipython-input-124-7ede3cac0fda>\"\u001b[1;36m, line \u001b[1;32m118\u001b[0m\n\u001b[1;33m    ],\u001b[0m\n\u001b[1;37m    ^\u001b[0m\n\u001b[1;31mSyntaxError\u001b[0m\u001b[1;31m:\u001b[0m invalid syntax\n"
     ]
    }
   ],
   "source": [
    "{\n",
    "  'layout': {\n",
    "    'title': 'Energy Flow',\n",
    "    'showlegend': True,\n",
    "    'width': '800',\n",
    "    'height': '600',\n",
    "\n",
    "  ## etc ..  \n",
    "  ## general layout\n",
    "  },\n",
    "  \n",
    "  'sliders': [{\n",
    "    'args': ['slider.value', {\n",
    "      'duration': 400,\n",
    "      'ease': 'cubic-in-out'\n",
    "    }],\n",
    "    'plotlycommand': 'animate',\n",
    "    'initialValue': '2010',\n",
    "    'steps': [{\n",
    "      'args': [\n",
    "        ['2010'], {\n",
    "          'frame': {\n",
    "            'duration': 70,\n",
    "            'redraw': True\n",
    "          },\n",
    "          'mode': 'immediate',\n",
    "          'transition': {\n",
    "            'duration': 0\n",
    "          }\n",
    "        }\n",
    "      ],\n",
    "      'label': '2010',\n",
    "      'method': 'animate'\n",
    "    }, {\n",
    "      'args': [\n",
    "        ['2011'], {\n",
    "          'frame': {\n",
    "            'duration': 70,\n",
    "            'redraw': True\n",
    "          },\n",
    "          'mode': 'immediate',\n",
    "          'transition': {\n",
    "            'duration': 0\n",
    "          }\n",
    "        }\n",
    "      ],\n",
    "      'label': '2011',\n",
    "      'method': 'animate'\n",
    "    }, {\n",
    "      'args': [\n",
    "        ['2012'], {\n",
    "          'frame': {\n",
    "            'duration': 70,\n",
    "            'redraw': True\n",
    "          },\n",
    "          'mode': 'immediate',\n",
    "          'transition': {\n",
    "            'duration': 0\n",
    "          }\n",
    "        }\n",
    "      ],\n",
    "      'label': '2012',\n",
    "      'method': 'animate'\n",
    "    }, {\n",
    "      'args': [\n",
    "        ['2013'], {\n",
    "          'frame': {\n",
    "            'duration': 70,\n",
    "            'redraw': True\n",
    "          },\n",
    "          'mode': 'immediate',\n",
    "          'transition': {\n",
    "            'duration': 0\n",
    "          }\n",
    "        }\n",
    "      ],\n",
    "      'label': '2013',\n",
    "      'method': 'animate'\n",
    "    },\n",
    "    {}\n",
    "    ## etc ..\n",
    "    ## slider data for each frame\n",
    "  ],\n",
    "    \n",
    "  'data': [\n",
    "  ## data of the first frame\n",
    "  {\n",
    "    'type': 'scattergeo',\n",
    "    'lon': [101.9199, 99.7129],\n",
    "    'lat': [30.1904, 38.166],\n",
    "    'hoverinfo': 'text',\n",
    "    'text': 'Sichuan>Gansu: 0.19 by gas_transmission ',\n",
    "    'mode': 'lines',\n",
    "    'line': {\n",
    "      'width': 1.4501452310666547,\n",
    "      'color': '#8465A9'\n",
    "    },\n",
    "    'legendgroup': 'gas_transmission',\n",
    "    'name': 'gas_transmission:Sichuan',\n",
    "    'opacity': 0.6\n",
    "  },\n",
    "  ## a line dict\n",
    "  {\n",
    "    'type': 'scattergeo',\n",
    "    'lon': [99.7129],\n",
    "    'lat': [38.166],\n",
    "    'hoverinfo': 'text',\n",
    "    'text': 'Gansu: 0.02 of prod (gas)',\n",
    "    'mode': 'markers',\n",
    "    'marker': {\n",
    "      'symbol': 'dot',\n",
    "      'opacity': 0.6,\n",
    "      'size': 1.0473837085333322,\n",
    "      'color': 'orange'\n",
    "    },\n",
    "  ## and a marker dict  \n",
    "  ## etc ..\n",
    "    ],\n",
    "  'frames': [\n",
    "  [],\n",
    "  [],\n",
    "  ## etc ..\n",
    "  ## all the frames data\n",
    "  ]\n",
    "}"
   ]
  },
  {
   "cell_type": "code",
   "execution_count": 104,
   "metadata": {},
   "outputs": [
    {
     "data": {
      "text/html": [
       "<script>requirejs.config({paths: { 'plotly': ['https://cdn.plot.ly/plotly-latest.min']},});if(!window.Plotly) {{require(['plotly'],function(plotly) {window.Plotly=plotly;});}}</script>"
      ],
      "text/vnd.plotly.v1+html": [
       "<script>requirejs.config({paths: { 'plotly': ['https://cdn.plot.ly/plotly-latest.min']},});if(!window.Plotly) {{require(['plotly'],function(plotly) {window.Plotly=plotly;});}}</script>"
      ]
     },
     "metadata": {},
     "output_type": "display_data"
    },
    {
     "name": "stdout",
     "output_type": "stream",
     "text": [
      "[{'data': [{'x': [0.0], 'y': [-2.0], 'mode': 'markers', 'marker': {'color': 'red', 'size': 10}}]}, {'data': [{'x': [-0.03915035401915867], 'y': [-1.8792169929196167], 'mode': 'markers', 'marker': {'color': 'red', 'size': 10}}]}, {'data': [{'x': [-0.07496876301541022], 'y': [-1.7617659308621407], 'mode': 'markers', 'marker': {'color': 'red', 'size': 10}}]}, {'data': [{'x': [-0.10745522698875476], 'y': [-1.6476468138275717], 'mode': 'markers', 'marker': {'color': 'red', 'size': 10}}]}, {'data': [{'x': [-0.13660974593919195], 'y': [-1.5368596418159102], 'mode': 'markers', 'marker': {'color': 'red', 'size': 10}}]}, {'data': [{'x': [-0.16243231986672224], 'y': [-1.4294044148271552], 'mode': 'markers', 'marker': {'color': 'red', 'size': 10}}]}, {'data': [{'x': [-0.1849229487713453], 'y': [-1.3252811328613077], 'mode': 'markers', 'marker': {'color': 'red', 'size': 10}}]}, {'data': [{'x': [-0.20408163265306123], 'y': [-1.2244897959183674], 'mode': 'markers', 'marker': {'color': 'red', 'size': 10}}]}, {'data': [{'x': [-0.21990837151187004], 'y': [-1.1270304039983343], 'mode': 'markers', 'marker': {'color': 'red', 'size': 10}}]}, {'data': [{'x': [-0.23240316534777178], 'y': [-1.0329029571012078], 'mode': 'markers', 'marker': {'color': 'red', 'size': 10}}]}, {'data': [{'x': [-0.24156601416076634], 'y': [-0.9421074552269888], 'mode': 'markers', 'marker': {'color': 'red', 'size': 10}}]}, {'data': [{'x': [-0.24739691795085378], 'y': [-0.854643898375677], 'mode': 'markers', 'marker': {'color': 'red', 'size': 10}}]}, {'data': [{'x': [-0.24989587671803415], 'y': [-0.770512286547272], 'mode': 'markers', 'marker': {'color': 'red', 'size': 10}}]}, {'data': [{'x': [-0.24906289046230737], 'y': [-0.6897126197417744], 'mode': 'markers', 'marker': {'color': 'red', 'size': 10}}]}, {'data': [{'x': [-0.24489795918367346], 'y': [-0.6122448979591837], 'mode': 'markers', 'marker': {'color': 'red', 'size': 10}}]}, {'data': [{'x': [-0.23740108288213246], 'y': [-0.5381091211995004], 'mode': 'markers', 'marker': {'color': 'red', 'size': 10}}]}, {'data': [{'x': [-0.2265722615576843], 'y': [-0.467305289462724], 'mode': 'markers', 'marker': {'color': 'red', 'size': 10}}]}, {'data': [{'x': [-0.21241149521032904], 'y': [-0.39983340274885465], 'mode': 'markers', 'marker': {'color': 'red', 'size': 10}}]}, {'data': [{'x': [-0.19491878384006667], 'y': [-0.33569346105789266], 'mode': 'markers', 'marker': {'color': 'red', 'size': 10}}]}, {'data': [{'x': [-0.17409412744689715], 'y': [-0.27488546438983763], 'mode': 'markers', 'marker': {'color': 'red', 'size': 10}}]}, {'data': [{'x': [-0.14993752603082056], 'y': [-0.21740941274468983], 'mode': 'markers', 'marker': {'color': 'red', 'size': 10}}]}, {'data': [{'x': [-0.12244897959183677], 'y': [-0.16326530612244905], 'mode': 'markers', 'marker': {'color': 'red', 'size': 10}}]}, {'data': [{'x': [-0.09162848812994595], 'y': [-0.1124531445231155], 'mode': 'markers', 'marker': {'color': 'red', 'size': 10}}]}, {'data': [{'x': [-0.057476051645147914], 'y': [-0.06497292794668895], 'mode': 'markers', 'marker': {'color': 'red', 'size': 10}}]}, {'data': [{'x': [-0.019991670137442755], 'y': [-0.020824656393169536], 'mode': 'markers', 'marker': {'color': 'red', 'size': 10}}]}, {'data': [{'x': [0.020824656393169536], 'y': [0.019991670137442755], 'mode': 'markers', 'marker': {'color': 'red', 'size': 10}}]}, {'data': [{'x': [0.06497292794668871], 'y': [0.05747605164514772], 'mode': 'markers', 'marker': {'color': 'red', 'size': 10}}]}, {'data': [{'x': [0.11245314452311524], 'y': [0.09162848812994577], 'mode': 'markers', 'marker': {'color': 'red', 'size': 10}}]}, {'data': [{'x': [0.16326530612244888], 'y': [0.12244897959183669], 'mode': 'markers', 'marker': {'color': 'red', 'size': 10}}]}, {'data': [{'x': [0.2174094127446897], 'y': [0.14993752603082047], 'mode': 'markers', 'marker': {'color': 'red', 'size': 10}}]}, {'data': [{'x': [0.2748854643898373], 'y': [0.174094127446897], 'mode': 'markers', 'marker': {'color': 'red', 'size': 10}}]}, {'data': [{'x': [0.33569346105789233], 'y': [0.19491878384006656], 'mode': 'markers', 'marker': {'color': 'red', 'size': 10}}]}, {'data': [{'x': [0.3998334027488545], 'y': [0.21241149521032898], 'mode': 'markers', 'marker': {'color': 'red', 'size': 10}}]}, {'data': [{'x': [0.46730528946272376], 'y': [0.22657226155768428], 'mode': 'markers', 'marker': {'color': 'red', 'size': 10}}]}, {'data': [{'x': [0.5381091211995002], 'y': [0.23740108288213244], 'mode': 'markers', 'marker': {'color': 'red', 'size': 10}}]}, {'data': [{'x': [0.6122448979591834], 'y': [0.24489795918367344], 'mode': 'markers', 'marker': {'color': 'red', 'size': 10}}]}, {'data': [{'x': [0.689712619741774], 'y': [0.24906289046230737], 'mode': 'markers', 'marker': {'color': 'red', 'size': 10}}]}, {'data': [{'x': [0.7705122865472718], 'y': [0.24989587671803415], 'mode': 'markers', 'marker': {'color': 'red', 'size': 10}}]}, {'data': [{'x': [0.8546438983756767], 'y': [0.24739691795085383], 'mode': 'markers', 'marker': {'color': 'red', 'size': 10}}]}, {'data': [{'x': [0.9421074552269882], 'y': [0.2415660141607664], 'mode': 'markers', 'marker': {'color': 'red', 'size': 10}}]}, {'data': [{'x': [1.0329029571012074], 'y': [0.23240316534777183], 'mode': 'markers', 'marker': {'color': 'red', 'size': 10}}]}, {'data': [{'x': [1.1270304039983337], 'y': [0.2199083715118701], 'mode': 'markers', 'marker': {'color': 'red', 'size': 10}}]}, {'data': [{'x': [1.2244897959183672], 'y': [0.20408163265306123], 'mode': 'markers', 'marker': {'color': 'red', 'size': 10}}]}, {'data': [{'x': [1.3252811328613077], 'y': [0.1849229487713453], 'mode': 'markers', 'marker': {'color': 'red', 'size': 10}}]}, {'data': [{'x': [1.4294044148271547], 'y': [0.16243231986672235], 'mode': 'markers', 'marker': {'color': 'red', 'size': 10}}]}, {'data': [{'x': [1.5368596418159095], 'y': [0.13660974593919217], 'mode': 'markers', 'marker': {'color': 'red', 'size': 10}}]}, {'data': [{'x': [1.6476468138275715], 'y': [0.10745522698875476], 'mode': 'markers', 'marker': {'color': 'red', 'size': 10}}]}, {'data': [{'x': [1.7617659308621405], 'y': [0.07496876301541033], 'mode': 'markers', 'marker': {'color': 'red', 'size': 10}}]}, {'data': [{'x': [1.8792169929196167], 'y': [0.03915035401915867], 'mode': 'markers', 'marker': {'color': 'red', 'size': 10}}]}, {'data': [{'x': [2.0], 'y': [0.0], 'mode': 'markers', 'marker': {'color': 'red', 'size': 10}}]}]\n"
     ]
    },
    {
     "data": {
      "application/vnd.plotly.v1+json": {
       "data": [
        {
         "line": {
          "color": "blue",
          "width": 2
         },
         "mode": "lines",
         "type": "scatter",
         "uid": "ba37d6fe-510c-11e9-912e-5cf37071266d",
         "x": [
          0,
          -0.01979389858177738,
          -0.03877155392306908,
          -0.0569329660238751,
          -0.07427813488419543,
          -0.0908070605040302,
          -0.10651974288337929,
          -0.12141618202224269,
          -0.13549637792062041,
          -0.14876033057851246,
          -0.16120803999591882,
          -0.1728395061728395,
          -0.1836547291092746,
          -0.19365370880522392,
          -0.20283644526068767,
          -0.21120293847566574,
          -0.21875318845015818,
          -0.22548719518416488,
          -0.23140495867768596,
          -0.23650647893072135,
          -0.24079175594327112,
          -0.24426078971533516,
          -0.24691358024691357,
          -0.24875012753800635,
          -0.2497704315886134,
          -0.24997449239873482,
          -0.24936230996837058,
          -0.24793388429752067,
          -0.24568921538618507,
          -0.24262830323436385,
          -0.23875114784205692,
          -0.23405774920926437,
          -0.22854810733598613,
          -0.2222222222222222,
          -0.2150800938679726,
          -0.20712172227323739,
          -0.19834710743801653,
          -0.18875624936230995,
          -0.1783491480461177,
          -0.1671258034894398,
          -0.15508621569227624,
          -0.142230384654627,
          -0.12855831037649218,
          -0.11406999285787162,
          -0.09876543209876538,
          -0.08264462809917349,
          -0.06570758085909592,
          -0.047954290378532695,
          -0.029384756657483906,
          -0.009998979695949348,
          0.010203040506070876,
          0.031221303948576883,
          0.05305581063156832,
          0.07570656055504542,
          0.09917355371900843,
          0.12345679012345685,
          0.1485562697683912,
          0.17447199265381094,
          0.20120395877971636,
          0.22875216814610771,
          0.2571166207529844,
          0.28629731660034713,
          0.3162942556881952,
          0.3471074380165292,
          0.37873686358534864,
          0.41118253239465363,
          0.4444444444444447,
          0.47852259973472105,
          0.5134169982654835,
          0.5491276400367311,
          0.5856545250484648,
          0.6229976533006838,
          0.6611570247933884,
          0.7001326395265792,
          0.7399244975002552,
          0.7805325987144174,
          0.8219569431690646,
          0.8641975308641976,
          0.9072543617998167,
          0.951127435975921,
          0.9958167533925114,
          1.041322314049587,
          1.0876441179471488,
          1.1347821650851957,
          1.1827364554637283,
          1.2315069890827472,
          1.281093765942251,
          1.331496786042241,
          1.3827160493827164,
          1.4347515559636779,
          1.4876033057851243,
          1.5412712988470565,
          1.595755535149475,
          1.6510560146923785,
          1.7071727374757684,
          1.7641057034996432,
          1.8218549127640038,
          1.8804203652688507,
          1.9398020610141824,
          2
         ],
         "y": [
          -2,
          -1.9398020610141822,
          -1.88042036526885,
          -1.8218549127640038,
          -1.764105703499643,
          -1.707172737475768,
          -1.6510560146923783,
          -1.5957555351494745,
          -1.5412712988470563,
          -1.487603305785124,
          -1.4347515559636772,
          -1.382716049382716,
          -1.3314967860422406,
          -1.2810937659422508,
          -1.2315069890827466,
          -1.1827364554637283,
          -1.1347821650851952,
          -1.0876441179471483,
          -1.0413223140495869,
          -0.9958167533925109,
          -0.9511274359759208,
          -0.9072543617998162,
          -0.8641975308641976,
          -0.8219569431690641,
          -0.7805325987144169,
          -0.739924497500255,
          -0.7001326395265788,
          -0.6611570247933882,
          -0.6229976533006835,
          -0.5856545250484644,
          -0.5491276400367309,
          -0.513416998265483,
          -0.47852259973472083,
          -0.4444444444444443,
          -0.41118253239465347,
          -0.37873686358534825,
          -0.3471074380165289,
          -0.316294255688195,
          -0.2862973166003468,
          -0.25711662075298425,
          -0.2287521681461074,
          -0.2012039587797162,
          -0.1744719926538108,
          -0.14855626976839093,
          -0.12345679012345671,
          -0.09917355371900817,
          -0.0757065605550453,
          -0.05305581063156808,
          -0.031221303948576647,
          -0.010203040506070762,
          0.009998979695949456,
          0.029384756657484114,
          0.047954290378532896,
          0.06570758085909602,
          0.08264462809917367,
          0.09876543209876547,
          0.11406999285787178,
          0.12855831037649226,
          0.14223038465462706,
          0.15508621569227637,
          0.16712580348943987,
          0.17834914804611784,
          0.18875624936231,
          0.19834710743801662,
          0.20712172227323747,
          0.21508009386797267,
          0.22222222222222227,
          0.22854810733598613,
          0.23405774920926442,
          0.23875114784205695,
          0.24262830323436388,
          0.2456892153861851,
          0.24793388429752067,
          0.24936230996837058,
          0.24997449239873482,
          0.2497704315886134,
          0.2487501275380063,
          0.24691358024691357,
          0.24426078971533516,
          0.24079175594327107,
          0.2365064789307213,
          0.2314049586776859,
          0.22548719518416482,
          0.21875318845015812,
          0.21120293847566574,
          0.20283644526068756,
          0.19365370880522392,
          0.1836547291092745,
          0.17283950617283939,
          0.1612080399959186,
          0.14876033057851235,
          0.1354963779206203,
          0.12141618202224247,
          0.10651974288337918,
          0.09080706050402998,
          0.07427813488419532,
          0.0569329660238751,
          0.03877155392306886,
          0.01979389858177727,
          0
         ]
        },
        {
         "line": {
          "color": "blue",
          "width": 2
         },
         "mode": "lines",
         "type": "scatter",
         "uid": "ba37d6ff-510c-11e9-9687-5cf37071266d",
         "x": [
          0,
          -0.01979389858177738,
          -0.03877155392306908,
          -0.0569329660238751,
          -0.07427813488419543,
          -0.0908070605040302,
          -0.10651974288337929,
          -0.12141618202224269,
          -0.13549637792062041,
          -0.14876033057851246,
          -0.16120803999591882,
          -0.1728395061728395,
          -0.1836547291092746,
          -0.19365370880522392,
          -0.20283644526068767,
          -0.21120293847566574,
          -0.21875318845015818,
          -0.22548719518416488,
          -0.23140495867768596,
          -0.23650647893072135,
          -0.24079175594327112,
          -0.24426078971533516,
          -0.24691358024691357,
          -0.24875012753800635,
          -0.2497704315886134,
          -0.24997449239873482,
          -0.24936230996837058,
          -0.24793388429752067,
          -0.24568921538618507,
          -0.24262830323436385,
          -0.23875114784205692,
          -0.23405774920926437,
          -0.22854810733598613,
          -0.2222222222222222,
          -0.2150800938679726,
          -0.20712172227323739,
          -0.19834710743801653,
          -0.18875624936230995,
          -0.1783491480461177,
          -0.1671258034894398,
          -0.15508621569227624,
          -0.142230384654627,
          -0.12855831037649218,
          -0.11406999285787162,
          -0.09876543209876538,
          -0.08264462809917349,
          -0.06570758085909592,
          -0.047954290378532695,
          -0.029384756657483906,
          -0.009998979695949348,
          0.010203040506070876,
          0.031221303948576883,
          0.05305581063156832,
          0.07570656055504542,
          0.09917355371900843,
          0.12345679012345685,
          0.1485562697683912,
          0.17447199265381094,
          0.20120395877971636,
          0.22875216814610771,
          0.2571166207529844,
          0.28629731660034713,
          0.3162942556881952,
          0.3471074380165292,
          0.37873686358534864,
          0.41118253239465363,
          0.4444444444444447,
          0.47852259973472105,
          0.5134169982654835,
          0.5491276400367311,
          0.5856545250484648,
          0.6229976533006838,
          0.6611570247933884,
          0.7001326395265792,
          0.7399244975002552,
          0.7805325987144174,
          0.8219569431690646,
          0.8641975308641976,
          0.9072543617998167,
          0.951127435975921,
          0.9958167533925114,
          1.041322314049587,
          1.0876441179471488,
          1.1347821650851957,
          1.1827364554637283,
          1.2315069890827472,
          1.281093765942251,
          1.331496786042241,
          1.3827160493827164,
          1.4347515559636779,
          1.4876033057851243,
          1.5412712988470565,
          1.595755535149475,
          1.6510560146923785,
          1.7071727374757684,
          1.7641057034996432,
          1.8218549127640038,
          1.8804203652688507,
          1.9398020610141824,
          2
         ],
         "y": [
          -2,
          -1.9398020610141822,
          -1.88042036526885,
          -1.8218549127640038,
          -1.764105703499643,
          -1.707172737475768,
          -1.6510560146923783,
          -1.5957555351494745,
          -1.5412712988470563,
          -1.487603305785124,
          -1.4347515559636772,
          -1.382716049382716,
          -1.3314967860422406,
          -1.2810937659422508,
          -1.2315069890827466,
          -1.1827364554637283,
          -1.1347821650851952,
          -1.0876441179471483,
          -1.0413223140495869,
          -0.9958167533925109,
          -0.9511274359759208,
          -0.9072543617998162,
          -0.8641975308641976,
          -0.8219569431690641,
          -0.7805325987144169,
          -0.739924497500255,
          -0.7001326395265788,
          -0.6611570247933882,
          -0.6229976533006835,
          -0.5856545250484644,
          -0.5491276400367309,
          -0.513416998265483,
          -0.47852259973472083,
          -0.4444444444444443,
          -0.41118253239465347,
          -0.37873686358534825,
          -0.3471074380165289,
          -0.316294255688195,
          -0.2862973166003468,
          -0.25711662075298425,
          -0.2287521681461074,
          -0.2012039587797162,
          -0.1744719926538108,
          -0.14855626976839093,
          -0.12345679012345671,
          -0.09917355371900817,
          -0.0757065605550453,
          -0.05305581063156808,
          -0.031221303948576647,
          -0.010203040506070762,
          0.009998979695949456,
          0.029384756657484114,
          0.047954290378532896,
          0.06570758085909602,
          0.08264462809917367,
          0.09876543209876547,
          0.11406999285787178,
          0.12855831037649226,
          0.14223038465462706,
          0.15508621569227637,
          0.16712580348943987,
          0.17834914804611784,
          0.18875624936231,
          0.19834710743801662,
          0.20712172227323747,
          0.21508009386797267,
          0.22222222222222227,
          0.22854810733598613,
          0.23405774920926442,
          0.23875114784205695,
          0.24262830323436388,
          0.2456892153861851,
          0.24793388429752067,
          0.24936230996837058,
          0.24997449239873482,
          0.2497704315886134,
          0.2487501275380063,
          0.24691358024691357,
          0.24426078971533516,
          0.24079175594327107,
          0.2365064789307213,
          0.2314049586776859,
          0.22548719518416482,
          0.21875318845015812,
          0.21120293847566574,
          0.20283644526068756,
          0.19365370880522392,
          0.1836547291092745,
          0.17283950617283939,
          0.1612080399959186,
          0.14876033057851235,
          0.1354963779206203,
          0.12141618202224247,
          0.10651974288337918,
          0.09080706050402998,
          0.07427813488419532,
          0.0569329660238751,
          0.03877155392306886,
          0.01979389858177727,
          0
         ]
        }
       ],
       "frames": [
        {
         "data": [
          {
           "marker": {
            "color": "red",
            "size": 10
           },
           "mode": "markers",
           "type": "scatter",
           "x": [
            0
           ],
           "y": [
            -2
           ]
          }
         ]
        },
        {
         "data": [
          {
           "marker": {
            "color": "red",
            "size": 10
           },
           "mode": "markers",
           "type": "scatter",
           "x": [
            -0.03915035401915867
           ],
           "y": [
            -1.8792169929196167
           ]
          }
         ]
        },
        {
         "data": [
          {
           "marker": {
            "color": "red",
            "size": 10
           },
           "mode": "markers",
           "type": "scatter",
           "x": [
            -0.07496876301541022
           ],
           "y": [
            -1.7617659308621407
           ]
          }
         ]
        },
        {
         "data": [
          {
           "marker": {
            "color": "red",
            "size": 10
           },
           "mode": "markers",
           "type": "scatter",
           "x": [
            -0.10745522698875476
           ],
           "y": [
            -1.6476468138275717
           ]
          }
         ]
        },
        {
         "data": [
          {
           "marker": {
            "color": "red",
            "size": 10
           },
           "mode": "markers",
           "type": "scatter",
           "x": [
            -0.13660974593919195
           ],
           "y": [
            -1.5368596418159102
           ]
          }
         ]
        },
        {
         "data": [
          {
           "marker": {
            "color": "red",
            "size": 10
           },
           "mode": "markers",
           "type": "scatter",
           "x": [
            -0.16243231986672224
           ],
           "y": [
            -1.4294044148271552
           ]
          }
         ]
        },
        {
         "data": [
          {
           "marker": {
            "color": "red",
            "size": 10
           },
           "mode": "markers",
           "type": "scatter",
           "x": [
            -0.1849229487713453
           ],
           "y": [
            -1.3252811328613077
           ]
          }
         ]
        },
        {
         "data": [
          {
           "marker": {
            "color": "red",
            "size": 10
           },
           "mode": "markers",
           "type": "scatter",
           "x": [
            -0.20408163265306123
           ],
           "y": [
            -1.2244897959183674
           ]
          }
         ]
        },
        {
         "data": [
          {
           "marker": {
            "color": "red",
            "size": 10
           },
           "mode": "markers",
           "type": "scatter",
           "x": [
            -0.21990837151187004
           ],
           "y": [
            -1.1270304039983343
           ]
          }
         ]
        },
        {
         "data": [
          {
           "marker": {
            "color": "red",
            "size": 10
           },
           "mode": "markers",
           "type": "scatter",
           "x": [
            -0.23240316534777178
           ],
           "y": [
            -1.0329029571012078
           ]
          }
         ]
        },
        {
         "data": [
          {
           "marker": {
            "color": "red",
            "size": 10
           },
           "mode": "markers",
           "type": "scatter",
           "x": [
            -0.24156601416076634
           ],
           "y": [
            -0.9421074552269888
           ]
          }
         ]
        },
        {
         "data": [
          {
           "marker": {
            "color": "red",
            "size": 10
           },
           "mode": "markers",
           "type": "scatter",
           "x": [
            -0.24739691795085378
           ],
           "y": [
            -0.854643898375677
           ]
          }
         ]
        },
        {
         "data": [
          {
           "marker": {
            "color": "red",
            "size": 10
           },
           "mode": "markers",
           "type": "scatter",
           "x": [
            -0.24989587671803415
           ],
           "y": [
            -0.770512286547272
           ]
          }
         ]
        },
        {
         "data": [
          {
           "marker": {
            "color": "red",
            "size": 10
           },
           "mode": "markers",
           "type": "scatter",
           "x": [
            -0.24906289046230737
           ],
           "y": [
            -0.6897126197417744
           ]
          }
         ]
        },
        {
         "data": [
          {
           "marker": {
            "color": "red",
            "size": 10
           },
           "mode": "markers",
           "type": "scatter",
           "x": [
            -0.24489795918367346
           ],
           "y": [
            -0.6122448979591837
           ]
          }
         ]
        },
        {
         "data": [
          {
           "marker": {
            "color": "red",
            "size": 10
           },
           "mode": "markers",
           "type": "scatter",
           "x": [
            -0.23740108288213246
           ],
           "y": [
            -0.5381091211995004
           ]
          }
         ]
        },
        {
         "data": [
          {
           "marker": {
            "color": "red",
            "size": 10
           },
           "mode": "markers",
           "type": "scatter",
           "x": [
            -0.2265722615576843
           ],
           "y": [
            -0.467305289462724
           ]
          }
         ]
        },
        {
         "data": [
          {
           "marker": {
            "color": "red",
            "size": 10
           },
           "mode": "markers",
           "type": "scatter",
           "x": [
            -0.21241149521032904
           ],
           "y": [
            -0.39983340274885465
           ]
          }
         ]
        },
        {
         "data": [
          {
           "marker": {
            "color": "red",
            "size": 10
           },
           "mode": "markers",
           "type": "scatter",
           "x": [
            -0.19491878384006667
           ],
           "y": [
            -0.33569346105789266
           ]
          }
         ]
        },
        {
         "data": [
          {
           "marker": {
            "color": "red",
            "size": 10
           },
           "mode": "markers",
           "type": "scatter",
           "x": [
            -0.17409412744689715
           ],
           "y": [
            -0.27488546438983763
           ]
          }
         ]
        },
        {
         "data": [
          {
           "marker": {
            "color": "red",
            "size": 10
           },
           "mode": "markers",
           "type": "scatter",
           "x": [
            -0.14993752603082056
           ],
           "y": [
            -0.21740941274468983
           ]
          }
         ]
        },
        {
         "data": [
          {
           "marker": {
            "color": "red",
            "size": 10
           },
           "mode": "markers",
           "type": "scatter",
           "x": [
            -0.12244897959183677
           ],
           "y": [
            -0.16326530612244905
           ]
          }
         ]
        },
        {
         "data": [
          {
           "marker": {
            "color": "red",
            "size": 10
           },
           "mode": "markers",
           "type": "scatter",
           "x": [
            -0.09162848812994595
           ],
           "y": [
            -0.1124531445231155
           ]
          }
         ]
        },
        {
         "data": [
          {
           "marker": {
            "color": "red",
            "size": 10
           },
           "mode": "markers",
           "type": "scatter",
           "x": [
            -0.057476051645147914
           ],
           "y": [
            -0.06497292794668895
           ]
          }
         ]
        },
        {
         "data": [
          {
           "marker": {
            "color": "red",
            "size": 10
           },
           "mode": "markers",
           "type": "scatter",
           "x": [
            -0.019991670137442755
           ],
           "y": [
            -0.020824656393169536
           ]
          }
         ]
        },
        {
         "data": [
          {
           "marker": {
            "color": "red",
            "size": 10
           },
           "mode": "markers",
           "type": "scatter",
           "x": [
            0.020824656393169536
           ],
           "y": [
            0.019991670137442755
           ]
          }
         ]
        },
        {
         "data": [
          {
           "marker": {
            "color": "red",
            "size": 10
           },
           "mode": "markers",
           "type": "scatter",
           "x": [
            0.06497292794668871
           ],
           "y": [
            0.05747605164514772
           ]
          }
         ]
        },
        {
         "data": [
          {
           "marker": {
            "color": "red",
            "size": 10
           },
           "mode": "markers",
           "type": "scatter",
           "x": [
            0.11245314452311524
           ],
           "y": [
            0.09162848812994577
           ]
          }
         ]
        },
        {
         "data": [
          {
           "marker": {
            "color": "red",
            "size": 10
           },
           "mode": "markers",
           "type": "scatter",
           "x": [
            0.16326530612244888
           ],
           "y": [
            0.12244897959183669
           ]
          }
         ]
        },
        {
         "data": [
          {
           "marker": {
            "color": "red",
            "size": 10
           },
           "mode": "markers",
           "type": "scatter",
           "x": [
            0.2174094127446897
           ],
           "y": [
            0.14993752603082047
           ]
          }
         ]
        },
        {
         "data": [
          {
           "marker": {
            "color": "red",
            "size": 10
           },
           "mode": "markers",
           "type": "scatter",
           "x": [
            0.2748854643898373
           ],
           "y": [
            0.174094127446897
           ]
          }
         ]
        },
        {
         "data": [
          {
           "marker": {
            "color": "red",
            "size": 10
           },
           "mode": "markers",
           "type": "scatter",
           "x": [
            0.33569346105789233
           ],
           "y": [
            0.19491878384006656
           ]
          }
         ]
        },
        {
         "data": [
          {
           "marker": {
            "color": "red",
            "size": 10
           },
           "mode": "markers",
           "type": "scatter",
           "x": [
            0.3998334027488545
           ],
           "y": [
            0.21241149521032898
           ]
          }
         ]
        },
        {
         "data": [
          {
           "marker": {
            "color": "red",
            "size": 10
           },
           "mode": "markers",
           "type": "scatter",
           "x": [
            0.46730528946272376
           ],
           "y": [
            0.22657226155768428
           ]
          }
         ]
        },
        {
         "data": [
          {
           "marker": {
            "color": "red",
            "size": 10
           },
           "mode": "markers",
           "type": "scatter",
           "x": [
            0.5381091211995002
           ],
           "y": [
            0.23740108288213244
           ]
          }
         ]
        },
        {
         "data": [
          {
           "marker": {
            "color": "red",
            "size": 10
           },
           "mode": "markers",
           "type": "scatter",
           "x": [
            0.6122448979591834
           ],
           "y": [
            0.24489795918367344
           ]
          }
         ]
        },
        {
         "data": [
          {
           "marker": {
            "color": "red",
            "size": 10
           },
           "mode": "markers",
           "type": "scatter",
           "x": [
            0.689712619741774
           ],
           "y": [
            0.24906289046230737
           ]
          }
         ]
        },
        {
         "data": [
          {
           "marker": {
            "color": "red",
            "size": 10
           },
           "mode": "markers",
           "type": "scatter",
           "x": [
            0.7705122865472718
           ],
           "y": [
            0.24989587671803415
           ]
          }
         ]
        },
        {
         "data": [
          {
           "marker": {
            "color": "red",
            "size": 10
           },
           "mode": "markers",
           "type": "scatter",
           "x": [
            0.8546438983756767
           ],
           "y": [
            0.24739691795085383
           ]
          }
         ]
        },
        {
         "data": [
          {
           "marker": {
            "color": "red",
            "size": 10
           },
           "mode": "markers",
           "type": "scatter",
           "x": [
            0.9421074552269882
           ],
           "y": [
            0.2415660141607664
           ]
          }
         ]
        },
        {
         "data": [
          {
           "marker": {
            "color": "red",
            "size": 10
           },
           "mode": "markers",
           "type": "scatter",
           "x": [
            1.0329029571012074
           ],
           "y": [
            0.23240316534777183
           ]
          }
         ]
        },
        {
         "data": [
          {
           "marker": {
            "color": "red",
            "size": 10
           },
           "mode": "markers",
           "type": "scatter",
           "x": [
            1.1270304039983337
           ],
           "y": [
            0.2199083715118701
           ]
          }
         ]
        },
        {
         "data": [
          {
           "marker": {
            "color": "red",
            "size": 10
           },
           "mode": "markers",
           "type": "scatter",
           "x": [
            1.2244897959183672
           ],
           "y": [
            0.20408163265306123
           ]
          }
         ]
        },
        {
         "data": [
          {
           "marker": {
            "color": "red",
            "size": 10
           },
           "mode": "markers",
           "type": "scatter",
           "x": [
            1.3252811328613077
           ],
           "y": [
            0.1849229487713453
           ]
          }
         ]
        },
        {
         "data": [
          {
           "marker": {
            "color": "red",
            "size": 10
           },
           "mode": "markers",
           "type": "scatter",
           "x": [
            1.4294044148271547
           ],
           "y": [
            0.16243231986672235
           ]
          }
         ]
        },
        {
         "data": [
          {
           "marker": {
            "color": "red",
            "size": 10
           },
           "mode": "markers",
           "type": "scatter",
           "x": [
            1.5368596418159095
           ],
           "y": [
            0.13660974593919217
           ]
          }
         ]
        },
        {
         "data": [
          {
           "marker": {
            "color": "red",
            "size": 10
           },
           "mode": "markers",
           "type": "scatter",
           "x": [
            1.6476468138275715
           ],
           "y": [
            0.10745522698875476
           ]
          }
         ]
        },
        {
         "data": [
          {
           "marker": {
            "color": "red",
            "size": 10
           },
           "mode": "markers",
           "type": "scatter",
           "x": [
            1.7617659308621405
           ],
           "y": [
            0.07496876301541033
           ]
          }
         ]
        },
        {
         "data": [
          {
           "marker": {
            "color": "red",
            "size": 10
           },
           "mode": "markers",
           "type": "scatter",
           "x": [
            1.8792169929196167
           ],
           "y": [
            0.03915035401915867
           ]
          }
         ]
        },
        {
         "data": [
          {
           "marker": {
            "color": "red",
            "size": 10
           },
           "mode": "markers",
           "type": "scatter",
           "x": [
            2
           ],
           "y": [
            0
           ]
          }
         ]
        }
       ],
       "layout": {
        "hovermode": "closest",
        "title": "Kinematic Generation of a Planar Curve",
        "updatemenus": [
         {
          "buttons": [
           {
            "args": [
             null
            ],
            "label": "Play",
            "method": "animate"
           }
          ],
          "type": "buttons"
         }
        ],
        "xaxis": {
         "autorange": false,
         "range": [
          -1.7499744923987348,
          3.5
         ],
         "zeroline": false
        },
        "yaxis": {
         "autorange": false,
         "range": [
          -3.5,
          1.7499744923987348
         ],
         "zeroline": false
        }
       }
      },
      "text/html": [
       "<div id=\"6eb2711f-d0f1-43d7-a39a-e511fc6f9c56\" style=\"height: 525px; width: 100%;\" class=\"plotly-graph-div\"></div><script type=\"text/javascript\">require([\"plotly\"], function(Plotly) { window.PLOTLYENV=window.PLOTLYENV || {};window.PLOTLYENV.BASE_URL=\"https://plot.ly\";\n",
       "        Plotly.plot(\n",
       "            '6eb2711f-d0f1-43d7-a39a-e511fc6f9c56',\n",
       "            [{\"line\": {\"color\": \"blue\", \"width\": 2}, \"mode\": \"lines\", \"x\": [0.0, -0.01979389858177738, -0.03877155392306908, -0.0569329660238751, -0.07427813488419543, -0.0908070605040302, -0.10651974288337929, -0.12141618202224269, -0.13549637792062041, -0.14876033057851246, -0.16120803999591882, -0.1728395061728395, -0.1836547291092746, -0.19365370880522392, -0.20283644526068767, -0.21120293847566574, -0.21875318845015818, -0.22548719518416488, -0.23140495867768596, -0.23650647893072135, -0.24079175594327112, -0.24426078971533516, -0.24691358024691357, -0.24875012753800635, -0.2497704315886134, -0.24997449239873482, -0.24936230996837058, -0.24793388429752067, -0.24568921538618507, -0.24262830323436385, -0.23875114784205692, -0.23405774920926437, -0.22854810733598613, -0.2222222222222222, -0.2150800938679726, -0.20712172227323739, -0.19834710743801653, -0.18875624936230995, -0.1783491480461177, -0.1671258034894398, -0.15508621569227624, -0.142230384654627, -0.12855831037649218, -0.11406999285787162, -0.09876543209876538, -0.08264462809917349, -0.06570758085909592, -0.047954290378532695, -0.029384756657483906, -0.009998979695949348, 0.010203040506070876, 0.031221303948576883, 0.05305581063156832, 0.07570656055504542, 0.09917355371900843, 0.12345679012345685, 0.1485562697683912, 0.17447199265381094, 0.20120395877971636, 0.22875216814610771, 0.2571166207529844, 0.28629731660034713, 0.3162942556881952, 0.3471074380165292, 0.37873686358534864, 0.41118253239465363, 0.4444444444444447, 0.47852259973472105, 0.5134169982654835, 0.5491276400367311, 0.5856545250484648, 0.6229976533006838, 0.6611570247933884, 0.7001326395265792, 0.7399244975002552, 0.7805325987144174, 0.8219569431690646, 0.8641975308641976, 0.9072543617998167, 0.951127435975921, 0.9958167533925114, 1.041322314049587, 1.0876441179471488, 1.1347821650851957, 1.1827364554637283, 1.2315069890827472, 1.281093765942251, 1.331496786042241, 1.3827160493827164, 1.4347515559636779, 1.4876033057851243, 1.5412712988470565, 1.595755535149475, 1.6510560146923785, 1.7071727374757684, 1.7641057034996432, 1.8218549127640038, 1.8804203652688507, 1.9398020610141824, 2.0], \"y\": [-2.0, -1.9398020610141822, -1.88042036526885, -1.8218549127640038, -1.764105703499643, -1.707172737475768, -1.6510560146923783, -1.5957555351494745, -1.5412712988470563, -1.487603305785124, -1.4347515559636772, -1.382716049382716, -1.3314967860422406, -1.2810937659422508, -1.2315069890827466, -1.1827364554637283, -1.1347821650851952, -1.0876441179471483, -1.0413223140495869, -0.9958167533925109, -0.9511274359759208, -0.9072543617998162, -0.8641975308641976, -0.8219569431690641, -0.7805325987144169, -0.739924497500255, -0.7001326395265788, -0.6611570247933882, -0.6229976533006835, -0.5856545250484644, -0.5491276400367309, -0.513416998265483, -0.47852259973472083, -0.4444444444444443, -0.41118253239465347, -0.37873686358534825, -0.3471074380165289, -0.316294255688195, -0.2862973166003468, -0.25711662075298425, -0.2287521681461074, -0.2012039587797162, -0.1744719926538108, -0.14855626976839093, -0.12345679012345671, -0.09917355371900817, -0.0757065605550453, -0.05305581063156808, -0.031221303948576647, -0.010203040506070762, 0.009998979695949456, 0.029384756657484114, 0.047954290378532896, 0.06570758085909602, 0.08264462809917367, 0.09876543209876547, 0.11406999285787178, 0.12855831037649226, 0.14223038465462706, 0.15508621569227637, 0.16712580348943987, 0.17834914804611784, 0.18875624936231, 0.19834710743801662, 0.20712172227323747, 0.21508009386797267, 0.22222222222222227, 0.22854810733598613, 0.23405774920926442, 0.23875114784205695, 0.24262830323436388, 0.2456892153861851, 0.24793388429752067, 0.24936230996837058, 0.24997449239873482, 0.2497704315886134, 0.2487501275380063, 0.24691358024691357, 0.24426078971533516, 0.24079175594327107, 0.2365064789307213, 0.2314049586776859, 0.22548719518416482, 0.21875318845015812, 0.21120293847566574, 0.20283644526068756, 0.19365370880522392, 0.1836547291092745, 0.17283950617283939, 0.1612080399959186, 0.14876033057851235, 0.1354963779206203, 0.12141618202224247, 0.10651974288337918, 0.09080706050402998, 0.07427813488419532, 0.0569329660238751, 0.03877155392306886, 0.01979389858177727, 0.0], \"type\": \"scatter\", \"uid\": \"bafb2562-510c-11e9-bc88-5cf37071266d\"}, {\"line\": {\"color\": \"blue\", \"width\": 2}, \"mode\": \"lines\", \"x\": [0.0, -0.01979389858177738, -0.03877155392306908, -0.0569329660238751, -0.07427813488419543, -0.0908070605040302, -0.10651974288337929, -0.12141618202224269, -0.13549637792062041, -0.14876033057851246, -0.16120803999591882, -0.1728395061728395, -0.1836547291092746, -0.19365370880522392, -0.20283644526068767, -0.21120293847566574, -0.21875318845015818, -0.22548719518416488, -0.23140495867768596, -0.23650647893072135, -0.24079175594327112, -0.24426078971533516, -0.24691358024691357, -0.24875012753800635, -0.2497704315886134, -0.24997449239873482, -0.24936230996837058, -0.24793388429752067, -0.24568921538618507, -0.24262830323436385, -0.23875114784205692, -0.23405774920926437, -0.22854810733598613, -0.2222222222222222, -0.2150800938679726, -0.20712172227323739, -0.19834710743801653, -0.18875624936230995, -0.1783491480461177, -0.1671258034894398, -0.15508621569227624, -0.142230384654627, -0.12855831037649218, -0.11406999285787162, -0.09876543209876538, -0.08264462809917349, -0.06570758085909592, -0.047954290378532695, -0.029384756657483906, -0.009998979695949348, 0.010203040506070876, 0.031221303948576883, 0.05305581063156832, 0.07570656055504542, 0.09917355371900843, 0.12345679012345685, 0.1485562697683912, 0.17447199265381094, 0.20120395877971636, 0.22875216814610771, 0.2571166207529844, 0.28629731660034713, 0.3162942556881952, 0.3471074380165292, 0.37873686358534864, 0.41118253239465363, 0.4444444444444447, 0.47852259973472105, 0.5134169982654835, 0.5491276400367311, 0.5856545250484648, 0.6229976533006838, 0.6611570247933884, 0.7001326395265792, 0.7399244975002552, 0.7805325987144174, 0.8219569431690646, 0.8641975308641976, 0.9072543617998167, 0.951127435975921, 0.9958167533925114, 1.041322314049587, 1.0876441179471488, 1.1347821650851957, 1.1827364554637283, 1.2315069890827472, 1.281093765942251, 1.331496786042241, 1.3827160493827164, 1.4347515559636779, 1.4876033057851243, 1.5412712988470565, 1.595755535149475, 1.6510560146923785, 1.7071727374757684, 1.7641057034996432, 1.8218549127640038, 1.8804203652688507, 1.9398020610141824, 2.0], \"y\": [-2.0, -1.9398020610141822, -1.88042036526885, -1.8218549127640038, -1.764105703499643, -1.707172737475768, -1.6510560146923783, -1.5957555351494745, -1.5412712988470563, -1.487603305785124, -1.4347515559636772, -1.382716049382716, -1.3314967860422406, -1.2810937659422508, -1.2315069890827466, -1.1827364554637283, -1.1347821650851952, -1.0876441179471483, -1.0413223140495869, -0.9958167533925109, -0.9511274359759208, -0.9072543617998162, -0.8641975308641976, -0.8219569431690641, -0.7805325987144169, -0.739924497500255, -0.7001326395265788, -0.6611570247933882, -0.6229976533006835, -0.5856545250484644, -0.5491276400367309, -0.513416998265483, -0.47852259973472083, -0.4444444444444443, -0.41118253239465347, -0.37873686358534825, -0.3471074380165289, -0.316294255688195, -0.2862973166003468, -0.25711662075298425, -0.2287521681461074, -0.2012039587797162, -0.1744719926538108, -0.14855626976839093, -0.12345679012345671, -0.09917355371900817, -0.0757065605550453, -0.05305581063156808, -0.031221303948576647, -0.010203040506070762, 0.009998979695949456, 0.029384756657484114, 0.047954290378532896, 0.06570758085909602, 0.08264462809917367, 0.09876543209876547, 0.11406999285787178, 0.12855831037649226, 0.14223038465462706, 0.15508621569227637, 0.16712580348943987, 0.17834914804611784, 0.18875624936231, 0.19834710743801662, 0.20712172227323747, 0.21508009386797267, 0.22222222222222227, 0.22854810733598613, 0.23405774920926442, 0.23875114784205695, 0.24262830323436388, 0.2456892153861851, 0.24793388429752067, 0.24936230996837058, 0.24997449239873482, 0.2497704315886134, 0.2487501275380063, 0.24691358024691357, 0.24426078971533516, 0.24079175594327107, 0.2365064789307213, 0.2314049586776859, 0.22548719518416482, 0.21875318845015812, 0.21120293847566574, 0.20283644526068756, 0.19365370880522392, 0.1836547291092745, 0.17283950617283939, 0.1612080399959186, 0.14876033057851235, 0.1354963779206203, 0.12141618202224247, 0.10651974288337918, 0.09080706050402998, 0.07427813488419532, 0.0569329660238751, 0.03877155392306886, 0.01979389858177727, 0.0], \"type\": \"scatter\", \"uid\": \"bafb4c6c-510c-11e9-9dda-5cf37071266d\"}],\n",
       "            {\"hovermode\": \"closest\", \"title\": \"Kinematic Generation of a Planar Curve\", \"updatemenus\": [{\"buttons\": [{\"args\": [null], \"label\": \"Play\", \"method\": \"animate\"}], \"type\": \"buttons\"}], \"xaxis\": {\"autorange\": false, \"range\": [-1.7499744923987348, 3.5], \"zeroline\": false}, \"yaxis\": {\"autorange\": false, \"range\": [-3.5, 1.7499744923987348], \"zeroline\": false}},\n",
       "            {\"showLink\": true, \"linkText\": \"Export to plot.ly\"}\n",
       "        ).then(function () {return Plotly.addFrames('6eb2711f-d0f1-43d7-a39a-e511fc6f9c56',[{\"data\": [{\"marker\": {\"color\": \"red\", \"size\": 10}, \"mode\": \"markers\", \"x\": [0.0], \"y\": [-2.0], \"type\": \"scatter\"}]}, {\"data\": [{\"marker\": {\"color\": \"red\", \"size\": 10}, \"mode\": \"markers\", \"x\": [-0.03915035401915867], \"y\": [-1.8792169929196167], \"type\": \"scatter\"}]}, {\"data\": [{\"marker\": {\"color\": \"red\", \"size\": 10}, \"mode\": \"markers\", \"x\": [-0.07496876301541022], \"y\": [-1.7617659308621407], \"type\": \"scatter\"}]}, {\"data\": [{\"marker\": {\"color\": \"red\", \"size\": 10}, \"mode\": \"markers\", \"x\": [-0.10745522698875476], \"y\": [-1.6476468138275717], \"type\": \"scatter\"}]}, {\"data\": [{\"marker\": {\"color\": \"red\", \"size\": 10}, \"mode\": \"markers\", \"x\": [-0.13660974593919195], \"y\": [-1.5368596418159102], \"type\": \"scatter\"}]}, {\"data\": [{\"marker\": {\"color\": \"red\", \"size\": 10}, \"mode\": \"markers\", \"x\": [-0.16243231986672224], \"y\": [-1.4294044148271552], \"type\": \"scatter\"}]}, {\"data\": [{\"marker\": {\"color\": \"red\", \"size\": 10}, \"mode\": \"markers\", \"x\": [-0.1849229487713453], \"y\": [-1.3252811328613077], \"type\": \"scatter\"}]}, {\"data\": [{\"marker\": {\"color\": \"red\", \"size\": 10}, \"mode\": \"markers\", \"x\": [-0.20408163265306123], \"y\": [-1.2244897959183674], \"type\": \"scatter\"}]}, {\"data\": [{\"marker\": {\"color\": \"red\", \"size\": 10}, \"mode\": \"markers\", \"x\": [-0.21990837151187004], \"y\": [-1.1270304039983343], \"type\": \"scatter\"}]}, {\"data\": [{\"marker\": {\"color\": \"red\", \"size\": 10}, \"mode\": \"markers\", \"x\": [-0.23240316534777178], \"y\": [-1.0329029571012078], \"type\": \"scatter\"}]}, {\"data\": [{\"marker\": {\"color\": \"red\", \"size\": 10}, \"mode\": \"markers\", \"x\": [-0.24156601416076634], \"y\": [-0.9421074552269888], \"type\": \"scatter\"}]}, {\"data\": [{\"marker\": {\"color\": \"red\", \"size\": 10}, \"mode\": \"markers\", \"x\": [-0.24739691795085378], \"y\": [-0.854643898375677], \"type\": \"scatter\"}]}, {\"data\": [{\"marker\": {\"color\": \"red\", \"size\": 10}, \"mode\": \"markers\", \"x\": [-0.24989587671803415], \"y\": [-0.770512286547272], \"type\": \"scatter\"}]}, {\"data\": [{\"marker\": {\"color\": \"red\", \"size\": 10}, \"mode\": \"markers\", \"x\": [-0.24906289046230737], \"y\": [-0.6897126197417744], \"type\": \"scatter\"}]}, {\"data\": [{\"marker\": {\"color\": \"red\", \"size\": 10}, \"mode\": \"markers\", \"x\": [-0.24489795918367346], \"y\": [-0.6122448979591837], \"type\": \"scatter\"}]}, {\"data\": [{\"marker\": {\"color\": \"red\", \"size\": 10}, \"mode\": \"markers\", \"x\": [-0.23740108288213246], \"y\": [-0.5381091211995004], \"type\": \"scatter\"}]}, {\"data\": [{\"marker\": {\"color\": \"red\", \"size\": 10}, \"mode\": \"markers\", \"x\": [-0.2265722615576843], \"y\": [-0.467305289462724], \"type\": \"scatter\"}]}, {\"data\": [{\"marker\": {\"color\": \"red\", \"size\": 10}, \"mode\": \"markers\", \"x\": [-0.21241149521032904], \"y\": [-0.39983340274885465], \"type\": \"scatter\"}]}, {\"data\": [{\"marker\": {\"color\": \"red\", \"size\": 10}, \"mode\": \"markers\", \"x\": [-0.19491878384006667], \"y\": [-0.33569346105789266], \"type\": \"scatter\"}]}, {\"data\": [{\"marker\": {\"color\": \"red\", \"size\": 10}, \"mode\": \"markers\", \"x\": [-0.17409412744689715], \"y\": [-0.27488546438983763], \"type\": \"scatter\"}]}, {\"data\": [{\"marker\": {\"color\": \"red\", \"size\": 10}, \"mode\": \"markers\", \"x\": [-0.14993752603082056], \"y\": [-0.21740941274468983], \"type\": \"scatter\"}]}, {\"data\": [{\"marker\": {\"color\": \"red\", \"size\": 10}, \"mode\": \"markers\", \"x\": [-0.12244897959183677], \"y\": [-0.16326530612244905], \"type\": \"scatter\"}]}, {\"data\": [{\"marker\": {\"color\": \"red\", \"size\": 10}, \"mode\": \"markers\", \"x\": [-0.09162848812994595], \"y\": [-0.1124531445231155], \"type\": \"scatter\"}]}, {\"data\": [{\"marker\": {\"color\": \"red\", \"size\": 10}, \"mode\": \"markers\", \"x\": [-0.057476051645147914], \"y\": [-0.06497292794668895], \"type\": \"scatter\"}]}, {\"data\": [{\"marker\": {\"color\": \"red\", \"size\": 10}, \"mode\": \"markers\", \"x\": [-0.019991670137442755], \"y\": [-0.020824656393169536], \"type\": \"scatter\"}]}, {\"data\": [{\"marker\": {\"color\": \"red\", \"size\": 10}, \"mode\": \"markers\", \"x\": [0.020824656393169536], \"y\": [0.019991670137442755], \"type\": \"scatter\"}]}, {\"data\": [{\"marker\": {\"color\": \"red\", \"size\": 10}, \"mode\": \"markers\", \"x\": [0.06497292794668871], \"y\": [0.05747605164514772], \"type\": \"scatter\"}]}, {\"data\": [{\"marker\": {\"color\": \"red\", \"size\": 10}, \"mode\": \"markers\", \"x\": [0.11245314452311524], \"y\": [0.09162848812994577], \"type\": \"scatter\"}]}, {\"data\": [{\"marker\": {\"color\": \"red\", \"size\": 10}, \"mode\": \"markers\", \"x\": [0.16326530612244888], \"y\": [0.12244897959183669], \"type\": \"scatter\"}]}, {\"data\": [{\"marker\": {\"color\": \"red\", \"size\": 10}, \"mode\": \"markers\", \"x\": [0.2174094127446897], \"y\": [0.14993752603082047], \"type\": \"scatter\"}]}, {\"data\": [{\"marker\": {\"color\": \"red\", \"size\": 10}, \"mode\": \"markers\", \"x\": [0.2748854643898373], \"y\": [0.174094127446897], \"type\": \"scatter\"}]}, {\"data\": [{\"marker\": {\"color\": \"red\", \"size\": 10}, \"mode\": \"markers\", \"x\": [0.33569346105789233], \"y\": [0.19491878384006656], \"type\": \"scatter\"}]}, {\"data\": [{\"marker\": {\"color\": \"red\", \"size\": 10}, \"mode\": \"markers\", \"x\": [0.3998334027488545], \"y\": [0.21241149521032898], \"type\": \"scatter\"}]}, {\"data\": [{\"marker\": {\"color\": \"red\", \"size\": 10}, \"mode\": \"markers\", \"x\": [0.46730528946272376], \"y\": [0.22657226155768428], \"type\": \"scatter\"}]}, {\"data\": [{\"marker\": {\"color\": \"red\", \"size\": 10}, \"mode\": \"markers\", \"x\": [0.5381091211995002], \"y\": [0.23740108288213244], \"type\": \"scatter\"}]}, {\"data\": [{\"marker\": {\"color\": \"red\", \"size\": 10}, \"mode\": \"markers\", \"x\": [0.6122448979591834], \"y\": [0.24489795918367344], \"type\": \"scatter\"}]}, {\"data\": [{\"marker\": {\"color\": \"red\", \"size\": 10}, \"mode\": \"markers\", \"x\": [0.689712619741774], \"y\": [0.24906289046230737], \"type\": \"scatter\"}]}, {\"data\": [{\"marker\": {\"color\": \"red\", \"size\": 10}, \"mode\": \"markers\", \"x\": [0.7705122865472718], \"y\": [0.24989587671803415], \"type\": \"scatter\"}]}, {\"data\": [{\"marker\": {\"color\": \"red\", \"size\": 10}, \"mode\": \"markers\", \"x\": [0.8546438983756767], \"y\": [0.24739691795085383], \"type\": \"scatter\"}]}, {\"data\": [{\"marker\": {\"color\": \"red\", \"size\": 10}, \"mode\": \"markers\", \"x\": [0.9421074552269882], \"y\": [0.2415660141607664], \"type\": \"scatter\"}]}, {\"data\": [{\"marker\": {\"color\": \"red\", \"size\": 10}, \"mode\": \"markers\", \"x\": [1.0329029571012074], \"y\": [0.23240316534777183], \"type\": \"scatter\"}]}, {\"data\": [{\"marker\": {\"color\": \"red\", \"size\": 10}, \"mode\": \"markers\", \"x\": [1.1270304039983337], \"y\": [0.2199083715118701], \"type\": \"scatter\"}]}, {\"data\": [{\"marker\": {\"color\": \"red\", \"size\": 10}, \"mode\": \"markers\", \"x\": [1.2244897959183672], \"y\": [0.20408163265306123], \"type\": \"scatter\"}]}, {\"data\": [{\"marker\": {\"color\": \"red\", \"size\": 10}, \"mode\": \"markers\", \"x\": [1.3252811328613077], \"y\": [0.1849229487713453], \"type\": \"scatter\"}]}, {\"data\": [{\"marker\": {\"color\": \"red\", \"size\": 10}, \"mode\": \"markers\", \"x\": [1.4294044148271547], \"y\": [0.16243231986672235], \"type\": \"scatter\"}]}, {\"data\": [{\"marker\": {\"color\": \"red\", \"size\": 10}, \"mode\": \"markers\", \"x\": [1.5368596418159095], \"y\": [0.13660974593919217], \"type\": \"scatter\"}]}, {\"data\": [{\"marker\": {\"color\": \"red\", \"size\": 10}, \"mode\": \"markers\", \"x\": [1.6476468138275715], \"y\": [0.10745522698875476], \"type\": \"scatter\"}]}, {\"data\": [{\"marker\": {\"color\": \"red\", \"size\": 10}, \"mode\": \"markers\", \"x\": [1.7617659308621405], \"y\": [0.07496876301541033], \"type\": \"scatter\"}]}, {\"data\": [{\"marker\": {\"color\": \"red\", \"size\": 10}, \"mode\": \"markers\", \"x\": [1.8792169929196167], \"y\": [0.03915035401915867], \"type\": \"scatter\"}]}, {\"data\": [{\"marker\": {\"color\": \"red\", \"size\": 10}, \"mode\": \"markers\", \"x\": [2.0], \"y\": [0.0], \"type\": \"scatter\"}]}]);}).then(function(){Plotly.animate('6eb2711f-d0f1-43d7-a39a-e511fc6f9c56');})\n",
       "        });</script>"
      ],
      "text/vnd.plotly.v1+html": [
       "<div id=\"6eb2711f-d0f1-43d7-a39a-e511fc6f9c56\" style=\"height: 525px; width: 100%;\" class=\"plotly-graph-div\"></div><script type=\"text/javascript\">require([\"plotly\"], function(Plotly) { window.PLOTLYENV=window.PLOTLYENV || {};window.PLOTLYENV.BASE_URL=\"https://plot.ly\";\n",
       "        Plotly.plot(\n",
       "            '6eb2711f-d0f1-43d7-a39a-e511fc6f9c56',\n",
       "            [{\"line\": {\"color\": \"blue\", \"width\": 2}, \"mode\": \"lines\", \"x\": [0.0, -0.01979389858177738, -0.03877155392306908, -0.0569329660238751, -0.07427813488419543, -0.0908070605040302, -0.10651974288337929, -0.12141618202224269, -0.13549637792062041, -0.14876033057851246, -0.16120803999591882, -0.1728395061728395, -0.1836547291092746, -0.19365370880522392, -0.20283644526068767, -0.21120293847566574, -0.21875318845015818, -0.22548719518416488, -0.23140495867768596, -0.23650647893072135, -0.24079175594327112, -0.24426078971533516, -0.24691358024691357, -0.24875012753800635, -0.2497704315886134, -0.24997449239873482, -0.24936230996837058, -0.24793388429752067, -0.24568921538618507, -0.24262830323436385, -0.23875114784205692, -0.23405774920926437, -0.22854810733598613, -0.2222222222222222, -0.2150800938679726, -0.20712172227323739, -0.19834710743801653, -0.18875624936230995, -0.1783491480461177, -0.1671258034894398, -0.15508621569227624, -0.142230384654627, -0.12855831037649218, -0.11406999285787162, -0.09876543209876538, -0.08264462809917349, -0.06570758085909592, -0.047954290378532695, -0.029384756657483906, -0.009998979695949348, 0.010203040506070876, 0.031221303948576883, 0.05305581063156832, 0.07570656055504542, 0.09917355371900843, 0.12345679012345685, 0.1485562697683912, 0.17447199265381094, 0.20120395877971636, 0.22875216814610771, 0.2571166207529844, 0.28629731660034713, 0.3162942556881952, 0.3471074380165292, 0.37873686358534864, 0.41118253239465363, 0.4444444444444447, 0.47852259973472105, 0.5134169982654835, 0.5491276400367311, 0.5856545250484648, 0.6229976533006838, 0.6611570247933884, 0.7001326395265792, 0.7399244975002552, 0.7805325987144174, 0.8219569431690646, 0.8641975308641976, 0.9072543617998167, 0.951127435975921, 0.9958167533925114, 1.041322314049587, 1.0876441179471488, 1.1347821650851957, 1.1827364554637283, 1.2315069890827472, 1.281093765942251, 1.331496786042241, 1.3827160493827164, 1.4347515559636779, 1.4876033057851243, 1.5412712988470565, 1.595755535149475, 1.6510560146923785, 1.7071727374757684, 1.7641057034996432, 1.8218549127640038, 1.8804203652688507, 1.9398020610141824, 2.0], \"y\": [-2.0, -1.9398020610141822, -1.88042036526885, -1.8218549127640038, -1.764105703499643, -1.707172737475768, -1.6510560146923783, -1.5957555351494745, -1.5412712988470563, -1.487603305785124, -1.4347515559636772, -1.382716049382716, -1.3314967860422406, -1.2810937659422508, -1.2315069890827466, -1.1827364554637283, -1.1347821650851952, -1.0876441179471483, -1.0413223140495869, -0.9958167533925109, -0.9511274359759208, -0.9072543617998162, -0.8641975308641976, -0.8219569431690641, -0.7805325987144169, -0.739924497500255, -0.7001326395265788, -0.6611570247933882, -0.6229976533006835, -0.5856545250484644, -0.5491276400367309, -0.513416998265483, -0.47852259973472083, -0.4444444444444443, -0.41118253239465347, -0.37873686358534825, -0.3471074380165289, -0.316294255688195, -0.2862973166003468, -0.25711662075298425, -0.2287521681461074, -0.2012039587797162, -0.1744719926538108, -0.14855626976839093, -0.12345679012345671, -0.09917355371900817, -0.0757065605550453, -0.05305581063156808, -0.031221303948576647, -0.010203040506070762, 0.009998979695949456, 0.029384756657484114, 0.047954290378532896, 0.06570758085909602, 0.08264462809917367, 0.09876543209876547, 0.11406999285787178, 0.12855831037649226, 0.14223038465462706, 0.15508621569227637, 0.16712580348943987, 0.17834914804611784, 0.18875624936231, 0.19834710743801662, 0.20712172227323747, 0.21508009386797267, 0.22222222222222227, 0.22854810733598613, 0.23405774920926442, 0.23875114784205695, 0.24262830323436388, 0.2456892153861851, 0.24793388429752067, 0.24936230996837058, 0.24997449239873482, 0.2497704315886134, 0.2487501275380063, 0.24691358024691357, 0.24426078971533516, 0.24079175594327107, 0.2365064789307213, 0.2314049586776859, 0.22548719518416482, 0.21875318845015812, 0.21120293847566574, 0.20283644526068756, 0.19365370880522392, 0.1836547291092745, 0.17283950617283939, 0.1612080399959186, 0.14876033057851235, 0.1354963779206203, 0.12141618202224247, 0.10651974288337918, 0.09080706050402998, 0.07427813488419532, 0.0569329660238751, 0.03877155392306886, 0.01979389858177727, 0.0], \"type\": \"scatter\", \"uid\": \"bafb2562-510c-11e9-bc88-5cf37071266d\"}, {\"line\": {\"color\": \"blue\", \"width\": 2}, \"mode\": \"lines\", \"x\": [0.0, -0.01979389858177738, -0.03877155392306908, -0.0569329660238751, -0.07427813488419543, -0.0908070605040302, -0.10651974288337929, -0.12141618202224269, -0.13549637792062041, -0.14876033057851246, -0.16120803999591882, -0.1728395061728395, -0.1836547291092746, -0.19365370880522392, -0.20283644526068767, -0.21120293847566574, -0.21875318845015818, -0.22548719518416488, -0.23140495867768596, -0.23650647893072135, -0.24079175594327112, -0.24426078971533516, -0.24691358024691357, -0.24875012753800635, -0.2497704315886134, -0.24997449239873482, -0.24936230996837058, -0.24793388429752067, -0.24568921538618507, -0.24262830323436385, -0.23875114784205692, -0.23405774920926437, -0.22854810733598613, -0.2222222222222222, -0.2150800938679726, -0.20712172227323739, -0.19834710743801653, -0.18875624936230995, -0.1783491480461177, -0.1671258034894398, -0.15508621569227624, -0.142230384654627, -0.12855831037649218, -0.11406999285787162, -0.09876543209876538, -0.08264462809917349, -0.06570758085909592, -0.047954290378532695, -0.029384756657483906, -0.009998979695949348, 0.010203040506070876, 0.031221303948576883, 0.05305581063156832, 0.07570656055504542, 0.09917355371900843, 0.12345679012345685, 0.1485562697683912, 0.17447199265381094, 0.20120395877971636, 0.22875216814610771, 0.2571166207529844, 0.28629731660034713, 0.3162942556881952, 0.3471074380165292, 0.37873686358534864, 0.41118253239465363, 0.4444444444444447, 0.47852259973472105, 0.5134169982654835, 0.5491276400367311, 0.5856545250484648, 0.6229976533006838, 0.6611570247933884, 0.7001326395265792, 0.7399244975002552, 0.7805325987144174, 0.8219569431690646, 0.8641975308641976, 0.9072543617998167, 0.951127435975921, 0.9958167533925114, 1.041322314049587, 1.0876441179471488, 1.1347821650851957, 1.1827364554637283, 1.2315069890827472, 1.281093765942251, 1.331496786042241, 1.3827160493827164, 1.4347515559636779, 1.4876033057851243, 1.5412712988470565, 1.595755535149475, 1.6510560146923785, 1.7071727374757684, 1.7641057034996432, 1.8218549127640038, 1.8804203652688507, 1.9398020610141824, 2.0], \"y\": [-2.0, -1.9398020610141822, -1.88042036526885, -1.8218549127640038, -1.764105703499643, -1.707172737475768, -1.6510560146923783, -1.5957555351494745, -1.5412712988470563, -1.487603305785124, -1.4347515559636772, -1.382716049382716, -1.3314967860422406, -1.2810937659422508, -1.2315069890827466, -1.1827364554637283, -1.1347821650851952, -1.0876441179471483, -1.0413223140495869, -0.9958167533925109, -0.9511274359759208, -0.9072543617998162, -0.8641975308641976, -0.8219569431690641, -0.7805325987144169, -0.739924497500255, -0.7001326395265788, -0.6611570247933882, -0.6229976533006835, -0.5856545250484644, -0.5491276400367309, -0.513416998265483, -0.47852259973472083, -0.4444444444444443, -0.41118253239465347, -0.37873686358534825, -0.3471074380165289, -0.316294255688195, -0.2862973166003468, -0.25711662075298425, -0.2287521681461074, -0.2012039587797162, -0.1744719926538108, -0.14855626976839093, -0.12345679012345671, -0.09917355371900817, -0.0757065605550453, -0.05305581063156808, -0.031221303948576647, -0.010203040506070762, 0.009998979695949456, 0.029384756657484114, 0.047954290378532896, 0.06570758085909602, 0.08264462809917367, 0.09876543209876547, 0.11406999285787178, 0.12855831037649226, 0.14223038465462706, 0.15508621569227637, 0.16712580348943987, 0.17834914804611784, 0.18875624936231, 0.19834710743801662, 0.20712172227323747, 0.21508009386797267, 0.22222222222222227, 0.22854810733598613, 0.23405774920926442, 0.23875114784205695, 0.24262830323436388, 0.2456892153861851, 0.24793388429752067, 0.24936230996837058, 0.24997449239873482, 0.2497704315886134, 0.2487501275380063, 0.24691358024691357, 0.24426078971533516, 0.24079175594327107, 0.2365064789307213, 0.2314049586776859, 0.22548719518416482, 0.21875318845015812, 0.21120293847566574, 0.20283644526068756, 0.19365370880522392, 0.1836547291092745, 0.17283950617283939, 0.1612080399959186, 0.14876033057851235, 0.1354963779206203, 0.12141618202224247, 0.10651974288337918, 0.09080706050402998, 0.07427813488419532, 0.0569329660238751, 0.03877155392306886, 0.01979389858177727, 0.0], \"type\": \"scatter\", \"uid\": \"bafb4c6c-510c-11e9-9dda-5cf37071266d\"}],\n",
       "            {\"hovermode\": \"closest\", \"title\": \"Kinematic Generation of a Planar Curve\", \"updatemenus\": [{\"buttons\": [{\"args\": [null], \"label\": \"Play\", \"method\": \"animate\"}], \"type\": \"buttons\"}], \"xaxis\": {\"autorange\": false, \"range\": [-1.7499744923987348, 3.5], \"zeroline\": false}, \"yaxis\": {\"autorange\": false, \"range\": [-3.5, 1.7499744923987348], \"zeroline\": false}},\n",
       "            {\"showLink\": true, \"linkText\": \"Export to plot.ly\"}\n",
       "        ).then(function () {return Plotly.addFrames('6eb2711f-d0f1-43d7-a39a-e511fc6f9c56',[{\"data\": [{\"marker\": {\"color\": \"red\", \"size\": 10}, \"mode\": \"markers\", \"x\": [0.0], \"y\": [-2.0], \"type\": \"scatter\"}]}, {\"data\": [{\"marker\": {\"color\": \"red\", \"size\": 10}, \"mode\": \"markers\", \"x\": [-0.03915035401915867], \"y\": [-1.8792169929196167], \"type\": \"scatter\"}]}, {\"data\": [{\"marker\": {\"color\": \"red\", \"size\": 10}, \"mode\": \"markers\", \"x\": [-0.07496876301541022], \"y\": [-1.7617659308621407], \"type\": \"scatter\"}]}, {\"data\": [{\"marker\": {\"color\": \"red\", \"size\": 10}, \"mode\": \"markers\", \"x\": [-0.10745522698875476], \"y\": [-1.6476468138275717], \"type\": \"scatter\"}]}, {\"data\": [{\"marker\": {\"color\": \"red\", \"size\": 10}, \"mode\": \"markers\", \"x\": [-0.13660974593919195], \"y\": [-1.5368596418159102], \"type\": \"scatter\"}]}, {\"data\": [{\"marker\": {\"color\": \"red\", \"size\": 10}, \"mode\": \"markers\", \"x\": [-0.16243231986672224], \"y\": [-1.4294044148271552], \"type\": \"scatter\"}]}, {\"data\": [{\"marker\": {\"color\": \"red\", \"size\": 10}, \"mode\": \"markers\", \"x\": [-0.1849229487713453], \"y\": [-1.3252811328613077], \"type\": \"scatter\"}]}, {\"data\": [{\"marker\": {\"color\": \"red\", \"size\": 10}, \"mode\": \"markers\", \"x\": [-0.20408163265306123], \"y\": [-1.2244897959183674], \"type\": \"scatter\"}]}, {\"data\": [{\"marker\": {\"color\": \"red\", \"size\": 10}, \"mode\": \"markers\", \"x\": [-0.21990837151187004], \"y\": [-1.1270304039983343], \"type\": \"scatter\"}]}, {\"data\": [{\"marker\": {\"color\": \"red\", \"size\": 10}, \"mode\": \"markers\", \"x\": [-0.23240316534777178], \"y\": [-1.0329029571012078], \"type\": \"scatter\"}]}, {\"data\": [{\"marker\": {\"color\": \"red\", \"size\": 10}, \"mode\": \"markers\", \"x\": [-0.24156601416076634], \"y\": [-0.9421074552269888], \"type\": \"scatter\"}]}, {\"data\": [{\"marker\": {\"color\": \"red\", \"size\": 10}, \"mode\": \"markers\", \"x\": [-0.24739691795085378], \"y\": [-0.854643898375677], \"type\": \"scatter\"}]}, {\"data\": [{\"marker\": {\"color\": \"red\", \"size\": 10}, \"mode\": \"markers\", \"x\": [-0.24989587671803415], \"y\": [-0.770512286547272], \"type\": \"scatter\"}]}, {\"data\": [{\"marker\": {\"color\": \"red\", \"size\": 10}, \"mode\": \"markers\", \"x\": [-0.24906289046230737], \"y\": [-0.6897126197417744], \"type\": \"scatter\"}]}, {\"data\": [{\"marker\": {\"color\": \"red\", \"size\": 10}, \"mode\": \"markers\", \"x\": [-0.24489795918367346], \"y\": [-0.6122448979591837], \"type\": \"scatter\"}]}, {\"data\": [{\"marker\": {\"color\": \"red\", \"size\": 10}, \"mode\": \"markers\", \"x\": [-0.23740108288213246], \"y\": [-0.5381091211995004], \"type\": \"scatter\"}]}, {\"data\": [{\"marker\": {\"color\": \"red\", \"size\": 10}, \"mode\": \"markers\", \"x\": [-0.2265722615576843], \"y\": [-0.467305289462724], \"type\": \"scatter\"}]}, {\"data\": [{\"marker\": {\"color\": \"red\", \"size\": 10}, \"mode\": \"markers\", \"x\": [-0.21241149521032904], \"y\": [-0.39983340274885465], \"type\": \"scatter\"}]}, {\"data\": [{\"marker\": {\"color\": \"red\", \"size\": 10}, \"mode\": \"markers\", \"x\": [-0.19491878384006667], \"y\": [-0.33569346105789266], \"type\": \"scatter\"}]}, {\"data\": [{\"marker\": {\"color\": \"red\", \"size\": 10}, \"mode\": \"markers\", \"x\": [-0.17409412744689715], \"y\": [-0.27488546438983763], \"type\": \"scatter\"}]}, {\"data\": [{\"marker\": {\"color\": \"red\", \"size\": 10}, \"mode\": \"markers\", \"x\": [-0.14993752603082056], \"y\": [-0.21740941274468983], \"type\": \"scatter\"}]}, {\"data\": [{\"marker\": {\"color\": \"red\", \"size\": 10}, \"mode\": \"markers\", \"x\": [-0.12244897959183677], \"y\": [-0.16326530612244905], \"type\": \"scatter\"}]}, {\"data\": [{\"marker\": {\"color\": \"red\", \"size\": 10}, \"mode\": \"markers\", \"x\": [-0.09162848812994595], \"y\": [-0.1124531445231155], \"type\": \"scatter\"}]}, {\"data\": [{\"marker\": {\"color\": \"red\", \"size\": 10}, \"mode\": \"markers\", \"x\": [-0.057476051645147914], \"y\": [-0.06497292794668895], \"type\": \"scatter\"}]}, {\"data\": [{\"marker\": {\"color\": \"red\", \"size\": 10}, \"mode\": \"markers\", \"x\": [-0.019991670137442755], \"y\": [-0.020824656393169536], \"type\": \"scatter\"}]}, {\"data\": [{\"marker\": {\"color\": \"red\", \"size\": 10}, \"mode\": \"markers\", \"x\": [0.020824656393169536], \"y\": [0.019991670137442755], \"type\": \"scatter\"}]}, {\"data\": [{\"marker\": {\"color\": \"red\", \"size\": 10}, \"mode\": \"markers\", \"x\": [0.06497292794668871], \"y\": [0.05747605164514772], \"type\": \"scatter\"}]}, {\"data\": [{\"marker\": {\"color\": \"red\", \"size\": 10}, \"mode\": \"markers\", \"x\": [0.11245314452311524], \"y\": [0.09162848812994577], \"type\": \"scatter\"}]}, {\"data\": [{\"marker\": {\"color\": \"red\", \"size\": 10}, \"mode\": \"markers\", \"x\": [0.16326530612244888], \"y\": [0.12244897959183669], \"type\": \"scatter\"}]}, {\"data\": [{\"marker\": {\"color\": \"red\", \"size\": 10}, \"mode\": \"markers\", \"x\": [0.2174094127446897], \"y\": [0.14993752603082047], \"type\": \"scatter\"}]}, {\"data\": [{\"marker\": {\"color\": \"red\", \"size\": 10}, \"mode\": \"markers\", \"x\": [0.2748854643898373], \"y\": [0.174094127446897], \"type\": \"scatter\"}]}, {\"data\": [{\"marker\": {\"color\": \"red\", \"size\": 10}, \"mode\": \"markers\", \"x\": [0.33569346105789233], \"y\": [0.19491878384006656], \"type\": \"scatter\"}]}, {\"data\": [{\"marker\": {\"color\": \"red\", \"size\": 10}, \"mode\": \"markers\", \"x\": [0.3998334027488545], \"y\": [0.21241149521032898], \"type\": \"scatter\"}]}, {\"data\": [{\"marker\": {\"color\": \"red\", \"size\": 10}, \"mode\": \"markers\", \"x\": [0.46730528946272376], \"y\": [0.22657226155768428], \"type\": \"scatter\"}]}, {\"data\": [{\"marker\": {\"color\": \"red\", \"size\": 10}, \"mode\": \"markers\", \"x\": [0.5381091211995002], \"y\": [0.23740108288213244], \"type\": \"scatter\"}]}, {\"data\": [{\"marker\": {\"color\": \"red\", \"size\": 10}, \"mode\": \"markers\", \"x\": [0.6122448979591834], \"y\": [0.24489795918367344], \"type\": \"scatter\"}]}, {\"data\": [{\"marker\": {\"color\": \"red\", \"size\": 10}, \"mode\": \"markers\", \"x\": [0.689712619741774], \"y\": [0.24906289046230737], \"type\": \"scatter\"}]}, {\"data\": [{\"marker\": {\"color\": \"red\", \"size\": 10}, \"mode\": \"markers\", \"x\": [0.7705122865472718], \"y\": [0.24989587671803415], \"type\": \"scatter\"}]}, {\"data\": [{\"marker\": {\"color\": \"red\", \"size\": 10}, \"mode\": \"markers\", \"x\": [0.8546438983756767], \"y\": [0.24739691795085383], \"type\": \"scatter\"}]}, {\"data\": [{\"marker\": {\"color\": \"red\", \"size\": 10}, \"mode\": \"markers\", \"x\": [0.9421074552269882], \"y\": [0.2415660141607664], \"type\": \"scatter\"}]}, {\"data\": [{\"marker\": {\"color\": \"red\", \"size\": 10}, \"mode\": \"markers\", \"x\": [1.0329029571012074], \"y\": [0.23240316534777183], \"type\": \"scatter\"}]}, {\"data\": [{\"marker\": {\"color\": \"red\", \"size\": 10}, \"mode\": \"markers\", \"x\": [1.1270304039983337], \"y\": [0.2199083715118701], \"type\": \"scatter\"}]}, {\"data\": [{\"marker\": {\"color\": \"red\", \"size\": 10}, \"mode\": \"markers\", \"x\": [1.2244897959183672], \"y\": [0.20408163265306123], \"type\": \"scatter\"}]}, {\"data\": [{\"marker\": {\"color\": \"red\", \"size\": 10}, \"mode\": \"markers\", \"x\": [1.3252811328613077], \"y\": [0.1849229487713453], \"type\": \"scatter\"}]}, {\"data\": [{\"marker\": {\"color\": \"red\", \"size\": 10}, \"mode\": \"markers\", \"x\": [1.4294044148271547], \"y\": [0.16243231986672235], \"type\": \"scatter\"}]}, {\"data\": [{\"marker\": {\"color\": \"red\", \"size\": 10}, \"mode\": \"markers\", \"x\": [1.5368596418159095], \"y\": [0.13660974593919217], \"type\": \"scatter\"}]}, {\"data\": [{\"marker\": {\"color\": \"red\", \"size\": 10}, \"mode\": \"markers\", \"x\": [1.6476468138275715], \"y\": [0.10745522698875476], \"type\": \"scatter\"}]}, {\"data\": [{\"marker\": {\"color\": \"red\", \"size\": 10}, \"mode\": \"markers\", \"x\": [1.7617659308621405], \"y\": [0.07496876301541033], \"type\": \"scatter\"}]}, {\"data\": [{\"marker\": {\"color\": \"red\", \"size\": 10}, \"mode\": \"markers\", \"x\": [1.8792169929196167], \"y\": [0.03915035401915867], \"type\": \"scatter\"}]}, {\"data\": [{\"marker\": {\"color\": \"red\", \"size\": 10}, \"mode\": \"markers\", \"x\": [2.0], \"y\": [0.0], \"type\": \"scatter\"}]}]);}).then(function(){Plotly.animate('6eb2711f-d0f1-43d7-a39a-e511fc6f9c56');})\n",
       "        });</script>"
      ]
     },
     "metadata": {},
     "output_type": "display_data"
    }
   ],
   "source": [
    "from plotly.offline import init_notebook_mode, iplot\n",
    "from IPython.display import display, HTML\n",
    "import numpy as np\n",
    "\n",
    "init_notebook_mode(connected=True)\n",
    "\n",
    "t=np.linspace(-1,1,100)\n",
    "x=t+t**2\n",
    "y=t-t**2\n",
    "xm=np.min(x)-1.5\n",
    "xM=np.max(x)+1.5\n",
    "ym=np.min(y)-1.5\n",
    "yM=np.max(y)+1.5\n",
    "N=50\n",
    "s=np.linspace(-1,1,N)\n",
    "xx=s+s**2\n",
    "yy=s-s**2\n",
    "\n",
    "data=[dict(x=x, y=y, \n",
    "           mode='lines', \n",
    "           line=dict(width=2, color='blue')\n",
    "          ),\n",
    "      dict(x=x, y=y, \n",
    "           mode='lines', \n",
    "           line=dict(width=2, color='blue')\n",
    "          )\n",
    "    ]\n",
    "\n",
    "layout=dict(xaxis=dict(range=[xm, xM], autorange=False, zeroline=False),\n",
    "            yaxis=dict(range=[ym, yM], autorange=False, zeroline=False),\n",
    "            title='Kinematic Generation of a Planar Curve', hovermode='closest',\n",
    "            updatemenus= [{'type': 'buttons',\n",
    "                           'buttons': [{'label': 'Play',\n",
    "                                        'method': 'animate',\n",
    "                                        'args': [None]}]}])\n",
    "\n",
    "frames=[dict(data=[dict(x=[xx[k]], \n",
    "                        y=[yy[k]], \n",
    "                        mode='markers', \n",
    "                        marker=dict(color='red', size=10)\n",
    "                        )\n",
    "                  ]) for k in range(N)]    \n",
    "\n",
    "\n",
    "figure1=dict(data=data, layout=layout, frames=frames)          \n",
    "iplot(figure1)\n",
    "\n",
    "#py.icreate_animations(figure, filename='animation_test'+str(time.time()))"
   ]
  },
  {
   "cell_type": "code",
   "execution_count": 70,
   "metadata": {},
   "outputs": [],
   "source": []
  },
  {
   "cell_type": "code",
   "execution_count": null,
   "metadata": {},
   "outputs": [],
   "source": []
  }
 ],
 "metadata": {
  "kernelspec": {
   "display_name": "Python 3",
   "language": "python",
   "name": "python3"
  },
  "language_info": {
   "codemirror_mode": {
    "name": "ipython",
    "version": 3
   },
   "file_extension": ".py",
   "mimetype": "text/x-python",
   "name": "python",
   "nbconvert_exporter": "python",
   "pygments_lexer": "ipython3",
   "version": "3.6.5"
  }
 },
 "nbformat": 4,
 "nbformat_minor": 2
}
