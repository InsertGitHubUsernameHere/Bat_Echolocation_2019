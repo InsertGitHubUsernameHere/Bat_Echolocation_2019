{
 "cells": [
  {
   "cell_type": "code",
   "execution_count": 30,
   "metadata": {},
   "outputs": [],
   "source": [
    "import os\n",
    "import shutil\n",
    "import zipfile\n",
    "\n",
    "def makezip(indir, outdir):\n",
    "    \n",
    "    # Make appropriate directories if possible\n",
    "    outdir += '/buildazip'\n",
    "    try:\n",
    "        os.makedirs(outdir)\n",
    "    except:\n",
    "        pass\n",
    "    try:\n",
    "        os.mkdir(outdir + '/abnormal')\n",
    "        os.mkdir(outdir + '/echolocation')\n",
    "    except:\n",
    "        pass\n",
    "    \n",
    "    # Get all files in directory\n",
    "    onlyfiles = os.listdir(indir)\n",
    "    \n",
    "    # Organize files into echolocation or abnormal\n",
    "    for file in onlyfiles:\n",
    "        f = file\n",
    "        file = indir + '/' + file\n",
    "        if f.startswith('a_') :\n",
    "            os.rename(file, os.path.join(outdir, 'abnormal', f))\n",
    "        elif f.startswith('e_') :\n",
    "            os.rename(file, os.path.join(outdir, 'echolocation', f))\n",
    "\n",
    "    # Make zip and load into memory\n",
    "    shutil.make_archive(outdir + '/results', 'zip', outdir)\n",
    "    z = open(outdir + '/results.zip', 'rb')\n",
    "    m = z.read()\n",
    "    z.close()\n",
    "    \n",
    "    # Delete everything\n",
    "    shutil.rmtree(outdir)\n",
    "    shutil.rmtree(indir)\n",
    "    \n",
    "    return m"
   ]
  },
  {
   "cell_type": "code",
   "execution_count": 31,
   "metadata": {},
   "outputs": [
    {
     "name": "stdout",
     "output_type": "stream",
     "text": [
      "b\"PK\\x03\\x04\\x14\\x00\\x00\\x00\\x00\\x00\\xcd\\xb6\\x84N\\x00\\x00\\x00\\x00\\x00\\x00\\x00\\x00\\x00\\x00\\x00\\x00\\t\\x00\\x00\\x00abnormal/PK\\x03\\x04\\x14\\x00\\x00\\x00\\x00\\x00\\xcd\\xb6\\x84N\\x00\\x00\\x00\\x00\\x00\\x00\\x00\\x00\\x00\\x00\\x00\\x00\\r\\x00\\x00\\x00echolocation/PK\\x03\\x04\\x14\\x00\\x00\\x00\\x08\\x00\\xd3\\xb6\\x84N\\xda-c\\x97.\\x00\\x00\\x00R\\x00\\x00\\x00\\x0b\\x00\\x00\\x00results.zip\\x0b\\xf0ff\\x11a\\x00\\x81\\xb3\\xdbZ\\xfc\\x18\\x90\\x00'\\x10'&\\xe5\\xe5\\x17\\xe5&\\xe6\\xe8\\x07\\xe0T\\xc6\\x0b\\xc4\\xa9\\xc9\\x19\\xf99\\xf9\\xc9\\x89%\\x99\\xf9y\\xfa\\x00PK\\x01\\x02\\x14\\x00\\x14\\x00\\x00\\x00\\x00\\x00\\xcd\\xb6\\x84N\\x00\\x00\\x00\\x00\\x00\\x00\\x00\\x00\\x00\\x00\\x00\\x00\\t\\x00\\x00\\x00\\x00\\x00\\x00\\x00\\x00\\x00\\x10\\x00\\xffA\\x00\\x00\\x00\\x00abnormal/PK\\x01\\x02\\x14\\x00\\x14\\x00\\x00\\x00\\x00\\x00\\xcd\\xb6\\x84N\\x00\\x00\\x00\\x00\\x00\\x00\\x00\\x00\\x00\\x00\\x00\\x00\\r\\x00\\x00\\x00\\x00\\x00\\x00\\x00\\x00\\x00\\x10\\x00\\xffA'\\x00\\x00\\x00echolocation/PK\\x01\\x02\\x14\\x00\\x14\\x00\\x00\\x00\\x08\\x00\\xd3\\xb6\\x84N\\xda-c\\x97.\\x00\\x00\\x00R\\x00\\x00\\x00\\x0b\\x00\\x00\\x00\\x00\\x00\\x00\\x00\\x00\\x00\\x00\\x00\\xb6\\x81R\\x00\\x00\\x00results.zipPK\\x05\\x06\\x00\\x00\\x00\\x00\\x03\\x00\\x03\\x00\\xab\\x00\\x00\\x00\\xa9\\x00\\x00\\x00\\x00\\x00\"\n"
     ]
    }
   ],
   "source": [
    "cwd = 'zip_test/test_images'\n",
    "print(makezip(cwd, 'zip_test/'))"
   ]
  },
  {
   "cell_type": "code",
   "execution_count": null,
   "metadata": {},
   "outputs": [],
   "source": [
    "# Generate files with appropriate prefixes\n",
    "\n",
    "import random\n",
    "\n",
    "cwd = 'zip_test/test_images'\n",
    "for i in range(100):\n",
    "    setting = random.randint(0, 1)\n",
    "    setting = 'e_' if setting == 1 else 'a_'\n",
    "    f = open(cwd + '/' + setting + str(i), 'w+')"
   ]
  }
 ],
 "metadata": {
  "kernelspec": {
   "display_name": "Python 3",
   "language": "python",
   "name": "python3"
  },
  "language_info": {
   "codemirror_mode": {
    "name": "ipython",
    "version": 3
   },
   "file_extension": ".py",
   "mimetype": "text/x-python",
   "name": "python",
   "nbconvert_exporter": "python",
   "pygments_lexer": "ipython3",
   "version": "3.6.5"
  }
 },
 "nbformat": 4,
 "nbformat_minor": 2
}
