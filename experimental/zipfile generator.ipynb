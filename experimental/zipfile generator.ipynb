{
 "cells": [
  {
   "cell_type": "code",
   "execution_count": null,
   "metadata": {},
   "outputs": [],
   "source": [
    "def makezip(abnormal, echolocation, outdir):\n",
    "    outdir += '/buildazip'\n",
    "    try {\n",
    "        makedirs(outdir)\n",
    "    }\n",
    "    \n",
    "    mkdir(outdir + '/abnormal')\n",
    "    mkdir(outdir + '/echolocation')\n",
    "    \n",
    "    for file in abnormal:\n",
    "        "
   ]
  }
 ],
 "metadata": {
  "kernelspec": {
   "display_name": "Python 3",
   "language": "python",
   "name": "python3"
  },
  "language_info": {
   "codemirror_mode": {
    "name": "ipython",
    "version": 3
   },
   "file_extension": ".py",
   "mimetype": "text/x-python",
   "name": "python",
   "nbconvert_exporter": "python",
   "pygments_lexer": "ipython3",
   "version": "3.6.5"
  }
 },
 "nbformat": 4,
 "nbformat_minor": 2
}
